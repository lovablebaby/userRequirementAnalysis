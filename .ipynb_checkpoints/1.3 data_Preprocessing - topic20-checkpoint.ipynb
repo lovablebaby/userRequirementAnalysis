{
 "cells": [
  {
   "cell_type": "markdown",
   "metadata": {},
   "source": [
    "# Data Proprecessing + Analysis\n",
    "---\n",
    "텍스트 데이터들을 전처리 하고 필요한 분석들을 함께 진행합니다."
   ]
  },
  {
   "cell_type": "markdown",
   "metadata": {},
   "source": [
    "- 배틀넷\n",
    "   - 시간 데이터 전처리\n",
    "   - 공지 글 삭제\n",
    "   - 중복 데이터 전처리\n",
    "   - 헤비유저 파악\n",
    "   \n",
    "  \n",
    "- 인벤\n",
    "   - 시간 데이터 전처리\n",
    "   - 공지 글 삭제\n",
    "   - contents컬럼의 NaN 제거\n",
    "   - 헤비유저 파악\n",
    "   \n",
    "   \n",
    "- 배틀넷+인벤 불용어 전처리"
   ]
  },
  {
   "cell_type": "markdown",
   "metadata": {},
   "source": [
    "## 1. 라이브러리 로딩"
   ]
  },
  {
   "cell_type": "code",
   "execution_count": 1,
   "metadata": {
    "collapsed": true
   },
   "outputs": [],
   "source": [
    "## 라이브러리 로딩\n",
    "\n",
    "import pandas as pd # 판다스 \n",
    "import numpy as np # 넘파이\n",
    "import glob # 파일 여러개 불러올 때\n",
    "import time, datetime\n",
    "from datetime import datetime\n",
    "\n",
    "import re # 정규표현식\n",
    "import csv # 파일로 저장하기 위한 툴\n",
    "\n",
    "import ast # Abstrac Syntex Tree - 스트링 처리된 리스트를 리스트로 다시 리턴할때"
   ]
  },
  {
   "cell_type": "code",
   "execution_count": 68,
   "metadata": {
    "collapsed": true
   },
   "outputs": [],
   "source": [
    "from tqdm import tqdm, trange\n",
    "from tqdm import tqdm_notebook\n",
    "from time import sleep"
   ]
  },
  {
   "cell_type": "markdown",
   "metadata": {},
   "source": [
    "## 2. 데이터 올리기"
   ]
  },
  {
   "cell_type": "markdown",
   "metadata": {},
   "source": [
    "### - 인벤 데이터 올리기"
   ]
  },
  {
   "cell_type": "code",
   "execution_count": 2,
   "metadata": {
    "collapsed": true,
    "scrolled": true
   },
   "outputs": [],
   "source": [
    "# Inven Data \n",
    "\n",
    "df1 = pd.read_csv(\"data/invenData_1~10000.csv\", encoding = 'utf8', header=None, engine='python')\n",
    "df2 = pd.read_csv(\"data/invenData_10001~50000.csv\", encoding='utf8', header=None, engine='python')\n",
    "df3 = pd.read_csv(\"data/invenData_50001~70000.csv\", encoding='utf8', header=None, engine='python')\n",
    "df4 = pd.read_csv(\"data/invenData_70001~85834.csv\", encoding='utf8', header=None, engine='python')\n",
    "df5 = pd.read_csv(\"data/invenData_85835~100000.csv\", encoding='utf8', header=None, engine='python')\n",
    "df6 = pd.read_csv(\"data/invenData_100001~120000.csv\", encoding='utf8', header=None, engine='python')\n",
    "df7 = pd.read_csv(\"data/invenData_120001~140000.csv\", encoding='utf8', header=None, engine='python')\n",
    "df8 = pd.read_csv(\"data/invenData_140001~152823.csv\", encoding='utf8', header=None, engine='python')\n",
    "df9 = pd.read_csv(\"data/invenData_152824~160100.csv\", encoding='utf8', header=None, engine='python')"
   ]
  },
  {
   "cell_type": "code",
   "execution_count": 3,
   "metadata": {
    "collapsed": true
   },
   "outputs": [],
   "source": [
    "# 인벤 데이터 한꺼번에 합침\n",
    "df_inven = pd.concat([df1, df2, df3, df4, df5, df6, df7, df8, df9])"
   ]
  },
  {
   "cell_type": "code",
   "execution_count": 4,
   "metadata": {
    "collapsed": true
   },
   "outputs": [],
   "source": [
    "# 컬럼명 붙이기\n",
    "df_inven.columns = ['link_id', 'timestamp', 'title', 'contents']"
   ]
  },
  {
   "cell_type": "code",
   "execution_count": 6,
   "metadata": {
    "collapsed": true
   },
   "outputs": [],
   "source": [
    "# NaN을 아예 길이없는 스트링으로 전환\n",
    "df_inven['contents'].fillna(\"\", inplace=True)"
   ]
  },
  {
   "cell_type": "code",
   "execution_count": 7,
   "metadata": {
    "collapsed": true
   },
   "outputs": [],
   "source": [
    "## 내용이 너무 짧다. 제목과 내용을 합친다.\n",
    "\n",
    "# 시작 컬럼 포지션을 잡기\n",
    "source_col_loc = df_inven.columns.get_loc('title') \n",
    "\n",
    "# 컬럼 기준으로 제목 + 내용 합치기\n",
    "df_inven['contents_all'] = df_inven.iloc[:,source_col_loc:source_col_loc+2].apply(lambda x: \",\".join(x.astype(str)), axis=1)"
   ]
  },
  {
   "cell_type": "code",
   "execution_count": 8,
   "metadata": {
    "collapsed": true
   },
   "outputs": [],
   "source": [
    "# 인덱스를 리셋시켜서 14만번대가 나오게 하도록 한다.\n",
    "df_inven.reset_index(inplace=True)"
   ]
  },
  {
   "cell_type": "markdown",
   "metadata": {},
   "source": [
    "### - 배틀넷 데이터 올리기"
   ]
  },
  {
   "cell_type": "code",
   "execution_count": 9,
   "metadata": {
    "collapsed": true
   },
   "outputs": [],
   "source": [
    "# 파일 읽기\n",
    "df_battle = pd.read_csv(\"data/battlenetData.csv\", encoding='utf8', header=None, engine='python')"
   ]
  },
  {
   "cell_type": "code",
   "execution_count": 10,
   "metadata": {
    "collapsed": true
   },
   "outputs": [],
   "source": [
    "df_battle.columns = ['link_id', 'user_id', 'timestamp', 'title', 'contents']"
   ]
  },
  {
   "cell_type": "markdown",
   "metadata": {},
   "source": [
    "## 3. 데이터 전처리 - tidydata 만들기"
   ]
  },
  {
   "cell_type": "markdown",
   "metadata": {},
   "source": [
    "### - 배틀넷 \n",
    "---\n",
    "### 시간 데이터 전처리"
   ]
  },
  {
   "cell_type": "code",
   "execution_count": 12,
   "metadata": {
    "collapsed": true
   },
   "outputs": [],
   "source": [
    "## index 1017번째 timestamp가 비어있었음. \n",
    "df_battle = df_battle[df_battle['timestamp'].notnull()]"
   ]
  },
  {
   "cell_type": "code",
   "execution_count": 13,
   "metadata": {
    "collapsed": true,
    "scrolled": false
   },
   "outputs": [],
   "source": [
    "# 글을 드랍하였기 떄문에 인덱스 리셋\n",
    "\n",
    "df_battle.reset_index(inplace=True)"
   ]
  },
  {
   "cell_type": "code",
   "execution_count": 14,
   "metadata": {
    "collapsed": true,
    "scrolled": false
   },
   "outputs": [],
   "source": [
    "# 새로운 데이트타임 형식 만들기 - 스트링으로 들어와서 새로 만들어야 합니다.\n",
    "\n",
    "new_dates = []\n",
    "\n",
    "for i in range(5699):\n",
    "    \n",
    "    years = int(df_battle['timestamp'][i][0:4])\n",
    "    months = int(df_battle['timestamp'][i][5:7])\n",
    "    days = int(df_battle['timestamp'][i][8:10])\n",
    "    hours = int(df_battle['timestamp'][i][11:13]) \n",
    "    minutes = int(df_battle['timestamp'][i][15:17])\n",
    "    \n",
    "    dates = datetime(years, months, days, hours, minutes)\n",
    "    \n",
    "    new_dates.append(dates)"
   ]
  },
  {
   "cell_type": "code",
   "execution_count": 15,
   "metadata": {
    "collapsed": true
   },
   "outputs": [],
   "source": [
    "df_battle[\"new_datetime\"] = new_dates"
   ]
  },
  {
   "cell_type": "code",
   "execution_count": 16,
   "metadata": {
    "collapsed": true
   },
   "outputs": [],
   "source": [
    "df_battle.drop('timestamp',axis=1, inplace=True)"
   ]
  },
  {
   "cell_type": "code",
   "execution_count": 17,
   "metadata": {
    "scrolled": true
   },
   "outputs": [
    {
     "data": {
      "text/html": [
       "<div>\n",
       "<style>\n",
       "    .dataframe thead tr:only-child th {\n",
       "        text-align: right;\n",
       "    }\n",
       "\n",
       "    .dataframe thead th {\n",
       "        text-align: left;\n",
       "    }\n",
       "\n",
       "    .dataframe tbody tr th {\n",
       "        vertical-align: top;\n",
       "    }\n",
       "</style>\n",
       "<table border=\"1\" class=\"dataframe\">\n",
       "  <thead>\n",
       "    <tr style=\"text-align: right;\">\n",
       "      <th></th>\n",
       "      <th>index</th>\n",
       "      <th>link_id</th>\n",
       "      <th>user_id</th>\n",
       "      <th>title</th>\n",
       "      <th>contents</th>\n",
       "      <th>new_datetime</th>\n",
       "    </tr>\n",
       "  </thead>\n",
       "  <tbody>\n",
       "    <tr>\n",
       "      <th>0</th>\n",
       "      <td>0</td>\n",
       "      <td>4564557252</td>\n",
       "      <td>비전력이부조카당</td>\n",
       "      <td>아바투르 유저인데, 하나 건의합니다.</td>\n",
       "      <td>[아바투르 유저인데, 하나 건의합니다.새로 생긴 하나무라 맵...뭐 이것도 맵 자체...</td>\n",
       "      <td>2017-05-06 05:21:00</td>\n",
       "    </tr>\n",
       "    <tr>\n",
       "      <th>1</th>\n",
       "      <td>1</td>\n",
       "      <td>4567016696</td>\n",
       "      <td>네이팜데쓰</td>\n",
       "      <td>매칭 시스템, 아무리 생각해도 문제가 많습니다</td>\n",
       "      <td>[매칭좀 제대로 해주세요.9연패가 말이 되는 처사입니까 며칠전에 16연승했다고 벌을...</td>\n",
       "      <td>2018-09-08 16:53:00</td>\n",
       "    </tr>\n",
       "    <tr>\n",
       "      <th>2</th>\n",
       "      <td>2</td>\n",
       "      <td>4567016695</td>\n",
       "      <td>souse</td>\n",
       "      <td>ㅈ같은 매칭좀 어캐좀 해봐요</td>\n",
       "      <td>[왜 내가 잘해도 ㅈ같이못하는 새키들때문에 게임을 져야하죠? 왜 심지어 못하는새키랑...</td>\n",
       "      <td>2018-09-08 16:22:00</td>\n",
       "    </tr>\n",
       "    <tr>\n",
       "      <th>3</th>\n",
       "      <td>3</td>\n",
       "      <td>4567026707</td>\n",
       "      <td>Best</td>\n",
       "      <td>아나 스킨관련..</td>\n",
       "      <td>[신 스킨 살무사 아나 수면총 색 고정말고.  스킨 색 대로 해주셧으면 좋겠습니다....</td>\n",
       "      <td>2018-09-08 15:13:00</td>\n",
       "    </tr>\n",
       "    <tr>\n",
       "      <th>4</th>\n",
       "      <td>4</td>\n",
       "      <td>4567036673</td>\n",
       "      <td>세월</td>\n",
       "      <td>5인팟 + 승률50%집착매칭 + 밸런스 파괴 = 빠대무간지옥</td>\n",
       "      <td>[승률 50% 만든다고 조합 !@내놓고5인팟은 여전히 솔팟 사이에서 개판치고다니고너...</td>\n",
       "      <td>2018-09-07 13:58:00</td>\n",
       "    </tr>\n",
       "  </tbody>\n",
       "</table>\n",
       "</div>"
      ],
      "text/plain": [
       "   index     link_id   user_id                              title  \\\n",
       "0      0  4564557252  비전력이부조카당               아바투르 유저인데, 하나 건의합니다.   \n",
       "1      1  4567016696     네이팜데쓰          매칭 시스템, 아무리 생각해도 문제가 많습니다   \n",
       "2      2  4567016695     souse                    ㅈ같은 매칭좀 어캐좀 해봐요   \n",
       "3      3  4567026707      Best                          아나 스킨관련..   \n",
       "4      4  4567036673        세월  5인팟 + 승률50%집착매칭 + 밸런스 파괴 = 빠대무간지옥   \n",
       "\n",
       "                                            contents        new_datetime  \n",
       "0  [아바투르 유저인데, 하나 건의합니다.새로 생긴 하나무라 맵...뭐 이것도 맵 자체... 2017-05-06 05:21:00  \n",
       "1  [매칭좀 제대로 해주세요.9연패가 말이 되는 처사입니까 며칠전에 16연승했다고 벌을... 2018-09-08 16:53:00  \n",
       "2  [왜 내가 잘해도 ㅈ같이못하는 새키들때문에 게임을 져야하죠? 왜 심지어 못하는새키랑... 2018-09-08 16:22:00  \n",
       "3  [신 스킨 살무사 아나 수면총 색 고정말고.  스킨 색 대로 해주셧으면 좋겠습니다.... 2018-09-08 15:13:00  \n",
       "4  [승률 50% 만든다고 조합 !@내놓고5인팟은 여전히 솔팟 사이에서 개판치고다니고너... 2018-09-07 13:58:00  "
      ]
     },
     "execution_count": 17,
     "metadata": {},
     "output_type": "execute_result"
    }
   ],
   "source": [
    "df_battle.head()"
   ]
  },
  {
   "cell_type": "markdown",
   "metadata": {},
   "source": [
    "### - 그 외 중복 데이터 처리하기"
   ]
  },
  {
   "cell_type": "code",
   "execution_count": 18,
   "metadata": {
    "collapsed": true
   },
   "outputs": [],
   "source": [
    "# 블리자드 사에서 올린 공지는 제외\n",
    "\n",
    "df_battle = df_battle[df_battle.user_id != \"Blizzard Entertainment\"]"
   ]
  },
  {
   "cell_type": "code",
   "execution_count": 19,
   "metadata": {
    "collapsed": true,
    "scrolled": true
   },
   "outputs": [],
   "source": [
    "# 글 완전 중복은 일단 제거합니다\n",
    "\n",
    "df_battle['contents'].drop_duplicates(keep='first', inplace = True)"
   ]
  },
  {
   "cell_type": "code",
   "execution_count": 20,
   "metadata": {
    "collapsed": true,
    "scrolled": true
   },
   "outputs": [],
   "source": [
    "# 헤비유저 파악 혹은 글 연달아 올린 사람 파악하기\n",
    "\n",
    "user_list = df_battle['user_id'].unique()\n",
    "\n",
    "for uid in user_list[:15]:\n",
    "    dfuid = df_battle[df_battle['user_id']==uid]    \n",
    "\n",
    "# 전처리 되도록이면 판다스로 하기. 유저 아이디 중복을 찾은다음에. 시간 차이가 몇 안나는 것들은 빼기(몇 분 이상 차이나면 없애는 방향으로)"
   ]
  },
  {
   "cell_type": "code",
   "execution_count": 21,
   "metadata": {},
   "outputs": [
    {
     "name": "stdout",
     "output_type": "stream",
     "text": [
      "['비전력이부조카당' '네이팜데쓰' 'souse' 'Best' '세월' 'Ditto' 'JELAWAT' '요우몽' '파워디지몬'\n",
      " '인생이지겨워']\n"
     ]
    }
   ],
   "source": [
    "# 헤비 유저(빅마우스)들 (상위 10명)\n",
    "print(user_list[0:10])"
   ]
  },
  {
   "cell_type": "code",
   "execution_count": 23,
   "metadata": {},
   "outputs": [
    {
     "data": {
      "text/plain": [
       "177"
      ]
     },
     "execution_count": 23,
     "metadata": {},
     "output_type": "execute_result"
    }
   ],
   "source": [
    "## 글 많이 쓴사람 : 요XX\n",
    "len(df_battle[df_battle['user_id']=='요우몽'])"
   ]
  },
  {
   "cell_type": "code",
   "execution_count": 27,
   "metadata": {
    "scrolled": false
   },
   "outputs": [
    {
     "name": "stdout",
     "output_type": "stream",
     "text": [
      "     index     link_id user_id              title  \\\n",
      "109    109  4566866705     요우몽  화메 궁쿨 책정부터 잘못되어있음   \n",
      "\n",
      "                                              contents        new_datetime  \n",
      "109  [성스러운징벌이 100초 붉은가호가 1분인데 @%*!!# 성능 따져봐도 당연 붉은가... 2018-08-30 04:10:00  \n",
      "     index     link_id user_id         title  \\\n",
      "189    189  4566857028   파워디지몬  HOTS 영웅리그 건의   \n",
      "\n",
      "                                              contents        new_datetime  \n",
      "189  [HOTS는 이전부터 영웅리그에 대한 문제가 많았습니다.크게 정리하자면 3가지가 있... 2018-08-21 06:01:00  \n"
     ]
    }
   ],
   "source": [
    "## 위에서 글을 많이 쓴 사람들 중에서 시간차가 거의 나지 않고 + 거의 같은 내용의 글 인덱스를 찾습니다.\n",
    "\n",
    "print(df_battle[df_battle['link_id']==4566866705])\n",
    "print(df_battle[df_battle['link_id']==4566857028])"
   ]
  },
  {
   "cell_type": "code",
   "execution_count": 28,
   "metadata": {
    "collapsed": true,
    "scrolled": true
   },
   "outputs": [],
   "source": [
    "# 위에서 나온 결과를 기준으로 판단하여 중복 행 몇개를 삭제한다. - 뒷 인덱스를 삭제합니다. 새로 쓴 글이 의사를 더 잘 반영한다고 기준을 둠\n",
    "\n",
    "df_battle.drop([189],inplace=True)\n",
    "df_battle.drop([109],inplace=True)"
   ]
  },
  {
   "cell_type": "code",
   "execution_count": 29,
   "metadata": {
    "collapsed": true
   },
   "outputs": [],
   "source": [
    "df_battle.reset_index(inplace=True)"
   ]
  },
  {
   "cell_type": "code",
   "execution_count": 31,
   "metadata": {
    "collapsed": true
   },
   "outputs": [],
   "source": [
    "## 내용이 너무 짧다. 제목과 내용을 합칩니다.\n",
    "\n",
    "# 시작 컬럼 포지션을 잡기\n",
    "source_col_loc = df_battle.columns.get_loc('title') \n",
    "\n",
    "# 컬럼 기준으로 제목 + 내용 합치기\n",
    "df_battle['contents_all'] = df_battle.iloc[:,source_col_loc:source_col_loc+2].apply(lambda x: \",\".join(x.astype(str)), axis=1)"
   ]
  },
  {
   "cell_type": "code",
   "execution_count": 32,
   "metadata": {
    "scrolled": true
   },
   "outputs": [
    {
     "data": {
      "text/html": [
       "<div>\n",
       "<style>\n",
       "    .dataframe thead tr:only-child th {\n",
       "        text-align: right;\n",
       "    }\n",
       "\n",
       "    .dataframe thead th {\n",
       "        text-align: left;\n",
       "    }\n",
       "\n",
       "    .dataframe tbody tr th {\n",
       "        vertical-align: top;\n",
       "    }\n",
       "</style>\n",
       "<table border=\"1\" class=\"dataframe\">\n",
       "  <thead>\n",
       "    <tr style=\"text-align: right;\">\n",
       "      <th></th>\n",
       "      <th>level_0</th>\n",
       "      <th>index</th>\n",
       "      <th>link_id</th>\n",
       "      <th>user_id</th>\n",
       "      <th>title</th>\n",
       "      <th>contents</th>\n",
       "      <th>new_datetime</th>\n",
       "      <th>contents_all</th>\n",
       "    </tr>\n",
       "  </thead>\n",
       "  <tbody>\n",
       "    <tr>\n",
       "      <th>0</th>\n",
       "      <td>0</td>\n",
       "      <td>0</td>\n",
       "      <td>4564557252</td>\n",
       "      <td>비전력이부조카당</td>\n",
       "      <td>아바투르 유저인데, 하나 건의합니다.</td>\n",
       "      <td>[아바투르 유저인데, 하나 건의합니다.새로 생긴 하나무라 맵...뭐 이것도 맵 자체...</td>\n",
       "      <td>2017-05-06 05:21:00</td>\n",
       "      <td>아바투르 유저인데, 하나 건의합니다.,[아바투르 유저인데, 하나 건의합니다.새로 생...</td>\n",
       "    </tr>\n",
       "    <tr>\n",
       "      <th>1</th>\n",
       "      <td>1</td>\n",
       "      <td>1</td>\n",
       "      <td>4567016696</td>\n",
       "      <td>네이팜데쓰</td>\n",
       "      <td>매칭 시스템, 아무리 생각해도 문제가 많습니다</td>\n",
       "      <td>[매칭좀 제대로 해주세요.9연패가 말이 되는 처사입니까 며칠전에 16연승했다고 벌을...</td>\n",
       "      <td>2018-09-08 16:53:00</td>\n",
       "      <td>매칭 시스템, 아무리 생각해도 문제가 많습니다,[매칭좀 제대로 해주세요.9연패가 말...</td>\n",
       "    </tr>\n",
       "    <tr>\n",
       "      <th>2</th>\n",
       "      <td>2</td>\n",
       "      <td>2</td>\n",
       "      <td>4567016695</td>\n",
       "      <td>souse</td>\n",
       "      <td>ㅈ같은 매칭좀 어캐좀 해봐요</td>\n",
       "      <td>[왜 내가 잘해도 ㅈ같이못하는 새키들때문에 게임을 져야하죠? 왜 심지어 못하는새키랑...</td>\n",
       "      <td>2018-09-08 16:22:00</td>\n",
       "      <td>ㅈ같은 매칭좀 어캐좀 해봐요,[왜 내가 잘해도 ㅈ같이못하는 새키들때문에 게임을 져야...</td>\n",
       "    </tr>\n",
       "    <tr>\n",
       "      <th>3</th>\n",
       "      <td>3</td>\n",
       "      <td>3</td>\n",
       "      <td>4567026707</td>\n",
       "      <td>Best</td>\n",
       "      <td>아나 스킨관련..</td>\n",
       "      <td>[신 스킨 살무사 아나 수면총 색 고정말고.  스킨 색 대로 해주셧으면 좋겠습니다....</td>\n",
       "      <td>2018-09-08 15:13:00</td>\n",
       "      <td>아나 스킨관련..,[신 스킨 살무사 아나 수면총 색 고정말고.  스킨 색 대로 해...</td>\n",
       "    </tr>\n",
       "    <tr>\n",
       "      <th>4</th>\n",
       "      <td>4</td>\n",
       "      <td>4</td>\n",
       "      <td>4567036673</td>\n",
       "      <td>세월</td>\n",
       "      <td>5인팟 + 승률50%집착매칭 + 밸런스 파괴 = 빠대무간지옥</td>\n",
       "      <td>[승률 50% 만든다고 조합 !@내놓고5인팟은 여전히 솔팟 사이에서 개판치고다니고너...</td>\n",
       "      <td>2018-09-07 13:58:00</td>\n",
       "      <td>5인팟 + 승률50%집착매칭 + 밸런스 파괴 = 빠대무간지옥,[승률 50% 만든다고...</td>\n",
       "    </tr>\n",
       "  </tbody>\n",
       "</table>\n",
       "</div>"
      ],
      "text/plain": [
       "   level_0  index     link_id   user_id                              title  \\\n",
       "0        0      0  4564557252  비전력이부조카당               아바투르 유저인데, 하나 건의합니다.   \n",
       "1        1      1  4567016696     네이팜데쓰          매칭 시스템, 아무리 생각해도 문제가 많습니다   \n",
       "2        2      2  4567016695     souse                    ㅈ같은 매칭좀 어캐좀 해봐요   \n",
       "3        3      3  4567026707      Best                          아나 스킨관련..   \n",
       "4        4      4  4567036673        세월  5인팟 + 승률50%집착매칭 + 밸런스 파괴 = 빠대무간지옥   \n",
       "\n",
       "                                            contents        new_datetime  \\\n",
       "0  [아바투르 유저인데, 하나 건의합니다.새로 생긴 하나무라 맵...뭐 이것도 맵 자체... 2017-05-06 05:21:00   \n",
       "1  [매칭좀 제대로 해주세요.9연패가 말이 되는 처사입니까 며칠전에 16연승했다고 벌을... 2018-09-08 16:53:00   \n",
       "2  [왜 내가 잘해도 ㅈ같이못하는 새키들때문에 게임을 져야하죠? 왜 심지어 못하는새키랑... 2018-09-08 16:22:00   \n",
       "3  [신 스킨 살무사 아나 수면총 색 고정말고.  스킨 색 대로 해주셧으면 좋겠습니다.... 2018-09-08 15:13:00   \n",
       "4  [승률 50% 만든다고 조합 !@내놓고5인팟은 여전히 솔팟 사이에서 개판치고다니고너... 2018-09-07 13:58:00   \n",
       "\n",
       "                                        contents_all  \n",
       "0  아바투르 유저인데, 하나 건의합니다.,[아바투르 유저인데, 하나 건의합니다.새로 생...  \n",
       "1  매칭 시스템, 아무리 생각해도 문제가 많습니다,[매칭좀 제대로 해주세요.9연패가 말...  \n",
       "2  ㅈ같은 매칭좀 어캐좀 해봐요,[왜 내가 잘해도 ㅈ같이못하는 새키들때문에 게임을 져야...  \n",
       "3   아나 스킨관련..,[신 스킨 살무사 아나 수면총 색 고정말고.  스킨 색 대로 해...  \n",
       "4  5인팟 + 승률50%집착매칭 + 밸런스 파괴 = 빠대무간지옥,[승률 50% 만든다고...  "
      ]
     },
     "execution_count": 32,
     "metadata": {},
     "output_type": "execute_result"
    }
   ],
   "source": [
    "df_battle.head()"
   ]
  },
  {
   "cell_type": "code",
   "execution_count": 33,
   "metadata": {
    "collapsed": true
   },
   "outputs": [],
   "source": [
    "# 가공이 끝나는 열들은 다 드랍합니다. (유저 아이디는 보안문제로 더이상 사용하지 않습니다.)\n",
    "\n",
    "df_battle.drop('user_id',axis=1, inplace=True)\n",
    "df_battle.drop('title',axis=1, inplace=True)\n",
    "df_battle.drop('contents',axis=1, inplace=True)\n",
    "df_battle.drop('level_0',axis=1, inplace=True)\n",
    "df_battle.drop('index',axis=1, inplace=True)"
   ]
  },
  {
   "cell_type": "code",
   "execution_count": 34,
   "metadata": {
    "collapsed": true
   },
   "outputs": [],
   "source": [
    "# 년도와 월을 따로 만듭니다.\n",
    "df_battle['Year'] = df_battle['new_datetime'].dt.year\n",
    "df_battle['Month'] = df_battle['new_datetime'].dt.month"
   ]
  },
  {
   "cell_type": "code",
   "execution_count": 35,
   "metadata": {},
   "outputs": [
    {
     "data": {
      "text/html": [
       "<div>\n",
       "<style>\n",
       "    .dataframe thead tr:only-child th {\n",
       "        text-align: right;\n",
       "    }\n",
       "\n",
       "    .dataframe thead th {\n",
       "        text-align: left;\n",
       "    }\n",
       "\n",
       "    .dataframe tbody tr th {\n",
       "        vertical-align: top;\n",
       "    }\n",
       "</style>\n",
       "<table border=\"1\" class=\"dataframe\">\n",
       "  <thead>\n",
       "    <tr style=\"text-align: right;\">\n",
       "      <th></th>\n",
       "      <th>link_id</th>\n",
       "      <th>new_datetime</th>\n",
       "      <th>contents_all</th>\n",
       "      <th>Year</th>\n",
       "      <th>Month</th>\n",
       "    </tr>\n",
       "  </thead>\n",
       "  <tbody>\n",
       "    <tr>\n",
       "      <th>0</th>\n",
       "      <td>4564557252</td>\n",
       "      <td>2017-05-06 05:21:00</td>\n",
       "      <td>아바투르 유저인데, 하나 건의합니다.,[아바투르 유저인데, 하나 건의합니다.새로 생...</td>\n",
       "      <td>2017</td>\n",
       "      <td>5</td>\n",
       "    </tr>\n",
       "    <tr>\n",
       "      <th>1</th>\n",
       "      <td>4567016696</td>\n",
       "      <td>2018-09-08 16:53:00</td>\n",
       "      <td>매칭 시스템, 아무리 생각해도 문제가 많습니다,[매칭좀 제대로 해주세요.9연패가 말...</td>\n",
       "      <td>2018</td>\n",
       "      <td>9</td>\n",
       "    </tr>\n",
       "    <tr>\n",
       "      <th>2</th>\n",
       "      <td>4567016695</td>\n",
       "      <td>2018-09-08 16:22:00</td>\n",
       "      <td>ㅈ같은 매칭좀 어캐좀 해봐요,[왜 내가 잘해도 ㅈ같이못하는 새키들때문에 게임을 져야...</td>\n",
       "      <td>2018</td>\n",
       "      <td>9</td>\n",
       "    </tr>\n",
       "    <tr>\n",
       "      <th>3</th>\n",
       "      <td>4567026707</td>\n",
       "      <td>2018-09-08 15:13:00</td>\n",
       "      <td>아나 스킨관련..,[신 스킨 살무사 아나 수면총 색 고정말고.  스킨 색 대로 해...</td>\n",
       "      <td>2018</td>\n",
       "      <td>9</td>\n",
       "    </tr>\n",
       "    <tr>\n",
       "      <th>4</th>\n",
       "      <td>4567036673</td>\n",
       "      <td>2018-09-07 13:58:00</td>\n",
       "      <td>5인팟 + 승률50%집착매칭 + 밸런스 파괴 = 빠대무간지옥,[승률 50% 만든다고...</td>\n",
       "      <td>2018</td>\n",
       "      <td>9</td>\n",
       "    </tr>\n",
       "  </tbody>\n",
       "</table>\n",
       "</div>"
      ],
      "text/plain": [
       "      link_id        new_datetime  \\\n",
       "0  4564557252 2017-05-06 05:21:00   \n",
       "1  4567016696 2018-09-08 16:53:00   \n",
       "2  4567016695 2018-09-08 16:22:00   \n",
       "3  4567026707 2018-09-08 15:13:00   \n",
       "4  4567036673 2018-09-07 13:58:00   \n",
       "\n",
       "                                        contents_all  Year  Month  \n",
       "0  아바투르 유저인데, 하나 건의합니다.,[아바투르 유저인데, 하나 건의합니다.새로 생...  2017      5  \n",
       "1  매칭 시스템, 아무리 생각해도 문제가 많습니다,[매칭좀 제대로 해주세요.9연패가 말...  2018      9  \n",
       "2  ㅈ같은 매칭좀 어캐좀 해봐요,[왜 내가 잘해도 ㅈ같이못하는 새키들때문에 게임을 져야...  2018      9  \n",
       "3   아나 스킨관련..,[신 스킨 살무사 아나 수면총 색 고정말고.  스킨 색 대로 해...  2018      9  \n",
       "4  5인팟 + 승률50%집착매칭 + 밸런스 파괴 = 빠대무간지옥,[승률 50% 만든다고...  2018      9  "
      ]
     },
     "execution_count": 35,
     "metadata": {},
     "output_type": "execute_result"
    }
   ],
   "source": [
    "df_battle.head()"
   ]
  },
  {
   "cell_type": "markdown",
   "metadata": {},
   "source": [
    "### - 인벤\n",
    "---\n",
    "### 시간 데이터 전처리"
   ]
  },
  {
   "cell_type": "code",
   "execution_count": 36,
   "metadata": {
    "scrolled": true
   },
   "outputs": [
    {
     "data": {
      "text/html": [
       "<div>\n",
       "<style>\n",
       "    .dataframe thead tr:only-child th {\n",
       "        text-align: right;\n",
       "    }\n",
       "\n",
       "    .dataframe thead th {\n",
       "        text-align: left;\n",
       "    }\n",
       "\n",
       "    .dataframe tbody tr th {\n",
       "        vertical-align: top;\n",
       "    }\n",
       "</style>\n",
       "<table border=\"1\" class=\"dataframe\">\n",
       "  <thead>\n",
       "    <tr style=\"text-align: right;\">\n",
       "      <th></th>\n",
       "      <th>index</th>\n",
       "      <th>link_id</th>\n",
       "      <th>timestamp</th>\n",
       "      <th>title</th>\n",
       "      <th>contents</th>\n",
       "      <th>contents_all</th>\n",
       "    </tr>\n",
       "  </thead>\n",
       "  <tbody>\n",
       "    <tr>\n",
       "      <th>0</th>\n",
       "      <td>0</td>\n",
       "      <td>1214270</td>\n",
       "      <td>2018-08-30 16:06</td>\n",
       "      <td>댓글 차단 BETA가 적용됩니다.</td>\n",
       "      <td>안녕하세요. 인벤 커뮤니티팀입니다.인벤을 이용하다 보면 때로는 나와 조금 다른 의견...</td>\n",
       "      <td>댓글 차단 BETA가 적용됩니다.,안녕하세요. 인벤 커뮤니티팀입니다.인벤을 이용하다...</td>\n",
       "    </tr>\n",
       "    <tr>\n",
       "      <th>1</th>\n",
       "      <td>1</td>\n",
       "      <td>1214678</td>\n",
       "      <td>2018-09-05 11:56</td>\n",
       "      <td>9월 1주차 히어로즈 인벤 주간 이벤트 당첨자 발표</td>\n",
       "      <td>안녕하세요. 히어로즈 오브 더 스톰 인벤 커뮤니티팀입니다.히어로즈 인벤에서는 매주 ...</td>\n",
       "      <td>9월 1주차 히어로즈 인벤 주간 이벤트 당첨자 발표,안녕하세요. 히어로즈 오브 더 ...</td>\n",
       "    </tr>\n",
       "    <tr>\n",
       "      <th>2</th>\n",
       "      <td>2</td>\n",
       "      <td>1214899</td>\n",
       "      <td>2018-09-06 22:38</td>\n",
       "      <td>[오시공] 김정민,문규리,침착맨,네클릿,옥냥이 메피스토 특별방송!</td>\n",
       "      <td></td>\n",
       "      <td>[오시공] 김정민,문규리,침착맨,네클릿,옥냥이 메피스토 특별방송!,</td>\n",
       "    </tr>\n",
       "    <tr>\n",
       "      <th>3</th>\n",
       "      <td>3</td>\n",
       "      <td>1215180</td>\n",
       "      <td>2018-09-10 23:57</td>\n",
       "      <td>ㅋㅋㅋㅋ 장구벌레</td>\n",
       "      <td></td>\n",
       "      <td>ㅋㅋㅋㅋ 장구벌레,</td>\n",
       "    </tr>\n",
       "    <tr>\n",
       "      <th>4</th>\n",
       "      <td>4</td>\n",
       "      <td>1215179</td>\n",
       "      <td>2018-09-10 23:52</td>\n",
       "      <td>캘타스 뭐가 더 비슷한가요?</td>\n",
       "      <td>타겜이지만 ㅎ.. 고민</td>\n",
       "      <td>캘타스 뭐가 더 비슷한가요?,타겜이지만 ㅎ.. 고민</td>\n",
       "    </tr>\n",
       "  </tbody>\n",
       "</table>\n",
       "</div>"
      ],
      "text/plain": [
       "   index  link_id         timestamp                                 title  \\\n",
       "0      0  1214270  2018-08-30 16:06                    댓글 차단 BETA가 적용됩니다.   \n",
       "1      1  1214678  2018-09-05 11:56          9월 1주차 히어로즈 인벤 주간 이벤트 당첨자 발표   \n",
       "2      2  1214899  2018-09-06 22:38  [오시공] 김정민,문규리,침착맨,네클릿,옥냥이 메피스토 특별방송!   \n",
       "3      3  1215180  2018-09-10 23:57                             ㅋㅋㅋㅋ 장구벌레   \n",
       "4      4  1215179  2018-09-10 23:52                       캘타스 뭐가 더 비슷한가요?   \n",
       "\n",
       "                                            contents  \\\n",
       "0  안녕하세요. 인벤 커뮤니티팀입니다.인벤을 이용하다 보면 때로는 나와 조금 다른 의견...   \n",
       "1  안녕하세요. 히어로즈 오브 더 스톰 인벤 커뮤니티팀입니다.히어로즈 인벤에서는 매주 ...   \n",
       "2                                                      \n",
       "3                                                      \n",
       "4                                       타겜이지만 ㅎ.. 고민   \n",
       "\n",
       "                                        contents_all  \n",
       "0  댓글 차단 BETA가 적용됩니다.,안녕하세요. 인벤 커뮤니티팀입니다.인벤을 이용하다...  \n",
       "1  9월 1주차 히어로즈 인벤 주간 이벤트 당첨자 발표,안녕하세요. 히어로즈 오브 더 ...  \n",
       "2              [오시공] 김정민,문규리,침착맨,네클릿,옥냥이 메피스토 특별방송!,  \n",
       "3                                         ㅋㅋㅋㅋ 장구벌레,  \n",
       "4                       캘타스 뭐가 더 비슷한가요?,타겜이지만 ㅎ.. 고민  "
      ]
     },
     "execution_count": 36,
     "metadata": {},
     "output_type": "execute_result"
    }
   ],
   "source": [
    "df_inven.head()"
   ]
  },
  {
   "cell_type": "code",
   "execution_count": 37,
   "metadata": {
    "collapsed": true
   },
   "outputs": [],
   "source": [
    "# 새로운 데이트타임 형식 만들기\n",
    "\n",
    "inven_new_dates = []\n",
    "\n",
    "for i in range(len(df_inven)):\n",
    " \n",
    "    inven_dates = datetime.strptime(df_inven.iloc[i,2], \"%Y-%m-%d %H:%M\")\n",
    "    inven_new_dates.append(inven_dates)"
   ]
  },
  {
   "cell_type": "code",
   "execution_count": 38,
   "metadata": {
    "collapsed": true
   },
   "outputs": [],
   "source": [
    "# 시간 열을 추가하고 없앱니다.\n",
    "df_inven[\"new_datetime\"] = inven_new_dates\n",
    "df_inven.drop('timestamp',axis=1, inplace=True)"
   ]
  },
  {
   "cell_type": "code",
   "execution_count": 42,
   "metadata": {
    "collapsed": true,
    "scrolled": true
   },
   "outputs": [],
   "source": [
    "# 분석에 필요없어진 열들을 다시 드랍합니다.\n",
    "\n",
    "#df_inven.drop('title',axis=1, inplace=True)\n",
    "#df_inven.drop('contents',axis=1, inplace=True)\n",
    "df_inven.drop('index',axis=1, inplace=True)"
   ]
  },
  {
   "cell_type": "code",
   "execution_count": 43,
   "metadata": {
    "scrolled": true
   },
   "outputs": [
    {
     "data": {
      "text/html": [
       "<div>\n",
       "<style>\n",
       "    .dataframe thead tr:only-child th {\n",
       "        text-align: right;\n",
       "    }\n",
       "\n",
       "    .dataframe thead th {\n",
       "        text-align: left;\n",
       "    }\n",
       "\n",
       "    .dataframe tbody tr th {\n",
       "        vertical-align: top;\n",
       "    }\n",
       "</style>\n",
       "<table border=\"1\" class=\"dataframe\">\n",
       "  <thead>\n",
       "    <tr style=\"text-align: right;\">\n",
       "      <th></th>\n",
       "      <th>link_id</th>\n",
       "      <th>contents_all</th>\n",
       "      <th>new_datetime</th>\n",
       "    </tr>\n",
       "  </thead>\n",
       "  <tbody>\n",
       "    <tr>\n",
       "      <th>147578</th>\n",
       "      <td>1030725</td>\n",
       "      <td>와 미친 오늘 진짜 치열하다 ㅋㅋㅋ,5,6 위 매치 진짜 미친듯이 치열하네의외의 꿀...</td>\n",
       "      <td>2017-09-02 19:19:00</td>\n",
       "    </tr>\n",
       "    <tr>\n",
       "      <th>147579</th>\n",
       "      <td>1030724</td>\n",
       "      <td>뭐 안늙어죽으면 불멸자는 맞지만,불멸자들중에서도 조건부로맞아죽어도 살아날수있으니 개...</td>\n",
       "      <td>2017-09-02 19:18:00</td>\n",
       "    </tr>\n",
       "    <tr>\n",
       "      <th>147580</th>\n",
       "      <td>1030723</td>\n",
       "      <td>히오스 n주년 이벤 해서,플레이어들이스킨 부문영웅 부문 창작해서 각 서버별로 상금걸...</td>\n",
       "      <td>2017-09-02 19:16:00</td>\n",
       "    </tr>\n",
       "    <tr>\n",
       "      <th>147581</th>\n",
       "      <td>1030722</td>\n",
       "      <td>Cc에 강한 탱커 생겻으면,Cc 맞으면 체력회복</td>\n",
       "      <td>2017-09-02 19:13:00</td>\n",
       "    </tr>\n",
       "    <tr>\n",
       "      <th>147582</th>\n",
       "      <td>1030721</td>\n",
       "      <td>이겜 영리하다보면 어느구간부터가 잘하는지 의문임,체감상 그마도 몇십유저 빼고 다 고...</td>\n",
       "      <td>2017-09-02 19:13:00</td>\n",
       "    </tr>\n",
       "  </tbody>\n",
       "</table>\n",
       "</div>"
      ],
      "text/plain": [
       "        link_id                                       contents_all  \\\n",
       "147578  1030725  와 미친 오늘 진짜 치열하다 ㅋㅋㅋ,5,6 위 매치 진짜 미친듯이 치열하네의외의 꿀...   \n",
       "147579  1030724  뭐 안늙어죽으면 불멸자는 맞지만,불멸자들중에서도 조건부로맞아죽어도 살아날수있으니 개...   \n",
       "147580  1030723  히오스 n주년 이벤 해서,플레이어들이스킨 부문영웅 부문 창작해서 각 서버별로 상금걸...   \n",
       "147581  1030722                         Cc에 강한 탱커 생겻으면,Cc 맞으면 체력회복   \n",
       "147582  1030721  이겜 영리하다보면 어느구간부터가 잘하는지 의문임,체감상 그마도 몇십유저 빼고 다 고...   \n",
       "\n",
       "              new_datetime  \n",
       "147578 2017-09-02 19:19:00  \n",
       "147579 2017-09-02 19:18:00  \n",
       "147580 2017-09-02 19:16:00  \n",
       "147581 2017-09-02 19:13:00  \n",
       "147582 2017-09-02 19:13:00  "
      ]
     },
     "execution_count": 43,
     "metadata": {},
     "output_type": "execute_result"
    }
   ],
   "source": [
    "df_inven.tail()"
   ]
  },
  {
   "cell_type": "markdown",
   "metadata": {},
   "source": [
    "### 인벤 - 그 외 중복 데이터 처리하기"
   ]
  },
  {
   "cell_type": "code",
   "execution_count": 44,
   "metadata": {
    "scrolled": true
   },
   "outputs": [
    {
     "name": "stdout",
     "output_type": "stream",
     "text": [
      "     link_id                                       contents_all  \\\n",
      "1    1214678  9월 1주차 히어로즈 인벤 주간 이벤트 당첨자 발표,안녕하세요. 히어로즈 오브 더 ...   \n",
      "460  1214678  9월 1주차 히어로즈 인벤 주간 이벤트 당첨자 발표,안녕하세요. 히어로즈 오브 더 ...   \n",
      "\n",
      "           new_datetime  \n",
      "1   2018-09-05 11:56:00  \n",
      "460 2018-09-05 11:56:00   \n",
      " ================================================================================      link_id                                       contents_all  \\\n",
      "0    1214270  댓글 차단 BETA가 적용됩니다.,안녕하세요. 인벤 커뮤니티팀입니다.인벤을 이용하다...   \n",
      "821  1214270  댓글 차단 BETA가 적용됩니다.,안녕하세요. 인벤 커뮤니티팀입니다.인벤을 이용하다...   \n",
      "\n",
      "           new_datetime  \n",
      "0   2018-08-30 16:06:00  \n",
      "821 2018-08-30 16:06:00   \n",
      " ================================================================================       link_id                                       contents_all  \\\n",
      "1390  1213632  8월 3주차 히어로즈 인벤 주간 이벤트 당첨자 발표,안녕하세요. 히어로즈 오브 더 ...   \n",
      "\n",
      "            new_datetime  \n",
      "1390 2018-08-22 16:38:00   \n",
      " ================================================================================      link_id                                       contents_all  \\\n",
      "881  1214199  8월 4주차 히어로즈 인벤 주간 이벤트 당첨자 발표,안녕하세요. 히어로즈 오브 더 ...   \n",
      "\n",
      "           new_datetime  \n",
      "881 2018-08-29 14:47:00   \n",
      " ================================================================================       link_id                                       contents_all  \\\n",
      "1921  1213035  8월 2주차 히어로즈 인벤 주간 이벤트 당첨자 발표,안녕하세요. 히어로즈 오브 더 ...   \n",
      "\n",
      "            new_datetime  \n",
      "1921 2018-08-15 16:14:00   \n",
      " ================================================================================       link_id                                       contents_all  \\\n",
      "2510  1212385  8월 1주차 히어로즈 인벤 주간 이벤트 당첨자 발표,안녕하세요. 히어로즈 오브 더 ...   \n",
      "\n",
      "            new_datetime  \n",
      "2510 2018-08-08 10:48:00   \n",
      " ================================================================================       link_id                                       contents_all  \\\n",
      "3140  1211671  7월 5주차 히어로즈 인벤 주간 이벤트 당첨자 발표,안녕하세요. 히어로즈 오브 더 ...   \n",
      "\n",
      "            new_datetime  \n",
      "3140 2018-08-01 10:59:00   \n",
      " ================================================================================       link_id                                       contents_all  \\\n",
      "3990  1210740  7월 4주차 히어로즈 인벤 주간 이벤트 당첨자 발표,안녕하세요. 히어로즈 오브 더 ...   \n",
      "\n",
      "            new_datetime  \n",
      "3990 2018-07-25 15:41:00   \n",
      " ================================================================================       link_id                                       contents_all  \\\n",
      "4695  1209936  7월 3주차 히어로즈 인벤 주간 이벤트 당첨자 발표,안녕하세요. 히어로즈 오브 더 ...   \n",
      "\n",
      "            new_datetime  \n",
      "4695 2018-07-18 13:02:00   \n",
      " ================================================================================       link_id                                       contents_all  \\\n",
      "5531  1208994  7월 2주차 히어로즈 인벤 주간 이벤트 당첨자 발표,안녕하세요. 히어로즈 오브 더 ...   \n",
      "\n",
      "            new_datetime  \n",
      "5531 2018-07-11 15:05:00   \n",
      " ================================================================================       link_id                                       contents_all  \\\n",
      "6109  1208372  7월 1주차 히어로즈 인벤 주간 이벤트 당첨자 발표,안녕하세요. 히어로즈 오브 더 ...   \n",
      "\n",
      "            new_datetime  \n",
      "6109 2018-07-04 10:10:00   \n",
      " ================================================================================       link_id                                       contents_all  \\\n",
      "6672  1207739  6월 4주차 히어로즈 인벤 주간 이벤트 당첨자 발표,안녕하세요. 히어로즈 오브 더 ...   \n",
      "\n",
      "            new_datetime  \n",
      "6672 2018-06-27 15:01:00   \n",
      " ================================================================================       link_id                                       contents_all  \\\n",
      "7226  1207110  6월 3주차 히어로즈 인벤 주간 이벤트 당첨자 발표,안녕하세요. 히어로즈 오브 더 ...   \n",
      "\n",
      "            new_datetime  \n",
      "7226 2018-06-20 14:08:00   \n",
      " ================================================================================\n"
     ]
    }
   ],
   "source": [
    "print(df_inven[df_inven[\"link_id\"] == 1214678],\"\\n\",\"=\"*80,\n",
    "      df_inven[df_inven[\"link_id\"] == 1214270],\"\\n\",\"=\"*80,\n",
    "      df_inven[df_inven[\"link_id\"] == 1213632],\"\\n\",\"=\"*80,\n",
    "      df_inven[df_inven[\"link_id\"] == 1214199],\"\\n\",\"=\"*80,\n",
    "      df_inven[df_inven[\"link_id\"] == 1213035],\"\\n\",\"=\"*80,\n",
    "      df_inven[df_inven[\"link_id\"] == 1212385],\"\\n\",\"=\"*80,\n",
    "      df_inven[df_inven[\"link_id\"] == 1211671],\"\\n\",\"=\"*80,\n",
    "      df_inven[df_inven[\"link_id\"] == 1210740],\"\\n\",\"=\"*80,\n",
    "      df_inven[df_inven[\"link_id\"] == 1209936],\"\\n\",\"=\"*80,\n",
    "      df_inven[df_inven[\"link_id\"] == 1208994],\"\\n\",\"=\"*80,\n",
    "      df_inven[df_inven[\"link_id\"] == 1208372],\"\\n\",\"=\"*80,\n",
    "      df_inven[df_inven[\"link_id\"] == 1207739],\"\\n\",\"=\"*80,\n",
    "      df_inven[df_inven[\"link_id\"] == 1207110],\"\\n\",\"=\"*80)"
   ]
  },
  {
   "cell_type": "markdown",
   "metadata": {},
   "source": [
    "1, 460 / 0 ,821 / 1390, 881, 1921, 2510, 3140, 3990, 4695, 5531, 6109, 6672, 7226  글들은 커뮤니티 팀에서 올린 것으로 삭제한다.\n",
    "\n",
    "(운영자 아이디로 검색하여 글번호 확인하였음)"
   ]
  },
  {
   "cell_type": "code",
   "execution_count": 46,
   "metadata": {
    "collapsed": true
   },
   "outputs": [],
   "source": [
    "# 운영팀에서 올린 공지는 제외\n",
    "# 아이디를 직접 긁어오지 않았으므로, 웹상에서 직접 링크 아이디를 찾아 제거합니다.\n",
    "\n",
    "df_inven.drop([0],inplace=True)\n",
    "df_inven.drop([1],inplace=True)\n",
    "df_inven.drop([460],inplace=True)\n",
    "df_inven.drop([821],inplace=True)\n",
    "df_inven.drop([881],inplace=True)\n",
    "df_inven.drop([1390],inplace=True)\n",
    "df_inven.drop([1921],inplace=True)\n",
    "df_inven.drop([2510],inplace=True)\n",
    "df_inven.drop([3140],inplace=True)\n",
    "df_inven.drop([3990],inplace=True)\n",
    "df_inven.drop([4695],inplace=True)\n",
    "df_inven.drop([5531],inplace=True)\n",
    "df_inven.drop([6109],inplace=True)\n",
    "df_inven.drop([6672],inplace=True)\n",
    "df_inven.drop([7226],inplace=True)"
   ]
  },
  {
   "cell_type": "code",
   "execution_count": 47,
   "metadata": {
    "collapsed": true
   },
   "outputs": [],
   "source": [
    "df_inven.reset_index(inplace=True)"
   ]
  },
  {
   "cell_type": "code",
   "execution_count": 49,
   "metadata": {
    "collapsed": true
   },
   "outputs": [],
   "source": [
    "df_inven.drop('index',axis=1, inplace=True)"
   ]
  },
  {
   "cell_type": "code",
   "execution_count": 50,
   "metadata": {
    "collapsed": true
   },
   "outputs": [],
   "source": [
    "# inven 컬럼 다시조정\n",
    "\n",
    "df_inven = df_inven[['link_id','new_datetime','contents_all']]"
   ]
  },
  {
   "cell_type": "code",
   "execution_count": 64,
   "metadata": {
    "collapsed": true,
    "scrolled": true
   },
   "outputs": [],
   "source": [
    "# 년도와 월을 따로 만듭니다.\n",
    "\n",
    "df_inven['Year'] = df_inven['new_datetime'].dt.year\n",
    "df_inven['Month'] = df_inven['new_datetime'].dt.month"
   ]
  },
  {
   "cell_type": "code",
   "execution_count": 65,
   "metadata": {
    "scrolled": true
   },
   "outputs": [
    {
     "data": {
      "text/html": [
       "<div>\n",
       "<style>\n",
       "    .dataframe thead tr:only-child th {\n",
       "        text-align: right;\n",
       "    }\n",
       "\n",
       "    .dataframe thead th {\n",
       "        text-align: left;\n",
       "    }\n",
       "\n",
       "    .dataframe tbody tr th {\n",
       "        vertical-align: top;\n",
       "    }\n",
       "</style>\n",
       "<table border=\"1\" class=\"dataframe\">\n",
       "  <thead>\n",
       "    <tr style=\"text-align: right;\">\n",
       "      <th></th>\n",
       "      <th>link_id</th>\n",
       "      <th>new_datetime</th>\n",
       "      <th>contents_all</th>\n",
       "      <th>Year</th>\n",
       "      <th>Month</th>\n",
       "    </tr>\n",
       "  </thead>\n",
       "  <tbody>\n",
       "    <tr>\n",
       "      <th>0</th>\n",
       "      <td>1214899</td>\n",
       "      <td>2018-09-06 22:38:00</td>\n",
       "      <td>오시공  김정민 문규리 침착맨 네클릿 옥냥이 메피스토 특별방송</td>\n",
       "      <td>2018</td>\n",
       "      <td>9</td>\n",
       "    </tr>\n",
       "    <tr>\n",
       "      <th>1</th>\n",
       "      <td>1215180</td>\n",
       "      <td>2018-09-10 23:57:00</td>\n",
       "      <td>ㅋㅋㅋㅋ 장구벌레</td>\n",
       "      <td>2018</td>\n",
       "      <td>9</td>\n",
       "    </tr>\n",
       "    <tr>\n",
       "      <th>2</th>\n",
       "      <td>1215179</td>\n",
       "      <td>2018-09-10 23:52:00</td>\n",
       "      <td>캘타스 뭐가 더 비슷한가요  타겜이지만 ㅎ   고민</td>\n",
       "      <td>2018</td>\n",
       "      <td>9</td>\n",
       "    </tr>\n",
       "    <tr>\n",
       "      <th>3</th>\n",
       "      <td>1215178</td>\n",
       "      <td>2018-09-10 23:52:00</td>\n",
       "      <td>메피 방금사서 해봤는데 너무사기임     궁각만 잘재고 쓰면 못해도 더블킬은 따고들...</td>\n",
       "      <td>2018</td>\n",
       "      <td>9</td>\n",
       "    </tr>\n",
       "    <tr>\n",
       "      <th>4</th>\n",
       "      <td>1215177</td>\n",
       "      <td>2018-09-10 23:50:00</td>\n",
       "      <td>제발 메피는 궁이랑 보호막특 너프 좀   두개가 안되면 궁이라도    궁자체도 최상...</td>\n",
       "      <td>2018</td>\n",
       "      <td>9</td>\n",
       "    </tr>\n",
       "  </tbody>\n",
       "</table>\n",
       "</div>"
      ],
      "text/plain": [
       "   link_id        new_datetime  \\\n",
       "0  1214899 2018-09-06 22:38:00   \n",
       "1  1215180 2018-09-10 23:57:00   \n",
       "2  1215179 2018-09-10 23:52:00   \n",
       "3  1215178 2018-09-10 23:52:00   \n",
       "4  1215177 2018-09-10 23:50:00   \n",
       "\n",
       "                                        contents_all  Year  Month  \n",
       "0               오시공  김정민 문규리 침착맨 네클릿 옥냥이 메피스토 특별방송    2018      9  \n",
       "1                                         ㅋㅋㅋㅋ 장구벌레   2018      9  \n",
       "2                       캘타스 뭐가 더 비슷한가요  타겜이지만 ㅎ   고민  2018      9  \n",
       "3  메피 방금사서 해봤는데 너무사기임     궁각만 잘재고 쓰면 못해도 더블킬은 따고들...  2018      9  \n",
       "4  제발 메피는 궁이랑 보호막특 너프 좀   두개가 안되면 궁이라도    궁자체도 최상...  2018      9  "
      ]
     },
     "execution_count": 65,
     "metadata": {},
     "output_type": "execute_result"
    }
   ],
   "source": [
    "df_inven.head()"
   ]
  },
  {
   "cell_type": "markdown",
   "metadata": {},
   "source": [
    "## 3. 데이터 전처리 - 특수문자 전처리"
   ]
  },
  {
   "cell_type": "code",
   "execution_count": 55,
   "metadata": {
    "collapsed": true
   },
   "outputs": [],
   "source": [
    "# 정규 표현식\n",
    "p_http = re.compile(\"(((http(s?))\\:\\/\\/)?)([0-9a-zA-Z\\-]+\\.)+[a-zA-Z]{2,6}(\\:[0-9]+)?(\\S*)\")\n",
    "p_char = re.compile(\"[^가-힣ㄱ-ㅎㅏ-ㅣa-zA-Z0-9ㅣ ]\")\n",
    "p_tag = re.compile(\"<.+>\")\n",
    "p_brac = re.compile(\"[[\\]]\")"
   ]
  },
  {
   "cell_type": "code",
   "execution_count": 56,
   "metadata": {
    "collapsed": true
   },
   "outputs": [],
   "source": [
    "# 정규 표현식 함수화\n",
    "\n",
    "def patternRemover(doc):\n",
    "    doc = p_http.sub(' ', doc)\n",
    "    doc = p_char.sub(' ', doc)\n",
    "    doc = p_tag.sub(' ', doc)\n",
    "    doc = p_brac.sub(' ', doc)\n",
    "    return doc"
   ]
  },
  {
   "cell_type": "code",
   "execution_count": 58,
   "metadata": {
    "collapsed": true
   },
   "outputs": [],
   "source": [
    "# 배틀넷 - 특수문자 전처리\n",
    "\n",
    "for i in range(len(df_battle[\"contents_all\"])):\n",
    "    df_battle.iloc[i,2] = patternRemover(df_battle.iloc[i,2])"
   ]
  },
  {
   "cell_type": "code",
   "execution_count": 66,
   "metadata": {},
   "outputs": [
    {
     "data": {
      "text/plain": [
       "147568"
      ]
     },
     "execution_count": 66,
     "metadata": {},
     "output_type": "execute_result"
    }
   ],
   "source": [
    "len(df_inven)"
   ]
  },
  {
   "cell_type": "code",
   "execution_count": 70,
   "metadata": {
    "scrolled": true
   },
   "outputs": [
    {
     "data": {
      "application/vnd.jupyter.widget-view+json": {
       "model_id": "bb59f766e69c4d799e0bb5b8a1651bd4"
      }
     },
     "metadata": {},
     "output_type": "display_data"
    },
    {
     "name": "stdout",
     "output_type": "stream",
     "text": [
      "CPU times: user 36min 53s, sys: 1min 28s, total: 38min 22s\n",
      "Wall time: 39min 26s\n"
     ]
    }
   ],
   "source": [
    "# 인벤 - 특수문자 전처리\n",
    "\n",
    "%%time\n",
    "\n",
    "total = tqdm_notebook(range(147568))\n",
    "\n",
    "for i in total:\n",
    "    df_inven.iloc[i,2] = patternRemover(df_inven.iloc[i,2])"
   ]
  },
  {
   "cell_type": "code",
   "execution_count": 73,
   "metadata": {},
   "outputs": [
    {
     "data": {
      "text/plain": [
       "'그래서 이스프레이는 언제나오죠 나오면 바로삼 ㄹㅇ'"
      ]
     },
     "execution_count": 73,
     "metadata": {},
     "output_type": "execute_result"
    }
   ],
   "source": [
    "df_inven.iloc[140000,2]\n",
    "\n",
    "## 초성 나왔음 초성도 제거해야해.."
   ]
  },
  {
   "cell_type": "markdown",
   "metadata": {},
   "source": [
    "### 데이터 합치기"
   ]
  },
  {
   "cell_type": "code",
   "execution_count": 75,
   "metadata": {
    "collapsed": true
   },
   "outputs": [],
   "source": [
    "df_all = pd.concat([df_battle, df_inven])"
   ]
  },
  {
   "cell_type": "code",
   "execution_count": 77,
   "metadata": {
    "collapsed": true
   },
   "outputs": [],
   "source": [
    "df_all.reset_index(inplace=True)"
   ]
  },
  {
   "cell_type": "code",
   "execution_count": 81,
   "metadata": {
    "collapsed": true
   },
   "outputs": [],
   "source": [
    "df_all.drop('index',axis=1, inplace=True)"
   ]
  },
  {
   "cell_type": "code",
   "execution_count": 163,
   "metadata": {
    "collapsed": true
   },
   "outputs": [],
   "source": [
    "df_all.to_csv(\"predata.csv\", encoding='utf-8')"
   ]
  },
  {
   "cell_type": "code",
   "execution_count": 160,
   "metadata": {
    "collapsed": true
   },
   "outputs": [],
   "source": [
    "df_all.drop('tokens_contents', axis=1, inplace=True)"
   ]
  },
  {
   "cell_type": "code",
   "execution_count": 162,
   "metadata": {},
   "outputs": [
    {
     "data": {
      "text/html": [
       "<div>\n",
       "<style>\n",
       "    .dataframe thead tr:only-child th {\n",
       "        text-align: right;\n",
       "    }\n",
       "\n",
       "    .dataframe thead th {\n",
       "        text-align: left;\n",
       "    }\n",
       "\n",
       "    .dataframe tbody tr th {\n",
       "        vertical-align: top;\n",
       "    }\n",
       "</style>\n",
       "<table border=\"1\" class=\"dataframe\">\n",
       "  <thead>\n",
       "    <tr style=\"text-align: right;\">\n",
       "      <th></th>\n",
       "      <th>link_id</th>\n",
       "      <th>new_datetime</th>\n",
       "      <th>contents_all</th>\n",
       "      <th>Year</th>\n",
       "      <th>Month</th>\n",
       "    </tr>\n",
       "  </thead>\n",
       "  <tbody>\n",
       "    <tr>\n",
       "      <th>153203</th>\n",
       "      <td>1030725</td>\n",
       "      <td>2017-09-02 19:19:00</td>\n",
       "      <td>와 미친 오늘 진짜 치열하다 ㅋㅋㅋ 5 6 위 매치 진짜 미친듯이 치열하네의외의 꿀...</td>\n",
       "      <td>2017</td>\n",
       "      <td>9</td>\n",
       "    </tr>\n",
       "    <tr>\n",
       "      <th>153204</th>\n",
       "      <td>1030724</td>\n",
       "      <td>2017-09-02 19:18:00</td>\n",
       "      <td>뭐 안늙어죽으면 불멸자는 맞지만 불멸자들중에서도 조건부로맞아죽어도 살아날수있으니 개...</td>\n",
       "      <td>2017</td>\n",
       "      <td>9</td>\n",
       "    </tr>\n",
       "    <tr>\n",
       "      <th>153205</th>\n",
       "      <td>1030723</td>\n",
       "      <td>2017-09-02 19:16:00</td>\n",
       "      <td>히오스 n주년 이벤 해서 플레이어들이스킨 부문영웅 부문 창작해서 각 서버별로 상금걸...</td>\n",
       "      <td>2017</td>\n",
       "      <td>9</td>\n",
       "    </tr>\n",
       "    <tr>\n",
       "      <th>153206</th>\n",
       "      <td>1030722</td>\n",
       "      <td>2017-09-02 19:13:00</td>\n",
       "      <td>Cc에 강한 탱커 생겻으면 Cc 맞으면 체력회복</td>\n",
       "      <td>2017</td>\n",
       "      <td>9</td>\n",
       "    </tr>\n",
       "    <tr>\n",
       "      <th>153207</th>\n",
       "      <td>1030721</td>\n",
       "      <td>2017-09-02 19:13:00</td>\n",
       "      <td>이겜 영리하다보면 어느구간부터가 잘하는지 의문임 체감상 그마도 몇십유저 빼고 다 고...</td>\n",
       "      <td>2017</td>\n",
       "      <td>9</td>\n",
       "    </tr>\n",
       "  </tbody>\n",
       "</table>\n",
       "</div>"
      ],
      "text/plain": [
       "        link_id        new_datetime  \\\n",
       "153203  1030725 2017-09-02 19:19:00   \n",
       "153204  1030724 2017-09-02 19:18:00   \n",
       "153205  1030723 2017-09-02 19:16:00   \n",
       "153206  1030722 2017-09-02 19:13:00   \n",
       "153207  1030721 2017-09-02 19:13:00   \n",
       "\n",
       "                                             contents_all  Year  Month  \n",
       "153203  와 미친 오늘 진짜 치열하다 ㅋㅋㅋ 5 6 위 매치 진짜 미친듯이 치열하네의외의 꿀...  2017      9  \n",
       "153204  뭐 안늙어죽으면 불멸자는 맞지만 불멸자들중에서도 조건부로맞아죽어도 살아날수있으니 개...  2017      9  \n",
       "153205  히오스 n주년 이벤 해서 플레이어들이스킨 부문영웅 부문 창작해서 각 서버별로 상금걸...  2017      9  \n",
       "153206                         Cc에 강한 탱커 생겻으면 Cc 맞으면 체력회복  2017      9  \n",
       "153207  이겜 영리하다보면 어느구간부터가 잘하는지 의문임 체감상 그마도 몇십유저 빼고 다 고...  2017      9  "
      ]
     },
     "execution_count": 162,
     "metadata": {},
     "output_type": "execute_result"
    }
   ],
   "source": [
    "df_all.tail()"
   ]
  },
  {
   "cell_type": "markdown",
   "metadata": {},
   "source": [
    "## 4. 모델링 하기\n",
    "---\n",
    "### 모델 새로 라이브러리 로딩하기"
   ]
  },
  {
   "cell_type": "code",
   "execution_count": 84,
   "metadata": {
    "collapsed": true
   },
   "outputs": [],
   "source": [
    "# 토픽 모델링 관련 라이브러리 로딩\n",
    "import gensim \n",
    "import gensim.corpora as corpora\n",
    "from gensim.utils import simple_preprocess\n",
    "from gensim.models import CoherenceModel\n",
    "from gensim.models import LdaMulticore\n",
    "\n",
    "# 시각화 라이브러리\n",
    "from pprint import pprint\n",
    "import pyLDAvis\n",
    "from pyLDAvis import gensim"
   ]
  },
  {
   "cell_type": "code",
   "execution_count": 85,
   "metadata": {
    "collapsed": true
   },
   "outputs": [],
   "source": [
    "# 토크나이징 라이브러리\n",
    "import MeCab\n",
    "m = MeCab.Tagger('-d /usr/local/lib/mecab/dic/mecab-ko-dic')\n",
    "from konlpy.tag import Mecab\n",
    "mecab = Mecab()"
   ]
  },
  {
   "cell_type": "code",
   "execution_count": 86,
   "metadata": {
    "scrolled": false
   },
   "outputs": [
    {
     "name": "stdout",
     "output_type": "stream",
     "text": [
      "[['아바투르', '유저', '하나', '아바투르', '유저', '하나', '하나무라', '이것', '자체', '그게', '목적', '아바투르', '화물', '민폐', '대전', '일반', '등급', '고르지', '아바투르', '제한', '해결', '초갈', '상황', '발생', '이건', '아바투르'], ['매칭', '시스템', '생각', '문제', '매칭', '연패', '처사', '며칠', '연승', '건가요', '팀원', '적군', '플레이어', '매칭', '팀원', '적과', '히어로즈', '오브', '스톰', '캐리', '작용', '게임', '플레이어', '경험', '공유', '때문', '혼자', '성장', '캐리', '개념', '혼자', '딴짓', '팀원', '영향', '이야기', '초보자', '팀원', '게임', '게임', '레이팅', '유저', '공평', '처사', '플레이', '팀원', '때문', '연속', '패배', '실망감', '우리', '생각', '매칭', '승부', '승패', '허탈', '승부', '게임', '승부', '조합', '승패', '결정', '게임', '적군', '아군', '초보', '게임', '중국어', '닉네임', '승패', '게임', '제게', '공정', '세계', '아시아', '유저', '게임', '권리', '서로', '실력', '감탄', '승부', '패배', '아군', '책망', '상대', '실력', '감탄', '게임', '지금', '매칭', '시스템', '문제', '여러분', '시행착오', '믿음', '해결책', '모두', '히오스'], ['매칭', '때문', '게임', '강등전', '매칭', '시스템', '동안', '블리자드', '히오스', '사랑', '요즘', '인성', '파탄', '정도', '지경', '매칭', '밸런스', '시스템', '게임', '욕구', '사랑', '올해'], ['아나', '스킨', '관련', '스킨', '살무사', '아나', '수면', '고정', '스킨', '처음', '스킨', '대로', '평타', '수면', '부분'], ['승률', '집착', '매칭', '밸런스', '파괴', '무간지옥', '승률', '조합', '사이', '개판', '이상', '리메이크', '예전', '병신', '밸런스', '출시', '누가', '게임', '유입', '공산주의', '게임', '바람', '승률', '사람'], ['영웅', '리그', '매칭', '대만', '대만인', '새끼', '매칭', '머저리', '새끼', '건데', '영웅', '리그', '대만인', '새끼'], ['신영웅', '기존', '영웅', '신영웅', '기존', '영웅', '건지', '발리라', '리메이크', '은신', '패치', '영웅', '발리라', '칼질', '겐지', '건가요', '겐지', '동안', '영웅', '리그', '정도', '정도', '짐작', '게임', '운영', '장르', '게임', '동네', '캐릭터', '여긴', '운영', '자분', '겐지', '장인'], ['리메이크', '삭제', '광도', '리메이크', '하나', '리메이크', '블랙하트', '예전', '리메이크', '삭제', '까마귀', '하나', '광산', '양반', '광산', '오브젝트', '싸움', '의미', '때문', '무한', '호박', '하나'], ['히오스', '영웅', '리그', '개선', '이전', '영웅', '리그', '문제', '정리', '가지', '대전', '시점', '배치', '고사', '시작', '시즌', '시작', '시즌', '마지막', '트롤링', '제재', '다이아', '그랜드마스터', '티어', '매칭', '시간', '고질', '문제', '게임', '일반', '게임', '등급', '경우', '도타', '게임', '정보', '부족', '게임', '매칭', '일반', '게임', '내용', '이것', '배치', '경기', '의미', '자체', '겁니다', '시점', '골드', '대인', '배치', '경기', '변동', '등급', '배정', '이번', '패치', '신규', '유저', '최대', '티어', '한도', '패치', '이것', '패치', '생각', '시즌', '동안', '대전', '정도', '다이아몬드', '마스터', '유저', '유저', '신규', '유저', '배치', '때문', '적용', '시즌', '초기', '배치', '승률', '로만', '다이아', '경우', '발생', '그랜드마스터', '인원', '한정', '논외', '아래', '티어', '마스터', '단계', '작업', '유저', '다이아', '레티', '티어', '포진', '급전', '시작', '다음', '시즌', '올해', '분기', '시즌', '대대', '영웅', '리그', '개편', '유저', '티어', '고정', '으로', '리셋', '자신', '실력', '티어', '배정', '게임', '이때', '경기', '히오스', '게임', '영웅', '리그', '트롤', '게임', '승패', '생각', '게임', '허탈감', '경우', '푸념', '피드백', '본사', '피드백', '부서', '공유', '감사', '영문'], ['영웅', '선택', '버그', '영웅', '선택', '시작', '영웅', '시작', '최근']]\n"
     ]
    }
   ],
   "source": [
    "%%time\n",
    "\n",
    "tokens_all = []\n",
    "\n",
    "for i in list(df_all[\"contents_all\"]):\n",
    "    k = mecab.nouns(i)\n",
    "    tokens = []    \n",
    "    for j in range(len(k)):\n",
    "        if len(k[j]) > 1:\n",
    "            tokens.append(k[j])\n",
    "        else:\n",
    "            continue\n",
    "    tokens_all.append(tokens)\n",
    "    \n",
    "print(tokens_all[:10])"
   ]
  },
  {
   "cell_type": "code",
   "execution_count": 87,
   "metadata": {
    "collapsed": true
   },
   "outputs": [],
   "source": [
    "tokens_df = pd.DataFrame({\"tokens\":tokens_all})"
   ]
  },
  {
   "cell_type": "code",
   "execution_count": 88,
   "metadata": {},
   "outputs": [
    {
     "data": {
      "text/plain": [
       "153208"
      ]
     },
     "execution_count": 88,
     "metadata": {},
     "output_type": "execute_result"
    }
   ],
   "source": [
    "len(tokens_df)"
   ]
  },
  {
   "cell_type": "code",
   "execution_count": 94,
   "metadata": {
    "scrolled": true
   },
   "outputs": [
    {
     "data": {
      "application/vnd.jupyter.widget-view+json": {
       "model_id": "3a21e4a2ebb84167b66851f4488faff4"
      }
     },
     "metadata": {},
     "output_type": "display_data"
    }
   ],
   "source": [
    "total = tqdm_notebook(range(153208))\n",
    "\n",
    "unique_list = []\n",
    "\n",
    "for i in total:\n",
    "    unique_a = tokens_df.loc[i][0]\n",
    "    unique_b = set(unique_a)\n",
    "    unique_c = list(unique_b)\n",
    "    unique_list.append(unique_c)"
   ]
  },
  {
   "cell_type": "code",
   "execution_count": 95,
   "metadata": {
    "collapsed": true
   },
   "outputs": [],
   "source": [
    "def remove_stopwords(text):\n",
    "    stops = ['같은', '건가요', '겁니다', '것은', '건데', '것입니다','결국','경우','그것','그렇', '그게',\n",
    "             '그러나', '그런', '그리고', '년도', '대한', '때문', '많은', '말하', '못하', '뭔가',\n",
    "             '본인', '사실', '생각', '서로', '이게', '아니', '아무', '어디', '어떤', '언제', '없는', '없습니다',\n",
    "             '여기', '여러분', '예전', '오늘', '우리', '위한', '위해', '이게', '이런', '이번', '이후,'\n",
    "             '있는', '있습니다', '자신', '저거', '저번', '정도', '하고', '하는','한다','합니다']\n",
    "    \n",
    "    # Stopwords 불용어 제거\n",
    "    meaningful_words = [w for w in text if not w in stops]\n",
    "    meaningful_list =  ''.join(str(meaningful_words))\n",
    "    return ast.literal_eval(meaningful_list)"
   ]
  },
  {
   "cell_type": "code",
   "execution_count": 96,
   "metadata": {
    "collapsed": true
   },
   "outputs": [],
   "source": [
    "for i in range(len(unique_list)):\n",
    "    unique_list[i] = remove_stopwords(unique_list[i])"
   ]
  },
  {
   "cell_type": "code",
   "execution_count": 99,
   "metadata": {
    "collapsed": true
   },
   "outputs": [],
   "source": [
    "cleaned_df = pd.DataFrame({'tokens':unique_list})"
   ]
  },
  {
   "cell_type": "code",
   "execution_count": 101,
   "metadata": {
    "scrolled": true
   },
   "outputs": [
    {
     "data": {
      "text/html": [
       "<div>\n",
       "<style>\n",
       "    .dataframe thead tr:only-child th {\n",
       "        text-align: right;\n",
       "    }\n",
       "\n",
       "    .dataframe thead th {\n",
       "        text-align: left;\n",
       "    }\n",
       "\n",
       "    .dataframe tbody tr th {\n",
       "        vertical-align: top;\n",
       "    }\n",
       "</style>\n",
       "<table border=\"1\" class=\"dataframe\">\n",
       "  <thead>\n",
       "    <tr style=\"text-align: right;\">\n",
       "      <th></th>\n",
       "      <th>tokens</th>\n",
       "    </tr>\n",
       "  </thead>\n",
       "  <tbody>\n",
       "    <tr>\n",
       "      <th>0</th>\n",
       "      <td>[민폐, 고르지, 상황, 하나무라, 등급, 화물, 해결, 이것, 대전, 발생, 아바...</td>\n",
       "    </tr>\n",
       "    <tr>\n",
       "      <th>1</th>\n",
       "      <td>[플레이어, 연패, 오브, 중국어, 모두, 공정, 지금, 히어로즈, 처사, 결정, ...</td>\n",
       "    </tr>\n",
       "    <tr>\n",
       "      <th>2</th>\n",
       "      <td>[요즘, 인성, 히오스, 매칭, 강등전, 밸런스, 게임, 올해, 블리자드, 시스템,...</td>\n",
       "    </tr>\n",
       "    <tr>\n",
       "      <th>3</th>\n",
       "      <td>[고정, 부분, 살무사, 수면, 대로, 아나, 관련, 처음, 평타, 스킨]</td>\n",
       "    </tr>\n",
       "    <tr>\n",
       "      <th>4</th>\n",
       "      <td>[바람, 누가, 사이, 승률, 유입, 매칭, 이상, 병신, 집착, 파괴, 출시, 게...</td>\n",
       "    </tr>\n",
       "  </tbody>\n",
       "</table>\n",
       "</div>"
      ],
      "text/plain": [
       "                                              tokens\n",
       "0  [민폐, 고르지, 상황, 하나무라, 등급, 화물, 해결, 이것, 대전, 발생, 아바...\n",
       "1  [플레이어, 연패, 오브, 중국어, 모두, 공정, 지금, 히어로즈, 처사, 결정, ...\n",
       "2  [요즘, 인성, 히오스, 매칭, 강등전, 밸런스, 게임, 올해, 블리자드, 시스템,...\n",
       "3          [고정, 부분, 살무사, 수면, 대로, 아나, 관련, 처음, 평타, 스킨]\n",
       "4  [바람, 누가, 사이, 승률, 유입, 매칭, 이상, 병신, 집착, 파괴, 출시, 게..."
      ]
     },
     "execution_count": 101,
     "metadata": {},
     "output_type": "execute_result"
    }
   ],
   "source": [
    "cleaned_df.head()"
   ]
  },
  {
   "cell_type": "code",
   "execution_count": 102,
   "metadata": {
    "collapsed": true
   },
   "outputs": [],
   "source": [
    "df_all[\"tokens_contents\"] = unique_list"
   ]
  },
  {
   "cell_type": "code",
   "execution_count": 103,
   "metadata": {
    "collapsed": true
   },
   "outputs": [],
   "source": [
    "id2word = corpora.Dictionary(df_all[\"tokens_contents\"])"
   ]
  },
  {
   "cell_type": "code",
   "execution_count": 104,
   "metadata": {
    "collapsed": true
   },
   "outputs": [],
   "source": [
    "texts = df_all[\"tokens_contents\"]"
   ]
  },
  {
   "cell_type": "code",
   "execution_count": 105,
   "metadata": {},
   "outputs": [
    {
     "name": "stdout",
     "output_type": "stream",
     "text": [
      "[[(0, 1), (1, 1), (2, 1), (3, 1), (4, 1), (5, 1), (6, 1), (7, 1), (8, 1), (9, 1), (10, 1), (11, 1), (12, 1), (13, 1), (14, 1), (15, 1), (16, 1), (17, 1), (18, 1)]]\n"
     ]
    }
   ],
   "source": [
    "corpus = [id2word.doc2bow(text) for text in texts]\n",
    "\n",
    "print(corpus[:1])"
   ]
  },
  {
   "cell_type": "code",
   "execution_count": 106,
   "metadata": {},
   "outputs": [
    {
     "data": {
      "text/plain": [
       "'민폐'"
      ]
     },
     "execution_count": 106,
     "metadata": {},
     "output_type": "execute_result"
    }
   ],
   "source": [
    "id2word[0]"
   ]
  },
  {
   "cell_type": "code",
   "execution_count": 107,
   "metadata": {
    "scrolled": true
   },
   "outputs": [
    {
     "name": "stdout",
     "output_type": "stream",
     "text": [
      "CPU times: user 29 µs, sys: 1e+03 ns, total: 30 µs\n",
      "Wall time: 32.9 µs\n"
     ]
    },
    {
     "data": {
      "text/plain": [
       "[[('민폐', 1),\n",
       "  ('이것', 1),\n",
       "  ('상황', 1),\n",
       "  ('하나무라', 1),\n",
       "  ('등급', 1),\n",
       "  ('고르지', 1),\n",
       "  ('아바투르', 1),\n",
       "  ('해결', 1),\n",
       "  ('대전', 1),\n",
       "  ('발생', 1),\n",
       "  ('제한', 1),\n",
       "  ('초갈', 1),\n",
       "  ('목적', 1),\n",
       "  ('일반', 1),\n",
       "  ('자체', 1),\n",
       "  ('화물', 1),\n",
       "  ('유저', 1),\n",
       "  ('하나', 1),\n",
       "  ('이건', 1)]]"
      ]
     },
     "execution_count": 107,
     "metadata": {},
     "output_type": "execute_result"
    }
   ],
   "source": [
    "# Human readable format of corpus (term-frequency)\n",
    "%time [[(id2word[id], freq) for id, freq in cp] for cp in corpus[:1]]"
   ]
  },
  {
   "cell_type": "markdown",
   "metadata": {},
   "source": [
    "alpha = 50/T, beta= 0.1이 최상의 퍼포먼스를 낸다는 결과 (Finding scientific topics 참고)"
   ]
  },
  {
   "cell_type": "code",
   "execution_count": 111,
   "metadata": {},
   "outputs": [
    {
     "name": "stdout",
     "output_type": "stream",
     "text": [
      "CPU times: user 37min 8s, sys: 25min 53s, total: 1h 3min 1s\n",
      "Wall time: 1h 3min 38s\n"
     ]
    }
   ],
   "source": [
    "# Build LDA model\n",
    "\n",
    "%time lda_model = LdaMulticore(corpus=corpus, id2word=id2word, workers=3, num_topics=20, random_state=100, \\\n",
    "                                                  chunksize=100,\\\n",
    "                                                  passes=10, \\\n",
    "                                                  per_word_topics=True)"
   ]
  },
  {
   "cell_type": "code",
   "execution_count": 117,
   "metadata": {
    "scrolled": true
   },
   "outputs": [
    {
     "name": "stdout",
     "output_type": "stream",
     "text": [
      "[(0,\n",
      "  '0.031*\"인벤\" + 0.021*\"추천\" + 0.018*\"이름\" + 0.018*\"질문\" + 0.015*\"부탁\" + 0.012*\"감사\" '\n",
      "  '+ 0.012*\"내용\" + 0.011*\"관련\" + 0.011*\"이미지\" + 0.011*\"확인\"'),\n",
      " (1,\n",
      "  '0.053*\"시간\" + 0.037*\"경기\" + 0.030*\"하루\" + 0.025*\"시작\" + 0.025*\"최고\" + 0.023*\"동안\" '\n",
      "  '+ 0.021*\"히오스\" + 0.019*\"시즌\" + 0.018*\"연패\" + 0.017*\"당신\"'),\n",
      " (2,\n",
      "  '0.026*\"영리\" + 0.021*\"게임\" + 0.019*\"히오스\" + 0.016*\"사람\" + 0.015*\"배치\" + '\n",
      "  '0.014*\"영웅\" + 0.014*\"이상\" + 0.012*\"승률\" + 0.012*\"티어\" + 0.011*\"조합\"'),\n",
      " (3,\n",
      "  '0.070*\"지원\" + 0.053*\"딜러\" + 0.044*\"힐러\" + 0.040*\"탱커\" + 0.030*\"전문가\" + '\n",
      "  '0.029*\"메타\" + 0.026*\"쌍검\" + 0.026*\"암살자\" + 0.024*\"전사\" + 0.018*\"조합\"'),\n",
      " (4,\n",
      "  '0.035*\"나노\" + 0.016*\"비리\" + 0.015*\"호드\" + 0.014*\"브락\" + 0.014*\"남자\" + 0.014*\"죽음\" '\n",
      "  '+ 0.014*\"나중\" + 0.011*\"시스\" + 0.011*\"주제\" + 0.011*\"전쟁\"'),\n",
      " (5,\n",
      "  '0.096*\"이거\" + 0.047*\"친구\" + 0.023*\"소리\" + 0.021*\"히오스\" + 0.018*\"화제\" + '\n",
      "  '0.017*\"스토리\" + 0.016*\"화면\" + 0.015*\"얘기\" + 0.014*\"그거\" + 0.013*\"사람\"'),\n",
      " (6,\n",
      "  '0.047*\"아나\" + 0.039*\"우서\" + 0.034*\"티란데\" + 0.029*\"조합\" + 0.027*\"레가르\" + '\n",
      "  '0.019*\"시발\" + 0.019*\"메디브\" + 0.018*\"스투코프\" + 0.016*\"요즘\" + 0.014*\"마이에브\"'),\n",
      " (7,\n",
      "  '0.067*\"영웅\" + 0.030*\"히오스\" + 0.028*\"출시\" + 0.020*\"스타\" + 0.019*\"오버워치\" + '\n",
      "  '0.019*\"다음\" + 0.019*\"개꿀\" + 0.018*\"기대\" + 0.016*\"워크\" + 0.015*\"캐릭터\"'),\n",
      " (8,\n",
      "  '0.071*\"제이나\" + 0.046*\"리밍\" + 0.035*\"요한나\" + 0.026*\"무라딘\" + 0.024*\"발라\" + '\n",
      "  '0.024*\"줄진\" + 0.020*\"루시우\" + 0.019*\"해머\" + 0.015*\"고민\" + 0.011*\"카시아\"'),\n",
      " (9,\n",
      "  '0.035*\"레오릭\" + 0.026*\"디바\" + 0.025*\"레이너\" + 0.022*\"켈투자드\" + 0.022*\"라인\" + '\n",
      "  '0.022*\"소냐\" + 0.021*\"말티엘\" + 0.018*\"영웅\" + 0.017*\"머키\" + 0.016*\"데하카\"'),\n",
      " (10,\n",
      "  '0.078*\"히오스\" + 0.029*\"방송\" + 0.022*\"게임\" + 0.021*\"위치\" + 0.019*\"누구\" + '\n",
      "  '0.017*\"재미\" + 0.016*\"유저\" + 0.012*\"대체\" + 0.010*\"도타\" + 0.010*\"개인\"'),\n",
      " (11,\n",
      "  '0.030*\"특성\" + 0.023*\"스킬\" + 0.016*\"평타\" + 0.012*\"가능\" + 0.012*\"체력\" + 0.012*\"기본\" '\n",
      "  '+ 0.011*\"증가\" + 0.011*\"사거리\" + 0.009*\"아군\" + 0.009*\"버프\"'),\n",
      " (12,\n",
      "  '0.030*\"와우\" + 0.029*\"스킨\" + 0.029*\"렉사르\" + 0.024*\"아서스\" + 0.018*\"프로\" + '\n",
      "  '0.017*\"디아\" + 0.017*\"리치\" + 0.015*\"용검\" + 0.015*\"요새\" + 0.014*\"머리\"'),\n",
      " (13,\n",
      "  '0.053*\"가로쉬\" + 0.048*\"겐지\" + 0.034*\"바리안\" + 0.026*\"일리단\" + 0.017*\"초갈\" + '\n",
      "  '0.017*\"상대\" + 0.017*\"도발\" + 0.015*\"굴단\" + 0.015*\"트레이서\" + 0.014*\"사무\"'),\n",
      " (14,\n",
      "  '0.049*\"건가\" + 0.026*\"영상\" + 0.024*\"선수\" + 0.021*\"이벤트\" + 0.017*\"보이스\" + '\n",
      "  '0.017*\"카드\" + 0.016*\"아재\" + 0.014*\"할로윈\" + 0.012*\"세계\" + 0.011*\"기간\"'),\n",
      " (15,\n",
      "  '0.112*\"스킨\" + 0.034*\"상자\" + 0.027*\"전설\" + 0.022*\"탈것\" + 0.022*\"파편\" + 0.019*\"보상\" '\n",
      "  '+ 0.017*\"하나\" + 0.015*\"추가\" + 0.015*\"얼마\" + 0.015*\"공개\"'),\n",
      " (16,\n",
      "  '0.055*\"시공\" + 0.028*\"버그\" + 0.020*\"그림\" + 0.017*\"공포\" + 0.016*\"세계관\" + '\n",
      "  '0.015*\"폭풍\" + 0.014*\"완성\" + 0.013*\"군대\" + 0.012*\"기억\" + 0.012*\"수정\"'),\n",
      " (17,\n",
      "  '0.057*\"사람\" + 0.044*\"게임\" + 0.028*\"히오스\" + 0.022*\"새끼\" + 0.018*\"기분\" + '\n",
      "  '0.017*\"자기\" + 0.015*\"누가\" + 0.015*\"병신\" + 0.013*\"트롤\" + 0.013*\"이해\"'),\n",
      " (18,\n",
      "  '0.086*\"노바\" + 0.063*\"모랄\" + 0.041*\"리리\" + 0.037*\"발리라\" + 0.036*\"크로미\" + '\n",
      "  '0.027*\"은신\" + 0.023*\"제라툴\" + 0.019*\"기력\" + 0.017*\"루나라\" + 0.013*\"대회\"'),\n",
      " (19,\n",
      "  '0.028*\"한국\" + 0.024*\"히오스\" + 0.022*\"하스\" + 0.020*\"문제\" + 0.017*\"나라\" + '\n",
      "  '0.016*\"서버\" + 0.014*\"현실\" + 0.014*\"게임\" + 0.013*\"방법\" + 0.012*\"해결\"')]\n"
     ]
    }
   ],
   "source": [
    "pprint(lda_model.print_topics())\n",
    "doc_lda = lda_model[corpus]"
   ]
  },
  {
   "cell_type": "markdown",
   "metadata": {},
   "source": [
    "### select number of topic"
   ]
  },
  {
   "cell_type": "code",
   "execution_count": 88,
   "metadata": {},
   "outputs": [
    {
     "name": "stdout",
     "output_type": "stream",
     "text": [
      "\n",
      "Perplexity:  -9.672913483077945\n",
      "\n",
      "Coherence Score_c_v:  0.42020978910097234\n"
     ]
    }
   ],
   "source": [
    "# Compute Perplexity\n",
    "print('\\nPerplexity: ', lda_model.log_perplexity(corpus)) # a measure of how good the model is. lower the better.\n",
    " \n",
    "# Compute Coherence Score using c_v\n",
    "coherence_model_lda = CoherenceModel(model=lda_model, texts=df_all[\"tokens_contents\"], dictionary=id2word, coherence='c_v')\n",
    "coherence_lda = coherence_model_lda.get_coherence()\n",
    "print('\\nCoherence Score_c_v: ', coherence_lda)"
   ]
  },
  {
   "cell_type": "code",
   "execution_count": null,
   "metadata": {
    "collapsed": true
   },
   "outputs": [],
   "source": [
    "# Compute Coherence Score using UMass\n",
    "coherence_model_lda = CoherenceModel(model=lda_model, texts=df_battle[\"tokens_contents\"], dictionary=id2word, coherence=\"u_mass\")\n",
    "coherence_lda = coherence_model_lda.get_coherence()\n",
    "print('\\nCoherence Score_u_mass: ', coherence_lda)"
   ]
  },
  {
   "cell_type": "code",
   "execution_count": 89,
   "metadata": {
    "collapsed": true
   },
   "outputs": [],
   "source": [
    "def compute_coherence_values(dictionary, corpus, texts, limit, start=2, step=3):\n",
    "    \"\"\"\n",
    "    Compute c_v coherence for various number of topics\n",
    "\n",
    "    Parameters:\n",
    "    ----------\n",
    "    dictionary : Gensim dictionary\n",
    "    corpus : Gensim corpus\n",
    "    texts : List of input texts\n",
    "    limit : Max num of topics\n",
    "\n",
    "    Returns:\n",
    "    -------\n",
    "    model_list : List of LDA topic models\n",
    "    coherence_values : Coherence values corresponding to the LDA model with respective number of topics\n",
    "    \"\"\"\n",
    "    coherence_values = []\n",
    "    model_list = []\n",
    "    for num_topics in range(start, limit, step):\n",
    "        model=LdaModel(corpus=corpus, id2word=dictionary, num_topics=num_topics)\n",
    "        model_list.append(model)\n",
    "        coherencemodel = CoherenceModel(model=model, texts=texts, dictionary=dictionary, coherence='c_v')\n",
    "        coherence_values.append(coherencemodel.get_coherence())\n",
    "\n",
    "    return model_list, coherence_values"
   ]
  },
  {
   "cell_type": "code",
   "execution_count": 91,
   "metadata": {
    "collapsed": true,
    "scrolled": true
   },
   "outputs": [],
   "source": [
    "model_list, coherence_values = compute_coherence_values(dictionary=id2word, corpus=corpus, texts=df_all[\"tokens_contents\"], start=2, limit=100, step=6)"
   ]
  },
  {
   "cell_type": "code",
   "execution_count": 126,
   "metadata": {
    "scrolled": false
   },
   "outputs": [
    {
     "data": {
      "image/png": "[encoded data removed]",
      "text/plain": [
       "<matplotlib.figure.Figure at 0x159b08f60>"
      ]
     },
     "metadata": {},
     "output_type": "display_data"
    }
   ],
   "source": [
    "# Show graph\n",
    "import matplotlib.pyplot as plt\n",
    "\n",
    "limit=100; start=2; step=6;\n",
    "x = range(start, limit, step)\n",
    "\n",
    "plt.plot(x, coherence_values)\n",
    "   \n",
    "plt.xlabel(\"Num Topics\")\n",
    "plt.ylabel(\"Coherence score\")\n",
    "plt.legend((\"coherence_values\"), loc='best')\n",
    "plt.show()"
   ]
  },
  {
   "cell_type": "code",
   "execution_count": 102,
   "metadata": {
    "scrolled": true
   },
   "outputs": [
    {
     "name": "stdout",
     "output_type": "stream",
     "text": [
      "Num Topics = 2  has Coherence Value of 0.516\n",
      "Num Topics = 8  has Coherence Value of 0.5631\n",
      "Num Topics = 14  has Coherence Value of 0.5258\n",
      "Num Topics = 20  has Coherence Value of 0.4602\n",
      "Num Topics = 26  has Coherence Value of 0.4734\n",
      "Num Topics = 32  has Coherence Value of 0.4567\n",
      "Num Topics = 38  has Coherence Value of 0.4349\n",
      "Num Topics = 44  has Coherence Value of 0.4211\n",
      "Num Topics = 50  has Coherence Value of 0.4346\n",
      "Num Topics = 56  has Coherence Value of 0.4123\n",
      "Num Topics = 62  has Coherence Value of 0.4233\n",
      "Num Topics = 68  has Coherence Value of 0.4156\n",
      "Num Topics = 74  has Coherence Value of 0.418\n",
      "Num Topics = 80  has Coherence Value of 0.4186\n",
      "Num Topics = 86  has Coherence Value of 0.4148\n",
      "Num Topics = 92  has Coherence Value of 0.4075\n",
      "Num Topics = 98  has Coherence Value of 0.424\n"
     ]
    }
   ],
   "source": [
    "for m, cv in zip(x, coherence_values):\n",
    "    print(\"Num Topics =\", m, \" has Coherence Value of\", round(cv, 4))"
   ]
  },
  {
   "cell_type": "markdown",
   "metadata": {},
   "source": [
    "문서 갯수를 8로 선택합니다,"
   ]
  },
  {
   "cell_type": "code",
   "execution_count": 113,
   "metadata": {
    "scrolled": false
   },
   "outputs": [
    {
     "data": {
      "text/html": [
       "\n",
       "<link rel=\"stylesheet\" type=\"text/css\" href=\"https://cdn.rawgit.com/bmabey/pyLDAvis/files/ldavis.v1.0.0.css\">\n",
       "\n",
       "\n",
       "<div id=\"ldavis_el72256616504001067460156\"></div>\n",
       "<script type=\"text/javascript\">\n",
       "\n",
       "var ldavis_el72256616504001067460156_data = {\"token.table\": {\"Topic\": [14, 1, 2, 5, 6, 7, 9, 13, 14, 7, 18, 20, 17, 4, 14, 18, 18, 4, 5, 14, 18, 6, 2, 12, 2, 5, 18, 5, 5, 3, 1, 2, 5, 6, 8, 1, 7, 2, 4, 1, 16, 1, 2, 3, 16, 15, 1, 2, 3, 5, 6, 13, 17, 6, 1, 3, 8, 11, 13, 18, 4, 7, 20, 15, 1, 6, 11, 1, 1, 10, 20, 16, 19, 15, 12, 5, 1, 11, 14, 1, 3, 20, 14, 2, 8, 14, 7, 19, 17, 15, 14, 2, 6, 8, 7, 13, 1, 2, 1, 16, 14, 17, 16, 10, 17, 5, 7, 2, 2, 7, 1, 2, 3, 4, 7, 12, 14, 18, 1, 3, 5, 14, 15, 17, 18, 7, 17, 6, 2, 9, 16, 5, 11, 20, 1, 2, 3, 10, 2, 1, 3, 8, 17, 8, 1, 2, 14, 9, 10, 13, 4, 14, 10, 18, 4, 6, 11, 10, 16, 6, 11, 12, 19, 13, 20, 9, 5, 20, 17, 15, 3, 4, 20, 3, 4, 8, 13, 4, 12, 19, 1, 2, 4, 5, 7, 8, 9, 14, 1, 2, 14, 18, 12, 11, 18, 1, 3, 4, 5, 6, 11, 14, 1, 7, 19, 14, 11, 7, 16, 4, 11, 5, 16, 18, 15, 2, 11, 13, 20, 1, 13, 10, 17, 2, 5, 14, 8, 13, 1, 8, 16, 20, 3, 18, 2, 4, 20, 7, 4, 7, 20, 5, 8, 20, 4, 7, 1, 5, 12, 2, 3, 11, 12, 10, 5, 3, 12, 1, 16, 5, 12, 4, 4, 12, 4, 12, 2, 9, 7, 7, 7, 15, 8, 1, 2, 4, 17, 15, 3, 1, 2, 4, 2, 4, 10, 12, 5, 11, 4, 10, 20, 4, 19, 1, 8, 11, 13, 20, 19, 13, 3, 12, 7, 10, 1, 12, 3, 1, 5, 20, 2, 12, 13, 1, 1, 3, 6, 8, 15, 17, 3, 11, 12, 17, 19, 3, 8, 18, 1, 5, 1, 14, 17, 4, 17, 8, 10, 9, 1, 3, 9, 11, 3, 12, 4, 18, 4, 5, 15, 6, 3, 9, 2, 9, 19, 10, 9, 3, 11, 8, 11, 12, 12, 6, 1, 19, 20, 2, 2, 1, 1, 12, 17, 5, 12, 18, 6, 15, 10, 19, 8, 7, 16, 9, 1, 2, 3, 13, 14, 3, 8, 13, 5, 1, 14, 10, 14, 7, 9, 9, 5, 1, 6, 16, 19, 20, 8, 16, 1, 2, 6, 13, 8, 2, 7, 13, 1, 2, 17, 19, 17, 2, 4, 16, 11, 2, 4, 1, 3, 14, 16, 1, 7, 2, 11, 7, 1, 2, 5, 6, 18, 1, 2, 5, 9, 6, 13, 17, 9, 5, 3, 2, 19, 20, 10, 9, 20, 1, 3, 5, 6, 8, 12, 13, 14, 5, 1, 8, 19, 10, 13, 15, 15, 15, 11, 2, 2, 7, 15, 7, 10, 1, 3, 13, 18, 6, 8, 5, 7, 7, 2, 18, 2, 6, 15, 13, 11, 17, 13, 1, 2, 4, 7, 9, 15, 5, 13, 14, 8, 2, 4, 20, 1, 2, 3, 6, 3, 3, 14, 11, 2, 13, 12, 13, 9, 11, 16, 15, 13, 5, 13, 3, 1, 8, 17, 8, 1, 4, 16, 17, 13, 2, 15, 19, 16, 20, 8, 4, 20, 1, 3, 7, 18, 5, 8, 15, 20, 2, 11, 6, 17, 1, 2, 3, 13, 7, 1, 5, 7, 4, 12, 14, 2, 4, 5, 7, 5, 12, 17, 18, 13, 6, 19, 4, 15, 8, 18, 14, 14, 7, 1, 1, 11, 1, 2, 11, 6, 17, 16, 18, 12, 12, 12, 15, 10, 1, 3, 7, 19, 1, 3, 8, 11, 16, 5, 19, 1, 11, 16, 1, 2, 3, 13, 3, 5, 15, 1, 12, 9, 11, 1, 18, 20, 19, 9, 1, 2, 3, 4, 1, 2, 3, 4, 7, 9, 15, 2, 4, 15, 17, 4, 6, 4, 19, 7, 15, 4, 7, 9, 4, 12, 12, 4, 7, 15, 12, 13, 8, 8, 16, 4, 8, 6, 10, 12, 6, 10, 7, 4, 15, 4, 17, 20, 9, 1, 3, 18, 4, 5, 6, 12, 10, 17, 14, 20, 16, 19, 5, 18, 11, 9, 16, 10, 4, 3, 11, 8, 1, 9, 19, 15, 1, 19, 11, 11, 1, 3, 11, 8, 16, 13, 1, 2, 4, 5, 14, 4, 8, 5, 14, 16, 1, 5, 20, 3, 18, 3, 5, 6, 3, 17, 6, 18, 12, 17, 1, 7, 20, 13, 12, 15, 1, 3, 15, 16, 20, 19, 12, 17, 4, 9, 15, 10, 19, 12, 11, 1, 3, 4, 9, 18, 2, 4, 5, 9, 5, 17, 19, 2, 8, 3, 5, 13, 1, 3, 6, 8, 1, 2, 17, 8, 7, 20, 17, 15, 14, 2, 18, 1, 2, 3, 16, 1, 2, 14, 10, 6, 18, 6, 16, 1, 2, 3, 12, 13, 18, 20, 2, 1, 6, 8, 1, 2, 3, 4, 5, 6, 7, 8, 9, 10, 13, 15, 20, 1, 5, 20, 11, 7, 1, 3, 13, 3, 10, 12, 19, 16, 19, 9, 13, 6, 1, 11, 3, 12, 1, 3, 13, 8, 4, 7, 15, 8, 4, 19, 1, 3, 16, 4, 19, 18, 8, 6, 1, 2, 5, 7, 9, 13, 4, 16, 3, 14, 16, 20, 1, 20, 1, 8, 10, 12, 12, 13, 15, 19, 6, 20, 14, 9, 9, 20, 9, 14, 17, 10, 2, 17, 19, 3, 14, 11, 11, 13, 6, 1, 3, 9, 20, 2, 3, 11, 17, 12, 3, 1, 3, 4, 7, 4, 2, 15, 19, 4, 7, 20, 14, 19, 3, 14, 1, 9, 15, 20, 11, 6, 5, 10, 7, 10, 19, 11, 19, 1, 13, 19, 13, 14, 1, 2, 5, 2, 1, 2, 5, 16, 3, 15, 2, 4, 9, 19, 9, 3, 3, 6, 6, 7, 1, 3, 7, 20, 3, 1, 2, 13, 16, 1, 6, 18, 1, 6, 5, 10, 1, 3, 1, 2, 3, 4, 8, 11, 14, 17, 18, 15, 9, 2, 2, 11, 7, 1, 9, 5, 11, 2, 16, 2, 5, 14, 16, 6, 18, 5, 12, 16, 17, 3, 18, 20, 10, 18, 11, 16, 9, 15, 7, 19, 7, 1, 2, 7, 15, 1, 1, 2, 4, 5, 7, 9, 20, 1, 5, 8, 4, 15, 1, 6, 15, 2, 5, 12, 18, 4, 4, 5, 8, 12, 2, 4, 17, 2, 4, 20, 6, 13, 10, 19, 1, 2, 15, 7, 16, 14, 3, 19, 9, 9, 2, 9, 10, 20, 18, 1, 3, 7, 8, 12, 13, 14, 15, 19, 11, 12, 18, 1, 19, 7, 7, 1, 3, 18, 2, 9, 14, 1, 2, 2, 2, 1, 9, 15, 4, 1, 1, 3, 17, 5, 14, 16, 14, 15, 2, 5, 1, 2, 4, 5, 14, 20, 19, 1, 8, 1, 2, 1, 9, 4, 17, 15, 6, 1, 4, 12, 1, 1, 2, 8, 15, 10, 1, 1, 2, 3, 4, 5, 6, 7, 8, 9, 10, 11, 12, 13, 14, 15, 16, 17, 18, 20, 15, 1, 11, 13, 1, 1, 10, 8, 13, 3, 4, 9, 16, 12, 8, 10, 1, 13, 17, 1, 6, 19, 13, 10, 3, 18, 1, 13, 8, 8, 1, 10, 18, 18, 1, 14, 6, 19, 5, 2, 2, 18, 2, 18, 19, 6, 1, 3, 5, 8, 11, 13, 18, 9, 15], \"Freq\": [0.9989264624077159, 0.25165746078102885, 0.41962509620886507, 0.07741798832438193, 0.08094589665308793, 0.03704303745141312, 0.052330640209139176, 0.028615256443948765, 0.052134645301988844, 0.9997447254705156, 0.9966936165851046, 0.9950839653427268, 0.9981184966821465, 0.8393709080537135, 0.16031984343825928, 0.9952123581800594, 0.9965026813827351, 0.9990827621877678, 0.24727160168143794, 0.7505677820949842, 0.9958616857718938, 0.9989637938951312, 0.999300316156387, 0.9953421698162794, 0.9986937617017047, 0.9992748383248592, 0.9963330417561079, 0.9991387350518276, 0.9961907541659331, 0.997519664045247, 0.26866257344893746, 0.17653498600188802, 0.1492569852494097, 0.0916129081875687, 0.3129249897642796, 0.9986372672854247, 0.9988787433877218, 0.9987318860240527, 0.9972689989151257, 0.9985159745405611, 0.9996406681602009, 0.2685287892474656, 0.10773310706335446, 0.6233512612670709, 0.9984979390835751, 0.9958307775784416, 0.15336290418871984, 0.2663671493804081, 0.0409352112684177, 0.12626494743357008, 0.061691093038319635, 0.06572695893802279, 0.2848168220647654, 0.9973958805550175, 0.35693488867642775, 0.37547590005618725, 0.10781557278098046, 0.05104904014250969, 0.06036038506450346, 0.04835365082298518, 0.1481794245312041, 0.8517863608813588, 0.9977357677477547, 0.9974335322373992, 0.4459962569894857, 0.5532836269611114, 0.9995261329890713, 0.9989528815887235, 0.9990964737241724, 0.9968990373966425, 0.9964344515207676, 0.13603079150842487, 0.8631334293056693, 0.9978704788042432, 0.9977437524685655, 0.9964284611653226, 0.5168532204986858, 0.33748863256306877, 0.1451437126057953, 0.04687001601020784, 0.30465510406635093, 0.6476584030501447, 0.9981946644900055, 0.9991460403410224, 0.9956369896835329, 0.9987657019429812, 0.383840154517479, 0.6144108028908257, 0.9984943118755045, 0.9951170769018792, 0.9976570691200761, 0.1922475893146738, 0.8072485839879835, 0.9985086330902293, 0.997114358522497, 0.9963723332753857, 0.9984074478940126, 0.9981825677315137, 0.9984685939986152, 0.9963476151574452, 0.9982511642620387, 0.9970391970081817, 0.9946469095886301, 0.9976019648022507, 0.9991532398513354, 0.9986027863718155, 0.9987286588993436, 0.9990080437700372, 0.998805524782772, 0.9978391797946367, 0.18170190427824978, 0.22434622875171656, 0.17335844948996282, 0.012978707448446413, 0.06674763830629583, 0.025957414896892825, 0.006489353724223206, 0.30778077663458636, 0.2842264712258535, 0.09227062254288577, 0.4078031978457898, 0.04201608705077834, 0.04613531127144289, 0.03048225923291762, 0.0955660019194174, 0.9982671571435768, 0.9990598534829239, 0.997779117168581, 0.5011449721690082, 0.4973579824548847, 0.9977056669296647, 0.9995778470099552, 0.9961520950553037, 0.999166536534803, 0.21587642984632394, 0.7838547607868245, 0.9995220839712851, 0.997386656515894, 0.999616573528505, 0.23519205648975117, 0.14717993472157384, 0.1649302786075928, 0.4518941714315659, 0.9979047168879905, 0.5002183384700343, 0.2576447396136905, 0.2411382521175488, 0.9957282718020848, 0.9992810985680405, 0.9992457480350859, 0.9985879438267553, 0.9972931782502835, 0.8166660003028839, 0.18270425343703334, 0.9994844800418895, 0.9983950746546868, 0.998443029921007, 0.9987572018916634, 0.9964105736352882, 0.9984801995555691, 0.9962491401167703, 0.9957864029096701, 0.9969302930608254, 0.039533286871576, 0.9572703035331617, 0.9960180558149088, 0.9967631813702984, 0.9996478215528953, 0.997084846227628, 0.9991665257807713, 0.8131854115444926, 0.15859640945650352, 0.027274541753666212, 0.2716894805099686, 0.03411347737344897, 0.6938437630063996, 0.9958533914376192, 0.3320572708216156, 0.6671702833992584, 0.9962273027282288, 0.19712731407323422, 0.2541199048767203, 0.053304834927966394, 0.14918648769147827, 0.07006736163487406, 0.16159075745458995, 0.08414788406867652, 0.03017254807243381, 0.03758860033830838, 0.9622681686606945, 0.9933958009926181, 0.9980075815845586, 0.9965848645167893, 0.9973540038570446, 0.9968240465782138, 0.14857355497052407, 0.01826724036522837, 0.10777671815484738, 0.4734259794655019, 0.047190370943506615, 0.13335085466616708, 0.07124223742439063, 0.9992569368999763, 0.997194901202043, 0.9952776760437186, 0.9961519217103484, 0.9941372472660984, 0.25609193958515175, 0.7419486100130565, 0.23210566829485477, 0.7667028393133289, 0.9974430398259435, 0.9976202018308078, 0.9970025776938706, 0.9973020508533398, 0.35090749166579416, 0.6477030804111621, 0.9983503970788422, 0.9979264113732589, 0.8864273954608852, 0.1124748159280449, 0.2997159280956682, 0.6993371655565591, 0.8412276172276544, 0.1585085685220345, 0.9969948088890469, 0.9991027820310839, 0.997112821129616, 0.3497949820970839, 0.2253581117152081, 0.12884605082847767, 0.2954150899223271, 0.29946627892317434, 0.6995728646975794, 0.9995266512504184, 0.9992149603081598, 0.9955436211220431, 0.9988074110995411, 0.31009573269862745, 0.32249956200657254, 0.36632642556131184, 0.9984953516429361, 0.9990428676412112, 0.9959587701992427, 0.23272624289254376, 0.7663660355123894, 0.24227813170070323, 0.7567628701945495, 0.9931455583883959, 0.3135182344765964, 0.14964350393862302, 0.5369053671573074, 0.99712189209793, 0.9955290732972828, 0.9956573275960345, 0.9990819268242884, 0.9973099051575882, 0.44641539842709105, 0.5520886086827793, 0.819774052259271, 0.17714657681004936, 0.9995414731068327, 0.2626247964048749, 0.7369173391659176, 0.33305210884599296, 0.6661042176919859, 0.20203538416965372, 0.7976136382479382, 0.9988717131014636, 0.9985437547592964, 0.9960131195374806, 0.9965006672361876, 0.9962729669075756, 0.35263602865339194, 0.1628292044874952, 0.4841519245855996, 0.9966699480718719, 0.9993651783838143, 0.9979663405291591, 0.8344639555012355, 0.165126729818763, 0.9996198441702231, 0.3772009086763072, 0.6226548333077013, 0.998873052501861, 0.9993652099495994, 0.9981614341197033, 0.9962435363461845, 0.9990324403103937, 0.9974468584304581, 0.9985782478663431, 0.2890667872100167, 0.7099360473448079, 0.4091477323078171, 0.14274525346236214, 0.37097167614927834, 0.07718202658139349, 0.999718439746922, 0.9995903588063293, 0.9981598240223072, 0.9962945621644126, 0.9973003539845057, 0.998310238811201, 0.9975649606813813, 0.1699779861528598, 0.8290947516073003, 0.996601231276776, 0.9992989395895734, 0.7805082119161668, 0.2179722181505944, 0.17400197153517583, 0.8243699962896034, 0.9970628857953785, 0.9995746595293443, 0.12788777331014156, 0.313038728699451, 0.11643513689430798, 0.4428352747455648, 0.9986936480396509, 0.9975141730327908, 0.12204586966158934, 0.5749204803555372, 0.11667278106013572, 0.06294189504559954, 0.1212782855756674, 0.9984976602889176, 0.9958746134884814, 0.9968065442647025, 0.24566312727586673, 0.7520299814567349, 0.3065578199248397, 0.6908345237742867, 0.9975030874350096, 0.9992246012049467, 0.9960176949828004, 0.838824410369918, 0.1601174800421211, 0.9963079547251024, 0.7642092020909381, 0.07175673259069841, 0.08216145881634968, 0.0814438914904427, 0.24282872672974554, 0.7555786414359438, 0.9994412027985097, 0.9957685133481213, 0.17230335873733157, 0.16100477783652295, 0.6659101118414085, 0.9987110674591049, 0.9961942351641679, 0.9946177233552146, 0.25244824595836274, 0.526492359565081, 0.22042678703149077, 0.9984385438107577, 0.999325302009804, 0.7919807477111094, 0.20572674770763963, 0.997543649046451, 0.9946483136242793, 0.9960797970018809, 0.9972746541998797, 0.9978746474006623, 0.2651840811187183, 0.7341254223060562, 0.9995098008764872, 0.9989518486396968, 0.9986220612077021, 0.9976337606468305, 0.17824553790632106, 0.6287857668856149, 0.19168113121584274, 0.99578217135579, 0.9956553344148344, 0.9981988686939495, 0.9977343063521111, 0.9987362256532129, 0.9984124167488623, 0.9993982065276692, 0.9977137041952292, 0.9990609953534771, 0.9964293744509223, 0.9990369231357052, 0.41767520767709526, 0.18741836241920942, 0.14248451900690207, 0.2523745402017677, 0.9977747430764979, 0.3159998015096421, 0.6824251032601845, 0.9950933987501666, 0.9978324339180549, 0.9985503800370717, 0.9950392688813057, 0.9962962618981681, 0.9982999569484672, 0.7426761431317639, 0.2571371728114763, 0.9975135772131923, 0.9961478694657817, 0.22702637176765755, 0.7718896640100357, 0.9955000049590695, 0.9988687912052673, 0.9996743370606875, 0.9944496551496453, 0.9975326645234421, 0.2947862305430806, 0.1423105940552803, 0.14948591812529444, 0.41258113402581265, 0.9994704387602401, 0.9976916577422847, 0.9971331430542049, 0.9989556633226784, 0.9995750496899298, 0.20452044086997867, 0.795293970625321, 0.9965709601701798, 0.998022171957101, 0.8487209848801223, 0.1508253391087276, 0.9949521669469871, 0.9962163325980498, 0.9989132594309318, 0.9973656652450927, 0.18628711099092396, 0.8133662592561469, 0.9994256208614734, 0.9988249593085413, 0.9589010201434791, 0.040425844019539595, 0.9992198931915756, 0.9978188036635557, 0.998541083634421, 0.3139829894220303, 0.11884778116230303, 0.1710444418079091, 0.39508856980981816, 0.9928594714661286, 0.31493208878089873, 0.16307442405367084, 0.1389152501197937, 0.38223264473955654, 0.9988172291997386, 0.9973310427804374, 0.9983063025913819, 0.9974501843815148, 0.9968390580667957, 0.9977320463795153, 0.2521154749488688, 0.7462618058486516, 0.9977475113300931, 0.998802552620419, 0.9972496974900315, 0.9975824656798035, 0.08819716701365407, 0.25554563775751055, 0.25509334459333793, 0.0723669062676136, 0.08774487384948149, 0.06558250880502482, 0.11669163635652693, 0.05789352501409088, 0.9969782276763101, 0.3760434411090198, 0.3866770602663443, 0.23587300676247003, 0.9989105308494247, 0.9959579320870787, 0.9977482704404098, 0.9972565197227596, 0.9965283785327443, 0.996523516431927, 0.9995935393985556, 0.386525293731462, 0.532634511293183, 0.08036006965894656, 0.9963628386553987, 0.0015967353183580107, 0.3230050083770909, 0.5605169352774568, 0.05690195258942677, 0.05951813431767628, 0.18205004255652776, 0.8155841906532443, 0.9977387804292578, 0.9969010273914614, 0.9986436564658636, 0.9990394329581405, 0.9953687551908678, 0.8559093176856036, 0.14323096624145765, 0.9977622550518755, 0.9982865138237863, 0.9955739244399054, 0.997427080911681, 0.9984182578039561, 0.37986026550087754, 0.09461427193478321, 0.14532912532355471, 0.25016654952247763, 0.08499248156853408, 0.0447012344098658, 0.06139965282076429, 0.9363447055166554, 0.999636208251277, 0.9973673753299498, 0.7521858601082695, 0.15158554738059782, 0.09531515479234559, 0.6623089044686621, 0.2494282794223046, 0.08630283848949989, 0.0016345234562405281, 0.9958968956829274, 0.9996109632744378, 0.9975500003711606, 0.9976332180732042, 0.9991538481333933, 0.9978880795330275, 0.9992350946522812, 0.9988171147531338, 0.9986910101110663, 0.9952067094874527, 0.998915646545154, 0.9983624551145941, 0.9969362269472651, 0.37608300105938985, 0.6222689129370825, 0.9970815919530833, 0.3886256456252156, 0.609365012340338, 0.9983038517270656, 0.9970166132173667, 0.2823296635815024, 0.7164380560808802, 0.9985347744997383, 0.998669301896306, 0.9983567901022711, 0.42274451457443346, 0.5750464103975459, 0.9964870433593156, 0.9941685416424018, 0.9932215743815388, 0.9969183724440887, 0.9993200886457855, 0.9966534825184823, 0.19615924645117647, 0.2971666196237972, 0.09076024835800703, 0.41574049247861283, 0.9979043689049232, 0.9975854548607203, 0.9967015028816087, 0.9941997029292912, 0.9989933457561814, 0.9968347768475333, 0.19753749491640638, 0.8012010283322776, 0.6430406217878968, 0.19302506669232947, 0.11099882002775281, 0.05267740611486574, 0.9975859546124735, 0.07825558894445135, 0.9208680931602881, 0.9989512925574363, 0.9982725444623605, 0.21477748636358948, 0.7851280279223155, 0.7677616932815496, 0.06470754755536541, 0.03927994822275847, 0.12808678768290807, 0.8499016196979057, 0.14966820975812176, 0.9977318813101422, 0.998980119441864, 0.9978150439930262, 0.9988572597726941, 0.9966338603078586, 0.22948531102034042, 0.7696970833127477, 0.99729749947139, 0.9941931201231075, 0.9957212585936595, 0.9981052055014187, 0.9972019806240502, 0.9996645554301856, 0.30175645588894434, 0.6975026275465762, 0.15897619724783252, 0.2753240906825931, 0.5657049675743905, 0.9981401073249105, 0.9997090073641739, 0.09322689694357587, 0.9011933371212334, 0.9929520553263746, 0.9971215267006486, 0.9940719856682716, 0.99914034315408, 0.9982946483711611, 0.9156814871857574, 0.08381523910167116, 0.388418756037816, 0.6099388278406329, 0.3630518110319656, 0.19511929671764353, 0.0594259756957558, 0.32936907177121333, 0.052930018838325, 0.9989552025656955, 0.9963149084122855, 0.6318964268080774, 0.3677889402153444, 0.99759557256682, 0.31878521328797677, 0.08950121130167171, 0.12168142210676715, 0.4676186882615432, 0.9984949075153098, 0.9963529181965789, 0.9954968655626446, 0.9992256455264594, 0.9984905696838967, 0.9975597163805185, 0.9990227057216371, 0.5181570878416963, 0.4805808104791306, 0.9980860276841088, 0.9947491029633125, 0.9995399364503832, 0.21062545672186153, 0.1973924437341006, 0.44826831496040165, 0.14280626515958675, 0.32145202639986953, 0.3582264843325598, 0.08934030074235942, 0.10880913141260724, 0.04369670883766732, 0.05494536655825495, 0.023362596804297378, 0.30842371625778064, 0.1302392490926127, 0.5610306114758701, 0.9987235451215128, 0.998356834133052, 0.999382564900551, 0.2929129155068775, 0.7047752383261925, 0.3449486729018399, 0.65398786250475, 0.8260067282546529, 0.17274478609161234, 0.9973703543925978, 0.24611758855355217, 0.7534448819398838, 0.9947360653232387, 0.22654810048420462, 0.09112549293219403, 0.6809099332988944, 0.9954130678551026, 0.9975806714443739, 0.996376467137332, 0.9963773130485748, 0.9982150819306931, 0.999246594350817, 0.9968313570482688, 0.9976068572500568, 0.259855247691786, 0.739733916786836, 0.9973236521841292, 0.9968384245309385, 0.9987970382824648, 0.9991012957169295, 0.9984713927578324, 0.9962938976173301, 0.9980367910900855, 0.9973998676947103, 0.999082111059455, 0.15508663590484806, 0.2659735805768144, 0.577697718745559, 0.9985667825309522, 0.9985656069582768, 0.9974627487249546, 0.998408525104497, 0.9983374316456665, 0.9954145569895468, 0.9984619955282774, 0.9977943269504583, 0.9965743665305746, 0.9966682414525567, 0.3333728704131953, 0.6647005084925673, 0.9968359757185205, 0.996888614899051, 0.9955047837984963, 0.9984318831268862, 0.9966706901144534, 0.9992088198656863, 0.9979262191912258, 0.9965545169627669, 0.9986030790947902, 0.9989824460944572, 0.996669331658597, 0.9965568022465215, 0.5720716320016653, 0.42641501721157343, 0.9985801919485766, 0.9986436951024592, 0.8400589145615932, 0.1131329341783098, 0.04672202668413623, 0.25009552371746085, 0.7496981110965767, 0.9985338764591262, 0.2563273521932423, 0.12881557678887254, 0.1393329079571948, 0.46563093445208514, 0.009908890522220964, 0.9977009070047039, 0.9975908063889906, 0.9987898300887489, 0.15737139925800647, 0.8422694608174994, 0.17334432707917682, 0.26427905603874496, 0.5617113986773326, 0.9993144462836199, 0.9963250447966198, 0.2528904834652768, 0.7466974691711487, 0.9992230368106179, 0.3626081480249274, 0.634564259043623, 0.9973374578538444, 0.9987059128489387, 0.9990956033490083, 0.9980032166055639, 0.08225733859586255, 0.23146832488603183, 0.6848401678446231, 0.996653362306627, 0.8011297006403693, 0.19724784296069697, 0.2474465118715147, 0.07201397391446708, 0.44562030474892034, 0.11154044079985127, 0.12291106826003027, 0.9991854949223333, 0.9991040060691807, 0.9980205914504993, 0.9987385038891096, 0.9953684983081676, 0.9996627321301564, 0.997045333710219, 0.9971230035752726, 0.9951347791068383, 0.9976428599796366, 0.7240032707686246, 0.12155122067238813, 0.09547295878267577, 0.05878659036155499, 0.9945035497841421, 0.35527226896573577, 0.18823582151991144, 0.4561520490424262, 0.9976219057347795, 0.8655294347090838, 0.1339859124916887, 0.9943324772562441, 0.23411632991352543, 0.7651018204390471, 0.9972708724533638, 0.9986939653527342, 0.9979923611476265, 0.4137346043241505, 0.22102062829479496, 0.08892291772274416, 0.27591837814292, 0.32051330256660776, 0.6790838432858368, 0.9969317165156648, 0.9964328446848948, 0.9988659884541669, 0.9994155755576578, 0.9982897460495856, 0.9944864157371445, 0.997070900376697, 0.1965057047256427, 0.8033112127852274, 0.31155086397945925, 0.24418851501092753, 0.06399423152010515, 0.37975524231009766, 0.3315823901828165, 0.19971388918792116, 0.46822873541665727, 0.9967128577112623, 0.9005107403709869, 0.09858640728528806, 0.9993515227888771, 0.9988813437512738, 0.5242815362560012, 0.14774202110938614, 0.15290009665933976, 0.047159547885290344, 0.03334327409077169, 0.03481700996218701, 0.059502085808393675, 0.9991941286314316, 0.17939464992347642, 0.6075498810741734, 0.21208434168730989, 0.28658095419859386, 0.03126337682166478, 0.19196810329092412, 0.033457298002132485, 0.06444643467623881, 0.023036172394910893, 0.0896765282516174, 0.08391748515288969, 0.07212515880787577, 0.03729666006795097, 0.028520975346080155, 0.012615046787689299, 0.04497538419958794, 0.2909558384627455, 0.17999810345576625, 0.5288985368666008, 0.9961390680855235, 0.9987385651286034, 0.2780285727780937, 0.6714196957193199, 0.05019960341826691, 0.3097027015252079, 0.43373597019500865, 0.2564368806240665, 0.9962018585111859, 0.29307907964947433, 0.7065582136414353, 0.9951601263982963, 0.9979561371207387, 0.9995823932928488, 0.9979892330357882, 0.9969371375072714, 0.9973274295667393, 0.9968928019894063, 0.08758108180515076, 0.9108432507735679, 0.9982603482331823, 0.9979580138309754, 0.0675623584396752, 0.7304456123878027, 0.20152886346005974, 0.9978208266673996, 0.9992609610068003, 0.9984337613618491, 0.34244594437500464, 0.6571649300571856, 0.9965579115579514, 0.458026064680462, 0.5403904008730012, 0.9934102332341398, 0.9971927374449463, 0.9978822812784576, 0.5247890601947516, 0.2323962573727447, 0.06614076998322282, 0.06433364512029324, 0.047708096381341054, 0.06433364512029324, 0.9967221303671512, 0.9980328314770045, 0.9962680150712468, 0.9979294066915338, 0.9967988429401988, 0.99663622636769, 0.9993504913752237, 0.9963767224733309, 0.4153496241022133, 0.5844200274002649, 0.6466092237570631, 0.3534573736081355, 0.9963981546758313, 0.9961893289185669, 0.9971310808259338, 0.9984091840457202, 0.9977171137971047, 0.9953185218190133, 0.9956502583915634, 0.9971360812271751, 0.9995744584338205, 0.9975526498715961, 0.9992871565254443, 0.999085891835725, 0.9978936591004728, 0.998996930735283, 0.252990099133537, 0.18974257435015274, 0.5554782611410268, 0.997448994066471, 0.996647040859336, 0.9958407201883536, 0.7276288115512277, 0.2713858810650525, 0.9990209921011927, 0.34404839959514466, 0.5907609774560888, 0.06456930748704397, 0.9975136715918071, 0.19602237158623842, 0.20386326644968794, 0.5990443675675446, 0.9966994089996912, 0.997067167265469, 0.9982424084183729, 0.2749061426785624, 0.7241930475039741, 0.7954708656675279, 0.20333665386445238, 0.9990731907410522, 0.5550335166900533, 0.4447499840578277, 0.9970609152575484, 0.04213971857945715, 0.3653957176823982, 0.5921739400376347, 0.9965224768463601, 0.9998412487659173, 0.9977139082981803, 0.9942891282781594, 0.470645802297511, 0.22747880444379698, 0.301791299543404, 0.9974801483009968, 0.9982250317958846, 0.9978914630339706, 0.9965696036026614, 0.9977418747714314, 0.2943325924477072, 0.7047001492257605, 0.9951902406381631, 0.998240566070264, 0.9990044475004487, 0.36016350184872253, 0.11477737971003245, 0.5237542499411826, 0.9975586880306374, 0.9962526705738739, 0.8713581868951717, 0.08036437590493471, 0.04687921927787858, 0.9993443172727497, 0.32486939473373716, 0.16517936967260677, 0.4725826679152828, 0.036928318295386404, 0.9981072550921316, 0.9941215549492981, 0.9993402441132212, 0.9990285041224858, 0.999771976040041, 0.994365565975427, 0.9970644099053677, 0.9985244865397368, 0.9981209918489048, 0.9981493454257893, 0.9996036890672194, 0.996527460729701, 0.24033974382530368, 0.5688270154719222, 0.19006810686471007, 0.9965523665316045, 0.9984599612018632, 0.7619576435123313, 0.17001427034633929, 0.06777977555335786, 0.99709897263604, 0.34924262863892347, 0.5483223029444987, 0.10238383250001012, 0.24020146670010975, 0.7591552527805938, 0.9549929800978599, 0.04340877182263, 0.9975332567528192, 0.9989542383033465, 0.2863015585419325, 0.05160608030144552, 0.23065674152124346, 0.06013230226429304, 0.05564481702068908, 0.08122348290923165, 0.05654231406940988, 0.03096364818086731, 0.14629201894148905, 0.9975827214403, 0.9960036974247772, 0.99975088908162, 0.18971414462135475, 0.8086565414485245, 0.999500161289128, 0.997904384272153, 0.9978780306825119, 0.9960326251390289, 0.9995975590997179, 0.13840418226975132, 0.8581059300724582, 0.4487163746362735, 0.17967177849213017, 0.37184649002366116, 0.9969699315835919, 0.8472450947813626, 0.15268563144768096, 0.9996455765252672, 0.9950653524010056, 0.9978359504613888, 0.9978480082119907, 0.9958209576281005, 0.9980788285296849, 0.9958657206690679, 0.9971707390140595, 0.9994951600013682, 0.9983162112544809, 0.9986594227319823, 0.7563048141062864, 0.24342461923793032, 0.3039120133773546, 0.6946560305768105, 0.9988448254144685, 0.16582940104774707, 0.17476631487666758, 0.5938082744104954, 0.06454437765331472, 0.9989384823184361, 0.4042097588166976, 0.09532110730304211, 0.11191180635895133, 0.11432499894890177, 0.15595257112554675, 0.0726974267722568, 0.04554901013531443, 0.2539212752723406, 0.6435215152288288, 0.10244034281373397, 0.550050340567416, 0.44889165724467284, 0.9981136697960079, 0.9982709468669877, 0.9968047605211676, 0.27424849014059594, 0.6169036331507283, 0.10820688726635758, 0.9969432209201707, 0.9991825895747071, 0.9996222685734234, 0.9979378603644186, 0.9970998148347233, 0.992966648132983, 0.8879274686011263, 0.09865860762234736, 0.01233232595279342, 0.16815597196039392, 0.2196174978620662, 0.6117398290283296, 0.998690285767456, 0.9982664506998706, 0.996654250162015, 0.9980511914708454, 0.37308393535114975, 0.24380865076138963, 0.3821558851469224, 0.9982845172572479, 0.996969545731265, 0.9992318007111216, 0.998335302866015, 0.9965931387799865, 0.9984411266512623, 0.9980783359135571, 0.12810610959416843, 0.8714875626963287, 0.9976901289784192, 0.9951412057729375, 0.9985678561224145, 0.23059424633621461, 0.09870609815848895, 0.12054744753823969, 0.09492586461199362, 0.060903762693535736, 0.0386423873641744, 0.22471388304166634, 0.07770480067795939, 0.05334329560054509, 0.9982526158273709, 0.9970000506918822, 0.9965799809463133, 0.3365701386844404, 0.6615344105176931, 0.999189707091035, 0.9990499347424185, 0.29109017735143894, 0.7083872847433619, 0.9972134970560216, 0.998488280680816, 0.9965751552104982, 0.9965210362017062, 0.11820952565031864, 0.8817517406877845, 0.9981187184216864, 0.9996092120846454, 0.9987697046690469, 0.26976201507844844, 0.7299949737106896, 0.9994550319502419, 0.9997262011551479, 0.4892616072853384, 0.5102845669733803, 0.9973774051082329, 0.9979063956983127, 0.9951806037043118, 0.9966023271720231, 0.999085631774981, 0.9971218096952323, 0.9995899634168701, 0.9960849759131687, 0.17774224736171915, 0.20613732220905984, 0.3595799382110355, 0.17856133605923857, 0.026483867886461992, 0.05105652881204528, 0.9952693721793252, 0.3346502255335572, 0.6638143817960726, 0.9986232867136883, 0.9996273006800815, 0.25698909085140426, 0.7422449624002322, 0.9983130903589632, 0.9989981574786376, 0.9962841398887236, 0.9981566059781053, 0.43702253186791984, 0.16464569805256515, 0.397588870852861, 0.9982279196354654, 0.8303844438083363, 0.1198276286001903, 0.04919239489902549, 0.9964877848733973, 0.9977569656133926, 0.9978577758610816, 0.1895214072713756, 0.13881410581014797, 0.10129988052095923, 0.09430181402970383, 0.059885093580906816, 0.020305865064790242, 0.028106988366517566, 0.044971181386428104, 0.07101316652601786, 0.025238928329117814, 0.010210293733143116, 0.04152950934154841, 0.0060802872792874735, 0.1027912717404071, 0.012275296960070937, 0.0037858392493676724, 0.005277230468815543, 0.03177810521438925, 0.012848908967550888, 0.9982273481789299, 0.9970601923902428, 0.9996961417871493, 0.999092699664343, 0.9983749246982296, 0.9982353853849008, 0.9970400950631214, 0.9939125759581968, 0.9993924509664366, 0.9956432188660189, 0.9988607436325746, 0.9958458008840918, 0.9987239110111787, 0.9968004909024591, 0.9951988503555997, 0.9974226274056734, 0.17913752671409836, 0.8205250349491918, 0.9973569649567108, 0.20409046516718174, 0.7951826614532647, 0.9984241005485535, 0.9972279699386282, 0.9970667998761594, 0.9986393338293513, 0.9947874220253143, 0.16328022857443186, 0.8359947703010912, 0.9968679711488484, 0.9961698824813077, 0.9989169841681942, 0.9990831190782776, 0.9984375300249541, 0.9992594335002947, 0.3949306630437723, 0.603454053130884, 0.9986965111784887, 0.9970884022425315, 0.998651318184989, 0.9995218532365596, 0.9986561618295224, 0.9978953542203644, 0.9983739430023829, 0.996998592098583, 0.9974905852574699, 0.9975177150648176, 0.22840652714512616, 0.1672180986504825, 0.13866728275734175, 0.27154493684450387, 0.06402648176433955, 0.072710924769609, 0.05732867604785721, 0.9030170227438132, 0.09655547313204396], \"Term\": [\"\\uac00\\uaca9\", \"\\uac00\\ub2a5\", \"\\uac00\\ub2a5\", \"\\uac00\\ub2a5\", \"\\uac00\\ub2a5\", \"\\uac00\\ub2a5\", \"\\uac00\\ub2a5\", \"\\uac00\\ub2a5\", \"\\uac00\\ub2a5\", \"\\uac00\\ub85c\\uc26c\", \"\\uac00\\ub8e8\", \"\\uac00\\uc2dc\", \"\\uac00\\uc2dc\\uc131\", \"\\uac00\\uc694\", \"\\uac00\\uc694\", \"\\uac00\\uc785\", \"\\uac00\\uc871\", \"\\uac00\\uc988\\ub85c\", \"\\uac00\\uce58\", \"\\uac00\\uce58\", \"\\uac04\\uc9c0\", \"\\uac10\\uc0ac\", \"\\uac10\\uc18c\", \"\\uac11\\uc637\", \"\\uac15\\ud654\", \"\\uac1c\\uafc0\", \"\\uac1c\\ub625\", \"\\uac1c\\ubc1c\", \"\\uac1c\\ubc1c\\uc790\", \"\\uac1c\\uc18c\\ub9ac\", \"\\uac1c\\uc778\", \"\\uac1c\\uc778\", \"\\uac1c\\uc778\", \"\\uac1c\\uc778\", \"\\uac1c\\uc778\", \"\\uac1c\\ud310\", \"\\uac70\\uac15\", \"\\uac70\\ub9ac\", \"\\uac70\\ubbf8\", \"\\uac71\\uc815\", \"\\uac74\\uac00\", \"\\uac74\\uc9c0\", \"\\uac74\\uc9c0\", \"\\uac74\\uc9c0\", \"\\uac78\\uae4c\", \"\\uac78\\uae4c\\uc694\", \"\\uac78\\ub85c\", \"\\uac78\\ub85c\", \"\\uac78\\ub85c\", \"\\uac78\\ub85c\", \"\\uac78\\ub85c\", \"\\uac78\\ub85c\", \"\\uac78\\ub85c\", \"\\uac8c\\uc2dc\\ud310\", \"\\uac8c\\uc784\", \"\\uac8c\\uc784\", \"\\uac8c\\uc784\", \"\\uac8c\\uc784\", \"\\uac8c\\uc784\", \"\\uac8c\\uc784\", \"\\uac90\\uc9c0\", \"\\uac90\\uc9c0\", \"\\uac90\\ud2b8\", \"\\uaca8\\uc6b8\", \"\\uacb0\\uacfc\", \"\\uacb0\\uacfc\", \"\\uacbd\\uae30\", \"\\uacbd\\ud5d8\", \"\\uacbd\\ud5d8\\uce58\", \"\\uacc4\\uc0b0\", \"\\uace0\\uae30\", \"\\uace0\\ubbfc\", \"\\uace0\\ubbfc\", \"\\uace0\\ube14\\ub9b0\", \"\\uace0\\uc778\", \"\\uace0\\uc99d\", \"\\uace8\\ub4dc\", \"\\uace8\\ub4dc\", \"\\uace8\\ub4dc\", \"\\uacf5\\uac10\", \"\\uacf5\\uac10\", \"\\uacf5\\uac10\", \"\\uacf5\\uac1c\", \"\\uacf5\\uaca9\", \"\\uacf5\\ubd80\", \"\\uacf5\\uc11d\", \"\\uacf5\\uc18d\", \"\\uacf5\\uc18d\", \"\\uacf5\\ud3ec\", \"\\uacf5\\ud5c8\", \"\\uacfc\\uae08\", \"\\uad00\\ub828\", \"\\uad00\\ub828\", \"\\uad00\\uc2ec\", \"\\uad00\\ud1b5\", \"\\uad11\\uace0\", \"\\uad11\\uc0b0\", \"\\uad11\\uc5ed\", \"\\uad6c\\uac04\", \"\\uad6c\\uacbd\", \"\\uad6c\\ub9e4\", \"\\uad6c\\ud604\", \"\\uad6d\\ub0b4\", \"\\uad70\\ub2e8\", \"\\uad70\\ub300\", \"\\uad70\\uc8fc\", \"\\uad74\\ub2e8\", \"\\uad81\\uac15\", \"\\uad81\\uadf9\", \"\\uad81\\uc774\", \"\\uadf8\\uac70\", \"\\uadf8\\uac70\", \"\\uadf8\\uac70\", \"\\uadf8\\uac70\", \"\\uadf8\\uac70\", \"\\uadf8\\uac70\", \"\\uadf8\\uac70\", \"\\uadf8\\uac70\", \"\\uadf8\\ub54c\", \"\\uadf8\\ub54c\", \"\\uadf8\\ub54c\", \"\\uadf8\\ub54c\", \"\\uadf8\\ub54c\", \"\\uadf8\\ub54c\", \"\\uadf8\\ub54c\", \"\\uadf8\\ub808\\uc774\\uba54\\uc778\", \"\\uadf8\\ub9bc\", \"\\uadfc\\ub300\", \"\\uadfc\\uc811\", \"\\uadfc\\uc811\", \"\\uae30\\uac04\", \"\\uae30\\ub300\", \"\\uae30\\ub465\", \"\\uae30\\ub825\", \"\\uae30\\ubcf8\", \"\\uae30\\ubcf8\", \"\\uae30\\ubd84\", \"\\uae30\\uc0ac\", \"\\uae30\\uc220\", \"\\uae30\\uc5b5\", \"\\uae30\\uc5b5\", \"\\uae30\\uc5b5\", \"\\uae30\\uc5b5\", \"\\uae30\\uc6d0\", \"\\uae30\\uc900\", \"\\uae30\\uc900\", \"\\uae30\\uc900\", \"\\uae43\\ubc1c\", \"\\ub098\\ub178\", \"\\ub098\\ub77c\", \"\\ub098\\ubf55\", \"\\ub098\\uc774\", \"\\ub098\\uc911\", \"\\ub098\\uc911\", \"\\ub098\\uc9c0\\ubcf4\", \"\\ub09c\\ub9ac\", \"\\ub09c\\ud22c\", \"\\ub0a8\\uc790\", \"\\ub0b4\\ub144\", \"\\ub0b4\\uc6a9\", \"\\ub0b4\\uc77c\", \"\\ub0c4\\uc0c8\", \"\\ub124\\uc784\", \"\\ub140\\uc11d\", \"\\ub140\\uc11d\", \"\\ub178\\ub798\", \"\\ub178\\ub8e8\", \"\\ub178\\ubc14\", \"\\ub17c\\ub780\", \"\\ub180\\uc774\", \"\\ub204\\uac00\", \"\\ub204\\uac00\", \"\\ub204\\uac00\", \"\\ub204\\uad6c\", \"\\ub204\\uad6c\", \"\\ub204\\uad6c\", \"\\ub204\\uad70\\uac00\", \"\\ub204\\ub354\\uae30\", \"\\ub204\\ub354\\uae30\", \"\\ub208\\ubb3c\", \"\\ub290\\ub08c\", \"\\ub290\\ub08c\", \"\\ub290\\ub08c\", \"\\ub290\\ub08c\", \"\\ub290\\ub08c\", \"\\ub290\\ub08c\", \"\\ub290\\ub08c\", \"\\ub290\\ub08c\", \"\\ub2a5\\ub825\", \"\\ub2a5\\ub825\", \"\\ub2c9\\ub124\\uc784\", \"\\ub2e4\\ub974\", \"\\ub2e4\\ub9ac\", \"\\ub2e4\\uc12f\", \"\\ub2e4\\uc57c\", \"\\ub2e4\\uc74c\", \"\\ub2e4\\uc74c\", \"\\ub2e4\\uc74c\", \"\\ub2e4\\uc74c\", \"\\ub2e4\\uc74c\", \"\\ub2e4\\uc74c\", \"\\ub2e4\\uc74c\", \"\\ub2e4\\uc774\\uc544\", \"\\ub2e4\\ud589\", \"\\ub2e8\\ub450\\ub300\", \"\\ub2ec\\uc131\", \"\\ub2f7\\uc9c0\", \"\\ub2f9\\uc2dc\", \"\\ub2f9\\uc2dc\", \"\\ub2f9\\uc2e0\", \"\\ub2f9\\uc2e0\", \"\\ub2f9\\uc7a5\", \"\\ub2f9\\ucca8\", \"\\ub2f9\\ud669\", \"\\ub300\\uac00\\ub9ac\", \"\\ub300\\uae30\", \"\\ub300\\uae30\", \"\\ub300\\ub9cc\", \"\\ub300\\ubc15\", \"\\ub300\\ubd80\\ubd84\", \"\\ub300\\ubd80\\ubd84\", \"\\ub300\\uc0ac\", \"\\ub300\\uc0ac\", \"\\ub300\\uc2e0\", \"\\ub300\\uc2e0\", \"\\ub300\\uc791\", \"\\ub300\\uccb4\", \"\\ub300\\ucda9\", \"\\ub300\\ud68c\", \"\\ub300\\ud68c\", \"\\ub300\\ud68c\", \"\\ub300\\ud68c\", \"\\ub313\\uae00\", \"\\ub313\\uae00\", \"\\ub370\\ubbf8\\uc9c0\", \"\\ub370\\ud558\\uce74\", \"\\ub3c4\\ub07c\", \"\\ub3c4\\ubc1c\", \"\\ub3c4\\uc0b4\\uc790\", \"\\ub3c4\\uc0b4\\uc790\", \"\\ub3c4\\uc0b4\\uc790\", \"\\ub3c4\\uc6b0\", \"\\ub3c4\\ud0c0\", \"\\ub3c4\\ud2b8\", \"\\ub3cc\\uc9c4\", \"\\ub3cc\\uc9c4\", \"\\ub3d9\\ub124\", \"\\ub3d9\\ub124\", \"\\ub3d9\\ubb3c\", \"\\ub3d9\\uc548\", \"\\ub3d9\\uc548\", \"\\ub3d9\\uc548\", \"\\ub3fc\\uc9c0\", \"\\ub450\\uc778\", \"\\ub4dc\\ub808\\ub4dc\", \"\\ub4dc\\ub9bd\", \"\\ub4dc\\uc6cc\\ud504\", \"\\ub4ef\\uc774\", \"\\ub4ef\\uc774\", \"\\ub4f1\\uc7a5\", \"\\ub4f1\\uc7a5\", \"\\ub514\\ubc14\", \"\\ub514\\uc544\", \"\\ub514\\uc544\", \"\\ub514\\uc544\\ube14\\ub85c\", \"\\ub514\\uc544\\ube14\\ub85c\", \"\\ub51c\\ub7ec\", \"\\ub51c\\ub7ec\", \"\\ub5a1\\ubc25\", \"\\ub77c\\uadf8\", \"\\ub77c\\uadf8\\ub098\\ub85c\\uc2a4\", \"\\ub77c\\uba74\", \"\\ub77c\\uc774\\ud2b8\", \"\\ub77c\\uc778\", \"\\ub77c\\uc778\", \"\\ub77c\\uc778\", \"\\ub7ec\\uc2a4\", \"\\ub808\\uac00\\ub974\", \"\\ub808\\ub527\", \"\\ub808\\ubca8\", \"\\ub808\\ubca8\", \"\\ub808\\uc624\\ub9ad\", \"\\ub808\\uc774\\ub108\", \"\\ub808\\uc774\\ub108\", \"\\ub808\\uc774\\ube10\", \"\\ub809\\uc0ac\\ub974\", \"\\ub85c\\ub4dc\", \"\\ub85c\\ub529\", \"\\ub85c\\ubd07\", \"\\ub85c\\uc2a4\", \"\\ub8e8\\ub098\\ub77c\", \"\\ub8e8\\uc2dc\\uc6b0\", \"\\ub8e8\\uc2dc\\uc6b0\", \"\\ub9ac\\uadf8\", \"\\ub9ac\\uadf8\", \"\\ub9ac\\uadf8\", \"\\ub9ac\\uadf8\", \"\\ub9ac\\ub9ac\", \"\\ub9ac\\ubc0d\", \"\\ub9ac\\uc14b\", \"\\ub9ac\\uc548\", \"\\ub9ac\\uc5bc\", \"\\ub9ac\\uc5d8\", \"\\ub9ac\\uc628\", \"\\ub9ac\\uce58\", \"\\ub9ac\\uce58\", \"\\ub9ac\\ud50c\\ub808\\uc774\", \"\\ub9b0\\uc774\", \"\\ub9c8\\ub098\", \"\\ub9c8\\ub098\", \"\\ub9c8\\ub9ac\", \"\\ub9c8\\ub9ac\", \"\\ub9c8\\ubb34\\ub9ac\", \"\\ub9c8\\uc2a4\\ud130\", \"\\ub9c8\\uc74c\", \"\\ub9c8\\uc74c\", \"\\ub9c8\\uc74c\", \"\\ub9c8\\uc74c\", \"\\ub9c8\\uc774\\uc5d0\\ube0c\", \"\\ub9c8\\uc774\\ud2f0\", \"\\ub9c8\\uc9c0\\ub9c9\", \"\\ub9c8\\uc9c0\\ub9c9\", \"\\ub9c8\\uc9c0\\ub9c9\", \"\\ub9c8\\uc9c0\\ub9c9\", \"\\ub9c8\\uc9c0\\ub9c9\", \"\\ub9c9\\ud310\", \"\\ub9cc\\uace8\", \"\\ub9cc\\ub0a8\", \"\\ub9cc\\uc57d\", \"\\ub9cc\\uc57d\", \"\\ub9cc\\uc871\", \"\\ub9cc\\uc871\", \"\\ub9cc\\ud654\", \"\\ub9d0\\ud2f0\\uc5d8\", \"\\ub9dd\\uce58\", \"\\ub9e4\\ub825\", \"\\ub9e4\\ub825\", \"\\ub9e4\\uce58\", \"\\ub9e4\\uce6d\", \"\\ub9e4\\uce6d\", \"\\ub9e4\\uce6d\", \"\\ub9e4\\uce6d\", \"\\uba38\\ub9ac\", \"\\uba38\\ub9ac\", \"\\uba38\\ud0a4\", \"\\uba54\\ub274\", \"\\uba54\\ub514\\ube0c\", \"\\uba54\\ub514\\ube0c\", \"\\uba54\\ub514\\ube0c\", \"\\uba54\\ub974\\uc2dc\", \"\\uba54\\ub9ac\", \"\\uba54\\uc774\", \"\\uba54\\uc774\\uc9c0\", \"\\uba54\\uc774\\uc9c0\", \"\\uba54\\uc774\\uc9c0\", \"\\uba54\\uc778\", \"\\uba54\\ud0c0\", \"\\uba58\\ud0c8\", \"\\uba58\\ud0c8\", \"\\uba78\\uc790\", \"\\ubaa8\\ub2e8\", \"\\ubaa8\\ub378\", \"\\ubaa8\\ub378\\ub9c1\", \"\\ubaa8\\ub450\", \"\\ubaa8\\ub4dc\", \"\\ubaa8\\ub4dc\", \"\\ubaa8\\ub784\", \"\\ubaa8\\ub784\\ub808\\uc2a4\", \"\\ubaa8\\uc158\", \"\\ubaa8\\uc2a4\\ud2b8\", \"\\ubaa8\\uc2b5\", \"\\ubaa8\\uc2b5\", \"\\ubaa8\\uc2b5\", \"\\ubaa8\\uc591\", \"\\ubaa8\\uc5b4\", \"\\ubaa9\\ub85d\", \"\\ubaa9\\uc18c\\ub9ac\", \"\\ubb18\\uc2e4\", \"\\ubb34\\uae30\", \"\\ubb34\\ub77c\\ub518\", \"\\ubb34\\ub8cc\", \"\\ubb34\\ube59\", \"\\ubb34\\uc0ac\", \"\\ubb34\\uc5c7\", \"\\ubb38\\uc81c\", \"\\ubb38\\uc81c\", \"\\ubb38\\uc81c\", \"\\ubb38\\uc81c\", \"\\ubb54\\uac00\\uc694\", \"\\ubb54\\uc9c0\", \"\\ubb54\\uc9c0\", \"\\ubbf8\\uad6d\", \"\\ubbf8\\ub798\", \"\\ubbf8\\uc0e4\", \"\\ubbf8\\uc2a4\", \"\\ubbf8\\uc548\", \"\\ubc14\\ub2e5\", \"\\ubc14\\ub9ac\\uc548\", \"\\ubc14\\ub9ac\\uc548\", \"\\ubc14\\uc774\\ud0b9\", \"\\ubc15\\uc2a4\", \"\\ubc18\\uc751\", \"\\ubc18\\uc751\", \"\\ubc1c\\uacac\", \"\\ubc1c\\ub77c\", \"\\ubc1c\\ub9ac\\ub77c\", \"\\ubc1c\\ud45c\", \"\\ubc29\\uad6c\\uc11d\", \"\\ubc29\\ubc95\", \"\\ubc29\\ubc95\", \"\\ubc29\\ubc95\", \"\\ubc29\\ubc95\", \"\\ubc29\\uc1a1\", \"\\ubc29\\uc5b4\\ub825\", \"\\ubc29\\ud328\", \"\\ubc30\\uacbd\", \"\\ubc30\\uce58\", \"\\ubc84\\uadf8\", \"\\ubc84\\uadf8\", \"\\ubc84\\uc2a4\", \"\\ubc84\\uc804\", \"\\ubc84\\ud504\", \"\\ubc84\\ud504\", \"\\ubc88\\ub4e4\", \"\\ubc8c\\ub808\", \"\\ubc94\\uc704\", \"\\ubcc0\\uc2e0\", \"\\ubcd1\\uc2e0\", \"\\ubcd1\\uc2e0\", \"\\ubcf4\\uc0c1\", \"\\ubcf4\\uc774\\uc2a4\", \"\\ubcf4\\ud1b5\", \"\\ubcf4\\ud1b5\", \"\\ubcf4\\ud638\\ub9c9\", \"\\ubcf5\\uadc0\", \"\\ubcfc\\uc2a4\", \"\\ubd80\\ubd84\", \"\\ubd80\\ubd84\", \"\\ubd80\\ubd84\", \"\\ubd80\\ubd84\", \"\\ubd80\\uc2ec\", \"\\ubd80\\uc871\", \"\\ubd80\\uc871\", \"\\ubd80\\uc871\", \"\\ubd80\\uc871\", \"\\ubd80\\ud0c1\", \"\\ubd81\\ubbf8\", \"\\ubd84\\ub178\", \"\\ubd84\\ub958\", \"\\ubd84\\uc2dd\\uc9d1\", \"\\ubd84\\uc704\\uae30\", \"\\ubd88\\uac00\", \"\\ubd88\\uac00\", \"\\ubd88\\ubd84\", \"\\ube0c\\ub77d\", \"\\ube0c\\ub8e8\", \"\\ube14\\ub799\", \"\\ube14\\ub9ac\\uc790\\ub4dc\", \"\\ube14\\ub9ac\\uc790\\ub4dc\", \"\\ube14\\ub9ac\\uc790\\ub4dc\", \"\\ube14\\ub9ac\\uc790\\ub4dc\", \"\\ube14\\ub9ac\\uc790\\ub4dc\", \"\\ube14\\ub9ac\\uc790\\ub4dc\", \"\\ube14\\ub9ac\\uc790\\ub4dc\", \"\\ube14\\ub9ac\\uc790\\ub4dc\", \"\\ube14\\ub9ac\\uc988\\ucee8\", \"\\ube44\\uad50\", \"\\ube44\\uad50\", \"\\ube44\\uad50\", \"\\ube44\\ub9ac\", \"\\ube44\\ubc00\", \"\\ube44\\uc911\", \"\\ube5b\\ub098\\ub798\", \"\\ube61\\ube61\\uc774\", \"\\ube68\\ub300\", \"\\uc0ac\\uac70\\ub9ac\", \"\\uc0ac\\uae30\", \"\\uc0ac\\uae30\", \"\\uc0ac\\uae30\", \"\\uc0ac\\ub0e5\", \"\\uc0ac\\ub0e5\", \"\\uc0ac\\ub78c\", \"\\uc0ac\\ub78c\", \"\\uc0ac\\ub78c\", \"\\uc0ac\\ub78c\", \"\\uc0ac\\ub791\", \"\\uc0ac\\ub791\", \"\\uc0ac\\ub839\\uad00\", \"\\uc0ac\\ub9dd\", \"\\uc0ac\\ubb34\", \"\\uc0ac\\uc2ac\", \"\\uc0ac\\uc591\", \"\\uc0ac\\uc6a9\", \"\\uc0ac\\uc6a9\", \"\\uc0ac\\uc6d0\", \"\\uc0ac\\uc774\\ud2b8\", \"\\uc0ac\\uc778\", \"\\uc0ac\\uc9c4\", \"\\uc0c1\\uad00\", \"\\uc0c1\\ub300\", \"\\uc0c1\\ub300\", \"\\uc0c1\\ub300\", \"\\uc0c1\\ub300\", \"\\uc0c1\\ub300\", \"\\uc0c1\\ub300\", \"\\uc0c1\\uc0c1\", \"\\uc0c1\\uc0c1\", \"\\uc0c1\\uc790\", \"\\uc0c1\\ud488\", \"\\uc0c1\\ud5a5\", \"\\uc0c1\\ud5a5\", \"\\uc0c1\\ud5a5\", \"\\uc0c1\\ud669\", \"\\uc0c1\\ud669\", \"\\uc0c1\\ud669\", \"\\uc0c1\\ud669\", \"\\uc0c8\\uae30\", \"\\uc0c8\\ub07c\", \"\\uc0c8\\ubcbd\", \"\\uc0c9\\uae54\", \"\\uc0dd\\uc874\", \"\\uc0dd\\ud65c\", \"\\uc11c\\ub9ac\", \"\\uc11c\\ubc84\", \"\\uc11c\\ube0c\", \"\\uc120\\uc0dd\", \"\\uc120\\uc218\", \"\\uc120\\uce58\", \"\\uc120\\ud638\", \"\\uc124\\uc815\", \"\\uc124\\uc815\", \"\\uc131\\uaca9\", \"\\uc131\\uacf5\", \"\\uc131\\uacf5\", \"\\uc131\\uc6b0\", \"\\uc131\\uc7a5\", \"\\uc131\\ucc44\", \"\\uc131\\ucc44\", \"\\uc138\\uacc4\", \"\\uc138\\uacc4\\uad00\", \"\\uc138\\uc0c1\", \"\\uc138\\uc774\\ube0c\", \"\\uc138\\uc774\\ube0c\", \"\\uc138\\ud2b8\", \"\\uc13c\\uc2a4\", \"\\uc154\\ud2c0\", \"\\uc18c\\uac1c\", \"\\uc18c\\ub0d0\", \"\\uc18c\\ub984\", \"\\uc18c\\ub9ac\", \"\\uc18c\\ub9ac\", \"\\uc18c\\ub9ac\", \"\\uc18c\\ub9ac\", \"\\uc18c\\ubaa8\", \"\\uc18c\\uc2dd\", \"\\uc190\\uac00\\ub77d\", \"\\uc218\\ub8e1\", \"\\uc218\\ub958\\ud0c4\", \"\\uc218\\uc7a5\", \"\\uc218\\uc815\", \"\\uc218\\uc815\", \"\\uc218\\uc900\", \"\\uc218\\uc900\", \"\\uc218\\uc900\", \"\\uc218\\uc900\", \"\\uc274\\ub4dc\", \"\\uc288\\ud37c\", \"\\uc288\\ud37c\", \"\\uc2a4\\ub784\", \"\\uc2a4\\uce74\", \"\\uc2a4\\ud0a8\", \"\\uc2a4\\ud0a8\", \"\\uc2a4\\ud0ac\", \"\\uc2a4\\ud0ac\", \"\\uc2a4\\ud0ac\", \"\\uc2a4\\ud0ac\", \"\\uc2a4\\ud0c0\", \"\\uc2a4\\ud0c0\", \"\\uc2a4\\ud0c0\\ud06c\\ub798\\ud504\\ud2b8\", \"\\uc2a4\\ud1a0\\ub9ac\", \"\\uc2a4\\ud1a4\", \"\\uc2a4\\ud1b0\", \"\\uc2a4\\ud22c\", \"\\uc2a4\\ud22c\\ucf54\\ud504\", \"\\uc2a4\\ud22c\\ucf54\\ud504\", \"\\uc2a4\\ud2b8\\ub9ac\", \"\\uc2a4\\ud2f0\", \"\\uc2a4\\ud300\", \"\\uc2a4\\ud504\\ub808\\uc774\", \"\\uc2ac\\ub85c\\uc6b0\", \"\\uc2b9\\ub960\", \"\\uc2b9\\ub9ac\", \"\\uc2b9\\ub9ac\", \"\\uc2dc\\uac04\", \"\\uc2dc\\uac04\", \"\\uc2dc\\uac04\", \"\\uc2dc\\uacc4\", \"\\uc2dc\\uacf5\", \"\\uc2dc\\uae30\", \"\\uc2dc\\uae30\", \"\\uc2dc\\ub124\\ub9c8\", \"\\uc2dc\\ub300\", \"\\uc2dc\\ub9ac\\uc988\", \"\\uc2dc\\ubc1c\", \"\\uc2dc\\uc2a4\", \"\\uc2dc\\uc2a4\\ud15c\", \"\\uc2dc\\uc2a4\\ud15c\", \"\\uc2dc\\uc57c\", \"\\uc2dc\\uc57c\", \"\\uc2dc\\uc791\", \"\\uc2dc\\uc791\", \"\\uc2dc\\uc791\", \"\\uc2dc\\uc791\", \"\\uc2dc\\uc791\", \"\\uc2dc\\uc808\", \"\\uc2dc\\uc988\", \"\\uc2dc\\uc98c\", \"\\uc2dc\\uc98c\", \"\\uc2dc\\uccad\", \"\\uc2e0\\uacbd\", \"\\uc2e0\\uacbd\", \"\\uc2e0\\uacbd\", \"\\uc2e0\\uacbd\", \"\\uc2e0\\uace0\", \"\\uc2e0\\uc601\\uc6c5\", \"\\uc2e4\\ub4dc\", \"\\uc2e4\\ub825\", \"\\uc2e4\\ub9dd\", \"\\uc2e4\\ubc14\", \"\\uc2e4\\ubc84\", \"\\uc2e4\\uc218\", \"\\uc2e4\\uc218\", \"\\uc2e4\\ud654\", \"\\uc2ec\\ud310\", \"\\uc30d\\uac80\", \"\\uc4f0\\ub808\\uae30\", \"\\uc4f0\\ub808\\uae30\", \"\\uc4f0\\ub808\\uae30\", \"\\uc4f0\\ub808\\uae30\", \"\\uc544\\uad70\", \"\\uc544\\uad70\", \"\\uc544\\uad70\", \"\\uc544\\uad70\", \"\\uc544\\uad70\", \"\\uc544\\uad70\", \"\\uc544\\uad70\", \"\\uc544\\ub098\", \"\\uc544\\ub098\", \"\\uc544\\ub098\", \"\\uc544\\ub098\\uc6b4\\uc11c\", \"\\uc544\\ub215\\uc544\\ub77d\", \"\\uc544\\ub798\", \"\\uc544\\ub974\\ud0c0\\ub2c8\\uc2a4\", \"\\uc544\\ub974\\ud0c0\\ub2c8\\uc2a4\", \"\\uc544\\ubc14\", \"\\uc544\\ubc14\", \"\\uc544\\ubc14\\ud22c\\ub974\", \"\\uc544\\ubc14\\ud22c\\ub974\", \"\\uc544\\ubc84\\uc9c0\", \"\\uc544\\uc11c\\uc2a4\", \"\\uc544\\uc11c\\uc2a4\", \"\\uc544\\uc6b0\", \"\\uc544\\uc6b0\\ub9ac\\uc5d8\", \"\\uc544\\uc6b0\\ub9ac\\uc5d8\", \"\\uc544\\uc6b0\\ub9ac\\uc5d8\", \"\\uc544\\uc774\", \"\\uc544\\uc774\\ub514\", \"\\uc544\\uc774\\ub514\\uc5b4\", \"\\uc544\\uc774\\ud15c\", \"\\uc544\\uc7ac\", \"\\uc544\\uc988\\ubaa8\\ub2e8\", \"\\uc544\\uce68\", \"\\uc544\\ud2b8\", \"\\uc545\\ub9c8\", \"\\uc545\\ub9c8\", \"\\uc548\\ub155\", \"\\uc548\\ub450\", \"\\uc548\\uc815\", \"\\uc54c\\ub77c\\ub77c\\ud06c\", \"\\uc54c\\ub809\", \"\\uc54c\\ub809\\uc2a4\\ud2b8\\ub77c\\uc790\", \"\\uc54c\\ud30c\", \"\\uc554\\uc0b4\", \"\\uc554\\uc0b4\\uc790\", \"\\uc598\\uae30\", \"\\uc598\\uae30\", \"\\uc598\\uae30\", \"\\uc5b4\\uadf8\", \"\\uc5b4\\ub460\", \"\\uc5b8\\uae09\", \"\\uc5bc\\uad74\", \"\\uc5bc\\ub77c\", \"\\uc5bc\\ub77c\\uc774\\uc5b8\\uc2a4\", \"\\uc5bc\\ub9c8\", \"\\uc5bc\\uc74c\", \"\\uc5c5\\ub370\\uc774\\ud2b8\", \"\\uc5c9\\ub369\\uc774\", \"\\uc5d4\\uc9c4\", \"\\uc5d4\\uc9c4\", \"\\uc5e0\\ube14\\ub799\", \"\\uc5ec\\uace0\\uc0dd\", \"\\uc5ec\\ub984\", \"\\uc5ec\\uc131\", \"\\uc5ec\\uc655\", \"\\uc5ec\\uc790\", \"\\uc5ed\\ub300\", \"\\uc5ed\\uc0ac\", \"\\uc5ed\\uc804\", \"\\uc5ed\\ud560\", \"\\uc5f0\\uaca9\", \"\\uc5f0\\ubc1c\", \"\\uc5f0\\uc2b5\", \"\\uc5f0\\uc2b5\", \"\\uc5f0\\uc2b9\", \"\\uc5f0\\ud328\", \"\\uc601\\ub9ac\", \"\\uc601\\ub9ac\", \"\\uc601\\ub9ac\", \"\\uc601\\uc0c1\", \"\\uc601\\uc0c1\", \"\\uc601\\uc5b4\", \"\\uc601\\uc6c5\", \"\\uc601\\uc6c5\", \"\\uc601\\uc6c5\", \"\\uc601\\uc6c5\", \"\\uc601\\uc6c5\", \"\\uc601\\uc804\", \"\\uc601\\ud654\", \"\\uc608\\uc0c1\", \"\\uc608\\uc815\", \"\\uc608\\uc815\", \"\\uc61b\\ub0a0\", \"\\uc61b\\ub0a0\", \"\\uc61b\\ub0a0\", \"\\uc624\\ub79c\\ub9cc\", \"\\uc624\\ub958\", \"\\uc624\\ubc84\\uc6cc\\uce58\", \"\\uc624\\ubc84\\uc6cc\\uce58\", \"\\uc624\\ube0c\", \"\\uc624\\ud508\", \"\\uc624\\ud508\", \"\\uc624\\ud6c4\", \"\\uc62c\\ud574\", \"\\uc640\\uc6b0\", \"\\uc644\\uc131\", \"\\uc644\\uc804\", \"\\uc644\\uc804\", \"\\uc644\\uc804\", \"\\uc678\\uad6d\", \"\\uc694\\uc0c8\", \"\\uc694\\uc0c8\", \"\\uc694\\uc998\", \"\\uc694\\uc998\", \"\\uc694\\uc998\", \"\\uc694\\uc998\", \"\\uc694\\uc998\", \"\\uc694\\ud55c\\ub098\", \"\\uc6a9\\uac80\", \"\\uc6a9\\uae30\\uc0ac\", \"\\uc6b0\\ub450\", \"\\uc6b0\\ub9b0\", \"\\uc6b0\\uc11c\", \"\\uc6b0\\uc2a4\", \"\\uc6b0\\uc2b9\", \"\\uc6b0\\uc8fc\", \"\\uc6b4\\uba85\", \"\\uc6b4\\uc601\", \"\\uc6b4\\uc601\", \"\\uc6b4\\uc601\", \"\\uc6b4\\uc601\", \"\\uc6cc\\uce58\", \"\\uc6cc\\ud06c\", \"\\uc6cc\\ud06c\", \"\\uc6cc\\ud06c\", \"\\uc6d0\\uac00\", \"\\uc6d0\\uc791\", \"\\uc6d0\\uc791\", \"\\uc704\\uc0c1\", \"\\uc704\\uce58\", \"\\uc704\\uce58\", \"\\uc704\\ud5d8\", \"\\uc720\\ub2db\", \"\\uc720\\ub7fd\", \"\\uc720\\uc800\", \"\\uc720\\uc800\", \"\\uc720\\uc800\", \"\\uc720\\uc800\", \"\\uc720\\uc9c0\", \"\\uc720\\uc9c0\", \"\\uc720\\ucd9c\", \"\\uc720\\ud29c\\ube0c\", \"\\uc740\\uadfc\", \"\\uc740\\uc2e0\", \"\\uc74c\\uc131\", \"\\uc74c\\uc2dd\", \"\\uc751\\uc6d0\", \"\\uc774\\uac70\", \"\\uc774\\uac70\", \"\\uc774\\uac78\", \"\\uc774\\uac78\", \"\\uc774\\uac78\", \"\\uc774\\uac78\", \"\\uc774\\uac83\", \"\\uc774\\uac83\", \"\\uc774\\uac83\", \"\\uc774\\ub810\", \"\\uc774\\ub984\", \"\\uc774\\ub984\", \"\\uc774\\ubbf8\\uc9c0\", \"\\uc774\\ubca4\\ud2b8\", \"\\uc774\\uc0c1\", \"\\uc774\\uc0c1\", \"\\uc774\\uc0c1\", \"\\uc774\\uc0c1\", \"\\uc774\\uc0c1\", \"\\uc774\\uc0c1\", \"\\uc774\\uc0c1\", \"\\uc774\\uc18d\", \"\\uc774\\uc57c\\uae30\", \"\\uc774\\uc57c\\uae30\", \"\\uc774\\uc57c\\uae30\", \"\\uc774\\uc720\", \"\\uc774\\uc720\", \"\\uc774\\uc720\", \"\\uc774\\uc720\", \"\\uc774\\uc720\", \"\\uc774\\uc720\", \"\\uc774\\uc720\", \"\\uc774\\uc720\", \"\\uc774\\uc720\", \"\\uc774\\uc720\", \"\\uc774\\uc720\", \"\\uc774\\uc720\", \"\\uc774\\uc720\", \"\\uc774\\uc820\", \"\\uc774\\uc820\", \"\\uc774\\uc820\", \"\\uc774\\ud2c0\", \"\\uc774\\ud399\\ud2b8\", \"\\uc774\\ud574\", \"\\uc774\\ud574\", \"\\uc774\\ud574\", \"\\uc778\\uac04\", \"\\uc778\\uac04\", \"\\uc778\\uac04\", \"\\uc778\\uacf5\", \"\\uc778\\uae30\", \"\\uc778\\uae30\", \"\\uc778\\ub370\", \"\\uc778\\ubb3c\", \"\\uc778\\ubca4\", \"\\uc778\\ubd84\", \"\\uc778\\uc0dd\", \"\\uc778\\uc131\", \"\\uc778\\uc7a5\", \"\\uc778\\uc815\", \"\\uc778\\uc815\", \"\\uc778\\ud130\\ub137\", \"\\uc778\\ud130\\ubdf0\", \"\\uc77c\\ub9ac\\ub2e8\", \"\\uc77c\\ub9ac\\ub2e8\", \"\\uc77c\\ub9ac\\ub2e8\", \"\\uc77c\\ubcf8\", \"\\uc790\\uac00\\ub77c\", \"\\uc790\\uadf9\\uc81c\", \"\\uc790\\uae30\", \"\\uc790\\uae30\", \"\\uc790\\ub791\", \"\\uc790\\ub9ac\\uc57c\", \"\\uc790\\ub9ac\\uc57c\", \"\\uc790\\uc2dd\", \"\\uc790\\uc5f0\", \"\\uc790\\uc720\", \"\\uc790\\uccb4\", \"\\uc790\\uccb4\", \"\\uc790\\uccb4\", \"\\uc790\\uccb4\", \"\\uc790\\uccb4\", \"\\uc790\\uccb4\", \"\\uc790\\ud3ed\", \"\\uc791\\ub144\", \"\\uc798\\ubabb\", \"\\uc7a5\\ub09c\", \"\\uc7a5\\uba74\", \"\\uc7a5\\uc778\", \"\\uc7a5\\uc810\", \"\\uc7a5\\ud310\", \"\\uc7ac\\ubbf8\", \"\\uc7ac\\ubbf8\", \"\\uc800\\uadf8\", \"\\uc800\\uadf8\", \"\\uc800\\uae30\", \"\\uc800\\ub141\", \"\\uc800\\uc8fc\", \"\\uc800\\uc9c0\", \"\\uc800\\ud76c\", \"\\uc801\\uc751\", \"\\uc804\\ub9ac\\ud488\", \"\\uc804\\ubb38\", \"\\uc804\\ubb38\\uac00\", \"\\uc804\\ubd80\", \"\\uc804\\uc0ac\", \"\\uc804\\uc124\", \"\\uc804\\uc6a9\", \"\\uc804\\uc7c1\", \"\\uc804\\ud22c\", \"\\uc804\\ud22c\", \"\\uc804\\ud22c\", \"\\uc804\\ud654\", \"\\uc810\\uac80\", \"\\uc810\\uc2ec\", \"\\uc811\\uc18d\", \"\\uc811\\uc18d\", \"\\uc815\\ubcf4\", \"\\uc815\\uc0c1\", \"\\uc815\\uc0c1\", \"\\uc815\\uc0c1\", \"\\uc815\\uc11d\", \"\\uc815\\uc2e0\", \"\\uc815\\uc2e0\", \"\\uc815\\uc2e0\", \"\\uc815\\uc6d0\", \"\\uc815\\uc758\", \"\\uc815\\uc9c0\", \"\\uc815\\uce58\", \"\\uc815\\uce58\", \"\\uc815\\ud06c\", \"\\uc815\\ud06c\", \"\\uc815\\ud06c\\ub7ab\", \"\\uc815\\ud654\", \"\\uc815\\ud654\", \"\\uc81c\\uac70\", \"\\uc81c\\ub77c\\ud234\", \"\\uc81c\\ub77c\\ud234\", \"\\uc81c\\ub77c\\ud234\", \"\\uc81c\\ubaa9\", \"\\uc81c\\uc774\\ub098\", \"\\uc81c\\uc7ac\", \"\\uc870\\uc885\", \"\\uc870\\ud569\", \"\\uc870\\ud569\", \"\\uc870\\ud569\", \"\\uc874\\uc7ac\\uac10\", \"\\uc885\\ub8cc\", \"\\uc8fc\\ub9d0\", \"\\uc8fc\\uc778\\uacf5\", \"\\uc8fc\\uc81c\", \"\\uc8fd\\uc74c\", \"\\uc8fd\\uc74c\", \"\\uc8fd\\ucc3d\", \"\\uc900\\ube44\", \"\\uc904\\uc9c4\", \"\\uc911\\uac04\", \"\\uc911\\uac04\", \"\\uc911\\uac04\", \"\\uc911\\uad6d\", \"\\uc911\\ubcf5\", \"\\uc911\\uc694\", \"\\uc911\\uc694\", \"\\uc911\\uc694\", \"\\uc99d\\uac00\", \"\\uc9c0\\uae08\", \"\\uc9c0\\uae08\", \"\\uc9c0\\uae08\", \"\\uc9c0\\uae08\", \"\\uc9c0\\ub784\", \"\\uc9c0\\ubc30\", \"\\uc9c0\\uc18d\", \"\\uc9c0\\uc625\", \"\\uc9c0\\uc6d0\", \"\\uc9c0\\uc815\", \"\\uc9c1\\uc5c5\", \"\\uc9c4\\uc2ec\", \"\\uc9c4\\uc9dc\", \"\\uc9c4\\ud589\", \"\\uc9c8\\ubb38\", \"\\uc9c8\\ud48d\", \"\\uc9dc\\uc99d\", \"\\uc9dc\\uc99d\", \"\\uc9dc\\uc99d\", \"\\ucc10\\ub530\", \"\\ucc28\\ub2e8\", \"\\ucc28\\uc774\", \"\\ucc28\\uc774\", \"\\ucc28\\uc774\", \"\\ucc28\\uc9c0\", \"\\ucc38\\uace0\", \"\\ucc38\\uace0\", \"\\ucc38\\uace0\", \"\\ucc38\\uc5ec\", \"\\ucc38\\uc5ec\", \"\\ucc38\\uc804\", \"\\ucc38\\uc804\", \"\\ucc44\\ub110\", \"\\ucc44\\ud305\", \"\\ucc98\\uc74c\", \"\\ucc98\\uc74c\", \"\\ucc98\\uc74c\", \"\\ucc98\\uc74c\", \"\\ucc98\\uc74c\", \"\\ucc98\\uc74c\", \"\\ucc98\\uc74c\", \"\\ucc98\\uc74c\", \"\\ucc98\\uc74c\", \"\\ucc9c\\ubcf4\", \"\\ucca0\\uad8c\", \"\\uccb4\\ub825\", \"\\uccb4\\ud5d8\", \"\\uccb4\\ud5d8\", \"\\ucd08\\uac08\", \"\\ucd08\\ubcf4\", \"\\ucd08\\uc0c1\\ud654\", \"\\ucd08\\ucc3d\\uae30\", \"\\ucd5c\\uace0\", \"\\ucd5c\\uc885\", \"\\ucd5c\\uc885\", \"\\ucd94\\uac00\", \"\\ucd94\\uac00\", \"\\ucd94\\uac00\", \"\\ucd94\\uc11d\", \"\\ucd94\\ucc9c\", \"\\ucd94\\ucc9c\", \"\\ucd9c\\uc2dc\", \"\\ucd9c\\uc2e0\", \"\\ucd9c\\ucc98\", \"\\ucda9\\uaca9\", \"\\ucda9\\uc131\", \"\\ucda9\\uc774\", \"\\ucde8\\ud5a5\", \"\\uce58\\ud0a8\", \"\\uce5c\\uad6c\", \"\\uce6d\\ucc2c\", \"\\uce74\\ub4dc\", \"\\uce74\\ub77c\\uc9d0\", \"\\uce74\\ub77c\\uc9d0\", \"\\uce74\\uc2dc\\uc544\", \"\\uce74\\uc2dc\\uc544\", \"\\uce74\\uc57c\", \"\\uce74\\uc6b4\\ud130\", \"\\uce74\\uc6b4\\ud130\", \"\\uce74\\uc6b4\\ud130\", \"\\uce74\\uc6b4\\ud130\", \"\\uce90\\ub9ac\", \"\\uce90\\ub9ad\", \"\\uce90\\ub9ad\", \"\\uce90\\ub9ad\", \"\\uce90\\ub9ad\", \"\\uce90\\ub9ad\", \"\\uce90\\ub9ad\", \"\\uce90\\ub9ad\", \"\\uce90\\ub9ad\\ud130\", \"\\uce90\\ub9ad\\ud130\", \"\\uce90\\ub9ad\\ud130\", \"\\uce98\\ud0c0\\uc2a4\", \"\\uce98\\ud0c0\\uc2a4\", \"\\ucea0\\ud504\", \"\\ucee4\\ubba4\\ub2c8\\ud2f0\", \"\\ucee4\\uc2f1\", \"\\ucee8\\uc149\", \"\\ucee8\\uc149\", \"\\ucee8\\uc149\", \"\\ucef4\\ud4e8\\ud130\", \"\\ucf00\\ub9ac\\uac74\", \"\\ucf08\\ud22c\\uc790\\ub4dc\", \"\\ucf54\\ub178\", \"\\ucf54\\ub4dc\", \"\\ud004\\ub9ac\\ud2f0\", \"\\ud018\\uc2a4\\ud2b8\", \"\\ud018\\uc2a4\\ud2b8\", \"\\ud018\\uc2a4\\ud2b8\", \"\\ud06c\\ub85c\\ubbf8\", \"\\ud06c\\ub85c\\ubbf8\", \"\\ud06c\\ub85c\\ubbf8\", \"\\ud074\\ub9ad\", \"\\ud0c0\\uaca9\", \"\\ud0c0\\ub77d\", \"\\ud0c0\\uc2a4\", \"\\ud0c0\\uc774\\ubc0d\", \"\\ud0c0\\uc774\\ubc0d\", \"\\ud0c0\\uc774\\ubc0d\", \"\\ud0c0\\uc774\\ucee4\\uc2a4\", \"\\ud0c0\\uc784\", \"\\ud0c8\\uac83\", \"\\ud0c8\\uc8fc\", \"\\ud0c8\\ucd9c\", \"\\ud0dc\\uc0ac\", \"\\ud0dc\\uc0ac\\ub2e4\\ub974\", \"\\ud0f1\\ucee4\", \"\\ud0f1\\ucee4\", \"\\ud130\\uc9d0\", \"\\ud14c\\ub77c\", \"\\ud14c\\uc0ac\", \"\\ud150\\ub370\", \"\\ud150\\ub370\", \"\\ud150\\ub370\", \"\\ud150\\ub370\", \"\\ud150\\ub370\", \"\\ud150\\ub370\", \"\\ud150\\ub370\", \"\\ud150\\ub370\", \"\\ud150\\ub370\", \"\\ud15c\\ud398\", \"\\ud1a0\\uc2a4\", \"\\ud1f4\\uadfc\", \"\\ud22c\\uc790\", \"\\ud22c\\uc790\", \"\\ud2b8\\ub808\", \"\\ud2b8\\ub808\\uc774\\uc11c\", \"\\ud2b8\\ub864\", \"\\ud2b8\\ub864\", \"\\ud2b8\\ub8e8\", \"\\ud2b8\\ub9ac\", \"\\ud2b9\\uac00\", \"\\ud2b9\\uae09\", \"\\ud2b9\\uc131\", \"\\ud2b9\\uc131\", \"\\ud2b9\\uc740\", \"\\ud2b9\\uc774\", \"\\ud2b9\\uc9d5\", \"\\ud2f0\\ub780\\ub370\", \"\\ud2f0\\ub780\\ub370\", \"\\ud2f0\\ub9ac\\uc5d8\", \"\\ud2f0\\uc5b4\", \"\\ud300\\uc6d0\", \"\\ud300\\uc6d0\", \"\\ud30c\\uad34\", \"\\ud30c\\uad34\\uc790\", \"\\ud30c\\uc6cc\", \"\\ud30c\\uc774\\uc5b4\", \"\\ud30c\\ud3b8\", \"\\ud310\\uc815\", \"\\ud328\\uc2dc\\ube0c\", \"\\ud328\\uc655\", \"\\ud328\\uce58\", \"\\ud328\\uce58\", \"\\ud328\\uce58\", \"\\ud328\\uce58\", \"\\ud328\\uce58\", \"\\ud328\\uce58\", \"\\ud37c\\uc13c\\ud2b8\", \"\\ud3c9\\uac00\", \"\\ud3c9\\uac00\", \"\\ud3c9\\uade0\", \"\\ud3c9\\ud0c0\", \"\\ud3ec\\uc9c0\\uc158\", \"\\ud3ec\\uc9c0\\uc158\", \"\\ud3ec\\ud0d1\", \"\\ud3ed\\ud48d\", \"\\ud3f4\\uc2a4\", \"\\ud45c\\ud604\", \"\\ud504\\ub85c\", \"\\ud504\\ub85c\", \"\\ud504\\ub85c\", \"\\ud50c\\ub808\", \"\\ud50c\\ub808\\uc774\", \"\\ud50c\\ub808\\uc774\", \"\\ud50c\\ub808\\uc774\", \"\\ud53c\\ub2c9\\uc2a4\", \"\\ud53c\\uc2dc\\ubc29\", \"\\ud53c\\uc9c0\\uceec\", \"\\ud558\\ub098\", \"\\ud558\\ub098\", \"\\ud558\\ub098\", \"\\ud558\\ub098\", \"\\ud558\\ub098\", \"\\ud558\\ub098\", \"\\ud558\\ub098\", \"\\ud558\\ub098\", \"\\ud558\\ub098\", \"\\ud558\\ub098\", \"\\ud558\\ub098\", \"\\ud558\\ub098\", \"\\ud558\\ub098\", \"\\ud558\\ub098\", \"\\ud558\\ub098\", \"\\ud558\\ub098\", \"\\ud558\\ub098\", \"\\ud558\\ub098\", \"\\ud558\\ub098\", \"\\ud558\\ub298\", \"\\ud558\\ub4dc\", \"\\ud558\\ub8e8\", \"\\ud558\\uc2a4\", \"\\ud558\\uc704\", \"\\ud558\\uce20\", \"\\ud559\\uad50\", \"\\ud55c\\uacc4\", \"\\ud55c\\uad6d\", \"\\ud55c\\ub9c8\\ub514\", \"\\ud55c\\uc870\", \"\\ud55c\\ucabd\", \"\\ud560\\ub85c\\uc708\", \"\\ud560\\uc778\", \"\\ud568\\uc815\", \"\\ud56d\\ub9cc\", \"\\ud574\\uacb0\", \"\\ud574\\uacb0\", \"\\ud574\\uace8\", \"\\ud574\\ub2f9\", \"\\ud574\\ub2f9\", \"\\ud574\\uba38\", \"\\ud574\\uc124\", \"\\ud575\\ud0c4\\ub450\", \"\\ud589\\ubcf5\", \"\\ud604\\uc0c1\", \"\\ud604\\uc2e4\", \"\\ud604\\uc2e4\", \"\\ud604\\uc9c8\", \"\\ud611\\uace1\", \"\\ud611\\ub3d9\", \"\\ud638\\ub4dc\", \"\\ud654\\uba74\", \"\\ud654\\uc81c\", \"\\ud655\\ub960\", \"\\ud655\\ub960\", \"\\ud655\\uc778\", \"\\ud68c\\ub85c\", \"\\ud68c\\ubcf5\", \"\\ud6a8\\uacfc\", \"\\ud6a8\\uc728\", \"\\ud6c4\\uae30\", \"\\ud6c4\\ubc29\", \"\\ud6c8\\ub828\", \"\\ud761\\ud608\", \"\\ud788\\uc5b4\\ub85c\\uc988\", \"\\ud788\\uc624\\uc2a4\", \"\\ud788\\uc624\\uc2a4\", \"\\ud788\\uc624\\uc2a4\", \"\\ud788\\uc624\\uc2a4\", \"\\ud788\\uc624\\uc2a4\", \"\\ud788\\uc624\\uc2a4\", \"\\ud788\\uc624\\uc2a4\", \"\\ud790\\ub7ec\", \"\\ud790\\ub7ec\"]}, \"topic.order\": [3, 12, 18, 10, 8, 1, 14, 11, 4, 5, 2, 13, 20, 16, 7, 15, 17, 6, 9, 19], \"tinfo\": {\"loglift\": [30.0, 29.0, 28.0, 27.0, 26.0, 25.0, 24.0, 23.0, 22.0, 21.0, 20.0, 19.0, 18.0, 17.0, 16.0, 15.0, 14.0, 13.0, 12.0, 11.0, 10.0, 9.0, 8.0, 7.0, 6.0, 5.0, 4.0, 3.0, 2.0, 1.0, 1.9567, 1.9567, 1.9566, 1.9566, 1.9564, 1.9563, 1.9563, 1.9562, 1.9561, 1.9559, 1.9559, 1.9557, 1.9557, 1.9557, 1.9556, 1.9556, 1.9555, 1.9555, 1.9555, 1.9554, 1.9554, 1.9553, 1.9553, 1.9552, 1.9551, 1.955, 1.9549, 1.9548, 1.9548, 1.9548, 1.9154, 1.8688, 1.7828, 1.7711, 1.776, 1.8365, 1.8197, 1.6883, 1.6341, 1.6854, 1.5449, 1.3115, 1.4981, 1.5153, 0.9268, 1.2032, 0.8269, 0.4804, 1.3121, 0.5956, 1.0839, 0.9892, 0.9441, 1.0746, 0.9149, 0.294, 0.8223, 2.1424, 2.1422, 2.1422, 2.1422, 2.142, 2.142, 2.142, 2.142, 2.1419, 2.1419, 2.1419, 2.1419, 2.1418, 2.1418, 2.1418, 2.1417, 2.1416, 2.1416, 2.1416, 2.1416, 2.1415, 2.1414, 2.1414, 2.1413, 2.1413, 2.1411, 2.1411, 2.1411, 2.1411, 2.1411, 2.1039, 2.0168, 1.8785, 1.9788, 2.0241, 1.8991, 1.9697, 1.9874, 1.8583, 1.2743, 1.7557, 1.116, 1.1677, 0.8527, 0.9662, 0.0932, 0.1684, 0.5157, 2.6563, 2.6562, 2.656, 2.656, 2.6559, 2.6555, 2.6555, 2.6554, 2.6552, 2.6552, 2.6551, 2.6551, 2.6549, 2.6549, 2.6545, 2.6545, 2.6544, 2.6544, 2.6543, 2.6542, 2.6542, 2.654, 2.6539, 2.6539, 2.6539, 2.6537, 2.6535, 2.6535, 2.6535, 2.6534, 2.5639, 2.4502, 2.4499, 2.0779, 2.3121, 2.2371, 2.2587, 2.3344, 1.6771, 2.1845, 2.424, 1.984, 2.0928, 0.8684, 1.8545, 2.1307, 1.4434, 1.022, 1.1473, 0.7785, 0.3666, 0.4773, 1.0058, 2.8092, 2.8091, 2.8091, 2.8091, 2.809, 2.8089, 2.8089, 2.8088, 2.8088, 2.8087, 2.8087, 2.8087, 2.8086, 2.8086, 2.8085, 2.8084, 2.8081, 2.8081, 2.808, 2.808, 2.808, 2.8079, 2.8077, 2.8076, 2.8074, 2.8073, 2.807, 2.8069, 2.8069, 2.8068, 2.6187, 2.6341, 2.3356, 2.581, 2.0843, 2.4766, 1.787, 0.8385, 0.4478, 0.8807, 2.9228, 2.9226, 2.9226, 2.9224, 2.9224, 2.9223, 2.9221, 2.9214, 2.9213, 2.9211, 2.921, 2.921, 2.9208, 2.9207, 2.9207, 2.9205, 2.9204, 2.9204, 2.9204, 2.9203, 2.9202, 2.9202, 2.9201, 2.92, 2.9198, 2.9198, 2.9197, 2.9196, 2.9196, 2.9195, 2.7605, 2.7785, 2.8409, 2.6312, 2.8774, 2.676, 2.1589, 2.4824, 2.4398, 2.1758, 2.6438, 2.1387, 2.1735, 2.7254, 0.9477, 2.6385, 1.2002, 1.5576, 2.0268, 0.1081, 1.0199, 2.9898, 2.9895, 2.9893, 2.9891, 2.9891, 2.989, 2.989, 2.989, 2.989, 2.9889, 2.9888, 2.9887, 2.9885, 2.9884, 2.9883, 2.9883, 2.9882, 2.9881, 2.988, 2.9879, 2.9878, 2.9878, 2.9877, 2.9877, 2.9876, 2.9876, 2.9876, 2.9874, 2.9874, 2.9874, 2.8858, 2.8242, 2.7756, 2.7314, 2.4923, 2.7141, 2.3986, 2.3892, 2.0624, 2.7605, 0.476, 3.018, 3.0175, 3.0175, 3.0174, 3.0174, 3.0173, 3.0172, 3.0172, 3.0172, 3.0171, 3.0169, 3.0169, 3.0168, 3.0167, 3.0167, 3.0167, 3.0166, 3.0164, 3.0163, 3.0162, 3.0161, 3.0161, 3.016, 3.016, 3.0155, 3.0154, 3.0153, 3.0152, 3.0152, 3.0151, 2.8577, 2.7206, 2.7043, 2.7522, 2.3884, 1.6329, 2.4971, 2.0108, 0.9638, 1.1602, 3.1949, 3.1941, 3.1938, 3.1937, 3.1937, 3.1935, 3.1934, 3.1933, 3.1932, 3.1931, 3.1931, 3.193, 3.193, 3.1928, 3.1928, 3.1927, 3.1925, 3.1923, 3.1923, 3.1921, 3.192, 3.1919, 3.1917, 3.1916, 3.1915, 3.1914, 3.1914, 3.1914, 3.1913, 3.1913, 2.9277, 2.8297, 2.9917, 2.658, 1.8919, 2.7857, 3.0196, 2.8134, 1.9082, 0.9678, 2.0342, 2.3798, 2.7013, 1.7054, 1.3724, 1.8091, 2.2462, 0.094, 3.2145, 3.2142, 3.2142, 3.2141, 3.2141, 3.2141, 3.2137, 3.2136, 3.2136, 3.2135, 3.2131, 3.213, 3.2127, 3.2127, 3.2126, 3.2125, 3.2121, 3.2119, 3.2118, 3.2116, 3.2115, 3.2114, 3.2109, 3.2106, 3.2105, 3.2104, 3.2103, 3.2099, 3.2099, 3.2099, 3.1129, 3.0772, 2.9888, 2.9351, 2.9165, 2.5727, 1.7342, 1.8567, 1.9041, 2.253, 2.5157, 0.5693, 0.7487, 3.3041, 3.3035, 3.3033, 3.3033, 3.3033, 3.303, 3.303, 3.303, 3.3027, 3.3027, 3.3027, 3.3027, 3.3025, 3.3024, 3.3024, 3.3024, 3.3023, 3.3021, 3.302, 3.3019, 3.3019, 3.3019, 3.3018, 3.3018, 3.3018, 3.3018, 3.3016, 3.3016, 3.3016, 3.3015, 3.1019, 2.9541, 2.4689, 2.8673, 3.3104, 3.3103, 3.3101, 3.3099, 3.3098, 3.3097, 3.3096, 3.3095, 3.3093, 3.3091, 3.3087, 3.3087, 3.3087, 3.3086, 3.3083, 3.3083, 3.3083, 3.3082, 3.3078, 3.307, 3.3069, 3.3069, 3.3067, 3.3067, 3.3066, 3.3066, 3.3065, 3.3063, 3.3063, 3.3063, 3.0456, 2.7411, 2.95, 2.6888, 2.7987, 2.7579, 3.0976, 2.2, 2.3104, 2.9927, 2.8763, 2.225, 0.5625, 2.3181, 0.3357, 1.2959, 3.3103, 3.3103, 3.3097, 3.3095, 3.3095, 3.3087, 3.3086, 3.3083, 3.3083, 3.3083, 3.3079, 3.3079, 3.3077, 3.3075, 3.3073, 3.3071, 3.3071, 3.307, 3.307, 3.307, 3.307, 3.3067, 3.3066, 3.3066, 3.3065, 3.3063, 3.3062, 3.3062, 3.3061, 3.306, 3.1236, 3.0275, 3.0895, 3.1183, 3.0054, 3.0312, 2.9061, 2.8475, 2.9051, 3.0084, 2.3889, 1.7727, 1.9494, 0.1294, 1.4118, 3.3167, 3.3165, 3.3163, 3.3162, 3.3158, 3.3156, 3.3156, 3.3155, 3.3154, 3.3154, 3.3153, 3.3152, 3.3151, 3.315, 3.3148, 3.3148, 3.3148, 3.3147, 3.3147, 3.3146, 3.3146, 3.3144, 3.3143, 3.3143, 3.3143, 3.3142, 3.3141, 3.3141, 3.3141, 3.3139, 3.251, 3.138, 3.1191, 2.843, 1.9409, 2.4323, 0.6963, 2.5578, 0.5104, 0.4502, 3.3552, 3.3551, 3.3549, 3.3549, 3.3548, 3.3545, 3.3545, 3.3543, 3.3541, 3.3539, 3.3539, 3.3536, 3.3534, 3.3533, 3.3531, 3.3531, 3.3531, 3.3531, 3.3528, 3.3527, 3.3524, 3.3522, 3.3521, 3.3521, 3.352, 3.3518, 3.3518, 3.3514, 3.3513, 3.3512, 3.1139, 3.0687, 2.366, 2.5967, 2.8512, 1.0811, 2.9854, 1.8626, 1.9324, 3.3938, 3.3935, 3.3933, 3.3929, 3.3927, 3.3927, 3.3926, 3.3923, 3.3922, 3.3921, 3.3921, 3.3917, 3.3916, 3.3915, 3.3913, 3.3911, 3.391, 3.391, 3.3909, 3.3909, 3.3908, 3.3907, 3.3907, 3.3905, 3.3904, 3.3904, 3.3901, 3.39, 3.3899, 3.3898, 3.0795, 3.1322, 2.8164, 2.9878, 2.9693, 3.0103, 2.1961, 2.5865, 2.5832, 2.842, 1.7926, 2.5924, 2.4322, 1.9807, 3.4086, 3.4081, 3.408, 3.4078, 3.4078, 3.4077, 3.4076, 3.4073, 3.4071, 3.4071, 3.4065, 3.4064, 3.4062, 3.4062, 3.4061, 3.406, 3.406, 3.4059, 3.4058, 3.4057, 3.4056, 3.4056, 3.4055, 3.4054, 3.4054, 3.4049, 3.4048, 3.4048, 3.4046, 3.4045, 3.1206, 3.236, 3.1114, 2.4403, 3.2573, 2.8148, 1.3609, 3.4096, 3.4089, 3.4088, 3.4086, 3.4086, 3.4084, 3.4084, 3.4081, 3.408, 3.408, 3.408, 3.408, 3.4078, 3.4078, 3.4077, 3.4077, 3.4076, 3.4074, 3.4074, 3.4074, 3.4072, 3.4069, 3.4069, 3.4069, 3.4068, 3.4068, 3.4068, 3.4067, 3.4065, 3.4064, 3.1807, 3.1886, 3.0521, 2.6164, 2.1536, 2.9557, 3.4135, 3.4128, 3.4127, 3.4127, 3.4123, 3.4117, 3.4117, 3.4112, 3.4111, 3.4111, 3.4109, 3.4108, 3.4105, 3.4103, 3.4102, 3.4101, 3.4099, 3.4099, 3.4095, 3.4095, 3.4094, 3.4093, 3.4092, 3.4092, 3.4091, 3.409, 3.4089, 3.4088, 3.4088, 3.4088, 3.1949, 3.0558, 2.8658, 2.5358, 3.3102, 3.004, 2.2361, 0.5551, 0.5928, 0.3846, 1.491, 1.5332, 2.6806, -0.0351, 3.4433, 3.4432, 3.443, 3.4428, 3.4427, 3.4427, 3.4425, 3.4411, 3.4411, 3.441, 3.441, 3.4409, 3.4407, 3.4407, 3.4407, 3.4406, 3.4405, 3.4402, 3.4401, 3.4401, 3.4397, 3.4397, 3.4397, 3.4395, 3.4394, 3.4391, 3.4391, 3.4389, 3.4389, 3.4385, 3.2961, 3.1012, 3.1507, 3.1344, 3.0792, 3.0947, 3.0956, 2.9574, 2.8289, 3.0317, 2.9485, 2.8562, 2.7981, 2.5924, 3.4546, 3.4545, 3.4543, 3.4542, 3.454, 3.4537, 3.4536, 3.4524, 3.4524, 3.4523, 3.4522, 3.4518, 3.4518, 3.4517, 3.4516, 3.4516, 3.4515, 3.4515, 3.4512, 3.4512, 3.4512, 3.4509, 3.4507, 3.4506, 3.4506, 3.4505, 3.4502, 3.4501, 3.4498, 3.4497, 3.4108, 2.9633, 2.931, 2.8787, 3.075, 2.8179, 2.2362, 2.4504, 3.02, 0.6346], \"Category\": [\"Default\", \"Default\", \"Default\", \"Default\", \"Default\", \"Default\", \"Default\", \"Default\", \"Default\", \"Default\", \"Default\", \"Default\", \"Default\", \"Default\", \"Default\", \"Default\", \"Default\", \"Default\", \"Default\", \"Default\", \"Default\", \"Default\", \"Default\", \"Default\", \"Default\", \"Default\", \"Default\", \"Default\", \"Default\", \"Default\", \"Topic1\", \"Topic1\", \"Topic1\", \"Topic1\", \"Topic1\", \"Topic1\", \"Topic1\", \"Topic1\", \"Topic1\", \"Topic1\", \"Topic1\", \"Topic1\", \"Topic1\", \"Topic1\", \"Topic1\", \"Topic1\", \"Topic1\", \"Topic1\", \"Topic1\", \"Topic1\", \"Topic1\", \"Topic1\", \"Topic1\", \"Topic1\", \"Topic1\", \"Topic1\", \"Topic1\", \"Topic1\", \"Topic1\", \"Topic1\", \"Topic1\", \"Topic1\", \"Topic1\", \"Topic1\", \"Topic1\", \"Topic1\", \"Topic1\", \"Topic1\", \"Topic1\", \"Topic1\", \"Topic1\", \"Topic1\", \"Topic1\", \"Topic1\", \"Topic1\", \"Topic1\", \"Topic1\", \"Topic1\", \"Topic1\", \"Topic1\", \"Topic1\", \"Topic1\", \"Topic1\", \"Topic1\", \"Topic1\", \"Topic1\", \"Topic1\", \"Topic2\", \"Topic2\", \"Topic2\", \"Topic2\", \"Topic2\", \"Topic2\", \"Topic2\", \"Topic2\", \"Topic2\", \"Topic2\", \"Topic2\", \"Topic2\", \"Topic2\", \"Topic2\", \"Topic2\", \"Topic2\", \"Topic2\", \"Topic2\", \"Topic2\", \"Topic2\", \"Topic2\", \"Topic2\", \"Topic2\", \"Topic2\", \"Topic2\", \"Topic2\", \"Topic2\", \"Topic2\", \"Topic2\", \"Topic2\", \"Topic2\", \"Topic2\", \"Topic2\", \"Topic2\", \"Topic2\", \"Topic2\", \"Topic2\", \"Topic2\", \"Topic2\", \"Topic2\", \"Topic2\", \"Topic2\", \"Topic2\", \"Topic2\", \"Topic2\", \"Topic2\", \"Topic2\", \"Topic2\", \"Topic3\", \"Topic3\", \"Topic3\", \"Topic3\", \"Topic3\", \"Topic3\", \"Topic3\", \"Topic3\", \"Topic3\", \"Topic3\", \"Topic3\", \"Topic3\", \"Topic3\", \"Topic3\", \"Topic3\", \"Topic3\", \"Topic3\", \"Topic3\", \"Topic3\", \"Topic3\", \"Topic3\", \"Topic3\", \"Topic3\", \"Topic3\", \"Topic3\", \"Topic3\", \"Topic3\", \"Topic3\", \"Topic3\", \"Topic3\", \"Topic3\", \"Topic3\", \"Topic3\", \"Topic3\", \"Topic3\", \"Topic3\", \"Topic3\", \"Topic3\", \"Topic3\", \"Topic3\", \"Topic3\", \"Topic3\", \"Topic3\", \"Topic3\", \"Topic3\", \"Topic3\", \"Topic3\", \"Topic3\", \"Topic3\", \"Topic3\", \"Topic3\", \"Topic3\", \"Topic3\", \"Topic4\", \"Topic4\", \"Topic4\", \"Topic4\", \"Topic4\", \"Topic4\", \"Topic4\", \"Topic4\", \"Topic4\", \"Topic4\", \"Topic4\", \"Topic4\", \"Topic4\", \"Topic4\", \"Topic4\", \"Topic4\", \"Topic4\", \"Topic4\", \"Topic4\", \"Topic4\", \"Topic4\", \"Topic4\", \"Topic4\", \"Topic4\", \"Topic4\", \"Topic4\", \"Topic4\", \"Topic4\", \"Topic4\", \"Topic4\", \"Topic4\", \"Topic4\", \"Topic4\", \"Topic4\", \"Topic4\", \"Topic4\", \"Topic4\", \"Topic4\", \"Topic4\", \"Topic4\", \"Topic5\", \"Topic5\", \"Topic5\", \"Topic5\", \"Topic5\", \"Topic5\", \"Topic5\", \"Topic5\", \"Topic5\", \"Topic5\", \"Topic5\", \"Topic5\", \"Topic5\", \"Topic5\", \"Topic5\", \"Topic5\", \"Topic5\", \"Topic5\", \"Topic5\", \"Topic5\", \"Topic5\", \"Topic5\", \"Topic5\", \"Topic5\", \"Topic5\", \"Topic5\", \"Topic5\", \"Topic5\", \"Topic5\", \"Topic5\", \"Topic5\", \"Topic5\", \"Topic5\", \"Topic5\", \"Topic5\", \"Topic5\", \"Topic5\", \"Topic5\", \"Topic5\", \"Topic5\", \"Topic5\", \"Topic5\", \"Topic5\", \"Topic5\", \"Topic5\", \"Topic5\", \"Topic5\", \"Topic5\", \"Topic5\", \"Topic5\", \"Topic5\", \"Topic6\", \"Topic6\", \"Topic6\", \"Topic6\", \"Topic6\", \"Topic6\", \"Topic6\", \"Topic6\", \"Topic6\", \"Topic6\", \"Topic6\", \"Topic6\", \"Topic6\", \"Topic6\", \"Topic6\", \"Topic6\", \"Topic6\", \"Topic6\", \"Topic6\", \"Topic6\", \"Topic6\", \"Topic6\", \"Topic6\", \"Topic6\", \"Topic6\", \"Topic6\", \"Topic6\", \"Topic6\", \"Topic6\", \"Topic6\", \"Topic6\", \"Topic6\", \"Topic6\", \"Topic6\", \"Topic6\", \"Topic6\", \"Topic6\", \"Topic6\", \"Topic6\", \"Topic6\", \"Topic6\", \"Topic7\", \"Topic7\", \"Topic7\", \"Topic7\", \"Topic7\", \"Topic7\", \"Topic7\", \"Topic7\", \"Topic7\", \"Topic7\", \"Topic7\", \"Topic7\", \"Topic7\", \"Topic7\", \"Topic7\", \"Topic7\", \"Topic7\", \"Topic7\", \"Topic7\", \"Topic7\", \"Topic7\", \"Topic7\", \"Topic7\", \"Topic7\", \"Topic7\", \"Topic7\", \"Topic7\", \"Topic7\", \"Topic7\", \"Topic7\", \"Topic7\", \"Topic7\", \"Topic7\", \"Topic7\", \"Topic7\", \"Topic7\", \"Topic7\", \"Topic7\", \"Topic7\", \"Topic7\", \"Topic8\", \"Topic8\", \"Topic8\", \"Topic8\", \"Topic8\", \"Topic8\", \"Topic8\", \"Topic8\", \"Topic8\", \"Topic8\", \"Topic8\", \"Topic8\", \"Topic8\", \"Topic8\", \"Topic8\", \"Topic8\", \"Topic8\", \"Topic8\", \"Topic8\", \"Topic8\", \"Topic8\", \"Topic8\", \"Topic8\", \"Topic8\", \"Topic8\", \"Topic8\", \"Topic8\", \"Topic8\", \"Topic8\", \"Topic8\", \"Topic8\", \"Topic8\", \"Topic8\", \"Topic8\", \"Topic8\", \"Topic8\", \"Topic8\", \"Topic8\", \"Topic8\", \"Topic8\", \"Topic8\", \"Topic8\", \"Topic8\", \"Topic8\", \"Topic8\", \"Topic8\", \"Topic8\", \"Topic8\", \"Topic9\", \"Topic9\", \"Topic9\", \"Topic9\", \"Topic9\", \"Topic9\", \"Topic9\", \"Topic9\", \"Topic9\", \"Topic9\", \"Topic9\", \"Topic9\", \"Topic9\", \"Topic9\", \"Topic9\", \"Topic9\", \"Topic9\", \"Topic9\", \"Topic9\", \"Topic9\", \"Topic9\", \"Topic9\", \"Topic9\", \"Topic9\", \"Topic9\", \"Topic9\", \"Topic9\", \"Topic9\", \"Topic9\", \"Topic9\", \"Topic9\", \"Topic9\", \"Topic9\", \"Topic9\", \"Topic9\", \"Topic9\", \"Topic9\", \"Topic9\", \"Topic9\", \"Topic9\", \"Topic9\", \"Topic9\", \"Topic9\", \"Topic10\", \"Topic10\", \"Topic10\", \"Topic10\", \"Topic10\", \"Topic10\", \"Topic10\", \"Topic10\", \"Topic10\", \"Topic10\", \"Topic10\", \"Topic10\", \"Topic10\", \"Topic10\", \"Topic10\", \"Topic10\", \"Topic10\", \"Topic10\", \"Topic10\", \"Topic10\", \"Topic10\", \"Topic10\", \"Topic10\", \"Topic10\", \"Topic10\", \"Topic10\", \"Topic10\", \"Topic10\", \"Topic10\", \"Topic10\", \"Topic10\", \"Topic10\", \"Topic10\", \"Topic10\", \"Topic11\", \"Topic11\", \"Topic11\", \"Topic11\", \"Topic11\", \"Topic11\", \"Topic11\", \"Topic11\", \"Topic11\", \"Topic11\", \"Topic11\", \"Topic11\", \"Topic11\", \"Topic11\", \"Topic11\", \"Topic11\", \"Topic11\", \"Topic11\", \"Topic11\", \"Topic11\", \"Topic11\", \"Topic11\", \"Topic11\", \"Topic11\", \"Topic11\", \"Topic11\", \"Topic11\", \"Topic11\", \"Topic11\", \"Topic11\", \"Topic11\", \"Topic11\", \"Topic11\", \"Topic11\", \"Topic11\", \"Topic11\", \"Topic11\", \"Topic11\", \"Topic11\", \"Topic11\", \"Topic11\", \"Topic11\", \"Topic11\", \"Topic11\", \"Topic11\", \"Topic11\", \"Topic12\", \"Topic12\", \"Topic12\", \"Topic12\", \"Topic12\", \"Topic12\", \"Topic12\", \"Topic12\", \"Topic12\", \"Topic12\", \"Topic12\", \"Topic12\", \"Topic12\", \"Topic12\", \"Topic12\", \"Topic12\", \"Topic12\", \"Topic12\", \"Topic12\", \"Topic12\", \"Topic12\", \"Topic12\", \"Topic12\", \"Topic12\", \"Topic12\", \"Topic12\", \"Topic12\", \"Topic12\", \"Topic12\", \"Topic12\", \"Topic12\", \"Topic12\", \"Topic12\", \"Topic12\", \"Topic12\", \"Topic12\", \"Topic12\", \"Topic12\", \"Topic12\", \"Topic12\", \"Topic12\", \"Topic12\", \"Topic12\", \"Topic12\", \"Topic12\", \"Topic13\", \"Topic13\", \"Topic13\", \"Topic13\", \"Topic13\", \"Topic13\", \"Topic13\", \"Topic13\", \"Topic13\", \"Topic13\", \"Topic13\", \"Topic13\", \"Topic13\", \"Topic13\", \"Topic13\", \"Topic13\", \"Topic13\", \"Topic13\", \"Topic13\", \"Topic13\", \"Topic13\", \"Topic13\", \"Topic13\", \"Topic13\", \"Topic13\", \"Topic13\", \"Topic13\", \"Topic13\", \"Topic13\", \"Topic13\", \"Topic13\", \"Topic13\", \"Topic13\", \"Topic13\", \"Topic13\", \"Topic13\", \"Topic13\", \"Topic13\", \"Topic13\", \"Topic13\", \"Topic14\", \"Topic14\", \"Topic14\", \"Topic14\", \"Topic14\", \"Topic14\", \"Topic14\", \"Topic14\", \"Topic14\", \"Topic14\", \"Topic14\", \"Topic14\", \"Topic14\", \"Topic14\", \"Topic14\", \"Topic14\", \"Topic14\", \"Topic14\", \"Topic14\", \"Topic14\", \"Topic14\", \"Topic14\", \"Topic14\", \"Topic14\", \"Topic14\", \"Topic14\", \"Topic14\", \"Topic14\", \"Topic14\", \"Topic14\", \"Topic14\", \"Topic14\", \"Topic14\", \"Topic14\", \"Topic14\", \"Topic14\", \"Topic14\", \"Topic14\", \"Topic14\", \"Topic15\", \"Topic15\", \"Topic15\", \"Topic15\", \"Topic15\", \"Topic15\", \"Topic15\", \"Topic15\", \"Topic15\", \"Topic15\", \"Topic15\", \"Topic15\", \"Topic15\", \"Topic15\", \"Topic15\", \"Topic15\", \"Topic15\", \"Topic15\", \"Topic15\", \"Topic15\", \"Topic15\", \"Topic15\", \"Topic15\", \"Topic15\", \"Topic15\", \"Topic15\", \"Topic15\", \"Topic15\", \"Topic15\", \"Topic15\", \"Topic15\", \"Topic15\", \"Topic15\", \"Topic15\", \"Topic15\", \"Topic15\", \"Topic15\", \"Topic15\", \"Topic15\", \"Topic15\", \"Topic15\", \"Topic15\", \"Topic15\", \"Topic15\", \"Topic16\", \"Topic16\", \"Topic16\", \"Topic16\", \"Topic16\", \"Topic16\", \"Topic16\", \"Topic16\", \"Topic16\", \"Topic16\", \"Topic16\", \"Topic16\", \"Topic16\", \"Topic16\", \"Topic16\", \"Topic16\", \"Topic16\", \"Topic16\", \"Topic16\", \"Topic16\", \"Topic16\", \"Topic16\", \"Topic16\", \"Topic16\", \"Topic16\", \"Topic16\", \"Topic16\", \"Topic16\", \"Topic16\", \"Topic16\", \"Topic16\", \"Topic16\", \"Topic16\", \"Topic16\", \"Topic16\", \"Topic16\", \"Topic16\", \"Topic17\", \"Topic17\", \"Topic17\", \"Topic17\", \"Topic17\", \"Topic17\", \"Topic17\", \"Topic17\", \"Topic17\", \"Topic17\", \"Topic17\", \"Topic17\", \"Topic17\", \"Topic17\", \"Topic17\", \"Topic17\", \"Topic17\", \"Topic17\", \"Topic17\", \"Topic17\", \"Topic17\", \"Topic17\", \"Topic17\", \"Topic17\", \"Topic17\", \"Topic17\", \"Topic17\", \"Topic17\", \"Topic17\", \"Topic17\", \"Topic17\", \"Topic17\", \"Topic17\", \"Topic17\", \"Topic17\", \"Topic17\", \"Topic18\", \"Topic18\", \"Topic18\", \"Topic18\", \"Topic18\", \"Topic18\", \"Topic18\", \"Topic18\", \"Topic18\", \"Topic18\", \"Topic18\", \"Topic18\", \"Topic18\", \"Topic18\", \"Topic18\", \"Topic18\", \"Topic18\", \"Topic18\", \"Topic18\", \"Topic18\", \"Topic18\", \"Topic18\", \"Topic18\", \"Topic18\", \"Topic18\", \"Topic18\", \"Topic18\", \"Topic18\", \"Topic18\", \"Topic18\", \"Topic18\", \"Topic18\", \"Topic18\", \"Topic18\", \"Topic18\", \"Topic18\", \"Topic18\", \"Topic18\", \"Topic18\", \"Topic18\", \"Topic18\", \"Topic18\", \"Topic18\", \"Topic18\", \"Topic19\", \"Topic19\", \"Topic19\", \"Topic19\", \"Topic19\", \"Topic19\", \"Topic19\", \"Topic19\", \"Topic19\", \"Topic19\", \"Topic19\", \"Topic19\", \"Topic19\", \"Topic19\", \"Topic19\", \"Topic19\", \"Topic19\", \"Topic19\", \"Topic19\", \"Topic19\", \"Topic19\", \"Topic19\", \"Topic19\", \"Topic19\", \"Topic19\", \"Topic19\", \"Topic19\", \"Topic19\", \"Topic19\", \"Topic19\", \"Topic19\", \"Topic19\", \"Topic19\", \"Topic19\", \"Topic19\", \"Topic19\", \"Topic19\", \"Topic19\", \"Topic19\", \"Topic19\", \"Topic19\", \"Topic19\", \"Topic19\", \"Topic19\", \"Topic20\", \"Topic20\", \"Topic20\", \"Topic20\", \"Topic20\", \"Topic20\", \"Topic20\", \"Topic20\", \"Topic20\", \"Topic20\", \"Topic20\", \"Topic20\", \"Topic20\", \"Topic20\", \"Topic20\", \"Topic20\", \"Topic20\", \"Topic20\", \"Topic20\", \"Topic20\", \"Topic20\", \"Topic20\", \"Topic20\", \"Topic20\", \"Topic20\", \"Topic20\", \"Topic20\", \"Topic20\", \"Topic20\", \"Topic20\", \"Topic20\", \"Topic20\", \"Topic20\", \"Topic20\", \"Topic20\", \"Topic20\", \"Topic20\", \"Topic20\", \"Topic20\", \"Topic20\"], \"Freq\": [17617.0, 7393.0, 11504.0, 5842.0, 10702.0, 12243.0, 4032.0, 4196.0, 5113.0, 3396.0, 3836.0, 3989.0, 4076.0, 5913.0, 4192.0, 2976.0, 4844.0, 2697.0, 6399.0, 3106.0, 2910.0, 3375.0, 2417.0, 2732.0, 2285.0, 3658.0, 2183.0, 5269.0, 2759.0, 4151.0, 3074.3162557454853, 2616.8875561553227, 2424.673547182494, 1987.8553398016545, 1573.2284066701186, 1353.0155151237132, 1341.9508862490793, 1204.2888285615684, 1078.710678428311, 838.4970427067049, 833.2870208926994, 750.7966133688452, 741.4098154640392, 740.6795215833802, 671.4499214517555, 661.9932880960707, 659.9326606571898, 658.8211664689245, 643.7076215079328, 607.4491171339746, 587.0470629923409, 554.9127879978474, 551.8898941319984, 545.8020446620144, 509.078311566319, 473.17905792513227, 461.6398447793906, 448.3303201923696, 437.8918935534691, 435.6104776433781, 1186.3713086382272, 1747.7256908017964, 5376.182933512819, 1974.8064534529112, 1889.8817073854996, 1127.062537896679, 1171.419698471497, 2130.2461126080348, 1637.9349239661437, 1349.3179913404701, 2025.7905118872873, 2846.3882826627596, 1804.2076397770413, 1708.656651225164, 4369.960090635296, 2279.5117499025446, 3456.6164563708803, 4023.8706953936244, 1451.711528602044, 2948.673513513054, 1793.8886848547388, 1895.2537736123672, 1509.3892096045292, 1447.0803659811645, 1464.2701872818025, 1652.3748741525415, 1486.2812069624085, 2819.049149366298, 2128.5286075614717, 2001.3110002394228, 1933.7845327163882, 1491.5704099880147, 1376.174171052485, 1373.561739638433, 1372.5348798307393, 1309.8629690652008, 1238.8656335362455, 1213.2025559210877, 1189.5616700363091, 1159.1660061923033, 1063.5071097898838, 1045.8839426566249, 951.4379399386509, 923.8865355896563, 909.1870418935815, 904.9826884544186, 885.6898325088418, 814.0316737014297, 781.4201172529305, 761.7976476062643, 724.582846221109, 703.8400344633242, 640.478875406606, 640.2044078474297, 634.8743167361023, 626.8418386206567, 606.9867424168364, 1407.536776708875, 5213.542310379565, 4046.2794641780156, 1615.138544468891, 1152.3361001481835, 2105.819826548767, 1485.7937198765255, 1231.3265394305924, 1310.4286850036274, 2141.0480863186417, 1142.0320782667081, 1655.8322319067681, 1379.9508458697483, 1407.7802311081748, 1292.7498459580083, 1481.8398743802245, 1210.3451526606932, 1148.0401367162785, 2316.9197282256973, 1900.9269320906785, 1376.458453806103, 1313.057621372157, 1192.8364059767414, 814.7668965169341, 795.1927459020832, 744.258579210817, 645.8981673005137, 644.9902272988015, 622.197499182429, 610.9603943804266, 527.4301981895683, 525.2113614996268, 450.9370287717695, 446.8594771408582, 419.1646130643171, 416.052364697086, 410.63636996947724, 392.91847196881207, 382.13607424469143, 359.3531789913883, 349.4825857546736, 348.3474451099576, 348.3215750699213, 326.44450502628473, 305.8005835488795, 305.55674927751494, 304.27046209472815, 296.0274457992842, 676.4072250205445, 1610.4490612769894, 1549.6826524436046, 5999.390414217508, 1392.1572854251613, 1825.3844536287072, 1391.4636473408464, 1059.434167282977, 4596.59028320979, 1163.480027573905, 589.2947226897667, 1068.0750844212398, 826.2292207666488, 2946.371605897523, 813.077654157207, 613.202786141309, 812.0928518491311, 810.5693797092091, 773.0876397249965, 829.7747999258147, 882.5993871857205, 723.8308292167526, 699.6592258436136, 3105.181271285355, 2361.083517151535, 2016.762610708765, 1935.3169621271422, 1886.4639754875082, 1484.8307163396269, 1443.1341408108376, 1322.214140177415, 1248.158169491867, 1210.660754693006, 1157.0411747034457, 1105.8184201820827, 1052.5435610448908, 1031.1763515203588, 947.7759775526807, 866.4990037367476, 681.5146486000618, 663.8391299576331, 634.6154339803345, 627.9017909324072, 620.0480898091616, 586.5712611542543, 532.4573098318921, 502.1572428182708, 459.21279192681885, 442.4769091311561, 385.4325956756781, 377.5349505263075, 374.2303934144913, 363.59953532346026, 1095.295468147371, 999.6470208788295, 2277.62102476769, 712.1668655758926, 2010.19812489525, 675.3365634030582, 1317.2926866639568, 1602.7163168591376, 821.5888279365176, 724.9010286256178, 2253.8017700003843, 1507.0962279384094, 1468.6230208945854, 1119.9680644936093, 1074.4530566946657, 1033.0830208008156, 875.0627979157634, 520.7315830660284, 513.6747959463604, 449.3635043186114, 443.44118327878385, 430.10492768523585, 404.61291711826783, 391.82582878206057, 386.5585237381583, 358.6638771711433, 350.76508463992457, 349.33712651905034, 345.26546518717373, 339.2177076634883, 321.66799731660666, 318.6718771894574, 312.32415279433894, 300.68478587408475, 287.1306444145973, 282.0931178074822, 275.9526646839351, 272.086040559094, 267.8524349095606, 260.1366357499124, 1589.81622269064, 884.6885980419523, 506.0077327464685, 1559.006571264056, 352.04758076489355, 931.4499915157469, 5357.149788275876, 1180.8864444752724, 991.6002783614942, 1555.3954168142625, 530.5884102398237, 1248.398764271895, 946.7681876409789, 435.38239113704276, 2443.120295644163, 450.1002563313891, 653.8226822411399, 564.2740522396289, 495.24788233863916, 522.0710438306269, 444.61325228758005, 2296.97740702784, 1317.5403085672547, 1122.3464039831326, 898.9502792360362, 884.3633122258375, 837.5615401941333, 821.0893247560587, 807.5169594477971, 785.6289315845788, 755.8826636358114, 681.280396128052, 647.652782476058, 587.9629767604637, 531.2235789984956, 527.1907740387566, 521.7023310850298, 499.2870726034194, 457.15499080764016, 452.10205906473, 417.1367956281448, 409.8840905069599, 400.5352926741451, 398.86452664131497, 397.7527894267444, 382.01513457245227, 375.7183863951696, 373.81433853785853, 350.82089016966677, 348.9494715878494, 346.61878430257883, 1361.4744185894976, 1586.5702370208444, 843.619654575031, 561.0703159014287, 762.3163123473369, 511.7218433261429, 624.1620945378714, 481.96476933779667, 492.4131117867176, 412.791439636607, 412.90433344486377, 3835.983505509251, 1269.6391349960722, 1217.4571360388807, 1124.4348288161916, 1081.0320195861318, 995.3554171528592, 962.7849672467776, 960.0118384279223, 917.0398301509227, 842.9503027309861, 712.0442884965973, 698.8124232626396, 660.8001377661317, 645.819938526623, 639.937378528247, 609.5773535730165, 582.264343065472, 531.9274950075297, 497.3985398951781, 480.55010118895774, 463.8013742089678, 460.32656812251406, 441.2445507525531, 434.3531574187753, 361.616751289495, 346.20970776168014, 624.3809742055349, 326.95035792647053, 321.2889337947273, 315.76870669882413, 3471.5803150149277, 2506.625784173858, 1892.315201615719, 517.0283254622585, 802.0245602143932, 1248.3474939743644, 597.9902434900939, 658.5281748755033, 675.3957097626886, 517.0579123852642, 1797.964141173205, 724.6625527484879, 609.5958956688744, 580.8792639255133, 570.388042325439, 503.1100036203566, 495.05082843232447, 459.2552947144628, 440.9138440708468, 426.06046774292287, 420.2682574469866, 412.32111622493255, 404.0778733348589, 378.9288131108362, 371.1771190777181, 368.349481514078, 340.2834173565767, 318.1679595400985, 318.14990187414384, 299.3217423242577, 285.84335109529087, 282.6599899614299, 267.2995768409587, 255.73216792600357, 254.06367443494133, 247.86891964034686, 243.36774709431526, 242.49366484203958, 239.93424806921828, 236.7440889158373, 1268.0528895497046, 1138.7645510270306, 448.0569944338493, 1036.7473867631081, 4784.2742099055495, 605.0348291984933, 350.9836465067569, 406.04720085735187, 965.4099358162472, 1319.679727030258, 608.3688020513223, 463.51456974345547, 392.49123481156687, 460.02862107578653, 481.8370325752522, 424.83321736942395, 400.36664590277434, 392.1411974707351, 4195.961822412479, 1786.7655821743203, 1720.1660797031375, 1568.7269876105208, 1549.4279318890517, 1453.0413160874277, 955.9785880530081, 885.8589243243376, 881.1595472797468, 807.2647905875983, 592.1446311345626, 575.4114112239712, 488.1680920397032, 473.01064146917906, 456.14145060117136, 441.30322247373607, 370.1596211884265, 347.00144974923, 340.36408922637963, 315.81261713449493, 300.11653374642435, 295.3774660807097, 258.6876895683917, 240.03442864223229, 232.6474034531959, 229.24402677577717, 222.93506649843857, 205.83135710014142, 204.70932166203082, 203.99695167593842, 2628.469813685239, 2380.9183250491187, 3182.4507365105824, 1074.658680610848, 981.7931273423261, 706.5937760884183, 1102.1638986274531, 868.0587720717828, 625.6939278289805, 442.99214278255147, 393.7662432624846, 618.6223766418002, 423.6318585332393, 1901.3723053396836, 894.9808289018669, 794.7342798227805, 790.9530069792728, 777.972790620867, 629.0791891167818, 618.4033703164398, 616.6242056957395, 536.6105440988724, 535.4064926932493, 525.4942669597539, 521.257070128536, 487.2631144200152, 449.10069200594273, 446.146306386931, 444.7122884550517, 437.01644118951145, 398.6286858961285, 378.2736295305977, 373.23483828440027, 369.1525050573215, 368.09522991257376, 358.5685286580713, 355.59755055082627, 354.127437909825, 351.0372725505282, 338.00810843234274, 334.2463378035679, 333.7555482247519, 319.43732134844845, 741.8465647068574, 746.6285718119773, 569.7835683766285, 385.5018616978111, 2002.9574183551424, 1628.5029482245718, 1338.5468980579421, 962.3143501203698, 896.4050333678314, 820.8109562559614, 788.1282122452891, 719.2663811670757, 642.1393602102348, 548.2057212070023, 451.9471095635181, 449.07301893452666, 446.37804625364777, 425.3567912656696, 389.48524948658707, 384.4911158410723, 382.68883435060275, 366.62680546049694, 316.19754699714997, 252.49393922884002, 248.668413726012, 246.86949978419725, 236.92640021004982, 235.89768092470942, 231.5559612838694, 231.0347816426696, 226.95591267745692, 218.05778288056575, 217.70002238480058, 216.16999664173963, 915.3235178325834, 2892.5795364699184, 704.5282223074635, 1244.765983585128, 764.1812914248245, 749.4117551721253, 340.6911421544579, 1368.5545968314827, 1049.753363114338, 369.9132537380542, 394.8944796261665, 572.2154845079403, 1128.062113013939, 446.50008955096314, 624.8620805046855, 437.8959485658763, 1632.4810667548666, 1565.9984679982247, 811.7319548737586, 698.5388334639465, 683.0924653548285, 443.21438291356935, 425.2306380426181, 382.1531842045665, 380.86532957834754, 368.9990778587879, 328.5011086339257, 328.2946424684535, 307.1135190565679, 291.86266152959035, 270.7373398358447, 260.2018532889901, 258.81102798354686, 254.34787007321253, 250.72824558680097, 249.1689824914203, 248.48266992523583, 231.14931185008342, 230.7452142521588, 228.11844893822055, 221.7645135163826, 215.48763142905847, 210.92448000057328, 208.47705476856828, 205.8754292313739, 201.4304474761138, 917.0767777142058, 1297.5234335347943, 792.246974485165, 578.2550448304202, 939.7347164183421, 753.3676932203061, 654.9099336658824, 702.392619447555, 572.2502103889998, 389.58808649423725, 978.3235513526432, 1587.8327446552282, 336.77748955620916, 361.9251711970363, 280.04045588400896, 1517.9401554075864, 1163.0734838478995, 907.7027130463397, 840.0121356581805, 638.0674287527379, 547.4811618060444, 547.3560010639559, 540.19979518143, 497.88519166233147, 490.02087922762814, 483.85783020667657, 465.50450496647017, 428.6472258111577, 412.8481581545397, 386.15440108094225, 385.6551341536665, 378.9364845562125, 372.44032750524775, 363.33897279511314, 362.5924173625717, 351.4788552649917, 330.9374277791427, 325.10864478414334, 321.5700248910688, 316.9915360951645, 309.2714033253989, 304.5796236966916, 299.88599695105864, 299.4916429300313, 283.61839010590654, 426.7382113280235, 767.857091410303, 654.7280083270487, 503.0038587335416, 1084.4588717174086, 690.2095056820315, 1281.2566959925489, 465.2736469579593, 739.3723908276299, 608.571773520664, 1787.6540526486872, 1382.2678096141992, 1159.8951525335513, 1144.0503508731272, 995.5757666821153, 789.2187110262313, 760.3778927642936, 682.8474236887251, 579.0177061071978, 522.5654198402103, 522.2853970866585, 446.93083190858795, 419.2663268173507, 400.94507795425966, 375.71715150491855, 371.01031279711776, 363.36875345408276, 362.6215228061681, 327.73486835228647, 326.40421991223633, 297.3008734074903, 277.3447939632084, 270.3494311835825, 267.9385847579832, 262.7759725454044, 249.96909207802977, 246.83432339021982, 228.3129137442724, 221.7783825373177, 216.43934682524016, 5804.91850773861, 342.9312928485071, 802.5473712438367, 489.8303809568598, 382.1965121300267, 896.3244480516862, 319.83857008185663, 534.8359033038621, 335.6590842979403, 1971.6739945543354, 1334.8567031303928, 975.8484249001579, 703.9295526952998, 619.5258629983506, 617.9548034611346, 575.7375330456482, 496.44038102319075, 476.79106803890465, 463.83264898419304, 461.2769016826884, 389.459538703713, 370.28706282613075, 363.2881056375321, 331.9638995465464, 311.0379054315182, 302.06076003816435, 298.6792642658409, 297.0516293863881, 289.42676711776085, 288.9350621529541, 280.18094765499814, 277.26168863351785, 260.59770565543283, 254.69851610285167, 252.6217313224635, 236.31709789247518, 231.50378116284344, 224.33323594825922, 221.57989978684574, 1693.9290306742414, 918.7222264920468, 2352.2629735054643, 943.1661006883484, 600.8343871617858, 538.2024096739129, 1461.8457161612043, 823.4014755400191, 491.58637864851516, 404.4101718348096, 522.1022056522685, 354.6804827138413, 336.9550644158641, 345.78493411980327, 2416.876592928848, 1187.2963004439962, 1035.1668815371083, 837.9936181611351, 828.1192636861798, 790.4203823381837, 704.9085679102157, 599.8882009974765, 529.2242689117592, 525.7990482550636, 407.8119624043511, 390.33738565501716, 353.2727231458733, 352.2235756960449, 348.203993928544, 333.01998439087333, 329.0643385691745, 326.18214398240804, 308.75253446404975, 306.39099864988304, 297.0965104519881, 295.64972354651695, 284.87396979696956, 279.67570871486026, 276.40804592909984, 245.44486328577784, 237.59645397074516, 236.07343708174724, 224.21332132273625, 220.65076805411698, 1273.5822725777414, 379.5021991754253, 310.2914740081831, 450.77581766572, 248.32447990690133, 255.9761487913983, 263.2774840057034, 2696.788533272926, 973.9200621071476, 845.2777227442137, 769.028168058031, 727.7335704653275, 667.3380169554908, 656.5602905801339, 554.1982722845971, 516.664268311382, 516.3603150353082, 514.0221159557374, 510.31907129157776, 475.1924999972448, 461.7873134396025, 445.8442300068271, 441.4638784446177, 422.89636056534766, 400.19133584200216, 396.22227750821867, 389.03436293605546, 369.63213882429505, 329.65263101532685, 327.82088080312553, 324.2989232987215, 320.9419979213259, 315.54486381478466, 313.6262646871662, 303.39928723175524, 286.65592753783307, 280.94236875601905, 1395.6716368092145, 580.2055913285906, 510.8988832904351, 611.4494548290611, 493.80498780470015, 343.2098917513227, 2284.1635479102424, 866.6524579537156, 820.8480877246025, 800.2618430377744, 626.3301979348535, 458.28969542050123, 454.5994835601279, 370.5419983499795, 352.64685752235755, 347.28702859732977, 330.6470427425437, 315.01907222044775, 291.08326745284154, 271.4299214953894, 265.8574061558143, 261.8132426812857, 249.76151941704856, 247.50501717386098, 223.0826911590441, 221.74636306035717, 217.91581234938846, 212.41620868203648, 209.73057965614368, 208.6390936327579, 205.9683863189173, 199.4410955370976, 195.69779111986497, 193.83430778004967, 193.0765887861817, 192.13134389510492, 4693.083015014592, 569.5461581358863, 745.4556172474948, 1135.541506217744, 232.08672208960317, 324.51791598390537, 664.3473466345307, 1010.1043654332482, 637.2330351372055, 591.9663817364075, 325.7698025011826, 285.6327382342068, 242.85549595901492, 277.00585867528423, 3395.541399372595, 2182.89680778431, 1677.3692330640222, 1234.745857058489, 1140.293233047821, 1128.1262969131622, 888.403802095321, 397.62653543254163, 394.3329330756308, 383.3114829895103, 378.74223521562783, 371.0726399097693, 346.2219625750499, 343.0583461250981, 342.30611143762246, 325.5216269113293, 319.0998220957094, 292.08222133159194, 282.94792364296393, 282.7141455358585, 255.4556503828848, 254.75387042818693, 253.33768405323355, 244.93000576645784, 237.3451220792599, 219.644616560314, 219.06062267148044, 211.00510143115036, 210.70754569866094, 194.92741696505942, 716.7458692031125, 948.1689524268182, 517.8918848364244, 489.9152366745947, 543.9475572168952, 474.4638097976378, 445.7030180479838, 461.3832158061713, 538.4084249064441, 399.49498942982376, 401.7248507588572, 404.19940589383503, 397.47527843064165, 404.4650946772662, 4031.4191859444823, 2975.4581121029096, 1910.5372676704915, 1740.566218366171, 1291.754572407232, 894.7456265217568, 806.14661825208, 409.7852879653418, 405.4482688581566, 404.0522463717578, 388.8589579591846, 330.746311416784, 327.1027209413953, 322.33581898398086, 312.7575764716892, 306.6957512662661, 301.73996748626297, 298.3329999489379, 279.37740416228183, 276.92915241569835, 275.2925162958561, 257.9372594549212, 242.50398353413962, 235.58729053333292, 235.37007663647768, 231.12691598013677, 216.5472436563858, 212.86332915968285, 197.34351767210714, 196.68058794531004, 338.8890291560381, 1687.895872432676, 1068.1555101496003, 593.3664541274336, 357.5567310398056, 429.01770551869845, 603.4460107024822, 442.92362758662944, 303.8741573034653, 323.4914199841955], \"Total\": [17617.0, 7393.0, 11504.0, 5842.0, 10702.0, 12243.0, 4032.0, 4196.0, 5113.0, 3396.0, 3836.0, 3989.0, 4076.0, 5913.0, 4192.0, 2976.0, 4844.0, 2697.0, 6399.0, 3106.0, 2910.0, 3375.0, 2417.0, 2732.0, 2285.0, 3658.0, 2183.0, 5269.0, 2759.0, 4151.0, 3075.3068526005736, 2617.878153010863, 2425.6641440406374, 1988.8459366667635, 1574.2190035277142, 1354.0061119790182, 1342.9414831073261, 1205.27942542131, 1079.7012752904832, 839.4876395623379, 834.2776177506444, 751.7872102291932, 742.4004123212177, 741.6701184400067, 672.4405183103112, 662.983884964485, 660.9232575151623, 659.8117633317349, 644.6982183772395, 608.4397139952869, 588.037659848798, 555.903384860908, 552.8804909902859, 546.7926415287424, 510.0689084267849, 474.16965479398107, 462.630441637578, 449.3209170511701, 438.8824904128932, 436.60107450008223, 1236.8325563180028, 1908.9607297536163, 6399.551158629876, 2378.416424737186, 2264.9270678980233, 1271.395723745691, 1343.8790357528098, 2787.1949122990773, 2262.420718432733, 1770.439618902738, 3058.9955628414214, 5428.381133396099, 2854.898245132694, 2657.685909870409, 12243.129317519692, 4844.4073842153075, 10702.620424894896, 17617.710186728636, 2766.825969011542, 11504.819812505932, 4295.203466773497, 4988.67655320907, 4156.431545433435, 3497.411105758784, 4151.589403926093, 8716.69340041625, 4622.773782584571, 2820.051031101427, 2129.5304892959066, 2002.3128819712592, 1934.7864144496837, 1492.5722917272683, 1377.1760527923948, 1374.5636213706014, 1373.536761567716, 1310.864850802088, 1239.867515268654, 1214.2044376563817, 1190.563551768527, 1160.1678879279248, 1064.5089915289527, 1046.8858243944355, 952.439821678792, 924.8884173310859, 910.1889236307306, 905.9845701873725, 886.6917142432548, 815.0335554425227, 782.4219989885353, 762.7995293643419, 725.5847279577316, 704.8419162009656, 641.4807571392156, 641.2062895804866, 635.8761984809859, 627.8437203565097, 607.9886241567817, 1463.2095769723783, 5913.229041014393, 5269.864380321814, 1902.863283424188, 1297.4032685517695, 2686.7222160978154, 1766.4660189084784, 1438.2364750142565, 1741.590834759163, 5102.173390826782, 1681.6774707439397, 4622.773782584571, 3658.5277719578326, 5113.97312348962, 4192.28461315637, 11504.819812505932, 8716.69340041625, 5842.069580640494, 2317.9017489065695, 1901.908952773687, 1377.4404744876394, 1314.0396420604989, 1193.8184266590793, 815.7489171989962, 796.1747665848178, 745.2405998907674, 646.8801879882585, 645.9722479757468, 623.1795198629084, 611.9424150614201, 528.412218872733, 526.1933821862043, 451.91904945497754, 447.8414978248115, 420.1466337517985, 417.0343853804274, 411.61839065409146, 393.9004926475843, 383.1180949311665, 360.3351996823971, 350.4646064401645, 349.32946579705043, 349.3035957549166, 327.4265257099782, 306.7826042437292, 306.5387699615267, 305.2524827798913, 297.0094664851913, 742.169412163818, 1979.8682774474619, 1905.6605586486112, 10702.620424894896, 1965.0268009882486, 2777.0806330782, 2071.729514145044, 1462.3172697528398, 12243.129317519692, 1865.721740317006, 743.7049469980922, 2092.949834510111, 1452.1110593081037, 17617.710186728636, 1813.6459188997496, 1037.644704698804, 2732.4737920697967, 4156.431545433435, 3497.411105758784, 5428.381133396099, 8716.69340041625, 6399.551158629876, 3646.4391114974082, 3106.180832751912, 2362.0830786154406, 2017.7621721837913, 1936.3165235897418, 1887.4635369522598, 1485.8302778011248, 1444.1337022766113, 1323.2137016408087, 1249.1577309509316, 1211.6603161594667, 1158.0407361695657, 1106.8179816468116, 1053.5431225063821, 1032.175912981167, 948.7755390168553, 867.4985652003497, 682.514210061508, 664.8386914236004, 635.6149954477045, 628.901352404574, 621.0476512704714, 587.5708226319346, 533.4568712942382, 503.1568042842655, 460.21235339719186, 443.4764705975678, 386.4321571383106, 378.53451199444794, 375.22995487441807, 364.599096790967, 1325.6550613258662, 1191.368428909151, 3658.5277719578326, 895.067350332834, 4151.589403926093, 942.161006483159, 3662.6070034726463, 11504.819812505932, 8716.69340041625, 4988.67655320907, 2254.799153750897, 1508.0936116897221, 1469.620404648053, 1120.965448248689, 1075.4504404519832, 1034.0804045535422, 876.060181672305, 521.7289668226632, 514.6721796986702, 450.360888067234, 444.438567033532, 431.1023114412991, 405.6103008728165, 392.82321253906485, 387.5559074969924, 359.66126092279717, 351.76246839539516, 350.33451027379033, 346.2628489355536, 340.2150914111181, 322.6653810713372, 319.6692609398208, 313.3215365517157, 301.6821696261025, 288.12802817037823, 283.0905015650258, 276.95004844844027, 273.08342431256557, 268.8498186655543, 261.1340195002202, 1870.804765103471, 1022.4955553330898, 549.48152048952, 2087.860297331027, 368.5890968161147, 1192.8125621053648, 11504.819812505932, 1835.214475432185, 1608.0307307213156, 3284.5683748821634, 701.6729029841143, 2735.929834404679, 2003.8822079056088, 530.6340189728547, 17617.710186728636, 598.3803985159187, 3662.6070034726463, 2210.9553696867774, 1213.8207905549175, 8716.69340041625, 2982.843868006814, 2297.95964335983, 1318.5225448996614, 1123.3286403148618, 899.9325155666, 885.3455485581736, 838.5437765296084, 822.0715610903636, 808.4991957813517, 786.6111679218321, 756.864899967829, 682.262632461578, 648.635018806855, 588.9452130995043, 532.2058153351744, 528.1730103707513, 522.6845674170772, 500.26930894197915, 458.13722713716885, 453.0842953966416, 418.1190319579547, 410.8663268382351, 401.51752900887936, 399.8467629757018, 398.7350257628112, 382.9973709009403, 376.70062272891516, 374.79657487463265, 351.80312650363055, 349.9317079206148, 347.6010206337651, 1511.3645390162737, 1873.1297587618803, 1045.526764296639, 726.7878119854008, 1254.2180053640243, 674.4338501573603, 1127.8121556339836, 879.045038678261, 1245.2903920678636, 519.3775216944582, 5102.173390826782, 3836.979483132198, 1270.635112616679, 1218.4531136590795, 1125.4308064401723, 1082.0279972078777, 996.3513947720268, 963.78094486542, 961.0078160490525, 918.035807774299, 843.946280347247, 713.0402661135499, 699.8084008794374, 661.7961153916297, 646.8159161520085, 640.9333561495009, 610.573331195035, 583.2603206859249, 532.9234726325716, 498.3945175168794, 481.5460788132249, 464.7973518359515, 461.3225457445196, 442.24052837455133, 435.34913504465436, 362.6127289158866, 347.2056853773439, 626.2778736731029, 327.94633554825316, 322.284911416692, 316.7646843251264, 4076.1394634300773, 3375.630176335439, 2590.199691685619, 674.6123602076595, 1505.7229357009269, 4988.67655320907, 1007.0590555405545, 1803.52414686152, 5269.864380321814, 3315.110461268373, 1798.952655598568, 725.651067176634, 610.5844100966755, 581.8677783504937, 571.3765567500027, 504.0985180475326, 496.0393428579826, 460.24380913748354, 441.9023585041248, 427.0489821745767, 421.2567718853375, 413.3096306480355, 405.0663877654394, 379.9173275365315, 372.16563350153393, 369.3379959385521, 341.27193178327184, 319.15647397176997, 319.1384162979515, 300.31025674833387, 286.83186552131355, 283.6485043856063, 268.28809127401706, 256.7206823586934, 255.0521888596549, 248.85743406776987, 244.35626151776705, 243.4821792718501, 240.92276249327725, 237.7326033413954, 1657.295756102592, 1641.5799358990485, 549.2995145494093, 1774.4087323854947, 17617.710186728636, 911.399355890815, 418.4427582945643, 594.9370825609951, 3497.411105758784, 12243.129317519692, 1942.9576412481301, 1047.7936751235447, 643.2925948512827, 2041.1956618686795, 2982.843868006814, 1699.350686820501, 1034.4549524724296, 8716.69340041625, 4196.957006756458, 1787.7607665165376, 1721.161264045655, 1569.7221719543415, 1550.4231162315543, 1454.0365004310981, 956.9737723996072, 886.8541086740687, 882.1547316241711, 808.2599749337757, 593.1398154816504, 576.4065955733387, 489.16327638232127, 474.0058258186979, 457.13663494581385, 442.2984068219381, 371.1548055320781, 347.99663409325956, 341.3592735744367, 316.80780148027236, 301.1117180960127, 296.37265043188813, 259.6828739287443, 241.0296129943606, 233.64258779564992, 230.2392111287722, 223.9302508501066, 206.8265414401818, 205.7045060055702, 204.9921360277174, 2910.2441413726992, 2732.1101320520665, 3989.4001900339567, 1421.3845792721957, 1323.0133577794327, 1342.8494965891448, 4844.4073842153075, 3375.630176335439, 2320.5639230488227, 1158.9800245916954, 792.185938295943, 8716.69340041625, 4988.67655320907, 1902.3676148023949, 895.9761383623974, 795.7295892792602, 791.9483164362803, 778.9681000812355, 630.0744985724303, 619.3986797853654, 617.6195151529394, 537.6058535716675, 536.4018021545232, 526.489576418064, 522.2523795883612, 488.2584238806591, 450.0960014607099, 447.14161584689083, 445.70759791735844, 438.01175064993816, 399.6239953609261, 379.2689389911825, 374.2301477443711, 370.1478145305738, 369.09053937456713, 359.5638381215199, 356.59286000442467, 355.1227473665799, 352.0325820131569, 339.003417890232, 335.2416472622862, 334.7508576847332, 320.4326308054902, 908.5721699260262, 1060.0253183154757, 1314.1635445723507, 596.9602440206199, 2003.9496056096618, 1629.4951354797158, 1339.5390853154574, 963.306537374474, 897.3972206214792, 821.803143510093, 789.120399496748, 720.2585684226623, 643.1315474658951, 549.1979084659288, 452.93929682128766, 450.0652061959041, 447.37023350857663, 426.34897852042263, 390.47743674862284, 385.48330310812764, 383.68102161388714, 367.61899272258535, 317.18973424956897, 253.48612648103278, 249.6606009872602, 247.86168708229644, 237.91858746740004, 236.88986817977448, 232.54814854760295, 232.0269688963148, 227.9480999301426, 219.0499701436634, 218.6922096452332, 217.1621839009042, 1193.4219531774374, 5113.97312348962, 1010.7488805881568, 2318.8443926194327, 1275.364633010853, 1302.78886488234, 421.6870606019905, 4156.431545433435, 2854.898245132694, 508.5010298193101, 609.8473389214914, 1694.8719002946166, 17617.710186728636, 1204.9437429830302, 12243.129317519692, 3284.5683748821634, 1633.47731140991, 1566.9947126526222, 812.7281995341883, 699.5350781221725, 684.0887100082753, 444.2106275682118, 426.22688270132153, 383.14942886402633, 381.86157423421565, 369.9953225087974, 329.49735329413795, 329.2908871229527, 308.10976371175593, 292.8589061866632, 271.73358448864076, 261.1980979516806, 259.8072726406869, 255.34411474008726, 251.72449024451728, 250.16522714591756, 249.4789145811008, 232.1455565130644, 231.74145890604728, 229.11469359420485, 222.76075816949154, 216.48387608850237, 211.92072467929748, 209.47329942157697, 206.8716738831457, 202.42669212657307, 1106.0255757526927, 1722.7537556006193, 988.6039668319979, 701.1414808902713, 1275.5840445604688, 996.5871964948041, 981.7583550975168, 1116.437484704872, 858.7244830575435, 527.2165993064552, 2459.827403876042, 7393.69859889192, 1314.1635445723507, 8716.69340041625, 1870.804765103471, 1518.922820091404, 1164.0561485342887, 908.6853777316428, 840.9948003420158, 639.050093438683, 548.4638264893778, 548.3386657479548, 541.1824598665543, 498.8678563477038, 491.00354391699767, 484.8404949006093, 466.4871696607767, 429.6298904963197, 413.8308228382398, 387.1370657750233, 386.63779884240046, 379.9191492466015, 373.42299219750925, 364.3216374813481, 363.5750820487066, 352.46151995656163, 331.9200924743121, 326.0913094677461, 322.5526895746868, 317.9742007878387, 310.25406801316933, 305.5622883827708, 300.8686616426554, 300.47430761327814, 284.6010547925383, 456.02863719338313, 918.6660339076018, 798.2693666873414, 808.3322009866467, 4295.203466773497, 1672.3983311288077, 17617.710186728636, 994.3999495159643, 12243.129317519692, 10702.620424894896, 1788.6506963646852, 1383.2644533301404, 1160.8917962523458, 1145.0469945880047, 996.5724104025664, 790.2153547492281, 761.3745364871259, 683.8440674037003, 580.0143498235017, 523.5620635571224, 523.2820408057524, 447.92747563372535, 420.2629705433396, 401.94172167163424, 376.71379522673533, 372.00695652095675, 364.36539717469486, 363.61816653743307, 328.7315120732142, 327.4008636316926, 298.29751712191853, 278.3414376937578, 271.3460749177802, 268.93522848388216, 263.7726162709569, 250.96573579937603, 247.83096710649934, 229.3095574672877, 222.7750262514929, 217.43599055297906, 7393.69859889192, 456.98737433495836, 2159.493289687645, 1046.4970706335855, 633.0225110231341, 8716.69340041625, 463.2078869650588, 2380.8052834047667, 1393.3915380468484, 1972.6653166292538, 1335.8480252023373, 976.8397469758546, 704.9208747666424, 620.5171850763495, 618.9461255299967, 576.728855132168, 497.4317031051613, 477.7823901092604, 464.82397105877436, 462.2682237546659, 390.4508607789822, 371.2783849008056, 364.2794277163355, 332.9552216194094, 312.0292275077883, 303.05208211396337, 299.67058634068536, 298.04295146508514, 290.4180891958465, 289.9263842288431, 281.17226973128413, 278.25301071484785, 261.5890277462407, 255.6898381807294, 253.61305339643525, 237.30841996978853, 232.49510325028115, 225.32455803297051, 222.57122186580125, 2320.5639230488227, 1193.976201708675, 4192.28461315637, 1416.1070439257462, 918.9772998205067, 790.119182714049, 4844.4073842153075, 1846.8637789377885, 1106.2395000244198, 702.5519900571214, 2590.199691685619, 790.8367069662507, 881.8390952436546, 1421.3845792721957, 2417.8688172504953, 1188.2885247671852, 1036.1591058584431, 838.9858425045005, 829.1114880134833, 791.4126066619082, 705.9007922281626, 600.8804253217896, 530.216493234866, 526.7912725816586, 408.8041867282005, 391.32960998262075, 354.2649474725883, 353.21580002280746, 349.196218252643, 334.0122087237365, 330.0565628964497, 327.17436830344633, 309.7447587953312, 307.38322297907104, 298.0887347766345, 296.6419478704217, 285.8661941261404, 280.6679330331833, 277.4002702530983, 246.43708761418995, 238.58867831030005, 237.06566140195426, 225.20554564699023, 221.6429923859416, 1699.350686820501, 451.1620302974957, 417.8186950098131, 1187.607041989761, 289.0086075725627, 463.69368245214645, 2041.1956618686795, 2697.7850355783953, 974.9165644124722, 846.2742250507255, 770.0246703686572, 728.7300727735, 668.3345192700068, 657.556792887701, 555.1947745956755, 517.6607706160543, 517.3568173463935, 515.0186182658213, 511.31557359946885, 476.18900230316103, 462.7838157494853, 446.84073232041294, 442.46038075069896, 423.89286287408936, 401.18783815148004, 397.218779821795, 390.0308652448064, 370.6286411295519, 330.6491333245984, 328.8173831182425, 325.2954256054607, 321.93850023342725, 316.5413661218795, 314.6227669948572, 304.39578954558317, 287.65242985233107, 281.9388710812584, 1755.3257682845979, 723.9131996713562, 730.6918967953416, 1352.0864809218474, 1734.4481144715103, 540.5283942668768, 2285.1536369589558, 867.6425470040302, 821.8381767784302, 801.2519320863324, 627.3202869945028, 459.2797844715397, 455.5895726120748, 371.5320874043026, 353.6369465754532, 348.27711764771726, 331.6371317961038, 316.0091612684593, 292.073356501243, 272.4200105468401, 266.8474952155248, 262.8033317265311, 250.75160846450936, 248.49510622579135, 224.07278021325936, 222.73645211115297, 218.90590140640654, 213.40629772839586, 210.72066870196633, 209.62918268527918, 206.95847536473886, 200.43118459266154, 196.68788018516193, 194.8243968346662, 194.06667783326748, 193.12143296286874, 5842.069580640494, 814.7828893369201, 1289.6017689280984, 2732.4737920697967, 257.43643505077324, 488.94200598258476, 2157.379701424095, 17617.710186728636, 10702.620424894896, 12243.129317519692, 2228.419584053912, 1873.1297587618803, 505.6381667793462, 8716.69340041625, 3396.5392047903706, 2183.8946131962007, 1678.3670384750262, 1235.7436624695483, 1141.2910384600557, 1129.1241023223706, 889.4016075053834, 398.62434084473847, 395.33073849035594, 384.30928841117907, 379.74004063004134, 372.07044534099276, 347.21976798973645, 344.05615155589686, 343.30391684985983, 326.5194323223207, 320.0976275141771, 293.08002674107064, 283.94572905042486, 283.7119509523518, 256.45345579342404, 255.7516758483423, 254.33548946797183, 245.92781118230013, 238.3429275002236, 220.64242198104242, 220.05842808463117, 212.00290684920478, 211.7053511131106, 195.92522237124348, 830.6942769865565, 1335.3315464759985, 694.1263721931052, 667.4608794513582, 783.1213954167898, 672.554843336618, 631.2289509754909, 750.3123282191293, 995.5765297289895, 603.1432283133342, 659.0824877032358, 727.3011893753138, 757.9890760687535, 947.4337996861592, 4032.4201314599713, 2976.4590576212177, 1911.5382131830722, 1741.5671638815998, 1292.7555179226467, 895.7465720418724, 807.1475637709674, 410.7862334786273, 406.4492143782114, 405.0531918895928, 389.85990348220764, 331.74725693752447, 328.1036664619088, 323.3367645024128, 313.7585219951775, 307.6966967847694, 302.74091301233386, 299.33394547205717, 280.37834968419656, 277.93009793136724, 276.29346181302697, 258.93820497889607, 243.50492905143645, 236.58823605234116, 236.3710221473618, 232.12786151346197, 217.54818917410543, 213.86427468015478, 198.3444631905709, 197.68153347087795, 354.1319507654155, 2759.3429753971914, 1803.52414686152, 1055.7022723703722, 522.749711259961, 811.1196573572724, 2041.1956618686795, 1209.3039679602784, 469.3832405606307, 5428.381133396099], \"Term\": [\"\\ud788\\uc624\\uc2a4\", \"\\uc2a4\\ud0a8\", \"\\uc601\\uc6c5\", \"\\uc774\\uac70\", \"\\uc0ac\\ub78c\", \"\\uac8c\\uc784\", \"\\ub178\\ubc14\", \"\\uc9c0\\uc6d0\", \"\\uc2dc\\uac04\", \"\\uc81c\\uc774\\ub098\", \"\\uac00\\ub85c\\uc26c\", \"\\ub51c\\ub7ec\", \"\\uac90\\uc9c0\", \"\\ud2b9\\uc131\", \"\\uc544\\ub098\", \"\\ubaa8\\ub784\", \"\\uc870\\ud569\", \"\\uc2dc\\uacf5\", \"\\uc601\\ub9ac\", \"\\ub808\\uc624\\ub9ad\", \"\\ud790\\ub7ec\", \"\\ubc14\\ub9ac\\uc548\", \"\\uac74\\uac00\", \"\\ud0f1\\ucee4\", \"\\uce5c\\uad6c\", \"\\ub808\\uc774\\ub108\", \"\\ub9ac\\ubc0d\", \"\\uc2a4\\ud0ac\", \"\\ud06c\\ub85c\\ubbf8\", \"\\ub77c\\uc778\", \"\\ubc30\\uce58\", \"\\uc2b9\\ub960\", \"\\ud2f0\\uc5b4\", \"\\ub9c8\\uc2a4\\ud130\", \"\\uc2e4\\ub825\", \"\\ub2e4\\uc774\\uc544\", \"\\ub9b0\\uc774\", \"\\uce90\\ub9ac\", \"\\uc7a5\\uc810\", \"\\ud50c\\ub808\", \"\\uad6c\\uac04\", \"\\uacbd\\ud5d8\", \"\\ucea0\\ud504\", \"\\uacbd\\ud5d8\\uce58\", \"\\ud53c\\uc9c0\\uceec\", \"\\uac71\\uc815\", \"\\uc5ed\\uc804\", \"\\ud2b9\\uc9d5\", \"\\ud611\\ub3d9\", \"\\ubaa8\\uc2a4\\ud2b8\", \"\\ud558\\uce20\", \"\\ud558\\uc704\", \"\\uad11\\uc0b0\", \"\\ubbf8\\uc0e4\", \"\\ucd08\\ubcf4\", \"\\ucc44\\ub110\", \"\\uac1c\\ud310\", \"\\ud558\\ub4dc\", \"\\uc778\\ubd84\", \"\\ud3c9\\uade0\", \"\\ubcf4\\ud1b5\", \"\\uc2dc\\uc2a4\\ud15c\", \"\\uc601\\ub9ac\", \"\\ud50c\\ub808\\uc774\", \"\\ub808\\ubca8\", \"\\ub300\\ubd80\\ubd84\", \"\\uc911\\uc694\", \"\\ub9e4\\uce6d\", \"\\uc6b4\\uc601\", \"\\ucc28\\uc774\", \"\\uc0c1\\ud669\", \"\\uc774\\uc0c1\", \"\\uc2dc\\uc98c\", \"\\uc218\\uc900\", \"\\uac8c\\uc784\", \"\\uc870\\ud569\", \"\\uc0ac\\ub78c\", \"\\ud788\\uc624\\uc2a4\", \"\\uc790\\uccb4\", \"\\uc601\\uc6c5\", \"\\ubb38\\uc81c\", \"\\uc0c1\\ub300\", \"\\uc2dc\\uc791\", \"\\uc720\\uc800\", \"\\ub77c\\uc778\", \"\\ud558\\ub098\", \"\\uc544\\uad70\", \"\\ud3c9\\ud0c0\", \"\\uccb4\\ub825\", \"\\uc99d\\uac00\", \"\\uc0ac\\uac70\\ub9ac\", \"\\uae30\\uc220\", \"\\uacf5\\uaca9\", \"\\ud328\\uc2dc\\ube0c\", \"\\ud2b9\\uc774\", \"\\uc9c0\\uc18d\", \"\\uac10\\uc18c\", \"\\uad81\\uac15\", \"\\ub370\\ubbf8\\uc9c0\", \"\\uc218\\ub958\\ud0c4\", \"\\ud6a8\\uacfc\", \"\\uc0dd\\uc874\", \"\\ud2b8\\ub9ac\", \"\\uc0ac\\uc2ac\", \"\\uac15\\ud654\", \"\\ubc94\\uc704\", \"\\ubcf4\\ud638\\ub9c9\", \"\\uac70\\ub9ac\", \"\\uad11\\uc5ed\", \"\\ubaa8\\ub784\\ub808\\uc2a4\", \"\\uc774\\uc18d\", \"\\uad81\\uadf9\", \"\\ubc29\\uc5b4\\ub825\", \"\\ud2b9\\uc740\", \"\\ubaa8\\uc158\", \"\\ud6a8\\uc728\", \"\\ud6c4\\ubc29\", \"\\ub2a5\\ub825\", \"\\ud2b9\\uc131\", \"\\uc2a4\\ud0ac\", \"\\ubc84\\ud504\", \"\\ud018\\uc2a4\\ud2b8\", \"\\uae30\\ubcf8\", \"\\ub300\\uc2e0\", \"\\uc0ac\\uc6a9\", \"\\uc0c1\\ud5a5\", \"\\uac00\\ub2a5\", \"\\uc720\\uc9c0\", \"\\uc544\\uad70\", \"\\ub808\\uc774\\ub108\", \"\\uc2dc\\uac04\", \"\\uc544\\ub098\", \"\\uc601\\uc6c5\", \"\\ud558\\ub098\", \"\\uc774\\uac70\", \"\\uc0c8\\ub07c\", \"\\uae30\\ubd84\", \"\\ucc44\\ud305\", \"\\uc5ec\\uc790\", \"\\uc624\\ub79c\\ub9cc\", \"\\ub4dc\\ub9bd\", \"\\uc9c4\\uc2ec\", \"\\ud0c8\\uc8fc\", \"\\ud589\\ubcf5\", \"\\uc2e0\\uace0\", \"\\uc9c0\\ub784\", \"\\ucc28\\ub2e8\", \"\\uc778\\uc131\", \"\\ubd84\\uc704\\uae30\", \"\\ub808\\ub527\", \"\\uc9c4\\uc9dc\", \"\\uc704\\ud5d8\", \"\\uac1c\\uc18c\\ub9ac\", \"\\ub9c9\\ud310\", \"\\uc81c\\uc7ac\", \"\\uc131\\uaca9\", \"\\ub9ac\\uc548\", \"\\ucda9\\uc131\", \"\\uba54\\ub9ac\", \"\\uc798\\ubabb\", \"\\ud55c\\ub9c8\\ub514\", \"\\uc804\\ud654\", \"\\uc815\\uc9c0\", \"\\uc0c8\\uae30\", \"\\ub9ac\\ud50c\\ub808\\uc774\", \"\\uc778\\uc815\", \"\\ub204\\uac00\", \"\\ubcd1\\uc2e0\", \"\\uc0ac\\ub78c\", \"\\ud2b8\\ub864\", \"\\uc790\\uae30\", \"\\uc774\\ud574\", \"\\uc815\\uce58\", \"\\uac8c\\uc784\", \"\\uac74\\uc9c0\", \"\\uba58\\ud0c8\", \"\\ud300\\uc6d0\", \"\\uc9dc\\uc99d\", \"\\ud788\\uc624\\uc2a4\", \"\\uc4f0\\ub808\\uae30\", \"\\uc815\\uc0c1\", \"\\uc18c\\ub9ac\", \"\\uc2dc\\uc791\", \"\\uc720\\uc800\", \"\\uc774\\uc0c1\", \"\\ud558\\ub098\", \"\\uc601\\ub9ac\", \"\\uc774\\uc720\", \"\\ub808\\uc624\\ub9ad\", \"\\ub514\\ubc14\", \"\\ucf08\\ud22c\\uc790\\ub4dc\", \"\\uc18c\\ub0d0\", \"\\ub9d0\\ud2f0\\uc5d8\", \"\\uba38\\ud0a4\", \"\\ub370\\ud558\\uce74\", \"\\uac00\\uc988\\ub85c\", \"\\uc815\\ud06c\\ub7ab\", \"\\ud2f0\\ub9ac\\uc5d8\", \"\\uc54c\\ub77c\\ub77c\\ud06c\", \"\\uc790\\uac00\\ub77c\", \"\\ub098\\uc9c0\\ubcf4\", \"\\ud55c\\uc870\", \"\\ucf00\\ub9ac\\uac74\", \"\\uc2a4\\uce74\", \"\\uc544\\uc988\\ubaa8\\ub2e8\", \"\\uc6b0\\ub450\", \"\\ub85c\\ubd07\", \"\\uc5b4\\uadf8\", \"\\ud3ec\\ud0d1\", \"\\uc9c0\\uc625\", \"\\uac70\\ubbf8\", \"\\uc601\\uc804\", \"\\ubcc0\\uc2e0\", \"\\uc5ec\\uc655\", \"\\uc54c\\ub809\\uc2a4\\ud2b8\\ub77c\\uc790\", \"\\ub098\\ubf55\", \"\\uc790\\ud3ed\", \"\\uc544\\ub215\\uc544\\ub77d\", \"\\uc544\\ubc14\\ud22c\\ub974\", \"\\uac00\\uc694\", \"\\ub808\\uc774\\ub108\", \"\\uc815\\ud06c\", \"\\ub77c\\uc778\", \"\\uc131\\ucc44\", \"\\ud328\\uce58\", \"\\uc601\\uc6c5\", \"\\ud558\\ub098\", \"\\uc0c1\\ub300\", \"\\ucd9c\\uc2dc\", \"\\uac1c\\uafc0\", \"\\uae30\\ub300\", \"\\uac1c\\ubc1c\", \"\\ud68c\\ubcf5\", \"\\uc2dc\\uc808\", \"\\uc608\\uc0c1\", \"\\uad70\\uc8fc\", \"\\uc720\\ub2db\", \"\\ube14\\ub9ac\\uc988\\ucee8\", \"\\ub178\\ub8e8\", \"\\ub2f9\\uc7a5\", \"\\ub3c4\\uc6b0\", \"\\uc18c\\ubaa8\", \"\\uc5b4\\ub460\", \"\\ub85c\\ub4dc\", \"\\ubbf8\\ub798\", \"\\uac1c\\ubc1c\\uc790\", \"\\uc2e0\\uc601\\uc6c5\", \"\\uace0\\uc99d\", \"\\ucf54\\ub178\", \"\\ud30c\\uad34\\uc790\", \"\\ubaa8\\uc591\", \"\\uc0ac\\ub839\\uad00\", \"\\ud328\\uc655\", \"\\ubc15\\uc2a4\", \"\\uc8fc\\uc778\\uacf5\", \"\\ucd08\\ucc3d\\uae30\", \"\\ubd84\\uc2dd\\uc9d1\", \"\\ub4dc\\ub808\\ub4dc\", \"\\uc2a4\\ud0c0\", \"\\uc6d0\\uc791\", \"\\uc288\\ud37c\", \"\\uc624\\ubc84\\uc6cc\\uce58\", \"\\ucc38\\uc804\", \"\\ub9c8\\ub098\", \"\\uc601\\uc6c5\", \"\\uce90\\ub9ad\\ud130\", \"\\ucee8\\uc149\", \"\\ub2e4\\uc74c\", \"\\ub3d9\\ub124\", \"\\uc6cc\\ud06c\", \"\\uc9c0\\uae08\", \"\\ub4f1\\uc7a5\", \"\\ud788\\uc624\\uc2a4\", \"\\ub9cc\\uc57d\", \"\\ud328\\uce58\", \"\\ube14\\ub9ac\\uc790\\ub4dc\", \"\\uadf8\\ub54c\", \"\\ud558\\ub098\", \"\\ub290\\ub08c\", \"\\uc778\\ubca4\", \"\\uc9c8\\ubb38\", \"\\ubd80\\ud0c1\", \"\\uac10\\uc0ac\", \"\\ub0b4\\uc6a9\", \"\\uc774\\ubbf8\\uc9c0\", \"\\ud655\\uc778\", \"\\uc544\\ub798\", \"\\uc624\\ube0c\", \"\\uc2a4\\ud1b0\", \"\\uc9c4\\ud589\", \"\\uc815\\ubcf4\", \"\\ub09c\\ub9ac\", \"\\ubaa9\\uc18c\\ub9ac\", \"\\uadfc\\ub300\", \"\\ud074\\ub9ad\", \"\\uc5b8\\uae09\", \"\\ud788\\uc5b4\\ub85c\\uc988\", \"\\uc544\\ud2b8\", \"\\uc548\\ub155\", \"\\uc8fc\\ub9d0\", \"\\uba54\\ub974\\uc2dc\", \"\\uc790\\uc720\", \"\\ud45c\\ud604\", \"\\uac8c\\uc2dc\\ud310\", \"\\uc2dc\\uacc4\", \"\\ubaa8\\ub450\", \"\\uc800\\ud76c\", \"\\uc624\\ud6c4\", \"\\ucee4\\ubba4\\ub2c8\\ud2f0\", \"\\uc774\\ub984\", \"\\ucd94\\ucc9c\", \"\\uad00\\ub828\", \"\\ubc18\\uc751\", \"\\uc774\\uc57c\\uae30\", \"\\ucc38\\uc5ec\", \"\\uacb0\\uacfc\", \"\\ucc38\\uace0\", \"\\ubd80\\ubd84\", \"\\ud574\\ub2f9\", \"\\uac00\\ub2a5\", \"\\uac00\\ub85c\\uc26c\", \"\\ucd08\\uac08\", \"\\ub3c4\\ubc1c\", \"\\uad74\\ub2e8\", \"\\ud2b8\\ub808\\uc774\\uc11c\", \"\\uc0ac\\ubb34\", \"\\ud2b8\\ub808\", \"\\uc2a4\\ub784\", \"\\ub5a1\\ubc25\", \"\\uac70\\uac15\", \"\\ubcfc\\uc2a4\", \"\\uce74\\uc57c\", \"\\uc548\\uc815\", \"\\uc774\\ud399\\ud2b8\", \"\\ub77c\\uadf8\", \"\\ubb34\\ube59\", \"\\uad81\\uc774\", \"\\uadf8\\ub808\\uc774\\uba54\\uc778\", \"\\uc2ac\\ub85c\\uc6b0\", \"\\uc740\\uadfc\", \"\\ud0c0\\uc774\\ucee4\\uc2a4\", \"\\ubc29\\ud328\", \"\\ub2e4\\ud589\", \"\\uc0ac\\ub9dd\", \"\\ub9ac\\uc5d8\", \"\\uc9c8\\ud48d\", \"\\uc0ac\\ub0e5\", \"\\uad00\\ud1b5\", \"\\ub77c\\uadf8\\ub098\\ub85c\\uc2a4\", \"\\uc274\\ub4dc\", \"\\uac90\\uc9c0\", \"\\ubc14\\ub9ac\\uc548\", \"\\uc77c\\ub9ac\\ub2e8\", \"\\ub3cc\\uc9c4\", \"\\uc0ac\\uae30\", \"\\uc0c1\\ub300\", \"\\uce74\\uc6b4\\ud130\", \"\\uc81c\\ub77c\\ud234\", \"\\uc2a4\\ud0ac\", \"\\uce90\\ub9ad\", \"\\ubc29\\uc1a1\", \"\\ub300\\uccb4\", \"\\ub3c4\\ud0c0\", \"\\uad00\\uc2ec\", \"\\uc601\\ud654\", \"\\uc77c\\ubcf8\", \"\\uae30\\uc6d0\", \"\\uc2a4\\ud2b8\\ub9ac\", \"\\uc778\\ud130\\ubdf0\", \"\\uba78\\uc790\", \"\\uc131\\uc7a5\", \"\\uc544\\uce68\", \"\\uc0c1\\ud488\", \"\\uc18c\\uc2dd\", \"\\ud604\\uc9c8\", \"\\uc544\\uc774\\ud15c\", \"\\ub77c\\uc774\\ud2b8\", \"\\uc544\\uc774\\ub514\\uc5b4\", \"\\uc720\\ud29c\\ube0c\", \"\\uacf5\\ubd80\", \"\\ucf54\\ub4dc\", \"\\ubb34\\ub8cc\", \"\\ud568\\uc815\", \"\\uc790\\uc5f0\", \"\\ub9cc\\uace8\", \"\\uc5ed\\uc0ac\", \"\\ubc1c\\ud45c\", \"\\ud55c\\uacc4\", \"\\ud611\\uace1\", \"\\uc18c\\uac1c\", \"\\uc704\\uce58\", \"\\ub204\\uad6c\", \"\\uc0ac\\ub791\", \"\\uc7ac\\ubbf8\", \"\\ud788\\uc624\\uc2a4\", \"\\ud3c9\\uac00\", \"\\ub9e4\\ub825\", \"\\ubb54\\uc9c0\", \"\\uc720\\uc800\", \"\\uac8c\\uc784\", \"\\uac1c\\uc778\", \"\\ub9c8\\uc74c\", \"\\uc131\\uacf5\", \"\\ub300\\ud68c\", \"\\ub290\\ub08c\", \"\\uc601\\uc0c1\", \"\\ube44\\uad50\", \"\\ud558\\ub098\", \"\\uc9c0\\uc6d0\", \"\\uc804\\ubb38\\uac00\", \"\\uba54\\ud0c0\", \"\\uc30d\\uac80\", \"\\uc554\\uc0b4\\uc790\", \"\\uc804\\uc0ac\", \"\\uc5ed\\ud560\", \"\\ubb34\\uc5c7\", \"\\uc11c\\ube0c\", \"\\ud0dc\\uc0ac\", \"\\ud0dc\\uc0ac\\ub2e4\\ub974\", \"\\uc2e4\\ubc14\", \"\\uc6d0\\uac00\", \"\\ucd08\\uc0c1\\ud654\", \"\\ubc14\\uc774\\ud0b9\", \"\\uc9c1\\uc5c5\", \"\\uc5ec\\uace0\\uc0dd\", \"\\uc804\\ubb38\", \"\\ub178\\ub798\", \"\\ubd84\\ub958\", \"\\ub9e4\\uce58\", \"\\uc6b0\\ub9b0\", \"\\uc544\\ubc84\\uc9c0\", \"\\uae43\\ubc1c\", \"\\ube0c\\ub8e8\", \"\\uba54\\uc774\", \"\\ud55c\\ucabd\", \"\\ucca0\\uad8c\", \"\\ud2b9\\uac00\", \"\\uc778\\ub370\", \"\\ud790\\ub7ec\", \"\\ud0f1\\ucee4\", \"\\ub51c\\ub7ec\", \"\\uce74\\ub77c\\uc9d0\", \"\\ud3ec\\uc9c0\\uc158\", \"\\uba54\\uc774\\uc9c0\", \"\\uc870\\ud569\", \"\\ubc14\\ub9ac\\uc548\", \"\\ud2f0\\ub780\\ub370\", \"\\ubd80\\uc871\", \"\\uadfc\\uc811\", \"\\ud558\\ub098\", \"\\uc0c1\\ub300\", \"\\ub098\\ub178\", \"\\ube44\\ub9ac\", \"\\ud638\\ub4dc\", \"\\ube0c\\ub77d\", \"\\ub0a8\\uc790\", \"\\uc2dc\\uc2a4\", \"\\uc8fc\\uc81c\", \"\\uc804\\uc7c1\", \"\\ub808\\uc774\\ube10\", \"\\uae30\\uc0ac\", \"\\uce58\\ud0a8\", \"\\uad70\\ub2e8\", \"\\ud56d\\ub9cc\", \"\\ub9ac\\uc628\", \"\\ub85c\\uc2a4\", \"\\ubb34\\uae30\", \"\\ud130\\uc9d0\", \"\\uba54\\uc778\", \"\\ud0c0\\ub77d\", \"\\uc774\\ub810\", \"\\uacc4\\uc0b0\", \"\\uc6b0\\uc2a4\", \"\\uc5ec\\uc131\", \"\\uc5bc\\ub77c\", \"\\uc548\\ub450\", \"\\ud575\\ud0c4\\ub450\", \"\\ud559\\uad50\", \"\\ubbf8\\uc548\", \"\\ud53c\\uc2dc\\ubc29\", \"\\ub450\\uc778\", \"\\ub098\\uc911\", \"\\uc8fd\\uc74c\", \"\\uc778\\uac04\", \"\\uc800\\uadf8\", \"\\uacbd\\uae30\", \"\\ud558\\ub8e8\", \"\\ucd5c\\uace0\", \"\\uc5f0\\ud328\", \"\\ub09c\\ud22c\", \"\\uc2e4\\ubc84\", \"\\uc5f0\\uc2b9\", \"\\ud15c\\ud398\", \"\\uc900\\ube44\", \"\\ubcf5\\uadc0\", \"\\uc5ed\\ub300\", \"\\uc0c9\\uae54\", \"\\uc778\\uc0dd\", \"\\uc5e0\\ube14\\ub799\", \"\\ubc8c\\ub808\", \"\\uae30\\ub465\", \"\\uc885\\ub8cc\", \"\\uce6d\\ucc2c\", \"\\ub0b4\\uc77c\", \"\\ub2f7\\uc9c0\", \"\\ub2e4\\uc12f\", \"\\ube68\\ub300\", \"\\uc774\\ud2c0\", \"\\ub85c\\ub529\", \"\\uc6b4\\uba85\", \"\\uc0ac\\uc778\", \"\\uc810\\uc2ec\", \"\\uc120\\uc0dd\", \"\\uc218\\uc7a5\", \"\\ubaa8\\ub2e8\", \"\\ub2f9\\uc2e0\", \"\\uc2dc\\uac04\", \"\\uc2b9\\ub9ac\", \"\\ub3d9\\uc548\", \"\\uc815\\uc2e0\", \"\\ub9c8\\uc9c0\\ub9c9\", \"\\uccb4\\ud5d8\", \"\\uc2dc\\uc791\", \"\\uc2dc\\uc98c\", \"\\uc811\\uc18d\", \"\\ub300\\uae30\", \"\\uace8\\ub4dc\", \"\\ud788\\uc624\\uc2a4\", \"\\ub9ac\\uadf8\", \"\\uac8c\\uc784\", \"\\ub2e4\\uc74c\", \"\\uc640\\uc6b0\", \"\\ub809\\uc0ac\\ub974\", \"\\uc6a9\\uac80\", \"\\uc11c\\ub9ac\", \"\\uc5bc\\uad74\", \"\\ubaa8\\ub378\\ub9c1\", \"\\uc2dc\\ub300\", \"\\ud1a0\\uc2a4\", \"\\uace0\\uc778\", \"\\ub4dc\\uc6cc\\ud504\", \"\\uc2e4\\ub9dd\", \"\\ubaa8\\ub378\", \"\\uc800\\uae30\", \"\\uc815\\uc758\", \"\\ub9ac\\uc5bc\", \"\\uc544\\uc774\", \"\\uc778\\uc7a5\", \"\\uc544\\uc6b0\", \"\\ub3fc\\uc9c0\", \"\\uac11\\uc637\", \"\\uc2dc\\ub9ac\\uc988\", \"\\ucd9c\\uc2e0\", \"\\ud560\\uc778\", \"\\uc6b0\\uc8fc\", \"\\ub2e4\\ub9ac\", \"\\ub3d9\\ubb3c\", \"\\ubaa8\\uc5b4\", \"\\ud004\\ub9ac\\ud2f0\", \"\\ub0c4\\uc0c8\", \"\\uc2dc\\ub124\\ub9c8\", \"\\ub9ac\\uce58\", \"\\uc544\\uc11c\\uc2a4\", \"\\uc694\\uc0c8\", \"\\ub9c8\\ub9ac\", \"\\ub514\\uc544\", \"\\uba38\\ub9ac\", \"\\ub204\\ub354\\uae30\", \"\\ubaa8\\uc2b5\", \"\\ub514\\uc544\\ube14\\ub85c\", \"\\uc545\\ub9c8\", \"\\ud504\\ub85c\", \"\\uc2a4\\ud0a8\", \"\\uc778\\uac04\", \"\\ud558\\ub098\", \"\\uc2a4\\ud0c0\", \"\\ud55c\\uad6d\", \"\\ud558\\uc2a4\", \"\\ub098\\ub77c\", \"\\uc11c\\ubc84\", \"\\uc138\\uc0c1\", \"\\ubd81\\ubbf8\", \"\\uc911\\uad6d\", \"\\uc2a4\\ud1a4\", \"\\uc778\\ud130\\ub137\", \"\\uc778\\ubb3c\", \"\\ud0c0\\uaca9\", \"\\ubc30\\uacbd\", \"\\uc601\\uc5b4\", \"\\uc720\\ub7fd\", \"\\ub9c8\\ubb34\\ub9ac\", \"\\ub300\\ub9cc\", \"\\uc544\\uc774\\ub514\", \"\\uc800\\ub141\", \"\\uad11\\uace0\", \"\\uc0c1\\uad00\", \"\\ub204\\uad70\\uac00\", \"\\ud574\\uc124\", \"\\uc678\\uad6d\", \"\\uc0ac\\uc774\\ud2b8\", \"\\uc120\\ud638\", \"\\ube44\\ubc00\", \"\\ub9ac\\uc14b\", \"\\ub300\\ucda9\", \"\\ubbf8\\uad6d\", \"\\uc0dd\\ud65c\", \"\\uc0c1\\uc0c1\", \"\\ud604\\uc2e4\", \"\\ud574\\uacb0\", \"\\uc124\\uc815\", \"\\ubb38\\uc81c\", \"\\ubc29\\ubc95\", \"\\ud788\\uc624\\uc2a4\", \"\\uc2e0\\uacbd\", \"\\uac8c\\uc784\", \"\\uc0ac\\ub78c\", \"\\uc0c1\\uc790\", \"\\uc804\\uc124\", \"\\ud0c8\\uac83\", \"\\ud30c\\ud3b8\", \"\\ubcf4\\uc0c1\", \"\\uc5bc\\ub9c8\", \"\\uacf5\\uac1c\", \"\\uacf5\\uc11d\", \"\\uad6c\\ub9e4\", \"\\uac00\\uaca9\", \"\\uc0c8\\ubcbd\", \"\\uc7a5\\ub09c\", \"\\ub300\\uc791\", \"\\uacfc\\uae08\", \"\\uc2a4\\ud504\\ub808\\uc774\", \"\\ub098\\uc774\", \"\\uc911\\ubcf5\", \"\\ubc14\\ub2e5\", \"\\ubb54\\uac00\\uc694\", \"\\uc2a4\\ud300\", \"\\uc804\\ub9ac\\ud488\", \"\\ud30c\\uc6cc\", \"\\ubbf8\\uc2a4\", \"\\uc81c\\ubaa9\", \"\\uc751\\uc6d0\", \"\\ub2ec\\uc131\", \"\\uc810\\uac80\", \"\\uc870\\uc885\", \"\\ud2b9\\uae09\", \"\\ub2c9\\ub124\\uc784\", \"\\uc2a4\\ud0a8\", \"\\uac00\\uce58\", \"\\ucd94\\uac00\", \"\\uc774\\uac83\", \"\\ud655\\ub960\", \"\\ud558\\ub098\", \"\\ub9cc\\uc871\", \"\\ud150\\ub370\", \"\\uae30\\uc900\", \"\\uc6b0\\uc11c\", \"\\ub808\\uac00\\ub974\", \"\\uc2dc\\ubc1c\", \"\\ub9c8\\uc774\\uc5d0\\ube0c\", \"\\ub180\\uc774\", \"\\uc54c\\ub809\", \"\\ubb18\\uc2e4\", \"\\ud310\\uc815\", \"\\uc120\\uce58\", \"\\ud558\\ub298\", \"\\ube5b\\ub098\\ub798\", \"\\ud3f4\\uc2a4\", \"\\uc5f0\\ubc1c\", \"\\ud53c\\ub2c9\\uc2a4\", \"\\uc800\\uc8fc\", \"\\uc190\\uac00\\ub77d\", \"\\ube61\\ube61\\uc774\", \"\\uc0ac\\uc6d0\", \"\\ub77c\\uba74\", \"\\uacf5\\ud5c8\", \"\\ucee4\\uc2f1\", \"\\uac78\\uae4c\\uc694\", \"\\uc2e4\\ub4dc\", \"\\ube44\\uc911\", \"\\ub300\\uac00\\ub9ac\", \"\\ucc9c\\ubcf4\", \"\\uc74c\\uc2dd\", \"\\uace0\\ube14\\ub9b0\", \"\\uc9c0\\ubc30\", \"\\uaca8\\uc6b8\", \"\\ud2f0\\ub780\\ub370\", \"\\uc2a4\\ud22c\\ucf54\\ud504\", \"\\uc544\\ub098\", \"\\uba54\\ub514\\ube0c\", \"\\uc544\\ubc14\", \"\\uc544\\uc6b0\\ub9ac\\uc5d8\", \"\\uc870\\ud569\", \"\\uc694\\uc998\", \"\\uc815\\ud654\", \"\\uc138\\uc774\\ube0c\", \"\\uc77c\\ub9ac\\ub2e8\", \"\\uce98\\ud0c0\\uc2a4\", \"\\ud0c0\\uc774\\ubc0d\", \"\\uce74\\ub77c\\uc9d0\", \"\\uac74\\uac00\", \"\\uc120\\uc218\", \"\\uc774\\ubca4\\ud2b8\", \"\\ubcf4\\uc774\\uc2a4\", \"\\uce74\\ub4dc\", \"\\uc544\\uc7ac\", \"\\ud560\\ub85c\\uc708\", \"\\uc138\\uacc4\", \"\\uae30\\uac04\", \"\\uac78\\uae4c\", \"\\uc791\\ub144\", \"\\ud30c\\uc774\\uc5b4\", \"\\ubb34\\uc0ac\", \"\\uc790\\ub791\", \"\\uc5c5\\ub370\\uc774\\ud2b8\", \"\\ud0c0\\uc784\", \"\\uc7a5\\uba74\", \"\\ub0b4\\ub144\", \"\\uc2dc\\uccad\", \"\\ubc1c\\uacac\", \"\\uad6c\\uacbd\", \"\\ucd9c\\ucc98\", \"\\ucd94\\uc11d\", \"\\ub2f9\\ucca8\", \"\\ubc88\\ub4e4\", \"\\uc13c\\uc2a4\", \"\\ubc29\\uad6c\\uc11d\", \"\\uc5ec\\ub984\", \"\\uad6d\\ub0b4\", \"\\ucc28\\uc9c0\", \"\\uc601\\uc0c1\", \"\\uc608\\uc815\", \"\\ub2f9\\uc2dc\", \"\\uc774\\uac78\", \"\\ucd5c\\uc885\", \"\\ub4ef\\uc774\", \"\\ub300\\ud68c\", \"\\uc2dc\\uacf5\", \"\\uadf8\\ub9bc\", \"\\uacf5\\ud3ec\", \"\\uc138\\uacc4\\uad00\", \"\\ud3ed\\ud48d\", \"\\uc644\\uc131\", \"\\uad70\\ub300\", \"\\ucda9\\uaca9\", \"\\uc544\\ub098\\uc6b4\\uc11c\", \"\\ud30c\\uad34\", \"\\ubc84\\uc804\", \"\\uc0ac\\uc9c4\", \"\\ub9cc\\ud654\", \"\\ubd84\\ub178\", \"\\uac00\\uc2dc\\uc131\", \"\\uc815\\uc6d0\", \"\\uc804\\uc6a9\", \"\\uad6c\\ud604\", \"\\uc720\\ucd9c\", \"\\ud574\\uace8\", \"\\uc131\\uc6b0\", \"\\uc54c\\ud30c\", \"\\ub9c8\\uc774\\ud2f0\", \"\\ub9dd\\uce58\", \"\\ub17c\\ub780\", \"\\uc74c\\uc131\", \"\\uc6a9\\uae30\\uc0ac\", \"\\uc5bc\\ub77c\\uc774\\uc5b8\\uc2a4\", \"\\uc2a4\\ud0c0\\ud06c\\ub798\\ud504\\ud2b8\", \"\\ub7ec\\uc2a4\", \"\\ubc84\\uadf8\", \"\\uc218\\uc815\", \"\\ub300\\uc0ac\", \"\\uae30\\uc5b5\", \"\\uac78\\ub85c\", \"\\uc624\\ud508\", \"\\uce5c\\uad6c\", \"\\ud654\\uc81c\", \"\\uc2a4\\ud1a0\\ub9ac\", \"\\ud654\\uba74\", \"\\ud6c4\\uae30\", \"\\ud2b8\\ub8e8\", \"\\uc62c\\ud574\", \"\\ud14c\\uc0ac\", \"\\ubaa9\\ub85d\", \"\\uac1c\\ub625\", \"\\ucda9\\uc774\", \"\\ub9cc\\ub0a8\", \"\\uc624\\ub958\", \"\\ud604\\uc0c1\", \"\\ub2e4\\uc57c\", \"\\ucef4\\ud4e8\\ud130\", \"\\ub2f9\\ud669\", \"\\ub2e4\\ub974\", \"\\uac00\\uc785\", \"\\uac00\\ub8e8\", \"\\uac04\\uc9c0\", \"\\uc790\\uc2dd\", \"\\ud1f4\\uadfc\", \"\\ud6c8\\ub828\", \"\\uc0ac\\uc591\", \"\\ubd80\\uc2ec\", \"\\uac00\\uc871\", \"\\uba54\\ub274\", \"\\uc6cc\\uce58\", \"\\uc2a4\\ud2f0\", \"\\uc774\\uac70\", \"\\ub313\\uae00\", \"\\uc598\\uae30\", \"\\uc18c\\ub9ac\", \"\\uc2dc\\uae30\", \"\\uc5d4\\uc9c4\", \"\\uadf8\\uac70\", \"\\ud788\\uc624\\uc2a4\", \"\\uc0ac\\ub78c\", \"\\uac8c\\uc784\", \"\\ucc98\\uc74c\", \"\\ucd94\\ucc9c\", \"\\uc2e4\\uc218\", \"\\ud558\\ub098\", \"\\uc81c\\uc774\\ub098\", \"\\ub9ac\\ubc0d\", \"\\uc694\\ud55c\\ub098\", \"\\ubb34\\ub77c\\ub518\", \"\\ubc1c\\ub77c\", \"\\uc904\\uc9c4\", \"\\ud574\\uba38\", \"\\uc790\\uadf9\\uc81c\", \"\\uc2a4\\ud22c\", \"\\ud0c8\\ucd9c\", \"\\ud0c0\\uc2a4\", \"\\uc6b0\\uc2b9\", \"\\uc138\\ud2b8\", \"\\ub124\\uc784\", \"\\uc778\\uacf5\", \"\\uc800\\uc9c0\", \"\\ubc84\\uc2a4\", \"\\uc2dc\\uc988\", \"\\uc5f0\\uaca9\", \"\\ud761\\ud608\", \"\\uc704\\uc0c1\", \"\\uc81c\\uac70\", \"\\uc2ec\\ud310\", \"\\ub208\\ubb3c\", \"\\uc9c0\\uc815\", \"\\ud68c\\ub85c\", \"\\uc8fd\\ucc3d\", \"\\ud37c\\uc13c\\ud2b8\", \"\\uc5c9\\ub369\\uc774\", \"\\ub2e8\\ub450\\ub300\", \"\\uace0\\ubbfc\", \"\\ub8e8\\uc2dc\\uc6b0\", \"\\ubd88\\uac00\", \"\\ubaa8\\ub4dc\", \"\\uce74\\uc2dc\\uc544\", \"\\uc544\\ub974\\ud0c0\\ub2c8\\uc2a4\", \"\\uc778\\uae30\", \"\\uacf5\\uc18d\", \"\\uc790\\ub9ac\\uc57c\", \"\\ud22c\\uc790\", \"\\uc2dc\\uc57c\", \"\\uc804\\ud22c\", \"\\uc911\\uac04\", \"\\uc5f0\\uc2b5\", \"\\ub178\\ubc14\", \"\\ubaa8\\ub784\", \"\\ub9ac\\ub9ac\", \"\\ubc1c\\ub9ac\\ub77c\", \"\\uc740\\uc2e0\", \"\\uae30\\ub825\", \"\\ub8e8\\ub098\\ub77c\", \"\\uc2e4\\ud654\", \"\\uace0\\uae30\", \"\\uc554\\uc0b4\", \"\\uc5bc\\uc74c\", \"\\ubd88\\ubd84\", \"\\uc7a5\\uc778\", \"\\ucde8\\ud5a5\", \"\\ube14\\ub799\", \"\\uac90\\ud2b8\", \"\\uc804\\ubd80\", \"\\ub3c4\\ub07c\", \"\\uac00\\uc2dc\", \"\\uc18c\\ub984\", \"\\uc801\\uc751\", \"\\uc7a5\\ud310\", \"\\ub300\\ubc15\", \"\\uc815\\uc11d\", \"\\uc218\\ub8e1\", \"\\ud14c\\ub77c\", \"\\uc874\\uc7ac\\uac10\", \"\\ub3c4\\ud2b8\", \"\\uc154\\ud2c0\", \"\\ucc10\\ub530\", \"\\ub140\\uc11d\", \"\\ud06c\\ub85c\\ubbf8\", \"\\uc81c\\ub77c\\ud234\", \"\\uc61b\\ub0a0\", \"\\uc644\\uc804\", \"\\uc774\\uc820\", \"\\ub300\\ud68c\", \"\\ub3c4\\uc0b4\\uc790\", \"\\uacf5\\uac10\", \"\\uc774\\uc0c1\"], \"logprob\": [30.0, 29.0, 28.0, 27.0, 26.0, 25.0, 24.0, 23.0, 22.0, 21.0, 20.0, 19.0, 18.0, 17.0, 16.0, 15.0, 14.0, 13.0, 12.0, 11.0, 10.0, 9.0, 8.0, 7.0, 6.0, 5.0, 4.0, 3.0, 2.0, 1.0, -4.2276, -4.3887, -4.465, -4.6636, -4.8976, -5.0484, -5.0566, -5.1648, -5.2749, -5.5268, -5.5331, -5.6373, -5.6499, -5.6509, -5.749, -5.7632, -5.7663, -5.768, -5.7912, -5.8492, -5.8834, -5.9396, -5.9451, -5.9562, -6.0259, -6.099, -6.1237, -6.1529, -6.1765, -6.1817, -5.1798, -4.7924, -3.6687, -4.6702, -4.7142, -5.2311, -5.1925, -4.5945, -4.8573, -5.0511, -4.6447, -4.3047, -4.7606, -4.815, -3.876, -4.5267, -4.1104, -3.9585, -4.978, -4.2694, -4.7663, -4.7114, -4.939, -4.9812, -4.9693, -4.8485, -4.9544, -4.1286, -4.4096, -4.4712, -4.5056, -4.7652, -4.8457, -4.8476, -4.8484, -4.8951, -4.9508, -4.9718, -4.9915, -5.0173, -5.1035, -5.1202, -5.2148, -5.2442, -5.2602, -5.2649, -5.2864, -5.3708, -5.4117, -5.4371, -5.4872, -5.5162, -5.6106, -5.611, -5.6194, -5.6321, -5.6643, -4.8232, -3.5138, -3.7672, -4.6856, -5.0233, -4.4203, -4.7691, -4.957, -4.8947, -4.4037, -5.0322, -4.6607, -4.843, -4.823, -4.9083, -4.7718, -4.9741, -5.027, -3.8108, -4.0087, -4.3315, -4.3787, -4.4747, -4.8559, -4.8802, -4.9464, -5.0881, -5.0896, -5.1255, -5.1438, -5.2908, -5.295, -5.4475, -5.4565, -5.5205, -5.528, -5.5411, -5.5852, -5.613, -5.6745, -5.7023, -5.7056, -5.7057, -5.7705, -5.8359, -5.8367, -5.8409, -5.8683, -5.042, -4.1745, -4.213, -2.8594, -4.3202, -4.0492, -4.3207, -4.5933, -3.1257, -4.4996, -5.1799, -4.5852, -4.8419, -3.5705, -4.858, -5.1401, -4.8592, -4.861, -4.9084, -4.8376, -4.7759, -4.9742, -5.0082, -3.3651, -3.6391, -3.7967, -3.8379, -3.8635, -4.1029, -4.1314, -4.2189, -4.2765, -4.307, -4.3523, -4.3976, -4.447, -4.4675, -4.5518, -4.6415, -4.8816, -4.9079, -4.9529, -4.9636, -4.9761, -5.0316, -5.1284, -5.187, -5.2764, -5.3136, -5.4516, -5.4723, -5.4811, -5.5099, -4.4072, -4.4985, -3.6751, -4.8376, -3.8, -4.8907, -4.2226, -4.0265, -4.6947, -4.8199, -3.5719, -3.9743, -4.0001, -4.2712, -4.3127, -4.3519, -4.5179, -5.037, -5.0506, -5.1844, -5.1977, -5.2282, -5.2893, -5.3214, -5.3349, -5.4098, -5.4321, -5.4362, -5.4479, -5.4656, -5.5187, -5.5281, -5.5482, -5.5862, -5.6323, -5.65, -5.672, -5.6861, -5.7018, -5.731, -3.9209, -4.507, -5.0657, -3.9404, -5.4285, -4.4555, -2.706, -4.2182, -4.3929, -3.9427, -5.0182, -4.1626, -4.4392, -5.216, -3.4912, -5.1828, -4.8094, -4.9567, -5.0872, -5.0344, -5.195, -3.486, -4.0418, -4.2021, -4.4241, -4.4404, -4.4948, -4.5147, -4.5313, -4.5588, -4.5974, -4.7013, -4.7519, -4.8486, -4.9501, -4.9577, -4.9682, -5.0121, -5.1003, -5.1114, -5.1919, -5.2094, -5.2325, -5.2367, -5.2395, -5.2798, -5.2965, -5.3015, -5.365, -5.3704, -5.3771, -4.009, -3.856, -4.4876, -4.8955, -4.5889, -4.9875, -4.7889, -5.0474, -5.026, -5.2024, -5.2021, -2.945, -4.0507, -4.0927, -4.1722, -4.2116, -4.2941, -4.3274, -4.3303, -4.3761, -4.4603, -4.6291, -4.6478, -4.7038, -4.7267, -4.7359, -4.7845, -4.8303, -4.9207, -4.9878, -5.0223, -5.0578, -5.0653, -5.1076, -5.1234, -5.3066, -5.3502, -4.7605, -5.4074, -5.4249, -5.4422, -3.0449, -3.3705, -3.6517, -4.9491, -4.5101, -4.0677, -4.8037, -4.7072, -4.6819, -4.9491, -3.5257, -4.4344, -4.6073, -4.6555, -4.6738, -4.7993, -4.8154, -4.8905, -4.9312, -4.9655, -4.9792, -4.9983, -5.0185, -5.0827, -5.1034, -5.1111, -5.1903, -5.2575, -5.2576, -5.3186, -5.3646, -5.3758, -5.4317, -5.476, -5.4825, -5.5072, -5.5255, -5.5291, -5.5397, -5.5531, -3.8748, -3.9824, -4.9152, -4.0762, -2.547, -4.6148, -5.1593, -5.0136, -4.1475, -3.8349, -4.6093, -4.8812, -5.0476, -4.8888, -4.8425, -4.9684, -5.0277, -5.0485, -2.6589, -3.5126, -3.5506, -3.6427, -3.6551, -3.7193, -4.138, -4.2142, -4.2195, -4.3071, -4.617, -4.6457, -4.8101, -4.8416, -4.8779, -4.911, -5.0868, -5.1514, -5.1707, -5.2456, -5.2966, -5.3125, -5.4451, -5.52, -5.5512, -5.566, -5.5939, -5.6737, -5.6792, -5.6826, -3.1266, -3.2255, -2.9353, -4.021, -4.1114, -4.4403, -3.9957, -4.2345, -4.5619, -4.9072, -5.025, -4.5732, -4.9519, -3.3606, -4.1141, -4.2329, -4.2377, -4.2542, -4.4667, -4.4838, -4.4867, -4.6256, -4.6279, -4.6466, -4.6547, -4.7221, -4.8037, -4.8103, -4.8135, -4.831, -4.9229, -4.9753, -4.9887, -4.9997, -5.0026, -5.0288, -5.0371, -5.0413, -5.05, -5.0879, -5.099, -5.1005, -5.1444, -4.3018, -4.2954, -4.5657, -4.9564, -3.3022, -3.5092, -3.7053, -4.0353, -4.1062, -4.1943, -4.235, -4.3264, -4.4398, -4.598, -4.7911, -4.7974, -4.8035, -4.8517, -4.9398, -4.9527, -4.9574, -5.0003, -5.1483, -5.3732, -5.3885, -5.3958, -5.4369, -5.4412, -5.4598, -5.4621, -5.4799, -5.5199, -5.5215, -5.5286, -4.0853, -2.9347, -4.3471, -3.7779, -4.2658, -4.2853, -5.0736, -3.6831, -3.9483, -4.9914, -4.926, -4.5551, -3.8764, -4.8032, -4.4671, -4.8226, -3.5067, -3.5483, -4.2054, -4.3556, -4.3779, -4.8105, -4.8519, -4.9587, -4.9621, -4.9938, -5.11, -5.1106, -5.1773, -5.2283, -5.3034, -5.3431, -5.3485, -5.3659, -5.3802, -5.3864, -5.3892, -5.4615, -5.4632, -5.4747, -5.5029, -5.5317, -5.5531, -5.5647, -5.5773, -5.5991, -4.0834, -3.7363, -4.2297, -4.5445, -4.059, -4.28, -4.4201, -4.3501, -4.555, -4.9395, -4.0187, -3.5344, -5.0851, -5.0131, -5.2696, -3.573, -3.8393, -4.0872, -4.1647, -4.4397, -4.5928, -4.5931, -4.6062, -4.6878, -4.7037, -4.7164, -4.755, -4.8375, -4.8751, -4.9419, -4.9432, -4.9608, -4.9781, -5.0028, -5.0049, -5.036, -5.0962, -5.114, -5.1249, -5.1393, -5.1639, -5.1792, -5.1948, -5.1961, -5.2505, -4.842, -4.2546, -4.4139, -4.6776, -3.9093, -4.3612, -3.7426, -4.7555, -4.2924, -4.487, -3.3711, -3.6282, -3.8036, -3.8174, -3.9564, -4.1887, -4.2259, -4.3334, -4.4984, -4.601, -4.6015, -4.7573, -4.8212, -4.8659, -4.9309, -4.9435, -4.9643, -4.9664, -5.0675, -5.0716, -5.165, -5.2345, -5.26, -5.269, -5.2884, -5.3384, -5.351, -5.429, -5.458, -5.4824, -2.1933, -5.0222, -4.1719, -4.6657, -4.9138, -4.0614, -5.0919, -4.5778, -5.0436, -3.2346, -3.6247, -3.9379, -4.2646, -4.3923, -4.3948, -4.4656, -4.6138, -4.6542, -4.6817, -4.6872, -4.8565, -4.907, -4.926, -5.0162, -5.0813, -5.1106, -5.1219, -5.1273, -5.1533, -5.155, -5.1858, -5.1963, -5.2583, -5.2812, -5.2893, -5.3561, -5.3766, -5.4081, -5.4205, -3.3864, -3.9983, -3.0581, -3.972, -4.4229, -4.533, -3.5338, -4.1078, -4.6236, -4.8188, -4.5634, -4.95, -5.0013, -4.9754, -3.0163, -3.7271, -3.8642, -4.0755, -4.0874, -4.134, -4.2485, -4.4098, -4.5351, -4.5416, -4.7957, -4.8395, -4.9393, -4.9423, -4.9537, -4.9983, -5.0103, -5.0191, -5.074, -5.0817, -5.1125, -5.1174, -5.1545, -5.1729, -5.1847, -5.3035, -5.336, -5.3424, -5.3939, -5.41, -3.6569, -4.8677, -5.069, -4.6956, -5.2918, -5.2614, -5.2333, -2.9058, -3.9242, -4.0659, -4.1604, -4.2156, -4.3023, -4.3186, -4.4881, -4.5582, -4.5588, -4.5633, -4.5705, -4.6419, -4.6705, -4.7056, -4.7155, -4.7584, -4.8136, -4.8236, -4.8419, -4.8931, -5.0075, -5.0131, -5.0239, -5.0343, -5.0513, -5.0574, -5.0905, -5.1473, -5.1674, -3.5644, -4.4422, -4.5694, -4.3897, -4.6034, -4.9672, -3.0678, -4.037, -4.0913, -4.1167, -4.3617, -4.6741, -4.6822, -4.8866, -4.9361, -4.9515, -5.0006, -5.049, -5.128, -5.1979, -5.2186, -5.234, -5.2811, -5.2902, -5.3941, -5.4001, -5.4175, -5.4431, -5.4558, -5.461, -5.4739, -5.5061, -5.525, -5.5346, -5.5385, -5.5434, -2.3478, -4.4568, -4.1876, -3.7667, -5.3545, -5.0193, -4.3028, -3.8838, -4.3445, -4.4182, -5.0154, -5.1469, -5.3091, -5.1776, -2.6417, -3.0835, -3.3469, -3.6533, -3.7329, -3.7436, -3.9825, -4.7864, -4.7947, -4.823, -4.835, -4.8555, -4.9248, -4.934, -4.9362, -4.9865, -5.0064, -5.0949, -5.1266, -5.1275, -5.2288, -5.2316, -5.2372, -5.2709, -5.3024, -5.3799, -5.3825, -5.42, -5.4214, -5.4993, -4.1972, -3.9174, -4.5221, -4.5777, -4.473, -4.6097, -4.6722, -4.6377, -4.4833, -4.7817, -4.7761, -4.77, -4.7868, -4.7693, -2.4588, -2.7625, -3.2056, -3.2987, -3.5969, -3.9642, -4.0684, -4.7451, -4.7557, -4.7591, -4.7975, -4.9593, -4.9704, -4.9851, -5.0153, -5.0348, -5.0511, -5.0625, -5.1281, -5.1369, -5.1429, -5.208, -5.2697, -5.2986, -5.2995, -5.3177, -5.3829, -5.4, -5.4757, -5.4791, -4.935, -3.3295, -3.787, -4.3749, -4.8814, -4.6992, -4.358, -4.6673, -5.0441, -4.9815]}, \"R\": 30, \"plot.opts\": {\"ylab\": \"PC2\", \"xlab\": \"PC1\"}, \"lambda.step\": 0.01, \"mdsDat\": {\"topics\": [1, 2, 3, 4, 5, 6, 7, 8, 9, 10, 11, 12, 13, 14, 15, 16, 17, 18, 19, 20], \"Freq\": [14.127467399442942, 11.73361968225149, 7.017774297604454, 6.02310876507059, 5.375691936161136, 5.027694607075548, 4.888504789575241, 4.094919170959555, 4.016472427743769, 3.6714295402262747, 3.648389115051312, 3.6481400248205356, 3.624853167347073, 3.48816225822896, 3.3564939778032272, 3.30750055667463, 3.304328905086334, 3.2912398637606546, 3.194905866375181, 3.1593036487410915], \"y\": [0.05882992566358588, 0.22528576966518613, -0.1034246903527677, 0.23592555107152288, 0.061750354809700245, -0.036526017916224146, 0.18098831453291936, -0.16015303893826172, 0.14062864125893526, -0.05875728990958105, -0.13687312576234784, -0.03700074139794622, -0.14647332909347377, 0.002403610221422415, 0.12127882167930473, -0.09768573556504817, -0.08272529736164244, -0.1543408767104229, -0.04445061943482876, 0.031319773539968496], \"x\": [-0.2824194227550288, -0.15834476688824578, -0.23071865459635202, -0.01301104489381153, -0.11145210078598353, -0.0032115685401429904, 0.06298204814593686, -0.109154263491525, 0.047321420910934615, 0.1524722322435016, -0.07983373828686838, 0.1300634505771088, -0.08559219990462823, 0.04770056393341029, 0.12385141100477047, 0.14541705556122642, 0.14552825527484445, -0.04997019534622199, 0.1580669249979041, 0.11030459283917027], \"cluster\": [1, 1, 1, 1, 1, 1, 1, 1, 1, 1, 1, 1, 1, 1, 1, 1, 1, 1, 1, 1]}};\n",
       "\n",
       "function LDAvis_load_lib(url, callback){\n",
       "  var s = document.createElement('script');\n",
       "  s.src = url;\n",
       "  s.async = true;\n",
       "  s.onreadystatechange = s.onload = callback;\n",
       "  s.onerror = function(){console.warn(\"failed to load library \" + url);};\n",
       "  document.getElementsByTagName(\"head\")[0].appendChild(s);\n",
       "}\n",
       "\n",
       "if(typeof(LDAvis) !== \"undefined\"){\n",
       "   // already loaded: just create the visualization\n",
       "   !function(LDAvis){\n",
       "       new LDAvis(\"#\" + \"ldavis_el72256616504001067460156\", ldavis_el72256616504001067460156_data);\n",
       "   }(LDAvis);\n",
       "}else if(typeof define === \"function\" && define.amd){\n",
       "   // require.js is available: use it to load d3/LDAvis\n",
       "   require.config({paths: {d3: \"https://cdnjs.cloudflare.com/ajax/libs/d3/3.5.5/d3.min\"}});\n",
       "   require([\"d3\"], function(d3){\n",
       "      window.d3 = d3;\n",
       "      LDAvis_load_lib(\"https://cdn.rawgit.com/bmabey/pyLDAvis/files/ldavis.v1.0.0.js\", function(){\n",
       "        new LDAvis(\"#\" + \"ldavis_el72256616504001067460156\", ldavis_el72256616504001067460156_data);\n",
       "      });\n",
       "    });\n",
       "}else{\n",
       "    // require.js not available: dynamically load d3 & LDAvis\n",
       "    LDAvis_load_lib(\"https://cdnjs.cloudflare.com/ajax/libs/d3/3.5.5/d3.min.js\", function(){\n",
       "         LDAvis_load_lib(\"https://cdn.rawgit.com/bmabey/pyLDAvis/files/ldavis.v1.0.0.js\", function(){\n",
       "                 new LDAvis(\"#\" + \"ldavis_el72256616504001067460156\", ldavis_el72256616504001067460156_data);\n",
       "            })\n",
       "         });\n",
       "}\n",
       "</script>"
      ],
      "text/plain": [
       "PreparedData(topic_coordinates=            Freq  cluster  topics         x         y\n",
       "topic                                                \n",
       "2      14.127467        1       1 -0.282419  0.058830\n",
       "11     11.733620        1       2 -0.158345  0.225286\n",
       "17      7.017774        1       3 -0.230719 -0.103425\n",
       "9       6.023109        1       4 -0.013011  0.235926\n",
       "7       5.375692        1       5 -0.111452  0.061750\n",
       "0       5.027695        1       6 -0.003212 -0.036526\n",
       "13      4.888505        1       7  0.062982  0.180988\n",
       "10      4.094919        1       8 -0.109154 -0.160153\n",
       "3       4.016472        1       9  0.047321  0.140629\n",
       "4       3.671430        1      10  0.152472 -0.058757\n",
       "1       3.648389        1      11 -0.079834 -0.136873\n",
       "12      3.648140        1      12  0.130063 -0.037001\n",
       "19      3.624853        1      13 -0.085592 -0.146473\n",
       "15      3.488162        1      14  0.047701  0.002404\n",
       "6       3.356494        1      15  0.123851  0.121279\n",
       "14      3.307501        1      16  0.145417 -0.097686\n",
       "16      3.304329        1      17  0.145528 -0.082725\n",
       "5       3.291240        1      18 -0.049970 -0.154341\n",
       "8       3.194906        1      19  0.158067 -0.044451\n",
       "18      3.159304        1      20  0.110305  0.031320, topic_info=      Category          Freq Term         Total  loglift  logprob\n",
       "term                                                             \n",
       "28925  Default  17617.000000  히오스  17617.000000  30.0000  30.0000\n",
       "17487  Default   7393.000000   스킨   7393.000000  29.0000  29.0000\n",
       "22412  Default  11504.000000   영웅  11504.000000  28.0000  28.0000\n",
       "38076  Default   5842.000000   이거   5842.000000  27.0000  27.0000\n",
       "8439   Default  10702.000000   사람  10702.000000  26.0000  26.0000\n",
       "30295  Default  12243.000000   게임  12243.000000  25.0000  25.0000\n",
       "25818  Default   4032.000000   노바   4032.000000  24.0000  24.0000\n",
       "298    Default   4196.000000   지원   4196.000000  23.0000  23.0000\n",
       "3592   Default   5113.000000   시간   5113.000000  22.0000  22.0000\n",
       "7412   Default   3396.000000  제이나   3396.000000  21.0000  21.0000\n",
       "7021   Default   3836.000000  가로쉬   3836.000000  20.0000  20.0000\n",
       "22662  Default   3989.000000   딜러   3989.000000  19.0000  19.0000\n",
       "3815   Default   4076.000000   겐지   4076.000000  18.0000  18.0000\n",
       "35980  Default   5913.000000   특성   5913.000000  17.0000  17.0000\n",
       "20861  Default   4192.000000   아나   4192.000000  16.0000  16.0000\n",
       "4638   Default   2976.000000   모랄   2976.000000  15.0000  15.0000\n",
       "26161  Default   4844.000000   조합   4844.000000  14.0000  14.0000\n",
       "21636  Default   2697.000000   시공   2697.000000  13.0000  13.0000\n",
       "34527  Default   6399.000000   영리   6399.000000  12.0000  12.0000\n",
       "11729  Default   3106.000000  레오릭   3106.000000  11.0000  11.0000\n",
       "22092  Default   2910.000000   힐러   2910.000000  10.0000  10.0000\n",
       "532    Default   3375.000000  바리안   3375.000000   9.0000   9.0000\n",
       "29392  Default   2417.000000   건가   2417.000000   8.0000   8.0000\n",
       "13146  Default   2732.000000   탱커   2732.000000   7.0000   7.0000\n",
       "18399  Default   2285.000000   친구   2285.000000   6.0000   6.0000\n",
       "23978  Default   3658.000000  레이너   3658.000000   5.0000   5.0000\n",
       "10257  Default   2183.000000   리밍   2183.000000   4.0000   4.0000\n",
       "22212  Default   5269.000000   스킬   5269.000000   3.0000   3.0000\n",
       "8097   Default   2759.000000  크로미   2759.000000   2.0000   2.0000\n",
       "33224  Default   4151.000000   라인   4151.000000   1.0000   1.0000\n",
       "...        ...           ...  ...           ...      ...      ...\n",
       "40110  Topic20    388.858958   얼음    389.859903   3.4522  -4.7975\n",
       "32803  Topic20    330.746311   불분    331.747257   3.4518  -4.9593\n",
       "15022  Topic20    327.102721   장인    328.103666   3.4518  -4.9704\n",
       "21260  Topic20    322.335819   취향    323.336765   3.4517  -4.9851\n",
       "17274  Topic20    312.757576   블랙    313.758522   3.4516  -5.0153\n",
       "20865  Topic20    306.695751   겐트    307.696697   3.4516  -5.0348\n",
       "26444  Topic20    301.739967   전부    302.740913   3.4515  -5.0511\n",
       "35220  Topic20    298.333000   도끼    299.333945   3.4515  -5.0625\n",
       "39229  Topic20    279.377404   가시    280.378350   3.4512  -5.1281\n",
       "7680   Topic20    276.929152   소름    277.930098   3.4512  -5.1369\n",
       "9528   Topic20    275.292516   적응    276.293462   3.4512  -5.1429\n",
       "37691  Topic20    257.937259   장판    258.938205   3.4509  -5.2080\n",
       "5548   Topic20    242.503984   대박    243.504929   3.4507  -5.2697\n",
       "10140  Topic20    235.587291   정석    236.588236   3.4506  -5.2986\n",
       "7115   Topic20    235.370077   수룡    236.371022   3.4506  -5.2995\n",
       "14569  Topic20    231.126916   테라    232.127862   3.4505  -5.3177\n",
       "29872  Topic20    216.547244  존재감    217.548189   3.4502  -5.3829\n",
       "26217  Topic20    212.863329   도트    213.864275   3.4501  -5.4000\n",
       "20884  Topic20    197.343518   셔틀    198.344463   3.4498  -5.4757\n",
       "17585  Topic20    196.680588   찐따    197.681533   3.4497  -5.4791\n",
       "18816  Topic20    338.889029   녀석    354.131951   3.4108  -4.9350\n",
       "8097   Topic20   1687.895872  크로미   2759.342975   2.9633  -3.3295\n",
       "39616  Topic20   1068.155510  제라툴   1803.524147   2.9310  -3.7870\n",
       "5262   Topic20    593.366454   옛날   1055.702272   2.8787  -4.3749\n",
       "4335   Topic20    357.556731   완전    522.749711   3.0750  -4.8814\n",
       "8115   Topic20    429.017706   이젠    811.119657   2.8179  -4.6992\n",
       "9372   Topic20    603.446011   대회   2041.195662   2.2362  -4.3580\n",
       "29364  Topic20    442.923628  도살자   1209.303968   2.4504  -4.6673\n",
       "19449  Topic20    303.874157   공감    469.383241   3.0200  -5.0441\n",
       "27674  Topic20    323.491420   이상   5428.381133   0.6346  -4.9815\n",
       "\n",
       "[900 rows x 6 columns], token_table=       Topic      Freq  Term\n",
       "term                        \n",
       "36816     14  0.998926    가격\n",
       "32889      1  0.251657    가능\n",
       "32889      2  0.419625    가능\n",
       "32889      5  0.077418    가능\n",
       "32889      6  0.080946    가능\n",
       "32889      7  0.037043    가능\n",
       "32889      9  0.052331    가능\n",
       "32889     13  0.028615    가능\n",
       "32889     14  0.052135    가능\n",
       "7021       7  0.999745   가로쉬\n",
       "40944     18  0.996694    가루\n",
       "39229     20  0.995084    가시\n",
       "15602     17  0.998118   가시성\n",
       "36964      4  0.839371    가요\n",
       "36964     14  0.160320    가요\n",
       "17498     18  0.995212    가입\n",
       "3497      18  0.996503    가족\n",
       "16905      4  0.999083   가즈로\n",
       "27566      5  0.247272    가치\n",
       "27566     14  0.750568    가치\n",
       "22177     18  0.995862    간지\n",
       "3660       6  0.998964    감사\n",
       "8426       2  0.999300    감소\n",
       "2242      12  0.995342    갑옷\n",
       "18089      2  0.998694    강화\n",
       "23775      5  0.999275    개꿀\n",
       "17861     18  0.996333    개똥\n",
       "3532       5  0.999139    개발\n",
       "29170      5  0.996191   개발자\n",
       "33509      3  0.997520   개소리\n",
       "...      ...       ...   ...\n",
       "29465     18  0.994787    현상\n",
       "35082      1  0.163280    현실\n",
       "35082     13  0.835995    현실\n",
       "37805      8  0.996868    현질\n",
       "18777      8  0.996170    협곡\n",
       "9370       1  0.998917    협동\n",
       "16448     10  0.999083    호드\n",
       "37872     18  0.998438    화면\n",
       "22090     18  0.999259    화제\n",
       "19664      1  0.394931    확률\n",
       "19664     14  0.603454    확률\n",
       "31181      6  0.998697    확인\n",
       "27445     19  0.997088    회로\n",
       "32757      5  0.998651    회복\n",
       "17150      2  0.999522    효과\n",
       "8573       2  0.998656    효율\n",
       "24642     18  0.997895    후기\n",
       "24851      2  0.998374    후방\n",
       "4511      18  0.996999    훈련\n",
       "25312     19  0.997491    흡혈\n",
       "13108      6  0.997518  히어로즈\n",
       "28925      1  0.228407   히오스\n",
       "28925      3  0.167218   히오스\n",
       "28925      5  0.138667   히오스\n",
       "28925      8  0.271545   히오스\n",
       "28925     11  0.064026   히오스\n",
       "28925     13  0.072711   히오스\n",
       "28925     18  0.057329   히오스\n",
       "22092      9  0.903017    힐러\n",
       "22092     15  0.096555    힐러\n",
       "\n",
       "[1234 rows x 3 columns], R=30, lambda_step=0.01, plot_opts={'ylab': 'PC2', 'xlab': 'PC1'}, topic_order=[3, 12, 18, 10, 8, 1, 14, 11, 4, 5, 2, 13, 20, 16, 7, 15, 17, 6, 9, 19])"
      ]
     },
     "execution_count": 113,
     "metadata": {},
     "output_type": "execute_result"
    }
   ],
   "source": [
    "# pyLDAvis Visualization\n",
    "\n",
    "%%time pyLDAvis.enable_notebook()\n",
    "vis = pyLDAvis.gensim.prepare(lda_model, corpus, id2word)\n",
    "vis"
   ]
  },
  {
   "cell_type": "code",
   "execution_count": 123,
   "metadata": {
    "scrolled": true
   },
   "outputs": [
    {
     "name": "stdout",
     "output_type": "stream",
     "text": [
      "[(0,\n",
      "  '0.040*\"노바\" + 0.020*\"디바\" + 0.015*\"렉사르\" + 0.013*\"발리라\" + 0.013*\"은신\" + '\n",
      "  '0.008*\"티란데\" + 0.008*\"제라툴\" + 0.006*\"저격\" + 0.006*\"공포\" + 0.006*\"스카\"'),\n",
      " (1,\n",
      "  '0.022*\"영리\" + 0.017*\"영웅\" + 0.015*\"히오스\" + 0.013*\"조합\" + 0.013*\"생각\" + '\n",
      "  '0.012*\"게임\" + 0.012*\"지원\" + 0.011*\"시즌\" + 0.011*\"배치\" + 0.011*\"정도\"'),\n",
      " (2,\n",
      "  '0.080*\"스킨\" + 0.019*\"상자\" + 0.015*\"전설\" + 0.012*\"파편\" + 0.011*\"탈것\" + 0.011*\"하나\" '\n",
      "  '+ 0.011*\"이번\" + 0.007*\"대사\" + 0.007*\"군대\" + 0.006*\"난투\"'),\n",
      " (3,\n",
      "  '0.016*\"레이너\" + 0.013*\"영웅\" + 0.013*\"가로쉬\" + 0.011*\"딜러\" + 0.011*\"겐지\" + '\n",
      "  '0.010*\"상대\" + 0.010*\"바리안\" + 0.010*\"레오릭\" + 0.009*\"생각\" + 0.009*\"라인\"'),\n",
      " (4,\n",
      "  '0.021*\"시공\" + 0.016*\"히오스\" + 0.014*\"인벤\" + 0.013*\"스타\" + 0.012*\"방송\" + '\n",
      "  '0.011*\"영웅\" + 0.008*\"영상\" + 0.008*\"와우\" + 0.008*\"선수\" + 0.007*\"내용\"'),\n",
      " (5,\n",
      "  '0.029*\"특성\" + 0.020*\"스킬\" + 0.018*\"모랄\" + 0.014*\"증가\" + 0.012*\"평타\" + '\n",
      "  '0.011*\"사거리\" + 0.011*\"시간\" + 0.010*\"기본\" + 0.010*\"가능\" + 0.009*\"사용\"'),\n",
      " (6,\n",
      "  '0.026*\"리리\" + 0.020*\"경기\" + 0.016*\"우리\" + 0.012*\"한국\" + 0.011*\"보이스\" + '\n",
      "  '0.010*\"호드\" + 0.009*\"나라\" + 0.009*\"할로윈\" + 0.007*\"오픈\" + 0.007*\"레이븐\"'),\n",
      " (7,\n",
      "  '0.051*\"게임\" + 0.051*\"히오스\" + 0.037*\"사람\" + 0.015*\"생각\" + 0.011*\"친구\" + '\n",
      "  '0.010*\"새끼\" + 0.009*\"시간\" + 0.009*\"문제\" + 0.008*\"자기\" + 0.007*\"유저\"')]\n"
     ]
    }
   ],
   "source": [
    "optimal_model = model_list[1]\n",
    "model_topics = optimal_model.show_topics(formatted=False)\n",
    "pprint(optimal_model.print_topics(num_words=10b))\n",
    "\n",
    "df_ts = df_all[\"contents_all\"].values.tolist()"
   ]
  },
  {
   "cell_type": "markdown",
   "metadata": {},
   "source": [
    "### 각 문장에서의 지배적인 토픽 찾기"
   ]
  },
  {
   "cell_type": "code",
   "execution_count": 125,
   "metadata": {
    "scrolled": true
   },
   "outputs": [
    {
     "data": {
      "text/html": [
       "<div>\n",
       "<style>\n",
       "    .dataframe thead tr:only-child th {\n",
       "        text-align: right;\n",
       "    }\n",
       "\n",
       "    .dataframe thead th {\n",
       "        text-align: left;\n",
       "    }\n",
       "\n",
       "    .dataframe tbody tr th {\n",
       "        vertical-align: top;\n",
       "    }\n",
       "</style>\n",
       "<table border=\"1\" class=\"dataframe\">\n",
       "  <thead>\n",
       "    <tr style=\"text-align: right;\">\n",
       "      <th></th>\n",
       "      <th>Document_No</th>\n",
       "      <th>Dominant_Topic</th>\n",
       "      <th>Topic_Perc_Contrib</th>\n",
       "      <th>Keywords</th>\n",
       "      <th>Text</th>\n",
       "    </tr>\n",
       "  </thead>\n",
       "  <tbody>\n",
       "    <tr>\n",
       "      <th>0</th>\n",
       "      <td>0</td>\n",
       "      <td>1.0</td>\n",
       "      <td>0.7350</td>\n",
       "      <td>영리, 영웅, 히오스, 조합, 생각, 게임, 지원, 시즌, 배치, 정도</td>\n",
       "      <td>아바투르 유저인데 하나 건의합니다아바투르 유저인데 하나 건의합니다새로 생긴 하나무라...</td>\n",
       "    </tr>\n",
       "    <tr>\n",
       "      <th>1</th>\n",
       "      <td>1</td>\n",
       "      <td>1.0</td>\n",
       "      <td>0.6374</td>\n",
       "      <td>영리, 영웅, 히오스, 조합, 생각, 게임, 지원, 시즌, 배치, 정도</td>\n",
       "      <td>매칭 시스템 아무리 생각해도 문제가 많습니다매칭좀 제대로 해주세요9연패가 말이 되는...</td>\n",
       "    </tr>\n",
       "    <tr>\n",
       "      <th>2</th>\n",
       "      <td>2</td>\n",
       "      <td>7.0</td>\n",
       "      <td>0.4775</td>\n",
       "      <td>게임, 히오스, 사람, 생각, 친구, 새끼, 시간, 문제, 자기, 유저</td>\n",
       "      <td>ㅈ같은 매칭좀 어캐좀 해봐요왜 내가 잘해도 ㅈ같이못하는 새키들때문에 게임을 져야하죠...</td>\n",
       "    </tr>\n",
       "    <tr>\n",
       "      <th>3</th>\n",
       "      <td>3</td>\n",
       "      <td>5.0</td>\n",
       "      <td>0.5209</td>\n",
       "      <td>특성, 스킬, 모랄, 증가, 평타, 사거리, 시간, 기본, 가능, 사용</td>\n",
       "      <td>아나 스킨관련신 스킨 살무사 아나 수면총 색 고정말고  스킨 색 대로 해주셧으면 ...</td>\n",
       "    </tr>\n",
       "    <tr>\n",
       "      <th>4</th>\n",
       "      <td>4</td>\n",
       "      <td>1.0</td>\n",
       "      <td>0.5041</td>\n",
       "      <td>영리, 영웅, 히오스, 조합, 생각, 게임, 지원, 시즌, 배치, 정도</td>\n",
       "      <td>5인팟  승률50집착매칭  밸런스 파괴  빠대무간지옥승률 50 만든다고 조합 내놓고...</td>\n",
       "    </tr>\n",
       "    <tr>\n",
       "      <th>5</th>\n",
       "      <td>5</td>\n",
       "      <td>1.0</td>\n",
       "      <td>0.3658</td>\n",
       "      <td>영리, 영웅, 히오스, 조합, 생각, 게임, 지원, 시즌, 배치, 정도</td>\n",
       "      <td>영웅리그 매칭에서 대만인들대만인 새끼들좀 매칭 안되게 해라말도 안통하는 머저리 새끼...</td>\n",
       "    </tr>\n",
       "    <tr>\n",
       "      <th>6</th>\n",
       "      <td>6</td>\n",
       "      <td>1.0</td>\n",
       "      <td>0.3764</td>\n",
       "      <td>영리, 영웅, 히오스, 조합, 생각, 게임, 지원, 시즌, 배치, 정도</td>\n",
       "      <td>신영웅 그만만들고 기존영웅 손좀보시죠신영웅 이제 그만좀만드시고요 기존영웅 쓸수나있게...</td>\n",
       "    </tr>\n",
       "    <tr>\n",
       "      <th>7</th>\n",
       "      <td>7</td>\n",
       "      <td>3.0</td>\n",
       "      <td>0.3922</td>\n",
       "      <td>레이너, 영웅, 가로쉬, 딜러, 겐지, 상대, 바리안, 레오릭, 생각, 라인</td>\n",
       "      <td>망한맵들은 리메이크가 답이 아니다 삭제가 답이지 죽광도 리메이크해도 망맵 하나무라도...</td>\n",
       "    </tr>\n",
       "    <tr>\n",
       "      <th>8</th>\n",
       "      <td>8</td>\n",
       "      <td>1.0</td>\n",
       "      <td>0.8396</td>\n",
       "      <td>영리, 영웅, 히오스, 조합, 생각, 게임, 지원, 시즌, 배치, 정도</td>\n",
       "      <td>히오스 영웅리그 개선안HOTS는 이전부터 영웅리그에 대한 문제가 많았습니다크게 정리...</td>\n",
       "    </tr>\n",
       "    <tr>\n",
       "      <th>9</th>\n",
       "      <td>9</td>\n",
       "      <td>1.0</td>\n",
       "      <td>0.6565</td>\n",
       "      <td>영리, 영웅, 히오스, 조합, 생각, 게임, 지원, 시즌, 배치, 정도</td>\n",
       "      <td>다른 영웅 선택되는 버그분명 픽창에서는 제가 하고싶은 영웅을 선택했는데 시작하고나면...</td>\n",
       "    </tr>\n",
       "  </tbody>\n",
       "</table>\n",
       "</div>"
      ],
      "text/plain": [
       "   Document_No  Dominant_Topic  Topic_Perc_Contrib  \\\n",
       "0            0             1.0              0.7350   \n",
       "1            1             1.0              0.6374   \n",
       "2            2             7.0              0.4775   \n",
       "3            3             5.0              0.5209   \n",
       "4            4             1.0              0.5041   \n",
       "5            5             1.0              0.3658   \n",
       "6            6             1.0              0.3764   \n",
       "7            7             3.0              0.3922   \n",
       "8            8             1.0              0.8396   \n",
       "9            9             1.0              0.6565   \n",
       "\n",
       "                                     Keywords  \\\n",
       "0     영리, 영웅, 히오스, 조합, 생각, 게임, 지원, 시즌, 배치, 정도   \n",
       "1     영리, 영웅, 히오스, 조합, 생각, 게임, 지원, 시즌, 배치, 정도   \n",
       "2     게임, 히오스, 사람, 생각, 친구, 새끼, 시간, 문제, 자기, 유저   \n",
       "3     특성, 스킬, 모랄, 증가, 평타, 사거리, 시간, 기본, 가능, 사용   \n",
       "4     영리, 영웅, 히오스, 조합, 생각, 게임, 지원, 시즌, 배치, 정도   \n",
       "5     영리, 영웅, 히오스, 조합, 생각, 게임, 지원, 시즌, 배치, 정도   \n",
       "6     영리, 영웅, 히오스, 조합, 생각, 게임, 지원, 시즌, 배치, 정도   \n",
       "7  레이너, 영웅, 가로쉬, 딜러, 겐지, 상대, 바리안, 레오릭, 생각, 라인   \n",
       "8     영리, 영웅, 히오스, 조합, 생각, 게임, 지원, 시즌, 배치, 정도   \n",
       "9     영리, 영웅, 히오스, 조합, 생각, 게임, 지원, 시즌, 배치, 정도   \n",
       "\n",
       "                                                Text  \n",
       "0  아바투르 유저인데 하나 건의합니다아바투르 유저인데 하나 건의합니다새로 생긴 하나무라...  \n",
       "1  매칭 시스템 아무리 생각해도 문제가 많습니다매칭좀 제대로 해주세요9연패가 말이 되는...  \n",
       "2  ㅈ같은 매칭좀 어캐좀 해봐요왜 내가 잘해도 ㅈ같이못하는 새키들때문에 게임을 져야하죠...  \n",
       "3   아나 스킨관련신 스킨 살무사 아나 수면총 색 고정말고  스킨 색 대로 해주셧으면 ...  \n",
       "4  5인팟  승률50집착매칭  밸런스 파괴  빠대무간지옥승률 50 만든다고 조합 내놓고...  \n",
       "5  영웅리그 매칭에서 대만인들대만인 새끼들좀 매칭 안되게 해라말도 안통하는 머저리 새끼...  \n",
       "6  신영웅 그만만들고 기존영웅 손좀보시죠신영웅 이제 그만좀만드시고요 기존영웅 쓸수나있게...  \n",
       "7  망한맵들은 리메이크가 답이 아니다 삭제가 답이지 죽광도 리메이크해도 망맵 하나무라도...  \n",
       "8  히오스 영웅리그 개선안HOTS는 이전부터 영웅리그에 대한 문제가 많았습니다크게 정리...  \n",
       "9  다른 영웅 선택되는 버그분명 픽창에서는 제가 하고싶은 영웅을 선택했는데 시작하고나면...  "
      ]
     },
     "execution_count": 125,
     "metadata": {},
     "output_type": "execute_result"
    }
   ],
   "source": [
    "def format_topics_sentences(ldamodel=lda_model, corpus=corpus, texts=df_ts):\n",
    "    # Init output\n",
    "    sent_topics_df = pd.DataFrame()\n",
    "\n",
    "    # Get main topic in each document\n",
    "    for i, row in enumerate(ldamodel[corpus]):\n",
    "        row = sorted(row, key=lambda x: (x[1]), reverse=True)\n",
    "        \n",
    "        # Get the Dominant topic, Perc Contribution and Keywords for each document\n",
    "        for j, (topic_num, prop_topic) in enumerate(row):\n",
    "            if j == 0:  # => dominant topic\n",
    "                wp = ldamodel.show_topic(topic_num)\n",
    "                topic_keywords = \", \".join([word for word, prop in wp])\n",
    "                sent_topics_df = sent_topics_df.append(pd.Series([int(topic_num), round(prop_topic,4), topic_keywords]), ignore_index=True)\n",
    "            else:\n",
    "                break\n",
    "    sent_topics_df.columns = ['Dominant_Topic', 'Perc_Contribution', 'Topic_Keywords']\n",
    "\n",
    "    # Add original text to the end of the output\n",
    "    contents = pd.Series(texts)\n",
    "    sent_topics_df = pd.concat([sent_topics_df, contents], axis=1)\n",
    "    return(sent_topics_df)\n",
    "\n",
    "\n",
    "df_topic_sents_keywords = format_topics_sentences(ldamodel=optimal_model, corpus=corpus, texts=df_ts)\n",
    "\n",
    "# Format\n",
    "df_dominant_topic = df_topic_sents_keywords.reset_index()\n",
    "df_dominant_topic.columns = ['Document_No', 'Dominant_Topic', 'Topic_Perc_Contrib', 'Keywords', 'Text']\n",
    "\n",
    "# Show\n",
    "df_dominant_topic.head(10)"
   ]
  },
  {
   "cell_type": "markdown",
   "metadata": {},
   "source": [
    "### 각 토픽별로 가장 대표적인 문서 찾기"
   ]
  },
  {
   "cell_type": "code",
   "execution_count": 130,
   "metadata": {},
   "outputs": [
    {
     "data": {
      "text/html": [
       "<div>\n",
       "<style>\n",
       "    .dataframe thead tr:only-child th {\n",
       "        text-align: right;\n",
       "    }\n",
       "\n",
       "    .dataframe thead th {\n",
       "        text-align: left;\n",
       "    }\n",
       "\n",
       "    .dataframe tbody tr th {\n",
       "        vertical-align: top;\n",
       "    }\n",
       "</style>\n",
       "<table border=\"1\" class=\"dataframe\">\n",
       "  <thead>\n",
       "    <tr style=\"text-align: right;\">\n",
       "      <th></th>\n",
       "      <th>Topic_Num</th>\n",
       "      <th>Topic_Perc_Contrib</th>\n",
       "      <th>Keywords</th>\n",
       "      <th>Text</th>\n",
       "    </tr>\n",
       "  </thead>\n",
       "  <tbody>\n",
       "    <tr>\n",
       "      <th>0</th>\n",
       "      <td>0.0</td>\n",
       "      <td>0.9270</td>\n",
       "      <td>노바, 디바, 렉사르, 발리라, 은신, 티란데, 제라툴, 저격, 공포, 스카</td>\n",
       "      <td>사무로 은신 or 분신 너프사무로 은신 or 분신 너프에 관하여인간적으로 둘 중에 ...</td>\n",
       "    </tr>\n",
       "    <tr>\n",
       "      <th>1</th>\n",
       "      <td>1.0</td>\n",
       "      <td>0.9880</td>\n",
       "      <td>영리, 영웅, 히오스, 조합, 생각, 게임, 지원, 시즌, 배치, 정도</td>\n",
       "      <td>히린이들은 영웅리그에서 기존유저는 빠대에서많이본다게임을 많이하고 잘아는사람들은 빠른...</td>\n",
       "    </tr>\n",
       "    <tr>\n",
       "      <th>2</th>\n",
       "      <td>2.0</td>\n",
       "      <td>0.9775</td>\n",
       "      <td>스킨, 상자, 전설, 파편, 탈것, 하나, 이번, 대사, 군대, 난투</td>\n",
       "      <td>홍코노랑 오프라임 뭐지왜 커플룩설마음모음모음모음모음모음모음모음모음모음모음모음모음모음...</td>\n",
       "    </tr>\n",
       "    <tr>\n",
       "      <th>3</th>\n",
       "      <td>3.0</td>\n",
       "      <td>0.9825</td>\n",
       "      <td>레이너, 영웅, 가로쉬, 딜러, 겐지, 상대, 바리안, 레오릭, 생각, 라인</td>\n",
       "      <td>난투브락시스 탈출영웅성공한 조합바리안소냐레가르모랄레스그레이메인바리안자리야루시우레가르...</td>\n",
       "    </tr>\n",
       "    <tr>\n",
       "      <th>4</th>\n",
       "      <td>4.0</td>\n",
       "      <td>0.9998</td>\n",
       "      <td>시공, 히오스, 인벤, 스타, 방송, 영웅, 영상, 와우, 선수, 내용</td>\n",
       "      <td>히오스 하고 싶다아시공조아시공조아시공조아시공조아시공조아시공조아시공조아시공조아시공조아...</td>\n",
       "    </tr>\n",
       "    <tr>\n",
       "      <th>5</th>\n",
       "      <td>5.0</td>\n",
       "      <td>0.9792</td>\n",
       "      <td>특성, 스킬, 모랄, 증가, 평타, 사거리, 시간, 기본, 가능, 사용</td>\n",
       "      <td>아나 개인적으로 아쉬운 부분이아나는 자신 스스로 회복 가능한 생존기가 그나마 생체 ...</td>\n",
       "    </tr>\n",
       "    <tr>\n",
       "      <th>6</th>\n",
       "      <td>6.0</td>\n",
       "      <td>0.9859</td>\n",
       "      <td>리리, 경기, 우리, 한국, 보이스, 호드, 나라, 할로윈, 오픈, 레이븐</td>\n",
       "      <td>리리리리리리리리리리리리리리리리리리리리리리리리리리리리리리리리리리리리리리리리리리리리리리...</td>\n",
       "    </tr>\n",
       "    <tr>\n",
       "      <th>7</th>\n",
       "      <td>7.0</td>\n",
       "      <td>0.9852</td>\n",
       "      <td>게임, 히오스, 사람, 생각, 친구, 새끼, 시간, 문제, 자기, 유저</td>\n",
       "      <td>이게 게임이냐렉 오짐 망겜 히오스 망겜 히오스 망겜 히오스 망겜 히오스 망겜 히오스...</td>\n",
       "    </tr>\n",
       "  </tbody>\n",
       "</table>\n",
       "</div>"
      ],
      "text/plain": [
       "   Topic_Num  Topic_Perc_Contrib                                    Keywords  \\\n",
       "0        0.0              0.9270  노바, 디바, 렉사르, 발리라, 은신, 티란데, 제라툴, 저격, 공포, 스카   \n",
       "1        1.0              0.9880     영리, 영웅, 히오스, 조합, 생각, 게임, 지원, 시즌, 배치, 정도   \n",
       "2        2.0              0.9775      스킨, 상자, 전설, 파편, 탈것, 하나, 이번, 대사, 군대, 난투   \n",
       "3        3.0              0.9825  레이너, 영웅, 가로쉬, 딜러, 겐지, 상대, 바리안, 레오릭, 생각, 라인   \n",
       "4        4.0              0.9998     시공, 히오스, 인벤, 스타, 방송, 영웅, 영상, 와우, 선수, 내용   \n",
       "5        5.0              0.9792     특성, 스킬, 모랄, 증가, 평타, 사거리, 시간, 기본, 가능, 사용   \n",
       "6        6.0              0.9859   리리, 경기, 우리, 한국, 보이스, 호드, 나라, 할로윈, 오픈, 레이븐   \n",
       "7        7.0              0.9852     게임, 히오스, 사람, 생각, 친구, 새끼, 시간, 문제, 자기, 유저   \n",
       "\n",
       "                                                Text  \n",
       "0  사무로 은신 or 분신 너프사무로 은신 or 분신 너프에 관하여인간적으로 둘 중에 ...  \n",
       "1  히린이들은 영웅리그에서 기존유저는 빠대에서많이본다게임을 많이하고 잘아는사람들은 빠른...  \n",
       "2  홍코노랑 오프라임 뭐지왜 커플룩설마음모음모음모음모음모음모음모음모음모음모음모음모음모음...  \n",
       "3  난투브락시스 탈출영웅성공한 조합바리안소냐레가르모랄레스그레이메인바리안자리야루시우레가르...  \n",
       "4  히오스 하고 싶다아시공조아시공조아시공조아시공조아시공조아시공조아시공조아시공조아시공조아...  \n",
       "5  아나 개인적으로 아쉬운 부분이아나는 자신 스스로 회복 가능한 생존기가 그나마 생체 ...  \n",
       "6  리리리리리리리리리리리리리리리리리리리리리리리리리리리리리리리리리리리리리리리리리리리리리리...  \n",
       "7  이게 게임이냐렉 오짐 망겜 히오스 망겜 히오스 망겜 히오스 망겜 히오스 망겜 히오스...  "
      ]
     },
     "execution_count": 130,
     "metadata": {},
     "output_type": "execute_result"
    }
   ],
   "source": [
    "# Group top 5 sentences under each topic\n",
    "sent_topics_sorteddf = pd.DataFrame()\n",
    "\n",
    "sent_topics_outdf_grpd = df_topic_sents_keywords.groupby('Dominant_Topic')\n",
    "\n",
    "for i, grp in sent_topics_outdf_grpd:\n",
    "    sent_topics_sorteddf = pd.concat([sent_topics_sorteddf, \n",
    "                                      grp.sort_values(['Perc_Contribution'], ascending=[0]).head(1)], \n",
    "                                      axis=0)\n",
    "\n",
    "# Reset Index    \n",
    "sent_topics_sorteddf.reset_index(drop=True, inplace=True)\n",
    "\n",
    "# Format\n",
    "sent_topics_sorteddf.columns = ['Topic_Num', \"Topic_Perc_Contrib\", \"Keywords\", \"Text\"]\n",
    "\n",
    "# Show\n",
    "sent_topics_sorteddf"
   ]
  },
  {
   "cell_type": "markdown",
   "metadata": {},
   "source": [
    "### 문서 전체의 토픽 분포"
   ]
  },
  {
   "cell_type": "code",
   "execution_count": 136,
   "metadata": {},
   "outputs": [
    {
     "data": {
      "text/html": [
       "<div>\n",
       "<style>\n",
       "    .dataframe thead tr:only-child th {\n",
       "        text-align: right;\n",
       "    }\n",
       "\n",
       "    .dataframe thead th {\n",
       "        text-align: left;\n",
       "    }\n",
       "\n",
       "    .dataframe tbody tr th {\n",
       "        vertical-align: top;\n",
       "    }\n",
       "</style>\n",
       "<table border=\"1\" class=\"dataframe\">\n",
       "  <thead>\n",
       "    <tr style=\"text-align: right;\">\n",
       "      <th></th>\n",
       "      <th>Dominant_Topic</th>\n",
       "      <th>Topic_Keywords</th>\n",
       "      <th>Num_Documents</th>\n",
       "      <th>Perc_Documents</th>\n",
       "    </tr>\n",
       "  </thead>\n",
       "  <tbody>\n",
       "    <tr>\n",
       "      <th>0</th>\n",
       "      <td>1.0</td>\n",
       "      <td>영리, 영웅, 히오스, 조합, 생각, 게임, 지원, 시즌, 배치, 정도</td>\n",
       "      <td>12785.0</td>\n",
       "      <td>0.0834</td>\n",
       "    </tr>\n",
       "    <tr>\n",
       "      <th>1</th>\n",
       "      <td>1.0</td>\n",
       "      <td>영리, 영웅, 히오스, 조합, 생각, 게임, 지원, 시즌, 배치, 정도</td>\n",
       "      <td>25748.0</td>\n",
       "      <td>0.1681</td>\n",
       "    </tr>\n",
       "    <tr>\n",
       "      <th>2</th>\n",
       "      <td>7.0</td>\n",
       "      <td>게임, 히오스, 사람, 생각, 친구, 새끼, 시간, 문제, 자기, 유저</td>\n",
       "      <td>12491.0</td>\n",
       "      <td>0.0815</td>\n",
       "    </tr>\n",
       "    <tr>\n",
       "      <th>3</th>\n",
       "      <td>5.0</td>\n",
       "      <td>특성, 스킬, 모랄, 증가, 평타, 사거리, 시간, 기본, 가능, 사용</td>\n",
       "      <td>35004.0</td>\n",
       "      <td>0.2285</td>\n",
       "    </tr>\n",
       "    <tr>\n",
       "      <th>4</th>\n",
       "      <td>1.0</td>\n",
       "      <td>영리, 영웅, 히오스, 조합, 생각, 게임, 지원, 시즌, 배치, 정도</td>\n",
       "      <td>19759.0</td>\n",
       "      <td>0.1290</td>\n",
       "    </tr>\n",
       "    <tr>\n",
       "      <th>5</th>\n",
       "      <td>1.0</td>\n",
       "      <td>영리, 영웅, 히오스, 조합, 생각, 게임, 지원, 시즌, 배치, 정도</td>\n",
       "      <td>14994.0</td>\n",
       "      <td>0.0979</td>\n",
       "    </tr>\n",
       "    <tr>\n",
       "      <th>6</th>\n",
       "      <td>1.0</td>\n",
       "      <td>영리, 영웅, 히오스, 조합, 생각, 게임, 지원, 시즌, 배치, 정도</td>\n",
       "      <td>9430.0</td>\n",
       "      <td>0.0616</td>\n",
       "    </tr>\n",
       "    <tr>\n",
       "      <th>7</th>\n",
       "      <td>3.0</td>\n",
       "      <td>레이너, 영웅, 가로쉬, 딜러, 겐지, 상대, 바리안, 레오릭, 생각, 라인</td>\n",
       "      <td>22997.0</td>\n",
       "      <td>0.1501</td>\n",
       "    </tr>\n",
       "    <tr>\n",
       "      <th>8</th>\n",
       "      <td>1.0</td>\n",
       "      <td>영리, 영웅, 히오스, 조합, 생각, 게임, 지원, 시즌, 배치, 정도</td>\n",
       "      <td>NaN</td>\n",
       "      <td>NaN</td>\n",
       "    </tr>\n",
       "    <tr>\n",
       "      <th>9</th>\n",
       "      <td>1.0</td>\n",
       "      <td>영리, 영웅, 히오스, 조합, 생각, 게임, 지원, 시즌, 배치, 정도</td>\n",
       "      <td>NaN</td>\n",
       "      <td>NaN</td>\n",
       "    </tr>\n",
       "  </tbody>\n",
       "</table>\n",
       "</div>"
      ],
      "text/plain": [
       "   Dominant_Topic                              Topic_Keywords  Num_Documents  \\\n",
       "0             1.0     영리, 영웅, 히오스, 조합, 생각, 게임, 지원, 시즌, 배치, 정도        12785.0   \n",
       "1             1.0     영리, 영웅, 히오스, 조합, 생각, 게임, 지원, 시즌, 배치, 정도        25748.0   \n",
       "2             7.0     게임, 히오스, 사람, 생각, 친구, 새끼, 시간, 문제, 자기, 유저        12491.0   \n",
       "3             5.0     특성, 스킬, 모랄, 증가, 평타, 사거리, 시간, 기본, 가능, 사용        35004.0   \n",
       "4             1.0     영리, 영웅, 히오스, 조합, 생각, 게임, 지원, 시즌, 배치, 정도        19759.0   \n",
       "5             1.0     영리, 영웅, 히오스, 조합, 생각, 게임, 지원, 시즌, 배치, 정도        14994.0   \n",
       "6             1.0     영리, 영웅, 히오스, 조합, 생각, 게임, 지원, 시즌, 배치, 정도         9430.0   \n",
       "7             3.0  레이너, 영웅, 가로쉬, 딜러, 겐지, 상대, 바리안, 레오릭, 생각, 라인        22997.0   \n",
       "8             1.0     영리, 영웅, 히오스, 조합, 생각, 게임, 지원, 시즌, 배치, 정도            NaN   \n",
       "9             1.0     영리, 영웅, 히오스, 조합, 생각, 게임, 지원, 시즌, 배치, 정도            NaN   \n",
       "\n",
       "   Perc_Documents  \n",
       "0          0.0834  \n",
       "1          0.1681  \n",
       "2          0.0815  \n",
       "3          0.2285  \n",
       "4          0.1290  \n",
       "5          0.0979  \n",
       "6          0.0616  \n",
       "7          0.1501  \n",
       "8             NaN  \n",
       "9             NaN  "
      ]
     },
     "execution_count": 136,
     "metadata": {},
     "output_type": "execute_result"
    }
   ],
   "source": [
    "# Number of Documents for Each Topic\n",
    "topic_counts = df_topic_sents_keywords['Dominant_Topic'].value_counts()\n",
    "\n",
    "# Percentage of Documents for Each Topic\n",
    "topic_contribution = round(topic_counts/topic_counts.sum(), 4)\n",
    "\n",
    "# Topic Number and Keywords\n",
    "topic_num_keywords = df_topic_sents_keywords[['Dominant_Topic', 'Topic_Keywords']]\n",
    "\n",
    "# Concatenate Column wise\n",
    "df_dominant_topics = pd.concat([topic_num_keywords, topic_counts, topic_contribution], axis=1)\n",
    "\n",
    "# Change Column names\n",
    "df_dominant_topics.columns = ['Dominant_Topic', 'Topic_Keywords', 'Num_Documents', 'Perc_Documents']\n",
    "\n",
    "# Show\n",
    "df_dominant_topics.head(10)"
   ]
  }
 ],
 "metadata": {
  "kernelspec": {
   "display_name": "Python [Root]",
   "language": "python",
   "name": "Python [Root]"
  },
  "language_info": {
   "codemirror_mode": {
    "name": "ipython",
    "version": 3
   },
   "file_extension": ".py",
   "mimetype": "text/x-python",
   "name": "python",
   "nbconvert_exporter": "python",
   "pygments_lexer": "ipython3",
   "version": "3.5.3"
  }
 },
 "nbformat": 4,
 "nbformat_minor": 2
}
