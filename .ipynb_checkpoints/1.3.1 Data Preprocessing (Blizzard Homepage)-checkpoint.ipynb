{
 "cells": [
  {
   "cell_type": "markdown",
   "metadata": {},
   "source": [
    "# Data Proprecessing\n",
    "---\n",
    "텍스트 데이터들을 전처리합니다."
   ]
  },
  {
   "cell_type": "markdown",
   "metadata": {},
   "source": [
    "## 1. 라이브러리 로딩"
   ]
  },
  {
   "cell_type": "code",
   "execution_count": 1,
   "metadata": {
    "collapsed": true
   },
   "outputs": [],
   "source": [
    "## 라이브러리 로딩\n",
    "\n",
    "import pandas as pd # 판다스 \n",
    "import numpy as np # 넘파이\n",
    "import time, datetime\n",
    "from datetime import datetime\n",
    "\n",
    "import re # 정규표현식\n",
    "import csv # 파일로 저장하기 위한 툴\n",
    "\n",
    "import ast # Abstrac Syntex Tree - 스트링 처리된 리스트를 리스트로 다시 리턴할때\n",
    "\n",
    "from pprint import pprint"
   ]
  },
  {
   "cell_type": "code",
   "execution_count": 2,
   "metadata": {
    "collapsed": true
   },
   "outputs": [],
   "source": [
    "from tqdm import tqdm, trange\n",
    "from tqdm import tqdm_notebook\n",
    "from time import sleep"
   ]
  },
  {
   "cell_type": "markdown",
   "metadata": {},
   "source": [
    "## 2. 데이터 올리기"
   ]
  },
  {
   "cell_type": "code",
   "execution_count": 3,
   "metadata": {},
   "outputs": [],
   "source": [
    "# 파일 읽기\n",
    "df_battle = pd.read_csv(\"data/battlenetData.csv\", encoding='utf8', header=None, engine='python')"
   ]
  },
  {
   "cell_type": "code",
   "execution_count": 4,
   "metadata": {
    "collapsed": true
   },
   "outputs": [],
   "source": [
    "df_battle.columns = ['link_id', 'user_id', 'timestamp', 'title', 'contents']"
   ]
  },
  {
   "cell_type": "code",
   "execution_count": 5,
   "metadata": {},
   "outputs": [
    {
     "data": {
      "text/plain": [
       "5700"
      ]
     },
     "execution_count": 5,
     "metadata": {},
     "output_type": "execute_result"
    }
   ],
   "source": [
    "len(df_battle)"
   ]
  },
  {
   "cell_type": "markdown",
   "metadata": {},
   "source": [
    "## 3. 데이터 전처리 - tidydata 만들기"
   ]
  },
  {
   "cell_type": "markdown",
   "metadata": {},
   "source": [
    "### 시간 데이터 전처리"
   ]
  },
  {
   "cell_type": "code",
   "execution_count": 6,
   "metadata": {
    "collapsed": true
   },
   "outputs": [],
   "source": [
    "## index 1017번째 timestamp가 비어있었음. \n",
    "df_battle = df_battle[df_battle['timestamp'].notnull()]"
   ]
  },
  {
   "cell_type": "code",
   "execution_count": 7,
   "metadata": {
    "collapsed": true
   },
   "outputs": [],
   "source": [
    "# 글을 드랍하였기 떄문에 인덱스 리셋\n",
    "\n",
    "df_battle.reset_index(inplace=True)"
   ]
  },
  {
   "cell_type": "code",
   "execution_count": 8,
   "metadata": {},
   "outputs": [
    {
     "data": {
      "application/vnd.jupyter.widget-view+json": {
       "model_id": "b7072bb4a7524c64b2e15640f41a2b8c"
      }
     },
     "metadata": {},
     "output_type": "display_data"
    },
    {
     "name": "stdout",
     "output_type": "stream",
     "text": [
      "\n"
     ]
    }
   ],
   "source": [
    "# 새로운 데이트타임 형식 만들기 - 스트링으로 들어와서 새로 만들어야 합니다.\n",
    "\n",
    "total = tqdm_notebook(range(5699))\n",
    "\n",
    "new_dates = []\n",
    "\n",
    "for i in total:\n",
    "    \n",
    "    years = int(df_battle['timestamp'][i][0:4])\n",
    "    months = int(df_battle['timestamp'][i][5:7])\n",
    "    days = int(df_battle['timestamp'][i][8:10])\n",
    "    hours = int(df_battle['timestamp'][i][11:13]) \n",
    "    minutes = int(df_battle['timestamp'][i][15:17])\n",
    "    \n",
    "    dates = datetime(years, months, days, hours, minutes)\n",
    "    \n",
    "    new_dates.append(dates)"
   ]
  },
  {
   "cell_type": "code",
   "execution_count": 9,
   "metadata": {
    "collapsed": true
   },
   "outputs": [],
   "source": [
    "df_battle[\"new_datetime\"] = new_dates\n",
    "df_battle.drop('timestamp',axis=1, inplace=True)"
   ]
  },
  {
   "cell_type": "code",
   "execution_count": 10,
   "metadata": {},
   "outputs": [
    {
     "data": {
      "text/html": [
       "<div>\n",
       "<style>\n",
       "    .dataframe thead tr:only-child th {\n",
       "        text-align: right;\n",
       "    }\n",
       "\n",
       "    .dataframe thead th {\n",
       "        text-align: left;\n",
       "    }\n",
       "\n",
       "    .dataframe tbody tr th {\n",
       "        vertical-align: top;\n",
       "    }\n",
       "</style>\n",
       "<table border=\"1\" class=\"dataframe\">\n",
       "  <thead>\n",
       "    <tr style=\"text-align: right;\">\n",
       "      <th></th>\n",
       "      <th>index</th>\n",
       "      <th>link_id</th>\n",
       "      <th>user_id</th>\n",
       "      <th>title</th>\n",
       "      <th>contents</th>\n",
       "      <th>new_datetime</th>\n",
       "    </tr>\n",
       "  </thead>\n",
       "  <tbody>\n",
       "    <tr>\n",
       "      <th>0</th>\n",
       "      <td>0</td>\n",
       "      <td>4564557252</td>\n",
       "      <td>비전력이부조카당</td>\n",
       "      <td>아바투르 유저인데, 하나 건의합니다.</td>\n",
       "      <td>[아바투르 유저인데, 하나 건의합니다.새로 생긴 하나무라 맵...뭐 이것도 맵 자체...</td>\n",
       "      <td>2017-05-06 05:21:00</td>\n",
       "    </tr>\n",
       "    <tr>\n",
       "      <th>1</th>\n",
       "      <td>1</td>\n",
       "      <td>4567016696</td>\n",
       "      <td>네이팜데쓰</td>\n",
       "      <td>매칭 시스템, 아무리 생각해도 문제가 많습니다</td>\n",
       "      <td>[매칭좀 제대로 해주세요.9연패가 말이 되는 처사입니까 며칠전에 16연승했다고 벌을...</td>\n",
       "      <td>2018-09-08 16:53:00</td>\n",
       "    </tr>\n",
       "    <tr>\n",
       "      <th>2</th>\n",
       "      <td>2</td>\n",
       "      <td>4567016695</td>\n",
       "      <td>souse</td>\n",
       "      <td>ㅈ같은 매칭좀 어캐좀 해봐요</td>\n",
       "      <td>[왜 내가 잘해도 ㅈ같이못하는 새키들때문에 게임을 져야하죠? 왜 심지어 못하는새키랑...</td>\n",
       "      <td>2018-09-08 16:22:00</td>\n",
       "    </tr>\n",
       "    <tr>\n",
       "      <th>3</th>\n",
       "      <td>3</td>\n",
       "      <td>4567026707</td>\n",
       "      <td>Best</td>\n",
       "      <td>아나 스킨관련..</td>\n",
       "      <td>[신 스킨 살무사 아나 수면총 색 고정말고.  스킨 색 대로 해주셧으면 좋겠습니다....</td>\n",
       "      <td>2018-09-08 15:13:00</td>\n",
       "    </tr>\n",
       "    <tr>\n",
       "      <th>4</th>\n",
       "      <td>4</td>\n",
       "      <td>4567036673</td>\n",
       "      <td>세월</td>\n",
       "      <td>5인팟 + 승률50%집착매칭 + 밸런스 파괴 = 빠대무간지옥</td>\n",
       "      <td>[승률 50% 만든다고 조합 !@내놓고5인팟은 여전히 솔팟 사이에서 개판치고다니고너...</td>\n",
       "      <td>2018-09-07 13:58:00</td>\n",
       "    </tr>\n",
       "  </tbody>\n",
       "</table>\n",
       "</div>"
      ],
      "text/plain": [
       "   index     link_id   user_id                              title  \\\n",
       "0      0  4564557252  비전력이부조카당               아바투르 유저인데, 하나 건의합니다.   \n",
       "1      1  4567016696     네이팜데쓰          매칭 시스템, 아무리 생각해도 문제가 많습니다   \n",
       "2      2  4567016695     souse                    ㅈ같은 매칭좀 어캐좀 해봐요   \n",
       "3      3  4567026707      Best                          아나 스킨관련..   \n",
       "4      4  4567036673        세월  5인팟 + 승률50%집착매칭 + 밸런스 파괴 = 빠대무간지옥   \n",
       "\n",
       "                                            contents        new_datetime  \n",
       "0  [아바투르 유저인데, 하나 건의합니다.새로 생긴 하나무라 맵...뭐 이것도 맵 자체... 2017-05-06 05:21:00  \n",
       "1  [매칭좀 제대로 해주세요.9연패가 말이 되는 처사입니까 며칠전에 16연승했다고 벌을... 2018-09-08 16:53:00  \n",
       "2  [왜 내가 잘해도 ㅈ같이못하는 새키들때문에 게임을 져야하죠? 왜 심지어 못하는새키랑... 2018-09-08 16:22:00  \n",
       "3  [신 스킨 살무사 아나 수면총 색 고정말고.  스킨 색 대로 해주셧으면 좋겠습니다.... 2018-09-08 15:13:00  \n",
       "4  [승률 50% 만든다고 조합 !@내놓고5인팟은 여전히 솔팟 사이에서 개판치고다니고너... 2018-09-07 13:58:00  "
      ]
     },
     "execution_count": 10,
     "metadata": {},
     "output_type": "execute_result"
    }
   ],
   "source": [
    "df_battle.head()"
   ]
  },
  {
   "cell_type": "code",
   "execution_count": 11,
   "metadata": {
    "collapsed": true
   },
   "outputs": [],
   "source": [
    "df_battle['Year'] = df_battle['new_datetime'].dt.year\n",
    "df_battle['Month'] = df_battle['new_datetime'].dt.month\n",
    "df_battle['Day'] = df_battle['new_datetime'].dt.day"
   ]
  },
  {
   "cell_type": "markdown",
   "metadata": {},
   "source": [
    "### 중복 데이터, 잡음 데이터 삭제하기"
   ]
  },
  {
   "cell_type": "code",
   "execution_count": 12,
   "metadata": {
    "collapsed": true
   },
   "outputs": [],
   "source": [
    "# 글 완전 중복은 제거합니다\n",
    "\n",
    "df_battle['contents'].drop_duplicates(keep='first', inplace = True)"
   ]
  },
  {
   "cell_type": "code",
   "execution_count": 13,
   "metadata": {
    "collapsed": true
   },
   "outputs": [],
   "source": [
    "# 블리자드 사에서 올린 공지는 제외\n",
    "\n",
    "df_battle = df_battle[df_battle.user_id != \"Blizzard Entertainment\"]\n",
    "#df_battle = df_battle[df_battle.user_id != \"Heith\"]"
   ]
  },
  {
   "attachments": {},
   "cell_type": "markdown",
   "metadata": {},
   "source": [
    "### 글을 10개 이상 쓴 사람들\n",
    "\n",
    "요우몽\n",
    "Blizzard Entertainment\n",
    "피닭볶음밥\n",
    "내가다막아줄게\n",
    "카라딘\n",
    "세월\n",
    "geschichte\n",
    "XiaoLongBao\n",
    "건전한배틀태그\n",
    "우주\n",
    "FrozenSkull\n",
    "팬더\n",
    "Kealize\n",
    "겉절이한배틀태그\n",
    "재쭈닝\n",
    "Heith\n",
    "냉동바퀴벌레\n",
    "judgementday\n",
    "용삼\n",
    "화려한천사\n",
    "구리코\n",
    "Jolove\n",
    "보둑이\n",
    "\n",
    "Age\n",
    "나이즈린\n",
    "화이트메인\n",
    "EXtirpate\n",
    "즐겜남\n",
    "유저\n",
    "MagicPants\n",
    "서리자드\n",
    "꿈나무\n",
    "Vo1d\n",
    "혀두개\n",
    "미쳐부려\n",
    "에드워드툴레인\n",
    "Eva\n",
    "Milkshake\n",
    "XGazelleX\n",
    "김도형\n",
    "잡다마약\n",
    "MyLittlePonY\n",
    "llll\n",
    "JELAWAT\n",
    "Enharig\n",
    "안동의아들인수쿤\n",
    "땀미왕자\n",
    "NeverMor3\n",
    "시메트라\n",
    "Euterpe\n",
    "황동석\n",
    "오르타\n",
    "WooSi\n",
    "뭐하지\n",
    "MadScientist\n",
    "가루\n",
    "Nine\n",
    "한조\n",
    "naver\n",
    "\n",
    "콜드스틸\n",
    "llllllllllll\n",
    "Magnolia\n",
    "Quainance\n",
    "미친고양이\n",
    "내가니시다바리가\n",
    "tmxk\n",
    "로만\n",
    "세스롤린스\n",
    "세번째매듭\n",
    "아스테아\n",
    "RubyEye\n",
    "일호사사취팔취팔\n",
    "네목숨을아이어에\n",
    "도전자\n",
    "Gunfire\n",
    "폐드립\n",
    "영조\n",
    "감귤\n",
    "듕기\n",
    "콤프러스트\n",
    "푸른바람의빙하\n",
    "응안물\n",
    "KPJIN11\n",
    "nocturne\n",
    "BedGuy\n",
    "동백장군\n",
    "DdangC\n",
    "DwayneLee\n",
    "군주\n",
    "blueEdge\n",
    "ShipAquaLand\n",
    "ButterflyGdH\n",
    "씨봉아\n",
    "태김\n",
    "Arcane\n",
    "크림라떼\n",
    "Storybug\n",
    "NameLessKing\n",
    "노바만픽한다\n",
    "뿜빠\n",
    "서겸이\n",
    "파워디지몬\n",
    "이상주의\n",
    "HardJohnsons\n",
    "Kery\n",
    "Influ\n",
    "마지막교훈\n",
    "수전증있는\n",
    "ifwave\n",
    "광기의왕\n",
    "흑대물\n",
    "머냥\n",
    "계란쥐\n",
    "LeeEmmanuel\n",
    "널위한비장의한발\n",
    "Picachu\n",
    "하우디\n",
    "깐츄럴\n",
    "BINARY\n",
    "무시무시한발바닥\n",
    "등짝맨\n",
    "GOM\n",
    "xelnaga\n",
    "Sia\n",
    "Ana\n",
    "MGROL\n",
    "짐래이너\n",
    "WHXHW\n",
    "Gunbari\n",
    "Morpheus\n",
    "DarkKnight\n",
    "zinzer\n",
    "DarkHood\n",
    "촌놈포돌이\n",
    "SIGONGJOA\n",
    "무명\n",
    "Sangheon\n",
    "겐조\n",
    "꼬부기\n",
    "트레이서\n",
    "NoName\n",
    "김붉은\n",
    "aimer6189\n",
    "Decagontion\n",
    "노츠\n",
    "허생원\n",
    "엉큼한거북이\n",
    "\n",
    "\n",
    "개수작\n",
    "아바투르\n",
    "SaltyDog\n",
    "시간왜곡자\n",
    "jjung\n",
    "sexyAzmodan\n",
    "히오스젠더\n",
    "ShiKagiTsume\n",
    "브르릉땡\n",
    "Emitter\n",
    "나의냥이\n",
    "Froster\n",
    "satlanll\n",
    "Xpectation\n",
    "Renegade\n",
    "Maltiel\n",
    "ABCDD\n",
    "Periphery\n",
    "맞춘법을잘맞치자\n",
    "오창현\n",
    "커피한잔의여유\n",
    "SerLuna\n",
    "holden\n",
    "Momozo\n",
    "HunTer\n",
    "해태\n",
    "히데\n",
    "박진근\n",
    "Purinight\n",
    "alnemion\n",
    "탱커\n",
    "흑월\n",
    "막강한바지\n",
    "맛있는감귤\n",
    "DCCLXXVII\n",
    "플로베르\n",
    "auto\n",
    "광끼\n",
    "Alabester\n",
    "롤꺼져시공조아\n",
    "더불어뚝배기당\n",
    "시공교도소장\n",
    "부들부들\n",
    "Nsomething\n",
    "델타중대셔틀\n",
    "명사수가되고픈\n",
    "Rasputin\n",
    "베스트컨디션\n",
    "ThePsalmist\n",
    "촌동네이장님\n",
    "앙메르띠\n",
    "ECO\n",
    "무향후\n",
    "비전력이부조카당\n",
    "Ditto\n",
    "LEoN\n",
    "FrostyDog\n",
    "랑게르한스\n",
    "니시즈미미호\n",
    "Sinabeuro\n",
    "흐어엇\n",
    "초코바냥\n",
    "시공의빌런\n",
    "우주최강미남진호\n",
    "거대도끼\n",
    "MOM\n",
    "시마다리리\n",
    "C4car\n",
    "Jeminy\n",
    "이니이니\n",
    "ErrorSTR\n",
    "베개\n",
    "lalaaaa\n",
    "다비\n",
    "으사양반\n",
    "크로브\n",
    "투명화포션\n",
    "Hitomi\n",
    "Sombra\n",
    "김얍스\n",
    "AlanDabiri\n",
    "named\n",
    "Jay\n",
    "Tormento\n",
    "냥줍\n",
    "숨겨진트롤\n",
    "제라툴\n",
    "최순제\n",
    "jack\n",
    "송혜교\n",
    "Ha2Man\n",
    "savannah\n",
    "홍초두부\n",
    "고만하고자라\n",
    "lanna\n",
    "즐겜유저\n",
    "서울새\n",
    "Jeffery\n",
    "FullMoon\n",
    "Alternative\n",
    "eLKay\n",
    "Sun\n",
    "이리야아인츠베른\n",
    "자스루딘\n",
    "LotusLand\n",
    "블랙워치사령부\n",
    "blackbeer\n",
    "짐레이너\n",
    "존재감없는인간\n",
    "비둘기\n",
    "영상캘러리\n",
    "트럴츄럴\n",
    "Dustin\n",
    "NoGal\n",
    "치토게\n",
    "BritishTea\n",
    "dbcjf0505\n",
    "MiRiNe\n",
    "연고기\n",
    "memo\n",
    "사냥개\n",
    "aeolus\n",
    "Load\n",
    "냐아냐아\n",
    "테루야\n",
    "파이베리\n",
    "mayo\n",
    "적혈귀"
   ]
  },
  {
   "cell_type": "code",
   "execution_count": 23,
   "metadata": {
    "scrolled": false
   },
   "outputs": [
    {
     "name": "stdout",
     "output_type": "stream",
     "text": [
      "      index     link_id user_id                            title  \\\n",
      "7         7  4567006799     요우몽              망한맵들은 리메이크가 답이 아니다    \n",
      "29       29  4566996758     요우몽                  블자 앞을 직시를 못하는듯    \n",
      "32       32  4566986763     요우몽     티란데 파수 너프했다길래 메인힐러급힐나올줄알았는데    \n",
      "50       50  4566976695     요우몽                   매칭오류 수정할생각이 없나   \n",
      "51       51  4566996700     요우몽                 시마다 가문은 너프를 포기함?   \n",
      "69       69  4567006743     요우몽               제발 전문가는 전문가끼리 매칭시켜   \n",
      "72       72  4567006732     요우몽               묶음 상품 스킨들 가격좀 낮추죠    \n",
      "81       81  4566596848     요우몽                       무라딘 딜특 너프좀   \n",
      "85       85  4566976655     요우몽                    알렉 생명결속은 필너프    \n",
      "88       88  4566976682     요우몽                         너프참 안하네    \n",
      "93       93  4566986663     요우몽                 겐지 질풍참 튕겨내기 너프필수   \n",
      "102     102  4566956656     요우몽               무라딘을 너프해야하는 간단한이유    \n",
      "108     108  4566896679     요우몽                화메 궁쿨 책정부터 잘못되어있음   \n",
      "111     111  4566896677     요우몽     암살자하고 전문가 같은 수준으로 보고 매칭하지말자    \n",
      "114     114  4566866685     요우몽                  화메 말퓨 이둘은 필너프좀    \n",
      "120     120  4566896654     요우몽             한조 7렙특 타고난 실력 너프하시죠    \n",
      "131     131  4566847176     요우몽    진짜 죽음의 광산 리메이크 한번 더하거나 그냥 삭제좀   \n",
      "135     135  4566847177     요우몽                 히오스 mvp시스템에 관하여    \n",
      "148     148  4566857122     요우몽                   그래서 케리건은 언제상향?   \n",
      "154     154  4566847152     요우몽                  신캐버프 너무 뽕빨오지네요    \n",
      "193     193  4566827025     요우몽                       히오스 일하긴하네    \n",
      "210     210  4566846986     요우몽          겐지튕겨내기도 바리안 무기막기처럼 고치삼    \n",
      "211     211  4566826993     요우몽            요즘 불쾌하다고 너프때리는게 메타라메요   \n",
      "239     239  4566836963     요우몽          디아블로 악마 쪽 영웅은 아예 버려졌나보네   \n",
      "241     241  4566836783     요우몽                        밴시 너프언제함?   \n",
      "260     260  4566856851     요우몽            크로미가하고 해머는 불쾌해서 너프했죠?   \n",
      "297     297  4566856735     요우몽                   씹지는 너프가 답이아니다    \n",
      "322     322  4566816758     요우몽                 이맵 똥밸런스도 똥밸런스지만    \n",
      "361     361  4566806676     요우몽            블코 운영진은 진짜 양심이란게 있으면    \n",
      "362     362  4566796664     요우몽            블코 운영진은 진짜 양심이란게 있으면    \n",
      "...     ...         ...     ...                              ...   \n",
      "2040   2041  4565773772     요우몽            디아블로도 전설아나운서 하나만들어주삼    \n",
      "2047   2048  4565772838     요우몽                      티란데 핵빼미 너프좀   \n",
      "2066   2067  4565802106     요우몽     그메 겐지 한조 마이에브 이 4놈은 무조건 필너프좀   \n",
      "2094   2095  4565776869     요우몽                 마이에브 겐지 한조도 ㅈ같지만   \n",
      "2114   2115  4565776870     요우몽                     발리라는 왜 너프안함?   \n",
      "2116   2117  4565771277     요우몽                      카라짐 역할군 바꾸죠   \n",
      "2123   2124  4565789647     요우몽         마이에브 너프좀 먹였다고 이게 다라고생각함?   \n",
      "2190   2191  4565737836     요우몽                   정크렛 궁강 둘다 너프하죠   \n",
      "2200   2201  4565727701     요우몽  솔직히 말하세요 말티엘 출시하기싫은거 억지로 내놓은거죠?   \n",
      "2215   2216  4565727479     요우몽             말티엘 어디가 강력하다고 또 너프임?   \n",
      "2229   2230  4565747596     요우몽      마이애브로 겐지가 아주 조금 힘들어진건 인정할게    \n",
      "2257   2258  4565756696     요우몽            한조나 마이애브나 무슨생각으로 만든거지   \n",
      "2267   2268  4565756628     요우몽                         거강너프좀하시죠   \n",
      "2278   2279  4565737207     요우몽                    스투코프 완전 ㅈ같네..   \n",
      "2293   2294  4565716791     요우몽                       한조 너프좀 더해라   \n",
      "2303   2304  4565716560     요우몽                   크로미 다음에봐요 특 너프   \n",
      "2323   2324  4565708170     요우몽                    노잼하트 노잼탄두 삭제좀   \n",
      "2374   2375  4565707685     요우몽         이겜은 일단 매칭시스템중 가장 고질적인문제가   \n",
      "2420   2421  4565687290     요우몽            하스스톤 얼왕기 스킨도 히오스에 추가좀   \n",
      "2426   2427  4565677390     요우몽                  파편 중복되는 얻는량 조정좀   \n",
      "2438   2439  4565677273     요우몽                 겐지도 겐지지만 한조도 너프좀   \n",
      "2533   2534  4565626186     요우몽               은신패치 ㄹㅇ 생각없이 한거티나네   \n",
      "2560   2561  4565635870     요우몽    크로미가 아무리 피약하고 카운터가 많다고 해도 그렇지   \n",
      "2584   2585  4565615130     요우몽                       알라 반격쿨 너프좀   \n",
      "2597   2598  4565634668     요우몽              한조 4렙특중 비영웅 추뎀특 너프좀   \n",
      "2650   2651  4565634029     요우몽                    정원 공포맵 공포 너프좀   \n",
      "2670   2671  4565613951     요우몽                        발리라 양심어디?   \n",
      "2713   2714  4565613810     요우몽                          바리안 조정좀   \n",
      "2728   2729  4565603338     요우몽                         빠대 매칭무엇?   \n",
      "2789   2790  4565598183     요우몽     이번 은신 패치 최고 수혜자 노바 같은데 기분탓인가   \n",
      "\n",
      "                                               contents        new_datetime  \\\n",
      "7     [삭제가 답이지 죽광도 리메이크해도 망맵 하나무라도 리메이크해도 망맵블랙하트는 예전... 2018-09-06 16:47:00   \n",
      "29    [영리에서는 잘안쓰지만 빠대에서 멀쩡하게 잘쓰는 티란데 리메이크라는 명목하에 칼질 ... 2018-09-06 13:22:00   \n",
      "32    [ㅋㅋㅋㅋ 메인힐러는 무슨 그냥 힐러계의 콩라인으로 영원히 가겠네 진짜 메인힐도 안... 2018-09-06 07:09:00   \n",
      "50    [2인 파티로 매칭하다보면 꼭 한판은 내가 매칭한 캐릭말고 해본적도 없는 캐릭나와서... 2018-09-03 03:40:00   \n",
      "51    [형제가쌍으로 필밴 필픽급 성능을가져도 너프안하고 냅두는거보면 진짜 이새끼둘은 아버... 2018-09-03 12:30:00   \n",
      "69                      [아니 머키는 도대체 어떻게 해야 암살자랑 같은취급함?] 2018-09-04 17:54:00   \n",
      "72    [뭔 스킨 3개 990시공석 스킨 5개 1650시공석이나 받아쳐먹는거임?스킨1개당 ... 2018-09-04 08:43:00   \n",
      "81    [전사라면서 암살자보다 딜더 잘 넣거나 최소 비슷하게 넣을수있는데 다른 딜있는 전사... 2018-07-13 09:43:00   \n",
      "85    [쿨 1분인데 성능 선치 보다 배는 좋은 쿨 최소 선치급으로 맞추자 제발, ㅇㅈ선딜... 2018-09-01 03:43:00   \n",
      "88    [겐지,레이너,피닉스,마이에브는 고작 그정도 너프하고 했다고 자랑스럽게 냅두고 있고... 2018-09-02 07:34:00   \n",
      "93    [지가뭔데 남들은 특성으로 가져야할 쿨초기화 무적을 왜 그냥 가지고있음?특별대우 1... 2018-09-01 04:34:00   \n",
      "102   [딜특있는 탱커나 딜탱들을보면 하나같이 뚜벅이 이다아르타니스,소냐,자리야 딜탱이지만... 2018-08-31 05:13:00   \n",
      "108   [성스러운징벌이 100초 붉은가호가 1분인데 성능 따져봐도 당연 붉은가호가 100초... 2018-08-30 04:12:00   \n",
      "111            [아니 머키하고 암살자하고 같은 동급으로 보고 매칭하는 건 뭐하자는거임] 2018-08-30 03:48:00   \n",
      "114   [재생만걸어줘도 힐다되는 사기캐 한놈q만걸어줘도 힐다되는 사기캐 둘다 궁마저 개좋음... 2018-08-29 05:19:00   \n",
      "120   [뭔 평타 한대 맞췄다고 2.5초나 W쿨감함? W평 Q충전평 하면 가뜩이나 그다지 ... 2018-08-28 09:23:00   \n",
      "131   [맵이름은 죽음의 광산인데 정작 현실은 광산은 무슨 서로 호박캠프 누가 먹느냐 눈치... 2018-08-26 19:06:00   \n",
      "135   [그냥 데스 수 적게하면 앵간하면 받는게 mvp시스템가끔씩은 내가 mvp받을것도아닌... 2018-08-26 19:37:00   \n",
      "148   [12등급 사이오닉이라면서 현실은 콤보사이클 한번돌리면 마나 3분의 1넘게 동나서 ... 2018-08-24 17:23:00   \n",
      "154   [화메 이거는 진짜 모랄이 안보이는 링거를 5명전원에게 부여하고 다니는거나 마찬가지... 2018-08-25 05:35:00   \n",
      "193   [하나무라 리메이크 신캐 메피스토 기대는하긴하는데 제발 죽광리메이크꼴나지말고 메피스... 2018-08-20 17:03:00   \n",
      "210   [완벽한응수는 쿨감에서 바리안 방패의 벽처럼 무적으로 바꿔야지 뭔 생존기 덕지덕지 ... 2018-08-18 17:32:00   \n",
      "211   [아나도 수면 힐밴 넘나 불쾌하고 불편하니까 너프해야되네 그럼, 전 크아미 건물뎀 ... 2018-08-18 14:16:00   \n",
      "239   [7명중 이제 2명 근대 그 2명도 나온지 한참됨 천사는 5명중 3명이나 나왔는데 ... 2018-08-16 08:58:00   \n",
      "241   [난 이 망할 소환수가 소환수가아니라 원딜보다 더쌔다고 생각하는데 나만그렇게 생각하... 2018-08-11 13:53:00   \n",
      "260   [그럼 겐지나 무라딘같은 캐릭은 불쾌가아니라 스트레스의 근원이니까 삭제가 정답인데 ... 2018-08-14 08:19:00   \n",
      "297   [무적+데미지 주는 씹사기스킬 튕겨내기거리너프먹어도 여전히 길고 날먹의 상징 질풍참... 2018-08-10 08:50:00   \n",
      "322   [똥맵들 언제 삭제함 ㅈ탄두 ,혐락시스 ,블랙하트 똥만 ,죽음의 농장 기타 등등 똥... 2018-08-06 10:58:00   \n",
      "361   [자기들이 유령직원 취급받으면 열받아서라도 제재 똑바로 먹일려고하는게 우째 욕을 먹... 2018-08-04 13:33:00   \n",
      "362   [자기들이 유령직원 취급받으면 열받아서라도 제재 똑바로 먹일려고하는게 우째 욕을 먹... 2018-08-04 13:11:00   \n",
      "...                                                 ...                 ...   \n",
      "2040  [워크 : 빛나래 머키 스타 : 아바투르 알라라크오버워치 : 정크렛시공의 폭풍 : ... 2018-02-23 18:55:00   \n",
      "2047  [특성찍으면 쿨감에 맞으면맞을수록 기하급수적으로 늘어나는 데미지를 왜 내버려둠? 진... 2018-02-22 12:58:00   \n",
      "2066  [이 4놈 밴율부터가 장난아니고 성능마저 좋은데 너프할생각이없으시네, 겐지하고 한조... 2018-02-21 06:37:00   \n",
      "2094  [발리라 얘는 왜 너프안먹임? ㅅㅂ뭔 풀피에서 순식간에 피가 훅달아버리던데? 그리고... 2018-02-14 07:00:00   \n",
      "2114  [은신 자유자재에 궁으로 빠져나가기도쉬워 데미지도 안아픈것도아니고 침묵이랑 순간이동... 2018-02-14 07:02:00   \n",
      "2116          [바리안처럼 다중역할로 바꿔주삼 난 이 놈이 암살자인지 지원가인지 헷갈림] 2018-02-19 09:54:00   \n",
      "2123  [방증 삭제 체력버프 나이샤 너프해도 q 쿨 감소수치에 추노 속박 도주 다되고 감시... 2018-02-18 04:17:00   \n",
      "2190  [특히 자폭궁은 70초감소라서 30초처럼 보이지만 사실상 터지고 돌아오고 제단으로 ... 2018-02-13 05:59:00   \n",
      "2200  [1.75퍼로까이고 영혼회오리 방증도 삭제하고 무형의존재 30으로감소 지혜의장막50... 2018-02-11 14:41:00   \n",
      "2215  [뽕티엘이 강력한거겠지 말티엘 어디가 강력하다고 징표 너프 회오리 너프 무형의 존재... 2018-02-09 13:28:00   \n",
      "2229  [근대 말이야 겐지는 조금 힘들어졌지 뚜벅이들은 그냥 헬존인데 어떻게생각함?근접암살... 2018-02-10 03:43:00   \n",
      "2257  [한놈은 원거리에서 쏴재끼면서 딜캠프라인정리 못하는게없는놈 한놈은 방증에 괴랄한 스... 2018-02-08 04:08:00   \n",
      "2267  [방감에 공100퍼증가에 재기의바람에다가 방패의벽이면 죽이고싶어도 안죽음 ..오히려... 2018-02-07 02:51:00   \n",
      "2278           [힐량이 낮기를하나 팔이라는 하드cc도있고 궁도 나쁘지않고 %##!@%] 2018-02-06 01:45:00   \n",
      "2293  [기본사거리부터 제정신나갔는데 캠프 라인정리 데미지 뭐 부족한것도없고 오버워치 고인... 2018-02-02 08:35:00   \n",
      "2303  [솔직히 멀리서 쏴재끼는데 앞에서 나대다가 물려 뒤지는게 이상한거고 맞아도 귀환 되... 2018-01-31 04:00:00   \n",
      "2323  [진심 겜을 개 노잼으로 만드는 원흉인 맵 삭제빨리좀, 식물나오는 맵은 어두워서 못... 2018-01-28 07:10:00   \n",
      "2374  [브루저하고 전사를 같은취급하는게 문제임아니 케리건 아눕같은애가 브루저지 전사냐? ... 2018-01-23 14:34:00   \n",
      "2420  [핏빛약탈자 굴단환영자객 발리라죽음추적자 렉사르칠흑의 기사단장 우서스컬지군주 가로쉬... 2018-01-18 05:01:00   \n",
      "2426  [희귀등급은 중복자주떠서 모르겠는데 특급이나 전설중복뜨면 완전 열제대로 뻗쳐오르는데... 2018-01-17 10:37:00   \n",
      "2438  [폭풍활은 멀리서 계속 짤짤이 넣는데 그게 한대한대 아프고 갈래화살은 관련특가면 캠... 2018-01-16 02:21:00   \n",
      "2533  [발리라 침묵2.75초하자고한새끼 누구냐 체력도 아눕보다 좋은주제에 궁도 저지불가에... 2018-01-06 14:42:00   \n",
      "2560  [다음에 봐요로 심심하면 도망치는 크로미 잡을 길이 cc말고 없는데 초합 창렬 빠대... 2018-01-05 04:02:00   \n",
      "2584  [무적 상태 데미지 가학성때문에 많이 아픔 근대 쿨마저 30초 성능대비 쿨이 너무짧은데] 2018-01-03 07:14:00   \n",
      "2597  [특히 폭풍활 특 광역피해에 추가피해 100퍼니 라인전을 할수가없을정도인데 언제 너... 2018-01-02 02:22:00   \n",
      "2650  [변이쿨 짧고 평뎀도 꽤 아픈축 거기에다가 용기사는 일일이 맞아주면서 요새때려야하는... 2017-12-27 03:36:00   \n",
      "2670  [암살자인데 스텟도 아눕보다 높고 침묵지속시간도 불협화음 찍은 알라 침묵2.25초인... 2017-12-25 03:45:00   \n",
      "2713  [10렙전을 버프먹이고 10렙후를 너프좀먹이던가 10렙이후 바리안때문에 겜터지는게 ... 2017-12-23 08:31:00   \n",
      "2728  [상대는 메인딜가능한 타커에 힐량 높은 스툽알렉 전살자지만 소냐있는데 이쪽은 아나 ... 2017-12-22 02:15:00   \n",
      "2789  [가뜩이나 멀리서 깨작깨작 쏘는 것도 짜증나 죽겠는데 분신이 2개씩 나오고 분신 딜... 2017-12-16 05:16:00   \n",
      "\n",
      "      Year  Month  Day  \n",
      "7     2018      9    6  \n",
      "29    2018      9    6  \n",
      "32    2018      9    6  \n",
      "50    2018      9    3  \n",
      "51    2018      9    3  \n",
      "69    2018      9    4  \n",
      "72    2018      9    4  \n",
      "81    2018      7   13  \n",
      "85    2018      9    1  \n",
      "88    2018      9    2  \n",
      "93    2018      9    1  \n",
      "102   2018      8   31  \n",
      "108   2018      8   30  \n",
      "111   2018      8   30  \n",
      "114   2018      8   29  \n",
      "120   2018      8   28  \n",
      "131   2018      8   26  \n",
      "135   2018      8   26  \n",
      "148   2018      8   24  \n",
      "154   2018      8   25  \n",
      "193   2018      8   20  \n",
      "210   2018      8   18  \n",
      "211   2018      8   18  \n",
      "239   2018      8   16  \n",
      "241   2018      8   11  \n",
      "260   2018      8   14  \n",
      "297   2018      8   10  \n",
      "322   2018      8    6  \n",
      "361   2018      8    4  \n",
      "362   2018      8    4  \n",
      "...    ...    ...  ...  \n",
      "2040  2018      2   23  \n",
      "2047  2018      2   22  \n",
      "2066  2018      2   21  \n",
      "2094  2018      2   14  \n",
      "2114  2018      2   14  \n",
      "2116  2018      2   19  \n",
      "2123  2018      2   18  \n",
      "2190  2018      2   13  \n",
      "2200  2018      2   11  \n",
      "2215  2018      2    9  \n",
      "2229  2018      2   10  \n",
      "2257  2018      2    8  \n",
      "2267  2018      2    7  \n",
      "2278  2018      2    6  \n",
      "2293  2018      2    2  \n",
      "2303  2018      1   31  \n",
      "2323  2018      1   28  \n",
      "2374  2018      1   23  \n",
      "2420  2018      1   18  \n",
      "2426  2018      1   17  \n",
      "2438  2018      1   16  \n",
      "2533  2018      1    6  \n",
      "2560  2018      1    5  \n",
      "2584  2018      1    3  \n",
      "2597  2018      1    2  \n",
      "2650  2017     12   27  \n",
      "2670  2017     12   25  \n",
      "2713  2017     12   23  \n",
      "2728  2017     12   22  \n",
      "2789  2017     12   16  \n",
      "\n",
      "[176 rows x 9 columns]\n"
     ]
    }
   ],
   "source": [
    "pprint(df_battle[df_battle['user_id']==\"요우몽\"])"
   ]
  },
  {
   "cell_type": "code",
   "execution_count": null,
   "metadata": {
    "collapsed": true
   },
   "outputs": [],
   "source": [
    "df_"
   ]
  },
  {
   "cell_type": "code",
   "execution_count": 25,
   "metadata": {},
   "outputs": [
    {
     "data": {
      "text/plain": [
       "index                                                         362\n",
       "link_id                                                4566796664\n",
       "user_id                                                       요우몽\n",
       "title                                       블코 운영진은 진짜 양심이란게 있으면 \n",
       "contents        [자기들이 유령직원 취급받으면 열받아서라도 제재 똑바로 먹일려고하는게 우째 욕을 먹...\n",
       "new_datetime                                  2018-08-04 13:11:00\n",
       "Year                                                         2018\n",
       "Month                                                           8\n",
       "Day                                                             4\n",
       "Name: 362, dtype: object"
      ]
     },
     "execution_count": 25,
     "metadata": {},
     "output_type": "execute_result"
    }
   ],
   "source": [
    "df_battle.loc[362]"
   ]
  },
  {
   "cell_type": "code",
   "execution_count": 18,
   "metadata": {},
   "outputs": [],
   "source": [
    "## 위에서 글을 많이 쓴 사람들 중에서 시간차가 거의 나지 않고 + 거의 같은 내용의 글 인덱스를 찾습니다.\n",
    "# 위에서 나온 결과를 기준으로 판단하여 중복 행 몇개를 삭제한다. - 뒷 인덱스를 삭제합니다. 새로 쓴 글이 의사를 더 잘 반영한다고 기준을 둠\n",
    "\n",
    "df_battle.drop([109],inplace=True)\n",
    "df_battle.drop([119],inplace=True)\n",
    "df_battle.drop([189],inplace=True)\n",
    "df_battle.drop([199],inplace=True)\n",
    "df_battle.drop([380],inplace=True)\n",
    "df_battle.drop([507],inplace=True)\n",
    "df_battle.drop([602],inplace=True)\n",
    "df_battle.drop([895],inplace=True)\n",
    "df_battle.drop([2506],inplace=True)\n",
    "df_battle.drop([2515],inplace=True)\n",
    "df_battle.drop([2512],inplace=True)\n",
    "df_battle.drop([2535],inplace=True)\n",
    "df_battle.drop([3951],inplace=True)\n",
    "df_battle.drop([5535],inplace=True)\n",
    "df_battle.drop([362],inplace=True)\n"
   ]
  },
  {
   "cell_type": "code",
   "execution_count": 27,
   "metadata": {},
   "outputs": [],
   "source": [
    "df_battle.drop(df_battle[df_battle[\"link_id\"]==4566530262].index,inplace=True)\n",
    "df_battle.drop(df_battle[df_battle[\"link_id\"]==4566406657].index,inplace=True)\n",
    "df_battle.drop(df_battle[df_battle[\"link_id\"]==4566366889].index,inplace=True)\n",
    "df_battle.drop(df_battle[df_battle[\"link_id\"]==4566556860].index,inplace=True)"
   ]
  },
  {
   "cell_type": "code",
   "execution_count": 31,
   "metadata": {},
   "outputs": [],
   "source": [
    "removed_link_id=[4566306595,4565855572,4565886581,4565886580,4565886577,4565886576,4565866348,4565866343,\n",
    "                 4565882257,4565882256,4565855178,4565855175,4565882252,4565866331,4565873385,4565855170,\n",
    "                 4565871395,4565798769,4565788544,4565798765,4565779302, 4565788450,4565779298,4565677789,\n",
    "                 4565677781,4565697504,4565707382,4565677538,4565687363,4565697286,4565638667,4565638659,\n",
    "                 4565647897,4565637153,4565606412,4565637135,4565626030,4565635887,4565605710,4565604682,\n",
    "                 4565615186,4565624558,4565615182,4565604624,4565624494,4565604623,4565624491,4565449713,\n",
    "                 4565430841,4565430831,4565430829,4565410304,4565430825,4565430824,4565410301,4565350936,\n",
    "                 4565371811,4565340605,4565310544,4565299773,4565310538,4565310537,4565281378,4564645416,\n",
    "                 4564622774,4564613126,4564632924,4564622723,4564629012,4564515844,4564484303,4564484052]\n",
    "\n"
   ]
  },
  {
   "cell_type": "code",
   "execution_count": 34,
   "metadata": {},
   "outputs": [
    {
     "data": {
      "text/plain": [
       "72"
      ]
     },
     "execution_count": 34,
     "metadata": {},
     "output_type": "execute_result"
    }
   ],
   "source": [
    "len(removed_link_id)"
   ]
  },
  {
   "cell_type": "code",
   "execution_count": 37,
   "metadata": {},
   "outputs": [],
   "source": [
    "for i in range(72):\n",
    "    df_battle.drop(df_battle[df_battle.link_id==removed_link_id[i]].index, inplace=True)"
   ]
  },
  {
   "cell_type": "code",
   "execution_count": 38,
   "metadata": {
    "collapsed": true
   },
   "outputs": [],
   "source": [
    "# 인덱스 다시 리셋\n",
    "df_battle.reset_index(inplace=True)"
   ]
  },
  {
   "cell_type": "code",
   "execution_count": 39,
   "metadata": {
    "collapsed": true
   },
   "outputs": [],
   "source": [
    "## 내용이 너무 짧다. 제목과 내용을 합칩니다.\n",
    "\n",
    "# 시작 컬럼 포지션을 잡기\n",
    "source_col_loc = df_battle.columns.get_loc('title') \n",
    "\n",
    "# 컬럼 기준으로 제목 + 내용 합치기\n",
    "df_battle['contents_all'] = df_battle.iloc[:,source_col_loc:source_col_loc+2].apply(lambda x: \",\".join(x.astype(str)), axis=1)"
   ]
  },
  {
   "cell_type": "code",
   "execution_count": 40,
   "metadata": {
    "collapsed": true
   },
   "outputs": [],
   "source": [
    "# 가공이 끝나는 열들은 다 드랍합니다. (유저 아이디는 보안문제로 더이상 사용하지 않습니다.)\n",
    "\n",
    "df_battle.drop('user_id',axis=1, inplace=True)\n",
    "df_battle.drop('title',axis=1, inplace=True)\n",
    "df_battle.drop('contents',axis=1, inplace=True)\n",
    "df_battle.drop('level_0',axis=1, inplace=True)\n",
    "df_battle.drop('index',axis=1, inplace=True)"
   ]
  },
  {
   "cell_type": "code",
   "execution_count": 41,
   "metadata": {},
   "outputs": [],
   "source": [
    "df_battle = df_battle[['link_id','new_datetime','contents_all','Year','Month','Day']]"
   ]
  },
  {
   "cell_type": "code",
   "execution_count": 42,
   "metadata": {
    "scrolled": true
   },
   "outputs": [
    {
     "data": {
      "text/html": [
       "<div>\n",
       "<style>\n",
       "    .dataframe thead tr:only-child th {\n",
       "        text-align: right;\n",
       "    }\n",
       "\n",
       "    .dataframe thead th {\n",
       "        text-align: left;\n",
       "    }\n",
       "\n",
       "    .dataframe tbody tr th {\n",
       "        vertical-align: top;\n",
       "    }\n",
       "</style>\n",
       "<table border=\"1\" class=\"dataframe\">\n",
       "  <thead>\n",
       "    <tr style=\"text-align: right;\">\n",
       "      <th></th>\n",
       "      <th>link_id</th>\n",
       "      <th>new_datetime</th>\n",
       "      <th>contents_all</th>\n",
       "      <th>Year</th>\n",
       "      <th>Month</th>\n",
       "      <th>Day</th>\n",
       "    </tr>\n",
       "  </thead>\n",
       "  <tbody>\n",
       "    <tr>\n",
       "      <th>0</th>\n",
       "      <td>4567016695</td>\n",
       "      <td>2018-09-08 16:22:00</td>\n",
       "      <td>ㅈ같은 매칭좀 어캐좀 해봐요,[왜 내가 잘해도 ㅈ같이못하는 새키들때문에 게임을 져야...</td>\n",
       "      <td>2018</td>\n",
       "      <td>9</td>\n",
       "      <td>8</td>\n",
       "    </tr>\n",
       "    <tr>\n",
       "      <th>1</th>\n",
       "      <td>4567026707</td>\n",
       "      <td>2018-09-08 15:13:00</td>\n",
       "      <td>아나 스킨관련..,[신 스킨 살무사 아나 수면총 색 고정말고.  스킨 색 대로 해...</td>\n",
       "      <td>2018</td>\n",
       "      <td>9</td>\n",
       "      <td>8</td>\n",
       "    </tr>\n",
       "    <tr>\n",
       "      <th>2</th>\n",
       "      <td>4567036673</td>\n",
       "      <td>2018-09-07 13:58:00</td>\n",
       "      <td>5인팟 + 승률50%집착매칭 + 밸런스 파괴 = 빠대무간지옥,[승률 50% 만든다고...</td>\n",
       "      <td>2018</td>\n",
       "      <td>9</td>\n",
       "      <td>7</td>\n",
       "    </tr>\n",
       "    <tr>\n",
       "      <th>3</th>\n",
       "      <td>4567026700</td>\n",
       "      <td>2018-09-08 09:06:00</td>\n",
       "      <td>영웅리그 매칭에서 대만인들,[대만인 새끼들좀 매칭 안되게 해라.말도 안통하는 머저리...</td>\n",
       "      <td>2018</td>\n",
       "      <td>9</td>\n",
       "      <td>8</td>\n",
       "    </tr>\n",
       "    <tr>\n",
       "      <th>4</th>\n",
       "      <td>4567046681</td>\n",
       "      <td>2018-09-08 07:09:00</td>\n",
       "      <td>신영웅 그만만들고 기존영웅 손좀보시죠^^,[신영웅 이제 그만좀만드시고요. 기존영웅 ...</td>\n",
       "      <td>2018</td>\n",
       "      <td>9</td>\n",
       "      <td>8</td>\n",
       "    </tr>\n",
       "  </tbody>\n",
       "</table>\n",
       "</div>"
      ],
      "text/plain": [
       "      link_id        new_datetime  \\\n",
       "0  4567016695 2018-09-08 16:22:00   \n",
       "1  4567026707 2018-09-08 15:13:00   \n",
       "2  4567036673 2018-09-07 13:58:00   \n",
       "3  4567026700 2018-09-08 09:06:00   \n",
       "4  4567046681 2018-09-08 07:09:00   \n",
       "\n",
       "                                        contents_all  Year  Month  Day  \n",
       "0  ㅈ같은 매칭좀 어캐좀 해봐요,[왜 내가 잘해도 ㅈ같이못하는 새키들때문에 게임을 져야...  2018      9    8  \n",
       "1   아나 스킨관련..,[신 스킨 살무사 아나 수면총 색 고정말고.  스킨 색 대로 해...  2018      9    8  \n",
       "2  5인팟 + 승률50%집착매칭 + 밸런스 파괴 = 빠대무간지옥,[승률 50% 만든다고...  2018      9    7  \n",
       "3  영웅리그 매칭에서 대만인들,[대만인 새끼들좀 매칭 안되게 해라.말도 안통하는 머저리...  2018      9    8  \n",
       "4  신영웅 그만만들고 기존영웅 손좀보시죠^^,[신영웅 이제 그만좀만드시고요. 기존영웅 ...  2018      9    8  "
      ]
     },
     "execution_count": 42,
     "metadata": {},
     "output_type": "execute_result"
    }
   ],
   "source": [
    "df_battle.head()"
   ]
  },
  {
   "cell_type": "markdown",
   "metadata": {},
   "source": [
    "### 특수문자 전처리"
   ]
  },
  {
   "cell_type": "code",
   "execution_count": 43,
   "metadata": {
    "collapsed": true
   },
   "outputs": [],
   "source": [
    "# 정규 표현식\n",
    "p_http = re.compile(\"(((http(s?))\\:\\/\\/)?)([0-9a-zA-Z\\-]+\\.)+[a-zA-Z]{2,6}(\\:[0-9]+)?(\\S*)\")\n",
    "p_char = re.compile(\"[^가-힣ㄱ-ㅎㅏ-ㅣa-zA-Z0-9ㅣ ]\")\n",
    "p_tag = re.compile(\"<.+>\")\n",
    "p_brac = re.compile(\"[[\\]]\")\n",
    "p_hangul = re.compile('[^ ㄱ-ㅣ가-힣]+') "
   ]
  },
  {
   "cell_type": "code",
   "execution_count": 44,
   "metadata": {
    "collapsed": true
   },
   "outputs": [],
   "source": [
    "# 정규 표현식 함수화\n",
    "\n",
    "def patternRemover(doc):\n",
    "    doc = p_http.sub(' ', doc)\n",
    "    doc = p_char.sub(' ', doc)\n",
    "    doc = p_tag.sub(' ', doc)\n",
    "    doc = p_brac.sub(' ', doc)\n",
    "    doc = p_hangul.sub(' ', doc)\n",
    "    return doc"
   ]
  },
  {
   "cell_type": "code",
   "execution_count": 45,
   "metadata": {},
   "outputs": [],
   "source": [
    "# 배틀넷 - 특수문자 전처리\n",
    "\n",
    "for i in range(len(df_battle[\"contents_all\"])):\n",
    "    df_battle.iloc[i,2] = patternRemover(df_battle.iloc[i,2])"
   ]
  },
  {
   "cell_type": "code",
   "execution_count": 46,
   "metadata": {},
   "outputs": [
    {
     "data": {
      "text/plain": [
       "5550"
      ]
     },
     "execution_count": 46,
     "metadata": {},
     "output_type": "execute_result"
    }
   ],
   "source": [
    "len(df_battle)\n",
    "\n",
    "# 5700 -> 5550"
   ]
  },
  {
   "cell_type": "code",
   "execution_count": 47,
   "metadata": {
    "collapsed": true
   },
   "outputs": [],
   "source": [
    "df_battle.to_csv(\"pre_battleData.csv\", encoding='utf-8')"
   ]
  }
 ],
 "metadata": {
  "kernelspec": {
   "display_name": "Python [Root]",
   "language": "python",
   "name": "Python [Root]"
  },
  "language_info": {
   "codemirror_mode": {
    "name": "ipython",
    "version": 3
   },
   "file_extension": ".py",
   "mimetype": "text/x-python",
   "name": "python",
   "nbconvert_exporter": "python",
   "pygments_lexer": "ipython3",
   "version": "3.5.3"
  }
 },
 "nbformat": 4,
 "nbformat_minor": 2
}
