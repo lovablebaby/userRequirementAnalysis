{
 "cells": [
  {
   "cell_type": "code",
   "execution_count": null,
   "metadata": {
    "collapsed": true
   },
   "outputs": [],
   "source": [
    "import requests\n",
    "import re\n",
    "import time\n",
    "import csv\n",
    "from bs4 import BeautifulSoup\n",
    "from urllib.request import urlopen\n",
    "import datetime\n",
    "import pandas as pd"
   ]
  },
  {
   "cell_type": "code",
   "execution_count": null,
   "metadata": {
    "collapsed": true
   },
   "outputs": [],
   "source": [
    "df = pd.read_csv(\"invenLinkList.txt\",header=None)"
   ]
  },
  {
   "cell_type": "code",
   "execution_count": null,
   "metadata": {
    "collapsed": true
   },
   "outputs": [],
   "source": [
    "df.tail()"
   ]
  },
  {
   "cell_type": "code",
   "execution_count": null,
   "metadata": {
    "collapsed": true
   },
   "outputs": [],
   "source": [
    "link_list = df.iloc[:,0].tolist()"
   ]
  },
  {
   "cell_type": "code",
   "execution_count": null,
   "metadata": {
    "collapsed": true
   },
   "outputs": [],
   "source": [
    "start = time.time()\n",
    "\n",
    "f = open('invenData_.csv','w',encoding='utf-8',newline=\"\")\n",
    "wr = csv.writer(f)\n",
    "\n",
    "for i in range():\n",
    "    # 파싱\n",
    "    html = urlopen(link_list[i])\n",
    "    soup = BeautifulSoup(html, 'html.parser',from_encoding='utf-8')\n",
    "      \n",
    "        \n",
    "    \n",
    "    date = soup.find(\"div\",{\"class\" : \"articleDate\"})\n",
    "    \n",
    "    # 삭제된 글 때문에 date여부로 먼저 가름\n",
    "    if date == None:\n",
    "        pass\n",
    "    else:\n",
    "        \n",
    "        # 날짜 가져오기\n",
    "        dates = date.get_text()\n",
    "        \n",
    "        # 글 번호 가져오기\n",
    "        link_ids = str(link_list[i:i+1])[40:47]\n",
    "\n",
    "        # 제목 가져오기\n",
    "        titles = soup.find(\"div\",{\"class\":\"articleTitle\"}).get_text()\n",
    "        titles = titles.replace(\"\\n\",\"\")\n",
    "\n",
    "        # 내용 가져오기\n",
    "        contents = soup.find(\"div\",{\"id\" : \"powerbbsContent\"}).get_text()\n",
    "        contents = contents.replace(\"\\n\",\"\")\n",
    "\n",
    "        # 유저 아이디 갖고오기\n",
    "   #     user_ids = soup.find(\"div\",{\"class\":\"articleWriter\"}).get_text()\n",
    "    #    user_ids = user_ids[1:]\n",
    "    \n",
    "        time.sleep(2)\n",
    "    \n",
    "        wr.writerow([link_ids, dates, titles, contents])\n",
    "        if i % 100 == 0:\n",
    "            print(i,\"번째 글\", datetime.datetime.now())\n",
    "\n",
    "    \n",
    "f.close()\n",
    "\n",
    "end = time.time()\n",
    "print(end - start)"
   ]
  }
 ],
 "metadata": {
  "kernelspec": {
   "display_name": "Python [Root]",
   "language": "python",
   "name": "Python [Root]"
  },
  "language_info": {
   "codemirror_mode": {
    "name": "ipython",
    "version": 3
   },
   "file_extension": ".py",
   "mimetype": "text/x-python",
   "name": "python",
   "nbconvert_exporter": "python",
   "pygments_lexer": "ipython3",
   "version": "3.5.3"
  }
 },
 "nbformat": 4,
 "nbformat_minor": 2
}
