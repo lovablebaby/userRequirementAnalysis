{
 "cells": [
  {
   "cell_type": "code",
   "execution_count": 24,
   "metadata": {
    "collapsed": true
   },
   "outputs": [],
   "source": [
    "import pandas as pd\n",
    "import numpy as np\n",
    "from konlpy.tag import Hannanum\n",
    "import gensim\n",
    "import re"
   ]
  },
  {
   "cell_type": "code",
   "execution_count": 25,
   "metadata": {
    "collapsed": true
   },
   "outputs": [],
   "source": [
    "import gensim\n",
    "import gensim.corpora as corpora\n",
    "from gensim.utils import simple_preprocess\n",
    "from gensim.models import CoherenceModel\n",
    "from pprint import pprint"
   ]
  },
  {
   "cell_type": "code",
   "execution_count": 2,
   "metadata": {
    "collapsed": true
   },
   "outputs": [],
   "source": [
    "hannanum = Hannanum()"
   ]
  },
  {
   "cell_type": "code",
   "execution_count": 10,
   "metadata": {
    "collapsed": true
   },
   "outputs": [],
   "source": [
    "df = pd.read_csv(\"filelink.csv\", encoding='utf-8',header=None)"
   ]
  },
  {
   "cell_type": "code",
   "execution_count": 11,
   "metadata": {
    "collapsed": true
   },
   "outputs": [],
   "source": [
    "df.columns = ['user_id', 'timestamp', 'title', 'contents']"
   ]
  },
  {
   "cell_type": "code",
   "execution_count": 12,
   "metadata": {
    "scrolled": false
   },
   "outputs": [
    {
     "data": {
      "text/html": [
       "<div>\n",
       "<style>\n",
       "    .dataframe thead tr:only-child th {\n",
       "        text-align: right;\n",
       "    }\n",
       "\n",
       "    .dataframe thead th {\n",
       "        text-align: left;\n",
       "    }\n",
       "\n",
       "    .dataframe tbody tr th {\n",
       "        vertical-align: top;\n",
       "    }\n",
       "</style>\n",
       "<table border=\"1\" class=\"dataframe\">\n",
       "  <thead>\n",
       "    <tr style=\"text-align: right;\">\n",
       "      <th></th>\n",
       "      <th>user_id</th>\n",
       "      <th>timestamp</th>\n",
       "      <th>title</th>\n",
       "      <th>contents</th>\n",
       "    </tr>\n",
       "  </thead>\n",
       "  <tbody>\n",
       "    <tr>\n",
       "      <th>5630</th>\n",
       "      <td>4564440692</td>\n",
       "      <td>2017.04.05 08시 13분</td>\n",
       "      <td>(그마) 발리라 빠대에선 사기인거 같음. 진짜</td>\n",
       "      <td>근데 영리에선 그냥 후픽으로 뽑으면 쓸만한 정도인거 같은데그마급 유저가 빠대에서 잡...</td>\n",
       "    </tr>\n",
       "    <tr>\n",
       "      <th>5631</th>\n",
       "      <td>4564497238</td>\n",
       "      <td>2017.04.14 03시 13분</td>\n",
       "      <td>난투 매칭좀 바꿔라 쫌</td>\n",
       "      <td>아니 트롤만 계속 엮어주면 뭐 하자는거야</td>\n",
       "    </tr>\n",
       "    <tr>\n",
       "      <th>5632</th>\n",
       "      <td>4564507293</td>\n",
       "      <td>2017.04.13 15시 49분</td>\n",
       "      <td>발리라 만든 새기 머리 어떻게 된거 아니냐</td>\n",
       "      <td>나왔을때부터 지금까지 저딴 케릭 만든새기 머리통 뒤에서 쌔게 한대 치고싶다,빡빡이의...</td>\n",
       "    </tr>\n",
       "    <tr>\n",
       "      <th>5633</th>\n",
       "      <td>4564488123</td>\n",
       "      <td>2017.04.13 16시 02분</td>\n",
       "      <td>탈주 패널티 누적에 관하여...</td>\n",
       "      <td>저는 사실 탈주를 여러번 했습니다... 죄송합니다 죄인입니다. 그런데 탈주 많이해서...</td>\n",
       "    </tr>\n",
       "    <tr>\n",
       "      <th>5634</th>\n",
       "      <td>4564497137</td>\n",
       "      <td>2017.04.13 13시 40분</td>\n",
       "      <td>모든 게임에는 트롤촌이란 시스템이 있어야 한다</td>\n",
       "      <td>게임내에 고의트롤로 인해 고통받는 일반유저게임을 스트레스 풀고 즐기기 위해 하는것인...</td>\n",
       "    </tr>\n",
       "    <tr>\n",
       "      <th>5635</th>\n",
       "      <td>4564497108</td>\n",
       "      <td>2017.04.13 11시 53분</td>\n",
       "      <td>발리라 너프 안함?</td>\n",
       "      <td>까닥이나 매칭할때마다 상대팀 발리라만 보이고 울팀은 하나도 안잡히는데솔직히 특성이나...</td>\n",
       "    </tr>\n",
       "    <tr>\n",
       "      <th>5636</th>\n",
       "      <td>4564469356</td>\n",
       "      <td>2017.04.09 00시 41분</td>\n",
       "      <td>카시아 지금 황금밸런스인거같아요</td>\n",
       "      <td>사거리 1만 더 길었어도 어떤 괴물이 나올지 상상이 안가네,실명에 눈알을 탁 치고 ...</td>\n",
       "    </tr>\n",
       "    <tr>\n",
       "      <th>5637</th>\n",
       "      <td>4564496638</td>\n",
       "      <td>2017.04.12 12시 53분</td>\n",
       "      <td>히오스2.0</td>\n",
       "      <td>히오스2.0에서 퀘스트 달성해서 얻은 잼은 본섭 적용되나요?             ...</td>\n",
       "    </tr>\n",
       "    <tr>\n",
       "      <th>5638</th>\n",
       "      <td>4564487374</td>\n",
       "      <td>2017.04.13 00시 42분</td>\n",
       "      <td>영웅리그 듀오</td>\n",
       "      <td>영웅리그 듀오 가능하게 다시 바뀌어야 합니다.팀리그는 10분 가까히 기다려야 잡히고...</td>\n",
       "    </tr>\n",
       "    <tr>\n",
       "      <th>5639</th>\n",
       "      <td>4564486851</td>\n",
       "      <td>2017.04.12 16시 40분</td>\n",
       "      <td>머가리에 똥만 들어있는 블리자드</td>\n",
       "      <td>니네는 뇌가 있냐? 새로운 유저나 부케 파는 사람들 팀으로 빠대해서 mmr 올리고 ...</td>\n",
       "    </tr>\n",
       "    <tr>\n",
       "      <th>5640</th>\n",
       "      <td>4564476880</td>\n",
       "      <td>2017.04.12 15시 05분</td>\n",
       "      <td>아 팀리그 5인팟 짱깨새ㄲ1들이랑 잡히지않게해라</td>\n",
       "      <td>아 ㅆ1발 중국색끼들이랑 잡히지 않게 해라 우리팟 핑 다 털려서 한명 팅기고 다 렉...</td>\n",
       "    </tr>\n",
       "    <tr>\n",
       "      <th>5641</th>\n",
       "      <td>4564486742</td>\n",
       "      <td>2017.04.12 03시 01분</td>\n",
       "      <td>카시아가 발라 굶주린 화살 맞고 있을때 난격을 쓰면 중간에 씹히는것 같네요.</td>\n",
       "      <td>카시아가 발라 굶주린 화살 맞고 있을때 난격을 쓰면 중간에 씹히는것 같네요.첫번째 ...</td>\n",
       "    </tr>\n",
       "    <tr>\n",
       "      <th>5642</th>\n",
       "      <td>4564486613</td>\n",
       "      <td>2017.04.11 14시 37분</td>\n",
       "      <td>차단시스템 개편이 필요합니다</td>\n",
       "      <td>항상보면 귓말로 욕하고 차단하는 찌질한 어린친구들이 많아요 근데 이런놈들 제제는 거...</td>\n",
       "    </tr>\n",
       "    <tr>\n",
       "      <th>5643</th>\n",
       "      <td>4564486609</td>\n",
       "      <td>2017.04.11 13시 56분</td>\n",
       "      <td>블랙하트 항만 스노볼링에 대해서</td>\n",
       "      <td>첫 금화지불에 대한 너무 큰 스노볼링덕에 실력차이가 어느정도 나지 않는 한 게임을 ...</td>\n",
       "    </tr>\n",
       "    <tr>\n",
       "      <th>5644</th>\n",
       "      <td>4564506464</td>\n",
       "      <td>2017.04.11 12시 21분</td>\n",
       "      <td>누더기 검열본 원본 선택가능하게해주세요1</td>\n",
       "      <td>1</td>\n",
       "    </tr>\n",
       "    <tr>\n",
       "      <th>5645</th>\n",
       "      <td>4564486588</td>\n",
       "      <td>2017.04.11 12시 20분</td>\n",
       "      <td>누더기 검열본 원본 선택가능하게해주세요1</td>\n",
       "      <td>1</td>\n",
       "    </tr>\n",
       "    <tr>\n",
       "      <th>5646</th>\n",
       "      <td>4564486583</td>\n",
       "      <td>2017.04.11 11시 55분</td>\n",
       "      <td>기본적으로 귓말로 욕질하고 차단하는 사람을</td>\n",
       "      <td>제제할 방도가 필요하다고 생각됩니다.현재 오늘 8:35분경 시작한 게임에서 바리안으...</td>\n",
       "    </tr>\n",
       "    <tr>\n",
       "      <th>5647</th>\n",
       "      <td>4564486568</td>\n",
       "      <td>2017.04.11 10시 26분</td>\n",
       "      <td>커서 관련 아이디어</td>\n",
       "      <td>커서 관련해서 아이디어가 있는데 여기에는 이미지를 올릴 수 없군요. 그래서 인벤 링...</td>\n",
       "    </tr>\n",
       "    <tr>\n",
       "      <th>5648</th>\n",
       "      <td>4564486417</td>\n",
       "      <td>2017.04.10 18시 45분</td>\n",
       "      <td>서버 터졌내 전세계 전부 터졌내</td>\n",
       "      <td>인증서버 관리자 신입인가?,이래놓고 그냥 아무런 보상없이 어영부영 넘어갈려고하면 문...</td>\n",
       "    </tr>\n",
       "    <tr>\n",
       "      <th>5649</th>\n",
       "      <td>4564433112</td>\n",
       "      <td>2017.04.10 12시 24분</td>\n",
       "      <td>픽밴 튕기는게 왜 탈주자 처리됨?</td>\n",
       "      <td>픽밴에서 인터넷 문제로 튕기는 걸 탈주자 처리하는건 너무한거 아닙니까??픽밴에서 인...</td>\n",
       "    </tr>\n",
       "  </tbody>\n",
       "</table>\n",
       "</div>"
      ],
      "text/plain": [
       "         user_id           timestamp  \\\n",
       "5630  4564440692  2017.04.05 08시 13분   \n",
       "5631  4564497238  2017.04.14 03시 13분   \n",
       "5632  4564507293  2017.04.13 15시 49분   \n",
       "5633  4564488123  2017.04.13 16시 02분   \n",
       "5634  4564497137  2017.04.13 13시 40분   \n",
       "5635  4564497108  2017.04.13 11시 53분   \n",
       "5636  4564469356  2017.04.09 00시 41분   \n",
       "5637  4564496638  2017.04.12 12시 53분   \n",
       "5638  4564487374  2017.04.13 00시 42분   \n",
       "5639  4564486851  2017.04.12 16시 40분   \n",
       "5640  4564476880  2017.04.12 15시 05분   \n",
       "5641  4564486742  2017.04.12 03시 01분   \n",
       "5642  4564486613  2017.04.11 14시 37분   \n",
       "5643  4564486609  2017.04.11 13시 56분   \n",
       "5644  4564506464  2017.04.11 12시 21분   \n",
       "5645  4564486588  2017.04.11 12시 20분   \n",
       "5646  4564486583  2017.04.11 11시 55분   \n",
       "5647  4564486568  2017.04.11 10시 26분   \n",
       "5648  4564486417  2017.04.10 18시 45분   \n",
       "5649  4564433112  2017.04.10 12시 24분   \n",
       "\n",
       "                                           title  \\\n",
       "5630                   (그마) 발리라 빠대에선 사기인거 같음. 진짜   \n",
       "5631                                난투 매칭좀 바꿔라 쫌   \n",
       "5632                     발리라 만든 새기 머리 어떻게 된거 아니냐   \n",
       "5633                           탈주 패널티 누적에 관하여...   \n",
       "5634                   모든 게임에는 트롤촌이란 시스템이 있어야 한다   \n",
       "5635                                  발리라 너프 안함?   \n",
       "5636                           카시아 지금 황금밸런스인거같아요   \n",
       "5637                                      히오스2.0   \n",
       "5638                                     영웅리그 듀오   \n",
       "5639                           머가리에 똥만 들어있는 블리자드   \n",
       "5640                  아 팀리그 5인팟 짱깨새ㄲ1들이랑 잡히지않게해라   \n",
       "5641  카시아가 발라 굶주린 화살 맞고 있을때 난격을 쓰면 중간에 씹히는것 같네요.   \n",
       "5642                             차단시스템 개편이 필요합니다   \n",
       "5643                           블랙하트 항만 스노볼링에 대해서   \n",
       "5644                      누더기 검열본 원본 선택가능하게해주세요1   \n",
       "5645                      누더기 검열본 원본 선택가능하게해주세요1   \n",
       "5646                     기본적으로 귓말로 욕질하고 차단하는 사람을   \n",
       "5647                                  커서 관련 아이디어   \n",
       "5648                           서버 터졌내 전세계 전부 터졌내   \n",
       "5649                          픽밴 튕기는게 왜 탈주자 처리됨?   \n",
       "\n",
       "                                               contents  \n",
       "5630  근데 영리에선 그냥 후픽으로 뽑으면 쓸만한 정도인거 같은데그마급 유저가 빠대에서 잡...  \n",
       "5631                             아니 트롤만 계속 엮어주면 뭐 하자는거야  \n",
       "5632  나왔을때부터 지금까지 저딴 케릭 만든새기 머리통 뒤에서 쌔게 한대 치고싶다,빡빡이의...  \n",
       "5633  저는 사실 탈주를 여러번 했습니다... 죄송합니다 죄인입니다. 그런데 탈주 많이해서...  \n",
       "5634  게임내에 고의트롤로 인해 고통받는 일반유저게임을 스트레스 풀고 즐기기 위해 하는것인...  \n",
       "5635  까닥이나 매칭할때마다 상대팀 발리라만 보이고 울팀은 하나도 안잡히는데솔직히 특성이나...  \n",
       "5636  사거리 1만 더 길었어도 어떤 괴물이 나올지 상상이 안가네,실명에 눈알을 탁 치고 ...  \n",
       "5637  히오스2.0에서 퀘스트 달성해서 얻은 잼은 본섭 적용되나요?             ...  \n",
       "5638  영웅리그 듀오 가능하게 다시 바뀌어야 합니다.팀리그는 10분 가까히 기다려야 잡히고...  \n",
       "5639  니네는 뇌가 있냐? 새로운 유저나 부케 파는 사람들 팀으로 빠대해서 mmr 올리고 ...  \n",
       "5640  아 ㅆ1발 중국색끼들이랑 잡히지 않게 해라 우리팟 핑 다 털려서 한명 팅기고 다 렉...  \n",
       "5641  카시아가 발라 굶주린 화살 맞고 있을때 난격을 쓰면 중간에 씹히는것 같네요.첫번째 ...  \n",
       "5642  항상보면 귓말로 욕하고 차단하는 찌질한 어린친구들이 많아요 근데 이런놈들 제제는 거...  \n",
       "5643  첫 금화지불에 대한 너무 큰 스노볼링덕에 실력차이가 어느정도 나지 않는 한 게임을 ...  \n",
       "5644                                                  1  \n",
       "5645                                                  1  \n",
       "5646  제제할 방도가 필요하다고 생각됩니다.현재 오늘 8:35분경 시작한 게임에서 바리안으...  \n",
       "5647  커서 관련해서 아이디어가 있는데 여기에는 이미지를 올릴 수 없군요. 그래서 인벤 링...  \n",
       "5648  인증서버 관리자 신입인가?,이래놓고 그냥 아무런 보상없이 어영부영 넘어갈려고하면 문...  \n",
       "5649  픽밴에서 인터넷 문제로 튕기는 걸 탈주자 처리하는건 너무한거 아닙니까??픽밴에서 인...  "
      ]
     },
     "execution_count": 12,
     "metadata": {},
     "output_type": "execute_result"
    }
   ],
   "source": [
    "df.tail(20)"
   ]
  },
  {
   "cell_type": "code",
   "execution_count": 15,
   "metadata": {},
   "outputs": [
    {
     "data": {
      "text/html": [
       "<div>\n",
       "<style>\n",
       "    .dataframe thead tr:only-child th {\n",
       "        text-align: right;\n",
       "    }\n",
       "\n",
       "    .dataframe thead th {\n",
       "        text-align: left;\n",
       "    }\n",
       "\n",
       "    .dataframe tbody tr th {\n",
       "        vertical-align: top;\n",
       "    }\n",
       "</style>\n",
       "<table border=\"1\" class=\"dataframe\">\n",
       "  <thead>\n",
       "    <tr style=\"text-align: right;\">\n",
       "      <th></th>\n",
       "      <th>user_id</th>\n",
       "      <th>timestamp</th>\n",
       "      <th>title</th>\n",
       "      <th>contents</th>\n",
       "    </tr>\n",
       "  </thead>\n",
       "  <tbody>\n",
       "    <tr>\n",
       "      <th>899</th>\n",
       "      <td>4566549755</td>\n",
       "      <td>NaN</td>\n",
       "      <td>새로운 영웅 '문재인' 제안합니다</td>\n",
       "      <td>NaN</td>\n",
       "    </tr>\n",
       "  </tbody>\n",
       "</table>\n",
       "</div>"
      ],
      "text/plain": [
       "        user_id timestamp               title contents\n",
       "899  4566549755       NaN  새로운 영웅 '문재인' 제안합니다      NaN"
      ]
     },
     "execution_count": 15,
     "metadata": {},
     "output_type": "execute_result"
    }
   ],
   "source": [
    "df[df['contents'].isnull()]"
   ]
  },
  {
   "cell_type": "code",
   "execution_count": 38,
   "metadata": {},
   "outputs": [
    {
     "data": {
      "text/plain": [
       "['2017.12.07 12시 05분',\n",
       " '2017.10.10 12시 58분',\n",
       " '2017.10.02 14시 56분',\n",
       " '2017.05.17 13시 19분',\n",
       " '2017.04.11 12시 21분',\n",
       " '2017.04.11 12시 20분']"
      ]
     },
     "execution_count": 38,
     "metadata": {},
     "output_type": "execute_result"
    }
   ],
   "source": [
    "df_by_user = df[df['contents']=='1']\n",
    "df_by_user['timestamp'].tolist()\n",
    "\n",
    "\n",
    "# 전처리 되도록이면 판다스로 하기. 유저 아이디 중복을 찾은다음에. 시간 차이가 몇 안나는 것들은 빼기(몇 분 이상 차이나면 없애는 방향으로)"
   ]
  },
  {
   "cell_type": "code",
   "execution_count": 31,
   "metadata": {
    "scrolled": true
   },
   "outputs": [
    {
     "name": "stdout",
     "output_type": "stream",
     "text": [
      "      user_id           timestamp                title  \\\n",
      "0  4566886652  2018.08.28 05시 22분  등급전 MMR초기화 잘 생각해보세요   \n",
      "\n",
      "                                            contents  \n",
      "0  시즌 좀 쉬었다고 등급전을 이렇게 힘들게 올라가야합니까?실제실력이 몇계단이나 차이나...  \n",
      "      user_id           timestamp                                    title  \\\n",
      "1  4566866650  2018.08.28 04시 09분  진짜 이 빌어먹을 공산당 게임 갑자기 경험치 기여도 높은분들 우대해주면   \n",
      "\n",
      "                                            contents  \n",
      "1  무슨일 생길지 개인적으로 궁금하다...현재까지 mmr시스템을 그냥 재미삼아라도 (실...  \n",
      "      user_id           timestamp                          title  \\\n",
      "2  4566886643  2018.08.28 01시 20분  영웅 리그에 상대편으로 매칭 희망 기능이 필요합니다.   \n",
      "\n",
      "                                            contents  \n",
      "2  영웅 리그에 상대편으로 매칭 희망 기능이 필요합니다.오버워치에도 해당 기능이 있다가...  \n",
      "      user_id           timestamp              title  \\\n",
      "3  4565446647  2017.12.02 17시 28분  이럴거면 그냥 켈투자드 삭제해라   \n",
      "\n",
      "                                            contents  \n",
      "3  켈투자드 출시할때 기대 정말 많이 했다맵을 만든 것도 아니고 영웅 하나 출시하는데 ...  \n",
      "      user_id           timestamp     title  \\\n",
      "4  4566857165  2018.08.26 17시 41분   모델링관련하여   \n",
      "\n",
      "                                            contents  \n",
      "4  캐릭터모델링 개편 부탁드립니다. 원작의 위엄이 사라진 다리짧은 아서스 뚱뚱해진 제이...  \n",
      "      user_id           timestamp                   title  \\\n",
      "5  4565980653  2018.04.15 03시 46분  히오스 에 라인하르트가 있으면 좋겠습니다   \n",
      "\n",
      "                                            contents  \n",
      "5  오버워치 영웅이 너무 없어 더있으면 좋겠습니다 그중에 라인이 들어오면 재미있을꺼 같...  \n",
      "      user_id           timestamp        title  \\\n",
      "6  4566837233  2018.08.27 13시 41분  매칭시스템 개선 요청   \n",
      "\n",
      "                                            contents  \n",
      "6  빠른대전 매칭좀 제대로좀 해줘요아니 한쪽에 3메이지를 주고 다른쪽에 균형잡힌 조합주...  \n",
      "      user_id           timestamp     title  \\\n",
      "7  4566837234  2018.08.27 14시 03분  쿠폰 등록 오류   \n",
      "\n",
      "                                            contents  \n",
      "7  이번에 hgc 보면서 영웅 스킨 쿠폰 구매 했는데요 3개 샀는데 1개가 자꾸 오류가...  \n",
      "      user_id           timestamp   title  \\\n",
      "8  4566837230  2018.08.27 13시 31분  제재 해줘요   \n",
      "\n",
      "                                            contents  \n",
      "8  아까 판에서 한번 죽었다고 나보고 `고의트롤' 게임 던지네 그리고 욕설 등등을 하던...  \n",
      "      user_id           timestamp                          title  \\\n",
      "9  4566847176  2018.08.26 19시 06분  진짜 죽음의 광산 리메이크 한번 더하거나 그냥 삭제좀   \n",
      "\n",
      "                                            contents  \n",
      "9  맵이름은 죽음의 광산인데 정작 현실은 광산은 무슨 서로 호박캠프 누가 먹느냐 눈치보...  \n"
     ]
    }
   ],
   "source": [
    "user_list = df['user_id'].unique()\n",
    "for uid in user_list[:10]:\n",
    "    print(df[df['user_id']==uid])"
   ]
  },
  {
   "cell_type": "code",
   "execution_count": 28,
   "metadata": {},
   "outputs": [
    {
     "ename": "TypeError",
     "evalue": "Required argument 'month' (pos 2) not found",
     "output_type": "error",
     "traceback": [
      "\u001b[0;31m---------------------------------------------------------------------------\u001b[0m",
      "\u001b[0;31mTypeError\u001b[0m                                 Traceback (most recent call last)",
      "\u001b[0;32m<ipython-input-28-e9a07f03ffd1>\u001b[0m in \u001b[0;36m<module>\u001b[0;34m()\u001b[0m\n\u001b[1;32m      1\u001b[0m \u001b[0;32mimport\u001b[0m \u001b[0mdatetime\u001b[0m\u001b[0;34m\u001b[0m\u001b[0m\n\u001b[1;32m      2\u001b[0m \u001b[0mex_date\u001b[0m \u001b[0;34m=\u001b[0m \u001b[0mdf\u001b[0m\u001b[0;34m[\u001b[0m\u001b[0;34m'timestamp'\u001b[0m\u001b[0;34m]\u001b[0m\u001b[0;34m[\u001b[0m\u001b[0;36m0\u001b[0m\u001b[0;34m]\u001b[0m\u001b[0;34m\u001b[0m\u001b[0m\n\u001b[0;32m----> 3\u001b[0;31m \u001b[0mdatetime\u001b[0m\u001b[0;34m.\u001b[0m\u001b[0mdatetime\u001b[0m\u001b[0;34m(\u001b[0m\u001b[0;36m20180505\u001b[0m\u001b[0;34m)\u001b[0m\u001b[0;34m\u001b[0m\u001b[0m\n\u001b[0m",
      "\u001b[0;31mTypeError\u001b[0m: Required argument 'month' (pos 2) not found"
     ]
    }
   ],
   "source": [
    "import datetime\n",
    "ex_date = df['timestamp'][0]\n",
    "datetime.datetime()"
   ]
  },
  {
   "cell_type": "code",
   "execution_count": 36,
   "metadata": {
    "scrolled": true
   },
   "outputs": [
    {
     "name": "stderr",
     "output_type": "stream",
     "text": [
      "/Users/Yeoni/anaconda/lib/python3.5/site-packages/ipykernel/__main__.py:2: SettingWithCopyWarning: \n",
      "A value is trying to be set on a copy of a slice from a DataFrame\n",
      "\n",
      "See the caveats in the documentation: http://pandas.pydata.org/pandas-docs/stable/indexing.html#indexing-view-versus-copy\n",
      "  from ipykernel import kernelapp as app\n"
     ]
    }
   ],
   "source": [
    "for i in range(len(df)):\n",
    "    df['contents'][i] = str(df['contents'][i])"
   ]
  },
  {
   "cell_type": "code",
   "execution_count": 56,
   "metadata": {
    "collapsed": true
   },
   "outputs": [],
   "source": [
    "for i in range(3):\n",
    "    hannanum.nouns(df[\"contents\"][i])"
   ]
  },
  {
   "cell_type": "code",
   "execution_count": 57,
   "metadata": {},
   "outputs": [
    {
     "data": {
      "text/html": [
       "<div>\n",
       "<style>\n",
       "    .dataframe thead tr:only-child th {\n",
       "        text-align: right;\n",
       "    }\n",
       "\n",
       "    .dataframe thead th {\n",
       "        text-align: left;\n",
       "    }\n",
       "\n",
       "    .dataframe tbody tr th {\n",
       "        vertical-align: top;\n",
       "    }\n",
       "</style>\n",
       "<table border=\"1\" class=\"dataframe\">\n",
       "  <thead>\n",
       "    <tr style=\"text-align: right;\">\n",
       "      <th></th>\n",
       "      <th>user_id</th>\n",
       "      <th>timestamp</th>\n",
       "      <th>title</th>\n",
       "      <th>contents</th>\n",
       "    </tr>\n",
       "  </thead>\n",
       "  <tbody>\n",
       "    <tr>\n",
       "      <th>0</th>\n",
       "      <td>4566886652</td>\n",
       "      <td>2018.08.28 05시 22분</td>\n",
       "      <td>등급전 MMR초기화 잘 생각해보세요</td>\n",
       "      <td>시즌 좀 쉬었다고 등급전을 이렇게 힘들게 올라가야합니까?실제실력이 몇계단이나 차이나...</td>\n",
       "    </tr>\n",
       "    <tr>\n",
       "      <th>1</th>\n",
       "      <td>4566866650</td>\n",
       "      <td>2018.08.28 04시 09분</td>\n",
       "      <td>진짜 이 빌어먹을 공산당 게임 갑자기 경험치 기여도 높은분들 우대해주면</td>\n",
       "      <td>무슨일 생길지 개인적으로 궁금하다...현재까지 mmr시스템을 그냥 재미삼아라도 (실...</td>\n",
       "    </tr>\n",
       "    <tr>\n",
       "      <th>2</th>\n",
       "      <td>4566886643</td>\n",
       "      <td>2018.08.28 01시 20분</td>\n",
       "      <td>영웅 리그에 상대편으로 매칭 희망 기능이 필요합니다.</td>\n",
       "      <td>영웅 리그에 상대편으로 매칭 희망 기능이 필요합니다.오버워치에도 해당 기능이 있다가...</td>\n",
       "    </tr>\n",
       "    <tr>\n",
       "      <th>3</th>\n",
       "      <td>4565446647</td>\n",
       "      <td>2017.12.02 17시 28분</td>\n",
       "      <td>이럴거면 그냥 켈투자드 삭제해라</td>\n",
       "      <td>켈투자드 출시할때 기대 정말 많이 했다맵을 만든 것도 아니고 영웅 하나 출시하는데 ...</td>\n",
       "    </tr>\n",
       "    <tr>\n",
       "      <th>4</th>\n",
       "      <td>4566857165</td>\n",
       "      <td>2018.08.26 17시 41분</td>\n",
       "      <td>모델링관련하여</td>\n",
       "      <td>캐릭터모델링 개편 부탁드립니다. 원작의 위엄이 사라진 다리짧은 아서스 뚱뚱해진 제이...</td>\n",
       "    </tr>\n",
       "  </tbody>\n",
       "</table>\n",
       "</div>"
      ],
      "text/plain": [
       "      user_id           timestamp                                    title  \\\n",
       "0  4566886652  2018.08.28 05시 22분                      등급전 MMR초기화 잘 생각해보세요   \n",
       "1  4566866650  2018.08.28 04시 09분  진짜 이 빌어먹을 공산당 게임 갑자기 경험치 기여도 높은분들 우대해주면   \n",
       "2  4566886643  2018.08.28 01시 20분            영웅 리그에 상대편으로 매칭 희망 기능이 필요합니다.   \n",
       "3  4565446647  2017.12.02 17시 28분                        이럴거면 그냥 켈투자드 삭제해라   \n",
       "4  4566857165  2018.08.26 17시 41분                                  모델링관련하여   \n",
       "\n",
       "                                            contents  \n",
       "0  시즌 좀 쉬었다고 등급전을 이렇게 힘들게 올라가야합니까?실제실력이 몇계단이나 차이나...  \n",
       "1  무슨일 생길지 개인적으로 궁금하다...현재까지 mmr시스템을 그냥 재미삼아라도 (실...  \n",
       "2  영웅 리그에 상대편으로 매칭 희망 기능이 필요합니다.오버워치에도 해당 기능이 있다가...  \n",
       "3  켈투자드 출시할때 기대 정말 많이 했다맵을 만든 것도 아니고 영웅 하나 출시하는데 ...  \n",
       "4  캐릭터모델링 개편 부탁드립니다. 원작의 위엄이 사라진 다리짧은 아서스 뚱뚱해진 제이...  "
      ]
     },
     "execution_count": 57,
     "metadata": {},
     "output_type": "execute_result"
    }
   ],
   "source": [
    "df.head()"
   ]
  },
  {
   "cell_type": "code",
   "execution_count": 37,
   "metadata": {
    "scrolled": true
   },
   "outputs": [
    {
     "data": {
      "text/plain": [
       "(5650, 4)"
      ]
     },
     "execution_count": 37,
     "metadata": {},
     "output_type": "execute_result"
    }
   ],
   "source": [
    "df.shape"
   ]
  },
  {
   "cell_type": "code",
   "execution_count": 91,
   "metadata": {
    "collapsed": true,
    "scrolled": true
   },
   "outputs": [],
   "source": [
    "tokens = []\n",
    "\n",
    "for i in list(df[\"contents\"]):\n",
    "    k = hannanum.nouns(i)\n",
    "    tokens.append(k)"
   ]
  },
  {
   "cell_type": "code",
   "execution_count": 71,
   "metadata": {
    "scrolled": false
   },
   "outputs": [
    {
     "data": {
      "text/plain": [
       "list"
      ]
     },
     "execution_count": 71,
     "metadata": {},
     "output_type": "execute_result"
    }
   ],
   "source": [
    "type(tokens)"
   ]
  },
  {
   "cell_type": "code",
   "execution_count": 104,
   "metadata": {
    "collapsed": true
   },
   "outputs": [],
   "source": [
    "tokens_df = pd.DataFrame({\"tokens\":tokens})"
   ]
  },
  {
   "cell_type": "code",
   "execution_count": 105,
   "metadata": {
    "scrolled": true
   },
   "outputs": [
    {
     "data": {
      "text/html": [
       "<div>\n",
       "<style>\n",
       "    .dataframe thead tr:only-child th {\n",
       "        text-align: right;\n",
       "    }\n",
       "\n",
       "    .dataframe thead th {\n",
       "        text-align: left;\n",
       "    }\n",
       "\n",
       "    .dataframe tbody tr th {\n",
       "        vertical-align: top;\n",
       "    }\n",
       "</style>\n",
       "<table border=\"1\" class=\"dataframe\">\n",
       "  <thead>\n",
       "    <tr style=\"text-align: right;\">\n",
       "      <th></th>\n",
       "      <th>tokens</th>\n",
       "    </tr>\n",
       "  </thead>\n",
       "  <tbody>\n",
       "    <tr>\n",
       "      <th>0</th>\n",
       "      <td>[인증서버, 관리, 신입, ,이래놓고, 보상, 어영부영, 넘어갈려고하, 문제, 있는...</td>\n",
       "    </tr>\n",
       "    <tr>\n",
       "      <th>1</th>\n",
       "      <td>[픽밴, 인터넷, 문제, 거, 탈주자, 처리하는건, 너무한거, 픽밴, 인터넷, 10...</td>\n",
       "    </tr>\n",
       "    <tr>\n",
       "      <th>2</th>\n",
       "      <td>[시즌, 등급전, 실제실력, 몇계단, 차, 유저, 기록, 배치, 진행한다면그, 유저...</td>\n",
       "    </tr>\n",
       "    <tr>\n",
       "      <th>3</th>\n",
       "      <td>[무슨일, 개, 적, 궁금, 현재, 시스템, 재미삼아라, 실질적, 승리, 알고리즘,...</td>\n",
       "    </tr>\n",
       "    <tr>\n",
       "      <th>4</th>\n",
       "      <td>[영웅, 리그, 상대편, 매칭, 희망, 기능, 필요, 오버워치, 해당, 기능, 매칭...</td>\n",
       "    </tr>\n",
       "  </tbody>\n",
       "</table>\n",
       "</div>"
      ],
      "text/plain": [
       "                                              tokens\n",
       "0  [인증서버, 관리, 신입, ,이래놓고, 보상, 어영부영, 넘어갈려고하, 문제, 있는...\n",
       "1  [픽밴, 인터넷, 문제, 거, 탈주자, 처리하는건, 너무한거, 픽밴, 인터넷, 10...\n",
       "2  [시즌, 등급전, 실제실력, 몇계단, 차, 유저, 기록, 배치, 진행한다면그, 유저...\n",
       "3  [무슨일, 개, 적, 궁금, 현재, 시스템, 재미삼아라, 실질적, 승리, 알고리즘,...\n",
       "4  [영웅, 리그, 상대편, 매칭, 희망, 기능, 필요, 오버워치, 해당, 기능, 매칭..."
      ]
     },
     "execution_count": 105,
     "metadata": {},
     "output_type": "execute_result"
    }
   ],
   "source": [
    "tokens_df.head()"
   ]
  },
  {
   "cell_type": "code",
   "execution_count": 106,
   "metadata": {
    "collapsed": true
   },
   "outputs": [],
   "source": [
    "df[\"tokens_contents\"] = tokens"
   ]
  },
  {
   "cell_type": "code",
   "execution_count": 108,
   "metadata": {
    "collapsed": true
   },
   "outputs": [],
   "source": [
    "id2word = corpora.Dictionary(df[\"tokens_contents\"])"
   ]
  },
  {
   "cell_type": "code",
   "execution_count": 109,
   "metadata": {
    "collapsed": true
   },
   "outputs": [],
   "source": [
    "texts = df[\"tokens_contents\"]"
   ]
  },
  {
   "cell_type": "code",
   "execution_count": 111,
   "metadata": {
    "scrolled": true
   },
   "outputs": [
    {
     "name": "stdout",
     "output_type": "stream",
     "text": [
      "[[(0, 1), (1, 1), (2, 1), (3, 1), (4, 3), (5, 1), (6, 1), (7, 2), (8, 1), (9, 1), (10, 1), (11, 1), (12, 1), (13, 1), (14, 1), (15, 1), (16, 1), (17, 1), (18, 1), (19, 1), (20, 1), (21, 1), (22, 1), (23, 1), (24, 1), (25, 1), (26, 1), (27, 1), (28, 1), (29, 1), (30, 1), (31, 1), (32, 1), (33, 1), (34, 1), (35, 1), (36, 1), (37, 1)]]\n"
     ]
    }
   ],
   "source": [
    "corpus = [id2word.doc2bow(text) for text in texts]\n",
    "\n",
    "print(corpus[:1])"
   ]
  },
  {
   "cell_type": "code",
   "execution_count": 113,
   "metadata": {},
   "outputs": [
    {
     "data": {
      "text/plain": [
       "'시간'"
      ]
     },
     "execution_count": 113,
     "metadata": {},
     "output_type": "execute_result"
    }
   ],
   "source": [
    "id2word[0]"
   ]
  },
  {
   "cell_type": "code",
   "execution_count": 114,
   "metadata": {},
   "outputs": [
    {
     "data": {
      "text/plain": [
       "[[('시간', 1),\n",
       "  ('상대방', 1),\n",
       "  ('어영부영', 1),\n",
       "  ('유저', 1),\n",
       "  ('게임', 3),\n",
       "  ('문제', 1),\n",
       "  ('것도아니', 1),\n",
       "  ('서버', 2),\n",
       "  ('사소', 1),\n",
       "  ('@#', 1),\n",
       "  ('이상', 1),\n",
       "  ('뒤', 1),\n",
       "  (',이래놓고', 1),\n",
       "  ('해', 1),\n",
       "  ('사태', 1),\n",
       "  ('구매', 1),\n",
       "  ('튕긴다음', 1),\n",
       "  ('소비자', 1),\n",
       "  ('솔찍히', 1),\n",
       "  ('처', 1),\n",
       "  ('관리', 1),\n",
       "  ('점검', 1),\n",
       "  ('자기', 1),\n",
       "  ('수정', 1),\n",
       "  ('해야지아무말', 1),\n",
       "  ('인증서버', 1),\n",
       "  ('사용', 1),\n",
       "  ('넘어갈려고하', 1),\n",
       "  ('공짜', 1),\n",
       "  ('것들', 1),\n",
       "  ('40분', 1),\n",
       "  ('적어놓는거', 1),\n",
       "  ('보상', 1),\n",
       "  ('신입', 1),\n",
       "  ('불나드', 1),\n",
       "  ('우리', 1),\n",
       "  ('있는거', 1),\n",
       "  ('맘이고긴급한', 1)]]"
      ]
     },
     "execution_count": 114,
     "metadata": {},
     "output_type": "execute_result"
    }
   ],
   "source": [
    "# Human readable format of corpus (term-frequency)\n",
    "[[(id2word[id], freq) for id, freq in cp] for cp in corpus[:1]]"
   ]
  },
  {
   "cell_type": "code",
   "execution_count": 115,
   "metadata": {
    "collapsed": true
   },
   "outputs": [],
   "source": [
    "# Build LDA model\n",
    "\n",
    "lda_model = gensim.models.ldamodel.LdaModel(corpus=corpus,\n",
    "                                            id2word=id2word,\n",
    "                                            num_topics=20,\n",
    "                                            random_state=100, # Seed\n",
    "                                            update_every=1, # 청크사이즈 마다 모델 업데이트 (메모리 관리 패러미터)\n",
    "                                            chunksize=100,# 한 번에 고려할 문서의 수\n",
    "                                            passes=10, # 알고리즘이 전체 코퍼스를 통과해야 하는 횟수\n",
    "                                            alpha='auto',\n",
    "                                            per_word_topics=True) # 주어진 한 단어가 가장 가능성 있는 주제를 추출하도록 허용"
   ]
  },
  {
   "cell_type": "code",
   "execution_count": 118,
   "metadata": {
    "scrolled": true
   },
   "outputs": [
    {
     "name": "stdout",
     "output_type": "stream",
     "text": [
      "[(0,\n",
      "  '0.050*\"보상\" + 0.026*\"영웅리그\" + 0.018*\"등급전\" + 0.017*\"배치\" + 0.014*\"팀리그\" + '\n",
      "  '0.010*\"표시\" + 0.010*\"시즌\" + 0.010*\"해결\" + 0.009*\"등급\" + 0.008*\"친구\"'),\n",
      " (1,\n",
      "  '0.027*\"5월\" + 0.024*\"완료\" + 0.021*\"서버\" + 0.019*\"진행\" + 0.016*\"1주차\" + '\n",
      "  '0.016*\"점검\" + 0.015*\"2주차\" + 0.013*\"이용\" + 0.011*\"시간\" + 0.011*\"서비스\"'),\n",
      " (2,\n",
      "  '0.032*\"이거\" + 0.030*\"디바\" + 0.027*\"기존\" + 0.016*\"정도\" + 0.014*\"인정\" + 0.011*\"옵치\" '\n",
      "  '+ 0.010*\"조건\" + 0.010*\"니들\" + 0.010*\"ㅋㅋ\" + 0.008*\"범위\"'),\n",
      " (3,\n",
      "  '0.037*\"은신\" + 0.013*\"제라툴\" + 0.012*\"도살자\" + 0.011*\"ㅋ\" + 0.009*\"레오릭\" + '\n",
      "  '0.007*\"안주\" + 0.006*\"버그\" + 0.005*\"학습효과\" + 0.005*\"강제\" + 0.005*\"따\"'),\n",
      " (4,\n",
      "  '0.028*\"님\" + 0.011*\"화물\" + 0.010*\"ㅠㅠ\" + 0.010*\"공개\" + 0.009*\"댓글\" + 0.009*\"트롤들\" '\n",
      "  '+ 0.007*\"핵\" + 0.007*\"탑\" + 0.007*\".\" + 0.006*\"진입\"'),\n",
      " (5,\n",
      "  '0.060*\"것\" + 0.047*\"게임\" + 0.037*\"수\" + 0.031*\"히오스\" + 0.019*\"저\" + 0.018*\"생각\" + '\n",
      "  '0.015*\"이\" + 0.014*\"때\" + 0.014*\"유저\" + 0.014*\"진짜\"'),\n",
      " (6,\n",
      "  '0.053*\"스킨\" + 0.029*\"오니겐지\" + 0.014*\"상자\" + 0.012*\"초상화\" + 0.011*\"전리품\" + '\n",
      "  '0.010*\"상품\" + 0.010*\"스프레이\" + 0.010*\"누더기\" + 0.009*\"묶음\" + 0.009*\"시공석\"'),\n",
      " (7,\n",
      "  '0.024*\"욕\" + 0.020*\"판\" + 0.018*\"신고\" + 0.018*\"제제\" + 0.017*\"제재\" + 0.013*\"욕설\" + '\n",
      "  '0.011*\"수준\" + 0.009*\"저번\" + 0.009*\"채팅\" + 0.008*\"어디\"'),\n",
      " (8,\n",
      "  '0.019*\"파티\" + 0.013*\"브론즈\" + 0.012*\"공지\" + 0.010*\"티리엘\" + 0.009*\"본섭\" + '\n",
      "  '0.009*\"빠대\" + 0.009*\"다이아\" + 0.008*\"사무\" + 0.008*\"하는거\" + 0.007*\"22시\"'),\n",
      " (9,\n",
      "  '0.014*\"스킬\" + 0.014*\"발리라\" + 0.013*\"적\" + 0.011*\"체력\" + 0.008*\"설명\" + '\n",
      "  '0.008*\"정상적\" + 0.008*\"1초\" + 0.007*\"하나무라\" + 0.007*\"침묵\" + 0.007*\"평타\"'),\n",
      " (10,\n",
      "  '0.032*\"작성자\" + 0.029*\"시공\" + 0.023*\"때문\" + 0.019*\"2017.\" + 0.018*\"레벨\" + '\n",
      "  '0.018*\"도전자\" + 0.014*\"기능\" + 0.012*\"04.\" + 0.011*\"쪽\" + 0.010*\"05.\"'),\n",
      " (11,\n",
      "  '0.019*\"한타\" + 0.014*\"바리\" + 0.013*\"궁금\" + 0.012*\"개\" + 0.011*\"뒤\" + 0.011*\"끝\" + '\n",
      "  '0.008*\"편\" + 0.008*\"시\" + 0.008*\"자기\" + 0.007*\"힐\"'),\n",
      " (12,\n",
      "  '0.017*\"유입\" + 0.010*\"닉네임\" + 0.010*\"4월\" + 0.010*\"경찰\" + 0.008*\"병신\" + '\n",
      "  '0.007*\"이런식\" + 0.007*\"사이트\" + 0.006*\"27\" + 0.006*\"배틀넷\" + 0.006*\"대사\"'),\n",
      " (13,\n",
      "  '0.055*\"매칭\" + 0.027*\"빠대\" + 0.022*\"애\" + 0.020*\"5판\" + 0.020*\"일반전\" + 0.019*\"조합\" '\n",
      "  '+ 0.014*\"분\" + 0.011*\"노바\" + 0.011*\"전사\" + 0.009*\"우리팀\"'),\n",
      " (14,\n",
      "  '0.020*\"설정\" + 0.014*\"안보\" + 0.010*\"어이\" + 0.008*\"인공\" + 0.007*\"인증\" + 0.007*\"중간\" '\n",
      "  '+ 0.006*\"상점\" + 0.006*\"부\" + 0.005*\"정예\" + 0.005*\"방치\"'),\n",
      " (15,\n",
      "  '0.038*\"탈주\" + 0.028*\"ㅋㅋㅋㅋㅋ\" + 0.016*\"히어로즈\" + 0.013*\"오브\" + 0.012*\"계정\" + '\n",
      "  '0.012*\"참여\" + 0.011*\"불편\" + 0.011*\"패널티\" + 0.011*\"점수\" + 0.011*\"스톰\"'),\n",
      " (16,\n",
      "  '0.029*\"니\" + 0.027*\"인공지능\" + 0.011*\"정신승리\" + 0.008*\"티라노\" + 0.007*\"완전\" + '\n",
      "  '0.006*\"논리\" + 0.005*\"모드\" + 0.005*\"뺴액\" + 0.005*\"+\" + 0.004*\"어지간\"'),\n",
      " (17,\n",
      "  '0.015*\"차단\" + 0.012*\"15판\" + 0.012*\"한국\" + 0.010*\"한판\" + 0.010*\"현상\" + '\n",
      "  '0.010*\"실버\" + 0.007*\"새끼들\" + 0.007*\"검색\" + 0.006*\"증거\" + 0.005*\"닉\"'),\n",
      " (18,\n",
      "  '0.102*\"이벤트\" + 0.038*\"겐지\" + 0.011*\"다음\" + 0.011*\"경찰디바\" + 0.010*\"초기화\" + '\n",
      "  '0.008*\"질풍참\" + 0.008*\"ㄹㅇ\" + 0.007*\"4번\" + 0.007*\"역전\" + 0.005*\"용검\"'),\n",
      " (19,\n",
      "  '0.033*\"특성\" + 0.013*\"스킬\" + 0.012*\"장막\" + 0.011*\"오브젝트\" + 0.011*\"공격\" + '\n",
      "  '0.010*\"추가\" + 0.009*\"신규\" + 0.008*\"사용\" + 0.007*\"스킬들\" + 0.007*\"전장\"')]\n"
     ]
    }
   ],
   "source": [
    "pprint(lda_model.print_topics())\n",
    "doc_lda = lda_model[corpus]"
   ]
  },
  {
   "cell_type": "code",
   "execution_count": null,
   "metadata": {
    "collapsed": true
   },
   "outputs": [],
   "source": [
    "# 방식이 여러가지로 구성할 수 있음"
   ]
  },
  {
   "cell_type": "code",
   "execution_count": 120,
   "metadata": {
    "scrolled": true
   },
   "outputs": [
    {
     "name": "stdout",
     "output_type": "stream",
     "text": [
      "\n",
      "Perplexity:  -11.300457911573966\n",
      "\n",
      "Coherence Score:  0.4453570196114264\n"
     ]
    }
   ],
   "source": [
    "# Compute Perplexity\n",
    "print('\\nPerplexity: ', lda_model.log_perplexity(corpus)) # a measure of how good the model is. lower the better.\n",
    " \n",
    "# Compute Coherence Score\n",
    "coherence_model_lda = CoherenceModel(model=lda_model, texts=df[\"tokens_contents\"], dictionary=id2word, coherence='c_v')\n",
    "coherence_lda = coherence_model_lda.get_coherence()\n",
    "print('\\nCoherence Score: ', coherence_lda)"
   ]
  },
  {
   "cell_type": "code",
   "execution_count": 125,
   "metadata": {
    "collapsed": true
   },
   "outputs": [],
   "source": [
    "import pyLDAvis\n",
    "from pyLDAvis import gensim"
   ]
  },
  {
   "cell_type": "code",
   "execution_count": 126,
   "metadata": {},
   "outputs": [
    {
     "data": {
      "text/html": [
       "\n",
       "<link rel=\"stylesheet\" type=\"text/css\" href=\"https://cdn.rawgit.com/bmabey/pyLDAvis/files/ldavis.v1.0.0.css\">\n",
       "\n",
       "\n",
       "<div id=\"ldavis_el910855853795207197399337\"></div>\n",
       "<script type=\"text/javascript\">\n",
       "\n",
       "var ldavis_el910855853795207197399337_data = {\"tinfo\": {\"Category\": [\"Default\", \"Default\", \"Default\", \"Default\", \"Default\", \"Default\", \"Default\", \"Default\", \"Default\", \"Default\", \"Default\", \"Default\", \"Default\", \"Default\", \"Default\", \"Default\", \"Default\", \"Default\", \"Default\", \"Default\", \"Default\", \"Default\", \"Default\", \"Default\", \"Default\", \"Default\", \"Default\", \"Default\", \"Default\", \"Default\", \"Topic1\", \"Topic1\", \"Topic1\", \"Topic1\", \"Topic1\", \"Topic1\", \"Topic1\", \"Topic1\", \"Topic1\", \"Topic1\", \"Topic1\", \"Topic1\", \"Topic1\", \"Topic1\", \"Topic1\", \"Topic1\", \"Topic1\", \"Topic1\", \"Topic1\", \"Topic1\", \"Topic1\", \"Topic1\", \"Topic1\", \"Topic1\", \"Topic1\", \"Topic1\", \"Topic1\", \"Topic1\", \"Topic1\", \"Topic1\", \"Topic1\", \"Topic1\", \"Topic1\", \"Topic1\", \"Topic1\", \"Topic1\", \"Topic1\", \"Topic1\", \"Topic1\", \"Topic1\", \"Topic1\", \"Topic1\", \"Topic1\", \"Topic1\", \"Topic2\", \"Topic2\", \"Topic2\", \"Topic2\", \"Topic2\", \"Topic2\", \"Topic2\", \"Topic2\", \"Topic2\", \"Topic2\", \"Topic2\", \"Topic2\", \"Topic2\", \"Topic2\", \"Topic2\", \"Topic2\", \"Topic2\", \"Topic2\", \"Topic2\", \"Topic2\", \"Topic2\", \"Topic2\", \"Topic2\", \"Topic2\", \"Topic2\", \"Topic2\", \"Topic2\", \"Topic2\", \"Topic2\", \"Topic2\", \"Topic2\", \"Topic2\", \"Topic2\", \"Topic2\", \"Topic2\", \"Topic2\", \"Topic2\", \"Topic2\", \"Topic2\", \"Topic2\", \"Topic2\", \"Topic3\", \"Topic3\", \"Topic3\", \"Topic3\", \"Topic3\", \"Topic3\", \"Topic3\", \"Topic3\", \"Topic3\", \"Topic3\", \"Topic3\", \"Topic3\", \"Topic3\", \"Topic3\", \"Topic3\", \"Topic3\", \"Topic3\", \"Topic3\", \"Topic3\", \"Topic3\", \"Topic3\", \"Topic3\", \"Topic3\", \"Topic3\", \"Topic3\", \"Topic3\", \"Topic3\", \"Topic3\", \"Topic3\", \"Topic3\", \"Topic3\", \"Topic3\", \"Topic3\", \"Topic3\", \"Topic3\", \"Topic3\", \"Topic3\", \"Topic4\", \"Topic4\", \"Topic4\", \"Topic4\", \"Topic4\", \"Topic4\", \"Topic4\", \"Topic4\", \"Topic4\", \"Topic4\", \"Topic4\", \"Topic4\", \"Topic4\", \"Topic4\", \"Topic4\", \"Topic4\", \"Topic4\", \"Topic4\", \"Topic4\", \"Topic4\", \"Topic4\", \"Topic4\", \"Topic4\", \"Topic4\", \"Topic4\", \"Topic4\", \"Topic4\", \"Topic4\", \"Topic4\", \"Topic4\", \"Topic4\", \"Topic4\", \"Topic4\", \"Topic4\", \"Topic4\", \"Topic4\", \"Topic4\", \"Topic4\", \"Topic5\", \"Topic5\", \"Topic5\", \"Topic5\", \"Topic5\", \"Topic5\", \"Topic5\", \"Topic5\", \"Topic5\", \"Topic5\", \"Topic5\", \"Topic5\", \"Topic5\", \"Topic5\", \"Topic5\", \"Topic5\", \"Topic5\", \"Topic5\", \"Topic5\", \"Topic5\", \"Topic5\", \"Topic5\", \"Topic5\", \"Topic5\", \"Topic5\", \"Topic5\", \"Topic5\", \"Topic5\", \"Topic5\", \"Topic5\", \"Topic5\", \"Topic5\", \"Topic5\", \"Topic5\", \"Topic5\", \"Topic5\", \"Topic5\", \"Topic5\", \"Topic6\", \"Topic6\", \"Topic6\", \"Topic6\", \"Topic6\", \"Topic6\", \"Topic6\", \"Topic6\", \"Topic6\", \"Topic6\", \"Topic6\", \"Topic6\", \"Topic6\", \"Topic6\", \"Topic6\", \"Topic6\", \"Topic6\", \"Topic6\", \"Topic6\", \"Topic6\", \"Topic6\", \"Topic6\", \"Topic6\", \"Topic6\", \"Topic6\", \"Topic6\", \"Topic6\", \"Topic6\", \"Topic6\", \"Topic6\", \"Topic6\", \"Topic6\", \"Topic6\", \"Topic6\", \"Topic6\", \"Topic6\", \"Topic6\", \"Topic6\", \"Topic6\", \"Topic6\", \"Topic6\", \"Topic6\", \"Topic6\", \"Topic6\", \"Topic6\", \"Topic6\", \"Topic7\", \"Topic7\", \"Topic7\", \"Topic7\", \"Topic7\", \"Topic7\", \"Topic7\", \"Topic7\", \"Topic7\", \"Topic7\", \"Topic7\", \"Topic7\", \"Topic7\", \"Topic7\", \"Topic7\", \"Topic7\", \"Topic7\", \"Topic7\", \"Topic7\", \"Topic7\", \"Topic7\", \"Topic7\", \"Topic7\", \"Topic7\", \"Topic7\", \"Topic7\", \"Topic7\", \"Topic7\", \"Topic7\", \"Topic7\", \"Topic7\", \"Topic7\", \"Topic7\", \"Topic7\", \"Topic7\", \"Topic7\", \"Topic7\", \"Topic7\", \"Topic8\", \"Topic8\", \"Topic8\", \"Topic8\", \"Topic8\", \"Topic8\", \"Topic8\", \"Topic8\", \"Topic8\", \"Topic8\", \"Topic8\", \"Topic8\", \"Topic8\", \"Topic8\", \"Topic8\", \"Topic8\", \"Topic8\", \"Topic8\", \"Topic8\", \"Topic8\", \"Topic8\", \"Topic8\", \"Topic8\", \"Topic8\", \"Topic8\", \"Topic8\", \"Topic8\", \"Topic8\", \"Topic8\", \"Topic8\", \"Topic8\", \"Topic8\", \"Topic8\", \"Topic8\", \"Topic9\", \"Topic9\", \"Topic9\", \"Topic9\", \"Topic9\", \"Topic9\", \"Topic9\", \"Topic9\", \"Topic9\", \"Topic9\", \"Topic9\", \"Topic9\", \"Topic9\", \"Topic9\", \"Topic9\", \"Topic9\", \"Topic9\", \"Topic9\", \"Topic9\", \"Topic9\", \"Topic9\", \"Topic9\", \"Topic9\", \"Topic9\", \"Topic9\", \"Topic9\", \"Topic9\", \"Topic9\", \"Topic9\", \"Topic9\", \"Topic9\", \"Topic9\", \"Topic9\", \"Topic9\", \"Topic9\", \"Topic9\", \"Topic9\", \"Topic9\", \"Topic9\", \"Topic9\", \"Topic9\", \"Topic10\", \"Topic10\", \"Topic10\", \"Topic10\", \"Topic10\", \"Topic10\", \"Topic10\", \"Topic10\", \"Topic10\", \"Topic10\", \"Topic10\", \"Topic10\", \"Topic10\", \"Topic10\", \"Topic10\", \"Topic10\", \"Topic10\", \"Topic10\", \"Topic10\", \"Topic10\", \"Topic10\", \"Topic10\", \"Topic10\", \"Topic10\", \"Topic10\", \"Topic10\", \"Topic10\", \"Topic10\", \"Topic10\", \"Topic10\", \"Topic10\", \"Topic10\", \"Topic10\", \"Topic10\", \"Topic10\", \"Topic10\", \"Topic10\", \"Topic11\", \"Topic11\", \"Topic11\", \"Topic11\", \"Topic11\", \"Topic11\", \"Topic11\", \"Topic11\", \"Topic11\", \"Topic11\", \"Topic11\", \"Topic11\", \"Topic11\", \"Topic11\", \"Topic11\", \"Topic11\", \"Topic11\", \"Topic11\", \"Topic11\", \"Topic11\", \"Topic11\", \"Topic11\", \"Topic11\", \"Topic11\", \"Topic11\", \"Topic11\", \"Topic11\", \"Topic11\", \"Topic11\", \"Topic11\", \"Topic11\", \"Topic11\", \"Topic11\", \"Topic11\", \"Topic11\", \"Topic12\", \"Topic12\", \"Topic12\", \"Topic12\", \"Topic12\", \"Topic12\", \"Topic12\", \"Topic12\", \"Topic12\", \"Topic12\", \"Topic12\", \"Topic12\", \"Topic12\", \"Topic12\", \"Topic12\", \"Topic12\", \"Topic12\", \"Topic12\", \"Topic12\", \"Topic12\", \"Topic12\", \"Topic12\", \"Topic12\", \"Topic12\", \"Topic12\", \"Topic12\", \"Topic12\", \"Topic12\", \"Topic12\", \"Topic12\", \"Topic12\", \"Topic12\", \"Topic13\", \"Topic13\", \"Topic13\", \"Topic13\", \"Topic13\", \"Topic13\", \"Topic13\", \"Topic13\", \"Topic13\", \"Topic13\", \"Topic13\", \"Topic13\", \"Topic13\", \"Topic13\", \"Topic13\", \"Topic13\", \"Topic13\", \"Topic13\", \"Topic13\", \"Topic13\", \"Topic13\", \"Topic13\", \"Topic13\", \"Topic13\", \"Topic13\", \"Topic13\", \"Topic13\", \"Topic13\", \"Topic13\", \"Topic13\", \"Topic13\", \"Topic13\", \"Topic13\", \"Topic13\", \"Topic13\", \"Topic13\", \"Topic13\", \"Topic13\", \"Topic14\", \"Topic14\", \"Topic14\", \"Topic14\", \"Topic14\", \"Topic14\", \"Topic14\", \"Topic14\", \"Topic14\", \"Topic14\", \"Topic14\", \"Topic14\", \"Topic14\", \"Topic14\", \"Topic14\", \"Topic14\", \"Topic14\", \"Topic14\", \"Topic14\", \"Topic14\", \"Topic14\", \"Topic14\", \"Topic14\", \"Topic14\", \"Topic14\", \"Topic14\", \"Topic14\", \"Topic14\", \"Topic14\", \"Topic14\", \"Topic15\", \"Topic15\", \"Topic15\", \"Topic15\", \"Topic15\", \"Topic15\", \"Topic15\", \"Topic15\", \"Topic15\", \"Topic15\", \"Topic15\", \"Topic15\", \"Topic15\", \"Topic15\", \"Topic15\", \"Topic15\", \"Topic15\", \"Topic15\", \"Topic15\", \"Topic15\", \"Topic15\", \"Topic15\", \"Topic15\", \"Topic15\", \"Topic15\", \"Topic15\", \"Topic15\", \"Topic15\", \"Topic15\", \"Topic15\", \"Topic15\", \"Topic15\", \"Topic16\", \"Topic16\", \"Topic16\", \"Topic16\", \"Topic16\", \"Topic16\", \"Topic16\", \"Topic16\", \"Topic16\", \"Topic16\", \"Topic16\", \"Topic16\", \"Topic16\", \"Topic16\", \"Topic16\", \"Topic16\", \"Topic16\", \"Topic16\", \"Topic16\", \"Topic16\", \"Topic16\", \"Topic16\", \"Topic16\", \"Topic16\", \"Topic16\", \"Topic16\", \"Topic16\", \"Topic16\", \"Topic16\", \"Topic16\", \"Topic17\", \"Topic17\", \"Topic17\", \"Topic17\", \"Topic17\", \"Topic17\", \"Topic17\", \"Topic17\", \"Topic17\", \"Topic17\", \"Topic17\", \"Topic17\", \"Topic17\", \"Topic17\", \"Topic17\", \"Topic17\", \"Topic17\", \"Topic17\", \"Topic17\", \"Topic17\", \"Topic17\", \"Topic17\", \"Topic17\", \"Topic17\", \"Topic17\", \"Topic17\", \"Topic17\", \"Topic17\", \"Topic17\", \"Topic17\", \"Topic17\", \"Topic17\", \"Topic17\", \"Topic17\", \"Topic17\", \"Topic17\", \"Topic17\", \"Topic17\", \"Topic17\", \"Topic17\", \"Topic17\", \"Topic17\", \"Topic17\", \"Topic17\", \"Topic17\", \"Topic17\", \"Topic17\", \"Topic17\", \"Topic17\", \"Topic17\", \"Topic17\", \"Topic18\", \"Topic18\", \"Topic18\", \"Topic18\", \"Topic18\", \"Topic18\", \"Topic18\", \"Topic18\", \"Topic18\", \"Topic18\", \"Topic18\", \"Topic18\", \"Topic18\", \"Topic18\", \"Topic18\", \"Topic18\", \"Topic18\", \"Topic18\", \"Topic18\", \"Topic18\", \"Topic18\", \"Topic18\", \"Topic18\", \"Topic18\", \"Topic18\", \"Topic18\", \"Topic18\", \"Topic18\", \"Topic18\", \"Topic18\", \"Topic18\", \"Topic18\", \"Topic18\", \"Topic18\", \"Topic19\", \"Topic19\", \"Topic19\", \"Topic19\", \"Topic19\", \"Topic19\", \"Topic19\", \"Topic19\", \"Topic19\", \"Topic19\", \"Topic19\", \"Topic19\", \"Topic19\", \"Topic19\", \"Topic19\", \"Topic19\", \"Topic19\", \"Topic19\", \"Topic19\", \"Topic19\", \"Topic19\", \"Topic19\", \"Topic19\", \"Topic19\", \"Topic19\", \"Topic19\", \"Topic19\", \"Topic19\", \"Topic19\", \"Topic19\", \"Topic19\", \"Topic20\", \"Topic20\", \"Topic20\", \"Topic20\", \"Topic20\", \"Topic20\", \"Topic20\", \"Topic20\", \"Topic20\", \"Topic20\", \"Topic20\", \"Topic20\", \"Topic20\", \"Topic20\", \"Topic20\", \"Topic20\", \"Topic20\", \"Topic20\", \"Topic20\", \"Topic20\", \"Topic20\", \"Topic20\", \"Topic20\", \"Topic20\", \"Topic20\", \"Topic20\", \"Topic20\", \"Topic20\", \"Topic20\", \"Topic20\", \"Topic20\", \"Topic20\"], \"Total\": [4619.0, 3636.0, 2874.0, 841.0, 2367.0, 896.0, 511.0, 1371.0, 1485.0, 381.0, 1160.0, 592.0, 1084.0, 393.0, 429.0, 1192.0, 1136.0, 399.0, 621.0, 360.0, 712.0, 388.0, 948.0, 312.0, 337.0, 358.0, 427.0, 452.0, 964.0, 833.0, 4619.793177757512, 2367.470480265849, 1371.6616768895149, 1160.5464695454907, 1084.1655663360532, 948.3188863324887, 833.1763021747191, 713.9112880985706, 709.7227619800778, 672.5520484077222, 640.9671707656264, 638.5046377048369, 625.7571365722112, 497.56200722329186, 484.19082095290423, 435.96796638124164, 426.25182995123174, 422.8031985381242, 407.7196647310009, 394.8046372728947, 378.3757041145476, 374.52857194439764, 372.2967311802175, 371.44699496683864, 367.38582683886114, 359.80409875996725, 338.64940789332104, 327.00791697430213, 309.61326120262885, 293.8235021118415, 3636.5705451099175, 2874.039268656771, 441.3825766901204, 777.3246374576539, 1136.325940689547, 627.7464114703191, 1485.5842637464852, 964.1887633706718, 759.8438976015567, 1192.4682166352457, 897.2003701442551, 601.3902239184646, 712.1746605418247, 621.5608847376874, 896.4966906775034, 334.01833054134784, 328.7352178080119, 311.94904912628635, 232.92022707979856, 178.24987463839852, 173.23867971114078, 150.37982913692844, 141.6007625928369, 137.00840567196718, 132.99335242592397, 121.4220357547581, 116.32290694798911, 113.72783598415846, 109.00076256119827, 108.41387127739944, 100.9782509589214, 95.49352634631853, 89.11606680233021, 73.1016194521643, 69.13413515862683, 68.8566091149218, 59.916631533210726, 58.81571060926432, 58.61948093290133, 56.603715331057174, 55.71191149869349, 54.77384282131259, 54.474899207925176, 54.43674098487828, 121.41436579600287, 427.8754713841295, 142.45473980716122, 592.5367140662036, 148.01943835495982, 150.22478969465732, 165.78610957075517, 375.0005813045392, 272.44535062125766, 478.86714768385724, 1192.4682166352457, 358.8096905502618, 302.41232843440605, 265.2465703057883, 264.87198733220595, 169.15175765710387, 139.80861596045816, 112.86260284246036, 105.26019021148116, 99.40023591482807, 94.55233462712289, 92.73006541786326, 90.70050783394609, 86.57689107278942, 85.73147594355856, 85.06127169715259, 80.5349312131964, 80.2482098963085, 71.64403895974735, 71.59769623399623, 71.44823005790462, 69.56859119616234, 67.96067893735997, 66.87867055508605, 65.85242649818986, 65.74507029538204, 63.57690911689411, 63.19536383052497, 56.46036981470895, 53.02645431056147, 53.015322354921935, 198.5918606125751, 118.57708764390836, 327.78053841771106, 198.96017587377858, 897.2003701442551, 712.1746605418247, 271.02236915070023, 429.280182472978, 399.50564360038794, 261.0154577152874, 246.1108608607733, 244.85295297510473, 189.5864977297624, 159.7286120276814, 146.5904566273737, 132.63048244429507, 128.63232312584813, 122.94412760988483, 112.06283436513178, 101.84000502121064, 87.44482540248576, 77.46282756924072, 75.6161709127274, 74.15427196417954, 71.77286414292809, 68.41270284016174, 68.0273916915307, 65.8654947699298, 59.312091342756375, 57.504702541834604, 56.783320345462535, 55.19001330102999, 55.12832131562826, 54.438680444473235, 53.677547611927146, 52.10709531939994, 50.016289339734136, 341.58940736640136, 132.60710455671494, 81.30457825794808, 123.05739187292498, 257.6432069965523, 87.17899141570034, 67.17529507516436, 86.02671209464363, 360.5604668120185, 337.5440287480288, 298.33301745403844, 158.64819829888168, 121.45588802626976, 113.60571574838279, 110.59862568740468, 109.31640002111774, 88.51256095356042, 82.43875616147966, 73.18013261759151, 71.91285869822066, 71.34935860659871, 70.89246420795551, 69.68523597711449, 67.52856069803396, 62.067983127451406, 61.089915121852556, 59.25038455716365, 49.7715255641978, 49.42780553347127, 46.184885386817925, 46.10813313472149, 42.88999928748146, 42.367849898538964, 37.90181053211279, 36.73370630162136, 35.9512326346468, 35.17485649326624, 34.97407655456148, 257.6432069965523, 89.75352873767032, 54.54768901296863, 118.19136553933, 61.679364078672755, 187.34004907934062, 76.84600651374367, 150.22478969465732, 149.64798611392328, 117.14783080865308, 87.01110707481163, 84.46814737675632, 83.02795005724681, 75.62282045082515, 68.14332381107542, 67.90333034157737, 56.14366818341576, 54.81033079066966, 53.70780231647218, 53.17585154777001, 49.79708688078971, 45.86152538955208, 43.37117452937585, 38.51534943932652, 35.3611539451566, 30.831915065221136, 29.72943199518661, 29.36157269992149, 27.516668758596246, 27.382257561013045, 28.237254484939893, 27.309913846676956, 26.973408863672397, 26.126491462210193, 25.142283060941686, 25.0406046840819, 24.982232849636766, 24.830985261340178, 86.9569475319934, 54.74269334651386, 77.4492458580653, 288.71705121357013, 100.67189111427678, 145.543168455562, 116.42234763247984, 122.75718665239759, 621.5608847376874, 31.717861843906505, 53.67919890445879, 388.64029373902764, 42.75564353191273, 288.8339835268194, 141.13929319645052, 759.8438976015567, 393.14599172345095, 287.7457302542, 167.42297387084798, 117.01578445808677, 114.35543953810765, 110.31825715855456, 81.6959674306904, 70.46473630526567, 66.60574744024936, 56.04112580292996, 54.28356512872794, 53.429831184878616, 50.4800339512828, 48.007996786824634, 44.908370510955976, 44.65046161714189, 42.9390888507577, 42.88973173297925, 41.1661669768059, 40.53909939913018, 38.07614521078253, 37.9133499158449, 37.63088214898746, 35.39231839144024, 33.7641667078096, 33.04461143234309, 32.93669903562603, 32.66047177690436, 31.568792664179938, 29.95249690947235, 125.29991621439271, 146.98051434669395, 104.07041623365382, 135.87721445366432, 150.01450430211202, 214.2032257166663, 295.3895568776135, 327.78053841771106, 511.2695430572874, 173.57898781220538, 140.20420998858893, 108.64097979889475, 105.1787914635199, 101.78972264884806, 90.90181696850344, 77.0857021592216, 68.4102453968216, 56.01113468280593, 53.357516944896254, 50.08994477516012, 48.42999407139914, 272.26518715002675, 45.45678753857243, 45.317367032162615, 43.96350149415506, 43.88075568969535, 43.676595970748934, 38.90075949553377, 35.06619067137372, 34.776423959826246, 34.54936372788826, 33.74440386016461, 33.303450032764154, 32.87614170582469, 31.886170747351112, 29.39166011444754, 28.657735009333287, 28.537276226360927, 346.0619897067536, 161.84430317187815, 366.98333090958073, 444.5550043025478, 118.63816606931111, 110.55147435312655, 86.25630480976687, 71.5690964165567, 65.61956447362472, 61.65614758609713, 56.79369713362531, 56.68095994566738, 46.278566513379246, 45.56435777659921, 45.18954917238435, 42.740720929915355, 41.45274884738879, 41.43450741367721, 40.76225941398256, 40.18800322431324, 39.114643718607915, 39.09588535073989, 35.15827263239814, 35.07107919162842, 34.197288666189394, 34.016549758422705, 33.60003342522171, 32.20623268846258, 32.136343622033564, 32.09504537103463, 31.878926086303718, 31.56117825587815, 28.84560205170798, 25.93520771882368, 388.64029373902764, 57.49593267304131, 141.13929319645052, 91.73248065894052, 288.71705121357013, 187.34004907934062, 235.89809580961992, 167.69683870295867, 116.42234763247984, 317.5563036622916, 335.9632671390754, 135.91474434101715, 112.34101337790548, 106.83046278222352, 82.05904877380944, 81.26786112741385, 71.33443466071176, 67.62887806363408, 67.60042971429574, 66.11560685496336, 66.04352913577729, 65.56727108107977, 65.40758198833838, 60.60521672040145, 60.053360376461065, 59.71995219495292, 59.403996364303104, 56.25680036199355, 55.58061741695775, 54.14546265801631, 49.09894877299974, 47.50368547390643, 43.221954230177865, 41.44904876795368, 40.62490021265843, 37.551018729615095, 37.36759659529734, 35.98568108932245, 35.74778687626735, 35.58944802169437, 35.144992386215925, 135.8982033075528, 207.73336323683702, 78.44242313769371, 272.44535062125766, 161.84430317187815, 122.75718665239759, 96.60544363246754, 157.99499854224544, 110.88897039383724, 98.20552229469982, 84.15841481089637, 77.72739823950474, 75.14231050399978, 70.37773429638034, 59.586692193867336, 59.5045310084613, 58.8637584111563, 58.2634490610137, 56.499509054716064, 55.28656194786902, 50.18484838572979, 49.092971172175154, 45.176897479543435, 44.96822420957831, 42.568440662506426, 41.8511866202856, 40.268096664959614, 39.2377825790779, 37.46131719402881, 34.67547357087253, 34.02108343493397, 30.597785200104724, 30.383069633914058, 29.99912441857144, 29.887112190069033, 28.87541969883292, 28.12574197181139, 96.30942418584968, 47.6185296766769, 35.77521329648579, 592.5367140662036, 49.93673461736892, 841.2394887175911, 312.8103173158715, 94.64613065064502, 91.03865440172815, 83.10971455746184, 64.76011548649006, 63.18212846573499, 58.60435041616624, 56.30441797804069, 39.8624125084788, 39.842966574681995, 34.53593825225306, 34.0959929215103, 32.92472965887091, 32.0940074157842, 28.36514280825319, 27.077197198625147, 26.04663968203512, 25.285346415634315, 24.926820394163546, 24.18026813528913, 24.036304562627752, 22.540412210691592, 22.06955991986423, 21.00719448204321, 20.159859678573437, 20.049544929683456, 19.740039205732685, 19.687776415147553, 19.606017070268322, 105.39905784805245, 50.71925041648148, 216.17531024737093, 191.89060963949703, 163.37551386834582, 126.61647515912516, 126.61367491033073, 117.72250232021364, 106.56747838013834, 85.13923651388652, 71.90893986862291, 65.06808026703735, 59.79446092228655, 56.69178678044529, 55.33887685766668, 53.94785199725712, 53.57169404244364, 49.458581401730946, 47.68383062372169, 46.34314223813462, 45.4810050115758, 45.26389203994496, 43.99646987061758, 38.8547122931141, 38.84846193395234, 38.166251739192084, 35.569215094520075, 34.77036972963173, 33.99202112245118, 30.98911311062832, 29.120404225416525, 28.972841618481038, 214.2032257166663, 95.84459911199649, 452.8967120056569, 267.4674232894974, 712.1746605418247, 478.86714768385724, 199.3392821091296, 2874.039268656771, 381.5040288642807, 210.92636628748528, 97.57544159558181, 84.61180006659552, 77.8581659365663, 71.54378849988608, 70.59528417189397, 70.35331052755053, 68.02184941913157, 67.61773636391096, 63.86250830035456, 57.21605969786954, 54.381795160996326, 50.47894274684595, 44.095863098039466, 41.71909960025017, 40.92867886175563, 39.550558073865616, 35.43120891516685, 34.99009019168297, 34.6922268768846, 34.37010741678107, 34.205475998865225, 33.57835332582046, 33.329069065041956, 32.11421178204817, 31.120135550002978, 29.692394057050453, 27.968737318717032, 26.22684928263205, 107.36135099447912, 85.98308198272026, 81.14670947608009, 73.37215767176725, 70.76219333644624, 67.98015646595302, 47.00361524996952, 45.27962764683162, 37.64702399289011, 36.8496565390038, 36.479233887910766, 35.10128658575683, 34.060647256785145, 30.703053212763635, 29.95905331827601, 29.17685330373378, 28.642232675628104, 25.407502364676, 25.099074647046365, 24.781009794012412, 24.194370770714073, 23.710757392607988, 21.646233164145464, 21.473927948851173, 21.467599918032406, 20.74794256155545, 19.551574940316033, 18.819773090286905, 18.74391958608059, 18.270805158696113, 59.3018513724513, 1192.4682166352457, 118.16037971086446, 71.22481135881308, 67.8106335644761, 67.81021319070953, 55.1950505432661, 51.76604596476985, 45.84424946825856, 42.445187614596556, 41.151974624576305, 40.784824248812896, 38.40317740591454, 38.0513941886245, 30.509438304879787, 28.939651176541602, 27.80245424845578, 27.370653371910212, 27.296556788486612, 26.569560301809627, 26.425791473162604, 26.188888153080182, 26.032613191752574, 24.335573542958198, 23.45008671335981, 22.259381729083252, 21.11344418676803, 21.01014293642245, 20.868556515711358, 20.51146203666616, 20.48192799340684, 20.04439544296612, 184.6085809179047, 75.94248025565595, 53.832090159220215, 47.40323247869155, 37.9865288991753, 36.62396290508069, 36.184015984050525, 35.11995087154809, 30.789068687268436, 27.93064219810018, 26.880808290804403, 24.057209423178207, 23.96894078014796, 23.86670476449441, 23.407832060500148, 23.358653307263246, 21.988510084080065, 20.674540471569365, 20.62031573494494, 20.223970967252367, 20.197510471313628, 19.801472821555116, 19.749160676990893, 18.801372930812292, 17.766608823720983, 18.544231216645272, 18.544231216645272, 18.544231216645272, 18.544231216645272, 18.544231216645272, 18.544231216645272, 18.544231216645272, 18.544231216645272, 18.544231216645272, 18.544231216645272, 18.544231216645272, 18.544231216645272, 18.544231216645272, 18.544231216645272, 18.544231216645272, 18.544231216645272, 18.544231216645272, 18.544231216645272, 18.544231216645272, 18.544231216645272, 18.544231216645272, 18.544231216645272, 18.544231216645272, 18.544231216645272, 271.02236915070023, 18.544231216645272, 241.37618867485867, 85.20418436740155, 80.47910936622907, 68.94812720832093, 61.6379020886866, 45.32339716493111, 40.280683841741016, 34.49959798780771, 34.12618166967819, 30.955100821328614, 30.222458044084437, 30.213937649476318, 30.213937649476318, 30.213937649476318, 30.213937649476318, 30.213937649476318, 30.213937649476318, 30.213937649476318, 30.213937649476318, 30.213937649476318, 30.213937649476318, 30.213937649476318, 30.213937649476318, 30.213937649476318, 28.358622190361757, 26.667062476630402, 24.53112197431153, 22.41208426817225, 19.88216857887724, 19.78115929879258, 20.451351835476228, 20.47703741525953, 20.477037415259534, 207.73336323683702, 170.64822145750864, 70.44606855179352, 64.31176827608358, 62.07855642373145, 58.966853924859876, 54.567509261839376, 45.87200088648838, 42.9315477616072, 42.79869952977733, 39.7838674930352, 36.600063146476984, 34.665467261993626, 33.58828826179486, 31.958003316066875, 30.25921577747962, 28.86311812639364, 28.385311124367206, 27.661788067935905, 25.831489630572538, 25.510273083651377, 25.028351840351, 24.91452390036502, 24.516494428949958, 24.41429836621296, 23.54205533187501, 22.972796580772183, 22.38737283069526, 20.663624803715386, 20.58901376833006, 20.49484251108623, 105.39905784805245, 114.11477723749378, 78.30071563875143, 59.241355316080266, 46.81502107390144, 42.712105370077495, 40.087431138736406, 36.968449198624384, 33.64212428962193, 30.98690523852343, 30.85903271578916, 28.973104317194483, 28.652773207216367, 26.874600617678116, 24.288462575007447, 23.790726232413977, 22.53026391149112, 22.18589133080327, 21.529546916554338, 20.66012282874388, 20.618495503918048, 20.24908632963575, 18.16530981692279, 17.844946570815065, 17.03557162737056, 17.029363160680155, 16.87578117945122, 16.506886379186014, 16.33614223754062, 16.24960401446077, 15.530553159648182, 33.0969008831882, 76.84083173541521], \"Term\": [\"\\uac83\", \"\\uac8c\\uc784\", \"\\uc218\", \"\\uc774\\ubca4\\ud2b8\", \"\\ud788\\uc624\\uc2a4\", \"\\ub9e4\\uce6d\", \"\\ubcf4\\uc0c1\", \"\\uc0dd\\uac01\", \"\\uc800\", \"\\uc2a4\\ud0a8\", \"\\uc774\", \"\\ube60\\ub300\", \"\\uc720\\uc800\", \"\\ud0c8\\uc8fc\", \"\\uc791\\uc131\\uc790\", \"\\uc9c4\\uc9dc\", \"\\ub54c\", \"\\uc2dc\\uacf5\", \"\\uc801\", \"\\uc774\\uac70\", \"\\ube14\\ub9ac\\uc790\\ub4dc\", \"\\ud2b9\\uc131\", \"\\uc720\\uc800\\ub4e4\", \"\\uac90\\uc9c0\", \"\\ub514\\ubc14\", \"\\uc695\", \"\\uc560\", \"\\uc2dc\\uac04\", \"\\uc0ac\\ub78c\", \"\\ub9d0\", \"\\uac83\", \"\\ud788\\uc624\\uc2a4\", \"\\uc0dd\\uac01\", \"\\uc774\", \"\\uc720\\uc800\", \"\\uc720\\uc800\\ub4e4\", \"\\ub9d0\", \"\\uc624\\ubc84\\uc6cc\\uce58\", \"\\ubb50\", \"\\ubb38\\uc81c\", \"\\ud018\\uc2a4\\ud2b8\", \"\\uc2dc\\uc791\", \"\\ud50c\\ub808\\uc774\", \"\\uadf8\", \"\\uc774\\ubc88\", \"\\uae00\", \"2.0\", \"\\uacbd\\uc6b0\", \"\\uce90\\ub9ad\\ud130\", \"\\ud55c\\ubc88\", \"\\uac70\", \"\\uc911\", \"\\ub9f5\", \"\\uc9c0\", \"\\uc7ac\\ubbf8\", \"\\ube60\\ub978\\ub300\\uc804\", \"\\uc801\\uc6a9\", \"\\uadfc\\ub370\", \"\\ub864\", \"\\uc790\\uccb4\", \"\\uac8c\\uc784\", \"\\uc218\", \"\\uc804\", \"\\ub370\", \"\\ub54c\", \"\\uc2dc\\uc2a4\\ud15c\", \"\\uc800\", \"\\uc0ac\\ub78c\", \"\\uc601\\uc6c5\", \"\\uc9c4\\uc9dc\", \"\\ub098\", \"\\ub9ac\", \"\\ube14\\ub9ac\\uc790\\ub4dc\", \"\\uc801\", \"\\ub9e4\\uce6d\", \"5\\ud310\", \"\\uc77c\\ubc18\\uc804\", \"\\uc870\\ud569\", \"\\ubd84\", \"\\ub178\\ubc14\", \"\\uc804\\uc0ac\", \"\\uc6b0\\ub9ac\\ud300\", \"\\ud328\\uc791\", \"\\uc81c\\uc678\", \"\\uc554\\uc0b4\\uc790\", \"\\uc9c0\\uc6d0\\uac00\", \"0\", \"\\ucd5c\\uc18c\\ud55c\", \"\\uc544\\ubc14\\ud22c\\ub974\", \"4\", \"\\uc0c1\\ub300\\ud300\", \"\\ud790\\ub7ec\", \"\\ub79c\\ub364\", \"\\uacc4\\uc18d\", \"\\ub9e4\\uce6d\\uc2dc\\uc2a4\\ud15c\", \"\\ubd84\\uba85\", \"\\ud14c\\uc2a4\\ud2b8\\uc11c\\ubc84\", \"\\uc801\\ud300\", \"\\uc5ff\", \"\\uc804\\ubb38\\uac00\", \"3\\ud310\", \"5\\uc778\\ud31f\", \"5\\uba85\", \"\\uad6c\\uc870\", \"\\ud53d\", \"\\uc560\", \"\\ud0f1\\ucee4\", \"\\ube60\\ub300\", \"5\", \"\\ud53c\\ud574\", \"\\uac4d\", \"\\uc0c1\\ub300\", \"\\uac1c\", \"\\ud300\", \"\\uc9c4\\uc9dc\", \"\\uc695\", \"\\ud310\", \"\\uc2e0\\uace0\", \"\\uc81c\\uc81c\", \"\\uc218\\uc900\", \"\\uc800\\ubc88\", \"\\uc624\\ub958\", \"\\ub108\", \"\\uc0c81\\ub07c\\ub4e4\", \"\\ub9ac\\ud50c\\ub808\", \"\\ubb38\\uc758\", \"\\uc815\\uc9c0\", \"\\uc798\\ubabb\", \"\\uc81c\", \"\\uace0\\uc758\", \"\\uc774\\ub7f0\\uac70\", \"\\uc5b5\\uc6b8\", \"\\ube61\\uccd0\\uc11c\", \"\\ub9e4\\ub108\", \"\\ubc84\\ud2bc\", \"\\ub0a0\\uc870\", \"\\uac8c\\uc784\\ub0b4\", \"\\ud788\\ub9b0\", \"\\ub3c4\\ubc30\", \"4\\uc77c\", \"\\uace0\\uc758\\ud2b8\\ub864\", \"\\ud3c9\\uc18c\", \"\\ub098\\uc911\", \"\\uc758\\ub3c4\\uc801\", \"\\u314e\\u314e\", \"\\uc695\\uc124\", \"\\uc5b4\\ub514\", \"\\uc81c\\uc7ac\", \"\\ucc44\\ud305\", \"\\ub098\", \"\\ube14\\ub9ac\\uc790\\ub4dc\", \"\\ub2c8\", \"\\uc791\\uc131\\uc790\", \"\\uc2dc\\uacf5\", \"2017.\", \"\\ub808\\ubca8\", \"\\ub3c4\\uc804\\uc790\", \"\\uae30\\ub2a5\", \"04.\", \"\\ucabd\", \"05.\", \"\\ucc98\\ubc8c\", \"\\uacbd\\ud5d8\\uce58\", \"\\ub9c8\\uc6b0\\uc2a4\", \"\\ubd88\\uac00\\ub2a5\", \"\\ub2f5\", \"\\ud655\\uc2e4\", \"13\", \"10\", \"10\\ubd84\", \"\\ub77c\\uc778\", \"\\ubd88\", \"\\ubb54\\uac00\", \"\\ub2f7\\uc9c0\", \"\\ubd80\\ud130\", \"\\ub625\", \"\\uace0\\ud1b5\", \"\\uc785\\uc7a5\", \"\\ud53d\\ucc3d\", \"\\ucf54\\ub9ac\\uc544\", \"\\uc815\\uc0c1\", \"\\ucef4\\ud4e8\\ud130\", \"\\ub54c\\ubb38\", \"\\ubd80\\ubd84\", \"\\uac15\\ud654\", \"\\uae30\\ubcf8\", \"\\uc815\\ub3c4\", \"\\ud3ec\\ud568\", \"\\ucc98\\ub7fc\", \"\\ubc14\", \"\\uc774\\uac70\", \"\\ub514\\ubc14\", \"\\uae30\\uc874\", \"\\uc778\\uc815\", \"\\uc635\\uce58\", \"\\uc870\\uac74\", \"\\ub2c8\\ub4e4\", \"\\u314b\\u314b\", \"\\ubc94\\uc704\", \"\\ub2a5\\ub825\", \"\\ud65c\\uc131\\ud654\", \"\\ubd80\\ud65c\", \"\\ud06c\\ub85c\\ubbf8\", \"\\ub2e8\\uc810\", \"\\uba54\\ub514\\ube0c\", \"\\ucc28\\uc774\", \"\\uc9c4\\uc9c0\", \"\\uc77c\\ub9ac\\ub2e8\", \"\\uba87\", \"\\uc5c5\\ub370\\uc774\\ud2b8\", \"\\uc54c\\ub77c\\ub77c\\ud06c\", \"\\ubcf4\\uc720\", \"\\ubaa8\", \"\\ucd08\\uac08\", \"\\ub85c\\ubd07\", \"1\\ud68c\", \"\\ud56d\\uc804\", \"\\uc2e4\\uba85\", \"\\ud604\\uc2e4\", \"\\uc608\\uc815\", \"\\uc815\\ub3c4\", \"\\uce90\\ub9ad\", \"\\ub1cc\", \"\\uc544\\ubb34\\uac83\", \"\\uce74\\uc6b4\\ud130\", \"\\ucd94\\uac00\", \"\\uc790\\ub9ac\", \"\\ud53c\\ud574\", \"\\ubc1c\\ub9ac\\ub77c\", \"\\uccb4\\ub825\", \"\\uc815\\uc0c1\\uc801\", \"1\\ucd08\", \"\\ud558\\ub098\\ubb34\\ub77c\", \"\\ud3c9\\ud0c0\", \"\\uae30\\uc220\", \"\\uae30\\uc808\", \"\\uc99d\\uac00\", \"\\ub370\\ubbf8\", \"\\ud53c\", \"\\uc5f0\\ub9c9\", \"\\ub0c9\\ud608\", \"\\ud3ed\\ud48d\", \"\\ud6a8\\uacfc\", \"\\ubcf4\\ud638\\ub9c9\", \"\\uc9c0\\uc18d\\uc2dc\\uac04\", \"\\ubb3c\\ubab8\", \"\\ud328\\uc2dc\\ube0c\", \"\\ud0c0\\uaca9\\uac10\", \"\\uaca9\", \"\\uc274\\ub4dc\", \"\\uc0ac\\uae30\\uc544\\ub2c8\\ub77c\", \"\\ub3cc\\uc9c4\", \"\\uc2a4\\ud134\", \"\\uba38\\ud558\", \"\\uc6d0\\uc791\", \"\\ucd94\", \"\\uc544\\uc11c\\uc2a4\", \"\\ub3cc\\uaca9\\ubcd1\", \"\\uce68\\ubb35\", \"\\ud2b8\\ub808\\uc774\\uc11c\", \"\\uad81\", \"\\uc2a4\\ud0ac\", \"\\ub108\\ud504\", \"\\uc124\\uba85\", \"\\uc0ac\\uac70\\ub9ac\", \"\\ub51c\", \"\\uc801\", \"\\ub808\\uc774\\ub108\", \"\\uc0c1\\ud5a5\", \"\\ud2b9\\uc131\", \"\\uac10\\uc18c\", \"\\uc904\", \"\\uacf5\\uaca9\", \"\\uc601\\uc6c5\", \"\\ud0c8\\uc8fc\", \"\\u314b\\u314b\\u314b\\u314b\\u314b\", \"\\ud788\\uc5b4\\ub85c\\uc988\", \"\\ubd88\\ud3b8\", \"\\uc810\\uc218\", \"\\uc2a4\\ud1b0\", \"\\uc815\\ud655\", \"\\ud0c8\\uc8fc\\uc790\", \"\\uc2e0\\uace0\\uae30\\ub2a5\", \"\\uc8c4\\uc1a1\", \"\\uc778\\ud130\\ub137\", \"\\ub9ac\\uc14b\\ub418\\ub294\\uac70\\uc5d0\\uc694\", \"\\ud589\\ub3d9\", \"3\\uc77c\", \"\\ub2f5\\ub2f5\", \"\\uc7ac\\uc811\\uc18d\", \"\\ud398\\uc774\\uc9c0\", \"14\\uc2dc\", \"\\uace0\\uac1d\\uc9c0\\uc6d0\", \"\\uc0ac\\ub9ac\", \"\\uc5ec\\ub7ec\\ubc88\", \"\\ub3c4\\uc911\", \"\\uc0ac\\uc6a9\\uc790\", \"\\ud589\\uc704\", \"\\ud658\\uacbd\", \"\\ub0b4\\uc5ed\", \"\\uc811\\uc218\", \"\\ud788\\ub9b0\\uc774\\ub4e4\", \"\\uc5f0\\uacb0\", \"\\ud2b9\\uc131\\uc0c1\", \"\\ucc38\\uc5ec\", \"\\uc624\\ube0c\", \"\\ub2f5\\ubcc0\", \"\\ud328\\ub110\\ud2f0\", \"\\uacc4\\uc815\", \"\\uc9c4\\ud589\", \"\\ud655\\uc778\", \"\\uc81c\\uc7ac\", \"\\ubcf4\\uc0c1\", \"\\ubc30\\uce58\", \"\\ud300\\ub9ac\\uadf8\", \"\\ud45c\\uc2dc\", \"\\uc2dc\\uc98c\", \"\\ud574\\uacb0\", \"\\ub4f1\\uae09\", \"\\ucc98\\ub9ac\", \"\\ub9c8\\uc2a4\\ud130\", \"\\ubc29\\uc1a1\", \"\\uc8fc\", \"\\ud50c\\ub808\", \"\\ud2f0\", \"\\uc601\\uc6c5\\ub9ac\\uadf8\", \"\\uac78\", \"\\uc218\\uc9d1\\ud488\", \"\\uae30\\uc874\\uc720\\uc800\", \"\\ud300\\uc6d0\\ub4e4\", \"\\ud305\\uae30\", \"\\uc2e4\\uc218\", \"\\uc800\\uc7a5\", \"5\\ubd84\", \"\\ucc98\", \"\\uc788\\ub294\\uac70\", \"\\uc9c0\\uacbd\", \"\\uc5c6\\ub294\\uac70\", \"\\ud788\\uc624\\uc2a4\\uc5d0\\uc120\", \"\\ubc30\\uce58\\uacbd\\uae30\", \"\\uc5bc\\ub9c8\", \"\\u3144\\ub4e4\", \"\\ub4f1\\uae09\\uc804\", \"\\uc790\\uae30\", \"\\uce5c\\uad6c\", \"\\uc601\\ub9ac\", \"\\uc7a5\\ub9c9\", \"\\uc624\\ube0c\\uc81d\\ud2b8\", \"\\uc2e0\\uaddc\", \"\\uc2a4\\ud0ac\\ub4e4\", \"\\uc804\\uc7a5\", \"\\uc131\\ucc44\", \"\\uc815\\ucc30\\uae30\", \"\\uc791\\uc131\", \"\\uc790\\ud3ed\", \"\\uc81c\\uac70\", \"\\uc6d0\\uac70\\ub9ac\", \"\\uacc4\\uc2dc\", \"\\uc21c\\uac04\", \"\\ucea0\\ud504\", \"\\uc774\\ub984\", \"\\ube0c\\ub77d\\uc2dc\\uc2a4\", \"\\ub9c8\\ucc2c\\uac00\\uc9c0\", \"\\ub2e8\\ucd95\\ud0a4\", \"\\ud0a4\", \"\\ud558\\ub098\\ubb34\", \"\\ud574\\uba38\", \"\\ucf00\\ub9ad\", \"\\uba38\\uac00\\ub9ac\", \"\\uc218\\ud589\", \"3\\ud68c\", \"\\uc2dc\\uc804\", \"\\uc2dc\\uc57c\", \"\\uc5f0\\uacc4\", \"\\uc544\\uc774\\ub514\\uc5b4\", \"\\uacf5\\uc131\", \"\\ud2b9\\uc131\", \"\\uac15\\ub825\", \"\\uacf5\\uaca9\", \"\\uad81\\uadf9\\uae30\", \"\\uc2a4\\ud0ac\", \"\\ucd94\\uac00\", \"\\uc0ac\\uc6a9\", \"2.\", \"\\uc0ac\\uac70\\ub9ac\", \"\\ud328\\uce58\", \"\\ub77c\", \"\\ubc14\\ub9ac\", \"\\ub4a4\", \"\\ub05d\", \"\\ud3b8\", \"\\uc2dc\", \"\\ud790\", \"\\uc740\\uc2e0\\uce90\", \"\\ud0f1\", \"\\ucd5c\\uc18c\", \"\\ud604\\uc7ac\", \"\\ucc44\\ud305\\ucc3d\", \"@#\", \"\\uac19\\uc740\\uac70\", \"\\ucc28\", \"\\ub4c0\\uc624\", \"\\uc8fc\\ubcc0\", \"\\ucfe8\", \"\\ub418\", \"\\uc548\\uadf8\\ub798\", \"\\ub2c8\\ub124\", \"\\uc77c\\ub2e8\", \"\\uc5d0\\ud734\", \"\\uc9c8\\ubb38\", \"2\\ubc88\", \"\\ud655\\ub960\", \"\\uc0dd\\uc874\\uae30\", \"\\ub3c4\\uc8fc\", \"\\uacfc\\uac70\", \"\\uae30\\ub300\", \"\\ud575\\uc2ec\", \"\\uad81\\uae08\", \"\\ud55c\\ud0c0\", \"\\uc77c\\ubc18\", \"\\uac1c\", \"\\uc790\\uae30\", \"\\ub51c\", \"\\ud574\", \"\\ud30c\\ud2f0\", \"\\ube0c\\ub860\\uc988\", \"\\uacf5\\uc9c0\", \"\\ud2f0\\ub9ac\\uc5d8\", \"\\ubcf8\\uc12d\", \"\\ub2e4\\uc774\\uc544\", \"\\uc0ac\\ubb34\", \"22\\uc2dc\", \"\\uba54\\uce74\", \"2\\uba85\", \"\\uc2b9\\ubd80\", \"\\ub300\\ucc98\", \"\\ucd08\\ubcf4\", \"10\\ud310\", \"\\uaf34\", \"\\ucf5c\\ub77c\\ubcf4\", \"\\ud56d\\ubcf5\", \"\\uc9dc\\uc99d\", \"\\ud658\\ubd88\", \"\\uc81c\\ubaa9\", \"\\uc9c0\\uc18d\", \"3\\uba85\", \"\\uc774\\ud574\\ub3c4\", \"\\uba87\\ud310\", \"\\ud300\\ub9ac\", \"\\ub0ae\", \"40\", \"\\uc5f0\\ub3d9\", \"\\ud14c\\uc2a4\\ud2b8\", \"\\ubc88\\uc5ed\", \"\\ud558\\ub294\\uac70\", \"\\uc6a9\\ubcd1\", \"\\uc758\\uc9c0\", \"\\ube60\\ub300\", \"\\uc0c1\\ub300\\ud3b8\", \"\\uc774\\ubca4\\ud2b8\", \"\\uac90\\uc9c0\", \"\\ub2e4\\uc74c\", \"\\uacbd\\ucc30\\ub514\\ubc14\", \"\\ucd08\\uae30\\ud654\", \"\\uc9c8\\ud48d\\ucc38\", \"\\u3139\\u3147\", \"4\\ubc88\", \"\\uc5ed\\uc804\", \"\\uc6a9\\uac80\", \"3\\ubc88\", \"\\u3142\\u3137\\u3142\\u3137\", \"\\uce74\\uc6b4\\ud2b8\", \"\\ub9cc\\uc871\", \"\\uad6c\\uc131\", \"\\ud130\", \"8\\ucd08\", \"\\ub300\\uae30\\uc2dc\\uac04\", \"\\ud3ec\\ud0d1\", \"\\uc65c\\ub0d0\", \"\\uace0\\ub204\\ub974\", \"\\ubc31\\uc218\", \"\\uc0c1\\uc0c1\", \"\\ud328\\uc791\\ud31f\", \"\\ub3d9\\ub124\", \"\\uc774\\uc810\", \"\\ucda9\", \"\\ub2e4\\uc6b4\\ub85c\\ub4dc\", \"\\uadf8\\ucabd\", \"\\ud328\\uc791\\ub7ec\\ub4e4\", \"\\uc560\\ucd08\", \"1.\", \"5\\uc6d4\", \"\\uc644\\ub8cc\", \"\\uc11c\\ubc84\", \"1\\uc8fc\\ucc28\", \"\\uc810\\uac80\", \"2\\uc8fc\\ucc28\", \"\\uc774\\uc6a9\", \"\\uc11c\\ube44\\uc2a4\", \"\\uc601\\ud5a5\", \"\\ub3d9\\uc548\", \"\\ud2b8\\ub864\\ub7ec\", \"\\uc811\\uc18d\", \"\\uc624\\uc804\", \"\\uc791\\uc5c5\", \"\\uccab\\uc9f8\\uc8fc\", \"\\ucd5c\\uc120\", \"\\ubd81\\ubbf8\", \"\\uc0c1\\uad00\", \"\\ud648\\ud398\\uc774\\uc9c0\", \"5\\uc6d41\\uc77c\", \"\\uc544\\ub798\", \"\\uc57d\", \"\\uc544\\uc774\", \"\\uc601\\uc0c1\", \"\\uc885\\ub8cc\", \"\\uc5f0\\uc18d\", \"\\ubaa9\", \"\\ub4dc\\ub9bc\", \"\\uc77c\\uc815\", \"\\ub9c8\\uc9c0\\ub9c9\\uc8fc\", \"\\uc9c4\\ud589\", \"\\ub0b4\\uc6a9\", \"\\uc2dc\\uac04\", \"\\uac10\\uc0ac\", \"\\ube14\\ub9ac\\uc790\\ub4dc\", \"\\ud300\", \"\\uc548\\ub155\", \"\\uc218\", \"\\uc2a4\\ud0a8\", \"\\uc624\\ub2c8\\uac90\\uc9c0\", \"\\uc0c1\\uc790\", \"\\ucd08\\uc0c1\\ud654\", \"\\uc804\\ub9ac\\ud488\", \"\\uc0c1\\ud488\", \"\\uc2a4\\ud504\\ub808\\uc774\", \"\\ub204\\ub354\\uae30\", \"\\ubb36\\uc74c\", \"\\uc2dc\\uacf5\\uc11d\", \"\\ud68d\\ub4dd\", \"\\uae30\\uac04\", \"\\uad6c\\ub9e4\", \"\\ubaa8\\uc2b5\", \"\\uadf8\\ub54c\", \"\\ub9ac\\ubc0d\", \"\\ub514\\ubc14\\uc2a4\\ud0a8\", \"\\uc2b9\\ud328\", \"\\uc544\\ub098\\uc6b4\\uc11c\", \"\\uc804\\ub9ac\\ud488\\uc0c1\\uc790\", \"\\ud560\\uc778\\uc728\", \"\\ud30c\\ud3b8\", \"\\uc9c0\\uae09\", \"\\ud29c\\ud1a0\\ub9ac\\uc5bc\", \"\\uc9c4\\ucc99\\ub3c4\", \"\\uac00\\uaca9\", \"\\uc2a4\\ud0a8\\ub4e4\", \"\\uc804\\uc124\", \"\\uae43\\ubc1c\", \"\\uc811\\uadfc\\uc131\", \"\\ucc28\\ub2e8\", \"15\\ud310\", \"\\ud55c\\uad6d\", \"\\ud55c\\ud310\", \"\\ud604\\uc0c1\", \"\\uc2e4\\ubc84\", \"\\uac80\\uc0c9\", \"\\uc99d\\uac70\", \"\\ub2c9\", \"\\uc2a4\\ud0c0\", \"\\uc804\\uc801\", \"\\ubc1c\", \"\\ub85c\\ub529\", \"\\ubd81\\ubbf8\\uc12d\", \"\\uc678\\uad6d\", \"\\uc0ac\\uc591\", \"\\ud0c8\\uc8fc\\ud328\\ub110\\ud2f0\", \"\\ud1b5\\uacc4\\ucc3d\", \"\\u3161\\u3161\", \"\\ub300\\ub85c\", \"\\ud55c\\uad6d\\uc778\", \"\\u31461\\ubc1c\", \"\\ud50c\\ub808\\uc774\\ud55c\", \"\\uac1c\\uac19\\uc740\", \"0.\", \"\\uc5ed\\ub300\\uae09\", \"\\uce5c\\uad6c\\ucd94\\uac00\", \"\\uc811\\uadfc\", \"\\uadd3\\uc18d\\ub9d0\", \"\\uac8c\\uc784\\ud50c\\ub808\\uc774\", \"\\uc0c8\\ub07c\\ub4e4\", \"\\uc9c4\\uc9dc\", \"\\uc720\\uc785\", \"\\ub2c9\\ub124\\uc784\", \"4\\uc6d4\", \"\\uacbd\\ucc30\", \"\\ubcd1\\uc2e0\", \"\\uc774\\ub7f0\\uc2dd\", \"\\uc0ac\\uc774\\ud2b8\", \"27\", \"\\ubc30\\ud2c0\\ub137\", \"\\ub300\\uc0ac\", \"\\ubd80\\uc871\\ud55c\", \"12\\uc2dc\", \"\\uc4f0\\ub808\\uae30\", \"\\ucde8\\uae09\", \"\\uc62c\\ub9b0\\uac70\", \"\\ubc18\\ubc15\", \"@#\\ub4e4\", \"\\ub7ad\\ud06c\", \"\\ubc30\\ud2c0\\ud0dc\\uadf8\", \"\\uc9c0\\ud615\", \"20\\uc2dc\", \"\\u3148\\uac19\", \"\\uae30\\uc874\\uc720\\uc800\\ub4e4\", \"\\ubb34\\uc801\", \"\\ud558\\ub4dc\", \"\\ubaa9\\uc18c\\ub9ac\", \"\\ucd9c\\ub825\", \"\\uc21c\\uc11c\", \"\\uc911\\uc704\", \"\\ucde8\\uc9c0\", \"\\uc778\\uacf5\\uc9c0\\ub2a5\", \"\\uc815\\uc2e0\\uc2b9\\ub9ac\", \"\\ud2f0\\ub77c\\ub178\", \"\\uc644\\uc804\", \"\\ub17c\\ub9ac\", \"\\ubaa8\\ub4dc\", \"\\ubeb4\\uc561\", \"+\", \"\\uc5b4\\uc9c0\\uac04\", \"\\ub9d0\\ud2f0\\uc5d8\", \"\\ubaa8\\ub784\", \"\\uac70\\uc9c0\", \"\\uace0\\uc778\", \"\\ud2f0\\uc5b4\", \"\\uc0dd\\uc874\\ub825\", \"\\uce74\\ub77c\\uc9d0\", \"\\ub9d0\\ud4e8\", \"\\ubc34\\ud558\", \"\\uc800\\uc0c8\\ub07c\\ub4e4\", \"\\uc6b0\\ub450\\uba38\\ub9ac\", \"\\uc774\\ub3d9\\uae30\", \"\\uad6c\\ubd84\", \"\\u315c\\u315c\", \"\\ucd95\\uc131\", \"\\ubd88\\ub9ac\", \"\\uac9c\\uc811\\uc5b4\\ub77c'\", \"\\uc2e4\\ubc844\\ub124\", \"\\uc804\\ub7b5\\uc774\\ud6c4\", \"\\ubabb\\ub9de\\ucd94\\ub124\\uc774\\ub7fc\\uadf8\\ub7ec\\ub354\\ub2c8\", \"\\ud2f0\\ub77c\\ub178,\", \"\\uc5b8\\uae09\\ud558\\uc790\", \"\\uadf8\\ub9b0\", \"\\uc2dc\\uc804\\ud6c4\", \"\\uc5e0\\ube44\\ud53c\\ub738\", \"\\ud0a4\\ubc30\\uc911\", \"\\ud30c\\ud2f0\\ub97c\\ub9fa\\uace0\\uc788\\ub358\", \"\\ub9d0\\ud568\\uc815\\uc791\", \"\\uc8fc\\uc791\\ud574\\uc11c\", \"\\ubabb\\ub9de\\ucda4\\ub0b4\", \"\\uad6c\\ub77c\\ub97c\\uce68\\ud328\\ub4dc\\ub9bd\\uc774\\ud6c4\", \"\\uc815\\uce58,\\uc695\\uc124\\uc2dc\\uc804\\uac9c\", \"\\uc5e0\\ucc3d\\uc0c8\\ub07c\", \"\\uc54c\\ucf54\\uc62c\\uc911\\ub3c5\", \"\\ub4b7\\ubd81\\uce68\", \"\\uc0ac\\uac74\\uac1c\\uc694\\uae00\", \"2\\uc8fc\\uc77c\\uc815\", \"\\uce5c\\uad6c\\ubd80\\ub974\", \"\\uc798\\ubabb\\ubcf8\\uac70\\uac19\\uc740\\ub370\", \"\\uc544\\ub2e5\\uc774\\ud6c4\", \"\\ub2c8\", \"\\ubd80\\ud0c1\\ud55c\\ub2e4\\uc62c\\ub9bc\\ud55c\\ub2ec\\ud6c4\", \"\\uc740\\uc2e0\", \"\\uc81c\\ub77c\\ud234\", \"\\ub3c4\\uc0b4\\uc790\", \"\\u314b\", \"\\ub808\\uc624\\ub9ad\", \"\\uc548\\uc8fc\", \"\\ubc84\\uadf8\", \"\\ud559\\uc2b5\\ud6a8\\uacfc\", \"\\uac15\\uc81c\", \"\\ub530\", \"\\uc5c6\\ub294\\uc560\\ub4e4\", \"\\ub610\\ub530\", \"\\ube60\\ub300\\uc5d0\\uc11c\\ub9cc\\ub098\", \"\\uacf5\\uae30\\ubc97\", \"\\uac9c\\ud130\\uc9c0\\uac8c\\ud558\\ub294\\uac8c\", \"\\uc798\\uc9c0\\ucf1c\", \"\\ud63c\\uc790\\ub2e4\\ub2c8\\uc9c0\\ub9d0\\uace0\", \"\\ubc18\\ubcf5\\ud574\\uc11c\", \"\\ub611\\uac19\\uc740\\ubc29\\uc2dd\", \"\\uc774\\ub7f0\\uac70\\uc911\", \"\\uc81c\\uc57d\\ubc1b\\ub294\\ucf00\\ub9ad\", \"\\ubc1c\\ub9ac\\ub77c\\uc788\\uc744\\ub550\", \"\\uae30\\uc6b8\\uc9c4\", \"\\ucc9c\\ub9ac\\uc548\", \"\\ud329\\ud2b8\", \"\\uc824\", \"\\ub9cc\\uc57d\", \"\\uc740\\uc2e0\\uc4f0\", \"\\ud788\\uc624\\uc2a4\\uc5d0\\uc11c\", \"10\\ub808\\ubca8\", \"\\ube48\\uc774\\ubc1c\\ub9ac\\ub77c\", \"\\uac15\\ub4f1\\uc2dc\\ud0a8\\ub2e4\\ub294\", \"\\ud0c8\\uc8fc3\\ud68c\\uc5d0\\ub2e4\", \"\\ud55c\\ud0c0\", \"\\ub2d8\", \"\\ud654\\ubb3c\", \"\\u3160\\u3160\", \"\\uacf5\\uac1c\", \"\\ub313\\uae00\", \"\\ud2b8\\ub864\\ub4e4\", \"\\ud575\", \"\\ud0d1\", \".\", \"\\uc9c4\\uc785\", \"\\ud504\\ub85c\\ud544\", \"\\ubc18\\uc601\", \"\\uc870\\uc815\", \"\\ud30c\\uba78\", \"\\uc801\\uc9c4\", \"\\uc77c\\uc77c\", \"\\uc2e0\\uaddc\\uc720\\uc800\\ub4e4\", \"\\ud65c\\uc6a9\", \"\\uc774\\ubc88\\uc8fc\", \"\\uc601\\uc6c5\\ub808\\ubca8\", \"\\uc911\\uad6d\", \"\\ubc14\\uc774\\ud0b9\", \"3\\uac1c\", \"\\uc7a5\\ub974\", \"\\uba87\\uac1c\", \"\\uccab\\uc9f8\", \"\\uce90\\ub9ac\", \"\\ubc18\", \"\\ub514\\uc790\\uc778\", \"\\u3160.\\u3160\", \"\\uc560\\ucd08\", \"\\uc124\\uc815\", \"\\uc548\\ubcf4\", \"\\uc5b4\\uc774\", \"\\uc778\\uacf5\", \"\\uc778\\uc99d\", \"\\uc911\\uac04\", \"\\uc0c1\\uc810\", \"\\ubd80\", \"\\uc815\\uc608\", \"\\ubc29\\uce58\", \"\\ucc44\", \"\\ub9ce\\uc774\\ud574\\uc11c\", \"\\ud53c\\ud1b5\", \"\\uc720\\uc800\\uac04\", \"\\ud074\\ub9ad\", \"1\\ubd84\", \"\\uc9c1\\uad00\\uc131\", \"\\ubaa9\\ub85d\", \"\\ub2e4\\ub978\\uac8c\", \"\\ub2f9\\uc5f0\\ud55c\\uac70\", \"2\\ub144\", \"\\uc624\\ud0c0\", \"23\", \"\\ubb34\\uc81c\\ud55c\", \"\\ud55c\\uc815\\ud310\", \"28\", \"\\uc778\", \"\\uc138\", \"\\uc2ec\\ud55c\\uac70\", \"\\uadf8\\uc640\\uc911\", \"\\uc624\\uc9c0\", \"\\uc774\\ub3d9\"], \"loglift\": [30.0, 29.0, 28.0, 27.0, 26.0, 25.0, 24.0, 23.0, 22.0, 21.0, 20.0, 19.0, 18.0, 17.0, 16.0, 15.0, 14.0, 13.0, 12.0, 11.0, 10.0, 9.0, 8.0, 7.0, 6.0, 5.0, 4.0, 3.0, 2.0, 1.0, 1.1986, 1.1984, 1.1981, 1.198, 1.198, 1.1979, 1.1978, 1.1976, 1.1976, 1.1975, 1.1975, 1.1975, 1.1974, 1.1971, 1.1971, 1.1969, 1.1968, 1.1968, 1.1967, 1.1967, 1.1966, 1.1966, 1.1965, 1.1965, 1.1965, 1.1965, 1.1963, 1.1962, 1.1961, 1.196, 1.1921, 1.1846, 1.1943, 1.1882, 1.1752, 1.1826, 1.1552, 1.1406, 1.1505, 1.0747, 1.02, 1.0911, 0.9117, 0.9382, 2.7494, 2.7479, 2.7478, 2.7477, 2.7468, 2.7457, 2.7456, 2.7448, 2.7445, 2.7443, 2.7441, 2.7435, 2.7432, 2.7431, 2.7428, 2.7427, 2.7422, 2.7417, 2.7411, 2.739, 2.7384, 2.7383, 2.7365, 2.7363, 2.7362, 2.7357, 2.7355, 2.7352, 2.7351, 2.7351, 2.7349, 2.5845, 2.651, 2.4542, 2.4968, 2.3412, 2.2486, 1.8083, 1.9706, 1.421, 0.4183, 2.8259, 2.8254, 2.8251, 2.8251, 2.8233, 2.8223, 2.8209, 2.8203, 2.8199, 2.8195, 2.8193, 2.8191, 2.8187, 2.8186, 2.8185, 2.8179, 2.8179, 2.8167, 2.8167, 2.8166, 2.8163, 2.816, 2.8158, 2.8156, 2.8156, 2.8152, 2.8151, 2.8136, 2.8126, 2.8126, 2.8061, 2.8105, 2.6031, 2.4425, 0.6899, 0.8057, 1.5317, 2.9304, 2.9302, 2.9291, 2.9289, 2.9289, 2.9279, 2.9271, 2.9266, 2.926, 2.9258, 2.9256, 2.9249, 2.9241, 2.9228, 2.9216, 2.9213, 2.9211, 2.9207, 2.9201, 2.9201, 2.9197, 2.9183, 2.9178, 2.9176, 2.9172, 2.9172, 2.917, 2.9168, 2.9163, 2.9156, 2.8377, 2.7904, 2.7073, 2.392, 1.7528, 2.5453, 2.7564, 2.5148, 3.1276, 3.1274, 3.1271, 3.1247, 3.1231, 3.1226, 3.1224, 3.1223, 3.1205, 3.1198, 3.1186, 3.1184, 3.1183, 3.1182, 3.118, 3.1176, 3.1165, 3.1163, 3.1159, 3.1132, 3.1131, 3.1119, 3.1118, 3.1105, 3.1102, 3.1079, 3.1072, 3.1067, 3.1061, 3.106, 2.7582, 2.8659, 2.9859, 2.7444, 2.8404, 2.0954, 2.6914, 2.023, 3.1403, 3.1387, 3.1362, 3.1359, 3.1357, 3.1347, 3.1335, 3.1335, 3.1309, 3.1305, 3.1302, 3.13, 3.1289, 3.1275, 3.1264, 3.1239, 3.1219, 3.1183, 3.1173, 3.1169, 3.115, 3.1148, 3.1148, 3.1147, 3.1143, 3.1133, 3.112, 3.1119, 3.1118, 3.1116, 2.9964, 2.9773, 2.8461, 2.5159, 2.7504, 2.6354, 2.6752, 2.539, 1.668, 3.0409, 2.6775, 1.2119, 2.8341, 1.2594, 1.7438, 0.0687, 3.202, 3.2013, 3.1992, 3.1971, 3.1969, 3.1966, 3.194, 3.1923, 3.1916, 3.1893, 3.1888, 3.1884, 3.1876, 3.1868, 3.1855, 3.1854, 3.1847, 3.1847, 3.1838, 3.1835, 3.1822, 3.1821, 3.1819, 3.1805, 3.1793, 3.1788, 3.1787, 3.1785, 3.1776, 3.1761, 3.1663, 3.1177, 3.1301, 3.0434, 3.0127, 2.0172, 1.6877, 1.5907, 3.2057, 3.2025, 3.2014, 3.1997, 3.1994, 3.1991, 3.1982, 3.1965, 3.1951, 3.1924, 3.1916, 3.1906, 3.19, 3.1899, 3.1889, 3.1888, 3.1883, 3.1882, 3.1881, 3.1857, 3.1834, 3.1832, 3.183, 3.1824, 3.1821, 3.1817, 3.1809, 3.1787, 3.1779, 3.1778, 2.5731, 2.5727, 1.7587, 1.2026, 3.2368, 3.2363, 3.2342, 3.2322, 3.2311, 3.2303, 3.2291, 3.2291, 3.2258, 3.2255, 3.2254, 3.2243, 3.2237, 3.2237, 3.2233, 3.223, 3.2225, 3.2224, 3.22, 3.22, 3.2194, 3.2192, 3.2189, 3.2178, 3.2178, 3.2177, 3.2176, 3.2173, 3.2148, 3.2114, 3.0853, 3.1133, 2.9539, 2.8785, 2.4774, 2.5894, 2.1713, 2.0364, 2.246, 1.3345, 1.278, 3.249, 3.2477, 3.2473, 3.245, 3.2449, 3.2435, 3.2428, 3.2428, 3.2425, 3.2425, 3.2424, 3.2424, 3.2414, 3.2412, 3.2412, 3.2411, 3.2403, 3.2401, 3.2397, 3.2381, 3.2376, 3.2358, 3.235, 3.2345, 3.2328, 3.2326, 3.2319, 3.2317, 3.2316, 3.2313, 3.2191, 3.1227, 3.1387, 2.3948, 2.4895, 2.4533, 2.5539, 3.4073, 3.4051, 3.4041, 3.4027, 3.4019, 3.4015, 3.4008, 3.3986, 3.3986, 3.3984, 3.3983, 3.3978, 3.3975, 3.396, 3.3956, 3.3941, 3.394, 3.393, 3.3926, 3.3918, 3.3913, 3.3903, 3.3885, 3.388, 3.3852, 3.385, 3.3846, 3.3845, 3.3835, 3.3827, 3.085, 3.1885, 3.2865, 1.3516, 2.906, 3.4337, 3.432, 3.4258, 3.4255, 3.4246, 3.4217, 3.4214, 3.4203, 3.4197, 3.4135, 3.4135, 3.4102, 3.4099, 3.409, 3.4083, 3.4048, 3.4033, 3.4021, 3.4011, 3.4006, 3.3995, 3.3993, 3.3969, 3.3961, 3.3941, 3.3923, 3.3921, 3.3914, 3.3913, 3.3911, 2.2036, 2.5757, 3.4765, 3.476, 3.4752, 3.4737, 3.4737, 3.4732, 3.4725, 3.4705, 3.4686, 3.4674, 3.4662, 3.4655, 3.4651, 3.4647, 3.4646, 3.4633, 3.4626, 3.4621, 3.4618, 3.4617, 3.4611, 3.4586, 3.4586, 3.4582, 3.4565, 3.456, 3.4554, 3.453, 3.4512, 3.451, 3.111, 3.0281, 1.8193, 2.0247, 1.3279, 1.4017, 1.9048, -0.8037, 3.5699, 3.5681, 3.5634, 3.5621, 3.5612, 3.5602, 3.5601, 3.56, 3.5596, 3.5595, 3.5588, 3.5572, 3.5565, 3.5552, 3.5528, 3.5517, 3.5513, 3.5505, 3.548, 3.5477, 3.5475, 3.5472, 3.5471, 3.5466, 3.5464, 3.5455, 3.5446, 3.5433, 3.5414, 3.5394, 3.5896, 3.5876, 3.587, 3.5859, 3.5855, 3.585, 3.5795, 3.5788, 3.575, 3.5745, 3.5742, 3.5733, 3.5726, 3.5698, 3.5691, 3.5684, 3.5678, 3.564, 3.5636, 3.5631, 3.5623, 3.5594, 3.5581, 3.5578, 3.5577, 3.5563, 3.5538, 3.552, 3.5519, 3.5506, 3.4175, -0.3663, 3.609, 3.6043, 3.6037, 3.6037, 3.6009, 3.5999, 3.5977, 3.5963, 3.5956, 3.5954, 3.5941, 3.5939, 3.5884, 3.5869, 3.5856, 3.5852, 3.5851, 3.5842, 3.584, 3.5838, 3.5836, 3.5813, 3.5799, 3.5779, 3.5758, 3.5756, 3.5753, 3.5746, 3.5746, 3.5736, 3.6288, 3.6223, 3.6176, 3.6155, 3.611, 3.6101, 3.6093, 3.6091, 3.6057, 3.6028, 3.6016, 3.5978, 3.5976, 3.5975, 3.5967, 3.5967, 3.5943, 3.5918, 3.5917, 3.5908, 3.5908, 3.5899, 3.5898, 3.5876, 3.5848, 3.5839, 3.5839, 3.5839, 3.5839, 3.5839, 3.5839, 3.5839, 3.5839, 3.5839, 3.5839, 3.5839, 3.5839, 3.5839, 3.5839, 3.5839, 3.5839, 3.5839, 3.5839, 3.5839, 3.5839, 3.5839, 3.5839, 3.5839, 3.5839, 3.3099, 3.5839, 3.6709, 3.6645, 3.6639, 3.6621, 3.6607, 3.6557, 3.6533, 3.6495, 3.6495, 3.6469, 3.6462, 3.6456, 3.6456, 3.6456, 3.6456, 3.6456, 3.6456, 3.6456, 3.6456, 3.6456, 3.6456, 3.6456, 3.6456, 3.6456, 3.6443, 3.6424, 3.6396, 3.6362, 3.6313, 3.631, 3.6288, 3.6241, 3.6241, 1.5558, 3.722, 3.715, 3.7138, 3.7133, 3.7126, 3.7115, 3.7085, 3.7072, 3.7072, 3.7057, 3.7038, 3.7025, 3.7017, 3.7004, 3.6989, 3.6975, 3.697, 3.6962, 3.694, 3.6936, 3.693, 3.6928, 3.6922, 3.6921, 3.6908, 3.6899, 3.6889, 3.6857, 3.6855, 3.6853, 2.0976, 3.7871, 3.7838, 3.7803, 3.7764, 3.7747, 3.7734, 3.7716, 3.7693, 3.7671, 3.767, 3.7652, 3.7648, 3.7628, 3.7594, 3.7586, 3.7566, 3.756, 3.7548, 3.7531, 3.753, 3.7522, 3.7473, 3.7464, 3.7441, 3.744, 3.7436, 3.7424, 3.7418, 3.7416, 3.739, 3.348, 2.7088], \"Freq\": [4619.0, 3636.0, 2874.0, 841.0, 2367.0, 896.0, 511.0, 1371.0, 1485.0, 381.0, 1160.0, 592.0, 1084.0, 393.0, 429.0, 1192.0, 1136.0, 399.0, 621.0, 360.0, 712.0, 388.0, 948.0, 312.0, 337.0, 358.0, 427.0, 452.0, 964.0, 833.0, 4618.9763411558915, 2366.653643664797, 1370.8448402884821, 1159.729632942222, 1083.3487297361692, 947.5020497321342, 832.3594655730875, 713.0944514924014, 708.9059253758594, 671.7352118067357, 640.1503341512959, 637.6878010999926, 624.9402999717182, 496.74517061906016, 483.3739843466197, 435.1511297793419, 425.4349933396122, 421.9863619400514, 406.90282813095035, 393.9878006658979, 377.558867516346, 373.7117353389405, 371.4798945783372, 370.63015836588596, 366.56899023821444, 358.9872621552643, 337.8325712836268, 326.19108036830255, 308.7964246036355, 293.0066655044321, 3612.4506929289655, 2833.6342870282697, 439.4103291161462, 769.138560841883, 1109.877460899692, 617.7147415248056, 1422.2303983538357, 909.7347475687309, 724.0456851097014, 1053.3126227021316, 750.3189926114151, 540.0405507439998, 534.4567423766532, 478.98992919576926, 895.6762125601288, 333.19785238066663, 327.91473968035626, 311.1285710116704, 232.0997489443543, 177.42939650305826, 172.41820158860645, 149.55935101975751, 140.78028443202078, 136.18792752693105, 132.17287430451393, 120.60155763540925, 115.50242880671314, 112.90735784260694, 108.1802844362743, 107.59339314542865, 100.15777283987855, 94.67304822513844, 88.29558868502914, 72.28114131286162, 68.31365704471231, 68.03613095024366, 59.096153282759, 57.99523248859589, 57.79900281727322, 55.783237212054644, 54.89143337274371, 53.95336470298777, 53.65442108432009, 53.61626284525616, 119.56150537594195, 362.49320707879934, 128.9838311358154, 440.6725569143356, 114.87142062105349, 99.78979662843604, 100.38044654985794, 146.19473985116116, 124.92277660024398, 126.73688254724823, 115.78592429105781, 357.99132627070844, 301.5939641320506, 264.42820602870347, 264.05362304981685, 168.3333933631938, 138.99025165556628, 112.04423855202411, 104.44182592251569, 98.5818716375675, 93.73397034457452, 91.91170112332668, 89.88214355509085, 85.75852678957914, 84.91311165161753, 84.24290741896925, 79.71656691836846, 79.42984560441816, 70.82567465443553, 70.77933195044797, 70.62986577304255, 68.75022655892776, 67.14231464768075, 66.0603062579409, 65.03406219022872, 64.92670584278162, 62.75854482976285, 62.37699953664049, 55.64200552326051, 52.208090025617885, 52.196958055170185, 194.25913748070184, 116.49878423518203, 261.71540491784936, 135.2924959707218, 105.74093538528972, 94.24276478574505, 74.12754266967274, 428.45360373583196, 398.6790648605696, 260.18887898133465, 245.28428212266925, 244.0263741653747, 188.75991899257372, 158.90203325080995, 145.7638778918974, 131.80390366920847, 127.80574438903479, 122.11754887897557, 111.23625563382478, 101.01342628327934, 86.61824666841109, 76.63624882614445, 74.78959215895155, 73.32769322392164, 70.94628540246354, 67.58612407542566, 67.20081293355858, 65.03891603470895, 58.48551261337616, 56.678123805527086, 55.956741599337356, 54.36343456193133, 54.301742578270726, 53.61210170648275, 52.85096886806427, 51.280516581460155, 49.18971060978127, 310.75691234853707, 115.06138476477932, 64.92012681159463, 71.69376380015319, 79.21149322497855, 59.20385698888722, 56.3422587580087, 56.66738228790662, 359.7349225361722, 336.71848446792467, 297.5074731687992, 157.82265399173784, 120.63034374129504, 112.78017146703387, 109.7730814150876, 108.49085574346256, 87.68701668202897, 81.6132118554762, 72.35458833695309, 71.08731438096416, 70.52381428511596, 70.06691991250824, 68.85969171268043, 66.70301641874967, 61.242438847039026, 60.26437085342284, 58.424840171782975, 48.94598128899355, 48.60226126433743, 45.359341113794834, 45.2825888621581, 42.064455014778936, 41.54230563125172, 37.076266209616136, 35.90816201527453, 35.125688368415695, 34.34931221791406, 34.1485322757593, 177.6544514260267, 68.93190644873424, 47.234244216240405, 80.38536883489174, 46.173339592541836, 66.57960883742919, 49.56423796121453, 49.66383132539421, 148.81060805723072, 116.3104527951244, 86.1737290223683, 83.63076935544245, 82.19057202920813, 74.78544244069413, 67.30594579902778, 67.06595232846314, 55.306290158608604, 53.97295277926343, 52.87042429891877, 52.33847346965028, 48.9597088581605, 45.02414735506758, 42.53379651118395, 37.677971409992125, 34.52377593573305, 29.994537053602876, 28.89205397104246, 28.524194674694296, 26.67929072207629, 26.5448794137016, 27.373494743006088, 26.472535829490152, 26.136030850906995, 25.28911264452402, 24.304905045829027, 24.203226653573445, 24.1448548343167, 23.993607252169376, 74.88400779177972, 46.25036196810083, 57.38742515686453, 153.7671697157299, 67.78508976338037, 87.3582186205594, 72.71166653858181, 66.91163030469231, 141.791601258175, 28.556135939801656, 33.60346181960951, 56.186116604785596, 31.303053560190225, 43.7891476992245, 34.73313877683212, 35.018858535457326, 392.31851198155454, 286.9182505137268, 166.59549412772594, 116.18830470887764, 113.52795980329516, 109.49077742169361, 80.86848761704111, 69.63725657005658, 65.77826769938186, 55.21364604405714, 53.4560853827078, 52.59659250186355, 49.65255420857372, 47.18051695579751, 44.080890767568896, 43.822981885665705, 42.111609108819806, 42.06225191259332, 40.338687240763804, 39.71158494905896, 37.2486654724482, 37.08587018015622, 36.80340239798781, 34.56483865686612, 32.936686963385256, 32.21713168766407, 32.10921928770332, 31.832992003525654, 30.741312927413404, 29.125017124633686, 120.65131741694913, 134.80528259961355, 96.64200288250879, 115.70318328737103, 123.88237458021, 65.36386539215259, 64.83728807445951, 65.29415014120481, 510.4388138835929, 172.74825866306912, 139.37348083336929, 107.81025061578481, 104.34806230700276, 100.95899348291663, 90.07108781791503, 76.25497300302189, 67.57951623279965, 55.180405523967366, 52.526787762509755, 49.25921558699986, 47.59926490873497, 267.5694642819088, 44.626058364086646, 44.48663785981149, 43.132772317174165, 43.05002653163688, 42.84586680967612, 38.070030339106935, 34.235461501226716, 33.94569480007625, 33.71863445171981, 32.91367469843217, 32.47272086667512, 32.04541255119546, 31.05544145998687, 28.560930929226092, 27.82700584851274, 27.70609682669765, 183.52404001449213, 85.79723720461874, 86.20498579057414, 59.88256632206968, 117.81321860845998, 109.72652873995122, 85.43135917718133, 70.74415079934023, 64.79461886283912, 60.831201963101805, 55.96874918588755, 55.85601431459794, 45.453620888525734, 44.7394121338004, 44.36460356240055, 41.91577231854148, 40.6278032317864, 40.609561804468775, 39.937313801217684, 39.363057608536806, 38.289698095929886, 38.270939742113256, 34.33332702092952, 34.246133581774004, 33.37234306366499, 33.19160410746086, 32.775087700478906, 31.381286907732413, 31.31139798499142, 31.27009975189081, 31.05398043191646, 30.736232624900403, 28.02065643765556, 25.11026211353208, 331.66671416982564, 50.463172879445665, 105.61869145528911, 63.66610765182583, 134.16241850947273, 97.37354460254068, 80.7189790413936, 50.13675970813756, 42.923218126671784, 47.05728823107942, 47.04922021761946, 135.087151628571, 111.5134206574129, 106.0028700556574, 81.23145605731659, 80.44026840588816, 70.50684194732854, 66.80128528133096, 66.77283699375818, 65.28801412668918, 65.21593641065198, 64.73967836410873, 64.5799892698757, 59.777623981455974, 59.225767665612615, 58.89235943550386, 58.576403628308036, 55.42920764778392, 54.75302469848345, 53.31786993929292, 48.27135605328786, 46.67609275519821, 42.39436139245089, 40.62145603698013, 39.797307498043466, 36.7234260031414, 36.53457396260119, 35.15808837451782, 34.9201941512668, 34.76185528282899, 34.317399513326485, 131.09375627581827, 181.97125656920298, 69.8243122582713, 115.24646889643054, 75.26360472695964, 55.055446275613384, 47.912617488087214, 157.16817449451952, 110.06214634522802, 97.37869823467138, 83.3315907305637, 76.90057414153952, 74.31548645870275, 69.55091022568378, 58.759868091802275, 58.67770691113685, 58.03693436739564, 57.43662491021511, 55.67268490397528, 54.459737882819496, 49.35802432968487, 48.26614709294375, 44.35007333792801, 44.141400161974026, 41.741616612126, 41.02436255192145, 39.44127260831659, 38.410958510772915, 36.634493149101544, 33.84864951076452, 33.19425938243613, 29.7709611580053, 29.556245571230193, 29.17230035616834, 29.060288121437523, 28.04859564460352, 27.298917927396868, 69.40758788463678, 38.060029682028606, 31.536997250528145, 75.4482487423487, 30.087997083508096, 840.4040895834803, 311.97491819023026, 93.81073152038488, 90.20325328147963, 82.27431543025273, 63.92471637079732, 62.34672930339413, 57.768951001295115, 55.46901884613241, 39.0270133903719, 39.00756744037338, 33.70053899575876, 33.26059377946027, 32.08933051985259, 31.258608276014172, 27.529743610234313, 26.24179795130847, 25.211240555625167, 24.449947287839485, 24.091421127015714, 23.34486751024763, 23.200904766518732, 21.70501303828274, 21.234112823214247, 20.171795354884626, 19.32446051908423, 19.21414575822881, 18.904640012482805, 18.852377237138306, 18.770340305711517, 30.775214123983023, 21.483844705670826, 215.33761445824854, 191.05291386231022, 162.53781809246107, 125.77877873294032, 125.77597914334088, 116.8848061845559, 105.72978260161999, 84.30154073975915, 71.07124406072701, 64.23038446161539, 58.95676512737772, 55.85409100584263, 54.50118109141401, 53.110156225608144, 52.73392888494933, 48.62088562610503, 46.846134850236645, 45.50544631247026, 44.64330922561984, 44.426136781854986, 43.158774095730294, 38.017016518199064, 38.010766125204064, 37.3285559137837, 34.73151932168964, 33.93267394759651, 33.15432534878762, 30.151417339918833, 28.282708451015676, 28.13480272838699, 148.04904546485338, 60.97849204852949, 86.0248043945697, 62.38560031078661, 82.75197803932312, 59.904396895012596, 41.2401146718176, 39.625309908751966, 380.6596034770564, 210.08194086939204, 96.73101621309284, 83.76737467659447, 77.01374055207998, 70.69936311283347, 69.75085876275405, 69.50888513870524, 67.17742403072704, 66.77331097819703, 63.018082911394536, 56.37163428507088, 53.53736977748579, 49.63451734937194, 43.25143766705843, 40.87467420432269, 40.08425339707806, 38.706132656332464, 34.586783535681555, 34.14566480824327, 33.84778235866136, 33.525682036296345, 33.36105061380241, 32.73392788879014, 32.48464361933371, 31.26978639810057, 30.275710167754152, 28.84796867777619, 27.124311934455452, 25.382421685432284, 106.52765903790362, 85.14939001708328, 80.31301752876801, 72.53846572994306, 69.92850138608034, 67.14646451686077, 46.16992324764907, 44.44593562293681, 36.81333201438056, 36.01596460313624, 35.64554192023719, 34.2675946388071, 33.22695531506799, 29.869360867175423, 29.12536137982195, 28.34316137266207, 27.808540537319104, 24.573810408173966, 24.265382711139196, 23.947317789476767, 23.360678838386555, 22.828678010222923, 20.812541204975933, 20.640236014828695, 20.63390795358296, 19.914250525876856, 18.717882803663958, 17.986080989930386, 17.910227653434323, 17.437113208401257, 49.53959210507045, 22.648384267519454, 117.32739147839243, 70.3918231422559, 66.97764529236117, 66.97722492721947, 54.362062336015946, 50.93305775781361, 45.01126124988028, 41.612199332768334, 40.31898640607862, 39.95183605052159, 37.57018916037156, 37.21840595763759, 29.67645010592827, 28.106662961557152, 26.967376965567, 26.53766487980807, 26.463568577281293, 25.736572089980935, 25.59280325169151, 25.35589941345888, 25.199624951623942, 23.502585342538833, 22.617098476905376, 21.42639342410947, 20.280455895591277, 20.177154736456057, 20.035563664694937, 19.67847381601559, 19.648939795762725, 19.211407214640886, 183.76554912665307, 75.09944840229166, 52.98815811319722, 46.56020068976936, 37.14349709022471, 35.78093110908593, 35.32257032604368, 34.27691908284812, 29.946036822550944, 27.087610416244384, 26.037776503340922, 23.214177634188935, 23.125908860694306, 23.023672972393467, 22.564800163697132, 22.515621516039676, 21.1454782712624, 19.8315082079081, 19.777139535882245, 19.380939109752784, 19.354478680031317, 18.958441032673228, 18.906128878246896, 17.95833827080708, 16.92357702385509, 17.64805370668886, 17.64805370668886, 17.64805370668886, 17.64805370668886, 17.64805370668886, 17.64805370668886, 17.64805370668886, 17.64805370668886, 17.64805370668886, 17.64805370668886, 17.64805370668886, 17.64805370668886, 17.64805370668886, 17.64805370668886, 17.64805370668886, 17.64805370668886, 17.64805370668886, 17.64805370668886, 17.64805370668886, 17.64805370668886, 17.64805370668886, 17.64805370668886, 17.64805370668886, 17.64805370668886, 196.10829105820977, 17.64805370668886, 240.53658909204248, 84.36458478753508, 79.63950979607064, 68.10852761333373, 60.798302502292195, 44.483797570156206, 39.44108426792996, 33.65247516097865, 33.28658207833251, 30.115501210419865, 29.381796172107684, 29.355502470013935, 29.355502470013935, 29.355502470013935, 29.355502470013935, 29.355502470013935, 29.355502470013935, 29.355502470013935, 29.355502470013935, 29.355502470013935, 29.355502470013935, 29.355502470013935, 29.355502470013935, 29.355502470013935, 27.519022463378185, 25.827462844322884, 23.691522366970347, 21.572484650779845, 19.042568996848832, 18.941555247371564, 19.53895367854374, 19.472082669165367, 19.47208266916537, 24.969775031531746, 169.8136610754789, 69.61150819274332, 63.477207915127416, 61.24399604870787, 58.132293441606244, 53.732948891531436, 45.03744050647506, 42.09698740274758, 41.96413916401303, 38.949307005419826, 35.7655027729051, 33.83090688683052, 32.753727892922996, 31.123442958794787, 29.42465527850056, 28.028557729322547, 27.550750727206776, 26.827227680335533, 24.996929179371392, 24.675712554013252, 24.193791470818056, 24.07996354468832, 23.681934070742322, 23.579737998795146, 22.70749495730184, 22.138236134366906, 21.552812458989646, 19.82906444025382, 19.75445340660261, 19.65983207279612, 20.665361218199678, 113.27656814785712, 77.46250653065681, 58.40314611737776, 45.97681196362317, 41.87389609371245, 39.24922204015227, 36.130240092057036, 32.80391515886463, 30.14869613553777, 30.020823626019535, 28.134895133691625, 27.81456337415961, 26.03639148606576, 23.450253474726388, 22.95251714187401, 21.692054814530707, 21.347672393692395, 20.691337796641026, 19.821913731789458, 19.78028635747882, 19.410877205186647, 17.32710072083044, 17.00673747654302, 16.197362527950304, 16.191151328007646, 16.037572081517325, 15.668677293434202, 15.497933138546179, 15.41139489194752, 14.692344008636091, 21.17644229185492, 25.94620744302935], \"logprob\": [30.0, 29.0, 28.0, 27.0, 26.0, 25.0, 24.0, 23.0, 22.0, 21.0, 20.0, 19.0, 18.0, 17.0, 16.0, 15.0, 14.0, 13.0, 12.0, 11.0, 10.0, 9.0, 8.0, 7.0, 6.0, 5.0, 4.0, 3.0, 2.0, 1.0, -2.8113, -3.48, -4.0261, -4.1933, -4.2615, -4.3954, -4.525, -4.6797, -4.6855, -4.7394, -4.7876, -4.7914, -4.8116, -5.0412, -5.0685, -5.1736, -5.1962, -5.2043, -5.2407, -5.2729, -5.3155, -5.3258, -5.3318, -5.3341, -5.3451, -5.366, -5.4267, -5.4618, -5.5166, -5.5691, -3.0571, -3.3, -5.1638, -4.604, -4.2373, -4.8232, -3.9893, -4.4361, -4.6644, -4.2896, -4.6288, -4.9576, -4.968, -5.0776, -2.9001, -3.889, -3.9049, -3.9575, -4.2505, -4.5191, -4.5478, -4.69, -4.7505, -4.7837, -4.8136, -4.9052, -4.9484, -4.9711, -5.0139, -5.0193, -5.0909, -5.1473, -5.217, -5.4171, -5.4736, -5.4777, -5.6185, -5.6373, -5.6407, -5.6762, -5.6923, -5.7096, -5.7151, -5.7158, -4.9139, -3.8047, -4.838, -3.6094, -4.9539, -5.0946, -5.0887, -4.7128, -4.87, -4.8556, -4.946, -3.7393, -3.9108, -4.0423, -4.0437, -4.4939, -4.6855, -4.901, -4.9712, -5.029, -5.0794, -5.099, -5.1214, -5.1683, -5.1782, -5.1862, -5.2414, -5.245, -5.3596, -5.3603, -5.3624, -5.3894, -5.413, -5.4293, -5.4449, -5.4466, -5.4806, -5.4867, -5.6009, -5.6646, -5.6648, -4.3507, -4.862, -4.0526, -4.7124, -4.9589, -5.074, -5.3141, -3.4555, -3.5276, -3.9543, -4.0133, -4.0184, -4.2752, -4.4474, -4.5337, -4.6344, -4.6652, -4.7107, -4.8041, -4.9005, -5.0542, -5.1766, -5.201, -5.2208, -5.2538, -5.3023, -5.308, -5.3407, -5.4469, -5.4783, -5.4911, -5.52, -5.5212, -5.5339, -5.5482, -5.5784, -5.62, -3.7767, -4.7702, -5.3426, -5.2433, -5.1436, -5.4347, -5.4843, -5.4785, -3.4327, -3.4989, -3.6227, -4.2566, -4.5254, -4.5927, -4.6197, -4.6314, -4.8443, -4.9161, -5.0365, -5.0542, -5.0622, -5.0687, -5.086, -5.1179, -5.2033, -5.2194, -5.2504, -5.4274, -5.4344, -5.5035, -5.5052, -5.5789, -5.5914, -5.7051, -5.7371, -5.7592, -5.7815, -5.7874, -4.1383, -5.085, -5.463, -4.9313, -5.4857, -5.1197, -5.4148, -5.4128, -4.2995, -4.5459, -4.8458, -4.8757, -4.8931, -4.9875, -5.0929, -5.0965, -5.2892, -5.3136, -5.3343, -5.3444, -5.4111, -5.4949, -5.5518, -5.6731, -5.7605, -5.9011, -5.9386, -5.9514, -6.0182, -6.0233, -5.9926, -6.026, -6.0388, -6.0718, -6.1114, -6.1156, -6.1181, -6.1243, -4.9862, -5.4681, -5.2523, -4.2667, -5.0858, -4.8321, -5.0156, -5.0988, -4.3478, -5.9503, -5.7875, -5.2735, -5.8584, -5.5227, -5.7544, -5.7462, -3.2718, -3.5847, -4.1283, -4.4887, -4.5118, -4.548, -4.851, -5.0006, -5.0576, -5.2327, -5.265, -5.2812, -5.3388, -5.3899, -5.4578, -5.4637, -5.5035, -5.5047, -5.5466, -5.5622, -5.6262, -5.6306, -5.6383, -5.701, -5.7493, -5.7714, -5.7747, -5.7834, -5.8183, -5.8723, -4.451, -4.34, -4.6728, -4.4928, -4.4245, -5.0639, -5.072, -5.065, -3.0054, -4.0888, -4.3035, -4.5603, -4.5929, -4.626, -4.7401, -4.9066, -5.0274, -5.2301, -5.2794, -5.3436, -5.3779, -3.6513, -5.4424, -5.4455, -5.4764, -5.4783, -5.4831, -5.6012, -5.7074, -5.7159, -5.7226, -5.7468, -5.7603, -5.7735, -5.8049, -5.8886, -5.9147, -5.919, -4.0283, -4.7887, -4.7839, -5.1483, -4.4351, -4.5062, -4.7565, -4.9452, -5.033, -5.0961, -5.1794, -5.1815, -5.3875, -5.4034, -5.4118, -5.4686, -5.4998, -5.5002, -5.5169, -5.5314, -5.5591, -5.5595, -5.6681, -5.6707, -5.6965, -5.7019, -5.7146, -5.758, -5.7603, -5.7616, -5.7685, -5.7788, -5.8713, -5.981, -3.4001, -5.283, -4.5444, -5.0506, -4.3052, -4.6257, -4.8133, -5.2895, -5.4448, -5.3529, -5.353, -4.287, -4.4787, -4.5294, -4.7956, -4.8054, -4.9372, -4.9912, -4.9916, -5.0141, -5.0152, -5.0225, -5.025, -5.1023, -5.1115, -5.1172, -5.1226, -5.1778, -5.1901, -5.2166, -5.316, -5.3497, -5.4459, -5.4886, -5.5091, -5.5895, -5.5946, -5.633, -5.6398, -5.6444, -5.6572, -4.317, -3.989, -4.9469, -4.4458, -4.8719, -5.1845, -5.3235, -3.9781, -4.3344, -4.4568, -4.6126, -4.6929, -4.7271, -4.7934, -4.962, -4.9634, -4.9743, -4.9847, -5.0159, -5.038, -5.1363, -5.1587, -5.2433, -5.248, -5.3039, -5.3213, -5.3606, -5.3871, -5.4344, -5.5135, -5.533, -5.6419, -5.6491, -5.6622, -5.6661, -5.7015, -5.7286, -4.7954, -5.3963, -5.5843, -4.712, -5.6313, -2.2795, -3.2704, -4.4721, -4.5113, -4.6033, -4.8556, -4.8806, -4.9569, -4.9975, -5.3491, -5.3496, -5.4958, -5.509, -5.5448, -5.571, -5.6981, -5.746, -5.7861, -5.8167, -5.8315, -5.863, -5.8691, -5.9358, -5.9577, -6.0091, -6.052, -6.0577, -6.0739, -6.0767, -6.0811, -5.5866, -5.946, -3.5954, -3.7151, -3.8767, -4.1331, -4.1332, -4.2065, -4.3068, -4.5333, -4.704, -4.8052, -4.8909, -4.9449, -4.9694, -4.9953, -5.0024, -5.0836, -5.1208, -5.1498, -5.169, -5.1738, -5.2028, -5.3296, -5.3298, -5.3479, -5.42, -5.4433, -5.4665, -5.5614, -5.6254, -5.6306, -3.9701, -4.8571, -4.513, -4.8343, -4.5518, -4.8749, -5.2482, -5.2882, -2.934, -3.5284, -4.304, -4.4479, -4.5319, -4.6175, -4.631, -4.6344, -4.6686, -4.6746, -4.7325, -4.8439, -4.8955, -4.9712, -5.1089, -5.1654, -5.1849, -5.2199, -5.3324, -5.3453, -5.354, -5.3636, -5.3685, -5.3875, -5.3951, -5.4333, -5.4656, -5.5139, -5.5755, -5.6418, -4.1823, -4.4063, -4.4647, -4.5665, -4.6032, -4.6438, -5.0183, -5.0564, -5.2448, -5.2667, -5.277, -5.3165, -5.3473, -5.4538, -5.479, -5.5063, -5.5253, -5.649, -5.6616, -5.6748, -5.6996, -5.7226, -5.8151, -5.8234, -5.8237, -5.8592, -5.9212, -5.9611, -5.9653, -5.9921, -4.9479, -5.7306, -4.067, -4.5779, -4.6276, -4.6276, -4.8363, -4.9014, -5.025, -5.1035, -5.1351, -5.1443, -5.2057, -5.2151, -5.4416, -5.4959, -5.5373, -5.5534, -5.5562, -5.584, -5.5896, -5.5989, -5.6051, -5.6748, -5.7132, -5.7673, -5.8223, -5.8274, -5.8344, -5.8524, -5.8539, -5.8764, -3.6009, -4.4958, -4.8445, -4.9738, -5.1998, -5.2372, -5.2501, -5.2801, -5.4152, -5.5155, -5.555, -5.6698, -5.6736, -5.6781, -5.6982, -5.7004, -5.7632, -5.8273, -5.8301, -5.8503, -5.8517, -5.8723, -5.8751, -5.9265, -5.9859, -5.944, -5.944, -5.944, -5.944, -5.944, -5.944, -5.944, -5.944, -5.944, -5.944, -5.944, -5.944, -5.944, -5.944, -5.944, -5.944, -5.944, -5.944, -5.944, -5.944, -5.944, -5.944, -5.944, -5.944, -3.5359, -5.944, -3.2907, -4.3385, -4.3961, -4.5525, -4.666, -4.9785, -5.0988, -5.2575, -5.2685, -5.3686, -5.3932, -5.3941, -5.3941, -5.3941, -5.3941, -5.3941, -5.3941, -5.3941, -5.3941, -5.3941, -5.3941, -5.3941, -5.3941, -5.3941, -5.4587, -5.5222, -5.6085, -5.7022, -5.8269, -5.8323, -5.8012, -5.8046, -5.8046, -5.5559, -3.5864, -4.4782, -4.5705, -4.6063, -4.6584, -4.7371, -4.9136, -4.9812, -4.9843, -5.0589, -5.1441, -5.1998, -5.2321, -5.2832, -5.3393, -5.3879, -5.4051, -5.4317, -5.5024, -5.5153, -5.535, -5.5398, -5.5564, -5.5607, -5.5984, -5.6238, -5.6506, -5.734, -5.7378, -5.7426, -5.6927, -3.9237, -4.3037, -4.5861, -4.8254, -4.9188, -4.9836, -5.0664, -5.1629, -5.2474, -5.2516, -5.3165, -5.3279, -5.394, -5.4986, -5.5201, -5.5766, -5.5926, -5.6238, -5.6667, -5.6688, -5.6877, -5.8012, -5.8199, -5.8686, -5.869, -5.8786, -5.9018, -5.9128, -5.9184, -5.9662, -5.6006, -5.3975]}, \"topic.order\": [6, 14, 8, 11, 3, 10, 16, 1, 20, 12, 9, 19, 2, 7, 18, 13, 17, 4, 5, 15], \"lambda.step\": 0.01, \"plot.opts\": {\"ylab\": \"PC2\", \"xlab\": \"PC1\"}, \"R\": 30, \"token.table\": {\"Term\": [\"+\", \".\", \"0\", \"0.\", \"04.\", \"05.\", \"1.\", \"1.\", \"10\", \"10\\ub808\\ubca8\", \"10\\ubd84\", \"10\\ud310\", \"12\\uc2dc\", \"13\", \"14\\uc2dc\", \"15\\ud310\", \"1\\ubd84\", \"1\\uc8fc\\ucc28\", \"1\\ucd08\", \"1\\ud68c\", \"2.\", \"2.\", \"2.\", \"2.0\", \"2017.\", \"20\\uc2dc\", \"22\\uc2dc\", \"23\", \"27\", \"28\", \"2\\ub144\", \"2\\uba85\", \"2\\ubc88\", \"2\\uc8fc\\uc77c\\uc815\", \"2\\uc8fc\\ucc28\", \"3\\uac1c\", \"3\\uba85\", \"3\\ubc88\", \"3\\uc77c\", \"3\\ud310\", \"3\\ud68c\", \"4\", \"40\", \"4\\ubc88\", \"4\\uc6d4\", \"4\\uc77c\", \"5\", \"5\", \"5\\uba85\", \"5\\ubd84\", \"5\\uc6d4\", \"5\\uc6d41\\uc77c\", \"5\\uc778\\ud31f\", \"5\\ud310\", \"8\\ucd08\", \"@#\", \"@#\\ub4e4\", \"\\u3139\\u3147\", \"\\u3142\\u3137\\u3142\\u3137\", \"\\u3144\\ub4e4\", \"\\u31461\\ubc1c\", \"\\u3148\\uac19\", \"\\u314b\", \"\\u314b\\u314b\", \"\\u314b\\u314b\\u314b\\u314b\\u314b\", \"\\u314e\\u314e\", \"\\u315c\\u315c\", \"\\u3160.\\u3160\", \"\\u3160\\u3160\", \"\\u3161\\u3161\", \"\\uac00\\uaca9\", \"\\uac10\\uc0ac\", \"\\uac10\\uc0ac\", \"\\uac10\\uc18c\", \"\\uac10\\uc18c\", \"\\uac15\\ub4f1\\uc2dc\\ud0a8\\ub2e4\\ub294\", \"\\uac15\\ub825\", \"\\uac15\\ub825\", \"\\uac15\\uc81c\", \"\\uac15\\ud654\", \"\\uac15\\ud654\", \"\\uac19\\uc740\\uac70\", \"\\uac1c\", \"\\uac1c\", \"\\uac1c\", \"\\uac1c\", \"\\uac1c\\uac19\\uc740\", \"\\uac4d\", \"\\uac4d\", \"\\uac4d\", \"\\uac4d\", \"\\uac70\", \"\\uac70\\uc9c0\", \"\\uac78\", \"\\uac80\\uc0c9\", \"\\uac83\", \"\\uac8c\\uc784\", \"\\uac8c\\uc784\", \"\\uac8c\\uc784\\ub0b4\", \"\\uac8c\\uc784\\ud50c\\ub808\\uc774\", \"\\uac90\\uc9c0\", \"\\uac9c\\uc811\\uc5b4\\ub77c'\", \"\\uac9c\\ud130\\uc9c0\\uac8c\\ud558\\ub294\\uac8c\", \"\\uaca9\", \"\\uacbd\\uc6b0\", \"\\uacbd\\ucc30\", \"\\uacbd\\ucc30\\ub514\\ubc14\", \"\\uacbd\\ud5d8\\uce58\", \"\\uacc4\\uc18d\", \"\\uacc4\\uc2dc\", \"\\uacc4\\uc815\", \"\\uacc4\\uc815\", \"\\uace0\\uac1d\\uc9c0\\uc6d0\", \"\\uace0\\ub204\\ub974\", \"\\uace0\\uc758\", \"\\uace0\\uc758\\ud2b8\\ub864\", \"\\uace0\\uc778\", \"\\uace0\\ud1b5\", \"\\uacf5\\uac1c\", \"\\uacf5\\uaca9\", \"\\uacf5\\uaca9\", \"\\uacf5\\uae30\\ubc97\", \"\\uacf5\\uc131\", \"\\uacf5\\uc9c0\", \"\\uacfc\\uac70\", \"\\uad6c\\ub77c\\ub97c\\uce68\\ud328\\ub4dc\\ub9bd\\uc774\\ud6c4\", \"\\uad6c\\ub9e4\", \"\\uad6c\\ubd84\", \"\\uad6c\\uc131\", \"\\uad6c\\uc870\", \"\\uad81\", \"\\uad81\", \"\\uad81\\uadf9\\uae30\", \"\\uad81\\uadf9\\uae30\", \"\\uad81\\uae08\", \"\\uad81\\uae08\", \"\\uadd3\\uc18d\\ub9d0\", \"\\uadf8\", \"\\uadf8\\ub54c\", \"\\uadf8\\ub9b0\", \"\\uadf8\\uc640\\uc911\", \"\\uadf8\\ucabd\", \"\\uadfc\\ub370\", \"\\uae00\", \"\\uae30\\uac04\", \"\\uae30\\ub2a5\", \"\\uae30\\ub300\", \"\\uae30\\ubcf8\", \"\\uae30\\ubcf8\", \"\\uae30\\ubcf8\", \"\\uae30\\ubcf8\", \"\\uae30\\ubcf8\", \"\\uae30\\uc220\", \"\\uae30\\uc6b8\\uc9c4\", \"\\uae30\\uc808\", \"\\uae30\\uc874\", \"\\uae30\\uc874\\uc720\\uc800\", \"\\uae30\\uc874\\uc720\\uc800\\ub4e4\", \"\\uae43\\ubc1c\", \"\\uaf34\", \"\\ub05d\", \"\\ub098\", \"\\ub098\", \"\\ub098\", \"\\ub098\\uc911\", \"\\ub0a0\\uc870\", \"\\ub0ae\", \"\\ub0b4\\uc5ed\", \"\\ub0b4\\uc6a9\", \"\\ub0b4\\uc6a9\", \"\\ub0c9\\ud608\", \"\\ub108\", \"\\ub108\\ud504\", \"\\ub108\\ud504\", \"\\ub108\\ud504\", \"\\ub178\\ubc14\", \"\\ub17c\\ub9ac\", \"\\ub1cc\", \"\\ub1cc\", \"\\ub204\\ub354\\uae30\", \"\\ub2a5\\ub825\", \"\\ub2c8\", \"\\ub2c8\", \"\\ub2c8\\ub124\", \"\\ub2c8\\ub4e4\", \"\\ub2c9\", \"\\ub2c9\\ub124\\uc784\", \"\\ub2d8\", \"\\ub2e4\\ub978\\uac8c\", \"\\ub2e4\\uc6b4\\ub85c\\ub4dc\", \"\\ub2e4\\uc74c\", \"\\ub2e4\\uc774\\uc544\", \"\\ub2e8\\uc810\", \"\\ub2e8\\ucd95\\ud0a4\", \"\\ub2f5\", \"\\ub2f5\\ub2f5\", \"\\ub2f5\\ubcc0\", \"\\ub2f5\\ubcc0\", \"\\ub2f7\\uc9c0\", \"\\ub2f9\\uc5f0\\ud55c\\uac70\", \"\\ub300\\uae30\\uc2dc\\uac04\", \"\\ub300\\ub85c\", \"\\ub300\\uc0ac\", \"\\ub300\\ucc98\", \"\\ub313\\uae00\", \"\\ub370\", \"\\ub370\", \"\\ub370\\ubbf8\", \"\\ub3c4\\ubc30\", \"\\ub3c4\\uc0b4\\uc790\", \"\\ub3c4\\uc804\\uc790\", \"\\ub3c4\\uc8fc\", \"\\ub3c4\\uc911\", \"\\ub3cc\\uaca9\\ubcd1\", \"\\ub3cc\\uc9c4\", \"\\ub3d9\\ub124\", \"\\ub3d9\\uc548\", \"\\ub418\", \"\\ub4a4\", \"\\ub4b7\\ubd81\\uce68\", \"\\ub4c0\\uc624\", \"\\ub4dc\\ub9bc\", \"\\ub4f1\\uae09\", \"\\ub4f1\\uae09\\uc804\", \"\\ub4f1\\uae09\\uc804\", \"\\ub514\\ubc14\", \"\\ub514\\ubc14\\uc2a4\\ud0a8\", \"\\ub514\\uc790\\uc778\", \"\\ub51c\", \"\\ub51c\", \"\\ub530\", \"\\ub54c\", \"\\ub54c\", \"\\ub54c\\ubb38\", \"\\ub54c\\ubb38\", \"\\ub54c\\ubb38\", \"\\ub610\\ub530\", \"\\ub611\\uac19\\uc740\\ubc29\\uc2dd\", \"\\ub625\", \"\\ub77c\", \"\\ub77c\", \"\\ub77c\\uc778\", \"\\ub79c\\ub364\", \"\\ub7ad\\ud06c\", \"\\ub808\\ubca8\", \"\\ub808\\uc624\\ub9ad\", \"\\ub808\\uc774\\ub108\", \"\\ub808\\uc774\\ub108\", \"\\ub85c\\ub529\", \"\\ub85c\\ubd07\", \"\\ub864\", \"\\ub9ac\", \"\\ub9ac\", \"\\ub9ac\", \"\\ub9ac\\ubc0d\", \"\\ub9ac\\uc14b\\ub418\\ub294\\uac70\\uc5d0\\uc694\", \"\\ub9ac\\ud50c\\ub808\", \"\\ub9c8\\uc2a4\\ud130\", \"\\ub9c8\\uc6b0\\uc2a4\", \"\\ub9c8\\uc9c0\\ub9c9\\uc8fc\", \"\\ub9c8\\ucc2c\\uac00\\uc9c0\", \"\\ub9cc\\uc57d\", \"\\ub9cc\\uc871\", \"\\ub9ce\\uc774\\ud574\\uc11c\", \"\\ub9d0\", \"\\ub9d0\\ud2f0\\uc5d8\", \"\\ub9d0\\ud4e8\", \"\\ub9d0\\ud568\\uc815\\uc791\", \"\\ub9e4\\ub108\", \"\\ub9e4\\uce6d\", \"\\ub9e4\\uce6d\\uc2dc\\uc2a4\\ud15c\", \"\\ub9f5\", \"\\uba38\\uac00\\ub9ac\", \"\\uba38\\ud558\", \"\\uba54\\ub514\\ube0c\", \"\\uba54\\uce74\", \"\\uba87\", \"\\uba87\\uac1c\", \"\\uba87\\ud310\", \"\\ubaa8\", \"\\ubaa8\\ub4dc\", \"\\ubaa8\\ub784\", \"\\ubaa8\\uc2b5\", \"\\ubaa9\", \"\\ubaa9\\ub85d\", \"\\ubaa9\\uc18c\\ub9ac\", \"\\ubabb\\ub9de\\ucd94\\ub124\\uc774\\ub7fc\\uadf8\\ub7ec\\ub354\\ub2c8\", \"\\ubabb\\ub9de\\ucda4\\ub0b4\", \"\\ubb34\\uc801\", \"\\ubb34\\uc81c\\ud55c\", \"\\ubb36\\uc74c\", \"\\ubb38\\uc758\", \"\\ubb38\\uc81c\", \"\\ubb3c\\ubab8\", \"\\ubb50\", \"\\ubb54\\uac00\", \"\\ubc14\", \"\\ubc14\", \"\\ubc14\\ub9ac\", \"\\ubc14\\uc774\\ud0b9\", \"\\ubc18\", \"\\ubc18\\ubc15\", \"\\ubc18\\ubcf5\\ud574\\uc11c\", \"\\ubc18\\uc601\", \"\\ubc1c\", \"\\ubc1c\\ub9ac\\ub77c\", \"\\ubc1c\\ub9ac\\ub77c\\uc788\\uc744\\ub550\", \"\\ubc29\\uc1a1\", \"\\ubc29\\uce58\", \"\\ubc30\\uce58\", \"\\ubc30\\uce58\\uacbd\\uae30\", \"\\ubc30\\ud2c0\\ub137\", \"\\ubc30\\ud2c0\\ud0dc\\uadf8\", \"\\ubc31\\uc218\", \"\\ubc34\\ud558\", \"\\ubc84\\uadf8\", \"\\ubc84\\ud2bc\", \"\\ubc88\\uc5ed\", \"\\ubc94\\uc704\", \"\\ubcd1\\uc2e0\", \"\\ubcf4\\uc0c1\", \"\\ubcf4\\uc720\", \"\\ubcf4\\ud638\\ub9c9\", \"\\ubcf8\\uc12d\", \"\\ubd80\", \"\\ubd80\\ubd84\", \"\\ubd80\\ubd84\", \"\\ubd80\\uc871\\ud55c\", \"\\ubd80\\ud0c1\\ud55c\\ub2e4\\uc62c\\ub9bc\\ud55c\\ub2ec\\ud6c4\", \"\\ubd80\\ud130\", \"\\ubd80\\ud65c\", \"\\ubd81\\ubbf8\", \"\\ubd81\\ubbf8\\uc12d\", \"\\ubd84\", \"\\ubd84\\uba85\", \"\\ubd88\", \"\\ubd88\\uac00\\ub2a5\", \"\\ubd88\\ub9ac\", \"\\ubd88\\ud3b8\", \"\\ube0c\\ub77d\\uc2dc\\uc2a4\", \"\\ube0c\\ub860\\uc988\", \"\\ube14\\ub9ac\\uc790\\ub4dc\", \"\\ube14\\ub9ac\\uc790\\ub4dc\", \"\\ube14\\ub9ac\\uc790\\ub4dc\", \"\\ube48\\uc774\\ubc1c\\ub9ac\\ub77c\", \"\\ube60\\ub300\", \"\\ube60\\ub300\", \"\\ube60\\ub300\", \"\\ube60\\ub300\\uc5d0\\uc11c\\ub9cc\\ub098\", \"\\ube60\\ub978\\ub300\\uc804\", \"\\ube61\\uccd0\\uc11c\", \"\\ubeb4\\uc561\", \"\\uc0ac\\uac70\\ub9ac\", \"\\uc0ac\\uac70\\ub9ac\", \"\\uc0ac\\uac74\\uac1c\\uc694\\uae00\", \"\\uc0ac\\uae30\\uc544\\ub2c8\\ub77c\", \"\\uc0ac\\ub78c\", \"\\uc0ac\\ub78c\", \"\\uc0ac\\ub9ac\", \"\\uc0ac\\ubb34\", \"\\uc0ac\\uc591\", \"\\uc0ac\\uc6a9\", \"\\uc0ac\\uc6a9\", \"\\uc0ac\\uc6a9\", \"\\uc0ac\\uc6a9\\uc790\", \"\\uc0ac\\uc774\\ud2b8\", \"\\uc0c1\\uad00\", \"\\uc0c1\\ub300\", \"\\uc0c1\\ub300\", \"\\uc0c1\\ub300\\ud300\", \"\\uc0c1\\ub300\\ud3b8\", \"\\uc0c1\\ub300\\ud3b8\", \"\\uc0c1\\uc0c1\", \"\\uc0c1\\uc790\", \"\\uc0c1\\uc810\", \"\\uc0c1\\ud488\", \"\\uc0c1\\ud5a5\", \"\\uc0c1\\ud5a5\", \"\\uc0c81\\ub07c\\ub4e4\", \"\\uc0c8\\ub07c\\ub4e4\", \"\\uc0c8\\ub07c\\ub4e4\", \"\\uc0dd\\uac01\", \"\\uc0dd\\uc874\\uae30\", \"\\uc0dd\\uc874\\ub825\", \"\\uc11c\\ubc84\", \"\\uc11c\\ube44\\uc2a4\", \"\\uc124\\uba85\", \"\\uc124\\uba85\", \"\\uc124\\uc815\", \"\\uc131\\ucc44\", \"\\uc138\", \"\\uc218\", \"\\uc218\", \"\\uc218\\uc900\", \"\\uc218\\uc9d1\\ud488\", \"\\uc218\\ud589\", \"\\uc21c\\uac04\", \"\\uc21c\\uc11c\", \"\\uc274\\ub4dc\", \"\\uc2a4\\ud0a8\", \"\\uc2a4\\ud0a8\\ub4e4\", \"\\uc2a4\\ud0ac\", \"\\uc2a4\\ud0ac\", \"\\uc2a4\\ud0ac\\ub4e4\", \"\\uc2a4\\ud0c0\", \"\\uc2a4\\ud134\", \"\\uc2a4\\ud1b0\", \"\\uc2a4\\ud504\\ub808\\uc774\", \"\\uc2b9\\ubd80\", \"\\uc2b9\\ud328\", \"\\uc2dc\", \"\\uc2dc\\uac04\", \"\\uc2dc\\uac04\", \"\\uc2dc\\uacf5\", \"\\uc2dc\\uacf5\\uc11d\", \"\\uc2dc\\uc2a4\\ud15c\", \"\\uc2dc\\uc2a4\\ud15c\", \"\\uc2dc\\uc57c\", \"\\uc2dc\\uc791\", \"\\uc2dc\\uc804\", \"\\uc2dc\\uc804\\ud6c4\", \"\\uc2dc\\uc98c\", \"\\uc2e0\\uace0\", \"\\uc2e0\\uace0\\uae30\\ub2a5\", \"\\uc2e0\\uaddc\", \"\\uc2e0\\uaddc\\uc720\\uc800\\ub4e4\", \"\\uc2e4\\uba85\", \"\\uc2e4\\ubc84\", \"\\uc2e4\\ubc844\\ub124\", \"\\uc2e4\\uc218\", \"\\uc2ec\\ud55c\\uac70\", \"\\uc4f0\\ub808\\uae30\", \"\\uc544\\ub098\\uc6b4\\uc11c\", \"\\uc544\\ub2e5\\uc774\\ud6c4\", \"\\uc544\\ub798\", \"\\uc544\\ubb34\\uac83\", \"\\uc544\\ubb34\\uac83\", \"\\uc544\\ubc14\\ud22c\\ub974\", \"\\uc544\\uc11c\\uc2a4\", \"\\uc544\\uc774\", \"\\uc544\\uc774\\ub514\\uc5b4\", \"\\uc548\\uadf8\\ub798\", \"\\uc548\\ub155\", \"\\uc548\\ub155\", \"\\uc548\\ubcf4\", \"\\uc548\\uc8fc\", \"\\uc54c\\ub77c\\ub77c\\ud06c\", \"\\uc54c\\ucf54\\uc62c\\uc911\\ub3c5\", \"\\uc554\\uc0b4\\uc790\", \"\\uc560\", \"\\uc560\", \"\\uc560\", \"\\uc560\\ucd08\", \"\\uc560\\ucd08\", \"\\uc560\\ucd08\", \"\\uc57d\", \"\\uc5b4\\ub514\", \"\\uc5b4\\ub514\", \"\\uc5b4\\uc774\", \"\\uc5b4\\uc9c0\\uac04\", \"\\uc5b5\\uc6b8\", \"\\uc5b8\\uae09\\ud558\\uc790\", \"\\uc5bc\\ub9c8\", \"\\uc5c5\\ub370\\uc774\\ud2b8\", \"\\uc5c6\\ub294\\uac70\", \"\\uc5c6\\ub294\\uc560\\ub4e4\", \"\\uc5d0\\ud734\", \"\\uc5e0\\ube44\\ud53c\\ub738\", \"\\uc5e0\\ucc3d\\uc0c8\\ub07c\", \"\\uc5ec\\ub7ec\\ubc88\", \"\\uc5ed\\ub300\\uae09\", \"\\uc5ed\\uc804\", \"\\uc5f0\\uacb0\", \"\\uc5f0\\uacc4\", \"\\uc5f0\\ub3d9\", \"\\uc5f0\\ub9c9\", \"\\uc5f0\\uc18d\", \"\\uc5ff\", \"\\uc601\\ub9ac\", \"\\uc601\\ub9ac\", \"\\uc601\\ub9ac\", \"\\uc601\\ub9ac\", \"\\uc601\\uc0c1\", \"\\uc601\\uc6c5\", \"\\uc601\\uc6c5\", \"\\uc601\\uc6c5\\ub808\\ubca8\", \"\\uc601\\uc6c5\\ub9ac\\uadf8\", \"\\uc601\\uc6c5\\ub9ac\\uadf8\", \"\\uc601\\ud5a5\", \"\\uc608\\uc815\", \"\\uc624\\ub2c8\\uac90\\uc9c0\", \"\\uc624\\ub958\", \"\\uc624\\ubc84\\uc6cc\\uce58\", \"\\uc624\\ube0c\", \"\\uc624\\ube0c\", \"\\uc624\\ube0c\\uc81d\\ud2b8\", \"\\uc624\\uc804\", \"\\uc624\\uc9c0\", \"\\uc624\\uc9c0\", \"\\uc624\\ud0c0\", \"\\uc62c\\ub9b0\\uac70\", \"\\uc635\\uce58\", \"\\uc644\\ub8cc\", \"\\uc644\\uc804\", \"\\uc65c\\ub0d0\", \"\\uc678\\uad6d\", \"\\uc695\", \"\\uc695\\uc124\", \"\\uc695\\uc124\", \"\\uc6a9\\uac80\", \"\\uc6a9\\ubcd1\", \"\\uc6a9\\ubcd1\", \"\\uc6b0\\ub450\\uba38\\ub9ac\", \"\\uc6b0\\ub9ac\\ud300\", \"\\uc6d0\\uac70\\ub9ac\", \"\\uc6d0\\uc791\", \"\\uc720\\uc785\", \"\\uc720\\uc800\", \"\\uc720\\uc800\\uac04\", \"\\uc720\\uc800\\ub4e4\", \"\\uc740\\uc2e0\", \"\\uc740\\uc2e0\\uc4f0\", \"\\uc740\\uc2e0\\uce90\", \"\\uc758\\ub3c4\\uc801\", \"\\uc758\\uc9c0\", \"\\uc758\\uc9c0\", \"\\uc774\", \"\\uc774\\uac70\", \"\\uc774\\ub3d9\", \"\\uc774\\ub3d9\", \"\\uc774\\ub3d9\\uae30\", \"\\uc774\\ub7f0\\uac70\", \"\\uc774\\ub7f0\\uac70\\uc911\", \"\\uc774\\ub7f0\\uc2dd\", \"\\uc774\\ub984\", \"\\uc774\\ubc88\", \"\\uc774\\ubc88\\uc8fc\", \"\\uc774\\ubca4\\ud2b8\", \"\\uc774\\uc6a9\", \"\\uc774\\uc810\", \"\\uc774\\ud574\\ub3c4\", \"\\uc778\", \"\\uc778\\uacf5\", \"\\uc778\\uacf5\\uc9c0\\ub2a5\", \"\\uc778\\uc815\", \"\\uc778\\uc99d\", \"\\uc778\\ud130\\ub137\", \"\\uc77c\\ub2e8\", \"\\uc77c\\ub9ac\\ub2e8\", \"\\uc77c\\ubc18\", \"\\uc77c\\ubc18\", \"\\uc77c\\ubc18\\uc804\", \"\\uc77c\\uc77c\", \"\\uc77c\\uc815\", \"\\uc785\\uc7a5\", \"\\uc788\\ub294\\uac70\", \"\\uc790\\uae30\", \"\\uc790\\uae30\", \"\\uc790\\ub9ac\", \"\\uc790\\ub9ac\", \"\\uc790\\uccb4\", \"\\uc790\\ud3ed\", \"\\uc791\\uc131\", \"\\uc791\\uc131\\uc790\", \"\\uc791\\uc5c5\", \"\\uc798\\ubabb\", \"\\uc798\\ubabb\\ubcf8\\uac70\\uac19\\uc740\\ub370\", \"\\uc798\\uc9c0\\ucf1c\", \"\\uc7a5\\ub974\", \"\\uc7a5\\ub9c9\", \"\\uc7ac\\ubbf8\", \"\\uc7ac\\uc811\\uc18d\", \"\\uc800\", \"\\uc800\", \"\\uc800\\ubc88\", \"\\uc800\\uc0c8\\ub07c\\ub4e4\", \"\\uc800\\uc7a5\", \"\\uc801\", \"\\uc801\", \"\\uc801\\uc6a9\", \"\\uc801\\uc9c4\", \"\\uc801\\ud300\", \"\\uc804\", \"\\uc804\", \"\\uc804\\ub7b5\\uc774\\ud6c4\", \"\\uc804\\ub9ac\\ud488\", \"\\uc804\\ub9ac\\ud488\\uc0c1\\uc790\", \"\\uc804\\ubb38\\uac00\", \"\\uc804\\uc0ac\", \"\\uc804\\uc124\", \"\\uc804\\uc7a5\", \"\\uc804\\uc801\", \"\\uc810\\uac80\", \"\\uc810\\uc218\", \"\\uc811\\uadfc\", \"\\uc811\\uadfc\\uc131\", \"\\uc811\\uc18d\", \"\\uc811\\uc218\", \"\\uc815\\ub3c4\", \"\\uc815\\ub3c4\", \"\\uc815\\uc0c1\", \"\\uc815\\uc0c1\\uc801\", \"\\uc815\\uc2e0\\uc2b9\\ub9ac\", \"\\uc815\\uc608\", \"\\uc815\\uc9c0\", \"\\uc815\\ucc30\\uae30\", \"\\uc815\\uce58,\\uc695\\uc124\\uc2dc\\uc804\\uac9c\", \"\\uc815\\ud655\", \"\\uc81c\", \"\\uc81c\\uac70\", \"\\uc81c\\ub77c\\ud234\", \"\\uc81c\\ubaa9\", \"\\uc81c\\uc57d\\ubc1b\\ub294\\ucf00\\ub9ad\", \"\\uc81c\\uc678\", \"\\uc81c\\uc7ac\", \"\\uc81c\\uc7ac\", \"\\uc81c\\uc81c\", \"\\uc824\", \"\\uc870\\uac74\", \"\\uc870\\uc815\", \"\\uc870\\ud569\", \"\\uc885\\ub8cc\", \"\\uc8c4\\uc1a1\", \"\\uc8fc\", \"\\uc8fc\\ubcc0\", \"\\uc8fc\\uc791\\ud574\\uc11c\", \"\\uc904\", \"\\uc904\", \"\\uc911\", \"\\uc911\\uac04\", \"\\uc911\\uad6d\", \"\\uc911\\uc704\", \"\\uc99d\\uac00\", \"\\uc99d\\uac70\", \"\\uc9c0\", \"\\uc9c0\\uacbd\", \"\\uc9c0\\uae09\", \"\\uc9c0\\uc18d\", \"\\uc9c0\\uc18d\\uc2dc\\uac04\", \"\\uc9c0\\uc6d0\\uac00\", \"\\uc9c0\\ud615\", \"\\uc9c1\\uad00\\uc131\", \"\\uc9c4\\uc785\", \"\\uc9c4\\uc9c0\", \"\\uc9c4\\uc9dc\", \"\\uc9c4\\uc9dc\", \"\\uc9c4\\uc9dc\", \"\\uc9c4\\ucc99\\ub3c4\", \"\\uc9c4\\ud589\", \"\\uc9c4\\ud589\", \"\\uc9c8\\ubb38\", \"\\uc9c8\\ud48d\\ucc38\", \"\\uc9dc\\uc99d\", \"\\ucabd\", \"\\ucc28\", \"\\ucc28\\ub2e8\", \"\\ucc28\\uc774\", \"\\ucc38\\uc5ec\", \"\\ucc38\\uc5ec\", \"\\ucc44\", \"\\ucc44\\ud305\", \"\\ucc44\\ud305\", \"\\ucc44\\ud305\\ucc3d\", \"\\ucc98\", \"\\ucc98\\ub7fc\", \"\\ucc98\\ub7fc\", \"\\ucc98\\ub9ac\", \"\\ucc98\\ubc8c\", \"\\ucc9c\\ub9ac\\uc548\", \"\\uccab\\uc9f8\", \"\\uccab\\uc9f8\\uc8fc\", \"\\uccb4\\ub825\", \"\\ucd08\\uac08\", \"\\ucd08\\uae30\\ud654\", \"\\ucd08\\ubcf4\", \"\\ucd08\\uc0c1\\ud654\", \"\\ucd5c\\uc120\", \"\\ucd5c\\uc18c\", \"\\ucd5c\\uc18c\\ud55c\", \"\\ucd94\", \"\\ucd94\\uac00\", \"\\ucd94\\uac00\", \"\\ucd94\\uac00\", \"\\ucd95\\uc131\", \"\\ucd9c\\ub825\", \"\\ucda9\", \"\\ucde8\\uae09\", \"\\ucde8\\uc9c0\", \"\\uce5c\\uad6c\", \"\\uce5c\\uad6c\", \"\\uce5c\\uad6c\\ubd80\\ub974\", \"\\uce5c\\uad6c\\ucd94\\uac00\", \"\\uce68\\ubb35\", \"\\uce68\\ubb35\", \"\\uce74\\ub77c\\uc9d0\", \"\\uce74\\uc6b4\\ud130\", \"\\uce74\\uc6b4\\ud130\", \"\\uce74\\uc6b4\\ud2b8\", \"\\uce90\\ub9ac\", \"\\uce90\\ub9ad\", \"\\uce90\\ub9ad\", \"\\uce90\\ub9ad\", \"\\uce90\\ub9ad\\ud130\", \"\\ucea0\\ud504\", \"\\ucef4\\ud4e8\\ud130\", \"\\ucf00\\ub9ad\", \"\\ucf54\\ub9ac\\uc544\", \"\\ucf5c\\ub77c\\ubcf4\", \"\\ucfe8\", \"\\ud018\\uc2a4\\ud2b8\", \"\\ud06c\\ub85c\\ubbf8\", \"\\ud074\\ub9ad\", \"\\ud0a4\", \"\\ud0a4\\ubc30\\uc911\", \"\\ud0c0\\uaca9\\uac10\", \"\\ud0c8\\uc8fc\", \"\\ud0c8\\uc8fc3\\ud68c\\uc5d0\\ub2e4\", \"\\ud0c8\\uc8fc\\uc790\", \"\\ud0c8\\uc8fc\\ud328\\ub110\\ud2f0\", \"\\ud0d1\", \"\\ud0f1\", \"\\ud0f1\\ucee4\", \"\\ud0f1\\ucee4\", \"\\ud130\", \"\\ud14c\\uc2a4\\ud2b8\", \"\\ud14c\\uc2a4\\ud2b8\\uc11c\\ubc84\", \"\\ud1b5\\uacc4\\ucc3d\", \"\\ud29c\\ud1a0\\ub9ac\\uc5bc\", \"\\ud2b8\\ub808\\uc774\\uc11c\", \"\\ud2b8\\ub808\\uc774\\uc11c\", \"\\ud2b8\\ub864\\ub4e4\", \"\\ud2b8\\ub864\\ub7ec\", \"\\ud2b9\\uc131\", \"\\ud2b9\\uc131\", \"\\ud2b9\\uc131\\uc0c1\", \"\\ud2f0\", \"\\ud2f0\\ub77c\\ub178\", \"\\ud2f0\\ub77c\\ub178,\", \"\\ud2f0\\ub9ac\\uc5d8\", \"\\ud2f0\\uc5b4\", \"\\ud300\", \"\\ud300\", \"\\ud300\", \"\\ud300\\ub9ac\", \"\\ud300\\ub9ac\\uadf8\", \"\\ud300\\uc6d0\\ub4e4\", \"\\ud305\\uae30\", \"\\ud30c\\uba78\", \"\\ud30c\\ud2f0\", \"\\ud30c\\ud2f0\\ub97c\\ub9fa\\uace0\\uc788\\ub358\", \"\\ud30c\\ud3b8\", \"\\ud310\", \"\\ud328\\ub110\\ud2f0\", \"\\ud328\\ub110\\ud2f0\", \"\\ud328\\uc2dc\\ube0c\", \"\\ud328\\uc791\", \"\\ud328\\uc791\\ub7ec\\ub4e4\", \"\\ud328\\uc791\\ud31f\", \"\\ud328\\uce58\", \"\\ud328\\uce58\", \"\\ud329\\ud2b8\", \"\\ud398\\uc774\\uc9c0\", \"\\ud3b8\", \"\\ud3c9\\uc18c\", \"\\ud3c9\\ud0c0\", \"\\ud3ec\\ud0d1\", \"\\ud3ec\\ud568\", \"\\ud3ec\\ud568\", \"\\ud3ed\\ud48d\", \"\\ud45c\\uc2dc\", \"\\ud504\\ub85c\\ud544\", \"\\ud50c\\ub808\", \"\\ud50c\\ub808\\uc774\", \"\\ud50c\\ub808\\uc774\\ud55c\", \"\\ud53c\", \"\\ud53c\\ud1b5\", \"\\ud53c\\ud574\", \"\\ud53c\\ud574\", \"\\ud53d\", \"\\ud53d\", \"\\ud53d\\ucc3d\", \"\\ud558\\ub098\\ubb34\", \"\\ud558\\ub098\\ubb34\\ub77c\", \"\\ud558\\ub294\\uac70\", \"\\ud558\\ub294\\uac70\", \"\\ud558\\ub4dc\", \"\\ud559\\uc2b5\\ud6a8\\uacfc\", \"\\ud55c\\uad6d\", \"\\ud55c\\uad6d\\uc778\", \"\\ud55c\\ubc88\", \"\\ud55c\\uc815\\ud310\", \"\\ud55c\\ud0c0\", \"\\ud55c\\ud0c0\", \"\\ud55c\\ud310\", \"\\ud560\\uc778\\uc728\", \"\\ud56d\\ubcf5\", \"\\ud56d\\uc804\", \"\\ud574\", \"\\ud574\", \"\\ud574\", \"\\ud574\\uacb0\", \"\\ud574\\uba38\", \"\\ud575\", \"\\ud575\\uc2ec\", \"\\ud589\\ub3d9\", \"\\ud589\\uc704\", \"\\ud604\\uc0c1\", \"\\ud604\\uc2e4\", \"\\ud604\\uc7ac\", \"\\ud63c\\uc790\\ub2e4\\ub2c8\\uc9c0\\ub9d0\\uace0\", \"\\ud648\\ud398\\uc774\\uc9c0\", \"\\ud654\\ubb3c\", \"\\ud655\\ub960\", \"\\ud655\\uc2e4\", \"\\ud655\\uc778\", \"\\ud655\\uc778\", \"\\ud655\\uc778\", \"\\ud658\\uacbd\", \"\\ud658\\ubd88\", \"\\ud65c\\uc131\\ud654\", \"\\ud65c\\uc6a9\", \"\\ud68d\\ub4dd\", \"\\ud6a8\\uacfc\", \"\\ud788\\ub9b0\", \"\\ud788\\ub9b0\\uc774\\ub4e4\", \"\\ud788\\uc5b4\\ub85c\\uc988\", \"\\ud788\\uc624\\uc2a4\", \"\\ud788\\uc624\\uc2a4\\uc5d0\\uc11c\", \"\\ud788\\uc624\\uc2a4\\uc5d0\\uc120\", \"\\ud790\", \"\\ud790\\ub7ec\"], \"Freq\": [0.9681106936725414, 0.9813382289987191, 0.9972240467809708, 0.9782183420681494, 0.99543843761971, 0.995246323223171, 0.5520586319805164, 0.4140439739853873, 0.9844341811522724, 0.9605099333667334, 0.9892318057505827, 0.9763903165229707, 0.9723691020777679, 0.9918513341089625, 0.9792553672632299, 0.9885665649561407, 0.9764643719410376, 0.9951311615779036, 0.994457705167035, 0.9762066634956997, 0.48897761361647707, 0.2027468154019539, 0.2981570814734616, 0.9970631681478647, 0.9961095878222083, 0.9603338633679803, 0.9901539727703207, 0.9526506528073918, 0.9895114702133285, 0.9481042583961912, 0.9383139412168123, 0.9853261423587151, 0.9846178031358286, 0.9706522632139761, 0.9938626659646737, 0.9789327780753164, 0.987685505246934, 0.9788427758484818, 0.979003564941471, 0.9872215567633111, 0.9646399218467886, 0.9961824877894042, 0.9666948806694866, 0.9896876185492276, 0.9880456276270397, 0.9886672827021926, 0.776924985515908, 0.2161878220566005, 0.9912822379695916, 0.9776738413149331, 0.9945631615098597, 0.9720772566612348, 0.9858720370627074, 0.9969512734834121, 0.9602175516644743, 0.9937685819296752, 0.95250108654607, 0.9812901449438177, 0.98448172311583, 0.9811728273539776, 0.9700238427293102, 0.9862105759551617, 0.9862486880106802, 0.9879578908483682, 0.9974083707391898, 0.9808485111507075, 0.9620662017366786, 0.9758552664740626, 0.9796029822962992, 0.9562105510859659, 0.9653047133895089, 0.7627097068161364, 0.2318039305029434, 0.7250504831452638, 0.2572759778902549, 0.9278685981127895, 0.8696267314130204, 0.10435520776956245, 0.966999482081559, 0.7994629748128089, 0.19679088610776835, 0.9900137850641871, 0.4588076093607847, 0.08442060012238438, 0.4221030006119219, 0.033034147873976495, 0.9779300764173176, 0.6031868427271431, 0.1628604475363286, 0.1628604475363286, 0.0603186842727143, 0.9990070606794725, 0.9560543617266088, 0.9899511698184826, 0.9786481264338455, 0.999828308816652, 0.993243484539862, 0.006324640128576088, 0.9858641945256986, 0.9304461326330075, 0.9974095569390915, 0.9706522632139761, 0.9598219317336363, 0.9812234263119209, 0.9981003016512142, 0.9880517527878745, 0.9885910615819863, 0.9923206774635007, 0.9849303003077083, 0.9826694329482658, 0.16665055233361212, 0.8265867395747162, 0.9716717133887411, 0.9511887904350149, 0.9875234442657866, 0.99092580742116, 0.959575152317516, 0.9784378870405566, 0.9826259422598439, 0.24798197020360455, 0.7510311097594881, 0.9598219317336363, 0.9639406119679963, 0.9877244958681425, 0.9790815896140469, 0.9706522632139761, 0.9929793571568201, 0.9595245854296927, 0.9659124084564724, 0.9919770916300886, 0.7359658492280104, 0.24532194974267016, 0.29433413122648944, 0.6976809036479749, 0.02943379605209021, 0.9639568207059543, 0.9603114181820844, 0.9988704780205623, 0.9751481653595712, 0.9706522632139761, 0.9658381028547859, 0.9650658154255355, 0.9969177597177828, 0.9977797304942465, 0.9787461823779728, 0.9969064372369049, 0.9834375621297902, 0.5850928489883053, 0.0893891852621022, 0.21940981837061446, 0.07313660612353816, 0.03250515827712807, 0.9832217780534857, 0.9598219317336363, 0.9866968182998785, 0.998883739195613, 0.9780840592443903, 0.980806607717003, 0.9653635661961493, 0.977736707596247, 0.9922263485470765, 0.8359336720730647, 0.04458312917723012, 0.11814529231965981, 0.9918461424142317, 0.9918268979379058, 0.9873920035556095, 0.9683878433710177, 0.3547409067909008, 0.6364469210072043, 0.9839933030079073, 0.9880278554603665, 0.6754616333054717, 0.1986651862663152, 0.11919911175978913, 0.9929880756385717, 0.9740295065707697, 0.12832807634317486, 0.8616313697327456, 0.9949780539835126, 0.9946777925588757, 0.27304019307296656, 0.7231875384094789, 0.9776176720589165, 0.9945874039240178, 0.9828134092880142, 0.9828035857807641, 0.9962014168564303, 0.9680484557514116, 0.9625107529919307, 0.9931731952885638, 0.9847980385971898, 0.9874110144438263, 0.9719692918856191, 0.9949130734673167, 0.9797728018046353, 0.06726215050667177, 0.9320612284495945, 0.9778781811085706, 0.9700028790267206, 0.9598167097632556, 0.9684835363649661, 0.9807569540075746, 0.9911590549533391, 0.9836034337851581, 0.9892906553368992, 0.00900524653752704, 0.9852157288784763, 0.9870555035931244, 0.9940467859298886, 0.9965164684977622, 0.9726090750686135, 0.9759095432645168, 0.9665343419685423, 0.9520352259611268, 0.9520547837597184, 0.9835851885801152, 0.9895535990073294, 0.9969644801337305, 0.9706522632139761, 0.98794452827754, 0.968081916152383, 0.9900792195516189, 0.46812422288063404, 0.5316966482101029, 0.9983882732275057, 0.9773098255897187, 0.9713918415443445, 0.5457928926777943, 0.44803894175042813, 0.9691456078001034, 0.9768324036732173, 0.022880759004958243, 0.910449777695858, 0.011709964986441904, 0.07611477241187237, 0.9598219317336363, 0.9598219317336363, 0.9862050978932385, 0.8572365736661903, 0.139896246396913, 0.9939674530748189, 0.9874762560514955, 0.9785634276465299, 0.9954863395427245, 0.9896508144003868, 0.06305595282061016, 0.9143113158988474, 0.9688600381317224, 0.9913177114387471, 0.998019267003465, 0.8979194847590543, 0.07981506531191594, 0.0216165801886439, 0.9827633000917916, 0.9919552209814905, 0.9941584242282215, 0.9940031585263008, 0.9905157283308686, 0.966422291907312, 0.9715031606416589, 0.978349054932436, 0.9719138268270713, 0.9772178000888249, 0.9985881713490304, 0.9666802434580798, 0.9550442444576652, 0.9706522632139761, 0.9916520186341913, 0.999445964851105, 0.983595149400154, 0.996516941805783, 0.9821418801098186, 0.9568831710970618, 0.9901666979022712, 0.991521132930372, 0.9788966001400835, 0.9769750209047768, 0.9699867455165908, 0.97596664494128, 0.9829629877384425, 0.9672328197398098, 0.9905120289613063, 0.9708160594841486, 0.975403712924996, 0.9519211773342435, 0.9706522632139761, 0.9706522632139761, 0.9434224299483668, 0.9392112193225886, 0.9849776295725919, 0.9921269826072762, 0.9991791737025719, 0.9730177297303355, 0.9989816277301556, 0.9868596634253944, 0.3371045956992428, 0.6625848949950635, 0.9932697195918493, 0.9632935429943488, 0.9678843954040404, 0.9864580005864747, 0.9598219317336363, 0.9808031648047846, 0.9686254638254854, 0.9956699309442762, 0.9598219317336363, 0.9819476129428186, 0.9721626817113541, 0.9966644130173649, 0.986674447345864, 0.9720068202052123, 0.9838872764285971, 0.9568858615546492, 0.9673733753600492, 0.968206005469701, 0.9937265057854987, 0.9599746746969503, 0.9942091727090651, 0.9783485922831192, 0.9975168811157891, 0.9743447368788726, 0.9866196348513375, 0.9906416751881573, 0.9809130872921714, 0.8672235200702649, 0.12819825948864785, 0.9895014570890052, 0.9706522632139761, 0.9912232822790895, 0.9873060435262151, 0.9856590669252672, 0.9771015212105562, 0.9960491748984802, 0.9875595222313066, 0.9848973822752254, 0.9917517185801819, 0.956851145239521, 0.9913192526735518, 0.970438859137084, 0.9919832388137437, 0.7498160628092709, 0.13199009345331736, 0.11654444421941851, 0.9779304644941229, 0.12826209447590212, 0.7442576797878004, 0.12657443533806131, 0.9598219317336363, 0.9977651762091135, 0.9910105715828054, 0.9672779277852291, 0.6270273833546564, 0.36934489704452356, 0.9706522632139761, 0.9561836124825884, 0.9437985948091374, 0.056005630900762, 0.986701742092925, 0.9946327584973168, 0.9596648311768707, 0.6189113121024444, 0.033912948608353116, 0.3433686046595753, 0.9832349891110794, 0.9815843976496311, 0.9925956199436935, 0.6079990575130347, 0.3893327298109784, 0.9903122608122876, 0.3804814260600742, 0.6007601464106435, 0.9760247414448233, 0.9941025980905439, 0.9738033588203526, 0.9923992213539692, 0.6333924628889318, 0.35395461161440306, 0.9959734912986422, 0.1517659194731474, 0.8431439970730411, 0.9995176092613338, 0.9901626909731839, 0.9825771109667029, 0.9977015290758416, 0.9866191363637528, 0.39163638255823413, 0.597760794430989, 0.9902310878180682, 0.9893579535571716, 0.9182094390393987, 0.9860686424526537, 0.013917694318315507, 0.9931909802590485, 0.9709301947920396, 0.9625466070455768, 0.9890779535741859, 0.9750645743461936, 0.9860399545157553, 0.9986788373748472, 0.9640060838358762, 0.5333941980658529, 0.46412222429106675, 0.9920482939557548, 0.9769426198557787, 0.9639122786225446, 0.9880504171067541, 0.9915676496117716, 0.9783148941338743, 0.9860796382989747, 0.9843989849145154, 0.808131280925326, 0.18988877092780884, 0.9987343267648712, 0.9908642850658831, 0.9844739670474724, 0.014336999520108822, 0.972429244199624, 0.9992096569468142, 0.9658811708045475, 0.9706522632139761, 0.9887924984959657, 0.9953003339332487, 0.9909054779275203, 0.9854352118081388, 0.986425686064211, 0.9735410286397224, 0.985581726831654, 0.9706522632139761, 0.9768446809981387, 0.9230994174781905, 0.9833022719137275, 0.9878296866415341, 0.9706522632139761, 0.9773511403631259, 0.6768683958844588, 0.3130516330965622, 0.9908187563308432, 0.9606827437904115, 0.9781597033263545, 0.9706852347823361, 0.978844715664338, 0.7876019133752539, 0.2056794805629644, 0.9833882024175562, 0.9708010156406571, 0.9913448406447749, 0.9706522632139761, 0.9925308114442993, 0.06310247211100464, 0.8460405520068031, 0.08881088667474728, 0.5028507947045119, 0.2941202761479221, 0.1992427677131085, 0.978002351769683, 0.9782665631690377, 0.008433332441112395, 0.9790457981682381, 0.9743717909988384, 0.9844456356357189, 0.9706522632139761, 0.9770486045348987, 0.9844986554972551, 0.9733502272357748, 0.9595513362182096, 0.9717283900753222, 0.9706522632139761, 0.9706522632139761, 0.9717370231459832, 0.9639510009565315, 0.9768327597569799, 0.9819824384723674, 0.9822193502622598, 0.9703179020968173, 0.9778874900251725, 0.9778440742614476, 0.9894321661836204, 0.6185961182271275, 0.1912024365429303, 0.13496642579500961, 0.05398657031800385, 0.9694428536718347, 0.9528272876643509, 0.04606209263570757, 0.9799973492256188, 0.014691558777200088, 0.9843344380724058, 0.9873598488549055, 0.9721486126147787, 0.9956081057869139, 0.9923570534372274, 0.9987235275393982, 0.07483985240420016, 0.9184890976879111, 0.9950116056221465, 0.9938763329342899, 0.3323574022481219, 0.63450049520096, 0.9358497141712834, 0.9711372873313746, 0.9962464724133329, 0.9953587638229395, 0.9914935657842995, 0.9628183466840979, 0.967987863031341, 0.9977433983206527, 0.9768779012472563, 0.020141812396850645, 0.9783652705842788, 0.1890020557356292, 0.7980086797726565, 0.9394791967791943, 0.9974742015660718, 0.9736764540879445, 0.9545672499918588, 0.9901796210057561, 0.9989249185066887, 0.946951661883562, 0.9996637351242451, 0.9984414839055835, 0.9816133000732351, 0.9907010424889446, 0.9806425995494663, 0.8944740520427134, 0.08385694237900437, 0.9995291273896988, 0.9984455677657232, 0.6506957156862148, 0.33836177215683166, 0.9407099962634284, 0.9933577740101336, 0.9598219317336363, 0.9852017678674706, 0.9812998733401641, 0.997540595770567, 0.9678110073223017, 0.9985265923269001, 0.9946749384637396, 0.9424668773956709, 0.9805201342242105, 0.9692924293811606, 0.9825906075613026, 0.9967033985371713, 0.9959142410324728, 0.9833277857902933, 0.9763544430863357, 0.9893969179679101, 0.9821588371881257, 0.10198563073398714, 0.8923742689223876, 0.997763495457182, 0.9700961579198066, 0.9615251142551576, 0.979532819271455, 0.9779399315142924, 0.531374897444912, 0.4634083407949814, 0.3513520249770056, 0.6506518981055659, 0.9971972898494416, 0.9723723829473065, 0.9879860901029176, 0.9970178393383938, 0.9824302180315667, 0.9933366621780817, 0.9706522632139761, 0.9598219317336363, 0.983030502863588, 0.9946209041284549, 0.9989498047810365, 0.9854321412683408, 0.9571991536944983, 0.04240755744216131, 0.9942162651786293, 0.9699172533088958, 0.969594910340686, 0.7706405144882126, 0.22845710450381249, 0.9980823592831274, 0.9583857101010268, 0.9861310761901118, 0.9946020146332303, 0.0022656082337886795, 0.9706522632139761, 0.9889778300549044, 0.9717036970679684, 0.9893343515080903, 0.9928498663623727, 0.9766810969933883, 0.9905582355110913, 0.9868628302506762, 0.9951531703762224, 0.9968918003416077, 0.956440862153115, 0.9532216291247575, 0.987797407354183, 0.9715606280212584, 0.30662558862286304, 0.6908779085426535, 0.9787534631778303, 0.9883795631522962, 0.9875895512961501, 0.9681508937105312, 0.9922766933650627, 0.9860249081556025, 0.9706522632139761, 0.9914810063142854, 0.9914678251423068, 0.9876140517690112, 0.9858670747646724, 0.9685086515136166, 0.9598219317336363, 0.9926398262426207, 0.7993153018319751, 0.19830341457663503, 0.9967078914573466, 0.9749855284130009, 0.9946682634373402, 0.9824853157978876, 0.9969576790538568, 0.9839969734218912, 0.9814221112082739, 0.9932995955328006, 0.9931991719576316, 0.9706522632139761, 0.8447759402153023, 0.1523366449568578, 0.9985887006119359, 0.9728735140205673, 0.9589125226099355, 0.9764705747641544, 0.979629614159169, 0.9717394397142053, 0.9987966117026238, 0.9608614113107858, 0.9647578066475316, 0.9684543188294767, 0.9897867036319931, 0.9965242243540496, 0.9546033361122147, 0.9465475011519254, 0.9802968503961453, 0.9827933328321884, 0.8830424034036066, 0.09727722582603834, 0.019287725810335186, 0.960122826639764, 0.3034501454519534, 0.690932638875217, 0.9891662467221477, 0.9882625983480737, 0.9866464297573602, 0.9959720663885057, 0.9824595931042363, 0.9966342544022411, 0.9921727830036611, 0.9656830080633462, 0.03192340522523458, 0.9664135293705141, 0.3166462822186463, 0.678527747611385, 0.9913482584874047, 0.9840991651187829, 0.8336398066780354, 0.14886425119250632, 0.9859156480539145, 0.9950842594576366, 0.9598219317336363, 0.9576544119323115, 0.9893284307569087, 0.9902018603269921, 0.9792492585155806, 0.9866475951292722, 0.9767292104529461, 0.9927693292647836, 0.9907279709863475, 0.983126421914108, 0.9936001949051432, 0.9584433084899343, 0.3576384245080706, 0.12277139945799438, 0.5177750324967589, 0.9573768929662059, 0.958379655293482, 0.9476524313462297, 0.9675306668069559, 0.9478958871102987, 0.7629774336235121, 0.23434306889865014, 0.9706522632139761, 0.9717887207552438, 0.12649938058086566, 0.8624957766877204, 0.9846458054518183, 0.7457923843268951, 0.2431931688022484, 0.9678556678483217, 0.9826968160299661, 0.17826597154485652, 0.7687720022871938, 0.04456649288621413, 0.9982349030639087, 0.9895133925609604, 0.9796808329216303, 0.9701160239459323, 0.9873774484478014, 0.9739491300818888, 0.97765958330537, 0.9984910759712216, 0.9951035494442917, 0.9667632578892593, 0.9670554738422844, 0.9706522632139761, 0.9876855131836159, 0.9970850733631361, 0.9278685981127893, 0.9934046967372111, 0.9775774227204507, 0.978301556543455, 0.9911179600953222, 0.9055507747557245, 0.09125705482034434, 0.9871270590554916, 0.9696828753326032, 0.9847015509758312, 0.9839613371347139, 0.9827760069051472, 0.14613822431719023, 0.8402947898238439, 0.9895998686852975, 0.9867134696085129, 0.14409211011353357, 0.8542603671016633, 0.9681997493447323, 0.991121327193119, 0.9845428599045825, 0.9706522632139761, 0.9862353061960669, 0.9636856125281369, 0.6097724628058535, 0.2652092560833678, 0.12529571153544936, 0.9804631218829957, 0.9914110283229944, 0.9799284293113899, 0.9845089582713346, 0.9700230547386782, 0.9937023415207704, 0.9706522632139761, 0.9892317061365842, 0.998636535631531, 0.1398321276778839, 0.8537119374018174, 0.9754643144441942, 0.9957573491707502, 0.969090250809415, 0.951536871430701, 0.8502429234947078, 0.14800524964537506, 0.9873540333534384, 0.9781297443450264, 0.9870940647054216, 0.9810846277627161, 0.9917641203129928, 0.9491663513520397, 0.6767685544636217, 0.30970764356809805, 0.9812146372752716, 0.9941000182428282, 0.9836048603502274, 0.978240248016791, 0.9987900472436342, 0.9701456988269037, 0.9868212385176092, 0.9674562375783623, 0.6656690963139784, 0.3328345481569892, 0.988350918882373, 0.008236257657353108, 0.9919417509592158, 0.969459759542156, 0.9876192287472104, 0.26996319643472716, 0.7164407905383144, 0.9472637350439567, 0.985518730160732, 0.9858686879174304, 0.9506343528404635, 0.9979619356083234, 0.9395536315147183, 0.8761231087974136, 0.12034658087876561, 0.9949278079917983, 0.9800466289079348, 0.9784687025872799, 0.9800263470395043, 0.35194704067973603, 0.144919369691656, 0.49686641037139206, 0.9922416268725633, 0.964988783822118, 0.9809905635325092, 0.967420895311817, 0.9904906175034258, 0.988915154212245, 0.9892288056586613, 0.9665995369877017, 0.9841993735127037, 0.9598219317336363, 0.9894240461165408, 0.9936679425699171, 0.9853261310010605, 0.9940251655695499, 0.6703012865212288, 0.10833152105393597, 0.22004840214080743, 0.9773675235517407, 0.9796615893353661, 0.9838735927993136, 0.9760757306682204, 0.9864942933920156, 0.9914419073635082, 0.9868617221635363, 0.9797776412595667, 0.9974736210863494, 0.9998012730170152, 0.9556301630087548, 0.972208304522589, 0.9953117360177811, 0.9948318345211308], \"Topic\": [17, 19, 2, 15, 4, 4, 6, 12, 4, 18, 4, 11, 16, 4, 7, 15, 20, 13, 6, 5, 2, 4, 9, 1, 4, 16, 11, 20, 16, 20, 20, 11, 10, 17, 13, 19, 11, 12, 7, 2, 9, 2, 11, 12, 16, 3, 2, 4, 2, 8, 13, 13, 2, 2, 12, 10, 16, 12, 12, 8, 15, 16, 18, 5, 7, 3, 17, 19, 19, 15, 14, 1, 13, 6, 9, 18, 9, 20, 18, 4, 6, 10, 2, 3, 10, 12, 15, 2, 3, 10, 16, 1, 17, 8, 15, 1, 1, 13, 3, 15, 12, 17, 18, 6, 1, 16, 12, 4, 2, 9, 3, 7, 7, 12, 3, 3, 17, 4, 19, 6, 9, 18, 9, 11, 10, 17, 14, 17, 12, 2, 6, 10, 6, 9, 8, 10, 15, 1, 14, 17, 20, 12, 1, 1, 14, 4, 10, 4, 6, 9, 10, 11, 6, 18, 6, 5, 8, 16, 14, 11, 10, 1, 2, 3, 3, 3, 11, 7, 7, 13, 6, 3, 6, 10, 12, 2, 17, 2, 5, 14, 5, 3, 17, 10, 5, 15, 16, 19, 20, 12, 12, 11, 5, 9, 4, 7, 3, 7, 4, 20, 12, 15, 16, 11, 19, 1, 6, 6, 3, 18, 4, 10, 7, 6, 6, 12, 13, 10, 10, 17, 10, 13, 8, 1, 8, 5, 14, 19, 6, 10, 18, 1, 6, 4, 7, 11, 18, 18, 4, 1, 9, 4, 2, 16, 4, 18, 2, 6, 15, 5, 1, 1, 2, 6, 14, 7, 3, 8, 4, 13, 9, 18, 12, 20, 1, 17, 17, 17, 3, 2, 2, 1, 9, 6, 5, 11, 5, 19, 11, 5, 17, 17, 14, 13, 20, 16, 17, 17, 16, 20, 14, 3, 1, 6, 1, 4, 2, 4, 10, 19, 19, 16, 18, 19, 15, 6, 18, 8, 20, 8, 8, 16, 16, 12, 17, 18, 3, 11, 5, 16, 8, 5, 6, 11, 20, 4, 10, 16, 17, 4, 5, 13, 15, 2, 2, 4, 4, 17, 7, 9, 11, 1, 3, 13, 18, 1, 2, 11, 18, 1, 3, 17, 6, 9, 17, 6, 1, 3, 7, 11, 15, 1, 7, 9, 7, 16, 13, 1, 2, 2, 4, 11, 12, 14, 20, 14, 6, 9, 3, 12, 15, 1, 10, 17, 13, 13, 3, 6, 20, 9, 20, 1, 13, 3, 8, 9, 9, 16, 6, 14, 14, 6, 9, 9, 15, 6, 7, 14, 11, 14, 10, 1, 13, 4, 14, 1, 2, 9, 1, 9, 17, 8, 3, 7, 9, 19, 5, 15, 17, 8, 20, 16, 14, 17, 13, 5, 10, 2, 6, 13, 9, 10, 1, 13, 20, 18, 5, 17, 2, 1, 2, 3, 4, 12, 19, 13, 3, 20, 20, 17, 3, 17, 8, 5, 8, 18, 10, 17, 17, 7, 15, 12, 7, 9, 11, 6, 13, 2, 1, 2, 8, 11, 13, 1, 6, 19, 1, 8, 13, 5, 14, 3, 1, 1, 7, 9, 13, 12, 20, 20, 16, 5, 13, 17, 12, 15, 3, 3, 7, 12, 2, 11, 17, 2, 9, 6, 16, 1, 20, 1, 18, 18, 10, 3, 11, 13, 1, 5, 4, 20, 17, 3, 18, 16, 9, 1, 19, 12, 13, 12, 11, 20, 20, 17, 5, 20, 7, 10, 5, 6, 10, 2, 19, 13, 4, 8, 8, 10, 2, 5, 1, 9, 9, 4, 13, 3, 17, 18, 19, 9, 1, 7, 1, 3, 3, 17, 8, 1, 6, 1, 19, 2, 1, 9, 17, 14, 14, 2, 2, 14, 9, 15, 13, 7, 15, 14, 13, 7, 4, 5, 4, 6, 17, 20, 3, 9, 17, 7, 3, 9, 18, 11, 18, 2, 3, 7, 3, 18, 5, 19, 2, 13, 7, 8, 10, 17, 1, 6, 1, 20, 19, 16, 6, 15, 1, 8, 14, 11, 6, 2, 16, 20, 19, 5, 1, 2, 15, 14, 7, 13, 10, 12, 11, 4, 10, 15, 5, 7, 8, 20, 1, 3, 10, 8, 4, 9, 8, 4, 18, 19, 13, 6, 5, 12, 11, 14, 13, 10, 2, 6, 5, 8, 9, 17, 16, 12, 16, 16, 1, 8, 17, 15, 3, 6, 17, 5, 9, 12, 19, 2, 5, 6, 1, 9, 4, 9, 4, 11, 10, 1, 5, 20, 9, 17, 6, 7, 18, 7, 15, 19, 10, 2, 9, 12, 11, 2, 15, 14, 5, 6, 19, 13, 6, 9, 7, 8, 17, 17, 11, 17, 1, 2, 13, 11, 8, 8, 8, 19, 11, 17, 14, 3, 4, 7, 6, 2, 12, 12, 1, 9, 18, 7, 10, 3, 6, 12, 4, 7, 6, 8, 19, 8, 1, 15, 6, 20, 2, 5, 2, 12, 4, 9, 6, 2, 11, 16, 18, 15, 15, 1, 20, 10, 18, 15, 14, 11, 5, 2, 4, 10, 8, 9, 19, 10, 7, 7, 15, 5, 10, 18, 13, 19, 10, 4, 1, 3, 7, 7, 11, 5, 19, 14, 6, 3, 7, 7, 1, 18, 8, 10, 2]}, \"mdsDat\": {\"cluster\": [1, 1, 1, 1, 1, 1, 1, 1, 1, 1, 1, 1, 1, 1, 1, 1, 1, 1, 1, 1], \"Freq\": [30.157354743820353, 6.390771575459884, 5.912201335777083, 5.327455948842825, 4.372230431590394, 4.302891268599418, 4.059349647549115, 4.046431494437336, 3.9016370168780323, 3.8575977024729173, 3.2955840638337683, 3.2236050646028103, 3.0796463560843637, 2.8096603162959206, 2.7396156290107267, 2.6887899205764563, 2.6425504801426096, 2.536459649923289, 2.406783611758073, 2.249383742344634], \"y\": [0.001049918353802384, 0.06026232624173012, 0.08299045230206618, 0.026785067439380975, -0.014168847655184431, -0.3056926520816172, 0.06983998875709799, 0.056694278573567534, -0.11461405434899974, -0.026875589885366504, 0.02573863816652856, -0.0027590336424175013, 0.0657882043910523, 0.028499027718456235, 0.025302892051851555, 0.014527278390313396, -0.002345262298222442, -0.013993962425687376, 0.008469257151507835, 0.014502072800139735], \"topics\": [1, 2, 3, 4, 5, 6, 7, 8, 9, 10, 11, 12, 13, 14, 15, 16, 17, 18, 19, 20], \"x\": [-0.4624919315659983, -0.047572071183746754, -0.03917967464316275, 0.021796788278784167, 0.03912758977063842, -0.020089242351669402, 0.01579646471775681, 0.017779842739054284, 0.02610780063783077, 0.036884607476231485, 0.047440217141395846, 0.04391221049828239, -0.035601100164860934, 0.03101084295306138, 0.04951399048725517, 0.05903978062629401, 0.041133080425748925, 0.053684765265219946, 0.06027093095803316, 0.06143510793385053]}};\n",
       "\n",
       "function LDAvis_load_lib(url, callback){\n",
       "  var s = document.createElement('script');\n",
       "  s.src = url;\n",
       "  s.async = true;\n",
       "  s.onreadystatechange = s.onload = callback;\n",
       "  s.onerror = function(){console.warn(\"failed to load library \" + url);};\n",
       "  document.getElementsByTagName(\"head\")[0].appendChild(s);\n",
       "}\n",
       "\n",
       "if(typeof(LDAvis) !== \"undefined\"){\n",
       "   // already loaded: just create the visualization\n",
       "   !function(LDAvis){\n",
       "       new LDAvis(\"#\" + \"ldavis_el910855853795207197399337\", ldavis_el910855853795207197399337_data);\n",
       "   }(LDAvis);\n",
       "}else if(typeof define === \"function\" && define.amd){\n",
       "   // require.js is available: use it to load d3/LDAvis\n",
       "   require.config({paths: {d3: \"https://cdnjs.cloudflare.com/ajax/libs/d3/3.5.5/d3.min\"}});\n",
       "   require([\"d3\"], function(d3){\n",
       "      window.d3 = d3;\n",
       "      LDAvis_load_lib(\"https://cdn.rawgit.com/bmabey/pyLDAvis/files/ldavis.v1.0.0.js\", function(){\n",
       "        new LDAvis(\"#\" + \"ldavis_el910855853795207197399337\", ldavis_el910855853795207197399337_data);\n",
       "      });\n",
       "    });\n",
       "}else{\n",
       "    // require.js not available: dynamically load d3 & LDAvis\n",
       "    LDAvis_load_lib(\"https://cdnjs.cloudflare.com/ajax/libs/d3/3.5.5/d3.min.js\", function(){\n",
       "         LDAvis_load_lib(\"https://cdn.rawgit.com/bmabey/pyLDAvis/files/ldavis.v1.0.0.js\", function(){\n",
       "                 new LDAvis(\"#\" + \"ldavis_el910855853795207197399337\", ldavis_el910855853795207197399337_data);\n",
       "            })\n",
       "         });\n",
       "}\n",
       "</script>"
      ],
      "text/plain": [
       "PreparedData(topic_coordinates=            Freq  cluster  topics         x         y\n",
       "topic                                                \n",
       "5      30.157355        1       1 -0.462492  0.001050\n",
       "13      6.390772        1       2 -0.047572  0.060262\n",
       "7       5.912201        1       3 -0.039180  0.082990\n",
       "10      5.327456        1       4  0.021797  0.026785\n",
       "2       4.372230        1       5  0.039128 -0.014169\n",
       "9       4.302891        1       6 -0.020089 -0.305693\n",
       "15      4.059350        1       7  0.015796  0.069840\n",
       "0       4.046431        1       8  0.017780  0.056694\n",
       "19      3.901637        1       9  0.026108 -0.114614\n",
       "11      3.857598        1      10  0.036885 -0.026876\n",
       "8       3.295584        1      11  0.047440  0.025739\n",
       "18      3.223605        1      12  0.043912 -0.002759\n",
       "1       3.079646        1      13 -0.035601  0.065788\n",
       "6       2.809660        1      14  0.031011  0.028499\n",
       "17      2.739616        1      15  0.049514  0.025303\n",
       "12      2.688790        1      16  0.059040  0.014527\n",
       "16      2.642550        1      17  0.041133 -0.002345\n",
       "3       2.536460        1      18  0.053685 -0.013994\n",
       "4       2.406784        1      19  0.060271  0.008469\n",
       "14      2.249384        1      20  0.061435  0.014502, topic_info=      Category         Freq  Term        Total  loglift  logprob\n",
       "term                                                            \n",
       "58351  Default  4619.000000     것  4619.000000  30.0000  30.0000\n",
       "39505  Default  3636.000000    게임  3636.000000  29.0000  29.0000\n",
       "32497  Default  2874.000000     수  2874.000000  28.0000  28.0000\n",
       "26316  Default   841.000000   이벤트   841.000000  27.0000  27.0000\n",
       "32966  Default  2367.000000   히오스  2367.000000  26.0000  26.0000\n",
       "16095  Default   896.000000    매칭   896.000000  25.0000  25.0000\n",
       "35265  Default   511.000000    보상   511.000000  24.0000  24.0000\n",
       "55723  Default  1371.000000    생각  1371.000000  23.0000  23.0000\n",
       "50531  Default  1485.000000     저  1485.000000  22.0000  22.0000\n",
       "42571  Default   381.000000    스킨   381.000000  21.0000  21.0000\n",
       "6268   Default  1160.000000     이  1160.000000  20.0000  20.0000\n",
       "40494  Default   592.000000    빠대   592.000000  19.0000  19.0000\n",
       "40097  Default  1084.000000    유저  1084.000000  18.0000  18.0000\n",
       "44484  Default   393.000000    탈주   393.000000  17.0000  17.0000\n",
       "35563  Default   429.000000   작성자   429.000000  16.0000  16.0000\n",
       "51739  Default  1192.000000    진짜  1192.000000  15.0000  15.0000\n",
       "12056  Default  1136.000000     때  1136.000000  14.0000  14.0000\n",
       "24485  Default   399.000000    시공   399.000000  13.0000  13.0000\n",
       "52801  Default   621.000000     적   621.000000  12.0000  12.0000\n",
       "992    Default   360.000000    이거   360.000000  11.0000  11.0000\n",
       "29288  Default   712.000000  블리자드   712.000000  10.0000  10.0000\n",
       "44706  Default   388.000000    특성   388.000000   9.0000   9.0000\n",
       "9343   Default   948.000000   유저들   948.000000   8.0000   8.0000\n",
       "5571   Default   312.000000    겐지   312.000000   7.0000   7.0000\n",
       "26954  Default   337.000000    디바   337.000000   6.0000   6.0000\n",
       "7060   Default   358.000000     욕   358.000000   5.0000   5.0000\n",
       "48449  Default   427.000000     애   427.000000   4.0000   4.0000\n",
       "4799   Default   452.000000    시간   452.000000   3.0000   3.0000\n",
       "22007  Default   964.000000    사람   964.000000   2.0000   2.0000\n",
       "6885   Default   833.000000     말   833.000000   1.0000   1.0000\n",
       "...        ...          ...   ...          ...      ...      ...\n",
       "48609  Topic20    58.403146    어이    59.241355   3.7803  -4.5861\n",
       "20231  Topic20    45.976812    인공    46.815021   3.7764  -4.8254\n",
       "5415   Topic20    41.873896    인증    42.712105   3.7747  -4.9188\n",
       "2580   Topic20    39.249222    중간    40.087431   3.7734  -4.9836\n",
       "42071  Topic20    36.130240    상점    36.968449   3.7716  -5.0664\n",
       "59004  Topic20    32.803915     부    33.642124   3.7693  -5.1629\n",
       "23216  Topic20    30.148696    정예    30.986905   3.7671  -5.2474\n",
       "2849   Topic20    30.020824    방치    30.859033   3.7670  -5.2516\n",
       "1152   Topic20    28.134895     채    28.973104   3.7652  -5.3165\n",
       "46981  Topic20    27.814563  많이해서    28.652773   3.7648  -5.3279\n",
       "9941   Topic20    26.036391    피통    26.874601   3.7628  -5.3940\n",
       "30747  Topic20    23.450253   유저간    24.288463   3.7594  -5.4986\n",
       "28664  Topic20    22.952517    클릭    23.790726   3.7586  -5.5201\n",
       "24457  Topic20    21.692055    1분    22.530264   3.7566  -5.5766\n",
       "35449  Topic20    21.347672   직관성    22.185891   3.7560  -5.5926\n",
       "11408  Topic20    20.691338    목록    21.529547   3.7548  -5.6238\n",
       "47884  Topic20    19.821914   다른게    20.660123   3.7531  -5.6667\n",
       "57465  Topic20    19.780286  당연한거    20.618496   3.7530  -5.6688\n",
       "33026  Topic20    19.410877    2년    20.249086   3.7522  -5.6877\n",
       "19333  Topic20    17.327101    오타    18.165310   3.7473  -5.8012\n",
       "34075  Topic20    17.006737    23    17.844947   3.7464  -5.8199\n",
       "59921  Topic20    16.197363   무제한    17.035572   3.7441  -5.8686\n",
       "3045   Topic20    16.191151   한정판    17.029363   3.7440  -5.8690\n",
       "29274  Topic20    16.037572    28    16.875781   3.7436  -5.8786\n",
       "37680  Topic20    15.668677     인    16.506886   3.7424  -5.9018\n",
       "13036  Topic20    15.497933     세    16.336142   3.7418  -5.9128\n",
       "37989  Topic20    15.411395   심한거    16.249604   3.7416  -5.9184\n",
       "1468   Topic20    14.692344   그와중    15.530553   3.7390  -5.9662\n",
       "31950  Topic20    21.176442    오지    33.096901   3.3480  -5.6006\n",
       "50077  Topic20    25.946207    이동    76.840832   2.7088  -5.3975\n",
       "\n",
       "[769 rows x 6 columns], token_table=       Topic      Freq     Term\n",
       "term                           \n",
       "6877      17  0.968111        +\n",
       "33358     19  0.981338        .\n",
       "42650      2  0.997224        0\n",
       "9811      15  0.978218       0.\n",
       "25105      4  0.995438      04.\n",
       "39441      4  0.995246      05.\n",
       "56066      6  0.552059       1.\n",
       "56066     12  0.414044       1.\n",
       "58208      4  0.984434       10\n",
       "32411     18  0.960510     10레벨\n",
       "48025      4  0.989232      10분\n",
       "14475     11  0.976390      10판\n",
       "13877     16  0.972369      12시\n",
       "18138      4  0.991851       13\n",
       "26742      7  0.979255      14시\n",
       "17575     15  0.988567      15판\n",
       "24457     20  0.976464       1분\n",
       "8074      13  0.995131      1주차\n",
       "20292      6  0.994458       1초\n",
       "40452      5  0.976207       1회\n",
       "25596      2  0.488978       2.\n",
       "25596      4  0.202747       2.\n",
       "25596      9  0.298157       2.\n",
       "3722       1  0.997063      2.0\n",
       "38034      4  0.996110    2017.\n",
       "53416     16  0.960334      20시\n",
       "2252      11  0.990154      22시\n",
       "34075     20  0.952651       23\n",
       "572       16  0.989511       27\n",
       "29274     20  0.948104       28\n",
       "...      ...       ...      ...\n",
       "35684      9  0.964989       해머\n",
       "5937      19  0.980991        핵\n",
       "19582     10  0.967421       핵심\n",
       "10388      7  0.990491       행동\n",
       "12798      7  0.988915       행위\n",
       "11006     15  0.989229       현상\n",
       "31625      5  0.966600       현실\n",
       "43856     10  0.984199       현재\n",
       "32589     18  0.959822  혼자다니지말고\n",
       "10566     13  0.989424     홈페이지\n",
       "3410      19  0.993668       화물\n",
       "33029     10  0.985326       확률\n",
       "21322      4  0.994025       확실\n",
       "50094      1  0.670301       확인\n",
       "50094      3  0.108332       확인\n",
       "50094      7  0.220048       확인\n",
       "50166      7  0.977368       환경\n",
       "36987     11  0.979662       환불\n",
       "35422      5  0.983874      활성화\n",
       "42520     19  0.976076       활용\n",
       "16649     14  0.986494       획득\n",
       "3375       6  0.991442       효과\n",
       "4780       3  0.986862       히린\n",
       "60840      7  0.979778     히린이들\n",
       "8319       7  0.997474     히어로즈\n",
       "32966      1  0.999801      히오스\n",
       "28318     18  0.955630    히오스에서\n",
       "18555      8  0.972208    히오스에선\n",
       "35246     10  0.995312        힐\n",
       "8726       2  0.994832       힐러\n",
       "\n",
       "[831 rows x 3 columns], R=30, lambda_step=0.01, plot_opts={'ylab': 'PC2', 'xlab': 'PC1'}, topic_order=[6, 14, 8, 11, 3, 10, 16, 1, 20, 12, 9, 19, 2, 7, 18, 13, 17, 4, 5, 15])"
      ]
     },
     "execution_count": 126,
     "metadata": {},
     "output_type": "execute_result"
    }
   ],
   "source": [
    "pyLDAvis.enable_notebook()\n",
    "vis = pyLDAvis.gensim.prepare(lda_model, corpus, id2word)\n",
    "vis"
   ]
  },
  {
   "cell_type": "code",
   "execution_count": null,
   "metadata": {
    "collapsed": true
   },
   "outputs": [],
   "source": [
    "r'[ㄱ-ㅎㅏ-ㅣ]+'\n",
    "#한글 정규표현식 찾아보기"
   ]
  }
 ],
 "metadata": {
  "kernelspec": {
   "display_name": "Python [Root]",
   "language": "python",
   "name": "Python [Root]"
  },
  "language_info": {
   "codemirror_mode": {
    "name": "ipython",
    "version": 3
   },
   "file_extension": ".py",
   "mimetype": "text/x-python",
   "name": "python",
   "nbconvert_exporter": "python",
   "pygments_lexer": "ipython3",
   "version": "3.5.3"
  }
 },
 "nbformat": 4,
 "nbformat_minor": 2
}
