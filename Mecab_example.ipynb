{
 "cells": [
  {
   "cell_type": "code",
   "execution_count": 4,
   "metadata": {},
   "outputs": [],
   "source": [
    "import MeCab"
   ]
  },
  {
   "cell_type": "code",
   "execution_count": 8,
   "metadata": {
    "collapsed": true
   },
   "outputs": [],
   "source": [
    "m = MeCab.Tagger('-d /usr/local/lib/mecab/dic/mecab-ko-dic')\n",
    "ret = m.parse(\"드디어 분석기를 설치했다. 만세!\")"
   ]
  },
  {
   "cell_type": "code",
   "execution_count": 9,
   "metadata": {},
   "outputs": [
    {
     "data": {
      "text/plain": [
       "'드디어\\tMAG,성분부사|시간부사,F,드디어,*,*,*,*\\n분석기\\tNNG,*,F,분석기,Compound,*,*,분석/NNG/행위+기/NNG/*\\n를\\tJKO,*,T,를,*,*,*,*\\n설치\\tNNG,행위,F,설치,*,*,*,*\\n했\\tXSV+EP,*,T,했,Inflect,XSV,EP,하/XSV/*+았/EP/*\\n다\\tEF,*,F,다,*,*,*,*\\n.\\tSF,*,*,*,*,*,*,*\\n만세\\tIC,*,F,만세,*,*,*,*\\n!\\tSF,*,*,*,*,*,*,*\\nEOS\\n'"
      ]
     },
     "execution_count": 9,
     "metadata": {},
     "output_type": "execute_result"
    }
   ],
   "source": [
    "ret"
   ]
  },
  {
   "cell_type": "code",
   "execution_count": null,
   "metadata": {
    "collapsed": true
   },
   "outputs": [],
   "source": []
  }
 ],
 "metadata": {
  "kernelspec": {
   "display_name": "Python [Root]",
   "language": "python",
   "name": "Python [Root]"
  },
  "language_info": {
   "codemirror_mode": {
    "name": "ipython",
    "version": 3
   },
   "file_extension": ".py",
   "mimetype": "text/x-python",
   "name": "python",
   "nbconvert_exporter": "python",
   "pygments_lexer": "ipython3",
   "version": "3.5.3"
  }
 },
 "nbformat": 4,
 "nbformat_minor": 2
}
