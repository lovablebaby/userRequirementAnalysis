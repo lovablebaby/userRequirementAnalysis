{
 "cells": [
  {
   "cell_type": "markdown",
   "metadata": {},
   "source": [
    "## Load Libarary"
   ]
  },
  {
   "cell_type": "code",
   "execution_count": 1,
   "metadata": {
    "collapsed": true
   },
   "outputs": [],
   "source": [
    "import pandas as pd # 판다스 \n",
    "import numpy as np # 넘파이\n",
    "import glob # 파일 여러개 불러올 때\n",
    "import time, datetime\n",
    "from datetime import datetime\n",
    "\n",
    "import re # 정규표현식\n",
    "import csv # 파일로 저장하기 위한 툴"
   ]
  },
  {
   "cell_type": "markdown",
   "metadata": {},
   "source": [
    "## Load data "
   ]
  },
  {
   "cell_type": "markdown",
   "metadata": {},
   "source": [
    "#### 인벤 데이터"
   ]
  },
  {
   "cell_type": "code",
   "execution_count": 2,
   "metadata": {
    "collapsed": true,
    "scrolled": true
   },
   "outputs": [],
   "source": [
    "# Inven Data \n",
    "\n",
    "df1 = pd.read_csv(\"data/invenData_1~10000.csv\", encoding = 'utf8', header=None, engine='python')\n",
    "df2 = pd.read_csv(\"data/invenData_10001~50000.csv\", encoding='utf8', header=None, engine='python')\n",
    "df3 = pd.read_csv(\"data/invenData_50001~70000.csv\", encoding='utf8', header=None, engine='python')\n",
    "df4 = pd.read_csv(\"data/invenData_70001~85834.csv\", encoding='utf8', header=None, engine='python')\n",
    "df5 = pd.read_csv(\"data/invenData_85835~100000.csv\", encoding='utf8', header=None, engine='python')\n",
    "df6 = pd.read_csv(\"data/invenData_100001~120000.csv\", encoding='utf8', header=None, engine='python')\n",
    "df7 = pd.read_csv(\"data/invenData_120001~140000.csv\", encoding='utf8', header=None, engine='python')\n",
    "df8 = pd.read_csv(\"data/invenData_140001~152823.csv\", encoding='utf8', header=None, engine='python')\n",
    "df9 = pd.read_csv(\"data/invenData_152824~160100.csv\", encoding='utf8', header=None, engine='python')"
   ]
  },
  {
   "cell_type": "code",
   "execution_count": 3,
   "metadata": {
    "collapsed": true
   },
   "outputs": [],
   "source": [
    "# 인벤 데이터 한꺼번에 합침\n",
    "df_inven = pd.concat([df1, df2, df3, df4, df5, df6, df7, df8, df9])"
   ]
  },
  {
   "cell_type": "code",
   "execution_count": 4,
   "metadata": {
    "collapsed": true
   },
   "outputs": [],
   "source": [
    "# 컬럼명 붙이기\n",
    "df_inven.columns = ['link_id', 'timestamp', 'title', 'contents']"
   ]
  },
  {
   "cell_type": "code",
   "execution_count": 5,
   "metadata": {
    "scrolled": false
   },
   "outputs": [
    {
     "data": {
      "text/html": [
       "<div>\n",
       "<style>\n",
       "    .dataframe thead tr:only-child th {\n",
       "        text-align: right;\n",
       "    }\n",
       "\n",
       "    .dataframe thead th {\n",
       "        text-align: left;\n",
       "    }\n",
       "\n",
       "    .dataframe tbody tr th {\n",
       "        vertical-align: top;\n",
       "    }\n",
       "</style>\n",
       "<table border=\"1\" class=\"dataframe\">\n",
       "  <thead>\n",
       "    <tr style=\"text-align: right;\">\n",
       "      <th></th>\n",
       "      <th>link_id</th>\n",
       "      <th>timestamp</th>\n",
       "      <th>title</th>\n",
       "      <th>contents</th>\n",
       "    </tr>\n",
       "  </thead>\n",
       "  <tbody>\n",
       "    <tr>\n",
       "      <th>2</th>\n",
       "      <td>1214899</td>\n",
       "      <td>2018-09-06 22:38</td>\n",
       "      <td>[오시공] 김정민,문규리,침착맨,네클릿,옥냥이 메피스토 특별방송!</td>\n",
       "      <td>NaN</td>\n",
       "    </tr>\n",
       "    <tr>\n",
       "      <th>3</th>\n",
       "      <td>1215180</td>\n",
       "      <td>2018-09-10 23:57</td>\n",
       "      <td>ㅋㅋㅋㅋ 장구벌레</td>\n",
       "      <td>NaN</td>\n",
       "    </tr>\n",
       "    <tr>\n",
       "      <th>260</th>\n",
       "      <td>1214899</td>\n",
       "      <td>2018-09-06 22:38</td>\n",
       "      <td>[오시공] 김정민,문규리,침착맨,네클릿,옥냥이 메피스토 특별방송!</td>\n",
       "      <td>NaN</td>\n",
       "    </tr>\n",
       "    <tr>\n",
       "      <th>410</th>\n",
       "      <td>1214735</td>\n",
       "      <td>2018-09-06 02:32</td>\n",
       "      <td>[목요일7시] 최광원,빈본,노챗 해설의 HGC KR 오픈 디비전 S2 6회차 결승전...</td>\n",
       "      <td>NaN</td>\n",
       "    </tr>\n",
       "    <tr>\n",
       "      <th>424</th>\n",
       "      <td>1214719</td>\n",
       "      <td>2018-09-05 22:47</td>\n",
       "      <td>히오스가 망하지 않는 방법</td>\n",
       "      <td>NaN</td>\n",
       "    </tr>\n",
       "    <tr>\n",
       "      <th>426</th>\n",
       "      <td>1214717</td>\n",
       "      <td>2018-09-05 22:28</td>\n",
       "      <td>컨셉아트만 잘그리는 효스</td>\n",
       "      <td>NaN</td>\n",
       "    </tr>\n",
       "    <tr>\n",
       "      <th>428</th>\n",
       "      <td>1214714</td>\n",
       "      <td>2018-09-05 21:46</td>\n",
       "      <td>히오스는 망할 수 밖에 없다. 왜냐하면</td>\n",
       "      <td>NaN</td>\n",
       "    </tr>\n",
       "    <tr>\n",
       "      <th>472</th>\n",
       "      <td>1214665</td>\n",
       "      <td>2018-09-05 04:14</td>\n",
       "      <td>입 히오스 모음</td>\n",
       "      <td>NaN</td>\n",
       "    </tr>\n",
       "    <tr>\n",
       "      <th>485</th>\n",
       "      <td>1214651</td>\n",
       "      <td>2018-09-04 20:52</td>\n",
       "      <td>[수요일7시] 최광원,빈본,노챗 해설의 HGC KR 오픈 디비전 S2 6회차 4강전...</td>\n",
       "      <td>NaN</td>\n",
       "    </tr>\n",
       "    <tr>\n",
       "      <th>598</th>\n",
       "      <td>1214526</td>\n",
       "      <td>2018-09-03 00:45</td>\n",
       "      <td>마엡만하면 이기는거 같은데 픽맞춰준다고 다른거 하면 지네요 ㅠ</td>\n",
       "      <td>NaN</td>\n",
       "    </tr>\n",
       "    <tr>\n",
       "      <th>620</th>\n",
       "      <td>1214502</td>\n",
       "      <td>2018-09-02 19:52</td>\n",
       "      <td>굴단 파괴의비 상향하는법</td>\n",
       "      <td>NaN</td>\n",
       "    </tr>\n",
       "    <tr>\n",
       "      <th>674</th>\n",
       "      <td>1214439</td>\n",
       "      <td>2018-09-02 11:37</td>\n",
       "      <td>5 우두</td>\n",
       "      <td>NaN</td>\n",
       "    </tr>\n",
       "    <tr>\n",
       "      <th>676</th>\n",
       "      <td>1214437</td>\n",
       "      <td>2018-09-02 10:41</td>\n",
       "      <td>겐지 너프 하지말라는 사람들 논리</td>\n",
       "      <td>NaN</td>\n",
       "    </tr>\n",
       "    <tr>\n",
       "      <th>782</th>\n",
       "      <td>1214315</td>\n",
       "      <td>2018-08-31 01:49</td>\n",
       "      <td>앙 기모띠!</td>\n",
       "      <td>NaN</td>\n",
       "    </tr>\n",
       "    <tr>\n",
       "      <th>848</th>\n",
       "      <td>1214234</td>\n",
       "      <td>2018-08-29 23:28</td>\n",
       "      <td>[목요일7시] 최광원,빈본,정우서 해설의 HGC KR 오픈 디비전 S2 5회차 결승...</td>\n",
       "      <td>NaN</td>\n",
       "    </tr>\n",
       "    <tr>\n",
       "      <th>893</th>\n",
       "      <td>1214185</td>\n",
       "      <td>2018-08-29 10:44</td>\n",
       "      <td>LKK 최근 트레이서하이라이트</td>\n",
       "      <td>NaN</td>\n",
       "    </tr>\n",
       "    <tr>\n",
       "      <th>928</th>\n",
       "      <td>1214149</td>\n",
       "      <td>2018-08-28 21:21</td>\n",
       "      <td>[수요일7시] 최광원,빈본,정우서 해설의 HGC KR 오픈 디비전 S2 5회차 4강...</td>\n",
       "      <td>NaN</td>\n",
       "    </tr>\n",
       "    <tr>\n",
       "      <th>1028</th>\n",
       "      <td>1214040</td>\n",
       "      <td>2018-08-27 14:53</td>\n",
       "      <td>롤보다 히오스가 나은점</td>\n",
       "      <td>NaN</td>\n",
       "    </tr>\n",
       "    <tr>\n",
       "      <th>1073</th>\n",
       "      <td>1213987</td>\n",
       "      <td>2018-08-26 23:45</td>\n",
       "      <td>??: 덤블링 해보겠습니다!</td>\n",
       "      <td>NaN</td>\n",
       "    </tr>\n",
       "    <tr>\n",
       "      <th>1108</th>\n",
       "      <td>1213947</td>\n",
       "      <td>2018-08-26 14:20</td>\n",
       "      <td>현재 영리매칭시간 실화?</td>\n",
       "      <td>NaN</td>\n",
       "    </tr>\n",
       "    <tr>\n",
       "      <th>1627</th>\n",
       "      <td>1213366</td>\n",
       "      <td>2018-08-19 22:32</td>\n",
       "      <td>님들</td>\n",
       "      <td>NaN</td>\n",
       "    </tr>\n",
       "    <tr>\n",
       "      <th>1636</th>\n",
       "      <td>1213355</td>\n",
       "      <td>2018-08-19 20:37</td>\n",
       "      <td>젠지vs발리 마지막 한타</td>\n",
       "      <td>NaN</td>\n",
       "    </tr>\n",
       "    <tr>\n",
       "      <th>1958</th>\n",
       "      <td>1212997</td>\n",
       "      <td>2018-08-14 23:22</td>\n",
       "      <td>영웅목록으로 성격테스트가 된다던데 이건?</td>\n",
       "      <td>NaN</td>\n",
       "    </tr>\n",
       "    <tr>\n",
       "      <th>2023</th>\n",
       "      <td>1212927</td>\n",
       "      <td>2018-08-14 00:38</td>\n",
       "      <td>빠대 매칭 왜이럼?</td>\n",
       "      <td>NaN</td>\n",
       "    </tr>\n",
       "    <tr>\n",
       "      <th>2271</th>\n",
       "      <td>1212642</td>\n",
       "      <td>2018-08-10 16:32</td>\n",
       "      <td>[오시공] 김정민,문규리,침착맨,네클릿,옥냥이 화이트메인 특별방송!</td>\n",
       "      <td>NaN</td>\n",
       "    </tr>\n",
       "    <tr>\n",
       "      <th>2297</th>\n",
       "      <td>1212613</td>\n",
       "      <td>2018-08-10 13:53</td>\n",
       "      <td>너도 푹 빠지게 될거야 헿</td>\n",
       "      <td>NaN</td>\n",
       "    </tr>\n",
       "    <tr>\n",
       "      <th>2578</th>\n",
       "      <td>1212308</td>\n",
       "      <td>2018-08-07 14:51</td>\n",
       "      <td>불덩이작렬 .gif</td>\n",
       "      <td>NaN</td>\n",
       "    </tr>\n",
       "    <tr>\n",
       "      <th>2867</th>\n",
       "      <td>1211985</td>\n",
       "      <td>2018-08-03 19:26</td>\n",
       "      <td>쓰랄 승률 ㅅㅌㅊ?</td>\n",
       "      <td>NaN</td>\n",
       "    </tr>\n",
       "    <tr>\n",
       "      <th>2927</th>\n",
       "      <td>1211920</td>\n",
       "      <td>2018-08-03 09:58</td>\n",
       "      <td>화이트메인 복장이 불편했던 사람</td>\n",
       "      <td>NaN</td>\n",
       "    </tr>\n",
       "    <tr>\n",
       "      <th>2937</th>\n",
       "      <td>1211908</td>\n",
       "      <td>2018-08-03 06:01</td>\n",
       "      <td>갓겜 ㅅㅂ...</td>\n",
       "      <td>NaN</td>\n",
       "    </tr>\n",
       "    <tr>\n",
       "      <th>...</th>\n",
       "      <td>...</td>\n",
       "      <td>...</td>\n",
       "      <td>...</td>\n",
       "      <td>...</td>\n",
       "    </tr>\n",
       "    <tr>\n",
       "      <th>4044</th>\n",
       "      <td>1034389</td>\n",
       "      <td>2017-09-08 23:31</td>\n",
       "      <td>방금 느낌이 왔음 이번 블리즈컨에서 아서스 리모델링됨</td>\n",
       "      <td>NaN</td>\n",
       "    </tr>\n",
       "    <tr>\n",
       "      <th>4427</th>\n",
       "      <td>1033978</td>\n",
       "      <td>2017-09-08 12:38</td>\n",
       "      <td>요새 쪽바리가 앞에서 지x 안하는이유</td>\n",
       "      <td>NaN</td>\n",
       "    </tr>\n",
       "    <tr>\n",
       "      <th>4631</th>\n",
       "      <td>1033748</td>\n",
       "      <td>2017-09-08 01:03</td>\n",
       "      <td>리메이크된 제이나 성능은 어떤가요?</td>\n",
       "      <td>NaN</td>\n",
       "    </tr>\n",
       "    <tr>\n",
       "      <th>4645</th>\n",
       "      <td>1033731</td>\n",
       "      <td>2017-09-08 00:47</td>\n",
       "      <td>영리 첫판인데 ㅠㅠ</td>\n",
       "      <td>NaN</td>\n",
       "    </tr>\n",
       "    <tr>\n",
       "      <th>4829</th>\n",
       "      <td>1033537</td>\n",
       "      <td>2017-09-07 21:34</td>\n",
       "      <td>컨 쩔어야댐 ㅡㅡ</td>\n",
       "      <td>NaN</td>\n",
       "    </tr>\n",
       "    <tr>\n",
       "      <th>4888</th>\n",
       "      <td>1033476</td>\n",
       "      <td>2017-09-07 20:31</td>\n",
       "      <td>운수 좋은 날.</td>\n",
       "      <td>NaN</td>\n",
       "    </tr>\n",
       "    <tr>\n",
       "      <th>4971</th>\n",
       "      <td>1033382</td>\n",
       "      <td>2017-09-07 18:19</td>\n",
       "      <td>ㅈㅇㄴ ㄱㅊㄱㅇ</td>\n",
       "      <td>NaN</td>\n",
       "    </tr>\n",
       "    <tr>\n",
       "      <th>4975</th>\n",
       "      <td>1033378</td>\n",
       "      <td>2017-09-07 18:17</td>\n",
       "      <td>가즈로 버그</td>\n",
       "      <td>NaN</td>\n",
       "    </tr>\n",
       "    <tr>\n",
       "      <th>5423</th>\n",
       "      <td>1032863</td>\n",
       "      <td>2017-09-07 00:35</td>\n",
       "      <td>내일은 노바로 물몸 켈투 때리고 다녀야지</td>\n",
       "      <td>NaN</td>\n",
       "    </tr>\n",
       "    <tr>\n",
       "      <th>5616</th>\n",
       "      <td>1032632</td>\n",
       "      <td>2017-09-06 17:48</td>\n",
       "      <td>카봇 무슨약을 빨았냐 ㅅㅂ ㅋㅋㅋㅋ</td>\n",
       "      <td>NaN</td>\n",
       "    </tr>\n",
       "    <tr>\n",
       "      <th>5620</th>\n",
       "      <td>1032625</td>\n",
       "      <td>2017-09-06 17:38</td>\n",
       "      <td>고독한미식가 새우마요, 오리알</td>\n",
       "      <td>NaN</td>\n",
       "    </tr>\n",
       "    <tr>\n",
       "      <th>5630</th>\n",
       "      <td>1032615</td>\n",
       "      <td>2017-09-06 17:12</td>\n",
       "      <td>30년후 블리자드 본사</td>\n",
       "      <td>NaN</td>\n",
       "    </tr>\n",
       "    <tr>\n",
       "      <th>5832</th>\n",
       "      <td>1032387</td>\n",
       "      <td>2017-09-06 02:17</td>\n",
       "      <td>빠져나올수 없다.. (북미버전)</td>\n",
       "      <td>NaN</td>\n",
       "    </tr>\n",
       "    <tr>\n",
       "      <th>5905</th>\n",
       "      <td>1032300</td>\n",
       "      <td>2017-09-05 23:12</td>\n",
       "      <td>스폰지밥 동심파괴 애니메이션</td>\n",
       "      <td>NaN</td>\n",
       "    </tr>\n",
       "    <tr>\n",
       "      <th>6003</th>\n",
       "      <td>1032191</td>\n",
       "      <td>2017-09-05 19:12</td>\n",
       "      <td>오늘도 흥흥흥시공을 위하여!</td>\n",
       "      <td>NaN</td>\n",
       "    </tr>\n",
       "    <tr>\n",
       "      <th>6260</th>\n",
       "      <td>1031896</td>\n",
       "      <td>2017-09-05 00:20</td>\n",
       "      <td>케리건 레벨 후더덜한 사람 봄</td>\n",
       "      <td>NaN</td>\n",
       "    </tr>\n",
       "    <tr>\n",
       "      <th>6403</th>\n",
       "      <td>1031727</td>\n",
       "      <td>2017-09-04 19:35</td>\n",
       "      <td>오늘도 흥하세요 엔타로 시공</td>\n",
       "      <td>NaN</td>\n",
       "    </tr>\n",
       "    <tr>\n",
       "      <th>6480</th>\n",
       "      <td>1031640</td>\n",
       "      <td>2017-09-04 15:27</td>\n",
       "      <td>케리건은 밴당할정도로 강함</td>\n",
       "      <td>NaN</td>\n",
       "    </tr>\n",
       "    <tr>\n",
       "      <th>6499</th>\n",
       "      <td>1031618</td>\n",
       "      <td>2017-09-04 14:47</td>\n",
       "      <td>시즌3탈것 완전 아케이드헤카림 아님?</td>\n",
       "      <td>NaN</td>\n",
       "    </tr>\n",
       "    <tr>\n",
       "      <th>6513</th>\n",
       "      <td>1031604</td>\n",
       "      <td>2017-09-04 14:06</td>\n",
       "      <td>(데이터) 멋짐/쿨/잘생김/귀요미</td>\n",
       "      <td>NaN</td>\n",
       "    </tr>\n",
       "    <tr>\n",
       "      <th>6625</th>\n",
       "      <td>1031478</td>\n",
       "      <td>2017-09-04 04:56</td>\n",
       "      <td>오랜만에 고통 나눔</td>\n",
       "      <td>NaN</td>\n",
       "    </tr>\n",
       "    <tr>\n",
       "      <th>6633</th>\n",
       "      <td>1031468</td>\n",
       "      <td>2017-09-04 02:50</td>\n",
       "      <td>개판 오분전이었던판</td>\n",
       "      <td>NaN</td>\n",
       "    </tr>\n",
       "    <tr>\n",
       "      <th>6654</th>\n",
       "      <td>1031442</td>\n",
       "      <td>2017-09-04 01:04</td>\n",
       "      <td>인디겜 버그 수준</td>\n",
       "      <td>NaN</td>\n",
       "    </tr>\n",
       "    <tr>\n",
       "      <th>6657</th>\n",
       "      <td>1031439</td>\n",
       "      <td>2017-09-04 01:02</td>\n",
       "      <td>으아악! 빠져나갈수가 없어!!!!</td>\n",
       "      <td>NaN</td>\n",
       "    </tr>\n",
       "    <tr>\n",
       "      <th>6694</th>\n",
       "      <td>1031402</td>\n",
       "      <td>2017-09-03 23:46</td>\n",
       "      <td>이거 동일인물?</td>\n",
       "      <td>NaN</td>\n",
       "    </tr>\n",
       "    <tr>\n",
       "      <th>6870</th>\n",
       "      <td>1031187</td>\n",
       "      <td>2017-09-03 16:30</td>\n",
       "      <td>호두를 위하여!</td>\n",
       "      <td>NaN</td>\n",
       "    </tr>\n",
       "    <tr>\n",
       "      <th>6955</th>\n",
       "      <td>1031088</td>\n",
       "      <td>2017-09-03 13:31</td>\n",
       "      <td>카봇애니메이션 HS EP28 Horsing Around</td>\n",
       "      <td>NaN</td>\n",
       "    </tr>\n",
       "    <tr>\n",
       "      <th>7085</th>\n",
       "      <td>1030944</td>\n",
       "      <td>2017-09-03 01:07</td>\n",
       "      <td>전설 꼬라지가...</td>\n",
       "      <td>NaN</td>\n",
       "    </tr>\n",
       "    <tr>\n",
       "      <th>7183</th>\n",
       "      <td>1030831</td>\n",
       "      <td>2017-09-02 21:28</td>\n",
       "      <td>탱크를 지키는 떡대들.jpg</td>\n",
       "      <td>NaN</td>\n",
       "    </tr>\n",
       "    <tr>\n",
       "      <th>7207</th>\n",
       "      <td>1030803</td>\n",
       "      <td>2017-09-02 21:01</td>\n",
       "      <td>ㄷㄷ 빠대여포 플레성님들 무서워라</td>\n",
       "      <td>NaN</td>\n",
       "    </tr>\n",
       "  </tbody>\n",
       "</table>\n",
       "<p>1257 rows × 4 columns</p>\n",
       "</div>"
      ],
      "text/plain": [
       "      link_id         timestamp  \\\n",
       "2     1214899  2018-09-06 22:38   \n",
       "3     1215180  2018-09-10 23:57   \n",
       "260   1214899  2018-09-06 22:38   \n",
       "410   1214735  2018-09-06 02:32   \n",
       "424   1214719  2018-09-05 22:47   \n",
       "426   1214717  2018-09-05 22:28   \n",
       "428   1214714  2018-09-05 21:46   \n",
       "472   1214665  2018-09-05 04:14   \n",
       "485   1214651  2018-09-04 20:52   \n",
       "598   1214526  2018-09-03 00:45   \n",
       "620   1214502  2018-09-02 19:52   \n",
       "674   1214439  2018-09-02 11:37   \n",
       "676   1214437  2018-09-02 10:41   \n",
       "782   1214315  2018-08-31 01:49   \n",
       "848   1214234  2018-08-29 23:28   \n",
       "893   1214185  2018-08-29 10:44   \n",
       "928   1214149  2018-08-28 21:21   \n",
       "1028  1214040  2018-08-27 14:53   \n",
       "1073  1213987  2018-08-26 23:45   \n",
       "1108  1213947  2018-08-26 14:20   \n",
       "1627  1213366  2018-08-19 22:32   \n",
       "1636  1213355  2018-08-19 20:37   \n",
       "1958  1212997  2018-08-14 23:22   \n",
       "2023  1212927  2018-08-14 00:38   \n",
       "2271  1212642  2018-08-10 16:32   \n",
       "2297  1212613  2018-08-10 13:53   \n",
       "2578  1212308  2018-08-07 14:51   \n",
       "2867  1211985  2018-08-03 19:26   \n",
       "2927  1211920  2018-08-03 09:58   \n",
       "2937  1211908  2018-08-03 06:01   \n",
       "...       ...               ...   \n",
       "4044  1034389  2017-09-08 23:31   \n",
       "4427  1033978  2017-09-08 12:38   \n",
       "4631  1033748  2017-09-08 01:03   \n",
       "4645  1033731  2017-09-08 00:47   \n",
       "4829  1033537  2017-09-07 21:34   \n",
       "4888  1033476  2017-09-07 20:31   \n",
       "4971  1033382  2017-09-07 18:19   \n",
       "4975  1033378  2017-09-07 18:17   \n",
       "5423  1032863  2017-09-07 00:35   \n",
       "5616  1032632  2017-09-06 17:48   \n",
       "5620  1032625  2017-09-06 17:38   \n",
       "5630  1032615  2017-09-06 17:12   \n",
       "5832  1032387  2017-09-06 02:17   \n",
       "5905  1032300  2017-09-05 23:12   \n",
       "6003  1032191  2017-09-05 19:12   \n",
       "6260  1031896  2017-09-05 00:20   \n",
       "6403  1031727  2017-09-04 19:35   \n",
       "6480  1031640  2017-09-04 15:27   \n",
       "6499  1031618  2017-09-04 14:47   \n",
       "6513  1031604  2017-09-04 14:06   \n",
       "6625  1031478  2017-09-04 04:56   \n",
       "6633  1031468  2017-09-04 02:50   \n",
       "6654  1031442  2017-09-04 01:04   \n",
       "6657  1031439  2017-09-04 01:02   \n",
       "6694  1031402  2017-09-03 23:46   \n",
       "6870  1031187  2017-09-03 16:30   \n",
       "6955  1031088  2017-09-03 13:31   \n",
       "7085  1030944  2017-09-03 01:07   \n",
       "7183  1030831  2017-09-02 21:28   \n",
       "7207  1030803  2017-09-02 21:01   \n",
       "\n",
       "                                                  title contents  \n",
       "2                  [오시공] 김정민,문규리,침착맨,네클릿,옥냥이 메피스토 특별방송!      NaN  \n",
       "3                                             ㅋㅋㅋㅋ 장구벌레      NaN  \n",
       "260                [오시공] 김정민,문규리,침착맨,네클릿,옥냥이 메피스토 특별방송!      NaN  \n",
       "410   [목요일7시] 최광원,빈본,노챗 해설의 HGC KR 오픈 디비전 S2 6회차 결승전...      NaN  \n",
       "424                                      히오스가 망하지 않는 방법      NaN  \n",
       "426                                       컨셉아트만 잘그리는 효스      NaN  \n",
       "428                               히오스는 망할 수 밖에 없다. 왜냐하면      NaN  \n",
       "472                                            입 히오스 모음      NaN  \n",
       "485   [수요일7시] 최광원,빈본,노챗 해설의 HGC KR 오픈 디비전 S2 6회차 4강전...      NaN  \n",
       "598                  마엡만하면 이기는거 같은데 픽맞춰준다고 다른거 하면 지네요 ㅠ      NaN  \n",
       "620                                       굴단 파괴의비 상향하는법      NaN  \n",
       "674                                                5 우두      NaN  \n",
       "676                                  겐지 너프 하지말라는 사람들 논리      NaN  \n",
       "782                                              앙 기모띠!      NaN  \n",
       "848   [목요일7시] 최광원,빈본,정우서 해설의 HGC KR 오픈 디비전 S2 5회차 결승...      NaN  \n",
       "893                                    LKK 최근 트레이서하이라이트      NaN  \n",
       "928   [수요일7시] 최광원,빈본,정우서 해설의 HGC KR 오픈 디비전 S2 5회차 4강...      NaN  \n",
       "1028                                       롤보다 히오스가 나은점      NaN  \n",
       "1073                                    ??: 덤블링 해보겠습니다!      NaN  \n",
       "1108                                      현재 영리매칭시간 실화?      NaN  \n",
       "1627                                                 님들      NaN  \n",
       "1636                                      젠지vs발리 마지막 한타      NaN  \n",
       "1958                             영웅목록으로 성격테스트가 된다던데 이건?      NaN  \n",
       "2023                                         빠대 매칭 왜이럼?      NaN  \n",
       "2271              [오시공] 김정민,문규리,침착맨,네클릿,옥냥이 화이트메인 특별방송!      NaN  \n",
       "2297                                     너도 푹 빠지게 될거야 헿      NaN  \n",
       "2578                                         불덩이작렬 .gif      NaN  \n",
       "2867                                         쓰랄 승률 ㅅㅌㅊ?      NaN  \n",
       "2927                                  화이트메인 복장이 불편했던 사람      NaN  \n",
       "2937                                           갓겜 ㅅㅂ...      NaN  \n",
       "...                                                 ...      ...  \n",
       "4044                      방금 느낌이 왔음 이번 블리즈컨에서 아서스 리모델링됨      NaN  \n",
       "4427                               요새 쪽바리가 앞에서 지x 안하는이유      NaN  \n",
       "4631                                리메이크된 제이나 성능은 어떤가요?      NaN  \n",
       "4645                                         영리 첫판인데 ㅠㅠ      NaN  \n",
       "4829                                          컨 쩔어야댐 ㅡㅡ      NaN  \n",
       "4888                                           운수 좋은 날.      NaN  \n",
       "4971                                           ㅈㅇㄴ ㄱㅊㄱㅇ      NaN  \n",
       "4975                                             가즈로 버그      NaN  \n",
       "5423                             내일은 노바로 물몸 켈투 때리고 다녀야지      NaN  \n",
       "5616                                카봇 무슨약을 빨았냐 ㅅㅂ ㅋㅋㅋㅋ      NaN  \n",
       "5620                                   고독한미식가 새우마요, 오리알      NaN  \n",
       "5630                                       30년후 블리자드 본사      NaN  \n",
       "5832                                  빠져나올수 없다.. (북미버전)      NaN  \n",
       "5905                                    스폰지밥 동심파괴 애니메이션      NaN  \n",
       "6003                                    오늘도 흥흥흥시공을 위하여!      NaN  \n",
       "6260                                   케리건 레벨 후더덜한 사람 봄      NaN  \n",
       "6403                                    오늘도 흥하세요 엔타로 시공      NaN  \n",
       "6480                                     케리건은 밴당할정도로 강함      NaN  \n",
       "6499                               시즌3탈것 완전 아케이드헤카림 아님?      NaN  \n",
       "6513                                 (데이터) 멋짐/쿨/잘생김/귀요미      NaN  \n",
       "6625                                         오랜만에 고통 나눔      NaN  \n",
       "6633                                         개판 오분전이었던판      NaN  \n",
       "6654                                          인디겜 버그 수준      NaN  \n",
       "6657                                 으아악! 빠져나갈수가 없어!!!!      NaN  \n",
       "6694                                           이거 동일인물?      NaN  \n",
       "6870                                           호두를 위하여!      NaN  \n",
       "6955                     카봇애니메이션 HS EP28 Horsing Around      NaN  \n",
       "7085                                         전설 꼬라지가...      NaN  \n",
       "7183                                    탱크를 지키는 떡대들.jpg      NaN  \n",
       "7207                                 ㄷㄷ 빠대여포 플레성님들 무서워라      NaN  \n",
       "\n",
       "[1257 rows x 4 columns]"
      ]
     },
     "execution_count": 5,
     "metadata": {},
     "output_type": "execute_result"
    }
   ],
   "source": [
    "# 글 내용 비어있는 것 확인하기\n",
    "df_inven[df_inven['contents'].isnull()]"
   ]
  },
  {
   "cell_type": "code",
   "execution_count": 6,
   "metadata": {
    "collapsed": true
   },
   "outputs": [],
   "source": [
    "# NaN을 아예 길이없는 스트링으로 전환\n",
    "\n",
    "df_inven['contents'].fillna(\"\", inplace=True)"
   ]
  },
  {
   "cell_type": "code",
   "execution_count": 8,
   "metadata": {
    "collapsed": true
   },
   "outputs": [],
   "source": [
    "## 내용이 너무 짧다. 제목과 내용을 합친다.\n",
    "\n",
    "# 시작 컬럼 포지션을 잡기\n",
    "source_col_loc = df_inven.columns.get_loc('title') \n",
    "\n",
    "# 컬럼 기준으로 제목 + 내용 합치기\n",
    "df_inven['contents_all'] = df_inven.iloc[:,source_col_loc:source_col_loc+2].apply(lambda x: \",\".join(x.astype(str)), axis=1)"
   ]
  },
  {
   "cell_type": "code",
   "execution_count": 9,
   "metadata": {},
   "outputs": [],
   "source": [
    "# 인덱스를 리셋시켜서 14만번대가 나오게 하도록 한다.\n",
    "df_inven.reset_index(inplace=True)"
   ]
  },
  {
   "cell_type": "markdown",
   "metadata": {},
   "source": [
    "#### 배틀넷 데이터"
   ]
  },
  {
   "cell_type": "code",
   "execution_count": 10,
   "metadata": {
    "collapsed": true
   },
   "outputs": [],
   "source": [
    "# 파일 읽기\n",
    "df_battle = pd.read_csv(\"data/battlenetData.csv\", encoding='utf8', header=None, engine='python')"
   ]
  },
  {
   "cell_type": "code",
   "execution_count": 11,
   "metadata": {
    "collapsed": true
   },
   "outputs": [],
   "source": [
    "df_battle.columns = ['link_id', 'user_id', 'timestamp', 'title', 'contents']"
   ]
  },
  {
   "cell_type": "code",
   "execution_count": 12,
   "metadata": {
    "scrolled": true
   },
   "outputs": [
    {
     "data": {
      "text/html": [
       "<div>\n",
       "<style>\n",
       "    .dataframe thead tr:only-child th {\n",
       "        text-align: right;\n",
       "    }\n",
       "\n",
       "    .dataframe thead th {\n",
       "        text-align: left;\n",
       "    }\n",
       "\n",
       "    .dataframe tbody tr th {\n",
       "        vertical-align: top;\n",
       "    }\n",
       "</style>\n",
       "<table border=\"1\" class=\"dataframe\">\n",
       "  <thead>\n",
       "    <tr style=\"text-align: right;\">\n",
       "      <th></th>\n",
       "      <th>link_id</th>\n",
       "      <th>user_id</th>\n",
       "      <th>timestamp</th>\n",
       "      <th>title</th>\n",
       "      <th>contents</th>\n",
       "    </tr>\n",
       "  </thead>\n",
       "  <tbody>\n",
       "    <tr>\n",
       "      <th>5695</th>\n",
       "      <td>4564440767</td>\n",
       "      <td>카라딘</td>\n",
       "      <td>2017.04.06 03시 28분</td>\n",
       "      <td>발리라보고 데자뷰 느끼는 사람 없습니까?</td>\n",
       "      <td>[빠대같은 초보존에선 종결 급 양학을 하고 다니면서 카운터를 준비할 수 있는 등급전...</td>\n",
       "    </tr>\n",
       "    <tr>\n",
       "      <th>5696</th>\n",
       "      <td>4564493860</td>\n",
       "      <td>공격</td>\n",
       "      <td>2017.04.22 03시 08분</td>\n",
       "      <td>지금 ptr 게임이 안되는거같은데</td>\n",
       "      <td>[서버가 게임 생성에 실패하였습니다 뜨면서 게임이안되요.. 저만그런거같지않는데. 공...</td>\n",
       "    </tr>\n",
       "    <tr>\n",
       "      <th>5697</th>\n",
       "      <td>4564503573</td>\n",
       "      <td>고만하고자라</td>\n",
       "      <td>2017.04.22 02시 49분</td>\n",
       "      <td>가기전에 의견만남김.</td>\n",
       "      <td>[히오스 오픈베타때부터 해온사람으로서 몇자적고간다.트롤,탈주자,겜말아먹는넘들 단속안...</td>\n",
       "    </tr>\n",
       "    <tr>\n",
       "      <th>5698</th>\n",
       "      <td>4564493427</td>\n",
       "      <td>Messi</td>\n",
       "      <td>2017.04.21 20시 58분</td>\n",
       "      <td>게임 미참여로 정지 먹었는데</td>\n",
       "      <td>[날짜가 지나도 안풀리네요. 영구정지먹은건가요?]</td>\n",
       "    </tr>\n",
       "    <tr>\n",
       "      <th>5699</th>\n",
       "      <td>4564503257</td>\n",
       "      <td>geschichte</td>\n",
       "      <td>2017.04.21 19시 25분</td>\n",
       "      <td>한사람 나가면 게임무효를 시켜야지</td>\n",
       "      <td>[빨리 끝나라고 가만히 있자니 튕기고..계속하자니 어차피 질 게임 시간만 길어지고 ...</td>\n",
       "    </tr>\n",
       "  </tbody>\n",
       "</table>\n",
       "</div>"
      ],
      "text/plain": [
       "         link_id     user_id           timestamp                   title  \\\n",
       "5695  4564440767         카라딘  2017.04.06 03시 28분  발리라보고 데자뷰 느끼는 사람 없습니까?   \n",
       "5696  4564493860          공격  2017.04.22 03시 08분      지금 ptr 게임이 안되는거같은데   \n",
       "5697  4564503573      고만하고자라  2017.04.22 02시 49분             가기전에 의견만남김.   \n",
       "5698  4564493427       Messi  2017.04.21 20시 58분         게임 미참여로 정지 먹었는데   \n",
       "5699  4564503257  geschichte  2017.04.21 19시 25분      한사람 나가면 게임무효를 시켜야지   \n",
       "\n",
       "                                               contents  \n",
       "5695  [빠대같은 초보존에선 종결 급 양학을 하고 다니면서 카운터를 준비할 수 있는 등급전...  \n",
       "5696  [서버가 게임 생성에 실패하였습니다 뜨면서 게임이안되요.. 저만그런거같지않는데. 공...  \n",
       "5697  [히오스 오픈베타때부터 해온사람으로서 몇자적고간다.트롤,탈주자,겜말아먹는넘들 단속안...  \n",
       "5698                        [날짜가 지나도 안풀리네요. 영구정지먹은건가요?]  \n",
       "5699  [빨리 끝나라고 가만히 있자니 튕기고..계속하자니 어차피 질 게임 시간만 길어지고 ...  "
      ]
     },
     "execution_count": 12,
     "metadata": {},
     "output_type": "execute_result"
    }
   ],
   "source": [
    "df_battle.tail()"
   ]
  },
  {
   "cell_type": "markdown",
   "metadata": {},
   "source": [
    "## Data preprocessing"
   ]
  },
  {
   "cell_type": "markdown",
   "metadata": {},
   "source": [
    "- 배틀넷\n",
    "   - 시간 데이터 전처리\n",
    "   - 공지 글 삭제\n",
    "   - 중복 데이터 전처리\n",
    "   - 헤비유저 파악\n",
    "   \n",
    "  \n",
    "- 인벤\n",
    "   - 시간 데이터 전처리\n",
    "   - 공지 글 삭제\n",
    "   - contents컬럼의 NaN 제거\n",
    "   - 헤비유저 파악\n",
    "   \n",
    "   \n",
    "- 배틀넷+인벤 불용어 전처리"
   ]
  },
  {
   "cell_type": "markdown",
   "metadata": {},
   "source": [
    "### - 배틀넷 시간 데이터 전처리"
   ]
  },
  {
   "cell_type": "code",
   "execution_count": 13,
   "metadata": {
    "collapsed": true
   },
   "outputs": [],
   "source": [
    "df_battle = df_battle[df_battle['timestamp'].notnull()]"
   ]
  },
  {
   "cell_type": "markdown",
   "metadata": {},
   "source": [
    "index 1017번째 timestamp가 비어있었음. "
   ]
  },
  {
   "cell_type": "code",
   "execution_count": 14,
   "metadata": {
    "collapsed": true,
    "scrolled": false
   },
   "outputs": [],
   "source": [
    "# 글을 드랍하였기 떄문에 인덱스 리셋\n",
    "\n",
    "df_battle.reset_index(inplace=True)"
   ]
  },
  {
   "cell_type": "code",
   "execution_count": 16,
   "metadata": {
    "collapsed": true,
    "scrolled": false
   },
   "outputs": [],
   "source": [
    "# 새로운 데이트타임 형식 만들기\n",
    "\n",
    "new_dates = []\n",
    "\n",
    "for i in range(5699):\n",
    "    \n",
    "    years = int(df_battle['timestamp'][i][0:4])\n",
    "    months = int(df_battle['timestamp'][i][5:7])\n",
    "    days = int(df_battle['timestamp'][i][8:10])\n",
    "    hours = int(df_battle['timestamp'][i][11:13]) \n",
    "    minutes = int(df_battle['timestamp'][i][15:17])\n",
    "    \n",
    "    dates = datetime(years, months, days, hours, minutes)\n",
    "    \n",
    "    new_dates.append(dates)"
   ]
  },
  {
   "cell_type": "code",
   "execution_count": 17,
   "metadata": {
    "collapsed": true
   },
   "outputs": [],
   "source": [
    "df_battle[\"new_datetime\"] = new_dates"
   ]
  },
  {
   "cell_type": "code",
   "execution_count": 18,
   "metadata": {
    "collapsed": true
   },
   "outputs": [],
   "source": [
    "df_battle.drop('timestamp',axis=1, inplace=True)"
   ]
  },
  {
   "cell_type": "code",
   "execution_count": 19,
   "metadata": {
    "scrolled": true
   },
   "outputs": [
    {
     "data": {
      "text/html": [
       "<div>\n",
       "<style>\n",
       "    .dataframe thead tr:only-child th {\n",
       "        text-align: right;\n",
       "    }\n",
       "\n",
       "    .dataframe thead th {\n",
       "        text-align: left;\n",
       "    }\n",
       "\n",
       "    .dataframe tbody tr th {\n",
       "        vertical-align: top;\n",
       "    }\n",
       "</style>\n",
       "<table border=\"1\" class=\"dataframe\">\n",
       "  <thead>\n",
       "    <tr style=\"text-align: right;\">\n",
       "      <th></th>\n",
       "      <th>index</th>\n",
       "      <th>link_id</th>\n",
       "      <th>user_id</th>\n",
       "      <th>title</th>\n",
       "      <th>contents</th>\n",
       "      <th>new_datetime</th>\n",
       "    </tr>\n",
       "  </thead>\n",
       "  <tbody>\n",
       "    <tr>\n",
       "      <th>0</th>\n",
       "      <td>0</td>\n",
       "      <td>4564557252</td>\n",
       "      <td>비전력이부조카당</td>\n",
       "      <td>아바투르 유저인데, 하나 건의합니다.</td>\n",
       "      <td>[아바투르 유저인데, 하나 건의합니다.새로 생긴 하나무라 맵...뭐 이것도 맵 자체...</td>\n",
       "      <td>2017-05-06 05:21:00</td>\n",
       "    </tr>\n",
       "    <tr>\n",
       "      <th>1</th>\n",
       "      <td>1</td>\n",
       "      <td>4567016696</td>\n",
       "      <td>네이팜데쓰</td>\n",
       "      <td>매칭 시스템, 아무리 생각해도 문제가 많습니다</td>\n",
       "      <td>[매칭좀 제대로 해주세요.9연패가 말이 되는 처사입니까 며칠전에 16연승했다고 벌을...</td>\n",
       "      <td>2018-09-08 16:53:00</td>\n",
       "    </tr>\n",
       "    <tr>\n",
       "      <th>2</th>\n",
       "      <td>2</td>\n",
       "      <td>4567016695</td>\n",
       "      <td>souse</td>\n",
       "      <td>ㅈ같은 매칭좀 어캐좀 해봐요</td>\n",
       "      <td>[왜 내가 잘해도 ㅈ같이못하는 새키들때문에 게임을 져야하죠? 왜 심지어 못하는새키랑...</td>\n",
       "      <td>2018-09-08 16:22:00</td>\n",
       "    </tr>\n",
       "    <tr>\n",
       "      <th>3</th>\n",
       "      <td>3</td>\n",
       "      <td>4567026707</td>\n",
       "      <td>Best</td>\n",
       "      <td>아나 스킨관련..</td>\n",
       "      <td>[신 스킨 살무사 아나 수면총 색 고정말고.  스킨 색 대로 해주셧으면 좋겠습니다....</td>\n",
       "      <td>2018-09-08 15:13:00</td>\n",
       "    </tr>\n",
       "    <tr>\n",
       "      <th>4</th>\n",
       "      <td>4</td>\n",
       "      <td>4567036673</td>\n",
       "      <td>세월</td>\n",
       "      <td>5인팟 + 승률50%집착매칭 + 밸런스 파괴 = 빠대무간지옥</td>\n",
       "      <td>[승률 50% 만든다고 조합 !@내놓고5인팟은 여전히 솔팟 사이에서 개판치고다니고너...</td>\n",
       "      <td>2018-09-07 13:58:00</td>\n",
       "    </tr>\n",
       "  </tbody>\n",
       "</table>\n",
       "</div>"
      ],
      "text/plain": [
       "   index     link_id   user_id                              title  \\\n",
       "0      0  4564557252  비전력이부조카당               아바투르 유저인데, 하나 건의합니다.   \n",
       "1      1  4567016696     네이팜데쓰          매칭 시스템, 아무리 생각해도 문제가 많습니다   \n",
       "2      2  4567016695     souse                    ㅈ같은 매칭좀 어캐좀 해봐요   \n",
       "3      3  4567026707      Best                          아나 스킨관련..   \n",
       "4      4  4567036673        세월  5인팟 + 승률50%집착매칭 + 밸런스 파괴 = 빠대무간지옥   \n",
       "\n",
       "                                            contents        new_datetime  \n",
       "0  [아바투르 유저인데, 하나 건의합니다.새로 생긴 하나무라 맵...뭐 이것도 맵 자체... 2017-05-06 05:21:00  \n",
       "1  [매칭좀 제대로 해주세요.9연패가 말이 되는 처사입니까 며칠전에 16연승했다고 벌을... 2018-09-08 16:53:00  \n",
       "2  [왜 내가 잘해도 ㅈ같이못하는 새키들때문에 게임을 져야하죠? 왜 심지어 못하는새키랑... 2018-09-08 16:22:00  \n",
       "3  [신 스킨 살무사 아나 수면총 색 고정말고.  스킨 색 대로 해주셧으면 좋겠습니다.... 2018-09-08 15:13:00  \n",
       "4  [승률 50% 만든다고 조합 !@내놓고5인팟은 여전히 솔팟 사이에서 개판치고다니고너... 2018-09-07 13:58:00  "
      ]
     },
     "execution_count": 19,
     "metadata": {},
     "output_type": "execute_result"
    }
   ],
   "source": [
    "df_battle.head()"
   ]
  },
  {
   "cell_type": "markdown",
   "metadata": {},
   "source": [
    "### 배틀넷 - 그 외 중복 데이터 처리하기"
   ]
  },
  {
   "cell_type": "code",
   "execution_count": 20,
   "metadata": {
    "collapsed": true
   },
   "outputs": [],
   "source": [
    "# 블리자드 사에서 올린 공지는 제외\n",
    "\n",
    "df_battle = df_battle[df_battle.user_id != \"Blizzard Entertainment\"]"
   ]
  },
  {
   "cell_type": "code",
   "execution_count": 21,
   "metadata": {
    "collapsed": true,
    "scrolled": true
   },
   "outputs": [],
   "source": [
    "# 글 완전 중복인 사람 파악하기\n",
    "\n",
    "df_battle['contents'].drop_duplicates(keep='first', inplace = True)"
   ]
  },
  {
   "cell_type": "code",
   "execution_count": 22,
   "metadata": {
    "scrolled": true
   },
   "outputs": [
    {
     "name": "stdout",
     "output_type": "stream",
     "text": [
      "         link_id   user_id                         title        new_datetime\n",
      "0     4564557252  비전력이부조카당          아바투르 유저인데, 하나 건의합니다. 2017-05-06 05:21:00\n",
      "3638  4565216710  비전력이부조카당  왜 히오스는 '최근 같이 플레이한 목록'이 없나요? 2017-09-14 07:19:00\n",
      "      link_id user_id                      title        new_datetime\n",
      "1  4567016696   네이팜데쓰  매칭 시스템, 아무리 생각해도 문제가 많습니다 2018-09-08 16:53:00\n",
      "      link_id user_id            title        new_datetime\n",
      "2  4567016695   souse  ㅈ같은 매칭좀 어캐좀 해봐요 2018-09-08 16:22:00\n",
      "         link_id user_id          title        new_datetime\n",
      "3     4567026707    Best      아나 스킨관련.. 2018-09-08 15:13:00\n",
      "68    4566996719    Best             건의 2018-09-05 03:46:00\n",
      "2627  4565604050    Best             빠대 2017-12-28 14:30:00\n",
      "2660  4565614129    Best       한조 너프건의안 2017-12-26 01:18:00\n",
      "2970  4565435532    Best  지원가 너프에 관하여.. 2017-11-30 04:36:00\n",
      "3086  4565398541    Best      소냐 너프 건의안 2017-11-18 15:03:00\n",
      "4237  4564767573    Best             빠대 2017-06-19 07:04:00\n",
      "4583  4564622970    Best          빠대관련  2017-06-10 05:05:00\n",
      "4718  4564631707    Best       루시우 건의안  2017-05-31 18:57:00\n",
      "4795  4564630406    Best       피드백 (건의) 2017-05-26 18:19:00\n",
      "         link_id user_id                                 title  \\\n",
      "4     4567036673      세월     5인팟 + 승률50%집착매칭 + 밸런스 파괴 = 빠대무간지옥   \n",
      "167   4566847104      세월                            5인팟 니@미 진짜   \n",
      "203   4566837039      세월                    진절머리나는 일방적인 매칭 시스템   \n",
      "215   4566856953      세월                      블랙하트는 삭제가 시급합니다.   \n",
      "216   4566826987      세월                             5인팟 미2친놈들   \n",
      "288   4566826773      세월           보아하니 난투 승률도 빠대&영리에 포함되는거같은데   \n",
      "534   4566596956      세월  현 빠대매칭이 개발자들의 무능+운영의지 없음 이라는 확실한 증거는   \n",
      "615   4566586760      세월      빠대에 5인팟을 허용하는 것 자체가 이미 게임을 포기한 것   \n",
      "811   4566530321      세월  5인큐는 매칭이 10년이 걸리든 !@#이 걸리던 5인큐끼리 붙여요   \n",
      "846   4566540173      세월                파멸의탑 해머상사 궤도 크아미 밸런스파괴   \n",
      "850   4566530331      세월         블랙하트 쓰레기맵은 누구 !@#에서 나온 아이디어임?   \n",
      "1032  4566538683      세월        빠대는 매칭개선 없으면 항복기능을 반드시 넣어야합니다.   \n",
      "1045  4566519135      세월        겐지를 출시한 인간들은 100대를 대머리로 살것입니다.   \n",
      "1061  4566547399      세월                   빠대조합은 조합보다 승률이 우선인듯   \n",
      "1076  4566537319      세월                      겐지는 그냥 공식적인 핵이네요   \n",
      "1117  4566536713      세월                   심지어는 난투에서도 승률이 50%네   \n",
      "1158  4566407271      세월                빠대 이제 이길만 하면 매칭으로 내리갈굼   \n",
      "1301  4565962374      세월                이젠 푸념하기도 지치네요. 총체적 난국.   \n",
      "1413  4566267062      세월                    다비리 어머님 시마다 일족이시죠?   \n",
      "1474  4566146816      세월             블랙하트항만은 존재 자체로 심각한 결함입니다.   \n",
      "1591  4565981394      세월             현재 매칭은 균형이란 것이 없도록 만들어졌네요   \n",
      "1657  4565946084      세월                          빠대 5인팟 금지 요청   \n",
      "1674  4565957293      세월           그냥 신캐 나오면 오래된 캐릭은 하나씩 삭제하시죠   \n",
      "1708  4565933648      세월          피닉스 = 노리스크 하이리턴 = 공식핵 = 공식치트   \n",
      "1752  4565856707      세월            매칭 승률이 캐릭터기반인가요 전체승률기반인가요?   \n",
      "1823  4565930590      세월              일일퀘스트 변경할수 있게좀 해주세요 하스처럼   \n",
      "1933  4565856609      세월                     오늘의 어머니 사망하신 빠대조합   \n",
      "1963  4565830507      세월               아바투르만 하면 티란데를 만나는 알고리즘?   \n",
      "1976  4565827523      세월                     블랙하트항만좀 영원히 사라졌으면   \n",
      "1993  4565837237      세월                빠대 5인팟은 5인팟끼리 잡아주세요 제발   \n",
      "2023  4565794563      세월                   빠대 매칭시스템은 희대의 실패작인듯   \n",
      "2156  4565798460      세월                        5인팟은 빠대에서 빼주세요   \n",
      "3233  4565325681      세월                     빠대 매칭 프로그래밍 누가했죠?   \n",
      "\n",
      "            new_datetime  \n",
      "4    2018-09-07 13:58:00  \n",
      "167  2018-08-23 09:21:00  \n",
      "203  2018-08-19 13:33:00  \n",
      "215  2018-08-18 10:03:00  \n",
      "216  2018-08-18 11:35:00  \n",
      "288  2018-08-11 08:45:00  \n",
      "534  2018-07-18 13:28:00  \n",
      "615  2018-06-25 13:46:00  \n",
      "811  2018-06-18 04:23:00  \n",
      "846  2018-06-18 12:54:00  \n",
      "850  2018-06-18 09:21:00  \n",
      "1032 2018-06-02 13:31:00  \n",
      "1045 2018-06-01 13:59:00  \n",
      "1061 2018-05-30 14:10:00  \n",
      "1076 2018-05-28 09:36:00  \n",
      "1117 2018-05-25 13:56:00  \n",
      "1158 2018-05-21 11:46:00  \n",
      "1301 2018-04-24 14:22:00  \n",
      "1413 2018-05-07 10:10:00  \n",
      "1474 2018-04-28 07:08:00  \n",
      "1591 2018-04-19 11:53:00  \n",
      "1657 2018-04-08 10:14:00  \n",
      "1674 2018-04-11 13:07:00  \n",
      "1708 2018-04-04 13:24:00  \n",
      "1752 2018-03-09 09:19:00  \n",
      "1823 2018-03-24 11:25:00  \n",
      "1933 2018-03-09 08:04:00  \n",
      "1963 2018-03-04 14:32:00  \n",
      "1976 2018-02-28 12:04:00  \n",
      "1993 2018-03-01 09:29:00  \n",
      "2023 2018-02-24 11:22:00  \n",
      "2156 2018-02-16 13:32:00  \n",
      "3233 2017-10-31 13:03:00  \n",
      "         link_id user_id           title        new_datetime\n",
      "5     4567026700   Ditto  영웅리그 매칭에서 대만인들 2018-09-08 09:06:00\n",
      "2930  4565457559   Ditto    게임좀 관리좀 해라좀. 2017-12-05 12:54:00\n",
      "         link_id  user_id                       title        new_datetime\n",
      "6     4567046681  JELAWAT      신영웅 그만만들고 기존영웅 손좀보시죠^^ 2018-09-08 07:09:00\n",
      "18    4567026681  JELAWAT           침묵인데 스킬사용하는 메피스토? 2018-09-07 13:16:00\n",
      "56    4566966661  JELAWAT  5인팟이 따로 돌리는 일반전모드 도입이 시급하다 2018-08-31 11:42:00\n",
      "1135  4566496623  JELAWAT                        서렌기능 2018-05-24 14:19:00\n",
      "1572  4565981466  JELAWAT                매칭,밸런스,신영웅밸붕 2018-04-21 06:50:00\n",
      "         link_id user_id                            title        new_datetime\n",
      "7     4567006799     요우몽              망한맵들은 리메이크가 답이 아니다  2018-09-06 16:47:00\n",
      "29    4566996758     요우몽                  블자 앞을 직시를 못하는듯  2018-09-06 13:22:00\n",
      "32    4566986763     요우몽     티란데 파수 너프했다길래 메인힐러급힐나올줄알았는데  2018-09-06 07:09:00\n",
      "50    4566976695     요우몽                   매칭오류 수정할생각이 없나 2018-09-03 03:40:00\n",
      "51    4566996700     요우몽                 시마다 가문은 너프를 포기함? 2018-09-03 12:30:00\n",
      "69    4567006743     요우몽               제발 전문가는 전문가끼리 매칭시켜 2018-09-04 17:54:00\n",
      "72    4567006732     요우몽               묶음 상품 스킨들 가격좀 낮추죠  2018-09-04 08:43:00\n",
      "81    4566596848     요우몽                       무라딘 딜특 너프좀 2018-07-13 09:43:00\n",
      "85    4566976655     요우몽                    알렉 생명결속은 필너프  2018-09-01 03:43:00\n",
      "88    4566976682     요우몽                         너프참 안하네  2018-09-02 07:34:00\n",
      "93    4566986663     요우몽                 겐지 질풍참 튕겨내기 너프필수 2018-09-01 04:34:00\n",
      "102   4566956656     요우몽               무라딘을 너프해야하는 간단한이유  2018-08-31 05:13:00\n",
      "108   4566896679     요우몽                화메 궁쿨 책정부터 잘못되어있음 2018-08-30 04:12:00\n",
      "109   4566866705     요우몽                화메 궁쿨 책정부터 잘못되어있음 2018-08-30 04:10:00\n",
      "111   4566896677     요우몽     암살자하고 전문가 같은 수준으로 보고 매칭하지말자  2018-08-30 03:48:00\n",
      "114   4566866685     요우몽                  화메 말퓨 이둘은 필너프좀  2018-08-29 05:19:00\n",
      "120   4566896654     요우몽             한조 7렙특 타고난 실력 너프하시죠  2018-08-28 09:23:00\n",
      "131   4566847176     요우몽    진짜 죽음의 광산 리메이크 한번 더하거나 그냥 삭제좀 2018-08-26 19:06:00\n",
      "135   4566847177     요우몽                 히오스 mvp시스템에 관하여  2018-08-26 19:37:00\n",
      "148   4566857122     요우몽                   그래서 케리건은 언제상향? 2018-08-24 17:23:00\n",
      "154   4566847152     요우몽                  신캐버프 너무 뽕빨오지네요  2018-08-25 05:35:00\n",
      "193   4566827025     요우몽                       히오스 일하긴하네  2018-08-20 17:03:00\n",
      "210   4566846986     요우몽          겐지튕겨내기도 바리안 무기막기처럼 고치삼  2018-08-18 17:32:00\n",
      "211   4566826993     요우몽            요즘 불쾌하다고 너프때리는게 메타라메요 2018-08-18 14:16:00\n",
      "239   4566836963     요우몽          디아블로 악마 쪽 영웅은 아예 버려졌나보네 2018-08-16 08:58:00\n",
      "241   4566836783     요우몽                        밴시 너프언제함? 2018-08-11 13:53:00\n",
      "260   4566856851     요우몽            크로미가하고 해머는 불쾌해서 너프했죠? 2018-08-14 08:19:00\n",
      "297   4566856735     요우몽                   씹지는 너프가 답이아니다  2018-08-10 08:50:00\n",
      "322   4566816758     요우몽                 이맵 똥밸런스도 똥밸런스지만  2018-08-06 10:58:00\n",
      "361   4566806676     요우몽            블코 운영진은 진짜 양심이란게 있으면  2018-08-04 13:33:00\n",
      "...          ...     ...                              ...                 ...\n",
      "2040  4565773772     요우몽            디아블로도 전설아나운서 하나만들어주삼  2018-02-23 18:55:00\n",
      "2047  4565772838     요우몽                      티란데 핵빼미 너프좀 2018-02-22 12:58:00\n",
      "2066  4565802106     요우몽     그메 겐지 한조 마이에브 이 4놈은 무조건 필너프좀 2018-02-21 06:37:00\n",
      "2094  4565776869     요우몽                 마이에브 겐지 한조도 ㅈ같지만 2018-02-14 07:00:00\n",
      "2114  4565776870     요우몽                     발리라는 왜 너프안함? 2018-02-14 07:02:00\n",
      "2116  4565771277     요우몽                      카라짐 역할군 바꾸죠 2018-02-19 09:54:00\n",
      "2123  4565789647     요우몽         마이에브 너프좀 먹였다고 이게 다라고생각함? 2018-02-18 04:17:00\n",
      "2190  4565737836     요우몽                   정크렛 궁강 둘다 너프하죠 2018-02-13 05:59:00\n",
      "2200  4565727701     요우몽  솔직히 말하세요 말티엘 출시하기싫은거 억지로 내놓은거죠? 2018-02-11 14:41:00\n",
      "2215  4565727479     요우몽             말티엘 어디가 강력하다고 또 너프임? 2018-02-09 13:28:00\n",
      "2229  4565747596     요우몽      마이애브로 겐지가 아주 조금 힘들어진건 인정할게  2018-02-10 03:43:00\n",
      "2257  4565756696     요우몽            한조나 마이애브나 무슨생각으로 만든거지 2018-02-08 04:08:00\n",
      "2267  4565756628     요우몽                         거강너프좀하시죠 2018-02-07 02:51:00\n",
      "2278  4565737207     요우몽                    스투코프 완전 ㅈ같네.. 2018-02-06 01:45:00\n",
      "2293  4565716791     요우몽                       한조 너프좀 더해라 2018-02-02 08:35:00\n",
      "2303  4565716560     요우몽                   크로미 다음에봐요 특 너프 2018-01-31 04:00:00\n",
      "2323  4565708170     요우몽                    노잼하트 노잼탄두 삭제좀 2018-01-28 07:10:00\n",
      "2374  4565707685     요우몽         이겜은 일단 매칭시스템중 가장 고질적인문제가 2018-01-23 14:34:00\n",
      "2420  4565687290     요우몽            하스스톤 얼왕기 스킨도 히오스에 추가좀 2018-01-18 05:01:00\n",
      "2426  4565677390     요우몽                  파편 중복되는 얻는량 조정좀 2018-01-17 10:37:00\n",
      "2438  4565677273     요우몽                 겐지도 겐지지만 한조도 너프좀 2018-01-16 02:21:00\n",
      "2533  4565626186     요우몽               은신패치 ㄹㅇ 생각없이 한거티나네 2018-01-06 14:42:00\n",
      "2560  4565635870     요우몽    크로미가 아무리 피약하고 카운터가 많다고 해도 그렇지 2018-01-05 04:02:00\n",
      "2584  4565615130     요우몽                       알라 반격쿨 너프좀 2018-01-03 07:14:00\n",
      "2597  4565634668     요우몽              한조 4렙특중 비영웅 추뎀특 너프좀 2018-01-02 02:22:00\n",
      "2650  4565634029     요우몽                    정원 공포맵 공포 너프좀 2017-12-27 03:36:00\n",
      "2670  4565613951     요우몽                        발리라 양심어디? 2017-12-25 03:45:00\n",
      "2713  4565613810     요우몽                          바리안 조정좀 2017-12-23 08:31:00\n",
      "2728  4565603338     요우몽                         빠대 매칭무엇? 2017-12-22 02:15:00\n",
      "2789  4565598183     요우몽     이번 은신 패치 최고 수혜자 노바 같은데 기분탓인가 2017-12-16 05:16:00\n",
      "\n",
      "[177 rows x 4 columns]\n",
      "         link_id user_id         title        new_datetime\n",
      "8     4567036686   파워디지몬  히오스 영웅리그 개선안 2018-09-08 04:26:00\n",
      "189   4566857028   파워디지몬  HOTS 영웅리그 건의 2018-08-21 06:01:00\n",
      "5060  4564606988   파워디지몬   이 게임은 끝입니다. 2017-05-12 10:19:00\n",
      "      link_id user_id          title        new_datetime\n",
      "9  4567036678  인생이지겨워  다른 영웅 선택되는 버그 2018-09-07 23:59:00\n",
      "         link_id user_id                       title        new_datetime\n",
      "10    4567016679    LEoN                   하나무라 리메이크 2018-09-07 17:34:00\n",
      "2064  4565790761    LEoN  신캐 관심 좀 얻으려고 미`친 짓을 다하는 구나 2018-02-20 09:08:00\n",
      "       link_id user_id        title        new_datetime\n",
      "11  4567026689   텔라마피아  매칭이 왜 이따구냐? 2018-09-07 17:28:00\n",
      "       link_id user_id                          title        new_datetime\n",
      "12  4567026688     계명성  수집품 내에서 미확인 목록의 숫자 표시가 밀리는 현상 2018-09-07 16:46:00\n",
      "       link_id user_id                              title        new_datetime\n",
      "13  4567026687    온슈타인  트위치 '뱅붕'의 시청자인 영웅리그 트롤유저를 제재해주세요. 2018-09-07 16:34:00\n",
      "       link_id user_id    title        new_datetime\n",
      "14  4567036675     김용현  화이트메인OP 2018-09-07 16:26:00\n"
     ]
    }
   ],
   "source": [
    "# 헤비유저 파악 혹은 글 연달아 올린 사람 파악하기\n",
    "\n",
    "user_list = df_battle['user_id'].unique()\n",
    "\n",
    "for uid in user_list[:15]:\n",
    "    dfuid = df_battle[df_battle['user_id']==uid]\n",
    "    print(dfuid.iloc[:,[1,2,3,5]])\n",
    "\n",
    "    \n",
    "\n",
    "# 전처리 되도록이면 판다스로 하기. 유저 아이디 중복을 찾은다음에. 시간 차이가 몇 안나는 것들은 빼기(몇 분 이상 차이나면 없애는 방향으로)"
   ]
  },
  {
   "cell_type": "code",
   "execution_count": 23,
   "metadata": {},
   "outputs": [
    {
     "name": "stdout",
     "output_type": "stream",
     "text": [
      "['비전력이부조카당' '네이팜데쓰' 'souse' 'Best' '세월' 'Ditto' 'JELAWAT' '요우몽' '파워디지몬'\n",
      " '인생이지겨워']\n"
     ]
    }
   ],
   "source": [
    "# 헤비 유저(빅마우스)들 (상위 10명)\n",
    "print(user_list[0:10])"
   ]
  },
  {
   "cell_type": "code",
   "execution_count": 24,
   "metadata": {},
   "outputs": [
    {
     "data": {
      "text/plain": [
       "177"
      ]
     },
     "execution_count": 24,
     "metadata": {},
     "output_type": "execute_result"
    }
   ],
   "source": [
    "len(df_battle[df_battle['user_id']=='요우몽'])"
   ]
  },
  {
   "cell_type": "code",
   "execution_count": 25,
   "metadata": {
    "scrolled": false
   },
   "outputs": [
    {
     "data": {
      "text/html": [
       "<div>\n",
       "<style>\n",
       "    .dataframe thead tr:only-child th {\n",
       "        text-align: right;\n",
       "    }\n",
       "\n",
       "    .dataframe thead th {\n",
       "        text-align: left;\n",
       "    }\n",
       "\n",
       "    .dataframe tbody tr th {\n",
       "        vertical-align: top;\n",
       "    }\n",
       "</style>\n",
       "<table border=\"1\" class=\"dataframe\">\n",
       "  <thead>\n",
       "    <tr style=\"text-align: right;\">\n",
       "      <th></th>\n",
       "      <th>index</th>\n",
       "      <th>link_id</th>\n",
       "      <th>user_id</th>\n",
       "      <th>title</th>\n",
       "      <th>contents</th>\n",
       "      <th>new_datetime</th>\n",
       "    </tr>\n",
       "  </thead>\n",
       "  <tbody>\n",
       "    <tr>\n",
       "      <th>109</th>\n",
       "      <td>109</td>\n",
       "      <td>4566866705</td>\n",
       "      <td>요우몽</td>\n",
       "      <td>화메 궁쿨 책정부터 잘못되어있음</td>\n",
       "      <td>[성스러운징벌이 100초 붉은가호가 1분인데 @%*!!# 성능 따져봐도 당연 붉은가...</td>\n",
       "      <td>2018-08-30 04:10:00</td>\n",
       "    </tr>\n",
       "  </tbody>\n",
       "</table>\n",
       "</div>"
      ],
      "text/plain": [
       "     index     link_id user_id              title  \\\n",
       "109    109  4566866705     요우몽  화메 궁쿨 책정부터 잘못되어있음   \n",
       "\n",
       "                                              contents        new_datetime  \n",
       "109  [성스러운징벌이 100초 붉은가호가 1분인데 @%*!!# 성능 따져봐도 당연 붉은가... 2018-08-30 04:10:00  "
      ]
     },
     "execution_count": 25,
     "metadata": {},
     "output_type": "execute_result"
    }
   ],
   "source": [
    "df_battle[df_battle['link_id']==4566866705]"
   ]
  },
  {
   "cell_type": "code",
   "execution_count": 26,
   "metadata": {},
   "outputs": [
    {
     "data": {
      "text/html": [
       "<div>\n",
       "<style>\n",
       "    .dataframe thead tr:only-child th {\n",
       "        text-align: right;\n",
       "    }\n",
       "\n",
       "    .dataframe thead th {\n",
       "        text-align: left;\n",
       "    }\n",
       "\n",
       "    .dataframe tbody tr th {\n",
       "        vertical-align: top;\n",
       "    }\n",
       "</style>\n",
       "<table border=\"1\" class=\"dataframe\">\n",
       "  <thead>\n",
       "    <tr style=\"text-align: right;\">\n",
       "      <th></th>\n",
       "      <th>index</th>\n",
       "      <th>link_id</th>\n",
       "      <th>user_id</th>\n",
       "      <th>title</th>\n",
       "      <th>contents</th>\n",
       "      <th>new_datetime</th>\n",
       "    </tr>\n",
       "  </thead>\n",
       "  <tbody>\n",
       "    <tr>\n",
       "      <th>189</th>\n",
       "      <td>189</td>\n",
       "      <td>4566857028</td>\n",
       "      <td>파워디지몬</td>\n",
       "      <td>HOTS 영웅리그 건의</td>\n",
       "      <td>[HOTS는 이전부터 영웅리그에 대한 문제가 많았습니다.크게 정리하자면 3가지가 있...</td>\n",
       "      <td>2018-08-21 06:01:00</td>\n",
       "    </tr>\n",
       "  </tbody>\n",
       "</table>\n",
       "</div>"
      ],
      "text/plain": [
       "     index     link_id user_id         title  \\\n",
       "189    189  4566857028   파워디지몬  HOTS 영웅리그 건의   \n",
       "\n",
       "                                              contents        new_datetime  \n",
       "189  [HOTS는 이전부터 영웅리그에 대한 문제가 많았습니다.크게 정리하자면 3가지가 있... 2018-08-21 06:01:00  "
      ]
     },
     "execution_count": 26,
     "metadata": {},
     "output_type": "execute_result"
    }
   ],
   "source": [
    "df_battle[df_battle['link_id']==4566857028]"
   ]
  },
  {
   "cell_type": "code",
   "execution_count": 27,
   "metadata": {
    "collapsed": true,
    "scrolled": true
   },
   "outputs": [],
   "source": [
    "# 위에서 나온 결과를 기준으로 판단하여 중복 행 몇개를 삭제한다. - 뒷 인덱스를 삭제합니다. 새로 쓴 글이 의사를 더 잘 반영한다고 기준을 둠\n",
    "\n",
    "df_battle.drop([189],inplace=True)\n",
    "df_battle.drop([109],inplace=True)"
   ]
  },
  {
   "cell_type": "code",
   "execution_count": 28,
   "metadata": {
    "collapsed": true
   },
   "outputs": [],
   "source": [
    "df_battle.reset_index(inplace=True)"
   ]
  },
  {
   "cell_type": "code",
   "execution_count": 29,
   "metadata": {
    "scrolled": true
   },
   "outputs": [
    {
     "data": {
      "text/html": [
       "<div>\n",
       "<style>\n",
       "    .dataframe thead tr:only-child th {\n",
       "        text-align: right;\n",
       "    }\n",
       "\n",
       "    .dataframe thead th {\n",
       "        text-align: left;\n",
       "    }\n",
       "\n",
       "    .dataframe tbody tr th {\n",
       "        vertical-align: top;\n",
       "    }\n",
       "</style>\n",
       "<table border=\"1\" class=\"dataframe\">\n",
       "  <thead>\n",
       "    <tr style=\"text-align: right;\">\n",
       "      <th></th>\n",
       "      <th>level_0</th>\n",
       "      <th>index</th>\n",
       "      <th>link_id</th>\n",
       "      <th>user_id</th>\n",
       "      <th>title</th>\n",
       "      <th>contents</th>\n",
       "      <th>new_datetime</th>\n",
       "    </tr>\n",
       "  </thead>\n",
       "  <tbody>\n",
       "    <tr>\n",
       "      <th>5635</th>\n",
       "      <td>5694</td>\n",
       "      <td>5695</td>\n",
       "      <td>4564440767</td>\n",
       "      <td>카라딘</td>\n",
       "      <td>발리라보고 데자뷰 느끼는 사람 없습니까?</td>\n",
       "      <td>[빠대같은 초보존에선 종결 급 양학을 하고 다니면서 카운터를 준비할 수 있는 등급전...</td>\n",
       "      <td>2017-04-06 03:28:00</td>\n",
       "    </tr>\n",
       "    <tr>\n",
       "      <th>5636</th>\n",
       "      <td>5695</td>\n",
       "      <td>5696</td>\n",
       "      <td>4564493860</td>\n",
       "      <td>공격</td>\n",
       "      <td>지금 ptr 게임이 안되는거같은데</td>\n",
       "      <td>[서버가 게임 생성에 실패하였습니다 뜨면서 게임이안되요.. 저만그런거같지않는데. 공...</td>\n",
       "      <td>2017-04-22 03:08:00</td>\n",
       "    </tr>\n",
       "    <tr>\n",
       "      <th>5637</th>\n",
       "      <td>5696</td>\n",
       "      <td>5697</td>\n",
       "      <td>4564503573</td>\n",
       "      <td>고만하고자라</td>\n",
       "      <td>가기전에 의견만남김.</td>\n",
       "      <td>[히오스 오픈베타때부터 해온사람으로서 몇자적고간다.트롤,탈주자,겜말아먹는넘들 단속안...</td>\n",
       "      <td>2017-04-22 02:49:00</td>\n",
       "    </tr>\n",
       "    <tr>\n",
       "      <th>5638</th>\n",
       "      <td>5697</td>\n",
       "      <td>5698</td>\n",
       "      <td>4564493427</td>\n",
       "      <td>Messi</td>\n",
       "      <td>게임 미참여로 정지 먹었는데</td>\n",
       "      <td>[날짜가 지나도 안풀리네요. 영구정지먹은건가요?]</td>\n",
       "      <td>2017-04-21 20:58:00</td>\n",
       "    </tr>\n",
       "    <tr>\n",
       "      <th>5639</th>\n",
       "      <td>5698</td>\n",
       "      <td>5699</td>\n",
       "      <td>4564503257</td>\n",
       "      <td>geschichte</td>\n",
       "      <td>한사람 나가면 게임무효를 시켜야지</td>\n",
       "      <td>[빨리 끝나라고 가만히 있자니 튕기고..계속하자니 어차피 질 게임 시간만 길어지고 ...</td>\n",
       "      <td>2017-04-21 19:25:00</td>\n",
       "    </tr>\n",
       "  </tbody>\n",
       "</table>\n",
       "</div>"
      ],
      "text/plain": [
       "      level_0  index     link_id     user_id                   title  \\\n",
       "5635     5694   5695  4564440767         카라딘  발리라보고 데자뷰 느끼는 사람 없습니까?   \n",
       "5636     5695   5696  4564493860          공격      지금 ptr 게임이 안되는거같은데   \n",
       "5637     5696   5697  4564503573      고만하고자라             가기전에 의견만남김.   \n",
       "5638     5697   5698  4564493427       Messi         게임 미참여로 정지 먹었는데   \n",
       "5639     5698   5699  4564503257  geschichte      한사람 나가면 게임무효를 시켜야지   \n",
       "\n",
       "                                               contents        new_datetime  \n",
       "5635  [빠대같은 초보존에선 종결 급 양학을 하고 다니면서 카운터를 준비할 수 있는 등급전... 2017-04-06 03:28:00  \n",
       "5636  [서버가 게임 생성에 실패하였습니다 뜨면서 게임이안되요.. 저만그런거같지않는데. 공... 2017-04-22 03:08:00  \n",
       "5637  [히오스 오픈베타때부터 해온사람으로서 몇자적고간다.트롤,탈주자,겜말아먹는넘들 단속안... 2017-04-22 02:49:00  \n",
       "5638                        [날짜가 지나도 안풀리네요. 영구정지먹은건가요?] 2017-04-21 20:58:00  \n",
       "5639  [빨리 끝나라고 가만히 있자니 튕기고..계속하자니 어차피 질 게임 시간만 길어지고 ... 2017-04-21 19:25:00  "
      ]
     },
     "execution_count": 29,
     "metadata": {},
     "output_type": "execute_result"
    }
   ],
   "source": [
    "df_battle.tail()"
   ]
  },
  {
   "cell_type": "code",
   "execution_count": 31,
   "metadata": {
    "collapsed": true
   },
   "outputs": [],
   "source": [
    "## 내용이 너무 짧다. 제목과 내용을 합친다.\n",
    "\n",
    "# 시작 컬럼 포지션을 잡기\n",
    "source_col_loc = df_battle.columns.get_loc('title') \n",
    "\n",
    "# 컬럼 기준으로 제목 + 내용 합치기\n",
    "df_battle['contents_all'] = df_battle.iloc[:,source_col_loc:source_col_loc+2].apply(lambda x: \",\".join(x.astype(str)), axis=1)"
   ]
  },
  {
   "cell_type": "code",
   "execution_count": 32,
   "metadata": {
    "scrolled": true
   },
   "outputs": [
    {
     "data": {
      "text/html": [
       "<div>\n",
       "<style>\n",
       "    .dataframe thead tr:only-child th {\n",
       "        text-align: right;\n",
       "    }\n",
       "\n",
       "    .dataframe thead th {\n",
       "        text-align: left;\n",
       "    }\n",
       "\n",
       "    .dataframe tbody tr th {\n",
       "        vertical-align: top;\n",
       "    }\n",
       "</style>\n",
       "<table border=\"1\" class=\"dataframe\">\n",
       "  <thead>\n",
       "    <tr style=\"text-align: right;\">\n",
       "      <th></th>\n",
       "      <th>level_0</th>\n",
       "      <th>index</th>\n",
       "      <th>link_id</th>\n",
       "      <th>user_id</th>\n",
       "      <th>title</th>\n",
       "      <th>contents</th>\n",
       "      <th>new_datetime</th>\n",
       "      <th>contents_all</th>\n",
       "    </tr>\n",
       "  </thead>\n",
       "  <tbody>\n",
       "    <tr>\n",
       "      <th>0</th>\n",
       "      <td>0</td>\n",
       "      <td>0</td>\n",
       "      <td>4564557252</td>\n",
       "      <td>비전력이부조카당</td>\n",
       "      <td>아바투르 유저인데, 하나 건의합니다.</td>\n",
       "      <td>[아바투르 유저인데, 하나 건의합니다.새로 생긴 하나무라 맵...뭐 이것도 맵 자체...</td>\n",
       "      <td>2017-05-06 05:21:00</td>\n",
       "      <td>아바투르 유저인데, 하나 건의합니다.,[아바투르 유저인데, 하나 건의합니다.새로 생...</td>\n",
       "    </tr>\n",
       "    <tr>\n",
       "      <th>1</th>\n",
       "      <td>1</td>\n",
       "      <td>1</td>\n",
       "      <td>4567016696</td>\n",
       "      <td>네이팜데쓰</td>\n",
       "      <td>매칭 시스템, 아무리 생각해도 문제가 많습니다</td>\n",
       "      <td>[매칭좀 제대로 해주세요.9연패가 말이 되는 처사입니까 며칠전에 16연승했다고 벌을...</td>\n",
       "      <td>2018-09-08 16:53:00</td>\n",
       "      <td>매칭 시스템, 아무리 생각해도 문제가 많습니다,[매칭좀 제대로 해주세요.9연패가 말...</td>\n",
       "    </tr>\n",
       "    <tr>\n",
       "      <th>2</th>\n",
       "      <td>2</td>\n",
       "      <td>2</td>\n",
       "      <td>4567016695</td>\n",
       "      <td>souse</td>\n",
       "      <td>ㅈ같은 매칭좀 어캐좀 해봐요</td>\n",
       "      <td>[왜 내가 잘해도 ㅈ같이못하는 새키들때문에 게임을 져야하죠? 왜 심지어 못하는새키랑...</td>\n",
       "      <td>2018-09-08 16:22:00</td>\n",
       "      <td>ㅈ같은 매칭좀 어캐좀 해봐요,[왜 내가 잘해도 ㅈ같이못하는 새키들때문에 게임을 져야...</td>\n",
       "    </tr>\n",
       "    <tr>\n",
       "      <th>3</th>\n",
       "      <td>3</td>\n",
       "      <td>3</td>\n",
       "      <td>4567026707</td>\n",
       "      <td>Best</td>\n",
       "      <td>아나 스킨관련..</td>\n",
       "      <td>[신 스킨 살무사 아나 수면총 색 고정말고.  스킨 색 대로 해주셧으면 좋겠습니다....</td>\n",
       "      <td>2018-09-08 15:13:00</td>\n",
       "      <td>아나 스킨관련..,[신 스킨 살무사 아나 수면총 색 고정말고.  스킨 색 대로 해...</td>\n",
       "    </tr>\n",
       "    <tr>\n",
       "      <th>4</th>\n",
       "      <td>4</td>\n",
       "      <td>4</td>\n",
       "      <td>4567036673</td>\n",
       "      <td>세월</td>\n",
       "      <td>5인팟 + 승률50%집착매칭 + 밸런스 파괴 = 빠대무간지옥</td>\n",
       "      <td>[승률 50% 만든다고 조합 !@내놓고5인팟은 여전히 솔팟 사이에서 개판치고다니고너...</td>\n",
       "      <td>2018-09-07 13:58:00</td>\n",
       "      <td>5인팟 + 승률50%집착매칭 + 밸런스 파괴 = 빠대무간지옥,[승률 50% 만든다고...</td>\n",
       "    </tr>\n",
       "  </tbody>\n",
       "</table>\n",
       "</div>"
      ],
      "text/plain": [
       "   level_0  index     link_id   user_id                              title  \\\n",
       "0        0      0  4564557252  비전력이부조카당               아바투르 유저인데, 하나 건의합니다.   \n",
       "1        1      1  4567016696     네이팜데쓰          매칭 시스템, 아무리 생각해도 문제가 많습니다   \n",
       "2        2      2  4567016695     souse                    ㅈ같은 매칭좀 어캐좀 해봐요   \n",
       "3        3      3  4567026707      Best                          아나 스킨관련..   \n",
       "4        4      4  4567036673        세월  5인팟 + 승률50%집착매칭 + 밸런스 파괴 = 빠대무간지옥   \n",
       "\n",
       "                                            contents        new_datetime  \\\n",
       "0  [아바투르 유저인데, 하나 건의합니다.새로 생긴 하나무라 맵...뭐 이것도 맵 자체... 2017-05-06 05:21:00   \n",
       "1  [매칭좀 제대로 해주세요.9연패가 말이 되는 처사입니까 며칠전에 16연승했다고 벌을... 2018-09-08 16:53:00   \n",
       "2  [왜 내가 잘해도 ㅈ같이못하는 새키들때문에 게임을 져야하죠? 왜 심지어 못하는새키랑... 2018-09-08 16:22:00   \n",
       "3  [신 스킨 살무사 아나 수면총 색 고정말고.  스킨 색 대로 해주셧으면 좋겠습니다.... 2018-09-08 15:13:00   \n",
       "4  [승률 50% 만든다고 조합 !@내놓고5인팟은 여전히 솔팟 사이에서 개판치고다니고너... 2018-09-07 13:58:00   \n",
       "\n",
       "                                        contents_all  \n",
       "0  아바투르 유저인데, 하나 건의합니다.,[아바투르 유저인데, 하나 건의합니다.새로 생...  \n",
       "1  매칭 시스템, 아무리 생각해도 문제가 많습니다,[매칭좀 제대로 해주세요.9연패가 말...  \n",
       "2  ㅈ같은 매칭좀 어캐좀 해봐요,[왜 내가 잘해도 ㅈ같이못하는 새키들때문에 게임을 져야...  \n",
       "3   아나 스킨관련..,[신 스킨 살무사 아나 수면총 색 고정말고.  스킨 색 대로 해...  \n",
       "4  5인팟 + 승률50%집착매칭 + 밸런스 파괴 = 빠대무간지옥,[승률 50% 만든다고...  "
      ]
     },
     "execution_count": 32,
     "metadata": {},
     "output_type": "execute_result"
    }
   ],
   "source": [
    "df_battle.head()"
   ]
  },
  {
   "cell_type": "code",
   "execution_count": 33,
   "metadata": {
    "collapsed": true
   },
   "outputs": [],
   "source": [
    "# 가공이 끝나는 열들은 다 드랍합니다. \n",
    "\n",
    "df_battle.drop('user_id',axis=1, inplace=True)\n",
    "df_battle.drop('title',axis=1, inplace=True)\n",
    "df_battle.drop('contents',axis=1, inplace=True)\n",
    "df_battle.drop('level_0',axis=1, inplace=True)\n",
    "df_battle.drop('index',axis=1, inplace=True)"
   ]
  },
  {
   "cell_type": "code",
   "execution_count": 34,
   "metadata": {},
   "outputs": [
    {
     "data": {
      "text/html": [
       "<div>\n",
       "<style>\n",
       "    .dataframe thead tr:only-child th {\n",
       "        text-align: right;\n",
       "    }\n",
       "\n",
       "    .dataframe thead th {\n",
       "        text-align: left;\n",
       "    }\n",
       "\n",
       "    .dataframe tbody tr th {\n",
       "        vertical-align: top;\n",
       "    }\n",
       "</style>\n",
       "<table border=\"1\" class=\"dataframe\">\n",
       "  <thead>\n",
       "    <tr style=\"text-align: right;\">\n",
       "      <th></th>\n",
       "      <th>link_id</th>\n",
       "      <th>new_datetime</th>\n",
       "      <th>contents_all</th>\n",
       "    </tr>\n",
       "  </thead>\n",
       "  <tbody>\n",
       "    <tr>\n",
       "      <th>5635</th>\n",
       "      <td>4564440767</td>\n",
       "      <td>2017-04-06 03:28:00</td>\n",
       "      <td>발리라보고 데자뷰 느끼는 사람 없습니까?,[빠대같은 초보존에선 종결 급 양학을 하고...</td>\n",
       "    </tr>\n",
       "    <tr>\n",
       "      <th>5636</th>\n",
       "      <td>4564493860</td>\n",
       "      <td>2017-04-22 03:08:00</td>\n",
       "      <td>지금 ptr 게임이 안되는거같은데,[서버가 게임 생성에 실패하였습니다 뜨면서 게임이...</td>\n",
       "    </tr>\n",
       "    <tr>\n",
       "      <th>5637</th>\n",
       "      <td>4564503573</td>\n",
       "      <td>2017-04-22 02:49:00</td>\n",
       "      <td>가기전에 의견만남김.,[히오스 오픈베타때부터 해온사람으로서 몇자적고간다.트롤,탈주자...</td>\n",
       "    </tr>\n",
       "    <tr>\n",
       "      <th>5638</th>\n",
       "      <td>4564493427</td>\n",
       "      <td>2017-04-21 20:58:00</td>\n",
       "      <td>게임 미참여로 정지 먹었는데,[날짜가 지나도 안풀리네요. 영구정지먹은건가요?]</td>\n",
       "    </tr>\n",
       "    <tr>\n",
       "      <th>5639</th>\n",
       "      <td>4564503257</td>\n",
       "      <td>2017-04-21 19:25:00</td>\n",
       "      <td>한사람 나가면 게임무효를 시켜야지,[빨리 끝나라고 가만히 있자니 튕기고..계속하자니...</td>\n",
       "    </tr>\n",
       "  </tbody>\n",
       "</table>\n",
       "</div>"
      ],
      "text/plain": [
       "         link_id        new_datetime  \\\n",
       "5635  4564440767 2017-04-06 03:28:00   \n",
       "5636  4564493860 2017-04-22 03:08:00   \n",
       "5637  4564503573 2017-04-22 02:49:00   \n",
       "5638  4564493427 2017-04-21 20:58:00   \n",
       "5639  4564503257 2017-04-21 19:25:00   \n",
       "\n",
       "                                           contents_all  \n",
       "5635  발리라보고 데자뷰 느끼는 사람 없습니까?,[빠대같은 초보존에선 종결 급 양학을 하고...  \n",
       "5636  지금 ptr 게임이 안되는거같은데,[서버가 게임 생성에 실패하였습니다 뜨면서 게임이...  \n",
       "5637  가기전에 의견만남김.,[히오스 오픈베타때부터 해온사람으로서 몇자적고간다.트롤,탈주자...  \n",
       "5638        게임 미참여로 정지 먹었는데,[날짜가 지나도 안풀리네요. 영구정지먹은건가요?]  \n",
       "5639  한사람 나가면 게임무효를 시켜야지,[빨리 끝나라고 가만히 있자니 튕기고..계속하자니...  "
      ]
     },
     "execution_count": 34,
     "metadata": {},
     "output_type": "execute_result"
    }
   ],
   "source": [
    "df_battle.tail()"
   ]
  },
  {
   "cell_type": "markdown",
   "metadata": {},
   "source": [
    "### 인벤 - 시간 데이터 전처리"
   ]
  },
  {
   "cell_type": "code",
   "execution_count": 35,
   "metadata": {
    "scrolled": true
   },
   "outputs": [
    {
     "data": {
      "text/html": [
       "<div>\n",
       "<style>\n",
       "    .dataframe thead tr:only-child th {\n",
       "        text-align: right;\n",
       "    }\n",
       "\n",
       "    .dataframe thead th {\n",
       "        text-align: left;\n",
       "    }\n",
       "\n",
       "    .dataframe tbody tr th {\n",
       "        vertical-align: top;\n",
       "    }\n",
       "</style>\n",
       "<table border=\"1\" class=\"dataframe\">\n",
       "  <thead>\n",
       "    <tr style=\"text-align: right;\">\n",
       "      <th></th>\n",
       "      <th>index</th>\n",
       "      <th>link_id</th>\n",
       "      <th>timestamp</th>\n",
       "      <th>title</th>\n",
       "      <th>contents</th>\n",
       "      <th>contents_all</th>\n",
       "    </tr>\n",
       "  </thead>\n",
       "  <tbody>\n",
       "    <tr>\n",
       "      <th>0</th>\n",
       "      <td>0</td>\n",
       "      <td>1214270</td>\n",
       "      <td>2018-08-30 16:06</td>\n",
       "      <td>댓글 차단 BETA가 적용됩니다.</td>\n",
       "      <td>안녕하세요. 인벤 커뮤니티팀입니다.인벤을 이용하다 보면 때로는 나와 조금 다른 의견...</td>\n",
       "      <td>댓글 차단 BETA가 적용됩니다.,안녕하세요. 인벤 커뮤니티팀입니다.인벤을 이용하다...</td>\n",
       "    </tr>\n",
       "    <tr>\n",
       "      <th>1</th>\n",
       "      <td>1</td>\n",
       "      <td>1214678</td>\n",
       "      <td>2018-09-05 11:56</td>\n",
       "      <td>9월 1주차 히어로즈 인벤 주간 이벤트 당첨자 발표</td>\n",
       "      <td>안녕하세요. 히어로즈 오브 더 스톰 인벤 커뮤니티팀입니다.히어로즈 인벤에서는 매주 ...</td>\n",
       "      <td>9월 1주차 히어로즈 인벤 주간 이벤트 당첨자 발표,안녕하세요. 히어로즈 오브 더 ...</td>\n",
       "    </tr>\n",
       "    <tr>\n",
       "      <th>2</th>\n",
       "      <td>2</td>\n",
       "      <td>1214899</td>\n",
       "      <td>2018-09-06 22:38</td>\n",
       "      <td>[오시공] 김정민,문규리,침착맨,네클릿,옥냥이 메피스토 특별방송!</td>\n",
       "      <td></td>\n",
       "      <td>[오시공] 김정민,문규리,침착맨,네클릿,옥냥이 메피스토 특별방송!,</td>\n",
       "    </tr>\n",
       "    <tr>\n",
       "      <th>3</th>\n",
       "      <td>3</td>\n",
       "      <td>1215180</td>\n",
       "      <td>2018-09-10 23:57</td>\n",
       "      <td>ㅋㅋㅋㅋ 장구벌레</td>\n",
       "      <td></td>\n",
       "      <td>ㅋㅋㅋㅋ 장구벌레,</td>\n",
       "    </tr>\n",
       "    <tr>\n",
       "      <th>4</th>\n",
       "      <td>4</td>\n",
       "      <td>1215179</td>\n",
       "      <td>2018-09-10 23:52</td>\n",
       "      <td>캘타스 뭐가 더 비슷한가요?</td>\n",
       "      <td>타겜이지만 ㅎ.. 고민</td>\n",
       "      <td>캘타스 뭐가 더 비슷한가요?,타겜이지만 ㅎ.. 고민</td>\n",
       "    </tr>\n",
       "  </tbody>\n",
       "</table>\n",
       "</div>"
      ],
      "text/plain": [
       "   index  link_id         timestamp                                 title  \\\n",
       "0      0  1214270  2018-08-30 16:06                    댓글 차단 BETA가 적용됩니다.   \n",
       "1      1  1214678  2018-09-05 11:56          9월 1주차 히어로즈 인벤 주간 이벤트 당첨자 발표   \n",
       "2      2  1214899  2018-09-06 22:38  [오시공] 김정민,문규리,침착맨,네클릿,옥냥이 메피스토 특별방송!   \n",
       "3      3  1215180  2018-09-10 23:57                             ㅋㅋㅋㅋ 장구벌레   \n",
       "4      4  1215179  2018-09-10 23:52                       캘타스 뭐가 더 비슷한가요?   \n",
       "\n",
       "                                            contents  \\\n",
       "0  안녕하세요. 인벤 커뮤니티팀입니다.인벤을 이용하다 보면 때로는 나와 조금 다른 의견...   \n",
       "1  안녕하세요. 히어로즈 오브 더 스톰 인벤 커뮤니티팀입니다.히어로즈 인벤에서는 매주 ...   \n",
       "2                                                      \n",
       "3                                                      \n",
       "4                                       타겜이지만 ㅎ.. 고민   \n",
       "\n",
       "                                        contents_all  \n",
       "0  댓글 차단 BETA가 적용됩니다.,안녕하세요. 인벤 커뮤니티팀입니다.인벤을 이용하다...  \n",
       "1  9월 1주차 히어로즈 인벤 주간 이벤트 당첨자 발표,안녕하세요. 히어로즈 오브 더 ...  \n",
       "2              [오시공] 김정민,문규리,침착맨,네클릿,옥냥이 메피스토 특별방송!,  \n",
       "3                                         ㅋㅋㅋㅋ 장구벌레,  \n",
       "4                       캘타스 뭐가 더 비슷한가요?,타겜이지만 ㅎ.. 고민  "
      ]
     },
     "execution_count": 35,
     "metadata": {},
     "output_type": "execute_result"
    }
   ],
   "source": [
    "df_inven.head()"
   ]
  },
  {
   "cell_type": "code",
   "execution_count": 39,
   "metadata": {},
   "outputs": [],
   "source": [
    "# 새로운 데이트타임 형식 만들기\n",
    "\n",
    "inven_new_dates = []\n",
    "\n",
    "for i in range(len(df_inven)):\n",
    " \n",
    "    inven_dates = datetime.strptime(df_inven.iloc[i,2], \"%Y-%m-%d %H:%M\")\n",
    "    inven_new_dates.append(inven_dates)"
   ]
  },
  {
   "cell_type": "code",
   "execution_count": 40,
   "metadata": {
    "collapsed": true
   },
   "outputs": [],
   "source": [
    "# 시간 열을 추가하고 없앱니다.\n",
    "df_inven[\"new_datetime\"] = inven_new_dates\n",
    "df_inven.drop('timestamp',axis=1, inplace=True)"
   ]
  },
  {
   "cell_type": "code",
   "execution_count": 41,
   "metadata": {
    "scrolled": true
   },
   "outputs": [],
   "source": [
    "# 분석에 필요없어진 열들을 다시 드랍합니다.\n",
    "\n",
    "df_inven.drop('title',axis=1, inplace=True)\n",
    "df_inven.drop('contents',axis=1, inplace=True)"
   ]
  },
  {
   "cell_type": "code",
   "execution_count": 42,
   "metadata": {
    "scrolled": true
   },
   "outputs": [
    {
     "data": {
      "text/html": [
       "<div>\n",
       "<style>\n",
       "    .dataframe thead tr:only-child th {\n",
       "        text-align: right;\n",
       "    }\n",
       "\n",
       "    .dataframe thead th {\n",
       "        text-align: left;\n",
       "    }\n",
       "\n",
       "    .dataframe tbody tr th {\n",
       "        vertical-align: top;\n",
       "    }\n",
       "</style>\n",
       "<table border=\"1\" class=\"dataframe\">\n",
       "  <thead>\n",
       "    <tr style=\"text-align: right;\">\n",
       "      <th></th>\n",
       "      <th>index</th>\n",
       "      <th>link_id</th>\n",
       "      <th>contents_all</th>\n",
       "      <th>new_datetime</th>\n",
       "    </tr>\n",
       "  </thead>\n",
       "  <tbody>\n",
       "    <tr>\n",
       "      <th>147578</th>\n",
       "      <td>7271</td>\n",
       "      <td>1030725</td>\n",
       "      <td>와 미친 오늘 진짜 치열하다 ㅋㅋㅋ,5,6 위 매치 진짜 미친듯이 치열하네의외의 꿀...</td>\n",
       "      <td>2017-09-02 19:19:00</td>\n",
       "    </tr>\n",
       "    <tr>\n",
       "      <th>147579</th>\n",
       "      <td>7272</td>\n",
       "      <td>1030724</td>\n",
       "      <td>뭐 안늙어죽으면 불멸자는 맞지만,불멸자들중에서도 조건부로맞아죽어도 살아날수있으니 개...</td>\n",
       "      <td>2017-09-02 19:18:00</td>\n",
       "    </tr>\n",
       "    <tr>\n",
       "      <th>147580</th>\n",
       "      <td>7273</td>\n",
       "      <td>1030723</td>\n",
       "      <td>히오스 n주년 이벤 해서,플레이어들이스킨 부문영웅 부문 창작해서 각 서버별로 상금걸...</td>\n",
       "      <td>2017-09-02 19:16:00</td>\n",
       "    </tr>\n",
       "    <tr>\n",
       "      <th>147581</th>\n",
       "      <td>7274</td>\n",
       "      <td>1030722</td>\n",
       "      <td>Cc에 강한 탱커 생겻으면,Cc 맞으면 체력회복</td>\n",
       "      <td>2017-09-02 19:13:00</td>\n",
       "    </tr>\n",
       "    <tr>\n",
       "      <th>147582</th>\n",
       "      <td>7275</td>\n",
       "      <td>1030721</td>\n",
       "      <td>이겜 영리하다보면 어느구간부터가 잘하는지 의문임,체감상 그마도 몇십유저 빼고 다 고...</td>\n",
       "      <td>2017-09-02 19:13:00</td>\n",
       "    </tr>\n",
       "  </tbody>\n",
       "</table>\n",
       "</div>"
      ],
      "text/plain": [
       "        index  link_id                                       contents_all  \\\n",
       "147578   7271  1030725  와 미친 오늘 진짜 치열하다 ㅋㅋㅋ,5,6 위 매치 진짜 미친듯이 치열하네의외의 꿀...   \n",
       "147579   7272  1030724  뭐 안늙어죽으면 불멸자는 맞지만,불멸자들중에서도 조건부로맞아죽어도 살아날수있으니 개...   \n",
       "147580   7273  1030723  히오스 n주년 이벤 해서,플레이어들이스킨 부문영웅 부문 창작해서 각 서버별로 상금걸...   \n",
       "147581   7274  1030722                         Cc에 강한 탱커 생겻으면,Cc 맞으면 체력회복   \n",
       "147582   7275  1030721  이겜 영리하다보면 어느구간부터가 잘하는지 의문임,체감상 그마도 몇십유저 빼고 다 고...   \n",
       "\n",
       "              new_datetime  \n",
       "147578 2017-09-02 19:19:00  \n",
       "147579 2017-09-02 19:18:00  \n",
       "147580 2017-09-02 19:16:00  \n",
       "147581 2017-09-02 19:13:00  \n",
       "147582 2017-09-02 19:13:00  "
      ]
     },
     "execution_count": 42,
     "metadata": {},
     "output_type": "execute_result"
    }
   ],
   "source": [
    "df_inven.tail()"
   ]
  },
  {
   "cell_type": "markdown",
   "metadata": {},
   "source": [
    "### 인벤 - 그 외 중복 데이터 처리하기"
   ]
  },
  {
   "cell_type": "code",
   "execution_count": 44,
   "metadata": {
    "scrolled": true
   },
   "outputs": [
    {
     "name": "stdout",
     "output_type": "stream",
     "text": [
      "     index  link_id                                       contents_all  \\\n",
      "1        1  1214678  9월 1주차 히어로즈 인벤 주간 이벤트 당첨자 발표,안녕하세요. 히어로즈 오브 더 ...   \n",
      "460    460  1214678  9월 1주차 히어로즈 인벤 주간 이벤트 당첨자 발표,안녕하세요. 히어로즈 오브 더 ...   \n",
      "\n",
      "           new_datetime  \n",
      "1   2018-09-05 11:56:00  \n",
      "460 2018-09-05 11:56:00   \n",
      " ================================================================================      index  link_id                                       contents_all  \\\n",
      "0        0  1214270  댓글 차단 BETA가 적용됩니다.,안녕하세요. 인벤 커뮤니티팀입니다.인벤을 이용하다...   \n",
      "821    821  1214270  댓글 차단 BETA가 적용됩니다.,안녕하세요. 인벤 커뮤니티팀입니다.인벤을 이용하다...   \n",
      "\n",
      "           new_datetime  \n",
      "0   2018-08-30 16:06:00  \n",
      "821 2018-08-30 16:06:00   \n",
      " ================================================================================       index  link_id                                       contents_all  \\\n",
      "1390   1390  1213632  8월 3주차 히어로즈 인벤 주간 이벤트 당첨자 발표,안녕하세요. 히어로즈 오브 더 ...   \n",
      "\n",
      "            new_datetime  \n",
      "1390 2018-08-22 16:38:00   \n",
      " ================================================================================      index  link_id                                       contents_all  \\\n",
      "881    881  1214199  8월 4주차 히어로즈 인벤 주간 이벤트 당첨자 발표,안녕하세요. 히어로즈 오브 더 ...   \n",
      "\n",
      "           new_datetime  \n",
      "881 2018-08-29 14:47:00   \n",
      " ================================================================================       index  link_id                                       contents_all  \\\n",
      "1921   1921  1213035  8월 2주차 히어로즈 인벤 주간 이벤트 당첨자 발표,안녕하세요. 히어로즈 오브 더 ...   \n",
      "\n",
      "            new_datetime  \n",
      "1921 2018-08-15 16:14:00   \n",
      " ================================================================================       index  link_id                                       contents_all  \\\n",
      "2510   2510  1212385  8월 1주차 히어로즈 인벤 주간 이벤트 당첨자 발표,안녕하세요. 히어로즈 오브 더 ...   \n",
      "\n",
      "            new_datetime  \n",
      "2510 2018-08-08 10:48:00   \n",
      " ================================================================================       index  link_id                                       contents_all  \\\n",
      "3140   3140  1211671  7월 5주차 히어로즈 인벤 주간 이벤트 당첨자 발표,안녕하세요. 히어로즈 오브 더 ...   \n",
      "\n",
      "            new_datetime  \n",
      "3140 2018-08-01 10:59:00   \n",
      " ================================================================================       index  link_id                                       contents_all  \\\n",
      "3990   3990  1210740  7월 4주차 히어로즈 인벤 주간 이벤트 당첨자 발표,안녕하세요. 히어로즈 오브 더 ...   \n",
      "\n",
      "            new_datetime  \n",
      "3990 2018-07-25 15:41:00   \n",
      " ================================================================================       index  link_id                                       contents_all  \\\n",
      "4695   4695  1209936  7월 3주차 히어로즈 인벤 주간 이벤트 당첨자 발표,안녕하세요. 히어로즈 오브 더 ...   \n",
      "\n",
      "            new_datetime  \n",
      "4695 2018-07-18 13:02:00   \n",
      " ================================================================================       index  link_id                                       contents_all  \\\n",
      "5531   5531  1208994  7월 2주차 히어로즈 인벤 주간 이벤트 당첨자 발표,안녕하세요. 히어로즈 오브 더 ...   \n",
      "\n",
      "            new_datetime  \n",
      "5531 2018-07-11 15:05:00   \n",
      " ================================================================================       index  link_id                                       contents_all  \\\n",
      "6109   6109  1208372  7월 1주차 히어로즈 인벤 주간 이벤트 당첨자 발표,안녕하세요. 히어로즈 오브 더 ...   \n",
      "\n",
      "            new_datetime  \n",
      "6109 2018-07-04 10:10:00   \n",
      " ================================================================================       index  link_id                                       contents_all  \\\n",
      "6672   6672  1207739  6월 4주차 히어로즈 인벤 주간 이벤트 당첨자 발표,안녕하세요. 히어로즈 오브 더 ...   \n",
      "\n",
      "            new_datetime  \n",
      "6672 2018-06-27 15:01:00   \n",
      " ================================================================================       index  link_id                                       contents_all  \\\n",
      "7226   7226  1207110  6월 3주차 히어로즈 인벤 주간 이벤트 당첨자 발표,안녕하세요. 히어로즈 오브 더 ...   \n",
      "\n",
      "            new_datetime  \n",
      "7226 2018-06-20 14:08:00   \n",
      " ================================================================================\n"
     ]
    }
   ],
   "source": [
    "print(df_inven[df_inven[\"link_id\"] == 1214678],\"\\n\",\"=\"*80,\n",
    "      df_inven[df_inven[\"link_id\"] == 1214270],\"\\n\",\"=\"*80,\n",
    "      df_inven[df_inven[\"link_id\"] == 1213632],\"\\n\",\"=\"*80,\n",
    "      df_inven[df_inven[\"link_id\"] == 1214199],\"\\n\",\"=\"*80,\n",
    "      df_inven[df_inven[\"link_id\"] == 1213035],\"\\n\",\"=\"*80,\n",
    "      df_inven[df_inven[\"link_id\"] == 1212385],\"\\n\",\"=\"*80,\n",
    "      df_inven[df_inven[\"link_id\"] == 1211671],\"\\n\",\"=\"*80,\n",
    "      df_inven[df_inven[\"link_id\"] == 1210740],\"\\n\",\"=\"*80,\n",
    "      df_inven[df_inven[\"link_id\"] == 1209936],\"\\n\",\"=\"*80,\n",
    "      df_inven[df_inven[\"link_id\"] == 1208994],\"\\n\",\"=\"*80,\n",
    "      df_inven[df_inven[\"link_id\"] == 1208372],\"\\n\",\"=\"*80,\n",
    "      df_inven[df_inven[\"link_id\"] == 1207739],\"\\n\",\"=\"*80,\n",
    "      df_inven[df_inven[\"link_id\"] == 1207110],\"\\n\",\"=\"*80)"
   ]
  },
  {
   "cell_type": "code",
   "execution_count": null,
   "metadata": {},
   "outputs": [],
   "source": [
    "# 이거 나중에..\n",
    "\n",
    "\n",
    "\"\"\"\n",
    "inven_notice_list = [1214678, 1214270, 1213632, 1214199, \n",
    "                     1213035, 1212385, 1211671, 1210740, \n",
    "                     1209936, 1208994, 1208372, 1207739, 1207110]\n",
    "inven_index = []\n",
    "\n",
    "for i in list(inven_notice_list):   \n",
    "    dfinx = df_inven[df_inven[\"link_id\"]==i].index.values.astype\n",
    "\"\"\"    "
   ]
  },
  {
   "cell_type": "markdown",
   "metadata": {},
   "source": [
    "1, 460 / 0 ,821 / 1390, 881, 1921, 2510, 3140, 3990, 4695, 5531, 6109, 6672, 7226  글들은 커뮤니티 팀에서 올린 것으로 삭제한다.\n",
    "\n",
    "(운영자 아이디로 검색하여 글번호 확인하였음)"
   ]
  },
  {
   "cell_type": "code",
   "execution_count": 45,
   "metadata": {
    "collapsed": true
   },
   "outputs": [],
   "source": [
    "# 운영팀에서 올린 공지는 제외\n",
    "# 아이디를 직접 긁어오지 않았으므로, 웹상에서 직접 링크 아이디를 찾아 제거합니다.\n",
    "\n",
    "df_inven.drop([0],inplace=True)\n",
    "df_inven.drop([1],inplace=True)\n",
    "df_inven.drop([460],inplace=True)\n",
    "df_inven.drop([821],inplace=True)\n",
    "df_inven.drop([881],inplace=True)\n",
    "df_inven.drop([1390],inplace=True)\n",
    "df_inven.drop([1921],inplace=True)\n",
    "df_inven.drop([2510],inplace=True)\n",
    "df_inven.drop([3140],inplace=True)\n",
    "df_inven.drop([3990],inplace=True)\n",
    "df_inven.drop([4695],inplace=True)\n",
    "df_inven.drop([5531],inplace=True)\n",
    "df_inven.drop([6109],inplace=True)\n",
    "df_inven.drop([6672],inplace=True)\n",
    "df_inven.drop([7226],inplace=True)"
   ]
  },
  {
   "cell_type": "code",
   "execution_count": 46,
   "metadata": {},
   "outputs": [],
   "source": [
    "df_inven.reset_index(inplace=True)"
   ]
  },
  {
   "cell_type": "code",
   "execution_count": 48,
   "metadata": {},
   "outputs": [],
   "source": [
    "df_inven.drop('index',axis=1, inplace=True)\n",
    "df_inven.drop('level_0',axis=1, inplace=True)"
   ]
  },
  {
   "cell_type": "code",
   "execution_count": 50,
   "metadata": {
    "collapsed": true
   },
   "outputs": [],
   "source": [
    "# inven 컬럼 다시조정\n",
    "df_inven = df_inven[['link_id','new_datetime','contents_all']]"
   ]
  },
  {
   "cell_type": "code",
   "execution_count": 51,
   "metadata": {},
   "outputs": [
    {
     "data": {
      "text/html": [
       "<div>\n",
       "<style>\n",
       "    .dataframe thead tr:only-child th {\n",
       "        text-align: right;\n",
       "    }\n",
       "\n",
       "    .dataframe thead th {\n",
       "        text-align: left;\n",
       "    }\n",
       "\n",
       "    .dataframe tbody tr th {\n",
       "        vertical-align: top;\n",
       "    }\n",
       "</style>\n",
       "<table border=\"1\" class=\"dataframe\">\n",
       "  <thead>\n",
       "    <tr style=\"text-align: right;\">\n",
       "      <th></th>\n",
       "      <th>link_id</th>\n",
       "      <th>new_datetime</th>\n",
       "      <th>contents_all</th>\n",
       "    </tr>\n",
       "  </thead>\n",
       "  <tbody>\n",
       "    <tr>\n",
       "      <th>0</th>\n",
       "      <td>1214899</td>\n",
       "      <td>2018-09-06 22:38:00</td>\n",
       "      <td>[오시공] 김정민,문규리,침착맨,네클릿,옥냥이 메피스토 특별방송!,</td>\n",
       "    </tr>\n",
       "    <tr>\n",
       "      <th>1</th>\n",
       "      <td>1215180</td>\n",
       "      <td>2018-09-10 23:57:00</td>\n",
       "      <td>ㅋㅋㅋㅋ 장구벌레,</td>\n",
       "    </tr>\n",
       "    <tr>\n",
       "      <th>2</th>\n",
       "      <td>1215179</td>\n",
       "      <td>2018-09-10 23:52:00</td>\n",
       "      <td>캘타스 뭐가 더 비슷한가요?,타겜이지만 ㅎ.. 고민</td>\n",
       "    </tr>\n",
       "    <tr>\n",
       "      <th>3</th>\n",
       "      <td>1215178</td>\n",
       "      <td>2018-09-10 23:52:00</td>\n",
       "      <td>메피 방금사서 해봤는데 너무사기임....,궁각만 잘재고 쓰면 못해도 더블킬은 따고들...</td>\n",
       "    </tr>\n",
       "    <tr>\n",
       "      <th>4</th>\n",
       "      <td>1215177</td>\n",
       "      <td>2018-09-10 23:50:00</td>\n",
       "      <td>제발 메피는 궁이랑 보호막특 너프 좀...두개가 안되면 궁이라도...,궁자체도 최상...</td>\n",
       "    </tr>\n",
       "  </tbody>\n",
       "</table>\n",
       "</div>"
      ],
      "text/plain": [
       "   link_id        new_datetime  \\\n",
       "0  1214899 2018-09-06 22:38:00   \n",
       "1  1215180 2018-09-10 23:57:00   \n",
       "2  1215179 2018-09-10 23:52:00   \n",
       "3  1215178 2018-09-10 23:52:00   \n",
       "4  1215177 2018-09-10 23:50:00   \n",
       "\n",
       "                                        contents_all  \n",
       "0              [오시공] 김정민,문규리,침착맨,네클릿,옥냥이 메피스토 특별방송!,  \n",
       "1                                         ㅋㅋㅋㅋ 장구벌레,  \n",
       "2                       캘타스 뭐가 더 비슷한가요?,타겜이지만 ㅎ.. 고민  \n",
       "3  메피 방금사서 해봤는데 너무사기임....,궁각만 잘재고 쓰면 못해도 더블킬은 따고들...  \n",
       "4  제발 메피는 궁이랑 보호막특 너프 좀...두개가 안되면 궁이라도...,궁자체도 최상...  "
      ]
     },
     "execution_count": 51,
     "metadata": {},
     "output_type": "execute_result"
    }
   ],
   "source": [
    "df_inven.head()"
   ]
  },
  {
   "cell_type": "markdown",
   "metadata": {},
   "source": [
    "### 데이터 불용어 전처리"
   ]
  },
  {
   "cell_type": "code",
   "execution_count": 56,
   "metadata": {
    "collapsed": true
   },
   "outputs": [],
   "source": [
    "# 정규 표현식\n",
    "p_http = re.compile(\"(((http(s?))\\:\\/\\/)?)([0-9a-zA-Z\\-]+\\.)+[a-zA-Z]{2,6}(\\:[0-9]+)?(\\S*)\")\n",
    "p_char = re.compile(\"[^가-힣ㄱ-ㅎㅏ-ㅣa-zA-Z0-9ㅣ ]\")\n",
    "p_tag = re.compile(\"<.+>\")\n",
    "p_brac = re.compile(\"[[\\]]\")"
   ]
  },
  {
   "cell_type": "code",
   "execution_count": 57,
   "metadata": {
    "collapsed": true
   },
   "outputs": [],
   "source": [
    "# 정규 표현식 함수화\n",
    "\n",
    "def patternRemover(doc):\n",
    "    doc = p_http.sub('', doc)\n",
    "    doc = p_char.sub('', doc)\n",
    "    doc = p_tag.sub('', doc)\n",
    "    doc = p_brac.sub('', doc)\n",
    "    return doc"
   ]
  },
  {
   "cell_type": "code",
   "execution_count": 58,
   "metadata": {
    "collapsed": true
   },
   "outputs": [],
   "source": [
    "for i in range(len(df_battle[\"contents_all\"])):\n",
    "    df_battle.iloc[i,2] = patternRemover(df_battle.iloc[i,2])"
   ]
  },
  {
   "cell_type": "code",
   "execution_count": 59,
   "metadata": {
    "collapsed": true
   },
   "outputs": [],
   "source": [
    "for i in range(len(df_inven[\"contents_all\"])):\n",
    "    df_inven.iloc[i,2] = patternRemover(df_inven.iloc[i,2])"
   ]
  },
  {
   "cell_type": "code",
   "execution_count": 60,
   "metadata": {},
   "outputs": [
    {
     "data": {
      "text/plain": [
       "'ㅋㅋㅋㅋ 장구벌레'"
      ]
     },
     "execution_count": 60,
     "metadata": {},
     "output_type": "execute_result"
    }
   ],
   "source": [
    "df_inven.iloc[1,2]"
   ]
  },
  {
   "cell_type": "code",
   "execution_count": 62,
   "metadata": {},
   "outputs": [
    {
     "data": {
      "text/plain": [
       "link_id                                                   1099078\n",
       "new_datetime                                  2017-12-07 12:43:00\n",
       "contents_all    움짤다수 설명충 워3 드레드 로드를 아라보자드레드로드직업명종족은 나스레짐기본 스킬 ...\n",
       "Name: 100000, dtype: object"
      ]
     },
     "execution_count": 62,
     "metadata": {},
     "output_type": "execute_result"
    }
   ],
   "source": [
    "df_inven.loc[100000]"
   ]
  },
  {
   "cell_type": "code",
   "execution_count": 61,
   "metadata": {
    "scrolled": true
   },
   "outputs": [
    {
     "data": {
      "text/html": [
       "<div>\n",
       "<style>\n",
       "    .dataframe thead tr:only-child th {\n",
       "        text-align: right;\n",
       "    }\n",
       "\n",
       "    .dataframe thead th {\n",
       "        text-align: left;\n",
       "    }\n",
       "\n",
       "    .dataframe tbody tr th {\n",
       "        vertical-align: top;\n",
       "    }\n",
       "</style>\n",
       "<table border=\"1\" class=\"dataframe\">\n",
       "  <thead>\n",
       "    <tr style=\"text-align: right;\">\n",
       "      <th></th>\n",
       "      <th>link_id</th>\n",
       "      <th>new_datetime</th>\n",
       "      <th>contents_all</th>\n",
       "    </tr>\n",
       "  </thead>\n",
       "  <tbody>\n",
       "    <tr>\n",
       "      <th>5000</th>\n",
       "      <td>4564607018</td>\n",
       "      <td>2017-05-12 11:42:00</td>\n",
       "      <td>히오스 밸런스패치에 대한 개인적인 요구현재 무빙캐릭터로 인한 밸런스문제가 적잖아 있...</td>\n",
       "    </tr>\n",
       "  </tbody>\n",
       "</table>\n",
       "</div>"
      ],
      "text/plain": [
       "         link_id        new_datetime  \\\n",
       "5000  4564607018 2017-05-12 11:42:00   \n",
       "\n",
       "                                           contents_all  \n",
       "5000  히오스 밸런스패치에 대한 개인적인 요구현재 무빙캐릭터로 인한 밸런스문제가 적잖아 있...  "
      ]
     },
     "execution_count": 61,
     "metadata": {},
     "output_type": "execute_result"
    }
   ],
   "source": [
    "df_battle[5000:5001]"
   ]
  },
  {
   "cell_type": "markdown",
   "metadata": {},
   "source": [
    "### 데이터 합치기"
   ]
  },
  {
   "cell_type": "code",
   "execution_count": 65,
   "metadata": {},
   "outputs": [],
   "source": [
    "df_all = pd.concat([df_battle, df_inven])"
   ]
  },
  {
   "cell_type": "code",
   "execution_count": 67,
   "metadata": {},
   "outputs": [],
   "source": [
    "df_all.reset_index(inplace=True)"
   ]
  },
  {
   "cell_type": "code",
   "execution_count": 68,
   "metadata": {},
   "outputs": [],
   "source": [
    "df_all.drop('index', axis=1, inplace=True)"
   ]
  },
  {
   "cell_type": "code",
   "execution_count": 69,
   "metadata": {
    "collapsed": true
   },
   "outputs": [],
   "source": [
    "# 토픽 모델링 관련 라이브러리 로딩\n",
    "import gensim \n",
    "import gensim.corpora as corpora\n",
    "from gensim.utils import simple_preprocess\n",
    "from gensim.models import CoherenceModel\n",
    "from gensim.models import LdaModel\n",
    "\n",
    "# 시각화 라이브러리\n",
    "from pprint import pprint\n",
    "import pyLDAvis\n",
    "from pyLDAvis import gensim"
   ]
  },
  {
   "cell_type": "code",
   "execution_count": 70,
   "metadata": {
    "collapsed": true
   },
   "outputs": [],
   "source": [
    "# 토크나이징 라이브러리\n",
    "import MeCab\n",
    "m = MeCab.Tagger('-d /usr/local/lib/mecab/dic/mecab-ko-dic')\n",
    "from konlpy.tag import Mecab\n",
    "mecab = Mecab()"
   ]
  },
  {
   "cell_type": "code",
   "execution_count": 71,
   "metadata": {
    "scrolled": true
   },
   "outputs": [
    {
     "name": "stdout",
     "output_type": "stream",
     "text": [
      "[['아바투르', '유저', '하나', '아바투르', '유저', '하나', '하나무라', '이것', '자체', '그게', '목적', '아바투르', '화물', '민폐', '대전', '일반', '등급', '고르지', '아바투르', '제한', '해결', '상황', '발생', '이건', '아바투르'], ['매칭', '시스템', '생각', '문제', '매칭', '연패', '처사', '며칠', '연승', '건가요', '팀원', '적군', '플레이어', '매칭', '팀원', '적과', '히어로즈', '오브', '스톰', '캐리', '작용', '게임', '플레이어', '경험', '공유', '때문', '혼자', '성장', '캐리', '개념', '혼자', '딴짓', '팀원', '영향', '이야기', '초보자', '팀원', '게임', '게임', '레이팅', '유저', '공평', '처사', '플레이', '팀원', '때문', '연속', '패배', '실망감', '우리', '생각', '매칭', '승부', '승패', '허탈', '승부', '게임', '승부', '조합', '승패', '결정', '게임', '적군', '아군', '초보', '게임', '중국어', '닉네임', '승패', '게임', '제게', '공정', '세계', '아시아', '유저', '게임', '권리', '서로', '실력', '감탄', '승부', '패배', '아군', '책망', '상대', '실력', '감탄', '게임', '지금', '매칭', '시스템', '문제', '여러분', '시행착오', '믿음', '해결책', '모두', '히오스'], ['매칭', '때문', '게임', '강등전', '매칭', '시스템', '동안', '블리자드', '히오스', '사랑', '요즘', '인성', '파탄', '정도', '지경', '매칭', '밸런스', '시스템', '게임', '욕구', '사랑', '올해'], ['아나', '스킨', '관련', '스킨', '살무사', '아나', '수면', '고정', '스킨', '처음', '스킨', '대로', '평타', '수면', '부분'], ['승률', '집착', '매칭', '밸런스', '파괴', '무간지옥', '승률', '조합', '사이', '개판', '이상', '리메이크', '예전', '병신', '밸런스', '출시', '누가', '게임', '유입', '공산주의', '게임', '바람', '승률', '사람'], ['영웅', '리그', '매칭', '대만', '대만인', '새끼', '매칭', '머저리', '새끼', '건데', '영웅', '리그', '대만인', '새끼'], ['신영웅', '기존', '영웅', '신영웅', '기존', '영웅', '건지', '발리라', '리메이크', '패치', '영웅', '발리라', '칼질', '겐지', '건가요', '겐지', '동안', '영웅', '리그', '정도', '정도', '짐작', '게임', '운영', '장르', '게임', '동네', '캐릭터', '여긴', '운영', '자분', '겐지', '장인'], ['리메이크', '삭제', '광도', '리메이크', '하나', '리메이크', '블랙하트', '예전', '리메이크', '삭제', '까마귀', '하나', '광산', '양반', '광산', '오브젝트', '싸움', '의미', '때문', '무한', '호박', '하나'], ['히오스', '영웅', '리그', '개선', '이전', '영웅', '리그', '문제', '정리', '가지', '대전', '시점', '배치', '고사', '시작', '시즌', '시작', '시즌', '마지막', '트롤링', '제재', '다이아', '그랜드마스터', '티어', '매칭', '시간', '고질', '문제', '게임', '일반', '게임', '등급', '경우', '도타', '게임', '정보', '부족', '게임', '매칭', '일반', '게임', '내용', '이것', '배치', '경기', '의미', '자체', '겁니다', '시점', '골드', '대인', '배치', '경기', '변동', '등급', '배정', '이번', '패치', '신규', '유저', '최대', '티어', '한도', '패치', '이것', '패치', '생각', '시즌', '동안', '대전', '정도', '다이아몬드', '마스터', '유저', '유저', '신규', '유저', '배치', '때문', '적용', '시즌', '초기', '배치', '승률', '다이아', '경우', '발생', '그랜드마스터', '인원', '한정', '논외', '아래', '티어', '마스터', '단계', '작업', '유저', '다이아', '레티', '티어', '포진', '급전', '시작', '다음', '시즌', '올해', '분기', '시즌', '대대', '영웅', '리그', '개편', '유저', '티어', '고정', '으로', '리셋', '자신', '실력', '티어', '배정', '게임', '이때', '경기', '히오스', '게임', '영웅', '리그', '트롤', '게임', '승패', '생각', '게임', '허탈감', '경우', '푸념', '피드백', '본사', '피드백', '부서', '공유', '감사', '영문'], ['영웅', '선택', '버그', '영웅', '선택', '시작', '영웅', '시작', '최근']]\n"
     ]
    }
   ],
   "source": [
    "tokens_all = []\n",
    "\n",
    "for i in list(df_all[\"contents_all\"]):\n",
    "    k = mecab.nouns(i)\n",
    "    tokens = []    \n",
    "    for j in range(len(k)):\n",
    "        if len(k[j]) > 1:\n",
    "            tokens.append(k[j])\n",
    "        else:\n",
    "            continue\n",
    "    tokens_all.append(tokens)\n",
    "    \n",
    "print(tokens_all[:10])"
   ]
  },
  {
   "cell_type": "code",
   "execution_count": 72,
   "metadata": {
    "collapsed": true
   },
   "outputs": [],
   "source": [
    "tokens_df = pd.DataFrame({\"tokens\":tokens_all})"
   ]
  },
  {
   "cell_type": "code",
   "execution_count": 73,
   "metadata": {
    "scrolled": true
   },
   "outputs": [
    {
     "data": {
      "text/html": [
       "<div>\n",
       "<style>\n",
       "    .dataframe thead tr:only-child th {\n",
       "        text-align: right;\n",
       "    }\n",
       "\n",
       "    .dataframe thead th {\n",
       "        text-align: left;\n",
       "    }\n",
       "\n",
       "    .dataframe tbody tr th {\n",
       "        vertical-align: top;\n",
       "    }\n",
       "</style>\n",
       "<table border=\"1\" class=\"dataframe\">\n",
       "  <thead>\n",
       "    <tr style=\"text-align: right;\">\n",
       "      <th></th>\n",
       "      <th>tokens</th>\n",
       "    </tr>\n",
       "  </thead>\n",
       "  <tbody>\n",
       "    <tr>\n",
       "      <th>0</th>\n",
       "      <td>[아바투르, 유저, 하나, 아바투르, 유저, 하나, 하나무라, 이것, 자체, 그게,...</td>\n",
       "    </tr>\n",
       "    <tr>\n",
       "      <th>1</th>\n",
       "      <td>[매칭, 시스템, 생각, 문제, 매칭, 연패, 처사, 며칠, 연승, 건가요, 팀원,...</td>\n",
       "    </tr>\n",
       "    <tr>\n",
       "      <th>2</th>\n",
       "      <td>[매칭, 때문, 게임, 강등전, 매칭, 시스템, 동안, 블리자드, 히오스, 사랑, ...</td>\n",
       "    </tr>\n",
       "    <tr>\n",
       "      <th>3</th>\n",
       "      <td>[아나, 스킨, 관련, 스킨, 살무사, 아나, 수면, 고정, 스킨, 처음, 스킨, ...</td>\n",
       "    </tr>\n",
       "    <tr>\n",
       "      <th>4</th>\n",
       "      <td>[승률, 집착, 매칭, 밸런스, 파괴, 무간지옥, 승률, 조합, 사이, 개판, 이상...</td>\n",
       "    </tr>\n",
       "  </tbody>\n",
       "</table>\n",
       "</div>"
      ],
      "text/plain": [
       "                                              tokens\n",
       "0  [아바투르, 유저, 하나, 아바투르, 유저, 하나, 하나무라, 이것, 자체, 그게,...\n",
       "1  [매칭, 시스템, 생각, 문제, 매칭, 연패, 처사, 며칠, 연승, 건가요, 팀원,...\n",
       "2  [매칭, 때문, 게임, 강등전, 매칭, 시스템, 동안, 블리자드, 히오스, 사랑, ...\n",
       "3  [아나, 스킨, 관련, 스킨, 살무사, 아나, 수면, 고정, 스킨, 처음, 스킨, ...\n",
       "4  [승률, 집착, 매칭, 밸런스, 파괴, 무간지옥, 승률, 조합, 사이, 개판, 이상..."
      ]
     },
     "execution_count": 73,
     "metadata": {},
     "output_type": "execute_result"
    }
   ],
   "source": [
    "tokens_df.head()"
   ]
  },
  {
   "cell_type": "code",
   "execution_count": 74,
   "metadata": {},
   "outputs": [
    {
     "data": {
      "text/plain": [
       "153208"
      ]
     },
     "execution_count": 74,
     "metadata": {},
     "output_type": "execute_result"
    }
   ],
   "source": [
    "len(tokens_all)"
   ]
  },
  {
   "cell_type": "code",
   "execution_count": 75,
   "metadata": {
    "collapsed": true
   },
   "outputs": [],
   "source": [
    "df_all[\"tokens_contents\"] = tokens_all"
   ]
  },
  {
   "cell_type": "code",
   "execution_count": 76,
   "metadata": {
    "collapsed": true
   },
   "outputs": [],
   "source": [
    "id2word = corpora.Dictionary(df_all[\"tokens_contents\"])"
   ]
  },
  {
   "cell_type": "code",
   "execution_count": 77,
   "metadata": {
    "collapsed": true
   },
   "outputs": [],
   "source": [
    "texts = df_all[\"tokens_contents\"]"
   ]
  },
  {
   "cell_type": "code",
   "execution_count": 78,
   "metadata": {},
   "outputs": [
    {
     "name": "stdout",
     "output_type": "stream",
     "text": [
      "[[(0, 2), (1, 1), (2, 5), (3, 1), (4, 1), (5, 1), (6, 1), (7, 1), (8, 1), (9, 1), (10, 1), (11, 1), (12, 1), (13, 1), (14, 1), (15, 1), (16, 1), (17, 2), (18, 1)]]\n"
     ]
    }
   ],
   "source": [
    "corpus = [id2word.doc2bow(text) for text in texts]\n",
    "\n",
    "print(corpus[:1])"
   ]
  },
  {
   "cell_type": "code",
   "execution_count": 79,
   "metadata": {},
   "outputs": [
    {
     "data": {
      "text/plain": [
       "'유저'"
      ]
     },
     "execution_count": 79,
     "metadata": {},
     "output_type": "execute_result"
    }
   ],
   "source": [
    "id2word[0]"
   ]
  },
  {
   "cell_type": "code",
   "execution_count": 80,
   "metadata": {
    "scrolled": true
   },
   "outputs": [
    {
     "data": {
      "text/plain": [
       "[[('유저', 2),\n",
       "  ('제한', 1),\n",
       "  ('아바투르', 5),\n",
       "  ('하나무라', 1),\n",
       "  ('목적', 1),\n",
       "  ('상황', 1),\n",
       "  ('민폐', 1),\n",
       "  ('그게', 1),\n",
       "  ('대전', 1),\n",
       "  ('이건', 1),\n",
       "  ('자체', 1),\n",
       "  ('고르지', 1),\n",
       "  ('등급', 1),\n",
       "  ('일반', 1),\n",
       "  ('이것', 1),\n",
       "  ('발생', 1),\n",
       "  ('화물', 1),\n",
       "  ('하나', 2),\n",
       "  ('해결', 1)]]"
      ]
     },
     "execution_count": 80,
     "metadata": {},
     "output_type": "execute_result"
    }
   ],
   "source": [
    "# Human readable format of corpus (term-frequency)\n",
    "[[(id2word[id], freq) for id, freq in cp] for cp in corpus[:1]]"
   ]
  },
  {
   "cell_type": "markdown",
   "metadata": {},
   "source": [
    "alpha = 50/T, beta= 0.1이 최상의 퍼포먼스를 낸다는 결과 (Finding scientific topics 참고)"
   ]
  },
  {
   "cell_type": "code",
   "execution_count": 103,
   "metadata": {},
   "outputs": [
    {
     "name": "stdout",
     "output_type": "stream",
     "text": [
      "CPU times: user 59min 52s, sys: 2min 4s, total: 1h 1min 57s\n",
      "Wall time: 1h 2min 24s\n"
     ]
    }
   ],
   "source": [
    "# Build LDA model\n",
    "\n",
    "%time lda_model = LdaModel(corpus=corpus, id2word=id2word, num_topics=8, random_state=100, \\\n",
    "                                                  update_every=1, \\\n",
    "                                                  chunksize=100,\\\n",
    "                                                  passes=10, \\\n",
    "                                                  alpha='auto', \\\n",
    "                                                  per_word_topics=True)"
   ]
  },
  {
   "cell_type": "code",
   "execution_count": 104,
   "metadata": {},
   "outputs": [
    {
     "name": "stdout",
     "output_type": "stream",
     "text": [
      "[(0,\n",
      "  '0.041*\"하나\" + 0.027*\"때문\" + 0.024*\"이거\" + 0.014*\"다음\" + 0.013*\"필요\" + 0.012*\"이것\" '\n",
      "  '+ 0.011*\"결과\" + 0.010*\"경기\" + 0.009*\"개인\" + 0.009*\"어디\"'),\n",
      " (1,\n",
      "  '0.022*\"렉사르\" + 0.020*\"트롤\" + 0.020*\"영상\" + 0.017*\"이야기\" + 0.015*\"내용\" + '\n",
      "  '0.015*\"정치\" + 0.014*\"서버\" + 0.013*\"플레이어\" + 0.012*\"채팅\" + 0.011*\"한판\"'),\n",
      " (2,\n",
      "  '0.022*\"이번\" + 0.017*\"인벤\" + 0.017*\"스타\" + 0.016*\"대회\" + 0.013*\"와우\" + 0.011*\"오늘\" '\n",
      "  '+ 0.010*\"호드\" + 0.009*\"여자\" + 0.009*\"건가요\" + 0.008*\"여러분\"'),\n",
      " (3,\n",
      "  '0.025*\"노바\" + 0.023*\"제이나\" + 0.020*\"겐지\" + 0.018*\"평타\" + 0.018*\"레이너\" + '\n",
      "  '0.015*\"바리안\" + 0.014*\"일리단\" + 0.012*\"체력\" + 0.012*\"버프\" + 0.012*\"리밍\"'),\n",
      " (4,\n",
      "  '0.040*\"시즌\" + 0.037*\"배치\" + 0.034*\"시작\" + 0.033*\"티어\" + 0.023*\"마스터\" + '\n",
      "  '0.019*\"방송\" + 0.017*\"친구\" + 0.017*\"다이아\" + 0.016*\"골드\" + 0.015*\"상자\"'),\n",
      " (5,\n",
      "  '0.045*\"영웅\" + 0.029*\"스킨\" + 0.028*\"특성\" + 0.019*\"스킬\" + 0.015*\"레오릭\" + '\n",
      "  '0.015*\"가로쉬\" + 0.014*\"가능\" + 0.010*\"워크\" + 0.009*\"증가\" + 0.009*\"켈투자드\"'),\n",
      " (6,\n",
      "  '0.059*\"히오스\" + 0.045*\"게임\" + 0.041*\"생각\" + 0.037*\"사람\" + 0.025*\"정도\" + '\n",
      "  '0.023*\"영리\" + 0.016*\"우리\" + 0.016*\"문제\" + 0.015*\"이상\" + 0.014*\"패치\"'),\n",
      " (7,\n",
      "  '0.032*\"지원\" + 0.032*\"모랄\" + 0.031*\"라인\" + 0.029*\"아군\" + 0.028*\"상대\" + 0.027*\"조합\" '\n",
      "  '+ 0.027*\"딜러\" + 0.024*\"탱커\" + 0.021*\"크로미\" + 0.021*\"캐릭\"')]\n"
     ]
    }
   ],
   "source": [
    "pprint(lda_model.print_topics())\n",
    "doc_lda = lda_model[corpus]"
   ]
  },
  {
   "cell_type": "markdown",
   "metadata": {},
   "source": [
    "### select number of topic"
   ]
  },
  {
   "cell_type": "code",
   "execution_count": 88,
   "metadata": {},
   "outputs": [
    {
     "name": "stdout",
     "output_type": "stream",
     "text": [
      "\n",
      "Perplexity:  -9.672913483077945\n",
      "\n",
      "Coherence Score_c_v:  0.42020978910097234\n"
     ]
    }
   ],
   "source": [
    "# Compute Perplexity\n",
    "print('\\nPerplexity: ', lda_model.log_perplexity(corpus)) # a measure of how good the model is. lower the better.\n",
    " \n",
    "# Compute Coherence Score using c_v\n",
    "coherence_model_lda = CoherenceModel(model=lda_model, texts=df_all[\"tokens_contents\"], dictionary=id2word, coherence='c_v')\n",
    "coherence_lda = coherence_model_lda.get_coherence()\n",
    "print('\\nCoherence Score_c_v: ', coherence_lda)"
   ]
  },
  {
   "cell_type": "code",
   "execution_count": null,
   "metadata": {
    "collapsed": true
   },
   "outputs": [],
   "source": [
    "# Compute Coherence Score using UMass\n",
    "coherence_model_lda = CoherenceModel(model=lda_model, texts=df_battle[\"tokens_contents\"], dictionary=id2word, coherence=\"u_mass\")\n",
    "coherence_lda = coherence_model_lda.get_coherence()\n",
    "print('\\nCoherence Score_u_mass: ', coherence_lda)"
   ]
  },
  {
   "cell_type": "code",
   "execution_count": 89,
   "metadata": {
    "collapsed": true
   },
   "outputs": [],
   "source": [
    "def compute_coherence_values(dictionary, corpus, texts, limit, start=2, step=3):\n",
    "    \"\"\"\n",
    "    Compute c_v coherence for various number of topics\n",
    "\n",
    "    Parameters:\n",
    "    ----------\n",
    "    dictionary : Gensim dictionary\n",
    "    corpus : Gensim corpus\n",
    "    texts : List of input texts\n",
    "    limit : Max num of topics\n",
    "\n",
    "    Returns:\n",
    "    -------\n",
    "    model_list : List of LDA topic models\n",
    "    coherence_values : Coherence values corresponding to the LDA model with respective number of topics\n",
    "    \"\"\"\n",
    "    coherence_values = []\n",
    "    model_list = []\n",
    "    for num_topics in range(start, limit, step):\n",
    "        model=LdaModel(corpus=corpus, id2word=dictionary, num_topics=num_topics)\n",
    "        model_list.append(model)\n",
    "        coherencemodel = CoherenceModel(model=model, texts=texts, dictionary=dictionary, coherence='c_v')\n",
    "        coherence_values.append(coherencemodel.get_coherence())\n",
    "\n",
    "    return model_list, coherence_values"
   ]
  },
  {
   "cell_type": "code",
   "execution_count": 91,
   "metadata": {
    "scrolled": true
   },
   "outputs": [],
   "source": [
    "model_list, coherence_values = compute_coherence_values(dictionary=id2word, corpus=corpus, texts=df_all[\"tokens_contents\"], start=2, limit=100, step=6)"
   ]
  },
  {
   "cell_type": "code",
   "execution_count": 126,
   "metadata": {
    "scrolled": false
   },
   "outputs": [
    {
     "data": {
      "image/png": "[encoded data removed]",
      "text/plain": [
       "<matplotlib.figure.Figure at 0x159b08f60>"
      ]
     },
     "metadata": {},
     "output_type": "display_data"
    }
   ],
   "source": [
    "# Show graph\n",
    "import matplotlib.pyplot as plt\n",
    "\n",
    "limit=100; start=2; step=6;\n",
    "x = range(start, limit, step)\n",
    "\n",
    "plt.plot(x, coherence_values)\n",
    "   \n",
    "plt.xlabel(\"Num Topics\")\n",
    "plt.ylabel(\"Coherence score\")\n",
    "plt.legend((\"coherence_values\"), loc='best')\n",
    "plt.show()"
   ]
  },
  {
   "cell_type": "code",
   "execution_count": 102,
   "metadata": {
    "scrolled": true
   },
   "outputs": [
    {
     "name": "stdout",
     "output_type": "stream",
     "text": [
      "Num Topics = 2  has Coherence Value of 0.516\n",
      "Num Topics = 8  has Coherence Value of 0.5631\n",
      "Num Topics = 14  has Coherence Value of 0.5258\n",
      "Num Topics = 20  has Coherence Value of 0.4602\n",
      "Num Topics = 26  has Coherence Value of 0.4734\n",
      "Num Topics = 32  has Coherence Value of 0.4567\n",
      "Num Topics = 38  has Coherence Value of 0.4349\n",
      "Num Topics = 44  has Coherence Value of 0.4211\n",
      "Num Topics = 50  has Coherence Value of 0.4346\n",
      "Num Topics = 56  has Coherence Value of 0.4123\n",
      "Num Topics = 62  has Coherence Value of 0.4233\n",
      "Num Topics = 68  has Coherence Value of 0.4156\n",
      "Num Topics = 74  has Coherence Value of 0.418\n",
      "Num Topics = 80  has Coherence Value of 0.4186\n",
      "Num Topics = 86  has Coherence Value of 0.4148\n",
      "Num Topics = 92  has Coherence Value of 0.4075\n",
      "Num Topics = 98  has Coherence Value of 0.424\n"
     ]
    }
   ],
   "source": [
    "for m, cv in zip(x, coherence_values):\n",
    "    print(\"Num Topics =\", m, \" has Coherence Value of\", round(cv, 4))"
   ]
  },
  {
   "cell_type": "markdown",
   "metadata": {},
   "source": [
    "문서 갯수를 8로 선택합니다,"
   ]
  },
  {
   "cell_type": "code",
   "execution_count": 105,
   "metadata": {
    "scrolled": false
   },
   "outputs": [
    {
     "data": {
      "text/html": [
       "\n",
       "<link rel=\"stylesheet\" type=\"text/css\" href=\"https://cdn.rawgit.com/bmabey/pyLDAvis/files/ldavis.v1.0.0.css\">\n",
       "\n",
       "\n",
       "<div id=\"ldavis_el317951522310009324768123\"></div>\n",
       "<script type=\"text/javascript\">\n",
       "\n",
       "var ldavis_el317951522310009324768123_data = {\"tinfo\": {\"Total\": [24388.0, 18362.0, 17690.0, 17018.0, 15247.0, 11447.0, 11378.0, 11165.0, 6961.0, 6943.0, 5518.0, 6657.0, 9292.0, 7383.0, 11348.0, 6295.0, 6184.0, 5086.0, 6784.0, 5915.0, 6555.0, 5777.0, 4689.0, 7659.0, 6134.0, 4512.0, 5209.0, 5506.0, 5579.0, 8750.0, 24388.38200270456, 18362.303300191128, 17018.632894162678, 15247.63683872109, 9292.538279086764, 6417.18925579776, 5313.5117307720175, 5096.905825609694, 4722.804670959567, 4174.023632051177, 4023.106745709016, 3745.279890494329, 3286.0137684806305, 3275.7869088099587, 3236.888714626269, 3029.90751681968, 3012.154448452334, 2864.3145019248454, 2819.789481971784, 2743.240167275903, 2687.3609524659855, 2603.341900659137, 2527.280365231137, 2470.9141948510064, 2458.902597962338, 2418.0797594409464, 2407.4093222926467, 2311.67168443444, 2275.200566077807, 2258.470661420562, 6348.69518805823, 5899.5397129186795, 4457.385850482955, 11348.857443362658, 3549.229517018308, 4174.356142745055, 8750.187887476059, 8557.310643388655, 17690.725176169388, 11378.205236105227, 11165.904315950493, 7659.076427684265, 5997.585505637882, 5926.18497477504, 4026.8872049891497, 3418.0935638765527, 3380.599293688363, 3111.6758526441727, 3085.835182502232, 3045.1158443613745, 3017.078329381276, 2935.364230515605, 2864.875726310703, 2711.039758201397, 2643.2400459923633, 2545.227961412498, 2532.938843583057, 2463.4185830722695, 2394.0012199162675, 2358.23732092208, 2320.192785704208, 2213.771039242741, 2149.7754721845135, 2112.687899518432, 2037.4034246857766, 2009.717815060303, 1998.7628091065112, 1990.6445288141272, 6496.671174325879, 8557.310643388655, 11447.034720550146, 7383.995290457362, 6555.119528771672, 3945.6930592366525, 3695.876419753353, 3201.6861105717658, 2924.140893027912, 2776.2862130074864, 2575.762234255476, 2500.8583339450493, 2266.21109661725, 2222.954640013828, 2205.1186214230142, 2157.6953989892213, 2058.904290098984, 2051.261609607087, 2035.1060725951556, 2019.4956746036494, 2017.8839930605056, 2000.8091873452101, 1992.8903493622954, 1941.8882639350543, 1938.4947283705249, 1890.0903809246063, 1689.8080600830233, 1665.3447398383894, 1657.9039448360627, 1648.6818550970338, 1580.5885238958767, 1568.1095085411866, 6784.673928943771, 6134.277954660189, 5506.929569934077, 4899.5519989631475, 4748.567350615396, 4003.36942088832, 3888.7834389604063, 3202.6647623456774, 3132.1957806756573, 3104.5558555655566, 2977.0374105235355, 2900.7554893276124, 2880.227168888849, 2599.5370798745716, 2584.671487944706, 2437.4361110669392, 2427.0227741533467, 2383.404121693893, 2072.4084393201574, 2013.9836441238983, 1884.8713647955683, 1883.5263750584008, 1833.0528395756887, 1810.7119691799005, 1810.0802352822536, 1766.295075587406, 1764.083856702623, 1676.7866110989685, 1659.6352394441835, 1576.3957265028066, 3982.8226309598667, 6961.076820206112, 6943.157277234612, 6657.5432711893745, 6295.4286389747585, 6184.657146963954, 5915.294395869766, 5777.857509988865, 5209.946772281251, 4547.8609287771405, 4493.92776205047, 4282.220189204693, 3842.9359306022047, 3820.112739799711, 2656.8986999848753, 2451.6821106975754, 2296.6447725158937, 2179.1106372151285, 2104.5873129111324, 1983.1094199049608, 1955.2603968533695, 1939.824973179604, 1930.04739075964, 1911.8482195637325, 1891.0774382319498, 1887.901094020273, 1734.0561459101991, 1582.0702791073256, 1514.8134106150208, 1504.1322287961048, 1460.5390165147437, 3868.7098027808433, 8750.187887476059, 3189.223318097536, 3176.919309474793, 2976.4687881238765, 2501.379752039241, 2064.5506234601467, 1813.6334617558155, 1653.9067897430084, 1622.043869981982, 1552.7109677680849, 1464.1005388271465, 1465.117363320004, 1442.8047245683463, 1422.712490996973, 1275.1193114148955, 1253.1917972523042, 1223.5761353594517, 1186.5455235998506, 1163.7749521003097, 1067.9944485222518, 970.563923528783, 966.2482422947321, 952.0860437707884, 938.419088481404, 923.9684705710179, 902.4958492075127, 898.4762516130805, 898.4888695213737, 881.3714999846401, 856.9511264186643, 810.3609102706731, 1222.8993309115422, 5579.768438342067, 5518.431912418685, 5086.358801037286, 4689.392426856018, 4512.84807680224, 3100.5064016238, 2529.0239313327847, 2330.020652955663, 2277.9733338858123, 2177.00098583709, 2097.701883732974, 2093.092852725858, 1835.0934350791713, 1696.9860324325546, 1599.9803721688922, 1581.289995740713, 1469.9946902847157, 1196.1829091025736, 1188.9133583665873, 1174.1132460843398, 1150.4920834340555, 1075.6752141205218, 977.9050861778826, 966.8518095498108, 919.5075678387067, 941.7483511874098, 902.7526837331203, 833.1235812864079, 795.4635322108915, 731.9652664477967, 733.3178548358577, 5579.768438342067, 2641.3091418522936, 2373.9099762986634, 2310.6128512237556, 1963.9174070245083, 1828.8190275841282, 1724.018807786698, 1637.0650516672279, 1546.4683011617587, 1463.7633608726944, 1353.9606948487663, 1219.1529905673062, 1108.3754008451306, 1024.8074573558058, 1009.5315319246278, 922.9964055576514, 906.3277040438717, 896.8832155670544, 852.9049807164794, 836.3851528249421, 821.6225386326462, 782.2979219245489, 760.561882363687, 758.6759621243494, 739.6310418951285, 723.1569944874506, 712.2847390994042, 709.796374079483, 700.3161991153024, 664.1742590277029, 657.938635197719], \"logprob\": [30.0, 29.0, 28.0, 27.0, 26.0, 25.0, 24.0, 23.0, 22.0, 21.0, 20.0, 19.0, 18.0, 17.0, 16.0, 15.0, 14.0, 13.0, 12.0, 11.0, 10.0, 9.0, 8.0, 7.0, 6.0, 5.0, 4.0, 3.0, 2.0, 1.0, -2.8258, -3.1096, -3.1856, -3.2955, -3.7907, -4.161, -4.3498, -4.3914, -4.4676, -4.5912, -4.628, -4.6996, -4.8305, -4.8336, -4.8455, -4.9116, -4.9175, -4.9678, -4.9835, -5.011, -5.0316, -5.0634, -5.0931, -5.1156, -5.1205, -5.1373, -5.1417, -5.1823, -5.1982, -5.2056, -4.1791, -4.2538, -4.5366, -3.6803, -4.7867, -4.6499, -4.1466, -4.3331, -3.104, -3.5453, -3.5642, -3.9412, -4.1857, -4.1977, -4.5842, -4.7481, -4.7592, -4.8421, -4.8504, -4.8637, -4.873, -4.9004, -4.9247, -4.98, -5.0053, -5.0431, -5.0479, -5.0758, -5.1044, -5.1194, -5.1357, -5.1827, -5.212, -5.2294, -5.2657, -5.2794, -5.2849, -5.289, -4.3, -4.828, -3.1858, -3.6243, -3.7434, -4.2511, -4.3165, -4.4601, -4.5508, -4.6027, -4.6777, -4.7072, -4.8058, -4.825, -4.8331, -4.8549, -4.9017, -4.9055, -4.9134, -4.9211, -4.9219, -4.9304, -4.9343, -4.9603, -4.962, -4.9873, -5.0994, -5.114, -5.1185, -5.124, -5.1663, -5.1742, -3.6787, -3.7795, -3.8874, -4.0043, -4.0356, -4.2063, -4.2354, -4.4295, -4.4518, -4.4607, -4.5026, -4.5286, -4.5357, -4.6382, -4.644, -4.7027, -4.7069, -4.7251, -4.865, -4.8936, -4.9599, -4.9606, -4.9877, -5.0, -5.0004, -5.0249, -5.0261, -5.0769, -5.0872, -5.1387, -4.4281, -3.443, -3.4456, -3.4876, -3.5435, -3.5613, -3.6058, -3.6293, -3.7328, -3.8687, -3.8807, -3.9289, -4.0372, -4.0432, -4.4064, -4.4868, -4.5521, -4.6047, -4.6395, -4.699, -4.7131, -4.7211, -4.7261, -4.7356, -4.7465, -4.7482, -4.8333, -4.925, -4.9685, -4.9756, -5.005, -4.4384, -4.5767, -4.0788, -4.0826, -4.1478, -4.3218, -4.5138, -4.6434, -4.7357, -4.7551, -4.7988, -4.8576, -4.8569, -4.8723, -4.8863, -4.9959, -5.0133, -5.0372, -5.068, -5.0874, -5.1733, -5.2691, -5.2735, -5.2883, -5.3028, -5.3183, -5.3418, -5.3463, -5.3463, -5.3656, -5.3937, -5.4496, -5.0568, -3.8166, -3.2092, -3.2907, -3.372, -3.4104, -3.7858, -3.9896, -4.0716, -4.0942, -4.1396, -4.1767, -4.1789, -4.3105, -4.3888, -4.4477, -4.4595, -4.5325, -4.7387, -4.7448, -4.7574, -4.7777, -4.845, -4.9404, -4.9518, -5.002, -4.9781, -5.0204, -5.1008, -5.1471, -5.2304, -5.2285, -4.5559, -3.8, -3.9067, -3.9338, -4.0964, -4.1677, -4.2268, -4.2785, -4.3355, -4.3905, -4.4685, -4.5735, -4.6688, -4.7473, -4.7623, -4.852, -4.8702, -4.8807, -4.931, -4.9506, -4.9684, -5.0175, -5.0458, -5.0482, -5.0737, -5.0962, -5.1114, -5.1149, -5.1284, -5.1814, -5.1909], \"Category\": [\"Default\", \"Default\", \"Default\", \"Default\", \"Default\", \"Default\", \"Default\", \"Default\", \"Default\", \"Default\", \"Default\", \"Default\", \"Default\", \"Default\", \"Default\", \"Default\", \"Default\", \"Default\", \"Default\", \"Default\", \"Default\", \"Default\", \"Default\", \"Default\", \"Default\", \"Default\", \"Default\", \"Default\", \"Default\", \"Default\", \"Topic1\", \"Topic1\", \"Topic1\", \"Topic1\", \"Topic1\", \"Topic1\", \"Topic1\", \"Topic1\", \"Topic1\", \"Topic1\", \"Topic1\", \"Topic1\", \"Topic1\", \"Topic1\", \"Topic1\", \"Topic1\", \"Topic1\", \"Topic1\", \"Topic1\", \"Topic1\", \"Topic1\", \"Topic1\", \"Topic1\", \"Topic1\", \"Topic1\", \"Topic1\", \"Topic1\", \"Topic1\", \"Topic1\", \"Topic1\", \"Topic1\", \"Topic1\", \"Topic1\", \"Topic1\", \"Topic1\", \"Topic1\", \"Topic1\", \"Topic1\", \"Topic2\", \"Topic2\", \"Topic2\", \"Topic2\", \"Topic2\", \"Topic2\", \"Topic2\", \"Topic2\", \"Topic2\", \"Topic2\", \"Topic2\", \"Topic2\", \"Topic2\", \"Topic2\", \"Topic2\", \"Topic2\", \"Topic2\", \"Topic2\", \"Topic2\", \"Topic2\", \"Topic2\", \"Topic2\", \"Topic2\", \"Topic2\", \"Topic2\", \"Topic2\", \"Topic2\", \"Topic2\", \"Topic2\", \"Topic2\", \"Topic2\", \"Topic2\", \"Topic3\", \"Topic3\", \"Topic3\", \"Topic3\", \"Topic3\", \"Topic3\", \"Topic3\", \"Topic3\", \"Topic3\", \"Topic3\", \"Topic3\", \"Topic3\", \"Topic3\", \"Topic3\", \"Topic3\", \"Topic3\", \"Topic3\", \"Topic3\", \"Topic3\", \"Topic3\", \"Topic3\", \"Topic3\", \"Topic3\", \"Topic3\", \"Topic3\", \"Topic3\", \"Topic3\", \"Topic3\", \"Topic3\", \"Topic3\", \"Topic4\", \"Topic4\", \"Topic4\", \"Topic4\", \"Topic4\", \"Topic4\", \"Topic4\", \"Topic4\", \"Topic4\", \"Topic4\", \"Topic4\", \"Topic4\", \"Topic4\", \"Topic4\", \"Topic4\", \"Topic4\", \"Topic4\", \"Topic4\", \"Topic4\", \"Topic4\", \"Topic4\", \"Topic4\", \"Topic4\", \"Topic4\", \"Topic4\", \"Topic4\", \"Topic4\", \"Topic4\", \"Topic4\", \"Topic4\", \"Topic4\", \"Topic5\", \"Topic5\", \"Topic5\", \"Topic5\", \"Topic5\", \"Topic5\", \"Topic5\", \"Topic5\", \"Topic5\", \"Topic5\", \"Topic5\", \"Topic5\", \"Topic5\", \"Topic5\", \"Topic5\", \"Topic5\", \"Topic5\", \"Topic5\", \"Topic5\", \"Topic5\", \"Topic5\", \"Topic5\", \"Topic5\", \"Topic5\", \"Topic5\", \"Topic5\", \"Topic5\", \"Topic5\", \"Topic5\", \"Topic5\", \"Topic5\", \"Topic5\", \"Topic6\", \"Topic6\", \"Topic6\", \"Topic6\", \"Topic6\", \"Topic6\", \"Topic6\", \"Topic6\", \"Topic6\", \"Topic6\", \"Topic6\", \"Topic6\", \"Topic6\", \"Topic6\", \"Topic6\", \"Topic6\", \"Topic6\", \"Topic6\", \"Topic6\", \"Topic6\", \"Topic6\", \"Topic6\", \"Topic6\", \"Topic6\", \"Topic6\", \"Topic6\", \"Topic6\", \"Topic6\", \"Topic6\", \"Topic6\", \"Topic6\", \"Topic6\", \"Topic7\", \"Topic7\", \"Topic7\", \"Topic7\", \"Topic7\", \"Topic7\", \"Topic7\", \"Topic7\", \"Topic7\", \"Topic7\", \"Topic7\", \"Topic7\", \"Topic7\", \"Topic7\", \"Topic7\", \"Topic7\", \"Topic7\", \"Topic7\", \"Topic7\", \"Topic7\", \"Topic7\", \"Topic7\", \"Topic7\", \"Topic7\", \"Topic7\", \"Topic7\", \"Topic7\", \"Topic7\", \"Topic7\", \"Topic7\", \"Topic7\", \"Topic8\", \"Topic8\", \"Topic8\", \"Topic8\", \"Topic8\", \"Topic8\", \"Topic8\", \"Topic8\", \"Topic8\", \"Topic8\", \"Topic8\", \"Topic8\", \"Topic8\", \"Topic8\", \"Topic8\", \"Topic8\", \"Topic8\", \"Topic8\", \"Topic8\", \"Topic8\", \"Topic8\", \"Topic8\", \"Topic8\", \"Topic8\", \"Topic8\", \"Topic8\", \"Topic8\", \"Topic8\", \"Topic8\", \"Topic8\"], \"Term\": [\"\\ud788\\uc624\\uc2a4\", \"\\uac8c\\uc784\", \"\\uc601\\uc6c5\", \"\\uc0dd\\uac01\", \"\\uc0ac\\ub78c\", \"\\ud558\\ub098\", \"\\uc2a4\\ud0a8\", \"\\ud2b9\\uc131\", \"\\uc9c0\\uc6d0\", \"\\ubaa8\\ub784\", \"\\uc2dc\\uc98c\", \"\\ub77c\\uc778\", \"\\uc601\\ub9ac\", \"\\ub54c\\ubb38\", \"\\uc815\\ub3c4\", \"\\uc544\\uad70\", \"\\uc0c1\\ub300\", \"\\ubc30\\uce58\", \"\\ub178\\ubc14\", \"\\uc870\\ud569\", \"\\uc774\\uac70\", \"\\ub51c\\ub7ec\", \"\\uc2dc\\uc791\", \"\\uc2a4\\ud0ac\", \"\\uc81c\\uc774\\ub098\", \"\\ud2f0\\uc5b4\", \"\\ud0f1\\ucee4\", \"\\uac90\\uc9c0\", \"\\uc774\\ubc88\", \"\\uc6b0\\ub9ac\", \"\\ud788\\uc624\\uc2a4\", \"\\uac8c\\uc784\", \"\\uc0dd\\uac01\", \"\\uc0ac\\ub78c\", \"\\uc601\\ub9ac\", \"\\ubb38\\uc81c\", \"\\uc720\\uc800\", \"\\ub9e4\\uce6d\", \"\\uc2b9\\ub960\", \"\\uc774\\uc720\", \"\\uc774\\uac8c\", \"\\uc2dc\\uc2a4\\ud15c\", \"\\uad6c\\uac04\", \"\\uc18c\\ub9ac\", \"\\uc218\\uc900\", \"\\uc790\\uae30\", \"\\uadf8\\uac70\", \"\\uce90\\ub9ad\\ud130\", \"\\uc9c0\\uae08\", \"\\ubb54\\uac00\", \"\\uc2e4\\ub825\", \"\\ubcd1\\uc2e0\", \"\\ube14\\ub9ac\\uc790\\ub4dc\", \"\\uc774\\uac74\", \"\\uc0c8\\ub07c\", \"\\ucc98\\uc74c\", \"\\ud150\\ub370\", \"\\uac1c\\ubc1c\", \"\\uc4f0\\ub808\\uae30\", \"\\uac74\\uc9c0\", \"\\uc774\\uc0c1\", \"\\ud328\\uce58\", \"\\ub290\\ub08c\", \"\\uc815\\ub3c4\", \"\\ud50c\\ub808\\uc774\", \"\\uc608\\uc804\", \"\\uc6b0\\ub9ac\", \"\\uc2dc\\uac04\", \"\\uc601\\uc6c5\", \"\\uc2a4\\ud0a8\", \"\\ud2b9\\uc131\", \"\\uc2a4\\ud0ac\", \"\\ub808\\uc624\\ub9ad\", \"\\uac00\\ub85c\\uc26c\", \"\\uc6cc\\ud06c\", \"\\uc99d\\uac00\", \"\\ucf08\\ud22c\\uc790\\ub4dc\", \"\\uae30\\ubcf8\", \"\\uc2dc\\uacf5\", \"\\ub808\\ubca8\", \"\\uae30\\ub825\", \"\\uc0ac\\uac70\\ub9ac\", \"\\ubc84\\uadf8\", \"\\uc790\\uac00\\ub77c\", \"\\ucd94\\uac00\", \"\\uc720\\uc9c0\", \"\\uc0ac\\uc6a9\", \"\\ucee8\\uc149\", \"\\ud68c\\ubcf5\", \"\\uc0ac\\uc2ac\", \"\\uc2a4\\ud0dd\", \"\\uae30\\uc220\", \"\\uac00\\uc988\\ub85c\", \"\\uc804\\uc124\", \"\\uc9c0\\uc18d\", \"\\ub300\\uc2e0\", \"\\ub9c8\\ub098\", \"\\ub2a5\\ub825\", \"\\uac00\\ub2a5\", \"\\uc2dc\\uac04\", \"\\ud558\\ub098\", \"\\ub54c\\ubb38\", \"\\uc774\\uac70\", \"\\ub2e4\\uc74c\", \"\\ud544\\uc694\", \"\\uc774\\uac83\", \"\\uacb0\\uacfc\", \"\\uacbd\\uae30\", \"\\uac1c\\uc778\", \"\\uc5b4\\ub514\", \"\\uc624\\ubc84\\uc6cc\\uce58\", \"\\uc911\\uc694\", \"\\ubc29\\ubc95\", \"\\uc131\\ub2a5\", \"\\uae30\\ub300\", \"\\uadf8\\uac83\", \"\\uac78\\ub85c\", \"\\ub9ac\\ub9ac\", \"\\uacb0\\uad6d\", \"\\uc774\\ud6c4\", \"\\uc5ec\\uae30\", \"\\ud328\\uc2dc\\ube0c\", \"\\uc790\\uc2e0\", \"\\ub808\\uac00\\ub974\", \"\\uacf5\\ud3ec\", \"\\uac00\\uc694\", \"\\uadf8\\uac8c\", \"\\uc758\\ubbf8\", \"\\ubcf8\\uc778\", \"\\ubaa8\\uc2b5\", \"\\ub178\\ubc14\", \"\\uc81c\\uc774\\ub098\", \"\\uac90\\uc9c0\", \"\\ud3c9\\ud0c0\", \"\\ub808\\uc774\\ub108\", \"\\ubc14\\ub9ac\\uc548\", \"\\uc77c\\ub9ac\\ub2e8\", \"\\ubc84\\ud504\", \"\\ub9ac\\ubc0d\", \"\\uc544\\uc11c\\uc2a4\", \"\\ucd9c\\uc2dc\", \"\\uc81c\\ub77c\\ud234\", \"\\ub370\\ud558\\uce74\", \"\\uc544\\ub098\", \"\\ub514\\ubc14\", \"\\ubc1c\\ub9ac\\ub77c\", \"\\uc30d\\uac80\", \"\\ub9d0\\ud2f0\\uc5d8\", \"\\uc6b0\\uc11c\", \"\\uc11c\\ube0c\", \"\\uc0dd\\uc874\", \"\\uac1c\\uafc0\", \"\\uc54c\\ub77c\\ub77c\\ud06c\", \"\\ub3c4\\ubc1c\", \"\\uc0c1\\ud5a5\", \"\\ub514\\uc544\", \"\\uad74\\ub2e8\", \"\\uc0ac\\uae30\", \"\\ud53c\\ud574\", \"\\uc740\\uc2e0\", \"\\uccb4\\ub825\", \"\\uc9c0\\uc6d0\", \"\\ubaa8\\ub784\", \"\\ub77c\\uc778\", \"\\uc544\\uad70\", \"\\uc0c1\\ub300\", \"\\uc870\\ud569\", \"\\ub51c\\ub7ec\", \"\\ud0f1\\ucee4\", \"\\ud06c\\ub85c\\ubbf8\", \"\\uce90\\ub9ad\", \"\\ud2f0\\ub780\\ub370\", \"\\ud790\\ub7ec\", \"\\uc0c1\\ud669\", \"\\uc6b4\\uc601\", \"\\uc804\\ubb38\\uac00\", \"\\uc18c\\ub0d0\", \"\\uba54\\uc774\\uc9c0\", \"\\uc218\\ub958\\ud0c4\", \"\\uba54\\ud0c0\", \"\\ud3ec\\uc9c0\\uc158\", \"\\uce90\\ub9ac\", \"\\uc804\\uc0ac\", \"\\uc554\\uc0b4\\uc790\", \"\\ucd08\\ubc18\", \"\\uc544\\ubc14\\ud22c\\ub974\", \"\\ud63c\\uc790\", \"\\uc5ed\\ud560\", \"\\uc2a4\\ud22c\\ucf54\\ud504\", \"\\ub204\\uad6c\", \"\\uc2f8\\uc6c0\", \"\\uacbd\\uc6b0\", \"\\uc6b0\\ub9ac\", \"\\uc778\\ubca4\", \"\\uc2a4\\ud0c0\", \"\\ub300\\ud68c\", \"\\uc640\\uc6b0\", \"\\uc624\\ub298\", \"\\ud638\\ub4dc\", \"\\uc5ec\\uc790\", \"\\uac74\\uac00\\uc694\", \"\\uc5ec\\ub7ec\\ubd84\", \"\\ud55c\\uad6d\", \"\\ucda9\\uc131\", \"\\uae30\\uc5b5\", \"\\ubd80\\ud0c1\", \"\\uc2a4\\ud1a0\\ub9ac\", \"\\uc774\\ubca4\\ud2b8\", \"\\uc5b8\\uc81c\", \"\\uc544\\ubc14\", \"\\uc9c8\\ubb38\", \"\\ud788\\uc5b4\\ub85c\\uc988\", \"\\ub098\\ub77c\", \"\\uc5d4\\uc9c4\", \"\\ub77c\\uadf8\", \"\\uc5bc\\uad74\", \"\\uc624\\ube0c\", \"\\uae30\\uc0ac\", \"\\uacf5\\uac1c\", \"\\ucc38\\uc5ec\", \"\\ub313\\uae00\", \"\\ubbf8\\uc158\", \"\\uc601\\ud654\", \"\\uc9c4\\ud589\", \"\\uc774\\ubc88\", \"\\uc2dc\\uc98c\", \"\\ubc30\\uce58\", \"\\uc2dc\\uc791\", \"\\ud2f0\\uc5b4\", \"\\ub9c8\\uc2a4\\ud130\", \"\\ubc29\\uc1a1\", \"\\uce5c\\uad6c\", \"\\ub2e4\\uc774\\uc544\", \"\\uace8\\ub4dc\", \"\\uc0c1\\uc790\", \"\\ucd08\\uac08\", \"\\ub9ac\\uadf8\", \"\\uc704\\uce58\", \"\\ud30c\\ud3b8\", \"\\uc9c0\\uc625\", \"\\ubcf4\\uc0c1\", \"\\ub9b0\\uc774\", \"\\ub4f1\\uae09\", \"\\uc138\\uacc4\\uad00\", \"\\uad6c\\ubd84\", \"\\uc2e4\\ubc84\", \"\\ud50c\\ub808\", \"\\ube0c\\ub860\\uc988\", \"\\uc644\\uc131\", \"\\uce58\\uc5f4\", \"\\ubcf4\\uc774\\uc2a4\", \"\\uc778\\uacf5\\uc9c0\\ub2a5\", \"\\uc800\\ubc88\", \"\\uacf5\\uc11d\", \"\\uc608\\uc815\", \"\\uc774\\ubc88\", \"\\ub809\\uc0ac\\ub974\", \"\\ud2b8\\ub864\", \"\\uc601\\uc0c1\", \"\\uc774\\uc57c\\uae30\", \"\\ub0b4\\uc6a9\", \"\\uc815\\uce58\", \"\\uc11c\\ubc84\", \"\\ud50c\\ub808\\uc774\\uc5b4\", \"\\ucc44\\ud305\", \"\\ud55c\\ud310\", \"\\uc5b4\\uadf8\", \"\\ud22c\\ud45c\", \"\\ud655\\uc778\", \"\\uc800\\uac70\", \"\\uc544\\ubb34\", \"\\ubaa9\\uc18c\\ub9ac\", \"\\ud328\\ubc30\", \"\\ud6c4\\uae30\", \"\\uacc4\\uc815\", \"\\uce6d\\ucc2c\", \"\\ud14c\\uc0ac\", \"\\uc2e0\\uace0\", \"\\ubb34\\uc0ac\", \"\\uac70\\uc2a4\", \"\\ucc44\\uae08\", \"\\uc5b8\\uae09\", \"\\uc0ac\\uc9c4\", \"\\uc911\\uad6d\", \"\\ucc44\\ub110\", \"\\ub300\\ub9cc\"], \"Freq\": [24388.0, 18362.0, 17690.0, 17018.0, 15247.0, 11447.0, 11378.0, 11165.0, 6961.0, 6943.0, 5518.0, 6657.0, 9292.0, 7383.0, 11348.0, 6295.0, 6184.0, 5086.0, 6784.0, 5915.0, 6555.0, 5777.0, 4689.0, 7659.0, 6134.0, 4512.0, 5209.0, 5506.0, 5579.0, 8750.0, 24387.48474188393, 18361.40604086156, 17017.73544309887, 15246.739573793397, 9291.64109775167, 6416.2917269598765, 5312.614330448267, 5096.008675539116, 4721.9074793079235, 4173.1261919608105, 4022.2093839026625, 3744.382335456976, 3285.1156218825013, 3274.889688403707, 3235.9911945548984, 3029.009990202249, 3011.256739946172, 2863.416910726812, 2818.89178222855, 2742.3428417931245, 2686.4633957268943, 2602.444664311608, 2526.3829935894128, 2470.016644272374, 2458.005432776786, 2417.182366596786, 2406.511943267819, 2310.773875671506, 2274.303170992223, 2257.573359732468, 6301.084476529629, 5847.74051254477, 4407.447486455713, 10376.444049785201, 3432.0188702486344, 3935.1050336209764, 6509.287077501215, 5401.748932190449, 17689.806551632668, 11377.28686961567, 11164.98615374676, 7658.158252821749, 5996.666989697008, 5925.26638315735, 4025.9687263695478, 3417.175760919606, 3379.6806919004157, 3110.757652359128, 3084.91651318072, 3044.1970895947316, 3016.15953751471, 2934.446259845723, 2863.957142966894, 2710.121339905997, 2642.3215112491516, 2544.309196258947, 2532.0201773494978, 2462.499991750083, 2393.0826578087194, 2357.3189960829795, 2319.2744437290776, 2212.8529071165876, 2148.8571216594873, 2111.76938210863, 2036.4852275773517, 2008.7993497827106, 1997.8445120369465, 1989.7261153073366, 5349.317774050832, 3154.7787164319025, 11446.137381489989, 7383.0978641795255, 6554.222333937359, 3944.7957704955493, 3694.979068680762, 3200.7879703932467, 2923.2421893141, 2775.3889225049884, 2574.864472518916, 2499.961017553835, 2265.313980343838, 2222.0565231578157, 2204.2210251586916, 2156.7979197230034, 2058.0069898240745, 2050.3641949350867, 2034.208663626594, 2018.5990091712504, 2016.9867296529158, 1999.91188320818, 1991.9931590070523, 1940.991082972233, 1937.5972205845032, 1889.193013185462, 1688.9109720134409, 1664.4473904799272, 1657.0066853256662, 1647.784392089429, 1579.69118552207, 1567.2123972048757, 6783.765095454064, 6133.368547346197, 5506.020755799547, 4898.643081882021, 4747.658646253645, 4002.4607359465863, 3887.8743536540105, 3201.755523744192, 3131.2868756855696, 3103.646745753146, 2976.127892114574, 2899.8464999167727, 2879.3179220045786, 2598.628796421485, 2583.7628575086837, 2436.527211643722, 2426.1142341111436, 2382.4952765042085, 2071.499381018748, 2013.0739042783955, 1883.9619478136033, 1882.616547786375, 1832.1435884513046, 1809.8032053243835, 1809.1713509529616, 1765.3856317464601, 1763.1749347539583, 1675.8774571760994, 1658.7259096842856, 1575.486734942185, 3206.3797927560745, 6960.160939484887, 6942.24124980063, 6656.627264738887, 6294.512591734896, 6183.741079745197, 5914.3783990848115, 5776.941577346152, 5209.030599194396, 4546.944627251605, 4493.011427703511, 4281.303985106218, 3842.020197259192, 3819.196503242608, 2655.982279914208, 2450.7660351379254, 2295.7287403102646, 2178.1944488109266, 2103.671499273591, 1982.1936570563846, 1954.3443396228251, 1938.9075717966582, 1929.131517182317, 1910.932354594132, 1890.1608752888171, 1886.9845490553555, 1733.1397419801594, 1581.1540891144648, 1513.8966894428943, 1503.214791360467, 1459.6227632436705, 2572.1647657421563, 2240.1200925327644, 3188.320018002798, 3176.0158287046047, 2975.565177842201, 2500.4763837926803, 2063.646568646461, 1812.7299420495738, 1653.0035497947845, 1621.1403798235287, 1551.8075292500978, 1463.197269772407, 1464.2123495986343, 1441.9006263430792, 1421.8091039556186, 1274.2162999486302, 1252.2886965481848, 1222.6726420102423, 1185.6419577886536, 1162.8714018131489, 1067.0915214973945, 969.6605639427024, 965.3447406460799, 951.1824109037228, 937.5158860495532, 923.0647070037874, 901.5919647936057, 897.5730528859131, 897.585320010565, 880.4684372245403, 856.0457214357518, 809.4580800662937, 1198.92076275608, 4143.894671014697, 5517.5171480771005, 5085.4441432746235, 4688.476723473368, 4511.933129761952, 3099.591400064523, 2528.1087684411737, 2329.105512701194, 2277.0585839314635, 2176.086257889161, 2096.787141046094, 2092.1780416846145, 1834.1783126120472, 1696.0703042422958, 1599.065631475734, 1580.3718276530283, 1469.0795315220507, 1195.2676747649505, 1187.9985518925428, 1173.1972003953717, 1149.5748945737241, 1074.760500988918, 976.9904202389806, 965.9370355919908, 918.591655012067, 940.8076370689299, 901.837805968501, 832.208579502058, 794.54851189876, 731.0505749862624, 732.4013678906476, 1435.0877705100984, 2640.435293775702, 2373.0354073319354, 2309.738749294884, 1963.042730827163, 1827.945149028748, 1723.1445927028722, 1636.189930946542, 1545.5927469362018, 1462.8894008219766, 1353.0862233838536, 1218.2777220207079, 1107.4941358229003, 1023.9329225850588, 1008.6571385427936, 922.1219643258828, 905.4532349423406, 896.0086503415785, 852.0293556410558, 835.5109060614085, 820.7481168241364, 781.4233883153565, 759.6882492105901, 757.8014920620537, 738.7484036966165, 722.2827380305403, 711.4097728081073, 708.9221655008059, 699.4421185701675, 663.2986604129906, 657.0638748663146], \"loglift\": [30.0, 29.0, 28.0, 27.0, 26.0, 25.0, 24.0, 23.0, 22.0, 21.0, 20.0, 19.0, 18.0, 17.0, 16.0, 15.0, 14.0, 13.0, 12.0, 11.0, 10.0, 9.0, 8.0, 7.0, 6.0, 5.0, 4.0, 3.0, 2.0, 1.0, 1.5869, 1.5869, 1.5869, 1.5869, 1.5869, 1.5868, 1.5868, 1.5868, 1.5868, 1.5868, 1.5868, 1.5867, 1.5867, 1.5867, 1.5867, 1.5867, 1.5867, 1.5867, 1.5867, 1.5867, 1.5866, 1.5866, 1.5866, 1.5866, 1.5866, 1.5866, 1.5866, 1.5866, 1.5866, 1.5866, 1.5795, 1.5782, 1.5757, 1.4974, 1.5534, 1.528, 1.2911, 1.1269, 1.6298, 1.6298, 1.6298, 1.6298, 1.6297, 1.6297, 1.6297, 1.6296, 1.6296, 1.6296, 1.6296, 1.6296, 1.6296, 1.6296, 1.6296, 1.6295, 1.6295, 1.6295, 1.6295, 1.6295, 1.6295, 1.6295, 1.6295, 1.6295, 1.6295, 1.6294, 1.6294, 1.6294, 1.6294, 1.6294, 1.4356, 0.632, 1.9833, 1.9832, 1.9832, 1.9831, 1.9831, 1.9831, 1.983, 1.983, 1.983, 1.983, 1.983, 1.983, 1.9829, 1.9829, 1.9829, 1.9829, 1.9829, 1.9829, 1.9829, 1.9829, 1.9829, 1.9829, 1.9829, 1.9829, 1.9828, 1.9828, 1.9828, 1.9828, 1.9828, 1.9828, 2.0135, 2.0135, 2.0134, 2.0134, 2.0134, 2.0134, 2.0134, 2.0133, 2.0133, 2.0133, 2.0133, 2.0133, 2.0133, 2.0133, 2.0133, 2.0132, 2.0132, 2.0132, 2.0132, 2.0132, 2.0131, 2.0131, 2.0131, 2.0131, 2.0131, 2.0131, 2.0131, 2.0131, 2.0131, 2.013, 1.7968, 2.2235, 2.2235, 2.2235, 2.2235, 2.2235, 2.2235, 2.2235, 2.2235, 2.2234, 2.2234, 2.2234, 2.2234, 2.2234, 2.2233, 2.2233, 2.2232, 2.2232, 2.2232, 2.2232, 2.2232, 2.2232, 2.2232, 2.2232, 2.2232, 2.2232, 2.2231, 2.2231, 2.223, 2.223, 2.223, 1.8155, 0.8611, 2.3683, 2.3683, 2.3683, 2.3682, 2.3681, 2.3681, 2.368, 2.368, 2.368, 2.368, 2.368, 2.368, 2.3679, 2.3679, 2.3679, 2.3678, 2.3678, 2.3678, 2.3677, 2.3677, 2.3676, 2.3676, 2.3676, 2.3676, 2.3676, 2.3676, 2.3676, 2.3676, 2.3675, 2.3675, 2.3488, 2.0711, 2.6896, 2.6895, 2.6895, 2.6895, 2.6894, 2.6894, 2.6893, 2.6893, 2.6893, 2.6893, 2.6893, 2.6892, 2.6892, 2.6891, 2.6891, 2.6891, 2.689, 2.6889, 2.6889, 2.6889, 2.6889, 2.6888, 2.6888, 2.6887, 2.6887, 2.6887, 2.6886, 2.6886, 2.6885, 2.6885, 1.3318, 2.8356, 2.8356, 2.8356, 2.8355, 2.8355, 2.8354, 2.8354, 2.8354, 2.8353, 2.8353, 2.8352, 2.8351, 2.8351, 2.8351, 2.835, 2.835, 2.835, 2.8349, 2.8349, 2.8349, 2.8348, 2.8348, 2.8348, 2.8347, 2.8347, 2.8347, 2.8347, 2.8347, 2.8346, 2.8346]}, \"mdsDat\": {\"cluster\": [1, 1, 1, 1, 1, 1, 1, 1], \"topics\": [1, 2, 3, 4, 5, 6, 7, 8], \"x\": [-0.23396397260322752, -0.25978956210918014, 0.0798319952049844, -0.015700798228561245, -0.09680426618744925, 0.19075585687747693, 0.19196041480301246, 0.1437103322429447], \"Freq\": [20.454197223506903, 19.59526921210325, 13.760682114296, 13.350673557790211, 10.821432782690463, 9.361337387025257, 6.790013785876507, 5.866393936711405], \"y\": [-0.13013888557818243, 0.0268043247485934, -0.05706254888522125, 0.41354464216263465, -0.11916852305345922, -0.05842453777654151, -0.04081172703445163, -0.03474274458337192]}, \"plot.opts\": {\"xlab\": \"PC1\", \"ylab\": \"PC2\"}, \"lambda.step\": 0.01, \"R\": 30, \"token.table\": {\"Topic\": [2, 3, 5, 2, 3, 2, 4, 1, 3, 8, 6, 1, 3, 1, 4, 3, 3, 3, 3, 5, 8, 7, 6, 7, 3, 1, 7, 4, 1, 3, 3, 3, 2, 2, 6, 2, 6, 6, 8, 4, 5, 1, 4, 2, 3, 7, 8, 2, 6, 6, 4, 4, 7, 4, 4, 5, 3, 6, 5, 3, 2, 2, 4, 8, 7, 3, 4, 7, 2, 7, 4, 1, 5, 5, 5, 3, 8, 8, 1, 1, 6, 4, 4, 3, 7, 7, 2, 4, 1, 7, 7, 3, 6, 7, 1, 2, 4, 1, 2, 2, 8, 5, 7, 4, 5, 1, 1, 4, 8, 4, 3, 7, 5, 1, 5, 1, 2, 2, 6, 2, 6, 5, 1, 1, 2, 2, 1, 7, 7, 8, 1, 7, 5, 4, 1, 5, 4, 8, 6, 5, 4, 4, 5, 8, 3, 8, 6, 6, 6, 3, 6, 6, 5, 1, 8, 2, 6, 1, 2, 7, 6, 3, 6, 6, 7, 1, 5, 4, 5, 2, 7, 1, 2, 4, 3, 3, 1, 3, 1, 6, 7, 6, 1, 2, 8, 1, 3, 7, 6, 4, 2, 1, 3, 8, 7, 5, 5, 2, 1, 2, 8, 4, 4, 5, 8, 3, 2, 1, 2, 7, 5, 6, 7, 6, 6, 8, 8, 8, 1, 2, 4, 7, 5, 2, 4, 6, 7, 7, 8, 5, 5, 1, 2, 2, 5, 5, 8, 1, 8, 8, 2, 5, 7, 7, 8, 3, 1, 2, 4, 5, 7, 1, 5, 8, 4, 3, 3, 6, 8, 6, 5, 8, 2, 8, 6, 1, 5], \"Term\": [\"\\uac00\\ub2a5\", \"\\uac00\\ub2a5\", \"\\uac00\\ub2a5\", \"\\uac00\\ub85c\\uc26c\", \"\\uac00\\uc694\", \"\\uac00\\uc988\\ub85c\", \"\\uac1c\\uafc0\", \"\\uac1c\\ubc1c\", \"\\uac1c\\uc778\", \"\\uac70\\uc2a4\", \"\\uac74\\uac00\\uc694\", \"\\uac74\\uc9c0\", \"\\uac78\\ub85c\", \"\\uac8c\\uc784\", \"\\uac90\\uc9c0\", \"\\uacb0\\uacfc\", \"\\uacb0\\uad6d\", \"\\uacbd\\uae30\", \"\\uacbd\\uc6b0\", \"\\uacbd\\uc6b0\", \"\\uacc4\\uc815\", \"\\uace8\\ub4dc\", \"\\uacf5\\uac1c\", \"\\uacf5\\uc11d\", \"\\uacf5\\ud3ec\", \"\\uad6c\\uac04\", \"\\uad6c\\ubd84\", \"\\uad74\\ub2e8\", \"\\uadf8\\uac70\", \"\\uadf8\\uac83\", \"\\uadf8\\uac8c\", \"\\uae30\\ub300\", \"\\uae30\\ub825\", \"\\uae30\\ubcf8\", \"\\uae30\\uc0ac\", \"\\uae30\\uc220\", \"\\uae30\\uc5b5\", \"\\ub098\\ub77c\", \"\\ub0b4\\uc6a9\", \"\\ub178\\ubc14\", \"\\ub204\\uad6c\", \"\\ub290\\ub08c\", \"\\ub290\\ub08c\", \"\\ub2a5\\ub825\", \"\\ub2e4\\uc74c\", \"\\ub2e4\\uc774\\uc544\", \"\\ub300\\ub9cc\", \"\\ub300\\uc2e0\", \"\\ub300\\ud68c\", \"\\ub313\\uae00\", \"\\ub370\\ud558\\uce74\", \"\\ub3c4\\ubc1c\", \"\\ub4f1\\uae09\", \"\\ub514\\ubc14\", \"\\ub514\\uc544\", \"\\ub51c\\ub7ec\", \"\\ub54c\\ubb38\", \"\\ub77c\\uadf8\", \"\\ub77c\\uc778\", \"\\ub808\\uac00\\ub974\", \"\\ub808\\ubca8\", \"\\ub808\\uc624\\ub9ad\", \"\\ub808\\uc774\\ub108\", \"\\ub809\\uc0ac\\ub974\", \"\\ub9ac\\uadf8\", \"\\ub9ac\\ub9ac\", \"\\ub9ac\\ubc0d\", \"\\ub9b0\\uc774\", \"\\ub9c8\\ub098\", \"\\ub9c8\\uc2a4\\ud130\", \"\\ub9d0\\ud2f0\\uc5d8\", \"\\ub9e4\\uce6d\", \"\\uba54\\uc774\\uc9c0\", \"\\uba54\\ud0c0\", \"\\ubaa8\\ub784\", \"\\ubaa8\\uc2b5\", \"\\ubaa9\\uc18c\\ub9ac\", \"\\ubb34\\uc0ac\", \"\\ubb38\\uc81c\", \"\\ubb54\\uac00\", \"\\ubbf8\\uc158\", \"\\ubc14\\ub9ac\\uc548\", \"\\ubc1c\\ub9ac\\ub77c\", \"\\ubc29\\ubc95\", \"\\ubc29\\uc1a1\", \"\\ubc30\\uce58\", \"\\ubc84\\uadf8\", \"\\ubc84\\ud504\", \"\\ubcd1\\uc2e0\", \"\\ubcf4\\uc0c1\", \"\\ubcf4\\uc774\\uc2a4\", \"\\ubcf8\\uc778\", \"\\ubd80\\ud0c1\", \"\\ube0c\\ub860\\uc988\", \"\\ube14\\ub9ac\\uc790\\ub4dc\", \"\\uc0ac\\uac70\\ub9ac\", \"\\uc0ac\\uae30\", \"\\uc0ac\\ub78c\", \"\\uc0ac\\uc2ac\", \"\\uc0ac\\uc6a9\", \"\\uc0ac\\uc9c4\", \"\\uc0c1\\ub300\", \"\\uc0c1\\uc790\", \"\\uc0c1\\ud5a5\", \"\\uc0c1\\ud669\", \"\\uc0c8\\ub07c\", \"\\uc0dd\\uac01\", \"\\uc0dd\\uc874\", \"\\uc11c\\ubc84\", \"\\uc11c\\ube0c\", \"\\uc131\\ub2a5\", \"\\uc138\\uacc4\\uad00\", \"\\uc18c\\ub0d0\", \"\\uc18c\\ub9ac\", \"\\uc218\\ub958\\ud0c4\", \"\\uc218\\uc900\", \"\\uc2a4\\ud0a8\", \"\\uc2a4\\ud0ac\", \"\\uc2a4\\ud0c0\", \"\\uc2a4\\ud0dd\", \"\\uc2a4\\ud1a0\\ub9ac\", \"\\uc2a4\\ud22c\\ucf54\\ud504\", \"\\uc2b9\\ub960\", \"\\uc2dc\\uac04\", \"\\uc2dc\\uac04\", \"\\uc2dc\\uacf5\", \"\\uc2dc\\uc2a4\\ud15c\", \"\\uc2dc\\uc791\", \"\\uc2dc\\uc98c\", \"\\uc2e0\\uace0\", \"\\uc2e4\\ub825\", \"\\uc2e4\\ubc84\", \"\\uc2f8\\uc6c0\", \"\\uc30d\\uac80\", \"\\uc4f0\\ub808\\uae30\", \"\\uc544\\uad70\", \"\\uc544\\ub098\", \"\\uc544\\ubb34\", \"\\uc544\\ubc14\", \"\\uc544\\ubc14\\ud22c\\ub974\", \"\\uc544\\uc11c\\uc2a4\", \"\\uc54c\\ub77c\\ub77c\\ud06c\", \"\\uc554\\uc0b4\\uc790\", \"\\uc5b4\\uadf8\", \"\\uc5b4\\ub514\", \"\\uc5b8\\uae09\", \"\\uc5b8\\uc81c\", \"\\uc5bc\\uad74\", \"\\uc5d4\\uc9c4\", \"\\uc5ec\\uae30\", \"\\uc5ec\\ub7ec\\ubd84\", \"\\uc5ec\\uc790\", \"\\uc5ed\\ud560\", \"\\uc601\\ub9ac\", \"\\uc601\\uc0c1\", \"\\uc601\\uc6c5\", \"\\uc601\\ud654\", \"\\uc608\\uc804\", \"\\uc608\\uc804\", \"\\uc608\\uc815\", \"\\uc624\\ub298\", \"\\uc624\\ubc84\\uc6cc\\uce58\", \"\\uc624\\ube0c\", \"\\uc640\\uc6b0\", \"\\uc644\\uc131\", \"\\uc6b0\\ub9ac\", \"\\uc6b0\\ub9ac\", \"\\uc6b0\\uc11c\", \"\\uc6b4\\uc601\", \"\\uc6cc\\ud06c\", \"\\uc704\\uce58\", \"\\uc720\\uc800\", \"\\uc720\\uc9c0\", \"\\uc740\\uc2e0\", \"\\uc758\\ubbf8\", \"\\uc774\\uac70\", \"\\uc774\\uac74\", \"\\uc774\\uac83\", \"\\uc774\\uac8c\", \"\\uc774\\ubc88\", \"\\uc774\\ubc88\", \"\\uc774\\ubca4\\ud2b8\", \"\\uc774\\uc0c1\", \"\\uc774\\uc0c1\", \"\\uc774\\uc57c\\uae30\", \"\\uc774\\uc720\", \"\\uc774\\ud6c4\", \"\\uc778\\uacf5\\uc9c0\\ub2a5\", \"\\uc778\\ubca4\", \"\\uc77c\\ub9ac\\ub2e8\", \"\\uc790\\uac00\\ub77c\", \"\\uc790\\uae30\", \"\\uc790\\uc2e0\", \"\\uc800\\uac70\", \"\\uc800\\ubc88\", \"\\uc804\\ubb38\\uac00\", \"\\uc804\\uc0ac\", \"\\uc804\\uc124\", \"\\uc815\\ub3c4\", \"\\uc815\\ub3c4\", \"\\uc815\\uce58\", \"\\uc81c\\ub77c\\ud234\", \"\\uc81c\\uc774\\ub098\", \"\\uc870\\ud569\", \"\\uc911\\uad6d\", \"\\uc911\\uc694\", \"\\uc99d\\uac00\", \"\\uc9c0\\uae08\", \"\\uc9c0\\uc18d\", \"\\uc9c0\\uc625\", \"\\uc9c0\\uc6d0\", \"\\uc9c4\\ud589\", \"\\uc9c4\\ud589\", \"\\uc9c8\\ubb38\", \"\\ucc38\\uc5ec\", \"\\ucc44\\uae08\", \"\\ucc44\\ub110\", \"\\ucc44\\ud305\", \"\\ucc98\\uc74c\", \"\\uccb4\\ub825\", \"\\uccb4\\ub825\", \"\\ucd08\\uac08\", \"\\ucd08\\ubc18\", \"\\ucd94\\uac00\", \"\\ucd9c\\uc2dc\", \"\\ucda9\\uc131\", \"\\uce58\\uc5f4\", \"\\uce5c\\uad6c\", \"\\uce6d\\ucc2c\", \"\\uce90\\ub9ac\", \"\\uce90\\ub9ad\", \"\\uce90\\ub9ad\\ud130\", \"\\ucee8\\uc149\", \"\\ucf08\\ud22c\\uc790\\ub4dc\", \"\\ud06c\\ub85c\\ubbf8\", \"\\ud0f1\\ucee4\", \"\\ud14c\\uc0ac\", \"\\ud150\\ub370\", \"\\ud22c\\ud45c\", \"\\ud2b8\\ub864\", \"\\ud2b9\\uc131\", \"\\ud2f0\\ub780\\ub370\", \"\\ud2f0\\uc5b4\", \"\\ud30c\\ud3b8\", \"\\ud328\\ubc30\", \"\\ud328\\uc2dc\\ube0c\", \"\\ud328\\uce58\", \"\\ud328\\uce58\", \"\\ud3c9\\ud0c0\", \"\\ud3ec\\uc9c0\\uc158\", \"\\ud50c\\ub808\", \"\\ud50c\\ub808\\uc774\", \"\\ud50c\\ub808\\uc774\", \"\\ud50c\\ub808\\uc774\\uc5b4\", \"\\ud53c\\ud574\", \"\\ud544\\uc694\", \"\\ud558\\ub098\", \"\\ud55c\\uad6d\", \"\\ud55c\\ud310\", \"\\ud638\\ub4dc\", \"\\ud63c\\uc790\", \"\\ud655\\uc778\", \"\\ud68c\\ubcf5\", \"\\ud6c4\\uae30\", \"\\ud788\\uc5b4\\ub85c\\uc988\", \"\\ud788\\uc624\\uc2a4\", \"\\ud790\\ub7ec\"], \"Freq\": [0.8233447340137288, 0.028168271887177486, 0.14822975861940937, 0.9998000442476763, 0.9991925156358197, 0.9996392775922196, 0.9997205374634669, 0.9997094377895603, 0.999704074294848, 0.9991468152911597, 0.9993564477500886, 0.9997916017114582, 0.9994565037124845, 0.9999290230550154, 0.999831199959565, 0.999609836505952, 0.9995619207726779, 0.9995367145500128, 0.3349954031363196, 0.6648211241254737, 0.999539503034408, 0.9995401996399624, 0.9994699341109734, 0.9986812674152135, 0.9995218036284053, 0.999691489886514, 0.999572284380622, 0.9993855979700144, 0.9996167366341633, 0.9993849591874687, 0.9994547664604585, 0.9995607906091932, 0.9996425915194925, 0.9997828010769186, 0.9994505800686528, 0.9996517077741676, 0.9994422498383577, 0.9994189733255975, 0.9995521549307095, 0.9999006689266383, 0.999247254480405, 0.9886960985265623, 0.010992990430633435, 0.9996762210405736, 0.9998243504433194, 0.9995727193679866, 0.9985733696920884, 0.9996428279358803, 0.9998425019184656, 0.9984439025034687, 0.9995739332986979, 0.9996068015277864, 0.9992317704564762, 0.9997402037559365, 0.9992667841261035, 0.999851586857692, 0.9998652097654168, 0.9988593008185614, 0.9999183976480145, 0.9994231064632619, 0.9996335625905857, 0.9999023764417645, 0.9998805217292911, 0.9995043587168386, 0.999404152912179, 0.9997545552536296, 0.9996182292680953, 0.9990110968033634, 0.9996183593655856, 0.9998366713181, 0.9994108755283618, 0.9998222793120597, 0.9994903254583953, 0.9994405654605716, 0.999833321183951, 0.9992924546818042, 0.9985350728682929, 0.9991090239336743, 0.9998146765273153, 0.9995479188112303, 0.9988901042435883, 0.9996579329199112, 0.9998210779495064, 0.9994927159871824, 0.9995951278593694, 0.9997328538763312, 0.9996943231070512, 0.9997924346146081, 0.9994845468976636, 0.9993233374982307, 0.9991662348429607, 0.9996276552138781, 0.9994992024028174, 0.9991189864450816, 0.999493382195046, 0.9995352431901218, 0.9995308818106241, 0.9999582336116851, 0.9994753195909917, 0.9996293461307069, 0.9988780245876632, 0.9998937456113834, 0.9996654034882569, 0.9994032113819058, 0.9997087154554057, 0.9996329265083188, 0.9999628116919488, 0.9995377059613494, 0.9993494139611965, 0.9995115927943267, 0.9996777121601376, 0.9990518409633377, 0.9997192545736242, 0.999759780220184, 0.9997209367805606, 0.9997254417112786, 0.9998940750249958, 0.9998594572473029, 0.9997106286357191, 0.9994859109503499, 0.999122190837457, 0.9994630291695856, 0.9998296201059266, 0.6312730979532178, 0.3686906005261759, 0.9997293496078573, 0.9996582657286637, 0.9997030688137671, 0.9999217327629407, 0.9992612272890395, 0.999493572880585, 0.9993722881110784, 0.9996309468568461, 0.9995785889756623, 0.999472325167413, 0.9999319126624509, 0.9997933940320646, 0.9989204664810699, 0.9995402421660186, 0.9995227006207438, 0.9998209548832694, 0.9994256359920686, 0.999556335301593, 0.9990542691719357, 0.9996567842594686, 0.9981963124732554, 0.9995291381199729, 0.9995534101058386, 0.9987081556890932, 0.9995532371549793, 0.9995421119687801, 0.9994517286290666, 0.9993234945871498, 0.9999420740522559, 0.9997347668072429, 0.999959008115147, 0.9983206121452495, 0.9426603445992381, 0.05701478068986497, 0.9982028872920969, 0.9997332962176418, 0.9994655852585588, 0.9989518359101374, 0.9994484036108008, 0.9994480003683931, 0.7438697412790622, 0.2559945030673067, 0.9993203852612087, 0.9996617484946339, 0.9997796797019667, 0.9994189507670013, 0.9999036925487425, 0.9995175436420175, 0.9991146090544771, 0.9995864240909028, 0.9998292130651839, 0.9996300175647898, 0.9997857033612695, 0.9997249027234496, 0.7426831499895216, 0.2571791313308309, 0.9990489905416574, 0.9924874030575694, 0.007403096007571141, 0.999532868835916, 0.999754761318715, 0.9995955699572312, 0.9986513630010653, 0.9996164213115482, 0.9997985388045636, 0.9996164725366894, 0.9997004803563666, 0.9997447873531538, 0.9994734865550813, 0.9994172803753767, 0.9997217784905315, 0.9994573238125373, 0.9996743960532037, 0.9142770584424222, 0.08564738828122923, 0.999409050654148, 0.9997395542883942, 0.9997916699129654, 0.9997811781150453, 0.9981205645150503, 0.9995705535341819, 0.9996800661374194, 0.9997200209530422, 0.9993111699584027, 0.9991842130512507, 0.9998453083863424, 0.9804568288595532, 0.01880776235510402, 0.9993341048465503, 0.999455898077364, 0.9984000784113682, 0.9982320015993665, 0.9994784943433485, 0.9995534640920215, 0.19483669545509807, 0.8049567598312428, 0.9994778766147738, 0.9994302516596268, 0.9995308613781622, 0.9996515292283972, 0.9992373557586731, 0.9992053597052055, 0.9995619554039711, 0.9992423057993489, 0.9995747177240162, 0.9997935520774712, 0.9995410762596209, 0.9994241404680401, 0.9998227256068231, 0.9998106958874461, 0.999818276016506, 0.9983408853734957, 0.9998299739521417, 0.9987590839312368, 0.9996166761554782, 0.9999190109529059, 0.9997150568745229, 0.9998120750382448, 0.9993872598777176, 0.9990152390503863, 0.9995425772164387, 0.9912637738829321, 0.008644742214095337, 0.9998873368497233, 0.9993553815873334, 0.9990744641881145, 0.9669704321864223, 0.03268314980583478, 0.9996971802387369, 0.9996172415304966, 0.9997628655144776, 0.999909607983604, 0.9992483174495461, 0.99929045588072, 0.9996507222825487, 0.99939093903465, 0.9992120887196808, 0.999581779696711, 0.9989389430980704, 0.9990688635847988, 0.999943333563317, 0.9997564542789403]}, \"topic.order\": [7, 6, 1, 4, 8, 3, 5, 2]};\n",
       "\n",
       "function LDAvis_load_lib(url, callback){\n",
       "  var s = document.createElement('script');\n",
       "  s.src = url;\n",
       "  s.async = true;\n",
       "  s.onreadystatechange = s.onload = callback;\n",
       "  s.onerror = function(){console.warn(\"failed to load library \" + url);};\n",
       "  document.getElementsByTagName(\"head\")[0].appendChild(s);\n",
       "}\n",
       "\n",
       "if(typeof(LDAvis) !== \"undefined\"){\n",
       "   // already loaded: just create the visualization\n",
       "   !function(LDAvis){\n",
       "       new LDAvis(\"#\" + \"ldavis_el317951522310009324768123\", ldavis_el317951522310009324768123_data);\n",
       "   }(LDAvis);\n",
       "}else if(typeof define === \"function\" && define.amd){\n",
       "   // require.js is available: use it to load d3/LDAvis\n",
       "   require.config({paths: {d3: \"https://cdnjs.cloudflare.com/ajax/libs/d3/3.5.5/d3.min\"}});\n",
       "   require([\"d3\"], function(d3){\n",
       "      window.d3 = d3;\n",
       "      LDAvis_load_lib(\"https://cdn.rawgit.com/bmabey/pyLDAvis/files/ldavis.v1.0.0.js\", function(){\n",
       "        new LDAvis(\"#\" + \"ldavis_el317951522310009324768123\", ldavis_el317951522310009324768123_data);\n",
       "      });\n",
       "    });\n",
       "}else{\n",
       "    // require.js not available: dynamically load d3 & LDAvis\n",
       "    LDAvis_load_lib(\"https://cdnjs.cloudflare.com/ajax/libs/d3/3.5.5/d3.min.js\", function(){\n",
       "         LDAvis_load_lib(\"https://cdn.rawgit.com/bmabey/pyLDAvis/files/ldavis.v1.0.0.js\", function(){\n",
       "                 new LDAvis(\"#\" + \"ldavis_el317951522310009324768123\", ldavis_el317951522310009324768123_data);\n",
       "            })\n",
       "         });\n",
       "}\n",
       "</script>"
      ],
      "text/plain": [
       "PreparedData(topic_coordinates=            Freq  cluster  topics         x         y\n",
       "topic                                                \n",
       "6      20.454197        1       1 -0.233964 -0.130139\n",
       "5      19.595269        1       2 -0.259790  0.026804\n",
       "0      13.760682        1       3  0.079832 -0.057063\n",
       "3      13.350674        1       4 -0.015701  0.413545\n",
       "7      10.821433        1       5 -0.096804 -0.119169\n",
       "2       9.361337        1       6  0.190756 -0.058425\n",
       "4       6.790014        1       7  0.191960 -0.040812\n",
       "1       5.866394        1       8  0.143710 -0.034743, topic_info=      Category          Freq  Term         Total  loglift  logprob\n",
       "term                                                              \n",
       "28546  Default  24388.000000   히오스  24388.000000  30.0000  30.0000\n",
       "35005  Default  18362.000000    게임  18362.000000  29.0000  29.0000\n",
       "22309  Default  17690.000000    영웅  17690.000000  28.0000  28.0000\n",
       "35210  Default  17018.000000    생각  17018.000000  27.0000  27.0000\n",
       "37193  Default  15247.000000    사람  15247.000000  26.0000  26.0000\n",
       "1618   Default  11447.000000    하나  11447.000000  25.0000  25.0000\n",
       "8291   Default  11378.000000    스킨  11378.000000  24.0000  24.0000\n",
       "3947   Default  11165.000000    특성  11165.000000  23.0000  23.0000\n",
       "23767  Default   6961.000000    지원   6961.000000  22.0000  22.0000\n",
       "33877  Default   6943.000000    모랄   6943.000000  21.0000  21.0000\n",
       "136    Default   5518.000000    시즌   5518.000000  20.0000  20.0000\n",
       "43193  Default   6657.000000    라인   6657.000000  19.0000  19.0000\n",
       "21598  Default   9292.000000    영리   9292.000000  18.0000  18.0000\n",
       "22707  Default   7383.000000    때문   7383.000000  17.0000  17.0000\n",
       "14047  Default  11348.000000    정도  11348.000000  16.0000  16.0000\n",
       "14233  Default   6295.000000    아군   6295.000000  15.0000  15.0000\n",
       "38951  Default   6184.000000    상대   6184.000000  14.0000  14.0000\n",
       "8109   Default   5086.000000    배치   5086.000000  13.0000  13.0000\n",
       "31021  Default   6784.000000    노바   6784.000000  12.0000  12.0000\n",
       "12068  Default   5915.000000    조합   5915.000000  11.0000  11.0000\n",
       "41129  Default   6555.000000    이거   6555.000000  10.0000  10.0000\n",
       "2442   Default   5777.000000    딜러   5777.000000   9.0000   9.0000\n",
       "23115  Default   4689.000000    시작   4689.000000   8.0000   8.0000\n",
       "43447  Default   7659.000000    스킬   7659.000000   7.0000   7.0000\n",
       "37039  Default   6134.000000   제이나   6134.000000   6.0000   6.0000\n",
       "25338  Default   4512.000000    티어   4512.000000   5.0000   5.0000\n",
       "30429  Default   5209.000000    탱커   5209.000000   4.0000   4.0000\n",
       "30387  Default   5506.000000    겐지   5506.000000   3.0000   3.0000\n",
       "23305  Default   5579.000000    이번   5579.000000   2.0000   2.0000\n",
       "33637  Default   8750.000000    우리   8750.000000   1.0000   1.0000\n",
       "...        ...           ...   ...           ...      ...      ...\n",
       "15809   Topic8   2640.435294   렉사르   2641.309142   2.8356  -3.8000\n",
       "26930   Topic8   2373.035407    트롤   2373.909976   2.8356  -3.9067\n",
       "18      Topic8   2309.738749    영상   2310.612851   2.8356  -3.9338\n",
       "30147   Topic8   1963.042731   이야기   1963.917407   2.8355  -4.0964\n",
       "41835   Topic8   1827.945149    내용   1828.819028   2.8355  -4.1677\n",
       "756     Topic8   1723.144593    정치   1724.018808   2.8354  -4.2268\n",
       "2466    Topic8   1636.189931    서버   1637.065052   2.8354  -4.2785\n",
       "15820   Topic8   1545.592747  플레이어   1546.468301   2.8354  -4.3355\n",
       "24073   Topic8   1462.889401    채팅   1463.763361   2.8353  -4.3905\n",
       "21008   Topic8   1353.086223    한판   1353.960695   2.8353  -4.4685\n",
       "24841   Topic8   1218.277722    어그   1219.152991   2.8352  -4.5735\n",
       "25363   Topic8   1107.494136    투표   1108.375401   2.8351  -4.6688\n",
       "38663   Topic8   1023.932923    확인   1024.807457   2.8351  -4.7473\n",
       "26344   Topic8   1008.657139    저거   1009.531532   2.8351  -4.7623\n",
       "14819   Topic8    922.121964    아무    922.996406   2.8350  -4.8520\n",
       "5789    Topic8    905.453235   목소리    906.327704   2.8350  -4.8702\n",
       "17617   Topic8    896.008650    패배    896.883216   2.8350  -4.8807\n",
       "35038   Topic8    852.029356    후기    852.904981   2.8349  -4.9310\n",
       "35772   Topic8    835.510906    계정    836.385153   2.8349  -4.9506\n",
       "39529   Topic8    820.748117    칭찬    821.622539   2.8349  -4.9684\n",
       "38369   Topic8    781.423388    테사    782.297922   2.8348  -5.0175\n",
       "31045   Topic8    759.688249    신고    760.561882   2.8348  -5.0458\n",
       "18965   Topic8    757.801492    무사    758.675962   2.8348  -5.0482\n",
       "11890   Topic8    738.748404    거스    739.631042   2.8347  -5.0737\n",
       "34242   Topic8    722.282738    채금    723.156994   2.8347  -5.0962\n",
       "29545   Topic8    711.409773    언급    712.284739   2.8347  -5.1114\n",
       "39334   Topic8    708.922166    사진    709.796374   2.8347  -5.1149\n",
       "22864   Topic8    699.442119    중국    700.316199   2.8347  -5.1284\n",
       "4679    Topic8    663.298660    채널    664.174259   2.8346  -5.1814\n",
       "41107   Topic8    657.063875    대만    657.938635   2.8346  -5.1909\n",
       "\n",
       "[286 rows x 6 columns], token_table=       Topic      Freq  Term\n",
       "term                        \n",
       "41815      2  0.823345    가능\n",
       "41815      3  0.028168    가능\n",
       "41815      5  0.148230    가능\n",
       "35282      2  0.999800   가로쉬\n",
       "36082      3  0.999193    가요\n",
       "12188      2  0.999639   가즈로\n",
       "17217      4  0.999721    개꿀\n",
       "30935      1  0.999709    개발\n",
       "13501      3  0.999704    개인\n",
       "11890      8  0.999147    거스\n",
       "43239      6  0.999356   건가요\n",
       "26919      1  0.999792    건지\n",
       "16393      3  0.999457    걸로\n",
       "35005      1  0.999929    게임\n",
       "30387      4  0.999831    겐지\n",
       "31909      3  0.999610    결과\n",
       "13992      3  0.999562    결국\n",
       "12428      3  0.999537    경기\n",
       "30272      3  0.334995    경우\n",
       "30272      5  0.664821    경우\n",
       "35772      8  0.999540    계정\n",
       "24848      7  0.999540    골드\n",
       "10506      6  0.999470    공개\n",
       "40906      7  0.998681    공석\n",
       "10405      3  0.999522    공포\n",
       "39397      1  0.999691    구간\n",
       "22372      7  0.999572    구분\n",
       "34057      4  0.999386    굴단\n",
       "33293      1  0.999617    그거\n",
       "5614       3  0.999385    그것\n",
       "...      ...       ...   ...\n",
       "17034      1  0.999830    텐데\n",
       "25363      8  0.998759    투표\n",
       "26930      8  0.999617    트롤\n",
       "3947       2  0.999919    특성\n",
       "3919       5  0.999715   티란데\n",
       "25338      7  0.999812    티어\n",
       "27225      7  0.999387    파편\n",
       "17617      8  0.999015    패배\n",
       "22848      3  0.999543   패시브\n",
       "3832       1  0.991264    패치\n",
       "3832       2  0.008645    패치\n",
       "25876      4  0.999887    평타\n",
       "24605      5  0.999355   포지션\n",
       "23503      7  0.999074    플레\n",
       "14026      1  0.966970   플레이\n",
       "14026      5  0.032683   플레이\n",
       "15820      8  0.999697  플레이어\n",
       "38778      4  0.999617    피해\n",
       "40656      3  0.999763    필요\n",
       "1618       3  0.999910    하나\n",
       "32037      6  0.999248    한국\n",
       "21008      8  0.999290    한판\n",
       "37491      6  0.999651    호드\n",
       "12205      5  0.999391    혼자\n",
       "38663      8  0.999212    확인\n",
       "29676      2  0.999582    회복\n",
       "35038      8  0.998939    후기\n",
       "35209      6  0.999069  히어로즈\n",
       "28546      1  0.999943   히오스\n",
       "21077      5  0.999756    힐러\n",
       "\n",
       "[267 rows x 3 columns], R=30, lambda_step=0.01, plot_opts={'xlab': 'PC1', 'ylab': 'PC2'}, topic_order=[7, 6, 1, 4, 8, 3, 5, 2])"
      ]
     },
     "execution_count": 105,
     "metadata": {},
     "output_type": "execute_result"
    }
   ],
   "source": [
    "# pyLDAvis Visualization\n",
    "\n",
    "pyLDAvis.enable_notebook()\n",
    "vis = pyLDAvis.gensim.prepare(lda_model, corpus, id2word)\n",
    "vis"
   ]
  },
  {
   "cell_type": "code",
   "execution_count": 123,
   "metadata": {
    "scrolled": true
   },
   "outputs": [
    {
     "name": "stdout",
     "output_type": "stream",
     "text": [
      "[(0,\n",
      "  '0.040*\"노바\" + 0.020*\"디바\" + 0.015*\"렉사르\" + 0.013*\"발리라\" + 0.013*\"은신\" + '\n",
      "  '0.008*\"티란데\" + 0.008*\"제라툴\" + 0.006*\"저격\" + 0.006*\"공포\" + 0.006*\"스카\"'),\n",
      " (1,\n",
      "  '0.022*\"영리\" + 0.017*\"영웅\" + 0.015*\"히오스\" + 0.013*\"조합\" + 0.013*\"생각\" + '\n",
      "  '0.012*\"게임\" + 0.012*\"지원\" + 0.011*\"시즌\" + 0.011*\"배치\" + 0.011*\"정도\"'),\n",
      " (2,\n",
      "  '0.080*\"스킨\" + 0.019*\"상자\" + 0.015*\"전설\" + 0.012*\"파편\" + 0.011*\"탈것\" + 0.011*\"하나\" '\n",
      "  '+ 0.011*\"이번\" + 0.007*\"대사\" + 0.007*\"군대\" + 0.006*\"난투\"'),\n",
      " (3,\n",
      "  '0.016*\"레이너\" + 0.013*\"영웅\" + 0.013*\"가로쉬\" + 0.011*\"딜러\" + 0.011*\"겐지\" + '\n",
      "  '0.010*\"상대\" + 0.010*\"바리안\" + 0.010*\"레오릭\" + 0.009*\"생각\" + 0.009*\"라인\"'),\n",
      " (4,\n",
      "  '0.021*\"시공\" + 0.016*\"히오스\" + 0.014*\"인벤\" + 0.013*\"스타\" + 0.012*\"방송\" + '\n",
      "  '0.011*\"영웅\" + 0.008*\"영상\" + 0.008*\"와우\" + 0.008*\"선수\" + 0.007*\"내용\"'),\n",
      " (5,\n",
      "  '0.029*\"특성\" + 0.020*\"스킬\" + 0.018*\"모랄\" + 0.014*\"증가\" + 0.012*\"평타\" + '\n",
      "  '0.011*\"사거리\" + 0.011*\"시간\" + 0.010*\"기본\" + 0.010*\"가능\" + 0.009*\"사용\"'),\n",
      " (6,\n",
      "  '0.026*\"리리\" + 0.020*\"경기\" + 0.016*\"우리\" + 0.012*\"한국\" + 0.011*\"보이스\" + '\n",
      "  '0.010*\"호드\" + 0.009*\"나라\" + 0.009*\"할로윈\" + 0.007*\"오픈\" + 0.007*\"레이븐\"'),\n",
      " (7,\n",
      "  '0.051*\"게임\" + 0.051*\"히오스\" + 0.037*\"사람\" + 0.015*\"생각\" + 0.011*\"친구\" + '\n",
      "  '0.010*\"새끼\" + 0.009*\"시간\" + 0.009*\"문제\" + 0.008*\"자기\" + 0.007*\"유저\"')]\n"
     ]
    }
   ],
   "source": [
    "optimal_model = model_list[1]\n",
    "model_topics = optimal_model.show_topics(formatted=False)\n",
    "pprint(optimal_model.print_topics(num_words=10b))\n",
    "\n",
    "df_ts = df_all[\"contents_all\"].values.tolist()"
   ]
  },
  {
   "cell_type": "markdown",
   "metadata": {},
   "source": [
    "### 각 문장에서의 지배적인 토픽 찾기"
   ]
  },
  {
   "cell_type": "code",
   "execution_count": 125,
   "metadata": {
    "scrolled": true
   },
   "outputs": [
    {
     "data": {
      "text/html": [
       "<div>\n",
       "<style>\n",
       "    .dataframe thead tr:only-child th {\n",
       "        text-align: right;\n",
       "    }\n",
       "\n",
       "    .dataframe thead th {\n",
       "        text-align: left;\n",
       "    }\n",
       "\n",
       "    .dataframe tbody tr th {\n",
       "        vertical-align: top;\n",
       "    }\n",
       "</style>\n",
       "<table border=\"1\" class=\"dataframe\">\n",
       "  <thead>\n",
       "    <tr style=\"text-align: right;\">\n",
       "      <th></th>\n",
       "      <th>Document_No</th>\n",
       "      <th>Dominant_Topic</th>\n",
       "      <th>Topic_Perc_Contrib</th>\n",
       "      <th>Keywords</th>\n",
       "      <th>Text</th>\n",
       "    </tr>\n",
       "  </thead>\n",
       "  <tbody>\n",
       "    <tr>\n",
       "      <th>0</th>\n",
       "      <td>0</td>\n",
       "      <td>1.0</td>\n",
       "      <td>0.7350</td>\n",
       "      <td>영리, 영웅, 히오스, 조합, 생각, 게임, 지원, 시즌, 배치, 정도</td>\n",
       "      <td>아바투르 유저인데 하나 건의합니다아바투르 유저인데 하나 건의합니다새로 생긴 하나무라...</td>\n",
       "    </tr>\n",
       "    <tr>\n",
       "      <th>1</th>\n",
       "      <td>1</td>\n",
       "      <td>1.0</td>\n",
       "      <td>0.6374</td>\n",
       "      <td>영리, 영웅, 히오스, 조합, 생각, 게임, 지원, 시즌, 배치, 정도</td>\n",
       "      <td>매칭 시스템 아무리 생각해도 문제가 많습니다매칭좀 제대로 해주세요9연패가 말이 되는...</td>\n",
       "    </tr>\n",
       "    <tr>\n",
       "      <th>2</th>\n",
       "      <td>2</td>\n",
       "      <td>7.0</td>\n",
       "      <td>0.4775</td>\n",
       "      <td>게임, 히오스, 사람, 생각, 친구, 새끼, 시간, 문제, 자기, 유저</td>\n",
       "      <td>ㅈ같은 매칭좀 어캐좀 해봐요왜 내가 잘해도 ㅈ같이못하는 새키들때문에 게임을 져야하죠...</td>\n",
       "    </tr>\n",
       "    <tr>\n",
       "      <th>3</th>\n",
       "      <td>3</td>\n",
       "      <td>5.0</td>\n",
       "      <td>0.5209</td>\n",
       "      <td>특성, 스킬, 모랄, 증가, 평타, 사거리, 시간, 기본, 가능, 사용</td>\n",
       "      <td>아나 스킨관련신 스킨 살무사 아나 수면총 색 고정말고  스킨 색 대로 해주셧으면 ...</td>\n",
       "    </tr>\n",
       "    <tr>\n",
       "      <th>4</th>\n",
       "      <td>4</td>\n",
       "      <td>1.0</td>\n",
       "      <td>0.5041</td>\n",
       "      <td>영리, 영웅, 히오스, 조합, 생각, 게임, 지원, 시즌, 배치, 정도</td>\n",
       "      <td>5인팟  승률50집착매칭  밸런스 파괴  빠대무간지옥승률 50 만든다고 조합 내놓고...</td>\n",
       "    </tr>\n",
       "    <tr>\n",
       "      <th>5</th>\n",
       "      <td>5</td>\n",
       "      <td>1.0</td>\n",
       "      <td>0.3658</td>\n",
       "      <td>영리, 영웅, 히오스, 조합, 생각, 게임, 지원, 시즌, 배치, 정도</td>\n",
       "      <td>영웅리그 매칭에서 대만인들대만인 새끼들좀 매칭 안되게 해라말도 안통하는 머저리 새끼...</td>\n",
       "    </tr>\n",
       "    <tr>\n",
       "      <th>6</th>\n",
       "      <td>6</td>\n",
       "      <td>1.0</td>\n",
       "      <td>0.3764</td>\n",
       "      <td>영리, 영웅, 히오스, 조합, 생각, 게임, 지원, 시즌, 배치, 정도</td>\n",
       "      <td>신영웅 그만만들고 기존영웅 손좀보시죠신영웅 이제 그만좀만드시고요 기존영웅 쓸수나있게...</td>\n",
       "    </tr>\n",
       "    <tr>\n",
       "      <th>7</th>\n",
       "      <td>7</td>\n",
       "      <td>3.0</td>\n",
       "      <td>0.3922</td>\n",
       "      <td>레이너, 영웅, 가로쉬, 딜러, 겐지, 상대, 바리안, 레오릭, 생각, 라인</td>\n",
       "      <td>망한맵들은 리메이크가 답이 아니다 삭제가 답이지 죽광도 리메이크해도 망맵 하나무라도...</td>\n",
       "    </tr>\n",
       "    <tr>\n",
       "      <th>8</th>\n",
       "      <td>8</td>\n",
       "      <td>1.0</td>\n",
       "      <td>0.8396</td>\n",
       "      <td>영리, 영웅, 히오스, 조합, 생각, 게임, 지원, 시즌, 배치, 정도</td>\n",
       "      <td>히오스 영웅리그 개선안HOTS는 이전부터 영웅리그에 대한 문제가 많았습니다크게 정리...</td>\n",
       "    </tr>\n",
       "    <tr>\n",
       "      <th>9</th>\n",
       "      <td>9</td>\n",
       "      <td>1.0</td>\n",
       "      <td>0.6565</td>\n",
       "      <td>영리, 영웅, 히오스, 조합, 생각, 게임, 지원, 시즌, 배치, 정도</td>\n",
       "      <td>다른 영웅 선택되는 버그분명 픽창에서는 제가 하고싶은 영웅을 선택했는데 시작하고나면...</td>\n",
       "    </tr>\n",
       "  </tbody>\n",
       "</table>\n",
       "</div>"
      ],
      "text/plain": [
       "   Document_No  Dominant_Topic  Topic_Perc_Contrib  \\\n",
       "0            0             1.0              0.7350   \n",
       "1            1             1.0              0.6374   \n",
       "2            2             7.0              0.4775   \n",
       "3            3             5.0              0.5209   \n",
       "4            4             1.0              0.5041   \n",
       "5            5             1.0              0.3658   \n",
       "6            6             1.0              0.3764   \n",
       "7            7             3.0              0.3922   \n",
       "8            8             1.0              0.8396   \n",
       "9            9             1.0              0.6565   \n",
       "\n",
       "                                     Keywords  \\\n",
       "0     영리, 영웅, 히오스, 조합, 생각, 게임, 지원, 시즌, 배치, 정도   \n",
       "1     영리, 영웅, 히오스, 조합, 생각, 게임, 지원, 시즌, 배치, 정도   \n",
       "2     게임, 히오스, 사람, 생각, 친구, 새끼, 시간, 문제, 자기, 유저   \n",
       "3     특성, 스킬, 모랄, 증가, 평타, 사거리, 시간, 기본, 가능, 사용   \n",
       "4     영리, 영웅, 히오스, 조합, 생각, 게임, 지원, 시즌, 배치, 정도   \n",
       "5     영리, 영웅, 히오스, 조합, 생각, 게임, 지원, 시즌, 배치, 정도   \n",
       "6     영리, 영웅, 히오스, 조합, 생각, 게임, 지원, 시즌, 배치, 정도   \n",
       "7  레이너, 영웅, 가로쉬, 딜러, 겐지, 상대, 바리안, 레오릭, 생각, 라인   \n",
       "8     영리, 영웅, 히오스, 조합, 생각, 게임, 지원, 시즌, 배치, 정도   \n",
       "9     영리, 영웅, 히오스, 조합, 생각, 게임, 지원, 시즌, 배치, 정도   \n",
       "\n",
       "                                                Text  \n",
       "0  아바투르 유저인데 하나 건의합니다아바투르 유저인데 하나 건의합니다새로 생긴 하나무라...  \n",
       "1  매칭 시스템 아무리 생각해도 문제가 많습니다매칭좀 제대로 해주세요9연패가 말이 되는...  \n",
       "2  ㅈ같은 매칭좀 어캐좀 해봐요왜 내가 잘해도 ㅈ같이못하는 새키들때문에 게임을 져야하죠...  \n",
       "3   아나 스킨관련신 스킨 살무사 아나 수면총 색 고정말고  스킨 색 대로 해주셧으면 ...  \n",
       "4  5인팟  승률50집착매칭  밸런스 파괴  빠대무간지옥승률 50 만든다고 조합 내놓고...  \n",
       "5  영웅리그 매칭에서 대만인들대만인 새끼들좀 매칭 안되게 해라말도 안통하는 머저리 새끼...  \n",
       "6  신영웅 그만만들고 기존영웅 손좀보시죠신영웅 이제 그만좀만드시고요 기존영웅 쓸수나있게...  \n",
       "7  망한맵들은 리메이크가 답이 아니다 삭제가 답이지 죽광도 리메이크해도 망맵 하나무라도...  \n",
       "8  히오스 영웅리그 개선안HOTS는 이전부터 영웅리그에 대한 문제가 많았습니다크게 정리...  \n",
       "9  다른 영웅 선택되는 버그분명 픽창에서는 제가 하고싶은 영웅을 선택했는데 시작하고나면...  "
      ]
     },
     "execution_count": 125,
     "metadata": {},
     "output_type": "execute_result"
    }
   ],
   "source": [
    "def format_topics_sentences(ldamodel=lda_model, corpus=corpus, texts=df_ts):\n",
    "    # Init output\n",
    "    sent_topics_df = pd.DataFrame()\n",
    "\n",
    "    # Get main topic in each document\n",
    "    for i, row in enumerate(ldamodel[corpus]):\n",
    "        row = sorted(row, key=lambda x: (x[1]), reverse=True)\n",
    "        \n",
    "        # Get the Dominant topic, Perc Contribution and Keywords for each document\n",
    "        for j, (topic_num, prop_topic) in enumerate(row):\n",
    "            if j == 0:  # => dominant topic\n",
    "                wp = ldamodel.show_topic(topic_num)\n",
    "                topic_keywords = \", \".join([word for word, prop in wp])\n",
    "                sent_topics_df = sent_topics_df.append(pd.Series([int(topic_num), round(prop_topic,4), topic_keywords]), ignore_index=True)\n",
    "            else:\n",
    "                break\n",
    "    sent_topics_df.columns = ['Dominant_Topic', 'Perc_Contribution', 'Topic_Keywords']\n",
    "\n",
    "    # Add original text to the end of the output\n",
    "    contents = pd.Series(texts)\n",
    "    sent_topics_df = pd.concat([sent_topics_df, contents], axis=1)\n",
    "    return(sent_topics_df)\n",
    "\n",
    "\n",
    "df_topic_sents_keywords = format_topics_sentences(ldamodel=optimal_model, corpus=corpus, texts=df_ts)\n",
    "\n",
    "# Format\n",
    "df_dominant_topic = df_topic_sents_keywords.reset_index()\n",
    "df_dominant_topic.columns = ['Document_No', 'Dominant_Topic', 'Topic_Perc_Contrib', 'Keywords', 'Text']\n",
    "\n",
    "# Show\n",
    "df_dominant_topic.head(10)"
   ]
  },
  {
   "cell_type": "markdown",
   "metadata": {},
   "source": [
    "### 각 토픽별로 가장 대표적인 문서 찾기"
   ]
  },
  {
   "cell_type": "code",
   "execution_count": 130,
   "metadata": {},
   "outputs": [
    {
     "data": {
      "text/html": [
       "<div>\n",
       "<style>\n",
       "    .dataframe thead tr:only-child th {\n",
       "        text-align: right;\n",
       "    }\n",
       "\n",
       "    .dataframe thead th {\n",
       "        text-align: left;\n",
       "    }\n",
       "\n",
       "    .dataframe tbody tr th {\n",
       "        vertical-align: top;\n",
       "    }\n",
       "</style>\n",
       "<table border=\"1\" class=\"dataframe\">\n",
       "  <thead>\n",
       "    <tr style=\"text-align: right;\">\n",
       "      <th></th>\n",
       "      <th>Topic_Num</th>\n",
       "      <th>Topic_Perc_Contrib</th>\n",
       "      <th>Keywords</th>\n",
       "      <th>Text</th>\n",
       "    </tr>\n",
       "  </thead>\n",
       "  <tbody>\n",
       "    <tr>\n",
       "      <th>0</th>\n",
       "      <td>0.0</td>\n",
       "      <td>0.9270</td>\n",
       "      <td>노바, 디바, 렉사르, 발리라, 은신, 티란데, 제라툴, 저격, 공포, 스카</td>\n",
       "      <td>사무로 은신 or 분신 너프사무로 은신 or 분신 너프에 관하여인간적으로 둘 중에 ...</td>\n",
       "    </tr>\n",
       "    <tr>\n",
       "      <th>1</th>\n",
       "      <td>1.0</td>\n",
       "      <td>0.9880</td>\n",
       "      <td>영리, 영웅, 히오스, 조합, 생각, 게임, 지원, 시즌, 배치, 정도</td>\n",
       "      <td>히린이들은 영웅리그에서 기존유저는 빠대에서많이본다게임을 많이하고 잘아는사람들은 빠른...</td>\n",
       "    </tr>\n",
       "    <tr>\n",
       "      <th>2</th>\n",
       "      <td>2.0</td>\n",
       "      <td>0.9775</td>\n",
       "      <td>스킨, 상자, 전설, 파편, 탈것, 하나, 이번, 대사, 군대, 난투</td>\n",
       "      <td>홍코노랑 오프라임 뭐지왜 커플룩설마음모음모음모음모음모음모음모음모음모음모음모음모음모음...</td>\n",
       "    </tr>\n",
       "    <tr>\n",
       "      <th>3</th>\n",
       "      <td>3.0</td>\n",
       "      <td>0.9825</td>\n",
       "      <td>레이너, 영웅, 가로쉬, 딜러, 겐지, 상대, 바리안, 레오릭, 생각, 라인</td>\n",
       "      <td>난투브락시스 탈출영웅성공한 조합바리안소냐레가르모랄레스그레이메인바리안자리야루시우레가르...</td>\n",
       "    </tr>\n",
       "    <tr>\n",
       "      <th>4</th>\n",
       "      <td>4.0</td>\n",
       "      <td>0.9998</td>\n",
       "      <td>시공, 히오스, 인벤, 스타, 방송, 영웅, 영상, 와우, 선수, 내용</td>\n",
       "      <td>히오스 하고 싶다아시공조아시공조아시공조아시공조아시공조아시공조아시공조아시공조아시공조아...</td>\n",
       "    </tr>\n",
       "    <tr>\n",
       "      <th>5</th>\n",
       "      <td>5.0</td>\n",
       "      <td>0.9792</td>\n",
       "      <td>특성, 스킬, 모랄, 증가, 평타, 사거리, 시간, 기본, 가능, 사용</td>\n",
       "      <td>아나 개인적으로 아쉬운 부분이아나는 자신 스스로 회복 가능한 생존기가 그나마 생체 ...</td>\n",
       "    </tr>\n",
       "    <tr>\n",
       "      <th>6</th>\n",
       "      <td>6.0</td>\n",
       "      <td>0.9859</td>\n",
       "      <td>리리, 경기, 우리, 한국, 보이스, 호드, 나라, 할로윈, 오픈, 레이븐</td>\n",
       "      <td>리리리리리리리리리리리리리리리리리리리리리리리리리리리리리리리리리리리리리리리리리리리리리리...</td>\n",
       "    </tr>\n",
       "    <tr>\n",
       "      <th>7</th>\n",
       "      <td>7.0</td>\n",
       "      <td>0.9852</td>\n",
       "      <td>게임, 히오스, 사람, 생각, 친구, 새끼, 시간, 문제, 자기, 유저</td>\n",
       "      <td>이게 게임이냐렉 오짐 망겜 히오스 망겜 히오스 망겜 히오스 망겜 히오스 망겜 히오스...</td>\n",
       "    </tr>\n",
       "  </tbody>\n",
       "</table>\n",
       "</div>"
      ],
      "text/plain": [
       "   Topic_Num  Topic_Perc_Contrib                                    Keywords  \\\n",
       "0        0.0              0.9270  노바, 디바, 렉사르, 발리라, 은신, 티란데, 제라툴, 저격, 공포, 스카   \n",
       "1        1.0              0.9880     영리, 영웅, 히오스, 조합, 생각, 게임, 지원, 시즌, 배치, 정도   \n",
       "2        2.0              0.9775      스킨, 상자, 전설, 파편, 탈것, 하나, 이번, 대사, 군대, 난투   \n",
       "3        3.0              0.9825  레이너, 영웅, 가로쉬, 딜러, 겐지, 상대, 바리안, 레오릭, 생각, 라인   \n",
       "4        4.0              0.9998     시공, 히오스, 인벤, 스타, 방송, 영웅, 영상, 와우, 선수, 내용   \n",
       "5        5.0              0.9792     특성, 스킬, 모랄, 증가, 평타, 사거리, 시간, 기본, 가능, 사용   \n",
       "6        6.0              0.9859   리리, 경기, 우리, 한국, 보이스, 호드, 나라, 할로윈, 오픈, 레이븐   \n",
       "7        7.0              0.9852     게임, 히오스, 사람, 생각, 친구, 새끼, 시간, 문제, 자기, 유저   \n",
       "\n",
       "                                                Text  \n",
       "0  사무로 은신 or 분신 너프사무로 은신 or 분신 너프에 관하여인간적으로 둘 중에 ...  \n",
       "1  히린이들은 영웅리그에서 기존유저는 빠대에서많이본다게임을 많이하고 잘아는사람들은 빠른...  \n",
       "2  홍코노랑 오프라임 뭐지왜 커플룩설마음모음모음모음모음모음모음모음모음모음모음모음모음모음...  \n",
       "3  난투브락시스 탈출영웅성공한 조합바리안소냐레가르모랄레스그레이메인바리안자리야루시우레가르...  \n",
       "4  히오스 하고 싶다아시공조아시공조아시공조아시공조아시공조아시공조아시공조아시공조아시공조아...  \n",
       "5  아나 개인적으로 아쉬운 부분이아나는 자신 스스로 회복 가능한 생존기가 그나마 생체 ...  \n",
       "6  리리리리리리리리리리리리리리리리리리리리리리리리리리리리리리리리리리리리리리리리리리리리리리...  \n",
       "7  이게 게임이냐렉 오짐 망겜 히오스 망겜 히오스 망겜 히오스 망겜 히오스 망겜 히오스...  "
      ]
     },
     "execution_count": 130,
     "metadata": {},
     "output_type": "execute_result"
    }
   ],
   "source": [
    "# Group top 5 sentences under each topic\n",
    "sent_topics_sorteddf = pd.DataFrame()\n",
    "\n",
    "sent_topics_outdf_grpd = df_topic_sents_keywords.groupby('Dominant_Topic')\n",
    "\n",
    "for i, grp in sent_topics_outdf_grpd:\n",
    "    sent_topics_sorteddf = pd.concat([sent_topics_sorteddf, \n",
    "                                      grp.sort_values(['Perc_Contribution'], ascending=[0]).head(1)], \n",
    "                                      axis=0)\n",
    "\n",
    "# Reset Index    \n",
    "sent_topics_sorteddf.reset_index(drop=True, inplace=True)\n",
    "\n",
    "# Format\n",
    "sent_topics_sorteddf.columns = ['Topic_Num', \"Topic_Perc_Contrib\", \"Keywords\", \"Text\"]\n",
    "\n",
    "# Show\n",
    "sent_topics_sorteddf"
   ]
  },
  {
   "cell_type": "markdown",
   "metadata": {},
   "source": [
    "### 문서 전체의 토픽 분포"
   ]
  },
  {
   "cell_type": "code",
   "execution_count": 132,
   "metadata": {},
   "outputs": [
    {
     "data": {
      "text/html": [
       "<div>\n",
       "<style>\n",
       "    .dataframe thead tr:only-child th {\n",
       "        text-align: right;\n",
       "    }\n",
       "\n",
       "    .dataframe thead th {\n",
       "        text-align: left;\n",
       "    }\n",
       "\n",
       "    .dataframe tbody tr th {\n",
       "        vertical-align: top;\n",
       "    }\n",
       "</style>\n",
       "<table border=\"1\" class=\"dataframe\">\n",
       "  <thead>\n",
       "    <tr style=\"text-align: right;\">\n",
       "      <th></th>\n",
       "      <th>Dominant_Topic</th>\n",
       "      <th>Topic_Keywords</th>\n",
       "      <th>Num_Documents</th>\n",
       "      <th>Perc_Documents</th>\n",
       "    </tr>\n",
       "  </thead>\n",
       "  <tbody>\n",
       "    <tr>\n",
       "      <th>153203</th>\n",
       "      <td>1.0</td>\n",
       "      <td>영리, 영웅, 히오스, 조합, 생각, 게임, 지원, 시즌, 배치, 정도</td>\n",
       "      <td>NaN</td>\n",
       "      <td>NaN</td>\n",
       "    </tr>\n",
       "    <tr>\n",
       "      <th>153204</th>\n",
       "      <td>4.0</td>\n",
       "      <td>시공, 히오스, 인벤, 스타, 방송, 영웅, 영상, 와우, 선수, 내용</td>\n",
       "      <td>NaN</td>\n",
       "      <td>NaN</td>\n",
       "    </tr>\n",
       "    <tr>\n",
       "      <th>153205</th>\n",
       "      <td>4.0</td>\n",
       "      <td>시공, 히오스, 인벤, 스타, 방송, 영웅, 영상, 와우, 선수, 내용</td>\n",
       "      <td>NaN</td>\n",
       "      <td>NaN</td>\n",
       "    </tr>\n",
       "    <tr>\n",
       "      <th>153206</th>\n",
       "      <td>5.0</td>\n",
       "      <td>특성, 스킬, 모랄, 증가, 평타, 사거리, 시간, 기본, 가능, 사용</td>\n",
       "      <td>NaN</td>\n",
       "      <td>NaN</td>\n",
       "    </tr>\n",
       "    <tr>\n",
       "      <th>153207</th>\n",
       "      <td>1.0</td>\n",
       "      <td>영리, 영웅, 히오스, 조합, 생각, 게임, 지원, 시즌, 배치, 정도</td>\n",
       "      <td>NaN</td>\n",
       "      <td>NaN</td>\n",
       "    </tr>\n",
       "  </tbody>\n",
       "</table>\n",
       "</div>"
      ],
      "text/plain": [
       "        Dominant_Topic                           Topic_Keywords  \\\n",
       "153203             1.0  영리, 영웅, 히오스, 조합, 생각, 게임, 지원, 시즌, 배치, 정도   \n",
       "153204             4.0  시공, 히오스, 인벤, 스타, 방송, 영웅, 영상, 와우, 선수, 내용   \n",
       "153205             4.0  시공, 히오스, 인벤, 스타, 방송, 영웅, 영상, 와우, 선수, 내용   \n",
       "153206             5.0  특성, 스킬, 모랄, 증가, 평타, 사거리, 시간, 기본, 가능, 사용   \n",
       "153207             1.0  영리, 영웅, 히오스, 조합, 생각, 게임, 지원, 시즌, 배치, 정도   \n",
       "\n",
       "        Num_Documents  Perc_Documents  \n",
       "153203            NaN             NaN  \n",
       "153204            NaN             NaN  \n",
       "153205            NaN             NaN  \n",
       "153206            NaN             NaN  \n",
       "153207            NaN             NaN  "
      ]
     },
     "execution_count": 132,
     "metadata": {},
     "output_type": "execute_result"
    }
   ],
   "source": [
    "# Number of Documents for Each Topic\n",
    "topic_counts = df_topic_sents_keywords['Dominant_Topic'].value_counts()\n",
    "\n",
    "# Percentage of Documents for Each Topic\n",
    "topic_contribution = round(topic_counts/topic_counts.sum(), 4)\n",
    "\n",
    "# Topic Number and Keywords\n",
    "topic_num_keywords = df_topic_sents_keywords[['Dominant_Topic', 'Topic_Keywords']]\n",
    "\n",
    "# Concatenate Column wise\n",
    "df_dominant_topics = pd.concat([topic_num_keywords, topic_counts, topic_contribution], axis=1)\n",
    "\n",
    "# Change Column names\n",
    "df_dominant_topics.columns = ['Dominant_Topic', 'Topic_Keywords', 'Num_Documents', 'Perc_Documents']\n",
    "\n",
    "# Show\n",
    "df_dominant_topics.tail()"
   ]
  },
  {
   "cell_type": "code",
   "execution_count": null,
   "metadata": {
    "collapsed": true
   },
   "outputs": [],
   "source": []
  }
 ],
 "metadata": {
  "kernelspec": {
   "display_name": "Python [Root]",
   "language": "python",
   "name": "Python [Root]"
  },
  "language_info": {
   "codemirror_mode": {
    "name": "ipython",
    "version": 3
   },
   "file_extension": ".py",
   "mimetype": "text/x-python",
   "name": "python",
   "nbconvert_exporter": "python",
   "pygments_lexer": "ipython3",
   "version": "3.5.3"
  }
 },
 "nbformat": 4,
 "nbformat_minor": 2
}
