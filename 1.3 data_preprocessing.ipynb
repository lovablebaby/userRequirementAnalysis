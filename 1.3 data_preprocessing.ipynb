{
 "cells": [
  {
   "cell_type": "markdown",
   "metadata": {},
   "source": [
    "## Load Libarary"
   ]
  },
  {
   "cell_type": "code",
   "execution_count": 1,
   "metadata": {
    "collapsed": true
   },
   "outputs": [],
   "source": [
    "import pandas as pd # 판다스 \n",
    "import numpy as np # 넘파이\n",
    "import glob # 파일 여러개 불러올 때\n",
    "import time, datetime\n",
    "from datetime import datetime\n",
    "\n",
    "import re # 정규표현식\n",
    "import csv # 파일로 저장하기 위한 툴"
   ]
  },
  {
   "cell_type": "markdown",
   "metadata": {},
   "source": [
    "## Load data "
   ]
  },
  {
   "cell_type": "code",
   "execution_count": 2,
   "metadata": {
    "collapsed": true,
    "scrolled": true
   },
   "outputs": [],
   "source": [
    "# Inven Data \n",
    "\n",
    "df1 = pd.read_csv(\"data/invenData_1~10000.csv\", encoding = 'utf8', header=None, engine='python')\n",
    "df2 = pd.read_csv(\"data/invenData_10001~50000.csv\", encoding='utf8', header=None, engine='python')\n",
    "df3 = pd.read_csv(\"data/invenData_50001~70000.csv\", encoding='utf8', header=None, engine='python')\n",
    "df4 = pd.read_csv(\"data/invenData_70001~85834.csv\", encoding='utf8', header=None, engine='python')\n",
    "df5 = pd.read_csv(\"data/invenData_85835~100000.csv\", encoding='utf8', header=None, engine='python')\n",
    "df6 = pd.read_csv(\"data/invenData_100001~120000.csv\", encoding='utf8', header=None, engine='python')\n",
    "df7 = pd.read_csv(\"data/invenData_120001~140000.csv\", encoding='utf8', header=None, engine='python')\n",
    "df8 = pd.read_csv(\"data/invenData_140001~152823.csv\", encoding='utf8', header=None, engine='python')\n",
    "df9 = pd.read_csv(\"data/invenData_152824~160100.csv\", encoding='utf8', header=None, engine='python')"
   ]
  },
  {
   "cell_type": "code",
   "execution_count": 3,
   "metadata": {
    "collapsed": true
   },
   "outputs": [],
   "source": [
    "# 인벤 데이터 한꺼번에 합침\n",
    "df_inven = pd.concat([df1, df2, df3, df4, df5, df6, df7, df8, df9])"
   ]
  },
  {
   "cell_type": "code",
   "execution_count": 4,
   "metadata": {
    "collapsed": true
   },
   "outputs": [],
   "source": [
    "# 컬럼명 붙이기\n",
    "df_inven.columns = ['link_id', 'timestamp', 'title', 'contents']"
   ]
  },
  {
   "cell_type": "code",
   "execution_count": 5,
   "metadata": {
    "scrolled": true
   },
   "outputs": [
    {
     "data": {
      "text/html": [
       "<div>\n",
       "<style>\n",
       "    .dataframe thead tr:only-child th {\n",
       "        text-align: right;\n",
       "    }\n",
       "\n",
       "    .dataframe thead th {\n",
       "        text-align: left;\n",
       "    }\n",
       "\n",
       "    .dataframe tbody tr th {\n",
       "        vertical-align: top;\n",
       "    }\n",
       "</style>\n",
       "<table border=\"1\" class=\"dataframe\">\n",
       "  <thead>\n",
       "    <tr style=\"text-align: right;\">\n",
       "      <th></th>\n",
       "      <th>link_id</th>\n",
       "      <th>timestamp</th>\n",
       "      <th>title</th>\n",
       "      <th>contents</th>\n",
       "    </tr>\n",
       "  </thead>\n",
       "  <tbody>\n",
       "    <tr>\n",
       "      <th>2</th>\n",
       "      <td>1214899</td>\n",
       "      <td>2018-09-06 22:38</td>\n",
       "      <td>[오시공] 김정민,문규리,침착맨,네클릿,옥냥이 메피스토 특별방송!</td>\n",
       "      <td>NaN</td>\n",
       "    </tr>\n",
       "    <tr>\n",
       "      <th>3</th>\n",
       "      <td>1215180</td>\n",
       "      <td>2018-09-10 23:57</td>\n",
       "      <td>ㅋㅋㅋㅋ 장구벌레</td>\n",
       "      <td>NaN</td>\n",
       "    </tr>\n",
       "    <tr>\n",
       "      <th>260</th>\n",
       "      <td>1214899</td>\n",
       "      <td>2018-09-06 22:38</td>\n",
       "      <td>[오시공] 김정민,문규리,침착맨,네클릿,옥냥이 메피스토 특별방송!</td>\n",
       "      <td>NaN</td>\n",
       "    </tr>\n",
       "    <tr>\n",
       "      <th>410</th>\n",
       "      <td>1214735</td>\n",
       "      <td>2018-09-06 02:32</td>\n",
       "      <td>[목요일7시] 최광원,빈본,노챗 해설의 HGC KR 오픈 디비전 S2 6회차 결승전...</td>\n",
       "      <td>NaN</td>\n",
       "    </tr>\n",
       "    <tr>\n",
       "      <th>424</th>\n",
       "      <td>1214719</td>\n",
       "      <td>2018-09-05 22:47</td>\n",
       "      <td>히오스가 망하지 않는 방법</td>\n",
       "      <td>NaN</td>\n",
       "    </tr>\n",
       "    <tr>\n",
       "      <th>426</th>\n",
       "      <td>1214717</td>\n",
       "      <td>2018-09-05 22:28</td>\n",
       "      <td>컨셉아트만 잘그리는 효스</td>\n",
       "      <td>NaN</td>\n",
       "    </tr>\n",
       "    <tr>\n",
       "      <th>428</th>\n",
       "      <td>1214714</td>\n",
       "      <td>2018-09-05 21:46</td>\n",
       "      <td>히오스는 망할 수 밖에 없다. 왜냐하면</td>\n",
       "      <td>NaN</td>\n",
       "    </tr>\n",
       "    <tr>\n",
       "      <th>472</th>\n",
       "      <td>1214665</td>\n",
       "      <td>2018-09-05 04:14</td>\n",
       "      <td>입 히오스 모음</td>\n",
       "      <td>NaN</td>\n",
       "    </tr>\n",
       "    <tr>\n",
       "      <th>485</th>\n",
       "      <td>1214651</td>\n",
       "      <td>2018-09-04 20:52</td>\n",
       "      <td>[수요일7시] 최광원,빈본,노챗 해설의 HGC KR 오픈 디비전 S2 6회차 4강전...</td>\n",
       "      <td>NaN</td>\n",
       "    </tr>\n",
       "    <tr>\n",
       "      <th>598</th>\n",
       "      <td>1214526</td>\n",
       "      <td>2018-09-03 00:45</td>\n",
       "      <td>마엡만하면 이기는거 같은데 픽맞춰준다고 다른거 하면 지네요 ㅠ</td>\n",
       "      <td>NaN</td>\n",
       "    </tr>\n",
       "    <tr>\n",
       "      <th>620</th>\n",
       "      <td>1214502</td>\n",
       "      <td>2018-09-02 19:52</td>\n",
       "      <td>굴단 파괴의비 상향하는법</td>\n",
       "      <td>NaN</td>\n",
       "    </tr>\n",
       "    <tr>\n",
       "      <th>674</th>\n",
       "      <td>1214439</td>\n",
       "      <td>2018-09-02 11:37</td>\n",
       "      <td>5 우두</td>\n",
       "      <td>NaN</td>\n",
       "    </tr>\n",
       "    <tr>\n",
       "      <th>676</th>\n",
       "      <td>1214437</td>\n",
       "      <td>2018-09-02 10:41</td>\n",
       "      <td>겐지 너프 하지말라는 사람들 논리</td>\n",
       "      <td>NaN</td>\n",
       "    </tr>\n",
       "    <tr>\n",
       "      <th>782</th>\n",
       "      <td>1214315</td>\n",
       "      <td>2018-08-31 01:49</td>\n",
       "      <td>앙 기모띠!</td>\n",
       "      <td>NaN</td>\n",
       "    </tr>\n",
       "    <tr>\n",
       "      <th>848</th>\n",
       "      <td>1214234</td>\n",
       "      <td>2018-08-29 23:28</td>\n",
       "      <td>[목요일7시] 최광원,빈본,정우서 해설의 HGC KR 오픈 디비전 S2 5회차 결승...</td>\n",
       "      <td>NaN</td>\n",
       "    </tr>\n",
       "    <tr>\n",
       "      <th>893</th>\n",
       "      <td>1214185</td>\n",
       "      <td>2018-08-29 10:44</td>\n",
       "      <td>LKK 최근 트레이서하이라이트</td>\n",
       "      <td>NaN</td>\n",
       "    </tr>\n",
       "    <tr>\n",
       "      <th>928</th>\n",
       "      <td>1214149</td>\n",
       "      <td>2018-08-28 21:21</td>\n",
       "      <td>[수요일7시] 최광원,빈본,정우서 해설의 HGC KR 오픈 디비전 S2 5회차 4강...</td>\n",
       "      <td>NaN</td>\n",
       "    </tr>\n",
       "    <tr>\n",
       "      <th>1028</th>\n",
       "      <td>1214040</td>\n",
       "      <td>2018-08-27 14:53</td>\n",
       "      <td>롤보다 히오스가 나은점</td>\n",
       "      <td>NaN</td>\n",
       "    </tr>\n",
       "    <tr>\n",
       "      <th>1073</th>\n",
       "      <td>1213987</td>\n",
       "      <td>2018-08-26 23:45</td>\n",
       "      <td>??: 덤블링 해보겠습니다!</td>\n",
       "      <td>NaN</td>\n",
       "    </tr>\n",
       "    <tr>\n",
       "      <th>1108</th>\n",
       "      <td>1213947</td>\n",
       "      <td>2018-08-26 14:20</td>\n",
       "      <td>현재 영리매칭시간 실화?</td>\n",
       "      <td>NaN</td>\n",
       "    </tr>\n",
       "    <tr>\n",
       "      <th>1627</th>\n",
       "      <td>1213366</td>\n",
       "      <td>2018-08-19 22:32</td>\n",
       "      <td>님들</td>\n",
       "      <td>NaN</td>\n",
       "    </tr>\n",
       "    <tr>\n",
       "      <th>1636</th>\n",
       "      <td>1213355</td>\n",
       "      <td>2018-08-19 20:37</td>\n",
       "      <td>젠지vs발리 마지막 한타</td>\n",
       "      <td>NaN</td>\n",
       "    </tr>\n",
       "    <tr>\n",
       "      <th>1958</th>\n",
       "      <td>1212997</td>\n",
       "      <td>2018-08-14 23:22</td>\n",
       "      <td>영웅목록으로 성격테스트가 된다던데 이건?</td>\n",
       "      <td>NaN</td>\n",
       "    </tr>\n",
       "    <tr>\n",
       "      <th>2023</th>\n",
       "      <td>1212927</td>\n",
       "      <td>2018-08-14 00:38</td>\n",
       "      <td>빠대 매칭 왜이럼?</td>\n",
       "      <td>NaN</td>\n",
       "    </tr>\n",
       "    <tr>\n",
       "      <th>2271</th>\n",
       "      <td>1212642</td>\n",
       "      <td>2018-08-10 16:32</td>\n",
       "      <td>[오시공] 김정민,문규리,침착맨,네클릿,옥냥이 화이트메인 특별방송!</td>\n",
       "      <td>NaN</td>\n",
       "    </tr>\n",
       "    <tr>\n",
       "      <th>2297</th>\n",
       "      <td>1212613</td>\n",
       "      <td>2018-08-10 13:53</td>\n",
       "      <td>너도 푹 빠지게 될거야 헿</td>\n",
       "      <td>NaN</td>\n",
       "    </tr>\n",
       "    <tr>\n",
       "      <th>2578</th>\n",
       "      <td>1212308</td>\n",
       "      <td>2018-08-07 14:51</td>\n",
       "      <td>불덩이작렬 .gif</td>\n",
       "      <td>NaN</td>\n",
       "    </tr>\n",
       "    <tr>\n",
       "      <th>2867</th>\n",
       "      <td>1211985</td>\n",
       "      <td>2018-08-03 19:26</td>\n",
       "      <td>쓰랄 승률 ㅅㅌㅊ?</td>\n",
       "      <td>NaN</td>\n",
       "    </tr>\n",
       "    <tr>\n",
       "      <th>2927</th>\n",
       "      <td>1211920</td>\n",
       "      <td>2018-08-03 09:58</td>\n",
       "      <td>화이트메인 복장이 불편했던 사람</td>\n",
       "      <td>NaN</td>\n",
       "    </tr>\n",
       "    <tr>\n",
       "      <th>2937</th>\n",
       "      <td>1211908</td>\n",
       "      <td>2018-08-03 06:01</td>\n",
       "      <td>갓겜 ㅅㅂ...</td>\n",
       "      <td>NaN</td>\n",
       "    </tr>\n",
       "    <tr>\n",
       "      <th>...</th>\n",
       "      <td>...</td>\n",
       "      <td>...</td>\n",
       "      <td>...</td>\n",
       "      <td>...</td>\n",
       "    </tr>\n",
       "    <tr>\n",
       "      <th>4044</th>\n",
       "      <td>1034389</td>\n",
       "      <td>2017-09-08 23:31</td>\n",
       "      <td>방금 느낌이 왔음 이번 블리즈컨에서 아서스 리모델링됨</td>\n",
       "      <td>NaN</td>\n",
       "    </tr>\n",
       "    <tr>\n",
       "      <th>4427</th>\n",
       "      <td>1033978</td>\n",
       "      <td>2017-09-08 12:38</td>\n",
       "      <td>요새 쪽바리가 앞에서 지x 안하는이유</td>\n",
       "      <td>NaN</td>\n",
       "    </tr>\n",
       "    <tr>\n",
       "      <th>4631</th>\n",
       "      <td>1033748</td>\n",
       "      <td>2017-09-08 01:03</td>\n",
       "      <td>리메이크된 제이나 성능은 어떤가요?</td>\n",
       "      <td>NaN</td>\n",
       "    </tr>\n",
       "    <tr>\n",
       "      <th>4645</th>\n",
       "      <td>1033731</td>\n",
       "      <td>2017-09-08 00:47</td>\n",
       "      <td>영리 첫판인데 ㅠㅠ</td>\n",
       "      <td>NaN</td>\n",
       "    </tr>\n",
       "    <tr>\n",
       "      <th>4829</th>\n",
       "      <td>1033537</td>\n",
       "      <td>2017-09-07 21:34</td>\n",
       "      <td>컨 쩔어야댐 ㅡㅡ</td>\n",
       "      <td>NaN</td>\n",
       "    </tr>\n",
       "    <tr>\n",
       "      <th>4888</th>\n",
       "      <td>1033476</td>\n",
       "      <td>2017-09-07 20:31</td>\n",
       "      <td>운수 좋은 날.</td>\n",
       "      <td>NaN</td>\n",
       "    </tr>\n",
       "    <tr>\n",
       "      <th>4971</th>\n",
       "      <td>1033382</td>\n",
       "      <td>2017-09-07 18:19</td>\n",
       "      <td>ㅈㅇㄴ ㄱㅊㄱㅇ</td>\n",
       "      <td>NaN</td>\n",
       "    </tr>\n",
       "    <tr>\n",
       "      <th>4975</th>\n",
       "      <td>1033378</td>\n",
       "      <td>2017-09-07 18:17</td>\n",
       "      <td>가즈로 버그</td>\n",
       "      <td>NaN</td>\n",
       "    </tr>\n",
       "    <tr>\n",
       "      <th>5423</th>\n",
       "      <td>1032863</td>\n",
       "      <td>2017-09-07 00:35</td>\n",
       "      <td>내일은 노바로 물몸 켈투 때리고 다녀야지</td>\n",
       "      <td>NaN</td>\n",
       "    </tr>\n",
       "    <tr>\n",
       "      <th>5616</th>\n",
       "      <td>1032632</td>\n",
       "      <td>2017-09-06 17:48</td>\n",
       "      <td>카봇 무슨약을 빨았냐 ㅅㅂ ㅋㅋㅋㅋ</td>\n",
       "      <td>NaN</td>\n",
       "    </tr>\n",
       "    <tr>\n",
       "      <th>5620</th>\n",
       "      <td>1032625</td>\n",
       "      <td>2017-09-06 17:38</td>\n",
       "      <td>고독한미식가 새우마요, 오리알</td>\n",
       "      <td>NaN</td>\n",
       "    </tr>\n",
       "    <tr>\n",
       "      <th>5630</th>\n",
       "      <td>1032615</td>\n",
       "      <td>2017-09-06 17:12</td>\n",
       "      <td>30년후 블리자드 본사</td>\n",
       "      <td>NaN</td>\n",
       "    </tr>\n",
       "    <tr>\n",
       "      <th>5832</th>\n",
       "      <td>1032387</td>\n",
       "      <td>2017-09-06 02:17</td>\n",
       "      <td>빠져나올수 없다.. (북미버전)</td>\n",
       "      <td>NaN</td>\n",
       "    </tr>\n",
       "    <tr>\n",
       "      <th>5905</th>\n",
       "      <td>1032300</td>\n",
       "      <td>2017-09-05 23:12</td>\n",
       "      <td>스폰지밥 동심파괴 애니메이션</td>\n",
       "      <td>NaN</td>\n",
       "    </tr>\n",
       "    <tr>\n",
       "      <th>6003</th>\n",
       "      <td>1032191</td>\n",
       "      <td>2017-09-05 19:12</td>\n",
       "      <td>오늘도 흥흥흥시공을 위하여!</td>\n",
       "      <td>NaN</td>\n",
       "    </tr>\n",
       "    <tr>\n",
       "      <th>6260</th>\n",
       "      <td>1031896</td>\n",
       "      <td>2017-09-05 00:20</td>\n",
       "      <td>케리건 레벨 후더덜한 사람 봄</td>\n",
       "      <td>NaN</td>\n",
       "    </tr>\n",
       "    <tr>\n",
       "      <th>6403</th>\n",
       "      <td>1031727</td>\n",
       "      <td>2017-09-04 19:35</td>\n",
       "      <td>오늘도 흥하세요 엔타로 시공</td>\n",
       "      <td>NaN</td>\n",
       "    </tr>\n",
       "    <tr>\n",
       "      <th>6480</th>\n",
       "      <td>1031640</td>\n",
       "      <td>2017-09-04 15:27</td>\n",
       "      <td>케리건은 밴당할정도로 강함</td>\n",
       "      <td>NaN</td>\n",
       "    </tr>\n",
       "    <tr>\n",
       "      <th>6499</th>\n",
       "      <td>1031618</td>\n",
       "      <td>2017-09-04 14:47</td>\n",
       "      <td>시즌3탈것 완전 아케이드헤카림 아님?</td>\n",
       "      <td>NaN</td>\n",
       "    </tr>\n",
       "    <tr>\n",
       "      <th>6513</th>\n",
       "      <td>1031604</td>\n",
       "      <td>2017-09-04 14:06</td>\n",
       "      <td>(데이터) 멋짐/쿨/잘생김/귀요미</td>\n",
       "      <td>NaN</td>\n",
       "    </tr>\n",
       "    <tr>\n",
       "      <th>6625</th>\n",
       "      <td>1031478</td>\n",
       "      <td>2017-09-04 04:56</td>\n",
       "      <td>오랜만에 고통 나눔</td>\n",
       "      <td>NaN</td>\n",
       "    </tr>\n",
       "    <tr>\n",
       "      <th>6633</th>\n",
       "      <td>1031468</td>\n",
       "      <td>2017-09-04 02:50</td>\n",
       "      <td>개판 오분전이었던판</td>\n",
       "      <td>NaN</td>\n",
       "    </tr>\n",
       "    <tr>\n",
       "      <th>6654</th>\n",
       "      <td>1031442</td>\n",
       "      <td>2017-09-04 01:04</td>\n",
       "      <td>인디겜 버그 수준</td>\n",
       "      <td>NaN</td>\n",
       "    </tr>\n",
       "    <tr>\n",
       "      <th>6657</th>\n",
       "      <td>1031439</td>\n",
       "      <td>2017-09-04 01:02</td>\n",
       "      <td>으아악! 빠져나갈수가 없어!!!!</td>\n",
       "      <td>NaN</td>\n",
       "    </tr>\n",
       "    <tr>\n",
       "      <th>6694</th>\n",
       "      <td>1031402</td>\n",
       "      <td>2017-09-03 23:46</td>\n",
       "      <td>이거 동일인물?</td>\n",
       "      <td>NaN</td>\n",
       "    </tr>\n",
       "    <tr>\n",
       "      <th>6870</th>\n",
       "      <td>1031187</td>\n",
       "      <td>2017-09-03 16:30</td>\n",
       "      <td>호두를 위하여!</td>\n",
       "      <td>NaN</td>\n",
       "    </tr>\n",
       "    <tr>\n",
       "      <th>6955</th>\n",
       "      <td>1031088</td>\n",
       "      <td>2017-09-03 13:31</td>\n",
       "      <td>카봇애니메이션 HS EP28 Horsing Around</td>\n",
       "      <td>NaN</td>\n",
       "    </tr>\n",
       "    <tr>\n",
       "      <th>7085</th>\n",
       "      <td>1030944</td>\n",
       "      <td>2017-09-03 01:07</td>\n",
       "      <td>전설 꼬라지가...</td>\n",
       "      <td>NaN</td>\n",
       "    </tr>\n",
       "    <tr>\n",
       "      <th>7183</th>\n",
       "      <td>1030831</td>\n",
       "      <td>2017-09-02 21:28</td>\n",
       "      <td>탱크를 지키는 떡대들.jpg</td>\n",
       "      <td>NaN</td>\n",
       "    </tr>\n",
       "    <tr>\n",
       "      <th>7207</th>\n",
       "      <td>1030803</td>\n",
       "      <td>2017-09-02 21:01</td>\n",
       "      <td>ㄷㄷ 빠대여포 플레성님들 무서워라</td>\n",
       "      <td>NaN</td>\n",
       "    </tr>\n",
       "  </tbody>\n",
       "</table>\n",
       "<p>1257 rows × 4 columns</p>\n",
       "</div>"
      ],
      "text/plain": [
       "      link_id         timestamp  \\\n",
       "2     1214899  2018-09-06 22:38   \n",
       "3     1215180  2018-09-10 23:57   \n",
       "260   1214899  2018-09-06 22:38   \n",
       "410   1214735  2018-09-06 02:32   \n",
       "424   1214719  2018-09-05 22:47   \n",
       "426   1214717  2018-09-05 22:28   \n",
       "428   1214714  2018-09-05 21:46   \n",
       "472   1214665  2018-09-05 04:14   \n",
       "485   1214651  2018-09-04 20:52   \n",
       "598   1214526  2018-09-03 00:45   \n",
       "620   1214502  2018-09-02 19:52   \n",
       "674   1214439  2018-09-02 11:37   \n",
       "676   1214437  2018-09-02 10:41   \n",
       "782   1214315  2018-08-31 01:49   \n",
       "848   1214234  2018-08-29 23:28   \n",
       "893   1214185  2018-08-29 10:44   \n",
       "928   1214149  2018-08-28 21:21   \n",
       "1028  1214040  2018-08-27 14:53   \n",
       "1073  1213987  2018-08-26 23:45   \n",
       "1108  1213947  2018-08-26 14:20   \n",
       "1627  1213366  2018-08-19 22:32   \n",
       "1636  1213355  2018-08-19 20:37   \n",
       "1958  1212997  2018-08-14 23:22   \n",
       "2023  1212927  2018-08-14 00:38   \n",
       "2271  1212642  2018-08-10 16:32   \n",
       "2297  1212613  2018-08-10 13:53   \n",
       "2578  1212308  2018-08-07 14:51   \n",
       "2867  1211985  2018-08-03 19:26   \n",
       "2927  1211920  2018-08-03 09:58   \n",
       "2937  1211908  2018-08-03 06:01   \n",
       "...       ...               ...   \n",
       "4044  1034389  2017-09-08 23:31   \n",
       "4427  1033978  2017-09-08 12:38   \n",
       "4631  1033748  2017-09-08 01:03   \n",
       "4645  1033731  2017-09-08 00:47   \n",
       "4829  1033537  2017-09-07 21:34   \n",
       "4888  1033476  2017-09-07 20:31   \n",
       "4971  1033382  2017-09-07 18:19   \n",
       "4975  1033378  2017-09-07 18:17   \n",
       "5423  1032863  2017-09-07 00:35   \n",
       "5616  1032632  2017-09-06 17:48   \n",
       "5620  1032625  2017-09-06 17:38   \n",
       "5630  1032615  2017-09-06 17:12   \n",
       "5832  1032387  2017-09-06 02:17   \n",
       "5905  1032300  2017-09-05 23:12   \n",
       "6003  1032191  2017-09-05 19:12   \n",
       "6260  1031896  2017-09-05 00:20   \n",
       "6403  1031727  2017-09-04 19:35   \n",
       "6480  1031640  2017-09-04 15:27   \n",
       "6499  1031618  2017-09-04 14:47   \n",
       "6513  1031604  2017-09-04 14:06   \n",
       "6625  1031478  2017-09-04 04:56   \n",
       "6633  1031468  2017-09-04 02:50   \n",
       "6654  1031442  2017-09-04 01:04   \n",
       "6657  1031439  2017-09-04 01:02   \n",
       "6694  1031402  2017-09-03 23:46   \n",
       "6870  1031187  2017-09-03 16:30   \n",
       "6955  1031088  2017-09-03 13:31   \n",
       "7085  1030944  2017-09-03 01:07   \n",
       "7183  1030831  2017-09-02 21:28   \n",
       "7207  1030803  2017-09-02 21:01   \n",
       "\n",
       "                                                  title contents  \n",
       "2                  [오시공] 김정민,문규리,침착맨,네클릿,옥냥이 메피스토 특별방송!      NaN  \n",
       "3                                             ㅋㅋㅋㅋ 장구벌레      NaN  \n",
       "260                [오시공] 김정민,문규리,침착맨,네클릿,옥냥이 메피스토 특별방송!      NaN  \n",
       "410   [목요일7시] 최광원,빈본,노챗 해설의 HGC KR 오픈 디비전 S2 6회차 결승전...      NaN  \n",
       "424                                      히오스가 망하지 않는 방법      NaN  \n",
       "426                                       컨셉아트만 잘그리는 효스      NaN  \n",
       "428                               히오스는 망할 수 밖에 없다. 왜냐하면      NaN  \n",
       "472                                            입 히오스 모음      NaN  \n",
       "485   [수요일7시] 최광원,빈본,노챗 해설의 HGC KR 오픈 디비전 S2 6회차 4강전...      NaN  \n",
       "598                  마엡만하면 이기는거 같은데 픽맞춰준다고 다른거 하면 지네요 ㅠ      NaN  \n",
       "620                                       굴단 파괴의비 상향하는법      NaN  \n",
       "674                                                5 우두      NaN  \n",
       "676                                  겐지 너프 하지말라는 사람들 논리      NaN  \n",
       "782                                              앙 기모띠!      NaN  \n",
       "848   [목요일7시] 최광원,빈본,정우서 해설의 HGC KR 오픈 디비전 S2 5회차 결승...      NaN  \n",
       "893                                    LKK 최근 트레이서하이라이트      NaN  \n",
       "928   [수요일7시] 최광원,빈본,정우서 해설의 HGC KR 오픈 디비전 S2 5회차 4강...      NaN  \n",
       "1028                                       롤보다 히오스가 나은점      NaN  \n",
       "1073                                    ??: 덤블링 해보겠습니다!      NaN  \n",
       "1108                                      현재 영리매칭시간 실화?      NaN  \n",
       "1627                                                 님들      NaN  \n",
       "1636                                      젠지vs발리 마지막 한타      NaN  \n",
       "1958                             영웅목록으로 성격테스트가 된다던데 이건?      NaN  \n",
       "2023                                         빠대 매칭 왜이럼?      NaN  \n",
       "2271              [오시공] 김정민,문규리,침착맨,네클릿,옥냥이 화이트메인 특별방송!      NaN  \n",
       "2297                                     너도 푹 빠지게 될거야 헿      NaN  \n",
       "2578                                         불덩이작렬 .gif      NaN  \n",
       "2867                                         쓰랄 승률 ㅅㅌㅊ?      NaN  \n",
       "2927                                  화이트메인 복장이 불편했던 사람      NaN  \n",
       "2937                                           갓겜 ㅅㅂ...      NaN  \n",
       "...                                                 ...      ...  \n",
       "4044                      방금 느낌이 왔음 이번 블리즈컨에서 아서스 리모델링됨      NaN  \n",
       "4427                               요새 쪽바리가 앞에서 지x 안하는이유      NaN  \n",
       "4631                                리메이크된 제이나 성능은 어떤가요?      NaN  \n",
       "4645                                         영리 첫판인데 ㅠㅠ      NaN  \n",
       "4829                                          컨 쩔어야댐 ㅡㅡ      NaN  \n",
       "4888                                           운수 좋은 날.      NaN  \n",
       "4971                                           ㅈㅇㄴ ㄱㅊㄱㅇ      NaN  \n",
       "4975                                             가즈로 버그      NaN  \n",
       "5423                             내일은 노바로 물몸 켈투 때리고 다녀야지      NaN  \n",
       "5616                                카봇 무슨약을 빨았냐 ㅅㅂ ㅋㅋㅋㅋ      NaN  \n",
       "5620                                   고독한미식가 새우마요, 오리알      NaN  \n",
       "5630                                       30년후 블리자드 본사      NaN  \n",
       "5832                                  빠져나올수 없다.. (북미버전)      NaN  \n",
       "5905                                    스폰지밥 동심파괴 애니메이션      NaN  \n",
       "6003                                    오늘도 흥흥흥시공을 위하여!      NaN  \n",
       "6260                                   케리건 레벨 후더덜한 사람 봄      NaN  \n",
       "6403                                    오늘도 흥하세요 엔타로 시공      NaN  \n",
       "6480                                     케리건은 밴당할정도로 강함      NaN  \n",
       "6499                               시즌3탈것 완전 아케이드헤카림 아님?      NaN  \n",
       "6513                                 (데이터) 멋짐/쿨/잘생김/귀요미      NaN  \n",
       "6625                                         오랜만에 고통 나눔      NaN  \n",
       "6633                                         개판 오분전이었던판      NaN  \n",
       "6654                                          인디겜 버그 수준      NaN  \n",
       "6657                                 으아악! 빠져나갈수가 없어!!!!      NaN  \n",
       "6694                                           이거 동일인물?      NaN  \n",
       "6870                                           호두를 위하여!      NaN  \n",
       "6955                     카봇애니메이션 HS EP28 Horsing Around      NaN  \n",
       "7085                                         전설 꼬라지가...      NaN  \n",
       "7183                                    탱크를 지키는 떡대들.jpg      NaN  \n",
       "7207                                 ㄷㄷ 빠대여포 플레성님들 무서워라      NaN  \n",
       "\n",
       "[1257 rows x 4 columns]"
      ]
     },
     "execution_count": 5,
     "metadata": {},
     "output_type": "execute_result"
    }
   ],
   "source": [
    "# 글 내용 비어있는 것 확인하기\n",
    "df_inven[df_inven['contents'].isnull()]"
   ]
  },
  {
   "cell_type": "code",
   "execution_count": 6,
   "metadata": {
    "collapsed": true
   },
   "outputs": [],
   "source": [
    "df_inven = df_inven[df_inven['contents'].notnull()]"
   ]
  },
  {
   "cell_type": "code",
   "execution_count": 7,
   "metadata": {
    "collapsed": true,
    "scrolled": true
   },
   "outputs": [],
   "source": [
    "# 인덱스 리셋\n",
    "df_inven.reset_index(inplace=True)"
   ]
  },
  {
   "cell_type": "markdown",
   "metadata": {},
   "source": [
    "내용 비어있는 컬럼 약 1257개. 이걸 같이 가져갈지 말지는 일단 분석하면서 해보자."
   ]
  },
  {
   "cell_type": "code",
   "execution_count": null,
   "metadata": {
    "collapsed": true
   },
   "outputs": [],
   "source": [
    "# Battlenet Data\n",
    "df_battle = pd.read_csv(\"data/battlenetData.csv\", encoding='utf8', header=None, engine='python')"
   ]
  },
  {
   "cell_type": "code",
   "execution_count": null,
   "metadata": {
    "collapsed": true
   },
   "outputs": [],
   "source": [
    "df_battle.columns = ['link_id', 'user_id', 'timestamp', 'title', 'contents']"
   ]
  },
  {
   "cell_type": "code",
   "execution_count": null,
   "metadata": {
    "collapsed": true,
    "scrolled": true
   },
   "outputs": [],
   "source": [
    "df_battle.tail()"
   ]
  },
  {
   "cell_type": "markdown",
   "metadata": {},
   "source": [
    "## Data preprocessing"
   ]
  },
  {
   "cell_type": "markdown",
   "metadata": {},
   "source": [
    "- 배틀넷\n",
    "   - 시간 데이터 전처리\n",
    "   - 공지 글 삭제\n",
    "   - 중복 데이터 전처리\n",
    "   - 헤비유저 파악\n",
    "   \n",
    "  \n",
    "- 인벤\n",
    "   - 시간 데이터 전처리\n",
    "   - 공지 글 삭제\n",
    "   - contents컬럼의 NaN 제거\n",
    "   - 헤비유저 파악\n",
    "   \n",
    "   \n",
    "- 배틀넷+인벤 불용어 전처리"
   ]
  },
  {
   "cell_type": "markdown",
   "metadata": {},
   "source": [
    "### - 배틀넷 시간 데이터 전처리"
   ]
  },
  {
   "cell_type": "code",
   "execution_count": null,
   "metadata": {
    "collapsed": true
   },
   "outputs": [],
   "source": [
    "df_battle.iloc[1,3]"
   ]
  },
  {
   "cell_type": "code",
   "execution_count": null,
   "metadata": {
    "collapsed": true
   },
   "outputs": [],
   "source": [
    "df_battle = df_battle[df_battle['timestamp'].notnull()]"
   ]
  },
  {
   "cell_type": "code",
   "execution_count": null,
   "metadata": {
    "collapsed": true,
    "scrolled": true
   },
   "outputs": [],
   "source": [
    "df_battle[1017:1018]"
   ]
  },
  {
   "cell_type": "markdown",
   "metadata": {},
   "source": [
    "index 1017번째 글은 비어있어서 드랍함."
   ]
  },
  {
   "cell_type": "code",
   "execution_count": null,
   "metadata": {
    "collapsed": true,
    "scrolled": false
   },
   "outputs": [],
   "source": [
    "# 글을 드랍하였기 떄문에 인덱스 리셋\n",
    "\n",
    "df_battle.reset_index(inplace=True)"
   ]
  },
  {
   "cell_type": "code",
   "execution_count": null,
   "metadata": {
    "collapsed": true,
    "scrolled": false
   },
   "outputs": [],
   "source": [
    "# 새로운 데이트타임 형식 만들기\n",
    "\n",
    "new_dates = []\n",
    "\n",
    "for i in range(5699):\n",
    "    \n",
    "    years = int(df_battle['timestamp'][i][0:4])\n",
    "    months = int(df_battle['timestamp'][i][5:7])\n",
    "    days = int(df_battle['timestamp'][i][8:10])\n",
    "    hours = int(df_battle['timestamp'][i][11:13]) \n",
    "    minutes = int(df_battle['timestamp'][i][15:17])\n",
    "    \n",
    "    dates = datetime(years, months, days, hours, minutes)\n",
    "    \n",
    "    new_dates.append(dates)"
   ]
  },
  {
   "cell_type": "code",
   "execution_count": null,
   "metadata": {
    "collapsed": true
   },
   "outputs": [],
   "source": [
    "df_battle[\"new_datetime\"] = new_dates"
   ]
  },
  {
   "cell_type": "code",
   "execution_count": null,
   "metadata": {
    "collapsed": true
   },
   "outputs": [],
   "source": [
    "df_battle.drop('timestamp',axis=1, inplace=True)"
   ]
  },
  {
   "cell_type": "code",
   "execution_count": null,
   "metadata": {
    "collapsed": true,
    "scrolled": true
   },
   "outputs": [],
   "source": [
    "df_battle.head()"
   ]
  },
  {
   "cell_type": "markdown",
   "metadata": {},
   "source": [
    "### 배틀넷 - 그 외 중복 데이터 처리하기"
   ]
  },
  {
   "cell_type": "code",
   "execution_count": null,
   "metadata": {
    "collapsed": true
   },
   "outputs": [],
   "source": [
    "# 블리자드 사에서 올린 공지는 제외\n",
    "\n",
    "df_battle = df_battle[df_battle.user_id != \"Blizzard Entertainment\"]"
   ]
  },
  {
   "cell_type": "code",
   "execution_count": null,
   "metadata": {
    "collapsed": true,
    "scrolled": true
   },
   "outputs": [],
   "source": [
    "# 글 완전 중복인 사람 파악하기\n",
    "\n",
    "df_battle['contents'].drop_duplicates(keep='first', inplace = True)"
   ]
  },
  {
   "cell_type": "code",
   "execution_count": null,
   "metadata": {
    "collapsed": true,
    "scrolled": true
   },
   "outputs": [],
   "source": [
    "# 헤비유저 파악 혹은 글 연달아 올린 사람 파악하기\n",
    "\n",
    "user_list = df_battle['user_id'].unique()\n",
    "\n",
    "for uid in user_list[:15]:\n",
    "    dfuid = df_battle[df_battle['user_id']==uid]\n",
    "    print(dfuid.iloc[:,[1,2,3,5]])\n",
    "\n",
    "    \n",
    "\n",
    "# 전처리 되도록이면 판다스로 하기. 유저 아이디 중복을 찾은다음에. 시간 차이가 몇 안나는 것들은 빼기(몇 분 이상 차이나면 없애는 방향으로)"
   ]
  },
  {
   "cell_type": "code",
   "execution_count": null,
   "metadata": {
    "collapsed": true
   },
   "outputs": [],
   "source": [
    "# 헤비 유저(빅마우스)들 (상위 10명)\n",
    "print(user_list[0:10])"
   ]
  },
  {
   "cell_type": "code",
   "execution_count": null,
   "metadata": {
    "collapsed": true,
    "scrolled": false
   },
   "outputs": [],
   "source": [
    "df_battle[df_battle['link_id']==4566866705]"
   ]
  },
  {
   "cell_type": "code",
   "execution_count": null,
   "metadata": {
    "collapsed": true
   },
   "outputs": [],
   "source": [
    "df_battle[df_battle['link_id']==4566857028]"
   ]
  },
  {
   "cell_type": "code",
   "execution_count": null,
   "metadata": {
    "collapsed": true,
    "scrolled": true
   },
   "outputs": [],
   "source": [
    "# 위에서 나온 결과를 기준으로 판단하여 중복 행 몇개를 삭제한다. - 뒷 인덱스를 삭제합니다. 새로 쓴 글이 의사를 더 잘 반영한다고 기준을 둠\n",
    "\n",
    "df_battle.drop([189],inplace=True)\n",
    "df_battle.drop([109],inplace=True)"
   ]
  },
  {
   "cell_type": "code",
   "execution_count": null,
   "metadata": {
    "collapsed": true
   },
   "outputs": [],
   "source": [
    "df_battle.reset_index(inplace=True)"
   ]
  },
  {
   "cell_type": "code",
   "execution_count": null,
   "metadata": {
    "collapsed": true,
    "scrolled": true
   },
   "outputs": [],
   "source": [
    "df_battle.tail()"
   ]
  },
  {
   "cell_type": "code",
   "execution_count": null,
   "metadata": {
    "collapsed": true,
    "scrolled": true
   },
   "outputs": [],
   "source": [
    "df_battle.iloc[2,5]"
   ]
  },
  {
   "cell_type": "markdown",
   "metadata": {},
   "source": [
    "### 인벤 - 시간 데이터 전처리"
   ]
  },
  {
   "cell_type": "code",
   "execution_count": 9,
   "metadata": {},
   "outputs": [
    {
     "data": {
      "text/html": [
       "<div>\n",
       "<style>\n",
       "    .dataframe thead tr:only-child th {\n",
       "        text-align: right;\n",
       "    }\n",
       "\n",
       "    .dataframe thead th {\n",
       "        text-align: left;\n",
       "    }\n",
       "\n",
       "    .dataframe tbody tr th {\n",
       "        vertical-align: top;\n",
       "    }\n",
       "</style>\n",
       "<table border=\"1\" class=\"dataframe\">\n",
       "  <thead>\n",
       "    <tr style=\"text-align: right;\">\n",
       "      <th></th>\n",
       "      <th>index</th>\n",
       "      <th>link_id</th>\n",
       "      <th>timestamp</th>\n",
       "      <th>title</th>\n",
       "      <th>contents</th>\n",
       "    </tr>\n",
       "  </thead>\n",
       "  <tbody>\n",
       "    <tr>\n",
       "      <th>0</th>\n",
       "      <td>0</td>\n",
       "      <td>1214270</td>\n",
       "      <td>2018-08-30 16:06</td>\n",
       "      <td>댓글 차단 BETA가 적용됩니다.</td>\n",
       "      <td>안녕하세요. 인벤 커뮤니티팀입니다.인벤을 이용하다 보면 때로는 나와 조금 다른 의견...</td>\n",
       "    </tr>\n",
       "    <tr>\n",
       "      <th>1</th>\n",
       "      <td>1</td>\n",
       "      <td>1214678</td>\n",
       "      <td>2018-09-05 11:56</td>\n",
       "      <td>9월 1주차 히어로즈 인벤 주간 이벤트 당첨자 발표</td>\n",
       "      <td>안녕하세요. 히어로즈 오브 더 스톰 인벤 커뮤니티팀입니다.히어로즈 인벤에서는 매주 ...</td>\n",
       "    </tr>\n",
       "    <tr>\n",
       "      <th>2</th>\n",
       "      <td>4</td>\n",
       "      <td>1215179</td>\n",
       "      <td>2018-09-10 23:52</td>\n",
       "      <td>캘타스 뭐가 더 비슷한가요?</td>\n",
       "      <td>타겜이지만 ㅎ.. 고민</td>\n",
       "    </tr>\n",
       "    <tr>\n",
       "      <th>3</th>\n",
       "      <td>5</td>\n",
       "      <td>1215178</td>\n",
       "      <td>2018-09-10 23:52</td>\n",
       "      <td>메피 방금사서 해봤는데 너무사기임....</td>\n",
       "      <td>궁각만 잘재고 쓰면 못해도 더블킬은 따고들어감....그렇게 더블킬만 4번 했더니적 ...</td>\n",
       "    </tr>\n",
       "    <tr>\n",
       "      <th>4</th>\n",
       "      <td>6</td>\n",
       "      <td>1215177</td>\n",
       "      <td>2018-09-10 23:50</td>\n",
       "      <td>제발 메피는 궁이랑 보호막특 너프 좀...두개가 안되면 궁이라도...</td>\n",
       "      <td>궁자체도 최상급인데 궁강하면 ㄹㅇ\"이게 게임이냐\"소리가 절로나옴데미지를 줄이던가 슬...</td>\n",
       "    </tr>\n",
       "  </tbody>\n",
       "</table>\n",
       "</div>"
      ],
      "text/plain": [
       "   index  link_id         timestamp                                   title  \\\n",
       "0      0  1214270  2018-08-30 16:06                      댓글 차단 BETA가 적용됩니다.   \n",
       "1      1  1214678  2018-09-05 11:56            9월 1주차 히어로즈 인벤 주간 이벤트 당첨자 발표   \n",
       "2      4  1215179  2018-09-10 23:52                         캘타스 뭐가 더 비슷한가요?   \n",
       "3      5  1215178  2018-09-10 23:52                  메피 방금사서 해봤는데 너무사기임....   \n",
       "4      6  1215177  2018-09-10 23:50  제발 메피는 궁이랑 보호막특 너프 좀...두개가 안되면 궁이라도...   \n",
       "\n",
       "                                            contents  \n",
       "0  안녕하세요. 인벤 커뮤니티팀입니다.인벤을 이용하다 보면 때로는 나와 조금 다른 의견...  \n",
       "1  안녕하세요. 히어로즈 오브 더 스톰 인벤 커뮤니티팀입니다.히어로즈 인벤에서는 매주 ...  \n",
       "2                                       타겜이지만 ㅎ.. 고민  \n",
       "3  궁각만 잘재고 쓰면 못해도 더블킬은 따고들어감....그렇게 더블킬만 4번 했더니적 ...  \n",
       "4  궁자체도 최상급인데 궁강하면 ㄹㅇ\"이게 게임이냐\"소리가 절로나옴데미지를 줄이던가 슬...  "
      ]
     },
     "execution_count": 9,
     "metadata": {},
     "output_type": "execute_result"
    }
   ],
   "source": [
    "df_inven.head()"
   ]
  },
  {
   "cell_type": "code",
   "execution_count": 10,
   "metadata": {},
   "outputs": [],
   "source": [
    "# 새로운 데이트타임 형식 만들기\n",
    "\n",
    "inven_new_dates = []\n",
    "\n",
    "for i in range(len(df_inven)):\n",
    " \n",
    "    inven_dates = datetime.strptime(df_inven.iloc[i,2], \"%Y-%m-%d %H:%M\")\n",
    "    inven_new_dates.append(inven_dates)"
   ]
  },
  {
   "cell_type": "code",
   "execution_count": 11,
   "metadata": {
    "collapsed": true
   },
   "outputs": [],
   "source": [
    "df_inven[\"new_datetime\"] = inven_new_dates\n",
    "df_inven.drop('timestamp',axis=1, inplace=True)"
   ]
  },
  {
   "cell_type": "code",
   "execution_count": 12,
   "metadata": {
    "collapsed": true,
    "scrolled": true
   },
   "outputs": [],
   "source": [
    "df_inven.reset_index(inplace=True)"
   ]
  },
  {
   "cell_type": "markdown",
   "metadata": {},
   "source": [
    "### 인벤 - 그 외 중복 데이터 처리하기"
   ]
  },
  {
   "cell_type": "code",
   "execution_count": 14,
   "metadata": {
    "scrolled": false
   },
   "outputs": [
    {
     "data": {
      "text/html": [
       "<div>\n",
       "<style>\n",
       "    .dataframe thead tr:only-child th {\n",
       "        text-align: right;\n",
       "    }\n",
       "\n",
       "    .dataframe thead th {\n",
       "        text-align: left;\n",
       "    }\n",
       "\n",
       "    .dataframe tbody tr th {\n",
       "        vertical-align: top;\n",
       "    }\n",
       "</style>\n",
       "<table border=\"1\" class=\"dataframe\">\n",
       "  <thead>\n",
       "    <tr style=\"text-align: right;\">\n",
       "      <th></th>\n",
       "      <th>level_0</th>\n",
       "      <th>index</th>\n",
       "      <th>link_id</th>\n",
       "      <th>title</th>\n",
       "      <th>contents</th>\n",
       "      <th>new_datetime</th>\n",
       "    </tr>\n",
       "  </thead>\n",
       "  <tbody>\n",
       "    <tr>\n",
       "      <th>0</th>\n",
       "      <td>0</td>\n",
       "      <td>0</td>\n",
       "      <td>1214270</td>\n",
       "      <td>댓글 차단 BETA가 적용됩니다.</td>\n",
       "      <td>안녕하세요. 인벤 커뮤니티팀입니다.인벤을 이용하다 보면 때로는 나와 조금 다른 의견...</td>\n",
       "      <td>2018-08-30 16:06:00</td>\n",
       "    </tr>\n",
       "    <tr>\n",
       "      <th>1</th>\n",
       "      <td>1</td>\n",
       "      <td>1</td>\n",
       "      <td>1214678</td>\n",
       "      <td>9월 1주차 히어로즈 인벤 주간 이벤트 당첨자 발표</td>\n",
       "      <td>안녕하세요. 히어로즈 오브 더 스톰 인벤 커뮤니티팀입니다.히어로즈 인벤에서는 매주 ...</td>\n",
       "      <td>2018-09-05 11:56:00</td>\n",
       "    </tr>\n",
       "    <tr>\n",
       "      <th>2</th>\n",
       "      <td>2</td>\n",
       "      <td>4</td>\n",
       "      <td>1215179</td>\n",
       "      <td>캘타스 뭐가 더 비슷한가요?</td>\n",
       "      <td>타겜이지만 ㅎ.. 고민</td>\n",
       "      <td>2018-09-10 23:52:00</td>\n",
       "    </tr>\n",
       "    <tr>\n",
       "      <th>3</th>\n",
       "      <td>3</td>\n",
       "      <td>5</td>\n",
       "      <td>1215178</td>\n",
       "      <td>메피 방금사서 해봤는데 너무사기임....</td>\n",
       "      <td>궁각만 잘재고 쓰면 못해도 더블킬은 따고들어감....그렇게 더블킬만 4번 했더니적 ...</td>\n",
       "      <td>2018-09-10 23:52:00</td>\n",
       "    </tr>\n",
       "    <tr>\n",
       "      <th>4</th>\n",
       "      <td>4</td>\n",
       "      <td>6</td>\n",
       "      <td>1215177</td>\n",
       "      <td>제발 메피는 궁이랑 보호막특 너프 좀...두개가 안되면 궁이라도...</td>\n",
       "      <td>궁자체도 최상급인데 궁강하면 ㄹㅇ\"이게 게임이냐\"소리가 절로나옴데미지를 줄이던가 슬...</td>\n",
       "      <td>2018-09-10 23:50:00</td>\n",
       "    </tr>\n",
       "  </tbody>\n",
       "</table>\n",
       "</div>"
      ],
      "text/plain": [
       "   level_0  index  link_id                                   title  \\\n",
       "0        0      0  1214270                      댓글 차단 BETA가 적용됩니다.   \n",
       "1        1      1  1214678            9월 1주차 히어로즈 인벤 주간 이벤트 당첨자 발표   \n",
       "2        2      4  1215179                         캘타스 뭐가 더 비슷한가요?   \n",
       "3        3      5  1215178                  메피 방금사서 해봤는데 너무사기임....   \n",
       "4        4      6  1215177  제발 메피는 궁이랑 보호막특 너프 좀...두개가 안되면 궁이라도...   \n",
       "\n",
       "                                            contents        new_datetime  \n",
       "0  안녕하세요. 인벤 커뮤니티팀입니다.인벤을 이용하다 보면 때로는 나와 조금 다른 의견... 2018-08-30 16:06:00  \n",
       "1  안녕하세요. 히어로즈 오브 더 스톰 인벤 커뮤니티팀입니다.히어로즈 인벤에서는 매주 ... 2018-09-05 11:56:00  \n",
       "2                                       타겜이지만 ㅎ.. 고민 2018-09-10 23:52:00  \n",
       "3  궁각만 잘재고 쓰면 못해도 더블킬은 따고들어감....그렇게 더블킬만 4번 했더니적 ... 2018-09-10 23:52:00  \n",
       "4  궁자체도 최상급인데 궁강하면 ㄹㅇ\"이게 게임이냐\"소리가 절로나옴데미지를 줄이던가 슬... 2018-09-10 23:50:00  "
      ]
     },
     "execution_count": 14,
     "metadata": {},
     "output_type": "execute_result"
    }
   ],
   "source": [
    "df_inven.head()"
   ]
  },
  {
   "cell_type": "code",
   "execution_count": 39,
   "metadata": {},
   "outputs": [
    {
     "name": "stdout",
     "output_type": "stream",
     "text": [
      "     level_0  index  link_id                         title  \\\n",
      "1          1      1  1214678  9월 1주차 히어로즈 인벤 주간 이벤트 당첨자 발표   \n",
      "453      453    460  1214678  9월 1주차 히어로즈 인벤 주간 이벤트 당첨자 발표   \n",
      "\n",
      "                                              contents        new_datetime  \n",
      "1    안녕하세요. 히어로즈 오브 더 스톰 인벤 커뮤니티팀입니다.히어로즈 인벤에서는 매주 ... 2018-09-05 11:56:00  \n",
      "453  안녕하세요. 히어로즈 오브 더 스톰 인벤 커뮤니티팀입니다.히어로즈 인벤에서는 매주 ... 2018-09-05 11:56:00  \n"
     ]
    }
   ],
   "source": [
    "print(df_inven.loc[df_inven[\"link_id\"]==1214678])"
   ]
  },
  {
   "cell_type": "code",
   "execution_count": 41,
   "metadata": {
    "scrolled": false
   },
   "outputs": [
    {
     "name": "stdout",
     "output_type": "stream",
     "text": [
      "Empty DataFrame\n",
      "Columns: [level_0, index, link_id, title, contents, new_datetime]\n",
      "Index: [] \n",
      "================================================================================       level_0  index  link_id                         title  \\\n",
      "1370     1370   1390  1213632  8월 3주차 히어로즈 인벤 주간 이벤트 당첨자 발표   \n",
      "\n",
      "                                               contents        new_datetime  \n",
      "1370  안녕하세요. 히어로즈 오브 더 스톰 인벤 커뮤니티팀입니다.히어로즈 인벤에서는 매주 ... 2018-08-22 16:38:00   \n",
      "================================================================================      level_0  index  link_id                         title  \\\n",
      "866      866    881  1214199  8월 4주차 히어로즈 인벤 주간 이벤트 당첨자 발표   \n",
      "\n",
      "                                              contents        new_datetime  \n",
      "866  안녕하세요. 히어로즈 오브 더 스톰 인벤 커뮤니티팀입니다.히어로즈 인벤에서는 매주 ... 2018-08-29 14:47:00   \n",
      "================================================================================       level_0  index  link_id                         title  \\\n",
      "1370     1370   1390  1213632  8월 3주차 히어로즈 인벤 주간 이벤트 당첨자 발표   \n",
      "\n",
      "                                               contents        new_datetime  \n",
      "1370  안녕하세요. 히어로즈 오브 더 스톰 인벤 커뮤니티팀입니다.히어로즈 인벤에서는 매주 ... 2018-08-22 16:38:00   \n",
      "================================================================================ Empty DataFrame\n",
      "Columns: [level_0, index, link_id, title, contents, new_datetime]\n",
      "Index: [] \n",
      "================================================================================ Empty DataFrame\n",
      "Columns: [level_0, index, link_id, title, contents, new_datetime]\n",
      "Index: [] \n",
      "================================================================================ Empty DataFrame\n",
      "Columns: [level_0, index, link_id, title, contents, new_datetime]\n",
      "Index: [] \n",
      "================================================================================ Empty DataFrame\n",
      "Columns: [level_0, index, link_id, title, contents, new_datetime]\n",
      "Index: [] \n",
      "================================================================================ Empty DataFrame\n",
      "Columns: [level_0, index, link_id, title, contents, new_datetime]\n",
      "Index: [] \n",
      "================================================================================ Empty DataFrame\n",
      "Columns: [level_0, index, link_id, title, contents, new_datetime]\n",
      "Index: [] \n",
      "================================================================================ Empty DataFrame\n",
      "Columns: [level_0, index, link_id, title, contents, new_datetime]\n",
      "Index: [] \n",
      "================================================================================ Empty DataFrame\n",
      "Columns: [level_0, index, link_id, title, contents, new_datetime]\n",
      "Index: [] \n",
      "================================================================================ Empty DataFrame\n",
      "Columns: [level_0, index, link_id, title, contents, new_datetime]\n",
      "Index: [] \n",
      "================================================================================\n"
     ]
    }
   ],
   "source": [
    "print(df_inven.loc[df_inven[\"link_id\"] == 1214270],\"\\n\"+\"=\"*80,\n",
    "      df_inven.loc[df_inven[\"link_id\"] == 1213632],\"\\n\"+\"=\"*80,\n",
    "      df_inven.loc[df_inven[\"link_id\"] == 1214199],\"\\n\"+\"=\"*80,\n",
    "      df_inven[df_inven[\"link_id\"] == 1213632],\"\\n\"+\"=\"*80,\n",
    "      df_inven[df_inven[\"link_id\"] == 1213035],\"\\n\"+\"=\"*80,\n",
    "      df_inven[df_inven[\"link_id\"] == 1212385],\"\\n\"+\"=\"*80,\n",
    "      df_inven[df_inven[\"link_id\"] == 1211671],\"\\n\"+\"=\"*80,\n",
    "      df_inven[df_inven[\"link_id\"] == 1210740],\"\\n\"+\"=\"*80,\n",
    "      df_inven[df_inven[\"link_id\"] == 1209936],\"\\n\"+\"=\"*80,\n",
    "      df_inven[df_inven[\"link_id\"] == 1208994],\"\\n\"+\"=\"*80,\n",
    "      df_inven[df_inven[\"link_id\"] == 1208372],\"\\n\"+\"=\"*80,\n",
    "      df_inven[df_inven[\"link_id\"] == 1207739],\"\\n\"+\"=\"*80,\n",
    "      df_inven[df_inven[\"link_id\"] == 1207110],\"\\n\"+\"=\"*80)"
   ]
  },
  {
   "cell_type": "markdown",
   "metadata": {},
   "source": [
    "인덱스가 0, 807, 1370, 1899,2484,3106,3948,4646,5477,6049,6609,7158인 글들은 커뮤니티 팀에서 올린 것으로 삭제한다.\n",
    "\n",
    "(운영자 아이디로 검색하여 글번호 확인하였음)"
   ]
  },
  {
   "cell_type": "code",
   "execution_count": 26,
   "metadata": {},
   "outputs": [],
   "source": [
    "# 운영팀에서 올린 공지는 제외\n",
    "# 아이디를 직접 긁어오지 않았으므로, 웹상에서 직접 링크 아이디를 찾아 제거합니다.\n",
    "\n",
    "df_inven.drop([0],inplace=True)\n",
    "df_inven.drop([1],inplace=True)\n",
    "df_inven.drop([453],inplace=True)\n",
    "df_inven.drop([807],inplace=True)\n",
    "df_inven.drop([866],inplace=True)\n",
    "df_inven.drop([1370],inplace=True)\n",
    "df_inven.drop([1899],inplace=True)\n",
    "df_inven.drop([2484],inplace=True)\n",
    "df_inven.drop([3106],inplace=True)\n",
    "df_inven.drop([3948],inplace=True)\n",
    "df_inven.drop([4646],inplace=True)\n",
    "df_inven.drop([5477],inplace=True)\n",
    "df_inven.drop([6049],inplace=True)\n",
    "df_inven.drop([6609],inplace=True)\n",
    "df_inven.drop([7158],inplace=True)"
   ]
  },
  {
   "cell_type": "markdown",
   "metadata": {},
   "source": [
    "### 데이터 불용어 전처리"
   ]
  },
  {
   "cell_type": "code",
   "execution_count": 27,
   "metadata": {
    "collapsed": true
   },
   "outputs": [],
   "source": [
    "# 정규 표현식\n",
    "p_http = re.compile(\"(((http(s?))\\:\\/\\/)?)([0-9a-zA-Z\\-]+\\.)+[a-zA-Z]{2,6}(\\:[0-9]+)?(\\S*)\")\n",
    "p_char = re.compile(\"[^가-힣ㄱ-ㅎㅏ-ㅣa-zA-Z0-9ㅣ ]\")\n",
    "p_tag = re.compile(\"<.+>\")\n",
    "p_brac = re.compile(\"[[\\]]\")"
   ]
  },
  {
   "cell_type": "code",
   "execution_count": 28,
   "metadata": {
    "collapsed": true
   },
   "outputs": [],
   "source": [
    "# 정규 표현식 함수화\n",
    "\n",
    "def patternRemover(doc):\n",
    "    doc = p_http.sub('', doc)\n",
    "    doc = p_char.sub('', doc)\n",
    "    doc = p_tag.sub('', doc)\n",
    "    doc = p_brac.sub('', doc)\n",
    "    return doc"
   ]
  },
  {
   "cell_type": "code",
   "execution_count": null,
   "metadata": {
    "collapsed": true,
    "scrolled": true
   },
   "outputs": [],
   "source": [
    "# 배틀넷 \n",
    "for i in range(len(df_battle[\"contents\"])):\n",
    "    df_battle.iloc[i,5] = patternRemover(df_battle.iloc[i,5])"
   ]
  },
  {
   "cell_type": "code",
   "execution_count": 44,
   "metadata": {},
   "outputs": [
    {
     "data": {
      "text/plain": [
       "'궁각만 잘재고 쓰면 못해도 더블킬은 따고들어감....그렇게 더블킬만 4번 했더니적 디바랑 카라짐이 던지기 시작함....진심 궁극기 쿨까지 짧았으면 개사기 영웅...'"
      ]
     },
     "execution_count": 44,
     "metadata": {},
     "output_type": "execute_result"
    }
   ],
   "source": [
    "df_inven.iloc[1,4]"
   ]
  },
  {
   "cell_type": "code",
   "execution_count": 45,
   "metadata": {
    "collapsed": true
   },
   "outputs": [],
   "source": [
    "# 인벤\n",
    "for i in range(len(df_inven)):\n",
    "    df_inven.iloc[i,4] = patternRemover(df_inven.iloc[i,4])"
   ]
  },
  {
   "cell_type": "code",
   "execution_count": 47,
   "metadata": {},
   "outputs": [
    {
     "data": {
      "text/plain": [
       "level_0                                                   100000\n",
       "index                                                        898\n",
       "link_id                                                  1098106\n",
       "title                                               난 내 취향에 당당한데\n",
       "contents        눈썹짙은 여자라던가소프트 모히칸한 여자라던가제발 요한나 투구 안쓴 예쁜 스킨좀 내주세요\n",
       "new_datetime                                 2017-12-06 18:27:00\n",
       "Name: 100000, dtype: object"
      ]
     },
     "execution_count": 47,
     "metadata": {},
     "output_type": "execute_result"
    }
   ],
   "source": [
    "df_inven.loc[100000]"
   ]
  },
  {
   "cell_type": "code",
   "execution_count": null,
   "metadata": {
    "collapsed": true
   },
   "outputs": [],
   "source": [
    "df_battle[5000:5001]"
   ]
  },
  {
   "cell_type": "code",
   "execution_count": null,
   "metadata": {
    "collapsed": true
   },
   "outputs": [],
   "source": [
    "df_battle.iloc[2,5]"
   ]
  },
  {
   "cell_type": "code",
   "execution_count": 48,
   "metadata": {
    "collapsed": true
   },
   "outputs": [],
   "source": [
    "# 토픽 모델링 관련 라이브러리 로딩\n",
    "import gensim \n",
    "import gensim.corpora as corpora\n",
    "from gensim.utils import simple_preprocess\n",
    "from gensim.models import CoherenceModel\n",
    "from gensim.models import LdaModel\n",
    "\n",
    "# 시각화 라이브러리\n",
    "from pprint import pprint\n",
    "import pyLDAvis\n",
    "from pyLDAvis import gensim"
   ]
  },
  {
   "cell_type": "code",
   "execution_count": 49,
   "metadata": {
    "collapsed": true
   },
   "outputs": [],
   "source": [
    "# 토크나이징 라이브러리\n",
    "import MeCab\n",
    "m = MeCab.Tagger('-d /usr/local/lib/mecab/dic/mecab-ko-dic')\n",
    "from konlpy.tag import Mecab\n",
    "mecab = Mecab()"
   ]
  },
  {
   "cell_type": "code",
   "execution_count": null,
   "metadata": {
    "collapsed": true,
    "scrolled": true
   },
   "outputs": [],
   "source": [
    "tokens_all = []\n",
    "\n",
    "for i in list(df_battle[\"contents\"]):\n",
    "    k = mecab.nouns(i)\n",
    "    tokens = []    \n",
    "    for j in range(len(k)):\n",
    "        if len(k[j]) > 1:\n",
    "            tokens.append(k[j])\n",
    "        else:\n",
    "            continue\n",
    "    tokens_all.append(tokens)\n",
    "    \n",
    "print(tokens_all[:10])"
   ]
  },
  {
   "cell_type": "code",
   "execution_count": null,
   "metadata": {
    "collapsed": true
   },
   "outputs": [],
   "source": [
    "tokens_df = pd.DataFrame({\"tokens\":tokens_all})"
   ]
  },
  {
   "cell_type": "code",
   "execution_count": null,
   "metadata": {
    "collapsed": true,
    "scrolled": true
   },
   "outputs": [],
   "source": [
    "tokens_df.head()"
   ]
  },
  {
   "cell_type": "code",
   "execution_count": null,
   "metadata": {
    "collapsed": true
   },
   "outputs": [],
   "source": [
    "len(tokens_all)"
   ]
  },
  {
   "cell_type": "code",
   "execution_count": null,
   "metadata": {
    "collapsed": true
   },
   "outputs": [],
   "source": [
    "df_battle[\"tokens_contents\"] = tokens_all"
   ]
  },
  {
   "cell_type": "code",
   "execution_count": null,
   "metadata": {
    "collapsed": true
   },
   "outputs": [],
   "source": [
    "id2word = corpora.Dictionary(df_battle[\"tokens_contents\"])"
   ]
  },
  {
   "cell_type": "code",
   "execution_count": null,
   "metadata": {
    "collapsed": true
   },
   "outputs": [],
   "source": [
    "texts = df_battle[\"tokens_contents\"]"
   ]
  },
  {
   "cell_type": "code",
   "execution_count": null,
   "metadata": {
    "collapsed": true
   },
   "outputs": [],
   "source": [
    "corpus = [id2word.doc2bow(text) for text in texts]\n",
    "\n",
    "print(corpus[:1])"
   ]
  },
  {
   "cell_type": "code",
   "execution_count": null,
   "metadata": {
    "collapsed": true
   },
   "outputs": [],
   "source": [
    "id2word[0]"
   ]
  },
  {
   "cell_type": "code",
   "execution_count": null,
   "metadata": {
    "collapsed": true,
    "scrolled": true
   },
   "outputs": [],
   "source": [
    "# Human readable format of corpus (term-frequency)\n",
    "[[(id2word[id], freq) for id, freq in cp] for cp in corpus[:1]]"
   ]
  },
  {
   "cell_type": "markdown",
   "metadata": {},
   "source": [
    "alpha = 50/T, beta= 0.1이 최상의 퍼포먼스를 낸다는 결과 (Finding scientific topics 참고)"
   ]
  },
  {
   "cell_type": "code",
   "execution_count": null,
   "metadata": {
    "collapsed": true
   },
   "outputs": [],
   "source": [
    "# Build LDA model\n",
    "\n",
    "%time lda_model = LdaModel(corpus=corpus, id2word=id2word, num_topics=45, random_state=100, \\\n",
    "                                                  update_every=1, \\\n",
    "                                                  chunksize=100,\\\n",
    "                                                  passes=10, \\\n",
    "                                                  alpha='auto', \\\n",
    "                                                  per_word_topics=True)"
   ]
  },
  {
   "cell_type": "code",
   "execution_count": null,
   "metadata": {
    "collapsed": true
   },
   "outputs": [],
   "source": [
    "pprint(lda_model.print_topics())\n",
    "doc_lda = lda_model[corpus]"
   ]
  },
  {
   "cell_type": "markdown",
   "metadata": {},
   "source": [
    "### select number of topic"
   ]
  },
  {
   "cell_type": "code",
   "execution_count": null,
   "metadata": {
    "collapsed": true
   },
   "outputs": [],
   "source": [
    "# Compute Perplexity\n",
    "print('\\nPerplexity: ', lda_model.log_perplexity(corpus)) # a measure of how good the model is. lower the better.\n",
    " \n",
    "# Compute Coherence Score using c_v\n",
    "coherence_model_lda = CoherenceModel(model=lda_model, texts=df_battle[\"tokens_contents\"], dictionary=id2word, coherence='c_v')\n",
    "%time coherence_lda = coherence_model_lda.get_coherence()\n",
    "print('\\nCoherence Score_c_v: ', coherence_lda)"
   ]
  },
  {
   "cell_type": "code",
   "execution_count": null,
   "metadata": {
    "collapsed": true
   },
   "outputs": [],
   "source": [
    "# Compute Coherence Score using UMass\n",
    "coherence_model_lda = CoherenceModel(model=lda_model, texts=df_battle[\"tokens_contents\"], dictionary=id2word, coherence=\"u_mass\")\n",
    "coherence_lda = coherence_model_lda.get_coherence()\n",
    "print('\\nCoherence Score_u_mass: ', coherence_lda)"
   ]
  },
  {
   "cell_type": "code",
   "execution_count": null,
   "metadata": {
    "collapsed": true
   },
   "outputs": [],
   "source": [
    "def compute_coherence_values(dictionary, corpus, texts, limit, start=2, step=3):\n",
    "    \"\"\"\n",
    "    Compute c_v coherence for various number of topics\n",
    "\n",
    "    Parameters:\n",
    "    ----------\n",
    "    dictionary : Gensim dictionary\n",
    "    corpus : Gensim corpus\n",
    "    texts : List of input texts\n",
    "    limit : Max num of topics\n",
    "\n",
    "    Returns:\n",
    "    -------\n",
    "    model_list : List of LDA topic models\n",
    "    coherence_values : Coherence values corresponding to the LDA model with respective number of topics\n",
    "    \"\"\"\n",
    "    coherence_values = []\n",
    "    model_list = []\n",
    "    for num_topics in range(start, limit, step):\n",
    "        model=LdaModel(corpus=corpus, id2word=dictionary, num_topics=num_topics)\n",
    "        model_list.append(model)\n",
    "        coherencemodel = CoherenceModel(model=model, texts=texts, dictionary=dictionary, coherence='c_v')\n",
    "        coherence_values.append(coherencemodel.get_coherence())\n",
    "\n",
    "    return model_list, coherence_values"
   ]
  },
  {
   "cell_type": "code",
   "execution_count": null,
   "metadata": {
    "collapsed": true,
    "scrolled": true
   },
   "outputs": [],
   "source": [
    "model_list, coherence_values = compute_coherence_values(dictionary=id2word, corpus=corpus, texts=df_battle[\"tokens_contents\"], start=2, limit=100, step=6)"
   ]
  },
  {
   "cell_type": "code",
   "execution_count": null,
   "metadata": {
    "collapsed": true,
    "scrolled": true
   },
   "outputs": [],
   "source": [
    "# Show graph\n",
    "import matplotlib.pyplot as plt\n",
    "\n",
    "limit=100; start=2; step=6;\n",
    "x = range(start, limit, step)\n",
    "\n",
    "plt.plot(x, coherence_values)\n",
    "   \n",
    "plt.xlabel(\"Num Topics\")\n",
    "plt.ylabel(\"Coherence score\")\n",
    "plt.legend((\"coherence_values\"), loc='best')\n",
    "%time plt.show()"
   ]
  },
  {
   "cell_type": "code",
   "execution_count": null,
   "metadata": {
    "collapsed": true
   },
   "outputs": [],
   "source": [
    "# pyLDAvis Visualization\n",
    "\n",
    "pyLDAvis.enable_notebook()\n",
    "vis = pyLDAvis.gensim.prepare(lda_model, corpus, id2word)\n",
    "vis"
   ]
  }
 ],
 "metadata": {
  "kernelspec": {
   "display_name": "Python [Root]",
   "language": "python",
   "name": "Python [Root]"
  },
  "language_info": {
   "codemirror_mode": {
    "name": "ipython",
    "version": 3
   },
   "file_extension": ".py",
   "mimetype": "text/x-python",
   "name": "python",
   "nbconvert_exporter": "python",
   "pygments_lexer": "ipython3",
   "version": "3.5.3"
  }
 },
 "nbformat": 4,
 "nbformat_minor": 2
}
