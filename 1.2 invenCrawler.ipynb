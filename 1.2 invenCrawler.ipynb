{
 "cells": [
  {
   "cell_type": "markdown",
   "metadata": {},
   "source": [
    "### 라이브러리 임포트하기"
   ]
  },
  {
   "cell_type": "code",
   "execution_count": 1,
   "metadata": {
    "collapsed": true
   },
   "outputs": [],
   "source": [
    "import requests\n",
    "import re\n",
    "import time\n",
    "import csv\n",
    "from bs4 import BeautifulSoup\n",
    "from urllib.request import urlopen\n",
    "import datetime\n",
    "import pandas as pd"
   ]
  },
  {
   "cell_type": "markdown",
   "metadata": {},
   "source": [
    "### 데이터 불러오기"
   ]
  },
  {
   "cell_type": "code",
   "execution_count": 2,
   "metadata": {
    "collapsed": true
   },
   "outputs": [],
   "source": [
    "df = pd.read_csv(\"invenLinkList.txt\",header=None)"
   ]
  },
  {
   "cell_type": "code",
   "execution_count": 3,
   "metadata": {
    "scrolled": true
   },
   "outputs": [
    {
     "data": {
      "text/html": [
       "<div>\n",
       "<style>\n",
       "    .dataframe thead tr:only-child th {\n",
       "        text-align: right;\n",
       "    }\n",
       "\n",
       "    .dataframe thead th {\n",
       "        text-align: left;\n",
       "    }\n",
       "\n",
       "    .dataframe tbody tr th {\n",
       "        vertical-align: top;\n",
       "    }\n",
       "</style>\n",
       "<table border=\"1\" class=\"dataframe\">\n",
       "  <thead>\n",
       "    <tr style=\"text-align: right;\">\n",
       "      <th></th>\n",
       "      <th>0</th>\n",
       "    </tr>\n",
       "  </thead>\n",
       "  <tbody>\n",
       "    <tr>\n",
       "      <th>281048</th>\n",
       "      <td>http://www.inven.co.kr/board/hos/3903/894689?p...</td>\n",
       "    </tr>\n",
       "    <tr>\n",
       "      <th>281049</th>\n",
       "      <td>http://www.inven.co.kr/board/hos/3903/894688?p...</td>\n",
       "    </tr>\n",
       "    <tr>\n",
       "      <th>281050</th>\n",
       "      <td>http://www.inven.co.kr/board/hos/3903/894687?p...</td>\n",
       "    </tr>\n",
       "    <tr>\n",
       "      <th>281051</th>\n",
       "      <td>http://www.inven.co.kr/board/hos/3903/894686?p...</td>\n",
       "    </tr>\n",
       "    <tr>\n",
       "      <th>281052</th>\n",
       "      <td>http://www.inven.co.kr/board/hos/3903/894685?p...</td>\n",
       "    </tr>\n",
       "  </tbody>\n",
       "</table>\n",
       "</div>"
      ],
      "text/plain": [
       "                                                        0\n",
       "281048  http://www.inven.co.kr/board/hos/3903/894689?p...\n",
       "281049  http://www.inven.co.kr/board/hos/3903/894688?p...\n",
       "281050  http://www.inven.co.kr/board/hos/3903/894687?p...\n",
       "281051  http://www.inven.co.kr/board/hos/3903/894686?p...\n",
       "281052  http://www.inven.co.kr/board/hos/3903/894685?p..."
      ]
     },
     "execution_count": 3,
     "metadata": {},
     "output_type": "execute_result"
    }
   ],
   "source": [
    "df.tail()"
   ]
  },
  {
   "cell_type": "code",
   "execution_count": 4,
   "metadata": {
    "collapsed": true
   },
   "outputs": [],
   "source": [
    "# 링크를 따로 리스트화\n",
    "link_list = df.iloc[:,0].tolist()"
   ]
  },
  {
   "cell_type": "code",
   "execution_count": 5,
   "metadata": {
    "collapsed": true
   },
   "outputs": [],
   "source": [
    "# 정규표현식으로 뒤의 페이지를 제거 - 빨리 접속하기 위함\n",
    "for i in range(1,200000):\n",
    "    link_list[i] = re.sub(\"(\\?p=[\\d]+)\",\"\",link_list[i])"
   ]
  },
  {
   "cell_type": "code",
   "execution_count": 6,
   "metadata": {},
   "outputs": [
    {
     "data": {
      "text/plain": [
       "['http://www.inven.co.kr/board/hos/3903/1115328']"
      ]
     },
     "execution_count": 6,
     "metadata": {},
     "output_type": "execute_result"
    }
   ],
   "source": [
    "# 2018년의 첫글 확인\n",
    "link_list[85833:85834]"
   ]
  },
  {
   "cell_type": "markdown",
   "metadata": {},
   "source": [
    "http://www.inven.co.kr/board/hos/3903/1029642 : 2017.9.1 첫 시작글 161089번째 (인덱스 1부터)"
   ]
  },
  {
   "cell_type": "code",
   "execution_count": 7,
   "metadata": {},
   "outputs": [
    {
     "data": {
      "text/plain": [
       "'1214678'"
      ]
     },
     "execution_count": 7,
     "metadata": {},
     "output_type": "execute_result"
    }
   ],
   "source": [
    "# 링크 번호 잘 갖고오는지 확인\n",
    "str(link_list[1:2])[40:47]"
   ]
  },
  {
   "cell_type": "code",
   "execution_count": 8,
   "metadata": {
    "scrolled": false
   },
   "outputs": [
    {
     "name": "stdout",
     "output_type": "stream",
     "text": [
      "140000 번째 글 2018-09-25 11:15:13.645537\n",
      "140500 번째 글 2018-09-25 11:19:25.211562\n",
      "141000 번째 글 2018-09-25 11:23:30.656270\n",
      "141500 번째 글 2018-09-25 11:27:38.632353\n",
      "142000 번째 글 2018-09-25 11:31:47.513816\n",
      "142500 번째 글 2018-09-25 11:35:51.742120\n",
      "143000 번째 글 2018-09-25 11:40:01.798301\n",
      "143500 번째 글 2018-09-25 11:44:12.359697\n",
      "144000 번째 글 2018-09-25 11:48:18.762587\n",
      "144500 번째 글 2018-09-25 11:52:23.411239\n",
      "145000 번째 글 2018-09-25 11:56:31.164953\n",
      "145500 번째 글 2018-09-25 12:00:37.776912\n",
      "146000 번째 글 2018-09-25 12:04:49.286287\n",
      "146500 번째 글 2018-09-25 12:09:41.262255\n",
      "147000 번째 글 2018-09-25 12:13:52.400673\n",
      "147500 번째 글 2018-09-25 12:18:01.706610\n",
      "148000 번째 글 2018-09-25 12:22:08.241274\n",
      "148500 번째 글 2018-09-25 12:26:30.638854\n",
      "149000 번째 글 2018-09-25 12:35:35.535408\n",
      "149500 번째 글 2018-09-25 12:39:44.535922\n",
      "150000 번째 글 2018-09-25 12:44:41.002364\n",
      "150500 번째 글 2018-09-25 12:49:46.853972\n",
      "151000 번째 글 2018-09-25 12:53:51.550993\n",
      "151500 번째 글 2018-09-25 12:58:03.929908\n",
      "152000 번째 글 2018-09-25 13:02:08.174315\n",
      "152500 번째 글 2018-09-25 13:06:18.218343\n",
      "6822.2602660655975\n"
     ]
    }
   ],
   "source": [
    "start = time.time()\n",
    "\n",
    "f = open('invenData_140001~152823.csv','w',encoding='utf-8',newline=\"\")\n",
    "wr = csv.writer(f)\n",
    "\n",
    "for i in range(140000,152824):\n",
    "    # 파싱\n",
    "    html = requests.get(link_list[i]).text\n",
    "    soup = BeautifulSoup(html, 'html.parser')\n",
    "    date = soup.find(\"div\",{\"class\" : \"articleDate\"})\n",
    "    \n",
    "    # 삭제된 글 때문에 date여부로 먼저 가름\n",
    "    if date == None:\n",
    "        pass\n",
    "    else:\n",
    "        \n",
    "        # 날짜 가져오기\n",
    "        dates = date.get_text()\n",
    "        \n",
    "        # 글 번호 가져오기\n",
    "        link_ids = str(link_list[i:i+1])[40:47]\n",
    "\n",
    "        # 제목 가져오기\n",
    "        titles = soup.find(\"div\",{\"class\":\"articleTitle\"}).get_text()\n",
    "        titles = titles.replace(\"\\n\",\"\")\n",
    "\n",
    "        # 내용 가져오기\n",
    "        contents = soup.find(\"div\",{\"id\" : \"powerbbsContent\"}).get_text()\n",
    "        contents = contents.replace(\"\\n\",\"\")\n",
    "\n",
    "        # 유저 아이디 갖고오기\n",
    "    # user_ids = soup.find(\"div\",{\"class\":\"articleWriter\"}).get_text()\n",
    "    # user_ids = user_ids[1:]\n",
    "    \n",
    "    #    time.sleep(1)\n",
    "    \n",
    "        wr.writerow([link_ids, dates, titles, contents])\n",
    "        # 잘 긁고 있는지 주기마다 프린팅\n",
    "        if i % 500 == 0:\n",
    "            print(i,\"번째 글\", datetime.datetime.now())\n",
    "\n",
    "    \n",
    "f.close()\n",
    "\n",
    "end = time.time()\n",
    "print(end - start)"
   ]
  },
  {
   "cell_type": "code",
   "execution_count": 14,
   "metadata": {},
   "outputs": [
    {
     "data": {
      "text/plain": [
       "'2018-03-10 01:10'"
      ]
     },
     "execution_count": 14,
     "metadata": {},
     "output_type": "execute_result"
    }
   ],
   "source": [
    "dates"
   ]
  },
  {
   "cell_type": "code",
   "execution_count": null,
   "metadata": {
    "collapsed": true
   },
   "outputs": [],
   "source": [
    "df1 = pd.read_csv(\"invenData.csv\",header=None, encoding='utf-8')"
   ]
  },
  {
   "cell_type": "code",
   "execution_count": null,
   "metadata": {
    "collapsed": true,
    "scrolled": true
   },
   "outputs": [],
   "source": [
    "df1.tail(10)"
   ]
  },
  {
   "cell_type": "code",
   "execution_count": null,
   "metadata": {
    "collapsed": true
   },
   "outputs": [],
   "source": [
    "contents"
   ]
  }
 ],
 "metadata": {
  "kernelspec": {
   "display_name": "Python [Root]",
   "language": "python",
   "name": "Python [Root]"
  },
  "language_info": {
   "codemirror_mode": {
    "name": "ipython",
    "version": 3
   },
   "file_extension": ".py",
   "mimetype": "text/x-python",
   "name": "python",
   "nbconvert_exporter": "python",
   "pygments_lexer": "ipython3",
   "version": "3.5.3"
  }
 },
 "nbformat": 4,
 "nbformat_minor": 2
}
