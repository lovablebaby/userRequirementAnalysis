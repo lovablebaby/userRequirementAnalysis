{
 "cells": [
  {
   "cell_type": "markdown",
   "metadata": {},
   "source": [
    "# Data Proprecessing + Analysis\n",
    "---\n",
    "텍스트 데이터들을 전처리 하고 필요한 분석들을 함께 진행합니다."
   ]
  },
  {
   "cell_type": "markdown",
   "metadata": {},
   "source": [
    "- 배틀넷\n",
    "   - 시간 데이터 전처리\n",
    "   - 공지 글 삭제\n",
    "   - 중복 데이터 전처리\n",
    "   - 헤비유저 파악\n",
    "   \n",
    "  \n",
    "- 인벤\n",
    "   - 시간 데이터 전처리\n",
    "   - 공지 글 삭제\n",
    "   - contents컬럼의 NaN 제거\n",
    "   - 헤비유저 파악\n",
    "   \n",
    "   \n",
    "- 배틀넷+인벤 불용어 전처리"
   ]
  },
  {
   "cell_type": "code",
   "execution_count": 1,
   "metadata": {
    "collapsed": true
   },
   "outputs": [],
   "source": [
    "## 라이브러리 로딩\n",
    "\n",
    "import pandas as pd # 판다스 \n",
    "import numpy as np # 넘파이\n",
    "import glob # 파일 여러개 불러올 때\n",
    "import time, datetime\n",
    "from datetime import datetime\n",
    "\n",
    "import re # 정규표현식\n",
    "import csv # 파일로 저장하기 위한 툴\n",
    "\n",
    "import ast # Abstrac Syntex Tree - 스트링 처리된 리스트를 리스트로 다시 리턴할때"
   ]
  },
  {
   "cell_type": "code",
   "execution_count": 2,
   "metadata": {
    "collapsed": true
   },
   "outputs": [],
   "source": [
    "from tqdm import tqdm, trange\n",
    "from tqdm import tqdm_notebook\n",
    "from time import sleep"
   ]
  },
  {
   "cell_type": "markdown",
   "metadata": {},
   "source": [
    "### - 인벤 데이터 올리기"
   ]
  },
  {
   "cell_type": "code",
   "execution_count": 3,
   "metadata": {
    "collapsed": true,
    "scrolled": true
   },
   "outputs": [],
   "source": [
    "# Inven Data \n",
    "\n",
    "df1 = pd.read_csv(\"data/invenData_1~10000.csv\", encoding = 'utf8', header=None, engine='python')\n",
    "df2 = pd.read_csv(\"data/invenData_10001~50000.csv\", encoding='utf8', header=None, engine='python')\n",
    "df3 = pd.read_csv(\"data/invenData_50001~70000.csv\", encoding='utf8', header=None, engine='python')\n",
    "df4 = pd.read_csv(\"data/invenData_70001~85834.csv\", encoding='utf8', header=None, engine='python')\n",
    "df5 = pd.read_csv(\"data/invenData_85835~100000.csv\", encoding='utf8', header=None, engine='python')\n",
    "df6 = pd.read_csv(\"data/invenData_100001~120000.csv\", encoding='utf8', header=None, engine='python')\n",
    "df7 = pd.read_csv(\"data/invenData_120001~140000.csv\", encoding='utf8', header=None, engine='python')\n",
    "df8 = pd.read_csv(\"data/invenData_140001~152823.csv\", encoding='utf8', header=None, engine='python')\n",
    "df9 = pd.read_csv(\"data/invenData_152824~160100.csv\", encoding='utf8', header=None, engine='python')"
   ]
  },
  {
   "cell_type": "code",
   "execution_count": 4,
   "metadata": {
    "collapsed": true
   },
   "outputs": [],
   "source": [
    "# 인벤 데이터 한꺼번에 합침\n",
    "df_inven = pd.concat([df1, df2, df3, df4, df5, df6, df7, df8, df9])"
   ]
  },
  {
   "cell_type": "code",
   "execution_count": 5,
   "metadata": {
    "collapsed": true
   },
   "outputs": [],
   "source": [
    "# 컬럼명 붙이기\n",
    "df_inven.columns = ['link_id', 'timestamp', 'title', 'contents']"
   ]
  },
  {
   "cell_type": "code",
   "execution_count": 6,
   "metadata": {
    "collapsed": true
   },
   "outputs": [],
   "source": [
    "# NaN을 아예 길이없는 스트링으로 전환\n",
    "df_inven['contents'].fillna(\"\", inplace=True)"
   ]
  },
  {
   "cell_type": "code",
   "execution_count": 7,
   "metadata": {
    "collapsed": true
   },
   "outputs": [],
   "source": [
    "## 내용이 너무 짧다. 제목과 내용을 합친다.\n",
    "\n",
    "# 시작 컬럼 포지션을 잡기\n",
    "source_col_loc = df_inven.columns.get_loc('title') \n",
    "\n",
    "# 컬럼 기준으로 제목 + 내용 합치기\n",
    "df_inven['contents_all'] = df_inven.iloc[:,source_col_loc:source_col_loc+2].apply(lambda x: \",\".join(x.astype(str)), axis=1)"
   ]
  },
  {
   "cell_type": "code",
   "execution_count": 10,
   "metadata": {
    "collapsed": true
   },
   "outputs": [],
   "source": [
    "df_inven.drop('contents_all',axis=1, inplace=True)"
   ]
  },
  {
   "cell_type": "code",
   "execution_count": 8,
   "metadata": {
    "collapsed": true
   },
   "outputs": [],
   "source": [
    "# 인덱스를 리셋시켜서 14만번대가 나오게 하도록 한다.\n",
    "df_inven.reset_index(inplace=True)"
   ]
  },
  {
   "cell_type": "code",
   "execution_count": 42,
   "metadata": {
    "scrolled": false
   },
   "outputs": [
    {
     "data": {
      "text/html": [
       "<div>\n",
       "<style>\n",
       "    .dataframe thead tr:only-child th {\n",
       "        text-align: right;\n",
       "    }\n",
       "\n",
       "    .dataframe thead th {\n",
       "        text-align: left;\n",
       "    }\n",
       "\n",
       "    .dataframe tbody tr th {\n",
       "        vertical-align: top;\n",
       "    }\n",
       "</style>\n",
       "<table border=\"1\" class=\"dataframe\">\n",
       "  <thead>\n",
       "    <tr style=\"text-align: right;\">\n",
       "      <th></th>\n",
       "      <th>index</th>\n",
       "      <th>link_id</th>\n",
       "      <th>timestamp</th>\n",
       "      <th>title</th>\n",
       "      <th>contents</th>\n",
       "    </tr>\n",
       "  </thead>\n",
       "  <tbody>\n",
       "    <tr>\n",
       "      <th>1892</th>\n",
       "      <td>1892</td>\n",
       "      <td>1213066</td>\n",
       "      <td>2018-08-16 00:53</td>\n",
       "      <td>놀러오세요 그아조씨의 \"시공\"방송에 [트/유]</td>\n",
       "      <td>안녕하세요~ 종합 게임 방송을 지향하고 있는 하꼬 스트리머 바드 스피오테입니다.오늘...</td>\n",
       "    </tr>\n",
       "    <tr>\n",
       "      <th>2948</th>\n",
       "      <td>2948</td>\n",
       "      <td>1211894</td>\n",
       "      <td>2018-08-02 23:03</td>\n",
       "      <td>놀러오세요 그아조씨의 \"시공\"방송에 [트/유]</td>\n",
       "      <td>안녕하세요~ 종합 게임 방송을 지향하고 있는 하꼬 스트리머 바드 스피오테입니다.오늘...</td>\n",
       "    </tr>\n",
       "    <tr>\n",
       "      <th>4116</th>\n",
       "      <td>4116</td>\n",
       "      <td>1210601</td>\n",
       "      <td>2018-07-23 23:44</td>\n",
       "      <td>놀러오세요 그아조씨의 \"시공\"방송에 [트/유]</td>\n",
       "      <td>안녕하세요~ 종합 게임 방송을 지향하고 있는 하꼬 스트리머 바드 스피오테입니다.오늘...</td>\n",
       "    </tr>\n",
       "    <tr>\n",
       "      <th>4726</th>\n",
       "      <td>4726</td>\n",
       "      <td>1209901</td>\n",
       "      <td>2018-07-18 01:12</td>\n",
       "      <td>놀러오세요 그아조씨의 \"시공\"방송에 [트/유]</td>\n",
       "      <td>안녕하세요~ 종합 게임 방송을 지향하고 있는 하꼬 스트리머 바드 스피오테입니다.오늘...</td>\n",
       "    </tr>\n",
       "    <tr>\n",
       "      <th>6130</th>\n",
       "      <td>6130</td>\n",
       "      <td>1208347</td>\n",
       "      <td>2018-07-03 23:49</td>\n",
       "      <td>놀러오세요 그아조씨의 \"시공\"방송에 [트/유]</td>\n",
       "      <td>안녕하세요~ 종합 게임 방송을 지향하고 있는 하꼬 스트리머 바드 스피오테입니다.오늘...</td>\n",
       "    </tr>\n",
       "    <tr>\n",
       "      <th>7855</th>\n",
       "      <td>7855</td>\n",
       "      <td>1206425</td>\n",
       "      <td>2018-06-14 22:48</td>\n",
       "      <td>놀러오세요 그아조씨의 \"시공\"방송에 [트/유]</td>\n",
       "      <td>안녕하세요~ 종합 게임 방송을 지향하고 있는 하꼬 스트리머 바드 스피오테입니다.  ...</td>\n",
       "    </tr>\n",
       "  </tbody>\n",
       "</table>\n",
       "</div>"
      ],
      "text/plain": [
       "      index  link_id         timestamp                      title  \\\n",
       "1892   1892  1213066  2018-08-16 00:53  놀러오세요 그아조씨의 \"시공\"방송에 [트/유]   \n",
       "2948   2948  1211894  2018-08-02 23:03  놀러오세요 그아조씨의 \"시공\"방송에 [트/유]   \n",
       "4116   4116  1210601  2018-07-23 23:44  놀러오세요 그아조씨의 \"시공\"방송에 [트/유]   \n",
       "4726   4726  1209901  2018-07-18 01:12  놀러오세요 그아조씨의 \"시공\"방송에 [트/유]   \n",
       "6130   6130  1208347  2018-07-03 23:49  놀러오세요 그아조씨의 \"시공\"방송에 [트/유]   \n",
       "7855   7855  1206425  2018-06-14 22:48  놀러오세요 그아조씨의 \"시공\"방송에 [트/유]   \n",
       "\n",
       "                                               contents  \n",
       "1892  안녕하세요~ 종합 게임 방송을 지향하고 있는 하꼬 스트리머 바드 스피오테입니다.오늘...  \n",
       "2948  안녕하세요~ 종합 게임 방송을 지향하고 있는 하꼬 스트리머 바드 스피오테입니다.오늘...  \n",
       "4116  안녕하세요~ 종합 게임 방송을 지향하고 있는 하꼬 스트리머 바드 스피오테입니다.오늘...  \n",
       "4726  안녕하세요~ 종합 게임 방송을 지향하고 있는 하꼬 스트리머 바드 스피오테입니다.오늘...  \n",
       "6130  안녕하세요~ 종합 게임 방송을 지향하고 있는 하꼬 스트리머 바드 스피오테입니다.오늘...  \n",
       "7855  안녕하세요~ 종합 게임 방송을 지향하고 있는 하꼬 스트리머 바드 스피오테입니다.  ...  "
      ]
     },
     "execution_count": 42,
     "metadata": {},
     "output_type": "execute_result"
    }
   ],
   "source": [
    "df_inven[df_inven['title']=='놀러오세요 그아조씨의 \"시공\"방송에 [트/유]']"
   ]
  },
  {
   "cell_type": "code",
   "execution_count": 41,
   "metadata": {
    "scrolled": false
   },
   "outputs": [
    {
     "data": {
      "text/html": [
       "<div>\n",
       "<style>\n",
       "    .dataframe thead tr:only-child th {\n",
       "        text-align: right;\n",
       "    }\n",
       "\n",
       "    .dataframe thead th {\n",
       "        text-align: left;\n",
       "    }\n",
       "\n",
       "    .dataframe tbody tr th {\n",
       "        vertical-align: top;\n",
       "    }\n",
       "</style>\n",
       "<table border=\"1\" class=\"dataframe\">\n",
       "  <thead>\n",
       "    <tr style=\"text-align: right;\">\n",
       "      <th></th>\n",
       "      <th>index</th>\n",
       "      <th>link_id</th>\n",
       "      <th>timestamp</th>\n",
       "      <th>title</th>\n",
       "      <th>contents</th>\n",
       "    </tr>\n",
       "  </thead>\n",
       "  <tbody>\n",
       "    <tr>\n",
       "      <th>6445</th>\n",
       "      <td>6445</td>\n",
       "      <td>1207995</td>\n",
       "      <td>2018-06-29 23:06</td>\n",
       "      <td>[트/유]놀러오세요 그아조씨의 \"시공\"방송에</td>\n",
       "      <td>안녕하세요~ 종합 게임 방송을 지향하고 있는 하꼬 스트리머 바드 스피오테입니다.오늘...</td>\n",
       "    </tr>\n",
       "    <tr>\n",
       "      <th>6789</th>\n",
       "      <td>6789</td>\n",
       "      <td>1207603</td>\n",
       "      <td>2018-06-26 01:01</td>\n",
       "      <td>[트/유]놀러오세요 그아조씨의 \"시공\"방송에</td>\n",
       "      <td>안녕하세요~ 종합 게임 방송을 지향하고 있는 하꼬 스트리머 바드 스피오테입니다.오늘...</td>\n",
       "    </tr>\n",
       "    <tr>\n",
       "      <th>7099</th>\n",
       "      <td>7099</td>\n",
       "      <td>1207249</td>\n",
       "      <td>2018-06-21 21:34</td>\n",
       "      <td>[트/유]놀러오세요 그아조씨의 \"시공\"방송에</td>\n",
       "      <td>안녕하세요~ 종합 게임 방송을 지향하고 있는 하꼬 스트리머 바드 스피오테입니다.오늘...</td>\n",
       "    </tr>\n",
       "  </tbody>\n",
       "</table>\n",
       "</div>"
      ],
      "text/plain": [
       "      index  link_id         timestamp                     title  \\\n",
       "6445   6445  1207995  2018-06-29 23:06  [트/유]놀러오세요 그아조씨의 \"시공\"방송에   \n",
       "6789   6789  1207603  2018-06-26 01:01  [트/유]놀러오세요 그아조씨의 \"시공\"방송에   \n",
       "7099   7099  1207249  2018-06-21 21:34  [트/유]놀러오세요 그아조씨의 \"시공\"방송에   \n",
       "\n",
       "                                               contents  \n",
       "6445  안녕하세요~ 종합 게임 방송을 지향하고 있는 하꼬 스트리머 바드 스피오테입니다.오늘...  \n",
       "6789  안녕하세요~ 종합 게임 방송을 지향하고 있는 하꼬 스트리머 바드 스피오테입니다.오늘...  \n",
       "7099  안녕하세요~ 종합 게임 방송을 지향하고 있는 하꼬 스트리머 바드 스피오테입니다.오늘...  "
      ]
     },
     "execution_count": 41,
     "metadata": {},
     "output_type": "execute_result"
    }
   ],
   "source": [
    "df_inven[df_inven['title']=='[트/유]놀러오세요 그아조씨의 \"시공\"방송에']"
   ]
  },
  {
   "cell_type": "code",
   "execution_count": 38,
   "metadata": {},
   "outputs": [
    {
     "data": {
      "text/html": [
       "<div>\n",
       "<style>\n",
       "    .dataframe thead tr:only-child th {\n",
       "        text-align: right;\n",
       "    }\n",
       "\n",
       "    .dataframe thead th {\n",
       "        text-align: left;\n",
       "    }\n",
       "\n",
       "    .dataframe tbody tr th {\n",
       "        vertical-align: top;\n",
       "    }\n",
       "</style>\n",
       "<table border=\"1\" class=\"dataframe\">\n",
       "  <thead>\n",
       "    <tr style=\"text-align: right;\">\n",
       "      <th></th>\n",
       "      <th>index</th>\n",
       "      <th>link_id</th>\n",
       "      <th>timestamp</th>\n",
       "      <th>title</th>\n",
       "      <th>contents</th>\n",
       "    </tr>\n",
       "  </thead>\n",
       "  <tbody>\n",
       "    <tr>\n",
       "      <th>13301</th>\n",
       "      <td>3323</td>\n",
       "      <td>1199990</td>\n",
       "      <td>2018-05-25 23:49</td>\n",
       "      <td>안녕하세요.트위치/유튜브에서 시공의 폭풍 방송합니다 ^^</td>\n",
       "      <td>안녕하세요~ 다시 인사 드립니다. 종합 게임 방송을 지향하고 있는 하꼬 스트리머 바...</td>\n",
       "    </tr>\n",
       "    <tr>\n",
       "      <th>14087</th>\n",
       "      <td>4109</td>\n",
       "      <td>1199088</td>\n",
       "      <td>2018-05-23 21:53</td>\n",
       "      <td>안녕하세요.트위치/유튜브에서 시공의 폭풍 방송합니다 ^^</td>\n",
       "      <td>안녕하세요~ 다시 인사 드립니다. 종합 게임 방송을 지향하고 있는 하꼬 스트리머 바...</td>\n",
       "    </tr>\n",
       "    <tr>\n",
       "      <th>14487</th>\n",
       "      <td>4509</td>\n",
       "      <td>1198616</td>\n",
       "      <td>2018-05-22 23:10</td>\n",
       "      <td>안녕하세요.트위치/유튜브에서 시공의 폭풍 방송합니다 ^^</td>\n",
       "      <td>안녕하세요~ 다시 인사 드립니다. 종합 게임 방송을 지향하고 있는 하꼬 스트리머 바...</td>\n",
       "    </tr>\n",
       "  </tbody>\n",
       "</table>\n",
       "</div>"
      ],
      "text/plain": [
       "       index  link_id         timestamp                            title  \\\n",
       "13301   3323  1199990  2018-05-25 23:49  안녕하세요.트위치/유튜브에서 시공의 폭풍 방송합니다 ^^   \n",
       "14087   4109  1199088  2018-05-23 21:53  안녕하세요.트위치/유튜브에서 시공의 폭풍 방송합니다 ^^   \n",
       "14487   4509  1198616  2018-05-22 23:10  안녕하세요.트위치/유튜브에서 시공의 폭풍 방송합니다 ^^   \n",
       "\n",
       "                                                contents  \n",
       "13301  안녕하세요~ 다시 인사 드립니다. 종합 게임 방송을 지향하고 있는 하꼬 스트리머 바...  \n",
       "14087  안녕하세요~ 다시 인사 드립니다. 종합 게임 방송을 지향하고 있는 하꼬 스트리머 바...  \n",
       "14487  안녕하세요~ 다시 인사 드립니다. 종합 게임 방송을 지향하고 있는 하꼬 스트리머 바...  "
      ]
     },
     "execution_count": 38,
     "metadata": {},
     "output_type": "execute_result"
    }
   ],
   "source": [
    "df_inven[df_inven['title']=='안녕하세요.트위치/유튜브에서 시공의 폭풍 방송합니다 ^^']"
   ]
  },
  {
   "cell_type": "code",
   "execution_count": 37,
   "metadata": {},
   "outputs": [
    {
     "data": {
      "text/html": [
       "<div>\n",
       "<style>\n",
       "    .dataframe thead tr:only-child th {\n",
       "        text-align: right;\n",
       "    }\n",
       "\n",
       "    .dataframe thead th {\n",
       "        text-align: left;\n",
       "    }\n",
       "\n",
       "    .dataframe tbody tr th {\n",
       "        vertical-align: top;\n",
       "    }\n",
       "</style>\n",
       "<table border=\"1\" class=\"dataframe\">\n",
       "  <thead>\n",
       "    <tr style=\"text-align: right;\">\n",
       "      <th></th>\n",
       "      <th>index</th>\n",
       "      <th>link_id</th>\n",
       "      <th>timestamp</th>\n",
       "      <th>title</th>\n",
       "      <th>contents</th>\n",
       "    </tr>\n",
       "  </thead>\n",
       "  <tbody>\n",
       "    <tr>\n",
       "      <th>0</th>\n",
       "      <td>0</td>\n",
       "      <td>1214270</td>\n",
       "      <td>2018-08-30 16:06</td>\n",
       "      <td>댓글 차단 BETA가 적용됩니다.</td>\n",
       "      <td>안녕하세요. 인벤 커뮤니티팀입니다.인벤을 이용하다 보면 때로는 나와 조금 다른 의견...</td>\n",
       "    </tr>\n",
       "    <tr>\n",
       "      <th>1</th>\n",
       "      <td>1</td>\n",
       "      <td>1214678</td>\n",
       "      <td>2018-09-05 11:56</td>\n",
       "      <td>9월 1주차 히어로즈 인벤 주간 이벤트 당첨자 발표</td>\n",
       "      <td>안녕하세요. 히어로즈 오브 더 스톰 인벤 커뮤니티팀입니다.히어로즈 인벤에서는 매주 ...</td>\n",
       "    </tr>\n",
       "    <tr>\n",
       "      <th>2</th>\n",
       "      <td>2</td>\n",
       "      <td>1214899</td>\n",
       "      <td>2018-09-06 22:38</td>\n",
       "      <td>[오시공] 김정민,문규리,침착맨,네클릿,옥냥이 메피스토 특별방송!</td>\n",
       "      <td></td>\n",
       "    </tr>\n",
       "    <tr>\n",
       "      <th>3</th>\n",
       "      <td>3</td>\n",
       "      <td>1215180</td>\n",
       "      <td>2018-09-10 23:57</td>\n",
       "      <td>ㅋㅋㅋㅋ 장구벌레</td>\n",
       "      <td></td>\n",
       "    </tr>\n",
       "    <tr>\n",
       "      <th>4</th>\n",
       "      <td>4</td>\n",
       "      <td>1215179</td>\n",
       "      <td>2018-09-10 23:52</td>\n",
       "      <td>캘타스 뭐가 더 비슷한가요?</td>\n",
       "      <td>타겜이지만 ㅎ.. 고민</td>\n",
       "    </tr>\n",
       "  </tbody>\n",
       "</table>\n",
       "</div>"
      ],
      "text/plain": [
       "   index  link_id         timestamp                                 title  \\\n",
       "0      0  1214270  2018-08-30 16:06                    댓글 차단 BETA가 적용됩니다.   \n",
       "1      1  1214678  2018-09-05 11:56          9월 1주차 히어로즈 인벤 주간 이벤트 당첨자 발표   \n",
       "2      2  1214899  2018-09-06 22:38  [오시공] 김정민,문규리,침착맨,네클릿,옥냥이 메피스토 특별방송!   \n",
       "3      3  1215180  2018-09-10 23:57                             ㅋㅋㅋㅋ 장구벌레   \n",
       "4      4  1215179  2018-09-10 23:52                       캘타스 뭐가 더 비슷한가요?   \n",
       "\n",
       "                                            contents  \n",
       "0  안녕하세요. 인벤 커뮤니티팀입니다.인벤을 이용하다 보면 때로는 나와 조금 다른 의견...  \n",
       "1  안녕하세요. 히어로즈 오브 더 스톰 인벤 커뮤니티팀입니다.히어로즈 인벤에서는 매주 ...  \n",
       "2                                                     \n",
       "3                                                     \n",
       "4                                       타겜이지만 ㅎ.. 고민  "
      ]
     },
     "execution_count": 37,
     "metadata": {},
     "output_type": "execute_result"
    }
   ],
   "source": [
    "df_inven.head()"
   ]
  },
  {
   "cell_type": "markdown",
   "metadata": {},
   "source": [
    "### - 인벤\n",
    "---\n",
    "### 시간 데이터 전처리"
   ]
  },
  {
   "cell_type": "code",
   "execution_count": 36,
   "metadata": {
    "scrolled": true
   },
   "outputs": [
    {
     "data": {
      "text/html": [
       "<div>\n",
       "<style>\n",
       "    .dataframe thead tr:only-child th {\n",
       "        text-align: right;\n",
       "    }\n",
       "\n",
       "    .dataframe thead th {\n",
       "        text-align: left;\n",
       "    }\n",
       "\n",
       "    .dataframe tbody tr th {\n",
       "        vertical-align: top;\n",
       "    }\n",
       "</style>\n",
       "<table border=\"1\" class=\"dataframe\">\n",
       "  <thead>\n",
       "    <tr style=\"text-align: right;\">\n",
       "      <th></th>\n",
       "      <th>index</th>\n",
       "      <th>link_id</th>\n",
       "      <th>timestamp</th>\n",
       "      <th>title</th>\n",
       "      <th>contents</th>\n",
       "      <th>contents_all</th>\n",
       "    </tr>\n",
       "  </thead>\n",
       "  <tbody>\n",
       "    <tr>\n",
       "      <th>0</th>\n",
       "      <td>0</td>\n",
       "      <td>1214270</td>\n",
       "      <td>2018-08-30 16:06</td>\n",
       "      <td>댓글 차단 BETA가 적용됩니다.</td>\n",
       "      <td>안녕하세요. 인벤 커뮤니티팀입니다.인벤을 이용하다 보면 때로는 나와 조금 다른 의견...</td>\n",
       "      <td>댓글 차단 BETA가 적용됩니다.,안녕하세요. 인벤 커뮤니티팀입니다.인벤을 이용하다...</td>\n",
       "    </tr>\n",
       "    <tr>\n",
       "      <th>1</th>\n",
       "      <td>1</td>\n",
       "      <td>1214678</td>\n",
       "      <td>2018-09-05 11:56</td>\n",
       "      <td>9월 1주차 히어로즈 인벤 주간 이벤트 당첨자 발표</td>\n",
       "      <td>안녕하세요. 히어로즈 오브 더 스톰 인벤 커뮤니티팀입니다.히어로즈 인벤에서는 매주 ...</td>\n",
       "      <td>9월 1주차 히어로즈 인벤 주간 이벤트 당첨자 발표,안녕하세요. 히어로즈 오브 더 ...</td>\n",
       "    </tr>\n",
       "    <tr>\n",
       "      <th>2</th>\n",
       "      <td>2</td>\n",
       "      <td>1214899</td>\n",
       "      <td>2018-09-06 22:38</td>\n",
       "      <td>[오시공] 김정민,문규리,침착맨,네클릿,옥냥이 메피스토 특별방송!</td>\n",
       "      <td></td>\n",
       "      <td>[오시공] 김정민,문규리,침착맨,네클릿,옥냥이 메피스토 특별방송!,</td>\n",
       "    </tr>\n",
       "    <tr>\n",
       "      <th>3</th>\n",
       "      <td>3</td>\n",
       "      <td>1215180</td>\n",
       "      <td>2018-09-10 23:57</td>\n",
       "      <td>ㅋㅋㅋㅋ 장구벌레</td>\n",
       "      <td></td>\n",
       "      <td>ㅋㅋㅋㅋ 장구벌레,</td>\n",
       "    </tr>\n",
       "    <tr>\n",
       "      <th>4</th>\n",
       "      <td>4</td>\n",
       "      <td>1215179</td>\n",
       "      <td>2018-09-10 23:52</td>\n",
       "      <td>캘타스 뭐가 더 비슷한가요?</td>\n",
       "      <td>타겜이지만 ㅎ.. 고민</td>\n",
       "      <td>캘타스 뭐가 더 비슷한가요?,타겜이지만 ㅎ.. 고민</td>\n",
       "    </tr>\n",
       "  </tbody>\n",
       "</table>\n",
       "</div>"
      ],
      "text/plain": [
       "   index  link_id         timestamp                                 title  \\\n",
       "0      0  1214270  2018-08-30 16:06                    댓글 차단 BETA가 적용됩니다.   \n",
       "1      1  1214678  2018-09-05 11:56          9월 1주차 히어로즈 인벤 주간 이벤트 당첨자 발표   \n",
       "2      2  1214899  2018-09-06 22:38  [오시공] 김정민,문규리,침착맨,네클릿,옥냥이 메피스토 특별방송!   \n",
       "3      3  1215180  2018-09-10 23:57                             ㅋㅋㅋㅋ 장구벌레   \n",
       "4      4  1215179  2018-09-10 23:52                       캘타스 뭐가 더 비슷한가요?   \n",
       "\n",
       "                                            contents  \\\n",
       "0  안녕하세요. 인벤 커뮤니티팀입니다.인벤을 이용하다 보면 때로는 나와 조금 다른 의견...   \n",
       "1  안녕하세요. 히어로즈 오브 더 스톰 인벤 커뮤니티팀입니다.히어로즈 인벤에서는 매주 ...   \n",
       "2                                                      \n",
       "3                                                      \n",
       "4                                       타겜이지만 ㅎ.. 고민   \n",
       "\n",
       "                                        contents_all  \n",
       "0  댓글 차단 BETA가 적용됩니다.,안녕하세요. 인벤 커뮤니티팀입니다.인벤을 이용하다...  \n",
       "1  9월 1주차 히어로즈 인벤 주간 이벤트 당첨자 발표,안녕하세요. 히어로즈 오브 더 ...  \n",
       "2              [오시공] 김정민,문규리,침착맨,네클릿,옥냥이 메피스토 특별방송!,  \n",
       "3                                         ㅋㅋㅋㅋ 장구벌레,  \n",
       "4                       캘타스 뭐가 더 비슷한가요?,타겜이지만 ㅎ.. 고민  "
      ]
     },
     "execution_count": 36,
     "metadata": {},
     "output_type": "execute_result"
    }
   ],
   "source": [
    "df_inven.head()"
   ]
  },
  {
   "cell_type": "code",
   "execution_count": 37,
   "metadata": {
    "collapsed": true
   },
   "outputs": [],
   "source": [
    "# 새로운 데이트타임 형식 만들기\n",
    "\n",
    "inven_new_dates = []\n",
    "\n",
    "for i in range(len(df_inven)):\n",
    " \n",
    "    inven_dates = datetime.strptime(df_inven.iloc[i,2], \"%Y-%m-%d %H:%M\")\n",
    "    inven_new_dates.append(inven_dates)"
   ]
  },
  {
   "cell_type": "code",
   "execution_count": 38,
   "metadata": {
    "collapsed": true
   },
   "outputs": [],
   "source": [
    "# 시간 열을 추가하고 없앱니다.\n",
    "df_inven[\"new_datetime\"] = inven_new_dates\n",
    "df_inven.drop('timestamp',axis=1, inplace=True)"
   ]
  },
  {
   "cell_type": "code",
   "execution_count": 42,
   "metadata": {
    "collapsed": true,
    "scrolled": true
   },
   "outputs": [],
   "source": [
    "# 분석에 필요없어진 열들을 다시 드랍합니다.\n",
    "\n",
    "#df_inven.drop('title',axis=1, inplace=True)\n",
    "#df_inven.drop('contents',axis=1, inplace=True)\n",
    "df_inven.drop('index',axis=1, inplace=True)"
   ]
  },
  {
   "cell_type": "code",
   "execution_count": 43,
   "metadata": {
    "scrolled": true
   },
   "outputs": [
    {
     "data": {
      "text/html": [
       "<div>\n",
       "<style>\n",
       "    .dataframe thead tr:only-child th {\n",
       "        text-align: right;\n",
       "    }\n",
       "\n",
       "    .dataframe thead th {\n",
       "        text-align: left;\n",
       "    }\n",
       "\n",
       "    .dataframe tbody tr th {\n",
       "        vertical-align: top;\n",
       "    }\n",
       "</style>\n",
       "<table border=\"1\" class=\"dataframe\">\n",
       "  <thead>\n",
       "    <tr style=\"text-align: right;\">\n",
       "      <th></th>\n",
       "      <th>link_id</th>\n",
       "      <th>contents_all</th>\n",
       "      <th>new_datetime</th>\n",
       "    </tr>\n",
       "  </thead>\n",
       "  <tbody>\n",
       "    <tr>\n",
       "      <th>147578</th>\n",
       "      <td>1030725</td>\n",
       "      <td>와 미친 오늘 진짜 치열하다 ㅋㅋㅋ,5,6 위 매치 진짜 미친듯이 치열하네의외의 꿀...</td>\n",
       "      <td>2017-09-02 19:19:00</td>\n",
       "    </tr>\n",
       "    <tr>\n",
       "      <th>147579</th>\n",
       "      <td>1030724</td>\n",
       "      <td>뭐 안늙어죽으면 불멸자는 맞지만,불멸자들중에서도 조건부로맞아죽어도 살아날수있으니 개...</td>\n",
       "      <td>2017-09-02 19:18:00</td>\n",
       "    </tr>\n",
       "    <tr>\n",
       "      <th>147580</th>\n",
       "      <td>1030723</td>\n",
       "      <td>히오스 n주년 이벤 해서,플레이어들이스킨 부문영웅 부문 창작해서 각 서버별로 상금걸...</td>\n",
       "      <td>2017-09-02 19:16:00</td>\n",
       "    </tr>\n",
       "    <tr>\n",
       "      <th>147581</th>\n",
       "      <td>1030722</td>\n",
       "      <td>Cc에 강한 탱커 생겻으면,Cc 맞으면 체력회복</td>\n",
       "      <td>2017-09-02 19:13:00</td>\n",
       "    </tr>\n",
       "    <tr>\n",
       "      <th>147582</th>\n",
       "      <td>1030721</td>\n",
       "      <td>이겜 영리하다보면 어느구간부터가 잘하는지 의문임,체감상 그마도 몇십유저 빼고 다 고...</td>\n",
       "      <td>2017-09-02 19:13:00</td>\n",
       "    </tr>\n",
       "  </tbody>\n",
       "</table>\n",
       "</div>"
      ],
      "text/plain": [
       "        link_id                                       contents_all  \\\n",
       "147578  1030725  와 미친 오늘 진짜 치열하다 ㅋㅋㅋ,5,6 위 매치 진짜 미친듯이 치열하네의외의 꿀...   \n",
       "147579  1030724  뭐 안늙어죽으면 불멸자는 맞지만,불멸자들중에서도 조건부로맞아죽어도 살아날수있으니 개...   \n",
       "147580  1030723  히오스 n주년 이벤 해서,플레이어들이스킨 부문영웅 부문 창작해서 각 서버별로 상금걸...   \n",
       "147581  1030722                         Cc에 강한 탱커 생겻으면,Cc 맞으면 체력회복   \n",
       "147582  1030721  이겜 영리하다보면 어느구간부터가 잘하는지 의문임,체감상 그마도 몇십유저 빼고 다 고...   \n",
       "\n",
       "              new_datetime  \n",
       "147578 2017-09-02 19:19:00  \n",
       "147579 2017-09-02 19:18:00  \n",
       "147580 2017-09-02 19:16:00  \n",
       "147581 2017-09-02 19:13:00  \n",
       "147582 2017-09-02 19:13:00  "
      ]
     },
     "execution_count": 43,
     "metadata": {},
     "output_type": "execute_result"
    }
   ],
   "source": [
    "df_inven.tail()"
   ]
  },
  {
   "cell_type": "markdown",
   "metadata": {},
   "source": [
    "### 인벤 - 그 외 중복 데이터 처리하기"
   ]
  },
  {
   "cell_type": "code",
   "execution_count": 44,
   "metadata": {
    "scrolled": true
   },
   "outputs": [
    {
     "name": "stdout",
     "output_type": "stream",
     "text": [
      "     link_id                                       contents_all  \\\n",
      "1    1214678  9월 1주차 히어로즈 인벤 주간 이벤트 당첨자 발표,안녕하세요. 히어로즈 오브 더 ...   \n",
      "460  1214678  9월 1주차 히어로즈 인벤 주간 이벤트 당첨자 발표,안녕하세요. 히어로즈 오브 더 ...   \n",
      "\n",
      "           new_datetime  \n",
      "1   2018-09-05 11:56:00  \n",
      "460 2018-09-05 11:56:00   \n",
      " ================================================================================      link_id                                       contents_all  \\\n",
      "0    1214270  댓글 차단 BETA가 적용됩니다.,안녕하세요. 인벤 커뮤니티팀입니다.인벤을 이용하다...   \n",
      "821  1214270  댓글 차단 BETA가 적용됩니다.,안녕하세요. 인벤 커뮤니티팀입니다.인벤을 이용하다...   \n",
      "\n",
      "           new_datetime  \n",
      "0   2018-08-30 16:06:00  \n",
      "821 2018-08-30 16:06:00   \n",
      " ================================================================================       link_id                                       contents_all  \\\n",
      "1390  1213632  8월 3주차 히어로즈 인벤 주간 이벤트 당첨자 발표,안녕하세요. 히어로즈 오브 더 ...   \n",
      "\n",
      "            new_datetime  \n",
      "1390 2018-08-22 16:38:00   \n",
      " ================================================================================      link_id                                       contents_all  \\\n",
      "881  1214199  8월 4주차 히어로즈 인벤 주간 이벤트 당첨자 발표,안녕하세요. 히어로즈 오브 더 ...   \n",
      "\n",
      "           new_datetime  \n",
      "881 2018-08-29 14:47:00   \n",
      " ================================================================================       link_id                                       contents_all  \\\n",
      "1921  1213035  8월 2주차 히어로즈 인벤 주간 이벤트 당첨자 발표,안녕하세요. 히어로즈 오브 더 ...   \n",
      "\n",
      "            new_datetime  \n",
      "1921 2018-08-15 16:14:00   \n",
      " ================================================================================       link_id                                       contents_all  \\\n",
      "2510  1212385  8월 1주차 히어로즈 인벤 주간 이벤트 당첨자 발표,안녕하세요. 히어로즈 오브 더 ...   \n",
      "\n",
      "            new_datetime  \n",
      "2510 2018-08-08 10:48:00   \n",
      " ================================================================================       link_id                                       contents_all  \\\n",
      "3140  1211671  7월 5주차 히어로즈 인벤 주간 이벤트 당첨자 발표,안녕하세요. 히어로즈 오브 더 ...   \n",
      "\n",
      "            new_datetime  \n",
      "3140 2018-08-01 10:59:00   \n",
      " ================================================================================       link_id                                       contents_all  \\\n",
      "3990  1210740  7월 4주차 히어로즈 인벤 주간 이벤트 당첨자 발표,안녕하세요. 히어로즈 오브 더 ...   \n",
      "\n",
      "            new_datetime  \n",
      "3990 2018-07-25 15:41:00   \n",
      " ================================================================================       link_id                                       contents_all  \\\n",
      "4695  1209936  7월 3주차 히어로즈 인벤 주간 이벤트 당첨자 발표,안녕하세요. 히어로즈 오브 더 ...   \n",
      "\n",
      "            new_datetime  \n",
      "4695 2018-07-18 13:02:00   \n",
      " ================================================================================       link_id                                       contents_all  \\\n",
      "5531  1208994  7월 2주차 히어로즈 인벤 주간 이벤트 당첨자 발표,안녕하세요. 히어로즈 오브 더 ...   \n",
      "\n",
      "            new_datetime  \n",
      "5531 2018-07-11 15:05:00   \n",
      " ================================================================================       link_id                                       contents_all  \\\n",
      "6109  1208372  7월 1주차 히어로즈 인벤 주간 이벤트 당첨자 발표,안녕하세요. 히어로즈 오브 더 ...   \n",
      "\n",
      "            new_datetime  \n",
      "6109 2018-07-04 10:10:00   \n",
      " ================================================================================       link_id                                       contents_all  \\\n",
      "6672  1207739  6월 4주차 히어로즈 인벤 주간 이벤트 당첨자 발표,안녕하세요. 히어로즈 오브 더 ...   \n",
      "\n",
      "            new_datetime  \n",
      "6672 2018-06-27 15:01:00   \n",
      " ================================================================================       link_id                                       contents_all  \\\n",
      "7226  1207110  6월 3주차 히어로즈 인벤 주간 이벤트 당첨자 발표,안녕하세요. 히어로즈 오브 더 ...   \n",
      "\n",
      "            new_datetime  \n",
      "7226 2018-06-20 14:08:00   \n",
      " ================================================================================\n"
     ]
    }
   ],
   "source": [
    "print(df_inven[df_inven[\"link_id\"] == 1214678],\"\\n\",\"=\"*80,\n",
    "      df_inven[df_inven[\"link_id\"] == 1214270],\"\\n\",\"=\"*80,\n",
    "      df_inven[df_inven[\"link_id\"] == 1213632],\"\\n\",\"=\"*80,\n",
    "      df_inven[df_inven[\"link_id\"] == 1214199],\"\\n\",\"=\"*80,\n",
    "      df_inven[df_inven[\"link_id\"] == 1213035],\"\\n\",\"=\"*80,\n",
    "      df_inven[df_inven[\"link_id\"] == 1212385],\"\\n\",\"=\"*80,\n",
    "      df_inven[df_inven[\"link_id\"] == 1211671],\"\\n\",\"=\"*80,\n",
    "      df_inven[df_inven[\"link_id\"] == 1210740],\"\\n\",\"=\"*80,\n",
    "      df_inven[df_inven[\"link_id\"] == 1209936],\"\\n\",\"=\"*80,\n",
    "      df_inven[df_inven[\"link_id\"] == 1208994],\"\\n\",\"=\"*80,\n",
    "      df_inven[df_inven[\"link_id\"] == 1208372],\"\\n\",\"=\"*80,\n",
    "      df_inven[df_inven[\"link_id\"] == 1207739],\"\\n\",\"=\"*80,\n",
    "      df_inven[df_inven[\"link_id\"] == 1207110],\"\\n\",\"=\"*80)"
   ]
  },
  {
   "cell_type": "markdown",
   "metadata": {},
   "source": [
    "1, 460 / 0 ,821 / 1390, 881, 1921, 2510, 3140, 3990, 4695, 5531, 6109, 6672, 7226  글들은 커뮤니티 팀에서 올린 것으로 삭제한다.\n",
    "\n",
    "(운영자 아이디로 검색하여 글번호 확인하였음)"
   ]
  },
  {
   "cell_type": "code",
   "execution_count": 46,
   "metadata": {
    "collapsed": true
   },
   "outputs": [],
   "source": [
    "# 운영팀에서 올린 공지는 제외\n",
    "# 아이디를 직접 긁어오지 않았으므로, 웹상에서 직접 링크 아이디를 찾아 제거합니다.\n",
    "\n",
    "df_inven.drop([0],inplace=True)\n",
    "df_inven.drop([1],inplace=True)\n",
    "df_inven.drop([460],inplace=True)\n",
    "df_inven.drop([821],inplace=True)\n",
    "df_inven.drop([881],inplace=True)\n",
    "df_inven.drop([1390],inplace=True)\n",
    "df_inven.drop([1921],inplace=True)\n",
    "df_inven.drop([2510],inplace=True)\n",
    "df_inven.drop([3140],inplace=True)\n",
    "df_inven.drop([3990],inplace=True)\n",
    "df_inven.drop([4695],inplace=True)\n",
    "df_inven.drop([5531],inplace=True)\n",
    "df_inven.drop([6109],inplace=True)\n",
    "df_inven.drop([6672],inplace=True)\n",
    "df_inven.drop([7226],inplace=True)\n",
    "\n",
    "\n",
    "# 기타 중복글\n",
    "\n"
   ]
  },
  {
   "cell_type": "code",
   "execution_count": 47,
   "metadata": {
    "collapsed": true
   },
   "outputs": [],
   "source": [
    "df_inven.reset_index(inplace=True)"
   ]
  },
  {
   "cell_type": "code",
   "execution_count": 49,
   "metadata": {
    "collapsed": true
   },
   "outputs": [],
   "source": [
    "df_inven.drop('index',axis=1, inplace=True)"
   ]
  },
  {
   "cell_type": "code",
   "execution_count": 50,
   "metadata": {
    "collapsed": true
   },
   "outputs": [],
   "source": [
    "# inven 컬럼 다시조정\n",
    "\n",
    "df_inven = df_inven[['link_id','new_datetime','contents_all']]"
   ]
  },
  {
   "cell_type": "code",
   "execution_count": 64,
   "metadata": {
    "collapsed": true,
    "scrolled": true
   },
   "outputs": [],
   "source": [
    "# 년도와 월을 따로 만듭니다.\n",
    "\n",
    "df_inven['Year'] = df_inven['new_datetime'].dt.year\n",
    "df_inven['Month'] = df_inven['new_datetime'].dt.month\n"
   ]
  },
  {
   "cell_type": "code",
   "execution_count": 65,
   "metadata": {
    "scrolled": true
   },
   "outputs": [
    {
     "data": {
      "text/html": [
       "<div>\n",
       "<style>\n",
       "    .dataframe thead tr:only-child th {\n",
       "        text-align: right;\n",
       "    }\n",
       "\n",
       "    .dataframe thead th {\n",
       "        text-align: left;\n",
       "    }\n",
       "\n",
       "    .dataframe tbody tr th {\n",
       "        vertical-align: top;\n",
       "    }\n",
       "</style>\n",
       "<table border=\"1\" class=\"dataframe\">\n",
       "  <thead>\n",
       "    <tr style=\"text-align: right;\">\n",
       "      <th></th>\n",
       "      <th>link_id</th>\n",
       "      <th>new_datetime</th>\n",
       "      <th>contents_all</th>\n",
       "      <th>Year</th>\n",
       "      <th>Month</th>\n",
       "    </tr>\n",
       "  </thead>\n",
       "  <tbody>\n",
       "    <tr>\n",
       "      <th>0</th>\n",
       "      <td>1214899</td>\n",
       "      <td>2018-09-06 22:38:00</td>\n",
       "      <td>오시공  김정민 문규리 침착맨 네클릿 옥냥이 메피스토 특별방송</td>\n",
       "      <td>2018</td>\n",
       "      <td>9</td>\n",
       "    </tr>\n",
       "    <tr>\n",
       "      <th>1</th>\n",
       "      <td>1215180</td>\n",
       "      <td>2018-09-10 23:57:00</td>\n",
       "      <td>ㅋㅋㅋㅋ 장구벌레</td>\n",
       "      <td>2018</td>\n",
       "      <td>9</td>\n",
       "    </tr>\n",
       "    <tr>\n",
       "      <th>2</th>\n",
       "      <td>1215179</td>\n",
       "      <td>2018-09-10 23:52:00</td>\n",
       "      <td>캘타스 뭐가 더 비슷한가요  타겜이지만 ㅎ   고민</td>\n",
       "      <td>2018</td>\n",
       "      <td>9</td>\n",
       "    </tr>\n",
       "    <tr>\n",
       "      <th>3</th>\n",
       "      <td>1215178</td>\n",
       "      <td>2018-09-10 23:52:00</td>\n",
       "      <td>메피 방금사서 해봤는데 너무사기임     궁각만 잘재고 쓰면 못해도 더블킬은 따고들...</td>\n",
       "      <td>2018</td>\n",
       "      <td>9</td>\n",
       "    </tr>\n",
       "    <tr>\n",
       "      <th>4</th>\n",
       "      <td>1215177</td>\n",
       "      <td>2018-09-10 23:50:00</td>\n",
       "      <td>제발 메피는 궁이랑 보호막특 너프 좀   두개가 안되면 궁이라도    궁자체도 최상...</td>\n",
       "      <td>2018</td>\n",
       "      <td>9</td>\n",
       "    </tr>\n",
       "  </tbody>\n",
       "</table>\n",
       "</div>"
      ],
      "text/plain": [
       "   link_id        new_datetime  \\\n",
       "0  1214899 2018-09-06 22:38:00   \n",
       "1  1215180 2018-09-10 23:57:00   \n",
       "2  1215179 2018-09-10 23:52:00   \n",
       "3  1215178 2018-09-10 23:52:00   \n",
       "4  1215177 2018-09-10 23:50:00   \n",
       "\n",
       "                                        contents_all  Year  Month  \n",
       "0               오시공  김정민 문규리 침착맨 네클릿 옥냥이 메피스토 특별방송    2018      9  \n",
       "1                                         ㅋㅋㅋㅋ 장구벌레   2018      9  \n",
       "2                       캘타스 뭐가 더 비슷한가요  타겜이지만 ㅎ   고민  2018      9  \n",
       "3  메피 방금사서 해봤는데 너무사기임     궁각만 잘재고 쓰면 못해도 더블킬은 따고들...  2018      9  \n",
       "4  제발 메피는 궁이랑 보호막특 너프 좀   두개가 안되면 궁이라도    궁자체도 최상...  2018      9  "
      ]
     },
     "execution_count": 65,
     "metadata": {},
     "output_type": "execute_result"
    }
   ],
   "source": [
    "df_inven.head()"
   ]
  },
  {
   "cell_type": "markdown",
   "metadata": {},
   "source": [
    "## 3. 데이터 전처리 - 특수문자 전처리"
   ]
  },
  {
   "cell_type": "code",
   "execution_count": 55,
   "metadata": {
    "collapsed": true
   },
   "outputs": [],
   "source": [
    "# 정규 표현식\n",
    "p_http = re.compile(\"(((http(s?))\\:\\/\\/)?)([0-9a-zA-Z\\-]+\\.)+[a-zA-Z]{2,6}(\\:[0-9]+)?(\\S*)\")\n",
    "p_char = re.compile(\"[^가-힣ㄱ-ㅎㅏ-ㅣa-zA-Z0-9ㅣ ]\")\n",
    "p_tag = re.compile(\"<.+>\")\n",
    "p_brac = re.compile(\"[[\\]]\")\n",
    "p_hangul = re.compile('[^ ㄱ-ㅣ가-힣]+') "
   ]
  },
  {
   "cell_type": "code",
   "execution_count": 56,
   "metadata": {
    "collapsed": true
   },
   "outputs": [],
   "source": [
    "# 정규 표현식 함수화\n",
    "\n",
    "def patternRemover(doc):\n",
    "    doc = p_http.sub(' ', doc)\n",
    "    doc = p_char.sub(' ', doc)\n",
    "    doc = p_tag.sub(' ', doc)\n",
    "    doc = p_brac.sub(' ', doc)\n",
    "    doc = p_hangu.sub(' ', doc)\n",
    "    return doc"
   ]
  },
  {
   "cell_type": "code",
   "execution_count": 58,
   "metadata": {
    "collapsed": true
   },
   "outputs": [],
   "source": [
    "# 배틀넷 - 특수문자 전처리\n",
    "\n",
    "for i in range(len(df_battle[\"contents_all\"])):\n",
    "    df_battle.iloc[i,2] = patternRemover(df_battle.iloc[i,2])"
   ]
  },
  {
   "cell_type": "code",
   "execution_count": 66,
   "metadata": {},
   "outputs": [
    {
     "data": {
      "text/plain": [
       "147568"
      ]
     },
     "execution_count": 66,
     "metadata": {},
     "output_type": "execute_result"
    }
   ],
   "source": [
    "len(df_inven)"
   ]
  },
  {
   "cell_type": "code",
   "execution_count": 70,
   "metadata": {
    "scrolled": true
   },
   "outputs": [
    {
     "data": {
      "application/vnd.jupyter.widget-view+json": {
       "model_id": "bb59f766e69c4d799e0bb5b8a1651bd4"
      }
     },
     "metadata": {},
     "output_type": "display_data"
    },
    {
     "name": "stdout",
     "output_type": "stream",
     "text": [
      "CPU times: user 36min 53s, sys: 1min 28s, total: 38min 22s\n",
      "Wall time: 39min 26s\n"
     ]
    }
   ],
   "source": [
    "# 인벤 - 특수문자 전처리\n",
    "\n",
    "%%time\n",
    "\n",
    "total = tqdm_notebook(range(147568))\n",
    "\n",
    "for i in total:\n",
    "    df_inven.iloc[i,2] = patternRemover(df_inven.iloc[i,2])"
   ]
  },
  {
   "cell_type": "code",
   "execution_count": 73,
   "metadata": {},
   "outputs": [
    {
     "data": {
      "text/plain": [
       "'그래서 이스프레이는 언제나오죠 나오면 바로삼 ㄹㅇ'"
      ]
     },
     "execution_count": 73,
     "metadata": {},
     "output_type": "execute_result"
    }
   ],
   "source": [
    "df_inven.iloc[140000,2]\n",
    "\n",
    "## 초성 나왔음 초성도 제거해야해.."
   ]
  },
  {
   "cell_type": "markdown",
   "metadata": {},
   "source": [
    "### 데이터 합치기"
   ]
  },
  {
   "cell_type": "code",
   "execution_count": 75,
   "metadata": {
    "collapsed": true
   },
   "outputs": [],
   "source": [
    "df_all = pd.concat([df_battle, df_inven])"
   ]
  },
  {
   "cell_type": "code",
   "execution_count": 77,
   "metadata": {
    "collapsed": true
   },
   "outputs": [],
   "source": [
    "df_all.reset_index(inplace=True)"
   ]
  },
  {
   "cell_type": "code",
   "execution_count": 81,
   "metadata": {
    "collapsed": true
   },
   "outputs": [],
   "source": [
    "df_all.drop('index',axis=1, inplace=True)"
   ]
  },
  {
   "cell_type": "code",
   "execution_count": 163,
   "metadata": {
    "collapsed": true
   },
   "outputs": [],
   "source": [
    "df_all.to_csv(\"predata.csv\", encoding='utf-8')"
   ]
  },
  {
   "cell_type": "code",
   "execution_count": 160,
   "metadata": {
    "collapsed": true
   },
   "outputs": [],
   "source": [
    "df_all.drop('tokens_contents', axis=1, inplace=True)"
   ]
  },
  {
   "cell_type": "code",
   "execution_count": 162,
   "metadata": {},
   "outputs": [
    {
     "data": {
      "text/html": [
       "<div>\n",
       "<style>\n",
       "    .dataframe thead tr:only-child th {\n",
       "        text-align: right;\n",
       "    }\n",
       "\n",
       "    .dataframe thead th {\n",
       "        text-align: left;\n",
       "    }\n",
       "\n",
       "    .dataframe tbody tr th {\n",
       "        vertical-align: top;\n",
       "    }\n",
       "</style>\n",
       "<table border=\"1\" class=\"dataframe\">\n",
       "  <thead>\n",
       "    <tr style=\"text-align: right;\">\n",
       "      <th></th>\n",
       "      <th>link_id</th>\n",
       "      <th>new_datetime</th>\n",
       "      <th>contents_all</th>\n",
       "      <th>Year</th>\n",
       "      <th>Month</th>\n",
       "    </tr>\n",
       "  </thead>\n",
       "  <tbody>\n",
       "    <tr>\n",
       "      <th>153203</th>\n",
       "      <td>1030725</td>\n",
       "      <td>2017-09-02 19:19:00</td>\n",
       "      <td>와 미친 오늘 진짜 치열하다 ㅋㅋㅋ 5 6 위 매치 진짜 미친듯이 치열하네의외의 꿀...</td>\n",
       "      <td>2017</td>\n",
       "      <td>9</td>\n",
       "    </tr>\n",
       "    <tr>\n",
       "      <th>153204</th>\n",
       "      <td>1030724</td>\n",
       "      <td>2017-09-02 19:18:00</td>\n",
       "      <td>뭐 안늙어죽으면 불멸자는 맞지만 불멸자들중에서도 조건부로맞아죽어도 살아날수있으니 개...</td>\n",
       "      <td>2017</td>\n",
       "      <td>9</td>\n",
       "    </tr>\n",
       "    <tr>\n",
       "      <th>153205</th>\n",
       "      <td>1030723</td>\n",
       "      <td>2017-09-02 19:16:00</td>\n",
       "      <td>히오스 n주년 이벤 해서 플레이어들이스킨 부문영웅 부문 창작해서 각 서버별로 상금걸...</td>\n",
       "      <td>2017</td>\n",
       "      <td>9</td>\n",
       "    </tr>\n",
       "    <tr>\n",
       "      <th>153206</th>\n",
       "      <td>1030722</td>\n",
       "      <td>2017-09-02 19:13:00</td>\n",
       "      <td>Cc에 강한 탱커 생겻으면 Cc 맞으면 체력회복</td>\n",
       "      <td>2017</td>\n",
       "      <td>9</td>\n",
       "    </tr>\n",
       "    <tr>\n",
       "      <th>153207</th>\n",
       "      <td>1030721</td>\n",
       "      <td>2017-09-02 19:13:00</td>\n",
       "      <td>이겜 영리하다보면 어느구간부터가 잘하는지 의문임 체감상 그마도 몇십유저 빼고 다 고...</td>\n",
       "      <td>2017</td>\n",
       "      <td>9</td>\n",
       "    </tr>\n",
       "  </tbody>\n",
       "</table>\n",
       "</div>"
      ],
      "text/plain": [
       "        link_id        new_datetime  \\\n",
       "153203  1030725 2017-09-02 19:19:00   \n",
       "153204  1030724 2017-09-02 19:18:00   \n",
       "153205  1030723 2017-09-02 19:16:00   \n",
       "153206  1030722 2017-09-02 19:13:00   \n",
       "153207  1030721 2017-09-02 19:13:00   \n",
       "\n",
       "                                             contents_all  Year  Month  \n",
       "153203  와 미친 오늘 진짜 치열하다 ㅋㅋㅋ 5 6 위 매치 진짜 미친듯이 치열하네의외의 꿀...  2017      9  \n",
       "153204  뭐 안늙어죽으면 불멸자는 맞지만 불멸자들중에서도 조건부로맞아죽어도 살아날수있으니 개...  2017      9  \n",
       "153205  히오스 n주년 이벤 해서 플레이어들이스킨 부문영웅 부문 창작해서 각 서버별로 상금걸...  2017      9  \n",
       "153206                         Cc에 강한 탱커 생겻으면 Cc 맞으면 체력회복  2017      9  \n",
       "153207  이겜 영리하다보면 어느구간부터가 잘하는지 의문임 체감상 그마도 몇십유저 빼고 다 고...  2017      9  "
      ]
     },
     "execution_count": 162,
     "metadata": {},
     "output_type": "execute_result"
    }
   ],
   "source": [
    "df_all.tail()"
   ]
  }
 ],
 "metadata": {
  "kernelspec": {
   "display_name": "Python [Root]",
   "language": "python",
   "name": "Python [Root]"
  },
  "language_info": {
   "codemirror_mode": {
    "name": "ipython",
    "version": 3
   },
   "file_extension": ".py",
   "mimetype": "text/x-python",
   "name": "python",
   "nbconvert_exporter": "python",
   "pygments_lexer": "ipython3",
   "version": "3.5.3"
  }
 },
 "nbformat": 4,
 "nbformat_minor": 2
}
