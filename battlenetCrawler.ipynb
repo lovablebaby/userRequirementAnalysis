{
 "cells": [
  {
   "cell_type": "markdown",
   "metadata": {},
   "source": [
    "### 예쁜 스프로 크롤러 만들기- > 셀레니움으로 하기 -> 다시 예쁜 스프로 만들어요!.."
   ]
  },
  {
   "cell_type": "code",
   "execution_count": 1,
   "metadata": {
    "collapsed": true
   },
   "outputs": [],
   "source": [
    "import requests\n",
    "from bs4 import BeautifulSoup\n",
    "import codecs\n",
    "import re\n",
    "from urllib.request import urlopen\n",
    "import pandas as pd\n",
    "import csv\n",
    "import time"
   ]
  },
  {
   "cell_type": "code",
   "execution_count": 2,
   "metadata": {
    "collapsed": true
   },
   "outputs": [],
   "source": [
    "user_id_field = list()\n",
    "\n",
    "date_field = list()\n",
    "title_field = list()\n",
    "link_field = list()"
   ]
  },
  {
   "cell_type": "code",
   "execution_count": 3,
   "metadata": {
    "scrolled": true
   },
   "outputs": [
    {
     "name": "stdout",
     "output_type": "stream",
     "text": [
      "50\n",
      "100\n",
      "150\n",
      "200\n",
      "250\n",
      "300\n",
      "350\n",
      "400\n",
      "450\n"
     ]
    }
   ],
   "source": [
    "for pageNum in range(1,10):\n",
    "    html = urlopen(\"https://kr.battle.net/forums/ko/heroes/4211527/?page=\" + str(pageNum+1))\n",
    "    \n",
    "    html_object = BeautifulSoup(html, \"html.parser\",from_encoding='utf-8')\n",
    "    \n",
    "    for x in html_object.findAll(\"a\", attrs = {'class': \"ForumTopic\"}):\n",
    "        link = \"https://kr.battle.net\"+x.a['href']\n",
    "        link_field.append(link)\n",
    "        time.sleep(3)\n",
    "    link_num = len(link_field)\n",
    "    print(link_num)"
   ]
  },
  {
   "cell_type": "markdown",
   "metadata": {},
   "source": [
    "수집 총시간 코드입력\n"
   ]
  },
  {
   "cell_type": "code",
   "execution_count": 5,
   "metadata": {
    "collapsed": true
   },
   "outputs": [],
   "source": [
    "f = open('filelink.csv','w', encoding='euc-kr',newline=\"\")\n",
    "wr = csv.writer(f)\n",
    "\n",
    "for i in range(link_num):\n",
    "    content_field = list()\n",
    "    html2 = urlopen(link_field[i])\n",
    "    html_object2 = BeautifulSoup(html2, \"html.parser\", from_encoding='utf-8')\n",
    "    \n",
    "    \n",
    "    # 유저 아이디\n",
    "    user_ids = str(link_field[i:i+1])[47:57]\n",
    "\n",
    "\n",
    "    # 타이틀 갖고오기\n",
    "    titles = html_object2.select(\"div h1 span\")[0]\n",
    "    titles = titles.contents[0]\n",
    "\n",
    "    \n",
    "    # 내용 갖고오기\n",
    "    contents = html_object2.findAll(\"div\", attrs = {\"class\": \"TopicPost-bodyContent\"})\n",
    "\n",
    "    for index, content in enumerate(contents):\n",
    "        content_data = content.text\n",
    "        content_field.append(content_data)\n",
    "    content_r = \",\".join(content_field)\n",
    "\n",
    "   \n",
    "    \n",
    "    \"\"\"\n",
    "    user_ids = html_object2.select(\".TopicPost-content .Author .Author-name\")\n",
    "    user_ids = html_object2.findAll(\"div\", attrs = {\"class\": \"Author-details\"})\n",
    "    for index, user_id in enumerate(user_ids):\n",
    "         user_id_data = (str(index+1)+\":\"+user_id.text).replace(\"\\n\",\"\")\n",
    "         user_id_field.append(user_id_data)\n",
    "    \"\"\"\n",
    "   \n",
    "    \n",
    "    # 날짜\n",
    "    dates = html_object2.find(\"a\", attrs={\"class\":\"TopicPost-timestamp\"})\n",
    "    dates = str(dates)[75:93]\n",
    "   # date_field.append(dates)\n",
    "\n",
    "    time.sleep(3)\n",
    "\n",
    "    wr.writerow([user_ids,dates,titles,content_r])\n",
    "    \n",
    "f.close()"
   ]
  },
  {
   "cell_type": "code",
   "execution_count": 6,
   "metadata": {
    "collapsed": true
   },
   "outputs": [],
   "source": [
    "df = pd.read_csv(\"filelink.csv\",encoding=\"euc-kr\",header=None)"
   ]
  },
  {
   "cell_type": "code",
   "execution_count": 9,
   "metadata": {},
   "outputs": [
    {
     "data": {
      "text/html": [
       "<div>\n",
       "<style>\n",
       "    .dataframe thead tr:only-child th {\n",
       "        text-align: right;\n",
       "    }\n",
       "\n",
       "    .dataframe thead th {\n",
       "        text-align: left;\n",
       "    }\n",
       "\n",
       "    .dataframe tbody tr th {\n",
       "        vertical-align: top;\n",
       "    }\n",
       "</style>\n",
       "<table border=\"1\" class=\"dataframe\">\n",
       "  <thead>\n",
       "    <tr style=\"text-align: right;\">\n",
       "      <th></th>\n",
       "      <th>0</th>\n",
       "      <th>1</th>\n",
       "      <th>2</th>\n",
       "      <th>3</th>\n",
       "    </tr>\n",
       "  </thead>\n",
       "  <tbody>\n",
       "    <tr>\n",
       "      <th>445</th>\n",
       "      <td>4566616876</td>\n",
       "      <td>2018.07.14 08시 49분</td>\n",
       "      <td>빠른매치를 더 좋게 만드는법</td>\n",
       "      <td>빠른매치를 아예 없애버리고 등급전처럼싹다 일반전하라고 하면 됨.그렇다고 등급전처럼 ...</td>\n",
       "    </tr>\n",
       "    <tr>\n",
       "      <th>446</th>\n",
       "      <td>4566596846</td>\n",
       "      <td>2018.07.13 07시 09분</td>\n",
       "      <td>레이너 벤시 빠른 시전</td>\n",
       "      <td>레이너의 궁극기 중 \"레이너 특공대\"에 의해 소환되는 벤시에게 명령을 빠른 시전으로...</td>\n",
       "    </tr>\n",
       "    <tr>\n",
       "      <th>447</th>\n",
       "      <td>4566616869</td>\n",
       "      <td>2018.07.14 05시 10분</td>\n",
       "      <td>4380A686-3236-4667-A53E-9B356D170674 오류</td>\n",
       "      <td>4380A686-3236-4667-A53E-9B356D170674이 오류 계속뜨는데...</td>\n",
       "    </tr>\n",
       "    <tr>\n",
       "      <th>448</th>\n",
       "      <td>4566596860</td>\n",
       "      <td>2018.07.14 00시 20분</td>\n",
       "      <td>영웅리그 매칭 완료시 자리비움 확인 기능 추가 및 닷지 페널티 완화</td>\n",
       "      <td>히오스 영웅리그 밴픽엔 수많은 버그가 존재합니다. 그중 몇몇개는 조건을 알고있지 않...</td>\n",
       "    </tr>\n",
       "    <tr>\n",
       "      <th>449</th>\n",
       "      <td>4566606820</td>\n",
       "      <td>2018.07.14 02시 49분</td>\n",
       "      <td>별로 안중요한거지만</td>\n",
       "      <td>가로쉬 매드엑스 옛날에는 도끼 톱니바퀴 돌아가던데 지금은 왜 안돌아가나요 레이너 총...</td>\n",
       "    </tr>\n",
       "  </tbody>\n",
       "</table>\n",
       "</div>"
      ],
      "text/plain": [
       "              0                   1                                        2  \\\n",
       "445  4566616876  2018.07.14 08시 49분                          빠른매치를 더 좋게 만드는법   \n",
       "446  4566596846  2018.07.13 07시 09분                             레이너 벤시 빠른 시전   \n",
       "447  4566616869  2018.07.14 05시 10분  4380A686-3236-4667-A53E-9B356D170674 오류   \n",
       "448  4566596860  2018.07.14 00시 20분    영웅리그 매칭 완료시 자리비움 확인 기능 추가 및 닷지 페널티 완화   \n",
       "449  4566606820  2018.07.14 02시 49분                              별로 안중요한거지만    \n",
       "\n",
       "                                                     3  \n",
       "445  빠른매치를 아예 없애버리고 등급전처럼싹다 일반전하라고 하면 됨.그렇다고 등급전처럼 ...  \n",
       "446  레이너의 궁극기 중 \"레이너 특공대\"에 의해 소환되는 벤시에게 명령을 빠른 시전으로...  \n",
       "447  4380A686-3236-4667-A53E-9B356D170674이 오류 계속뜨는데...  \n",
       "448  히오스 영웅리그 밴픽엔 수많은 버그가 존재합니다. 그중 몇몇개는 조건을 알고있지 않...  \n",
       "449  가로쉬 매드엑스 옛날에는 도끼 톱니바퀴 돌아가던데 지금은 왜 안돌아가나요 레이너 총...  "
      ]
     },
     "execution_count": 9,
     "metadata": {},
     "output_type": "execute_result"
    }
   ],
   "source": [
    "df.tail()"
   ]
  },
  {
   "cell_type": "code",
   "execution_count": null,
   "metadata": {
    "collapsed": true
   },
   "outputs": [],
   "source": []
  }
 ],
 "metadata": {
  "kernelspec": {
   "display_name": "Python [anaconda]",
   "language": "python",
   "name": "Python [anaconda]"
  },
  "language_info": {
   "codemirror_mode": {
    "name": "ipython",
    "version": 3
   },
   "file_extension": ".py",
   "mimetype": "text/x-python",
   "name": "python",
   "nbconvert_exporter": "python",
   "pygments_lexer": "ipython3",
   "version": "3.5.3"
  }
 },
 "nbformat": 4,
 "nbformat_minor": 2
}
