{
 "cells": [
  {
   "cell_type": "code",
   "execution_count": 31,
   "metadata": {
    "collapsed": true
   },
   "outputs": [],
   "source": [
    "## 셀레니움으로 구글 접속하기\n",
    "\n",
    "from selenium import webdriver\n",
    "path = \"/Users/Yeoni/chromedriver\"\n",
    "driver = webdriver.Chrome(path)\n",
    "driver.get('https://www.google.com')\n",
    "driver.implicitly_wait(3)\n",
    "driver.close()"
   ]
  },
  {
   "cell_type": "markdown",
   "metadata": {},
   "source": [
    "## 예쁜 스프로 크롤러 만들기"
   ]
  },
  {
   "cell_type": "code",
   "execution_count": 2,
   "metadata": {
    "collapsed": true
   },
   "outputs": [],
   "source": [
    "import requests\n",
    "from bs4 import BeautifulSoup"
   ]
  },
  {
   "cell_type": "code",
   "execution_count": 35,
   "metadata": {
    "scrolled": false
   },
   "outputs": [],
   "source": [
    "# 페이지를 가지고 오기\n",
    "page_append = []\n",
    "for page_num in range(1,5):\n",
    "    url = \"https://kr.battle.net/forums/ko/heroes/4211527/?page={}\".format(page_num)\n",
    "    page_append.append(url)\n",
    "    pageNum = len(page_append)\n",
    "    \n",
    "    board_append = []\n",
    "    \n",
    "    f = open(\"filelink\", 'w')\n",
    "    # 페이지 내에 있는 링크들을 가져오기\n",
    "    for x in soup.find_all('a', attrs = {'class' : 'ForumTopic'}):\n",
    "        link = \"https://kr.battle.net\" + x.a['href']\n",
    "        board_append.append(link)\n",
    "        f.write(link+\"\\n\")\n",
    "    f.close()"
   ]
  },
  {
   "cell_type": "code",
   "execution_count": 26,
   "metadata": {
    "scrolled": true
   },
   "outputs": [
    {
     "data": {
      "text/plain": [
       "['https://kr.battle.net/forums/ko/heroes/topic/3789079852#post-1',\n",
       " 'https://kr.battle.net/forums/ko/heroes/topic/4565972813#post-1',\n",
       " 'https://kr.battle.net/forums/ko/heroes/topic/3789059698#post-2',\n",
       " 'https://kr.battle.net/forums/ko/heroes/topic/4566716940#post-1',\n",
       " 'https://kr.battle.net/forums/ko/heroes/topic/4565981379#post-1',\n",
       " 'https://kr.battle.net/forums/ko/heroes/topic/4565623200#post-1',\n",
       " 'https://kr.battle.net/forums/ko/heroes/topic/4566806714#post-1',\n",
       " 'https://kr.battle.net/forums/ko/heroes/topic/4566786640#post-2',\n",
       " 'https://kr.battle.net/forums/ko/heroes/topic/4563386607#post-3',\n",
       " 'https://kr.battle.net/forums/ko/heroes/topic/4565446647#post-7',\n",
       " 'https://kr.battle.net/forums/ko/heroes/topic/4566816749#post-1',\n",
       " 'https://kr.battle.net/forums/ko/heroes/topic/4566816747#post-1',\n",
       " 'https://kr.battle.net/forums/ko/heroes/topic/4566796692#post-1',\n",
       " 'https://kr.battle.net/forums/ko/heroes/topic/4566806707#post-1',\n",
       " 'https://kr.battle.net/forums/ko/heroes/topic/4566786737#post-1',\n",
       " 'https://kr.battle.net/forums/ko/heroes/topic/4566806704#post-1',\n",
       " 'https://kr.battle.net/forums/ko/heroes/topic/4566786731#post-1',\n",
       " 'https://kr.battle.net/forums/ko/heroes/topic/4566806702#post-1',\n",
       " 'https://kr.battle.net/forums/ko/heroes/topic/4566786730#post-1',\n",
       " 'https://kr.battle.net/forums/ko/heroes/topic/4566816729#post-1',\n",
       " 'https://kr.battle.net/forums/ko/heroes/topic/4566806659#post-2',\n",
       " 'https://kr.battle.net/forums/ko/heroes/topic/4566566648#post-4',\n",
       " 'https://kr.battle.net/forums/ko/heroes/topic/4566736692#post-9',\n",
       " 'https://kr.battle.net/forums/ko/heroes/topic/4566806695#post-1',\n",
       " 'https://kr.battle.net/forums/ko/heroes/topic/4566786686#post-2',\n",
       " 'https://kr.battle.net/forums/ko/heroes/topic/4566816721#post-1',\n",
       " 'https://kr.battle.net/forums/ko/heroes/topic/4566806689#post-1',\n",
       " 'https://kr.battle.net/forums/ko/heroes/topic/4566816718#post-1',\n",
       " 'https://kr.battle.net/forums/ko/heroes/topic/4566716929#post-3',\n",
       " 'https://kr.battle.net/forums/ko/heroes/topic/4566816714#post-1',\n",
       " 'https://kr.battle.net/forums/ko/heroes/topic/4566796668#post-1',\n",
       " 'https://kr.battle.net/forums/ko/heroes/topic/4566806676#post-1',\n",
       " 'https://kr.battle.net/forums/ko/heroes/topic/4566796664#post-1',\n",
       " 'https://kr.battle.net/forums/ko/heroes/topic/4566816691#post-2',\n",
       " 'https://kr.battle.net/forums/ko/heroes/topic/4566816703#post-2',\n",
       " 'https://kr.battle.net/forums/ko/heroes/topic/4566786700#post-2',\n",
       " 'https://kr.battle.net/forums/ko/heroes/topic/4566816704#post-2',\n",
       " 'https://kr.battle.net/forums/ko/heroes/topic/4566786712#post-1',\n",
       " 'https://kr.battle.net/forums/ko/heroes/topic/4566786707#post-1',\n",
       " 'https://kr.battle.net/forums/ko/heroes/topic/4566786706#post-1',\n",
       " 'https://kr.battle.net/forums/ko/heroes/topic/4566796652#post-3',\n",
       " 'https://kr.battle.net/forums/ko/heroes/topic/4566806666#post-2',\n",
       " 'https://kr.battle.net/forums/ko/heroes/topic/4566806643#post-2',\n",
       " 'https://kr.battle.net/forums/ko/heroes/topic/4566746774#post-3',\n",
       " 'https://kr.battle.net/forums/ko/heroes/topic/4566786653#post-1',\n",
       " 'https://kr.battle.net/forums/ko/heroes/topic/4566746915#post-5',\n",
       " 'https://kr.battle.net/forums/ko/heroes/topic/4566806642#post-1',\n",
       " 'https://kr.battle.net/forums/ko/heroes/topic/4566816640#post-2',\n",
       " 'https://kr.battle.net/forums/ko/heroes/topic/4566716993#post-3',\n",
       " 'https://kr.battle.net/forums/ko/heroes/topic/4566806641#post-1']"
      ]
     },
     "execution_count": 26,
     "metadata": {},
     "output_type": "execute_result"
    }
   ],
   "source": [
    "board_append"
   ]
  },
  {
   "cell_type": "code",
   "execution_count": 23,
   "metadata": {},
   "outputs": [
    {
     "data": {
      "text/plain": [
       "'https://kr.battle.net/forums/ko/heroes/topic/4566806641#post-1'"
      ]
     },
     "execution_count": 23,
     "metadata": {},
     "output_type": "execute_result"
    }
   ],
   "source": [
    "f = open(\"filelink\", 'r')\n",
    "while True:\n",
    "    line = f.readline()\n",
    "        for x in soup.find_all('a', attrs = {'class' : 'ForumTopic'}):\n",
    "    if not line: break\n",
    "    print(line)\n",
    "f.close()"
   ]
  },
  {
   "cell_type": "code",
   "execution_count": 16,
   "metadata": {},
   "outputs": [
    {
     "data": {
      "text/plain": [
       "True"
      ]
     },
     "execution_count": 16,
     "metadata": {},
     "output_type": "execute_result"
    }
   ],
   "source": [
    " 'has-blizzard-post' \n",
    "    in soup.find_all('a', attrs = {'class' : 'ForumTopic'})[0]['class']"
   ]
  },
  {
   "cell_type": "markdown",
   "metadata": {},
   "source": [
    "위에서 url for문 더 돌려서 링크를 갖고오고, 링크를 빈 리스트에 저장한다.\n",
    "\n",
    "has-blizzard-post가 들어있으면(True) 리스트에서 drop한다.\n",
    "\n",
    "그 리스트 들어가서 각 속성을 추출해온다."
   ]
  }
 ],
 "metadata": {
  "kernelspec": {
   "display_name": "Python [anaconda]",
   "language": "python",
   "name": "Python [anaconda]"
  },
  "language_info": {
   "codemirror_mode": {
    "name": "ipython",
    "version": 3
   },
   "file_extension": ".py",
   "mimetype": "text/x-python",
   "name": "python",
   "nbconvert_exporter": "python",
   "pygments_lexer": "ipython3",
   "version": "3.5.3"
  }
 },
 "nbformat": 4,
 "nbformat_minor": 2
}
