{
 "cells": [
  {
   "cell_type": "markdown",
   "metadata": {},
   "source": [
    "### 예쁜 스프로 크롤러 만들기- > 셀레니움으로 하기 -> 다시 예쁜 스프로 만들어요!.."
   ]
  },
  {
   "cell_type": "code",
   "execution_count": 1,
   "metadata": {},
   "outputs": [],
   "source": [
    "import requests\n",
    "from bs4 import BeautifulSoup\n",
    "import codecs\n",
    "import re\n",
    "from urllib.request import urlopen\n",
    "import pandas as pd\n",
    "import csv"
   ]
  },
  {
   "cell_type": "code",
   "execution_count": 2,
   "metadata": {
    "collapsed": true
   },
   "outputs": [],
   "source": [
    "user_id_field = list()\n",
    "\n",
    "date_field = list()\n",
    "title_field = list()\n",
    "link_field = list()"
   ]
  },
  {
   "cell_type": "code",
   "execution_count": 3,
   "metadata": {
    "scrolled": false
   },
   "outputs": [
    {
     "name": "stdout",
     "output_type": "stream",
     "text": [
      "50\n"
     ]
    }
   ],
   "source": [
    "for pageNum in range(1,2):\n",
    "    html = urlopen(\"https://kr.battle.net/forums/ko/heroes/4211527/?page=\" + str(pageNum+1))\n",
    "    \n",
    "    html_object = BeautifulSoup(html, \"html.parser\",from_encoding='utf-8')\n",
    "    \n",
    "    for x in html_object.findAll(\"a\", attrs = {'class': \"ForumTopic\"}):\n",
    "        link = \"https://kr.battle.net\"+x.a['href']\n",
    "        link_field.append(link)\n",
    "    link_num = len(link_field)\n",
    "    print(link_num)\n",
    "    \n",
    "\n",
    "f = open('filelink.csv','w', encoding='euc-kr',newline=\"\")\n",
    "wr = csv.writer(f)\n",
    "\n",
    "for i in range(link_num):\n",
    "    content_field = list()\n",
    "    html2 = urlopen(link_field[i])\n",
    "    html_object2 = BeautifulSoup(html2, \"html.parser\", from_encoding='utf-8')\n",
    "    \n",
    "    \n",
    "    # 유저 아이디\n",
    "    user_ids = str(link_field[i:i+1])[47:57]\n",
    "\n",
    "\n",
    "    # 타이틀 갖고오기\n",
    "    titles = html_object2.select(\"div h1 span\")[0]\n",
    "    titles = titles.contents[0]\n",
    "\n",
    "    \n",
    "    # 내용 갖고오기\n",
    "    contents = html_object2.findAll(\"div\", attrs = {\"class\": \"TopicPost-bodyContent\"})\n",
    "\n",
    "    for index, content in enumerate(contents):\n",
    "        content_data = str(index+1)+\":\"+content.text\n",
    "        content_field.append(content_data)\n",
    "    content_r = \",\".join(content_field)\n",
    "\n",
    "   \n",
    "    \n",
    "    \"\"\"\n",
    "    user_ids = html_object2.select(\".TopicPost-content .Author .Author-name\")\n",
    "    user_ids = html_object2.findAll(\"div\", attrs = {\"class\": \"Author-details\"})\n",
    "    for index, user_id in enumerate(user_ids):\n",
    "         user_id_data = (str(index+1)+\":\"+user_id.text).replace(\"\\n\",\"\")\n",
    "         user_id_field.append(user_id_data)\n",
    "    \"\"\"\n",
    "   \n",
    "    \n",
    "    # 날짜\n",
    "    dates = html_object2.find(\"a\", attrs={\"class\":\"TopicPost-timestamp\"})\n",
    "    dates = str(dates)[75:93]\n",
    "   # date_field.append(dates)\n",
    "\n",
    "    wr.writerow([user_ids,dates,titles,content_r])\n",
    "    \n",
    "f.close()"
   ]
  },
  {
   "cell_type": "code",
   "execution_count": 4,
   "metadata": {},
   "outputs": [],
   "source": [
    "df = pd.read_csv(\"filelink.csv\",encoding=\"euc-kr\",header=None)"
   ]
  },
  {
   "cell_type": "code",
   "execution_count": 5,
   "metadata": {},
   "outputs": [
    {
     "data": {
      "text/html": [
       "<div>\n",
       "<style>\n",
       "    .dataframe thead tr:only-child th {\n",
       "        text-align: right;\n",
       "    }\n",
       "\n",
       "    .dataframe thead th {\n",
       "        text-align: left;\n",
       "    }\n",
       "\n",
       "    .dataframe tbody tr th {\n",
       "        vertical-align: top;\n",
       "    }\n",
       "</style>\n",
       "<table border=\"1\" class=\"dataframe\">\n",
       "  <thead>\n",
       "    <tr style=\"text-align: right;\">\n",
       "      <th></th>\n",
       "      <th>0</th>\n",
       "      <th>1</th>\n",
       "      <th>2</th>\n",
       "      <th>3</th>\n",
       "    </tr>\n",
       "  </thead>\n",
       "  <tbody>\n",
       "    <tr>\n",
       "      <th>0</th>\n",
       "      <td>4566837162</td>\n",
       "      <td>2018.08.24 14시 08분</td>\n",
       "      <td>아..매칭좀 제대로 일좀해라</td>\n",
       "      <td>1:2인팀하고 솔로큐하고 4인,5인큐랑은 만나게하면 안된다고애초에 상대가 되냐? 조...</td>\n",
       "    </tr>\n",
       "    <tr>\n",
       "      <th>1</th>\n",
       "      <td>4566827161</td>\n",
       "      <td>2018.08.25 03시 29분</td>\n",
       "      <td>계급시스템을 승패 숫자로만 바꿔야함</td>\n",
       "      <td>1:1. 역전하려고 안함... 그냥 빠른포기... 해봤자 데스 늘어서 애들 그냥 성...</td>\n",
       "    </tr>\n",
       "    <tr>\n",
       "      <th>2</th>\n",
       "      <td>4566837171</td>\n",
       "      <td>2018.08.25 01시 55분</td>\n",
       "      <td>겜하는데 자리비움하는애들 징벌좀 제대로해라</td>\n",
       "      <td>1:자리비움하는 애랑 나가는애 때문에 몇판을 지냐자리비움하는 애들이나 나가는애들 영...</td>\n",
       "    </tr>\n",
       "    <tr>\n",
       "      <th>3</th>\n",
       "      <td>4566837166</td>\n",
       "      <td>2018.08.24 17시 01분</td>\n",
       "      <td>블리자드는 정신차려라</td>\n",
       "      <td>1:제발 새로운 캐릭터 나오면 빠대에서 캐릭터 하나가 다 해먹는게 말이되냐아무리 홍...</td>\n",
       "    </tr>\n",
       "    <tr>\n",
       "      <th>4</th>\n",
       "      <td>4566857118</td>\n",
       "      <td>2018.08.24 15시 21분</td>\n",
       "      <td>왜 자꾸 매칭시스템을 이상하게 바꾸는거에요</td>\n",
       "      <td>1:왜 자꾸 매칭시스템을 이상하게 바꾸는거에요이러다가 사용자들 얼마 안남게생겼네요앞...</td>\n",
       "    </tr>\n",
       "  </tbody>\n",
       "</table>\n",
       "</div>"
      ],
      "text/plain": [
       "            0                   1                        2  \\\n",
       "0  4566837162  2018.08.24 14시 08분          아..매칭좀 제대로 일좀해라   \n",
       "1  4566827161  2018.08.25 03시 29분      계급시스템을 승패 숫자로만 바꿔야함   \n",
       "2  4566837171  2018.08.25 01시 55분  겜하는데 자리비움하는애들 징벌좀 제대로해라   \n",
       "3  4566837166  2018.08.24 17시 01분              블리자드는 정신차려라   \n",
       "4  4566857118  2018.08.24 15시 21분  왜 자꾸 매칭시스템을 이상하게 바꾸는거에요   \n",
       "\n",
       "                                                   3  \n",
       "0  1:2인팀하고 솔로큐하고 4인,5인큐랑은 만나게하면 안된다고애초에 상대가 되냐? 조...  \n",
       "1  1:1. 역전하려고 안함... 그냥 빠른포기... 해봤자 데스 늘어서 애들 그냥 성...  \n",
       "2  1:자리비움하는 애랑 나가는애 때문에 몇판을 지냐자리비움하는 애들이나 나가는애들 영...  \n",
       "3  1:제발 새로운 캐릭터 나오면 빠대에서 캐릭터 하나가 다 해먹는게 말이되냐아무리 홍...  \n",
       "4  1:왜 자꾸 매칭시스템을 이상하게 바꾸는거에요이러다가 사용자들 얼마 안남게생겼네요앞...  "
      ]
     },
     "execution_count": 5,
     "metadata": {},
     "output_type": "execute_result"
    }
   ],
   "source": [
    "df.head()"
   ]
  },
  {
   "cell_type": "code",
   "execution_count": null,
   "metadata": {
    "collapsed": true
   },
   "outputs": [],
   "source": []
  }
 ],
 "metadata": {
  "kernelspec": {
   "display_name": "Python [anaconda]",
   "language": "python",
   "name": "Python [anaconda]"
  },
  "language_info": {
   "codemirror_mode": {
    "name": "ipython",
    "version": 3
   },
   "file_extension": ".py",
   "mimetype": "text/x-python",
   "name": "python",
   "nbconvert_exporter": "python",
   "pygments_lexer": "ipython3",
   "version": "3.5.3"
  }
 },
 "nbformat": 4,
 "nbformat_minor": 2
}
