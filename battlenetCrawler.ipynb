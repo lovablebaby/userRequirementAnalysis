{
 "cells": [
  {
   "cell_type": "code",
   "execution_count": 31,
   "metadata": {
    "collapsed": true
   },
   "outputs": [],
   "source": [
    "## 셀레니움으로 구글 접속하기\n",
    "\n",
    "from selenium import webdriver\n",
    "path = \"/Users/Yeoni/chromedriver\"\n",
    "driver = webdriver.Chrome(path)\n",
    "driver.get('https://www.google.com')\n",
    "driver.implicitly_wait(3)\n",
    "driver.close()"
   ]
  },
  {
   "cell_type": "markdown",
   "metadata": {},
   "source": [
    "## 예쁜 스프로 크롤러 만들기"
   ]
  },
  {
   "cell_type": "code",
   "execution_count": 2,
   "metadata": {
    "collapsed": true
   },
   "outputs": [],
   "source": [
    "import requests\n",
    "from bs4 import BeautifulSoup"
   ]
  },
  {
   "cell_type": "code",
   "execution_count": 45,
   "metadata": {
    "scrolled": true
   },
   "outputs": [],
   "source": [
    "page_append = []\n",
    "\n",
    "for page_num in range(1,5):\n",
    "    url = \"https://kr.battle.net/forums/ko/heroes/4211527/?page={}\".format(page_num)\n",
    "    page_append.append(url)\n",
    "    pageNum = len(page_append)    \n",
    "    board_append = []\n",
    "    \n",
    "    for i in range(5):\n",
    "        res = requests.get(url)\n",
    "        soup = BeautifulSoup(res.content, 'html.parser')\n",
    "        link = soup.find('a', {\"class\" : \"ForumTopic\"})\n",
    "        board_append.append(link)"
   ]
  },
  {
   "cell_type": "code",
   "execution_count": 46,
   "metadata": {},
   "outputs": [
    {
     "data": {
      "text/plain": [
       "[<a class=\"ForumTopic\" data-created-date=\"18. 7. 17\" data-created-time=\"21:21\" data-creator=\"DCCLXXVII#3785\" data-forum-topic='{\"id\":4566626881,\"lastPosition\":1,\"isSticky\":false,\"isFeatured\":false,\"isLocked\":false,\"isHidden\":false,\"isSpam\":false}' href=\"/forums/ko/heroes/topic/4566626881\"> <span class=\"ForumTopic-type\">\n",
       " <i class=\"Icon\"></i>\n",
       " </span><div class=\"ForumTopic-details\"><span class=\"ForumTopic-heading\"> <span class=\"ForumTopic-title--wrapper\">\n",
       " <span class=\"ForumTopic-timestamp on-mobile\">\n",
       " <a class=\"ForumTopic-timestamp--lastPost\" data-toggle=\"tooltip\" data-tooltip-content=\"지난 게시글\" href=\"/forums/ko/heroes/topic/4566626881#post-2\">\n",
       " \t\t\t\t\t\t07월 20일\n",
       " \t\t\t\t\t</a>\n",
       " </span> <span class=\"ForumTopic-title\" data-toggle=\"tooltip\" data-tooltip-content=\"영리 이번에좀바뀌었다고들어서 최대 골드5이하라는데 첫배치보는사람들은 기존처럼 빠대mmr기준으로 배치고사가 잡히나요?\">\n",
       " \n",
       " \n",
       " \t\t\t\t\t영리 첫 배치는 여전히 빠대mmr기준인가요??\n",
       " \t\t\t\t</span>\n",
       " </span>\n",
       " <i class=\"statusIcon statusIcon-desktop\" data-toggle=\"tooltip\" data-tooltip-content=\"\"></i></span>\n",
       " <span class=\"ForumTopic--preview\">영리 이번에좀바뀌었다고들어서 최대 골드5이하라는데 첫배치보는사람들은 기존처럼 빠대mmr기준으로 배치고사가 잡히나요?</span><span class=\"ForumTopic-author\">DCCLXXVII</span><span class=\"ForumTopic-replies\"><i class=\"Icon\"></i><span>1</span></span> <span class=\"ForumTopic-timestamp\">\n",
       " <a class=\"ForumTopic-timestamp--lastPost\" data-toggle=\"tooltip\" data-tooltip-content=\"지난 게시글\" href=\"/forums/ko/heroes/topic/4566626881#post-2\">\n",
       " \t\t\t\t07월 20일\n",
       " \t\t\t</a>\n",
       " </span></div></a>,\n",
       " <a class=\"ForumTopic\" data-created-date=\"18. 7. 17\" data-created-time=\"21:21\" data-creator=\"DCCLXXVII#3785\" data-forum-topic='{\"id\":4566626881,\"lastPosition\":1,\"isSticky\":false,\"isFeatured\":false,\"isLocked\":false,\"isHidden\":false,\"isSpam\":false}' href=\"/forums/ko/heroes/topic/4566626881\"> <span class=\"ForumTopic-type\">\n",
       " <i class=\"Icon\"></i>\n",
       " </span><div class=\"ForumTopic-details\"><span class=\"ForumTopic-heading\"> <span class=\"ForumTopic-title--wrapper\">\n",
       " <span class=\"ForumTopic-timestamp on-mobile\">\n",
       " <a class=\"ForumTopic-timestamp--lastPost\" data-toggle=\"tooltip\" data-tooltip-content=\"지난 게시글\" href=\"/forums/ko/heroes/topic/4566626881#post-2\">\n",
       " \t\t\t\t\t\t07월 20일\n",
       " \t\t\t\t\t</a>\n",
       " </span> <span class=\"ForumTopic-title\" data-toggle=\"tooltip\" data-tooltip-content=\"영리 이번에좀바뀌었다고들어서 최대 골드5이하라는데 첫배치보는사람들은 기존처럼 빠대mmr기준으로 배치고사가 잡히나요?\">\n",
       " \n",
       " \n",
       " \t\t\t\t\t영리 첫 배치는 여전히 빠대mmr기준인가요??\n",
       " \t\t\t\t</span>\n",
       " </span>\n",
       " <i class=\"statusIcon statusIcon-desktop\" data-toggle=\"tooltip\" data-tooltip-content=\"\"></i></span>\n",
       " <span class=\"ForumTopic--preview\">영리 이번에좀바뀌었다고들어서 최대 골드5이하라는데 첫배치보는사람들은 기존처럼 빠대mmr기준으로 배치고사가 잡히나요?</span><span class=\"ForumTopic-author\">DCCLXXVII</span><span class=\"ForumTopic-replies\"><i class=\"Icon\"></i><span>1</span></span> <span class=\"ForumTopic-timestamp\">\n",
       " <a class=\"ForumTopic-timestamp--lastPost\" data-toggle=\"tooltip\" data-tooltip-content=\"지난 게시글\" href=\"/forums/ko/heroes/topic/4566626881#post-2\">\n",
       " \t\t\t\t07월 20일\n",
       " \t\t\t</a>\n",
       " </span></div></a>,\n",
       " <a class=\"ForumTopic\" data-created-date=\"18. 7. 17\" data-created-time=\"21:21\" data-creator=\"DCCLXXVII#3785\" data-forum-topic='{\"id\":4566626881,\"lastPosition\":1,\"isSticky\":false,\"isFeatured\":false,\"isLocked\":false,\"isHidden\":false,\"isSpam\":false}' href=\"/forums/ko/heroes/topic/4566626881\"> <span class=\"ForumTopic-type\">\n",
       " <i class=\"Icon\"></i>\n",
       " </span><div class=\"ForumTopic-details\"><span class=\"ForumTopic-heading\"> <span class=\"ForumTopic-title--wrapper\">\n",
       " <span class=\"ForumTopic-timestamp on-mobile\">\n",
       " <a class=\"ForumTopic-timestamp--lastPost\" data-toggle=\"tooltip\" data-tooltip-content=\"지난 게시글\" href=\"/forums/ko/heroes/topic/4566626881#post-2\">\n",
       " \t\t\t\t\t\t07월 20일\n",
       " \t\t\t\t\t</a>\n",
       " </span> <span class=\"ForumTopic-title\" data-toggle=\"tooltip\" data-tooltip-content=\"영리 이번에좀바뀌었다고들어서 최대 골드5이하라는데 첫배치보는사람들은 기존처럼 빠대mmr기준으로 배치고사가 잡히나요?\">\n",
       " \n",
       " \n",
       " \t\t\t\t\t영리 첫 배치는 여전히 빠대mmr기준인가요??\n",
       " \t\t\t\t</span>\n",
       " </span>\n",
       " <i class=\"statusIcon statusIcon-desktop\" data-toggle=\"tooltip\" data-tooltip-content=\"\"></i></span>\n",
       " <span class=\"ForumTopic--preview\">영리 이번에좀바뀌었다고들어서 최대 골드5이하라는데 첫배치보는사람들은 기존처럼 빠대mmr기준으로 배치고사가 잡히나요?</span><span class=\"ForumTopic-author\">DCCLXXVII</span><span class=\"ForumTopic-replies\"><i class=\"Icon\"></i><span>1</span></span> <span class=\"ForumTopic-timestamp\">\n",
       " <a class=\"ForumTopic-timestamp--lastPost\" data-toggle=\"tooltip\" data-tooltip-content=\"지난 게시글\" href=\"/forums/ko/heroes/topic/4566626881#post-2\">\n",
       " \t\t\t\t07월 20일\n",
       " \t\t\t</a>\n",
       " </span></div></a>,\n",
       " <a class=\"ForumTopic\" data-created-date=\"18. 7. 17\" data-created-time=\"21:21\" data-creator=\"DCCLXXVII#3785\" data-forum-topic='{\"id\":4566626881,\"lastPosition\":1,\"isSticky\":false,\"isFeatured\":false,\"isLocked\":false,\"isHidden\":false,\"isSpam\":false}' href=\"/forums/ko/heroes/topic/4566626881\"> <span class=\"ForumTopic-type\">\n",
       " <i class=\"Icon\"></i>\n",
       " </span><div class=\"ForumTopic-details\"><span class=\"ForumTopic-heading\"> <span class=\"ForumTopic-title--wrapper\">\n",
       " <span class=\"ForumTopic-timestamp on-mobile\">\n",
       " <a class=\"ForumTopic-timestamp--lastPost\" data-toggle=\"tooltip\" data-tooltip-content=\"지난 게시글\" href=\"/forums/ko/heroes/topic/4566626881#post-2\">\n",
       " \t\t\t\t\t\t07월 20일\n",
       " \t\t\t\t\t</a>\n",
       " </span> <span class=\"ForumTopic-title\" data-toggle=\"tooltip\" data-tooltip-content=\"영리 이번에좀바뀌었다고들어서 최대 골드5이하라는데 첫배치보는사람들은 기존처럼 빠대mmr기준으로 배치고사가 잡히나요?\">\n",
       " \n",
       " \n",
       " \t\t\t\t\t영리 첫 배치는 여전히 빠대mmr기준인가요??\n",
       " \t\t\t\t</span>\n",
       " </span>\n",
       " <i class=\"statusIcon statusIcon-desktop\" data-toggle=\"tooltip\" data-tooltip-content=\"\"></i></span>\n",
       " <span class=\"ForumTopic--preview\">영리 이번에좀바뀌었다고들어서 최대 골드5이하라는데 첫배치보는사람들은 기존처럼 빠대mmr기준으로 배치고사가 잡히나요?</span><span class=\"ForumTopic-author\">DCCLXXVII</span><span class=\"ForumTopic-replies\"><i class=\"Icon\"></i><span>1</span></span> <span class=\"ForumTopic-timestamp\">\n",
       " <a class=\"ForumTopic-timestamp--lastPost\" data-toggle=\"tooltip\" data-tooltip-content=\"지난 게시글\" href=\"/forums/ko/heroes/topic/4566626881#post-2\">\n",
       " \t\t\t\t07월 20일\n",
       " \t\t\t</a>\n",
       " </span></div></a>,\n",
       " <a class=\"ForumTopic\" data-created-date=\"18. 7. 17\" data-created-time=\"21:21\" data-creator=\"DCCLXXVII#3785\" data-forum-topic='{\"id\":4566626881,\"lastPosition\":1,\"isSticky\":false,\"isFeatured\":false,\"isLocked\":false,\"isHidden\":false,\"isSpam\":false}' href=\"/forums/ko/heroes/topic/4566626881\"> <span class=\"ForumTopic-type\">\n",
       " <i class=\"Icon\"></i>\n",
       " </span><div class=\"ForumTopic-details\"><span class=\"ForumTopic-heading\"> <span class=\"ForumTopic-title--wrapper\">\n",
       " <span class=\"ForumTopic-timestamp on-mobile\">\n",
       " <a class=\"ForumTopic-timestamp--lastPost\" data-toggle=\"tooltip\" data-tooltip-content=\"지난 게시글\" href=\"/forums/ko/heroes/topic/4566626881#post-2\">\n",
       " \t\t\t\t\t\t07월 20일\n",
       " \t\t\t\t\t</a>\n",
       " </span> <span class=\"ForumTopic-title\" data-toggle=\"tooltip\" data-tooltip-content=\"영리 이번에좀바뀌었다고들어서 최대 골드5이하라는데 첫배치보는사람들은 기존처럼 빠대mmr기준으로 배치고사가 잡히나요?\">\n",
       " \n",
       " \n",
       " \t\t\t\t\t영리 첫 배치는 여전히 빠대mmr기준인가요??\n",
       " \t\t\t\t</span>\n",
       " </span>\n",
       " <i class=\"statusIcon statusIcon-desktop\" data-toggle=\"tooltip\" data-tooltip-content=\"\"></i></span>\n",
       " <span class=\"ForumTopic--preview\">영리 이번에좀바뀌었다고들어서 최대 골드5이하라는데 첫배치보는사람들은 기존처럼 빠대mmr기준으로 배치고사가 잡히나요?</span><span class=\"ForumTopic-author\">DCCLXXVII</span><span class=\"ForumTopic-replies\"><i class=\"Icon\"></i><span>1</span></span> <span class=\"ForumTopic-timestamp\">\n",
       " <a class=\"ForumTopic-timestamp--lastPost\" data-toggle=\"tooltip\" data-tooltip-content=\"지난 게시글\" href=\"/forums/ko/heroes/topic/4566626881#post-2\">\n",
       " \t\t\t\t07월 20일\n",
       " \t\t\t</a>\n",
       " </span></div></a>]"
      ]
     },
     "execution_count": 46,
     "metadata": {},
     "output_type": "execute_result"
    }
   ],
   "source": [
    "board_append"
   ]
  },
  {
   "cell_type": "code",
   "execution_count": null,
   "metadata": {
    "collapsed": true
   },
   "outputs": [],
   "source": [
    "def "
   ]
  },
  {
   "cell_type": "code",
   "execution_count": null,
   "metadata": {
    "collapsed": true
   },
   "outputs": [],
   "source": [
    "\n",
    "\n",
    "title = soup.find('h1')\n",
    "print(title.get_text())"
   ]
  }
 ],
 "metadata": {
  "kernelspec": {
   "display_name": "Python [anaconda]",
   "language": "python",
   "name": "Python [anaconda]"
  },
  "language_info": {
   "codemirror_mode": {
    "name": "ipython",
    "version": 3
   },
   "file_extension": ".py",
   "mimetype": "text/x-python",
   "name": "python",
   "nbconvert_exporter": "python",
   "pygments_lexer": "ipython3",
   "version": "3.5.3"
  }
 },
 "nbformat": 4,
 "nbformat_minor": 2
}
