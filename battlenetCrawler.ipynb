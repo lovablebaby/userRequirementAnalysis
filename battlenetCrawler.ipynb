{
 "cells": [
  {
   "cell_type": "markdown",
   "metadata": {},
   "source": [
    "### 예쁜 스프로 크롤러 만들기- > 셀레니움으로 하기 -> 다시 예쁜 스프로 만들어요!.."
   ]
  },
  {
   "cell_type": "code",
   "execution_count": 5,
   "metadata": {
    "collapsed": true
   },
   "outputs": [],
   "source": [
    "import requests\n",
    "from bs4 import BeautifulSoup\n",
    "import codecs\n",
    "import re"
   ]
  },
  {
   "cell_type": "code",
   "execution_count": null,
   "metadata": {
    "collapsed": true
   },
   "outputs": [],
   "source": [
    "f = codecs.open('battlenetcrawler.txt', 'a', 'utf-8')\n",
    "\n",
    "for p_num in range(1, 2):\n",
    "    url = \"https://kr.battle.net/forums/ko/heroes/4211527/?page={}\".format(p_num)\n",
    "    res = requests.get(url)\n",
    "    soup = BeautifulSoup(res.content)\n",
    "\n",
    "    for x in soup.find_all('a', attrs={'class': 'ForumTopic'}):\n",
    "        urls = \"https://kr.battle.net/\" + x.a['href']\n",
    "        res2 = requests.get(urls)\n",
    "        soup2 = BeautifulSoup(res2.content, 'html.parser')\n",
    "\n",
    "        #if urls[-4:] == '2491' or urls[-4:] == '2300' or urls[-4:] == '2081':\n",
    "         #   pass\n",
    "        #else:\n",
    "        for contents in soup2.find_all('div', attrs={'class': 'TopicPost-content'}):\n",
    "            \n",
    "            title = contents.span.get_text()\n",
    "            \n",
    "            date = contents.select('a.TopicPost-timestamp')[0].get_text()\n",
    "            \n",
    "            content = re.sub(r'\\s+', ' ', contents.select('div.TopicPost-bodyContent')[0].get_text())\n",
    "            f.write(date+'\\t'+title+'\\t'+content+'\\n')\n",
    "            print(title)\n",
    "\n",
    "f.close()\n",
    "\n",
    "\n",
    "        \n",
    "        "
   ]
  },
  {
   "cell_type": "markdown",
   "metadata": {},
   "source": [
    "문제점 : 타이틀을 잘못 갖고온다. Heith는 블리자드 운영진 이름\n",
    "전체로 잡아서 그랬나.. 클래스 설정이 뭔가 잘못된거같음... "
   ]
  },
  {
   "cell_type": "code",
   "execution_count": 9,
   "metadata": {},
   "outputs": [
    {
     "name": "stdout",
     "output_type": "stream",
     "text": [
      "['https://kr.battle.net/forums/ko/heroes/topic/3789079852#post-1', 'https://kr.battle.net/forums/ko/heroes/topic/3789059698#post-2', 'https://kr.battle.net/forums/ko/heroes/topic/4565972813#post-1', 'https://kr.battle.net/forums/ko/heroes/topic/4566716940#post-1', 'https://kr.battle.net/forums/ko/heroes/topic/4565981379#post-1', 'https://kr.battle.net/forums/ko/heroes/topic/4565623200#post-1', 'https://kr.battle.net/forums/ko/heroes/topic/4566847110#post-1', 'https://kr.battle.net/forums/ko/heroes/topic/4566827102#post-1', 'https://kr.battle.net/forums/ko/heroes/topic/4566847105#post-4', 'https://kr.battle.net/forums/ko/heroes/topic/4566837111#post-8', 'https://kr.battle.net/forums/ko/heroes/topic/4566847104#post-1', 'https://kr.battle.net/forums/ko/heroes/topic/4566847101#post-1', 'https://kr.battle.net/forums/ko/heroes/topic/4565446647#post-12', 'https://kr.battle.net/forums/ko/heroes/topic/4566827096#post-1', 'https://kr.battle.net/forums/ko/heroes/topic/4566847095#post-1', 'https://kr.battle.net/forums/ko/heroes/topic/4566847093#post-1', 'https://kr.battle.net/forums/ko/heroes/topic/4566826674?page=2#post-36', 'https://kr.battle.net/forums/ko/heroes/topic/4566847090#post-1', 'https://kr.battle.net/forums/ko/heroes/topic/4566827051#post-4', 'https://kr.battle.net/forums/ko/heroes/topic/4566827078#post-2', 'https://kr.battle.net/forums/ko/heroes/topic/4566857048#post-2', 'https://kr.battle.net/forums/ko/heroes/topic/4566857062#post-2', 'https://kr.battle.net/forums/ko/heroes/topic/4566837112#post-1', 'https://kr.battle.net/forums/ko/heroes/topic/4566837024#post-4', 'https://kr.battle.net/forums/ko/heroes/topic/4566847079#post-1', 'https://kr.battle.net/forums/ko/heroes/topic/4566827076#post-1', 'https://kr.battle.net/forums/ko/heroes/topic/4566857061#post-1', 'https://kr.battle.net/forums/ko/heroes/topic/4566847071#post-1', 'https://kr.battle.net/forums/ko/heroes/topic/4566837083#post-1', 'https://kr.battle.net/forums/ko/heroes/topic/4566837098#post-1', 'https://kr.battle.net/forums/ko/heroes/topic/4566827045#post-2', 'https://kr.battle.net/forums/ko/heroes/topic/4566837068#post-3', 'https://kr.battle.net/forums/ko/heroes/topic/4566847051#post-1', 'https://kr.battle.net/forums/ko/heroes/topic/4566826981#post-3', 'https://kr.battle.net/forums/ko/heroes/topic/4566837088#post-2', 'https://kr.battle.net/forums/ko/heroes/topic/4566857028#post-1', 'https://kr.battle.net/forums/ko/heroes/topic/4566586895#post-14', 'https://kr.battle.net/forums/ko/heroes/topic/4566857017#post-2', 'https://kr.battle.net/forums/ko/heroes/topic/4566857019#post-1', 'https://kr.battle.net/forums/ko/heroes/topic/4566827025#post-3', 'https://kr.battle.net/forums/ko/heroes/topic/4566857006#post-1', 'https://kr.battle.net/forums/ko/heroes/topic/4566846919#post-3', 'https://kr.battle.net/forums/ko/heroes/topic/4566837023#post-2', 'https://kr.battle.net/forums/ko/heroes/topic/4566837006#post-2', 'https://kr.battle.net/forums/ko/heroes/topic/4566847030#post-1', 'https://kr.battle.net/forums/ko/heroes/topic/4566857003#post-1', 'https://kr.battle.net/forums/ko/heroes/topic/4566847029#post-1', 'https://kr.battle.net/forums/ko/heroes/topic/4566846995#post-4', 'https://kr.battle.net/forums/ko/heroes/topic/4566847015#post-1', 'https://kr.battle.net/forums/ko/heroes/topic/4566837039#post-2']\n"
     ]
    }
   ],
   "source": [
    "page_append = []\n",
    "\n",
    "for page_num in range(1):\n",
    "    url = \"https://kr.battle.net/forums/ko/heroes/4211527/?page={}\".format(page_num)\n",
    "    res = requests.get(url)\n",
    "    soup = BeautifulSoup(res.content, 'lxml')\n",
    "    page_append.append(url)\n",
    "    pageNum = len(page_append)\n",
    "\n",
    "    \n",
    "    board_append = []\n",
    "    \n",
    "#    f = open(\"filelink\", 'w')\n",
    "\n",
    "    for x in soup.find_all('a', attrs = {'class' : 'ForumTopic'}):\n",
    "        link = \"https://kr.battle.net\" + x.a['href']\n",
    "        board_append.append(link)\n",
    "    print(board_append)\n",
    "      #  f.write(link+\"\\n\")\n",
    "    #f.close()"
   ]
  },
  {
   "cell_type": "code",
   "execution_count": 35,
   "metadata": {
    "scrolled": true
   },
   "outputs": [
    {
     "name": "stdout",
     "output_type": "stream",
     "text": [
      "50\n"
     ]
    }
   ],
   "source": [
    "user_id_field = list()\n",
    "content_field = list()\n",
    "date_field = list()\n",
    "title_field = list()\n",
    "link_field = list()\n",
    "\n",
    " \n",
    "for pageNum in range(1):\n",
    "    html = urlopen(\"https://kr.battle.net/forums/ko/heroes/4211527/?page=\" + str(pageNum+1))\n",
    "    html_object = BeautifulSoup(html, \"html.parser\")\n",
    "    \n",
    "    for x in html_object.findAll(\"a\", attrs = {'class': \"ForumTopic\"}):\n",
    "        link = \"https://kr.battle.net\"+x.a['href']\n",
    "        link_field.append(link)\n",
    "    a = len(link_field)\n",
    "    print(a)\n",
    "    \n",
    "\n",
    "for i in range(a):\n",
    "    html2 = urlopen(link_field[i])\n",
    "    \n",
    "    user_id = link_field[:-10]\n",
    "    content = html_object.findAll({\"class\": \"TopicPost-bodyContent\"})\n",
    "    date = html_object.findAll({\"class\":\"TopicPost\"})\n",
    "    title = html_object.findAll({\"class\":\"Topic-title\"})\n",
    "    \n",
    "    for title_wrap in title_field:\n",
    "        print(title_wrap.get_text())\n",
    "        title_field.append(title_wrap)\n",
    "        \n",
    "    for user_id in user_id:\n",
    "        user_id_field.append(user_id)\n",
    "    \n",
    "    for content in content:\n",
    "        content_field.append(content)\n",
    "        \n",
    "    for date in date:\n",
    "        date_field.append(date)\n",
    "    \n",
    "    f.write(str(user_id_field)+str(date_field)+str(title_field)+str(content_field))\n",
    "\n",
    "f.close()"
   ]
  },
  {
   "cell_type": "code",
   "execution_count": 38,
   "metadata": {
    "collapsed": true
   },
   "outputs": [],
   "source": [
    "import pandas as pd"
   ]
  },
  {
   "cell_type": "markdown",
   "metadata": {
    "collapsed": true
   },
   "source": [
    "import time\n",
    "from selenium import webdriver\n",
    "\n",
    "path = \"/Users/Yeoni/chromedriver\"\n",
    "driver = webdriver.Chrome(path)\n",
    "driver.get('https://kr.battle.net/forums/ko/heroes/4211527/')\n"
   ]
  },
  {
   "cell_type": "markdown",
   "metadata": {
    "collapsed": true,
    "scrolled": true
   },
   "source": [
    "class Post:\n",
    "    path = \"/Users/Yeoni/chromedriver\"\n",
    "    driver = webdriver.Chrome(path)\n",
    "    driver.get('https://kr.battle.net/forums/ko/heroes/4211527/')\n",
    "    \n",
    "    def __init__(self, user_id, date, title, content):\n",
    "        self.user_id = user_id\n",
    "        self.date = date\n",
    "        self.title = title\n",
    "        self.content = content\n",
    "        \n",
    "    def crawler(self):\n",
    "        user_id = driver.find_element_by_class_name(\"a.ForumTopic\")\n",
    "        content = driver.find_element_by_class_name('div.TopicPost')\n",
    "        date = driver.find_element_by_class_name('a.TopicPost')\n",
    "        title = driver.find_element_by_class_name('span.Topic-title')"
   ]
  },
  {
   "cell_type": "code",
   "execution_count": null,
   "metadata": {
    "collapsed": true
   },
   "outputs": [],
   "source": []
  }
 ],
 "metadata": {
  "kernelspec": {
   "display_name": "Python [anaconda]",
   "language": "python",
   "name": "Python [anaconda]"
  },
  "language_info": {
   "codemirror_mode": {
    "name": "ipython",
    "version": 3
   },
   "file_extension": ".py",
   "mimetype": "text/x-python",
   "name": "python",
   "nbconvert_exporter": "python",
   "pygments_lexer": "ipython3",
   "version": "3.5.3"
  }
 },
 "nbformat": 4,
 "nbformat_minor": 2
}
