{
 "cells": [
  {
   "cell_type": "code",
   "execution_count": 110,
   "metadata": {
    "collapsed": true
   },
   "outputs": [],
   "source": [
    "import requests\n",
    "import re\n",
    "import time\n",
    "import csv\n",
    "from bs4 import BeautifulSoup\n",
    "from urllib.request import urlopen\n",
    "import datetime"
   ]
  },
  {
   "cell_type": "code",
   "execution_count": 41,
   "metadata": {
    "collapsed": true
   },
   "outputs": [],
   "source": [
    "import pandas as pd"
   ]
  },
  {
   "cell_type": "code",
   "execution_count": 50,
   "metadata": {},
   "outputs": [],
   "source": [
    "df = pd.read_csv(\"invenLinkList.txt\",header=None)"
   ]
  },
  {
   "cell_type": "code",
   "execution_count": 51,
   "metadata": {
    "scrolled": true
   },
   "outputs": [
    {
     "data": {
      "text/html": [
       "<div>\n",
       "<style>\n",
       "    .dataframe thead tr:only-child th {\n",
       "        text-align: right;\n",
       "    }\n",
       "\n",
       "    .dataframe thead th {\n",
       "        text-align: left;\n",
       "    }\n",
       "\n",
       "    .dataframe tbody tr th {\n",
       "        vertical-align: top;\n",
       "    }\n",
       "</style>\n",
       "<table border=\"1\" class=\"dataframe\">\n",
       "  <thead>\n",
       "    <tr style=\"text-align: right;\">\n",
       "      <th></th>\n",
       "      <th>0</th>\n",
       "    </tr>\n",
       "  </thead>\n",
       "  <tbody>\n",
       "    <tr>\n",
       "      <th>281048</th>\n",
       "      <td>http://www.inven.co.kr/board/hos/3903/894689?p...</td>\n",
       "    </tr>\n",
       "    <tr>\n",
       "      <th>281049</th>\n",
       "      <td>http://www.inven.co.kr/board/hos/3903/894688?p...</td>\n",
       "    </tr>\n",
       "    <tr>\n",
       "      <th>281050</th>\n",
       "      <td>http://www.inven.co.kr/board/hos/3903/894687?p...</td>\n",
       "    </tr>\n",
       "    <tr>\n",
       "      <th>281051</th>\n",
       "      <td>http://www.inven.co.kr/board/hos/3903/894686?p...</td>\n",
       "    </tr>\n",
       "    <tr>\n",
       "      <th>281052</th>\n",
       "      <td>http://www.inven.co.kr/board/hos/3903/894685?p...</td>\n",
       "    </tr>\n",
       "  </tbody>\n",
       "</table>\n",
       "</div>"
      ],
      "text/plain": [
       "                                                        0\n",
       "281048  http://www.inven.co.kr/board/hos/3903/894689?p...\n",
       "281049  http://www.inven.co.kr/board/hos/3903/894688?p...\n",
       "281050  http://www.inven.co.kr/board/hos/3903/894687?p...\n",
       "281051  http://www.inven.co.kr/board/hos/3903/894686?p...\n",
       "281052  http://www.inven.co.kr/board/hos/3903/894685?p..."
      ]
     },
     "execution_count": 51,
     "metadata": {},
     "output_type": "execute_result"
    }
   ],
   "source": [
    "df.tail()"
   ]
  },
  {
   "cell_type": "code",
   "execution_count": 70,
   "metadata": {},
   "outputs": [],
   "source": [
    "link_list = df.iloc[:,0].tolist()"
   ]
  },
  {
   "cell_type": "code",
   "execution_count": 91,
   "metadata": {},
   "outputs": [
    {
     "data": {
      "text/plain": [
       "list"
      ]
     },
     "execution_count": 91,
     "metadata": {},
     "output_type": "execute_result"
    }
   ],
   "source": [
    "type(link_list[1:2])"
   ]
  },
  {
   "cell_type": "code",
   "execution_count": 96,
   "metadata": {},
   "outputs": [
    {
     "data": {
      "text/plain": [
       "'1214678'"
      ]
     },
     "execution_count": 96,
     "metadata": {},
     "output_type": "execute_result"
    }
   ],
   "source": [
    "str(link_list[1:2])[40:47]"
   ]
  },
  {
   "cell_type": "code",
   "execution_count": 164,
   "metadata": {
    "scrolled": true
   },
   "outputs": [
    {
     "name": "stdout",
     "output_type": "stream",
     "text": [
      "1214270 번째 글 2018-09-14 19:44:48.328312\n"
     ]
    },
    {
     "name": "stderr",
     "output_type": "stream",
     "text": [
      "Some characters could not be decoded, and were replaced with REPLACEMENT CHARACTER.\n"
     ]
    },
    {
     "name": "stdout",
     "output_type": "stream",
     "text": [
      "1214899 번째 글 2018-09-14 19:44:54.703236\n",
      "1215179 번째 글 2018-09-14 19:44:59.977917\n",
      "1215177 번째 글 2018-09-14 19:45:05.154860\n",
      "1215175 번째 글 2018-09-14 19:45:10.432718\n",
      "1215173 번째 글 2018-09-14 19:45:15.673843\n"
     ]
    },
    {
     "name": "stderr",
     "output_type": "stream",
     "text": [
      "Some characters could not be decoded, and were replaced with REPLACEMENT CHARACTER.\n"
     ]
    },
    {
     "name": "stdout",
     "output_type": "stream",
     "text": [
      "1215171 번째 글 2018-09-14 19:45:21.933212\n",
      "1215169 번째 글 2018-09-14 19:45:27.179213\n",
      "1215167 번째 글 2018-09-14 19:45:32.391737\n",
      "1215165 번째 글 2018-09-14 19:45:37.655339\n"
     ]
    },
    {
     "name": "stderr",
     "output_type": "stream",
     "text": [
      "Some characters could not be decoded, and were replaced with REPLACEMENT CHARACTER.\n"
     ]
    },
    {
     "name": "stdout",
     "output_type": "stream",
     "text": [
      "1215163 번째 글 2018-09-14 19:45:43.934530\n",
      "1215161 번째 글 2018-09-14 19:45:49.044432\n",
      "1215159 번째 글 2018-09-14 19:45:54.268058\n",
      "1215157 번째 글 2018-09-14 19:45:59.362043\n",
      "1215155 번째 글 2018-09-14 19:46:04.583034\n",
      "1215153 번째 글 2018-09-14 19:46:07.172147\n",
      "1215151 번째 글 2018-09-14 19:46:12.474743\n",
      "1215148 번째 글 2018-09-14 19:46:17.604061\n",
      "92.07852411270142\n"
     ]
    }
   ],
   "source": [
    "start = time.time()\n",
    "\n",
    "f = open('invenData.csv','w',encoding='utf-8',newline=\"\")\n",
    "wr = csv.writer(f)\n",
    "\n",
    "for i in range(35):\n",
    "    # 파싱\n",
    "    html = urlopen(link_list[i])\n",
    "    soup = BeautifulSoup(html, 'html.parser',from_encoding='utf-8')\n",
    "      \n",
    "    \n",
    "    dates = soup.find(\"div\",{\"class\" : \"articleDate\"})\n",
    "    \n",
    "    # 삭제된 글 때문에 date여부로 먼저 가름\n",
    "    if dates == None:\n",
    "        pass\n",
    "    else:\n",
    "        \n",
    "        # 날짜 가져오기\n",
    "        dates = soup.find(\"div\",{\"class\" : \"articleDate\"}).get_text()\n",
    "        \n",
    "        # 글 번호 가져오기\n",
    "        link_ids = str(link_list[i:i+1])[40:47]\n",
    "\n",
    "        # 제목 가져오기\n",
    "        titles = soup.find(\"div\",{\"class\":\"articleTitle\"}).get_text()\n",
    "        titles = titles.replace(\"\\n\",\"\")\n",
    "\n",
    "        # 내용 가져오기\n",
    "        contents = soup.find(\"div\",{\"id\" : \"powerbbsContent\"}).get_text()\n",
    "        contents = contents.replace(\"\\n\",\"\")\n",
    "\n",
    "        # 유저 아이디 갖고오기\n",
    "        user_ids = soup.find(\"div\",{\"class\":\"articleWriter\"}).get_text()\n",
    "        user_ids = user_ids[1:]\n",
    "    \n",
    "        time.sleep(2)\n",
    "    \n",
    "        wr.writerow([link_ids, user_ids, dates, titles, contents])\n",
    "        if i % 100 == 0:\n",
    "            print(i,\"번째 글\", datetime.datetime.now())\n",
    "\n",
    "    \n",
    "f.close()\n",
    "\n",
    "end = time.time()\n",
    "print(end - start)"
   ]
  },
  {
   "cell_type": "code",
   "execution_count": 165,
   "metadata": {},
   "outputs": [
    {
     "data": {
      "text/plain": [
       "'2018-09-10 18:40'"
      ]
     },
     "execution_count": 165,
     "metadata": {},
     "output_type": "execute_result"
    }
   ],
   "source": [
    "dates"
   ]
  },
  {
   "cell_type": "code",
   "execution_count": 166,
   "metadata": {},
   "outputs": [],
   "source": [
    "df1 = pd.read_csv(\"invenData.csv\",header=None, encoding='utf-8')"
   ]
  },
  {
   "cell_type": "code",
   "execution_count": 168,
   "metadata": {},
   "outputs": [
    {
     "data": {
      "text/html": [
       "<div>\n",
       "<style>\n",
       "    .dataframe thead tr:only-child th {\n",
       "        text-align: right;\n",
       "    }\n",
       "\n",
       "    .dataframe thead th {\n",
       "        text-align: left;\n",
       "    }\n",
       "\n",
       "    .dataframe tbody tr th {\n",
       "        vertical-align: top;\n",
       "    }\n",
       "</style>\n",
       "<table border=\"1\" class=\"dataframe\">\n",
       "  <thead>\n",
       "    <tr style=\"text-align: right;\">\n",
       "      <th></th>\n",
       "      <th>0</th>\n",
       "      <th>1</th>\n",
       "      <th>2</th>\n",
       "      <th>3</th>\n",
       "      <th>4</th>\n",
       "    </tr>\n",
       "  </thead>\n",
       "  <tbody>\n",
       "    <tr>\n",
       "      <th>24</th>\n",
       "      <td>1215159</td>\n",
       "      <td>피와재의여왕</td>\n",
       "      <td>2018-09-10 21:06</td>\n",
       "      <td>아바투르는 메피 궁강이면 그냥 터지네 ㅋㅋㅋ</td>\n",
       "      <td>ㅋㅋㅋㅋ 뭐 씹사기네&amp;nbsp;</td>\n",
       "    </tr>\n",
       "    <tr>\n",
       "      <th>25</th>\n",
       "      <td>1215158</td>\n",
       "      <td>소프트캐리</td>\n",
       "      <td>2018-09-10 20:59</td>\n",
       "      <td>몇번 말했지만..초갈 하는 건 좋은데</td>\n",
       "      <td>초갈로 험치 먹고 용병 먹고 공성하는 사람들이 논란이 있는거임초갈팟이 아니라 초갈팟...</td>\n",
       "    </tr>\n",
       "    <tr>\n",
       "      <th>26</th>\n",
       "      <td>1215157</td>\n",
       "      <td>천화역만</td>\n",
       "      <td>2018-09-10 20:54</td>\n",
       "      <td>겔빈 멕카토크 데이터마이닝 보면</td>\n",
       "      <td>뭔가 구조물수리 특화같은 느낌.근데 막상 내려고 할때쯤 보니 전문가 해체수순을 밟고...</td>\n",
       "    </tr>\n",
       "    <tr>\n",
       "      <th>27</th>\n",
       "      <td>1215156</td>\n",
       "      <td>이성변태</td>\n",
       "      <td>2018-09-10 20:51</td>\n",
       "      <td>히오스 쿨타임 어케 계산해야 하지</td>\n",
       "      <td>제이나 얼핏 쿨타임 300%아나 뽕 쿨타임 150%이런것들 계산 어케 해야함10초짜...</td>\n",
       "    </tr>\n",
       "    <tr>\n",
       "      <th>28</th>\n",
       "      <td>1215155</td>\n",
       "      <td>잇쓔</td>\n",
       "      <td>2018-09-10 20:32</td>\n",
       "      <td>어택땅 시 영웅 우선공격 옵션 있음?</td>\n",
       "      <td>넴?</td>\n",
       "    </tr>\n",
       "    <tr>\n",
       "      <th>29</th>\n",
       "      <td>1215153</td>\n",
       "      <td>시아쿠리스</td>\n",
       "      <td>2018-09-10 20:12</td>\n",
       "      <td>와ㅠㅠ 이 게임 롤 뱄겼네요ㅠㅠ</td>\n",
       "      <td>닉네임: 신드라고사</td>\n",
       "    </tr>\n",
       "    <tr>\n",
       "      <th>30</th>\n",
       "      <td>1215152</td>\n",
       "      <td>yhpdoit</td>\n",
       "      <td>2018-09-10 19:58</td>\n",
       "      <td>렉사르도 기보좀</td>\n",
       "      <td>안그래도 미샤 덩치 커서 졸라 쳐맞는데왜 렉사르는 다른 케릭 다 있는 기보가 없는것...</td>\n",
       "    </tr>\n",
       "    <tr>\n",
       "      <th>31</th>\n",
       "      <td>1215151</td>\n",
       "      <td>Drkicarus</td>\n",
       "      <td>2018-09-10 19:56</td>\n",
       "      <td>진짜 사기꾼새끼들 답이없다</td>\n",
       "      <td>인겜에서도 프로필볼수있어야됨 옵치처럼 승률 80 이지랄하면서 입다털고다니면서 사기치...</td>\n",
       "    </tr>\n",
       "    <tr>\n",
       "      <th>32</th>\n",
       "      <td>1215150</td>\n",
       "      <td>yhpdoit</td>\n",
       "      <td>2018-09-10 19:39</td>\n",
       "      <td>초갈리엘은 닷지와 같음</td>\n",
       "      <td>한다고 욕먹어야 하는거 아님.근데 잘한 건 절대로 아니거든?Not Evil 이 go...</td>\n",
       "    </tr>\n",
       "    <tr>\n",
       "      <th>33</th>\n",
       "      <td>1215148</td>\n",
       "      <td>쌍꺼풀</td>\n",
       "      <td>2018-09-10 18:40</td>\n",
       "      <td>다음 중 라인에 가야할 캐릭은?</td>\n",
       "      <td>본인(알타) 겐지 켈투 메피 레가르전장은 알터렉에 빠대였음당연히 본인은 라인 갔고....</td>\n",
       "    </tr>\n",
       "  </tbody>\n",
       "</table>\n",
       "</div>"
      ],
      "text/plain": [
       "          0          1                 2                         3  \\\n",
       "24  1215159     피와재의여왕  2018-09-10 21:06  아바투르는 메피 궁강이면 그냥 터지네 ㅋㅋㅋ   \n",
       "25  1215158      소프트캐리  2018-09-10 20:59      몇번 말했지만..초갈 하는 건 좋은데   \n",
       "26  1215157       천화역만  2018-09-10 20:54         겔빈 멕카토크 데이터마이닝 보면   \n",
       "27  1215156       이성변태  2018-09-10 20:51        히오스 쿨타임 어케 계산해야 하지   \n",
       "28  1215155         잇쓔  2018-09-10 20:32      어택땅 시 영웅 우선공격 옵션 있음?   \n",
       "29  1215153      시아쿠리스  2018-09-10 20:12         와ㅠㅠ 이 게임 롤 뱄겼네요ㅠㅠ   \n",
       "30  1215152    yhpdoit  2018-09-10 19:58                  렉사르도 기보좀   \n",
       "31  1215151  Drkicarus  2018-09-10 19:56            진짜 사기꾼새끼들 답이없다   \n",
       "32  1215150    yhpdoit  2018-09-10 19:39              초갈리엘은 닷지와 같음   \n",
       "33  1215148        쌍꺼풀  2018-09-10 18:40         다음 중 라인에 가야할 캐릭은?   \n",
       "\n",
       "                                                    4  \n",
       "24                                  ㅋㅋㅋㅋ 뭐 씹사기네&nbsp;  \n",
       "25  초갈로 험치 먹고 용병 먹고 공성하는 사람들이 논란이 있는거임초갈팟이 아니라 초갈팟...  \n",
       "26  뭔가 구조물수리 특화같은 느낌.근데 막상 내려고 할때쯤 보니 전문가 해체수순을 밟고...  \n",
       "27  제이나 얼핏 쿨타임 300%아나 뽕 쿨타임 150%이런것들 계산 어케 해야함10초짜...  \n",
       "28                                                 넴?  \n",
       "29                                         닉네임: 신드라고사  \n",
       "30  안그래도 미샤 덩치 커서 졸라 쳐맞는데왜 렉사르는 다른 케릭 다 있는 기보가 없는것...  \n",
       "31  인겜에서도 프로필볼수있어야됨 옵치처럼 승률 80 이지랄하면서 입다털고다니면서 사기치...  \n",
       "32  한다고 욕먹어야 하는거 아님.근데 잘한 건 절대로 아니거든?Not Evil 이 go...  \n",
       "33  본인(알타) 겐지 켈투 메피 레가르전장은 알터렉에 빠대였음당연히 본인은 라인 갔고....  "
      ]
     },
     "execution_count": 168,
     "metadata": {},
     "output_type": "execute_result"
    }
   ],
   "source": [
    "df1.tail(10)"
   ]
  },
  {
   "cell_type": "code",
   "execution_count": null,
   "metadata": {
    "collapsed": true
   },
   "outputs": [],
   "source": []
  }
 ],
 "metadata": {
  "kernelspec": {
   "display_name": "Python [Root]",
   "language": "python",
   "name": "Python [Root]"
  },
  "language_info": {
   "codemirror_mode": {
    "name": "ipython",
    "version": 3
   },
   "file_extension": ".py",
   "mimetype": "text/x-python",
   "name": "python",
   "nbconvert_exporter": "python",
   "pygments_lexer": "ipython3",
   "version": "3.5.3"
  }
 },
 "nbformat": 4,
 "nbformat_minor": 2
}
