{
 "cells": [
  {
   "cell_type": "code",
   "execution_count": 14,
   "metadata": {},
   "outputs": [],
   "source": [
    "from konlpy.tag import Kkma"
   ]
  },
  {
   "cell_type": "code",
   "execution_count": 15,
   "metadata": {
    "collapsed": true
   },
   "outputs": [],
   "source": [
    "from konlpy.utils import pprint"
   ]
  },
  {
   "cell_type": "code",
   "execution_count": 16,
   "metadata": {},
   "outputs": [],
   "source": [
    "kkma = Kkma()"
   ]
  },
  {
   "cell_type": "code",
   "execution_count": 6,
   "metadata": {},
   "outputs": [
    {
     "name": "stdout",
     "output_type": "stream",
     "text": [
      "['네, 안녕하세요.', '반갑습니다.']\n"
     ]
    }
   ],
   "source": [
    "pprint(kkma.sentences(u'네, 안녕하세요. 반갑습니다.'))"
   ]
  },
  {
   "cell_type": "code",
   "execution_count": 7,
   "metadata": {},
   "outputs": [
    {
     "name": "stdout",
     "output_type": "stream",
     "text": [
      "['매칭', '매칭시스템', '시스템', '개선', '해', '해라', '라', '일', '안하']\n"
     ]
    }
   ],
   "source": [
    "pprint(kkma.nouns(u'매칭시스템 개선좀 해라 일 안하냐 진짜'))"
   ]
  },
  {
   "cell_type": "code",
   "execution_count": 11,
   "metadata": {},
   "outputs": [
    {
     "name": "stdout",
     "output_type": "stream",
     "text": [
      "[('매칭', 'NNG'),\n",
      " ('시스템', 'NNG'),\n",
      " ('개선', 'NNG'),\n",
      " ('좀', 'MAG'),\n",
      " ('해', 'NNG'),\n",
      " ('라', 'NNG'),\n",
      " ('일', 'NNG'),\n",
      " ('안하', 'NNG'),\n",
      " ('이', 'VCP'),\n",
      " ('냐', 'EFQ'),\n",
      " ('진짜', 'MAG')]\n"
     ]
    }
   ],
   "source": [
    "pprint(kkma.pos(u'매칭시스템 개선좀 해라 일 안하냐 진짜'))"
   ]
  },
  {
   "cell_type": "code",
   "execution_count": 17,
   "metadata": {
    "collapsed": true
   },
   "outputs": [],
   "source": [
    "from konlpy.tag import Hannanum"
   ]
  },
  {
   "cell_type": "code",
   "execution_count": 18,
   "metadata": {
    "collapsed": true
   },
   "outputs": [],
   "source": [
    "hannanum = Hannanum()"
   ]
  },
  {
   "cell_type": "code",
   "execution_count": 19,
   "metadata": {},
   "outputs": [
    {
     "name": "stdout",
     "output_type": "stream",
     "text": [
      "[('매칭시스템', 'N'), ('개선좀', 'N'), ('해', 'N'), ('이', 'J'), ('라', 'E'), ('일', 'N'), ('안하', 'N'), ('이', 'J'), ('냐', 'E'), ('진짜', 'M')]\n"
     ]
    }
   ],
   "source": [
    "print(hannanum.pos(u'매칭시스템 개선좀 해라 일 안하냐 진짜'))"
   ]
  },
  {
   "cell_type": "code",
   "execution_count": 20,
   "metadata": {},
   "outputs": [
    {
     "name": "stdout",
     "output_type": "stream",
     "text": [
      "[('빠대', 'N'), ('도', 'J'), ('거지', 'N'), ('같', 'X'), ('고', 'E'), ('이즈모단', 'N'), ('리뉴얼좀', 'N'), ('해', 'N'), ('이', 'J'), ('라', 'E'), ('영자새끼들', 'N'), ('아', 'J')]\n"
     ]
    }
   ],
   "source": [
    "print(hannanum.pos(u'빠대도 거지같고 이즈모단 리뉴얼좀 해라 영자새끼들아'))"
   ]
  }
 ],
 "metadata": {
  "kernelspec": {
   "display_name": "Python [Root]",
   "language": "python",
   "name": "Python [Root]"
  },
  "language_info": {
   "codemirror_mode": {
    "name": "ipython",
    "version": 3
   },
   "file_extension": ".py",
   "mimetype": "text/x-python",
   "name": "python",
   "nbconvert_exporter": "python",
   "pygments_lexer": "ipython3",
   "version": "3.5.3"
  }
 },
 "nbformat": 4,
 "nbformat_minor": 2
}
