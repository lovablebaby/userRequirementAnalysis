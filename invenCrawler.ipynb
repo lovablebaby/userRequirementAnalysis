{
 "cells": [
  {
   "cell_type": "markdown",
   "metadata": {},
   "source": [
    "### 라이브러리 임포트하기"
   ]
  },
  {
   "cell_type": "code",
   "execution_count": 1,
   "metadata": {
    "collapsed": true
   },
   "outputs": [],
   "source": [
    "import requests\n",
    "import re\n",
    "import time\n",
    "import csv\n",
    "from bs4 import BeautifulSoup\n",
    "from urllib.request import urlopen\n",
    "import datetime\n",
    "import pandas as pd"
   ]
  },
  {
   "cell_type": "markdown",
   "metadata": {},
   "source": [
    "### 데이터 불러오기"
   ]
  },
  {
   "cell_type": "code",
   "execution_count": 2,
   "metadata": {
    "collapsed": true
   },
   "outputs": [],
   "source": [
    "df = pd.read_csv(\"invenLinkList.txt\",header=None)"
   ]
  },
  {
   "cell_type": "code",
   "execution_count": 3,
   "metadata": {
    "scrolled": true
   },
   "outputs": [
    {
     "data": {
      "text/html": [
       "<div>\n",
       "<style>\n",
       "    .dataframe thead tr:only-child th {\n",
       "        text-align: right;\n",
       "    }\n",
       "\n",
       "    .dataframe thead th {\n",
       "        text-align: left;\n",
       "    }\n",
       "\n",
       "    .dataframe tbody tr th {\n",
       "        vertical-align: top;\n",
       "    }\n",
       "</style>\n",
       "<table border=\"1\" class=\"dataframe\">\n",
       "  <thead>\n",
       "    <tr style=\"text-align: right;\">\n",
       "      <th></th>\n",
       "      <th>0</th>\n",
       "    </tr>\n",
       "  </thead>\n",
       "  <tbody>\n",
       "    <tr>\n",
       "      <th>281048</th>\n",
       "      <td>http://www.inven.co.kr/board/hos/3903/894689?p...</td>\n",
       "    </tr>\n",
       "    <tr>\n",
       "      <th>281049</th>\n",
       "      <td>http://www.inven.co.kr/board/hos/3903/894688?p...</td>\n",
       "    </tr>\n",
       "    <tr>\n",
       "      <th>281050</th>\n",
       "      <td>http://www.inven.co.kr/board/hos/3903/894687?p...</td>\n",
       "    </tr>\n",
       "    <tr>\n",
       "      <th>281051</th>\n",
       "      <td>http://www.inven.co.kr/board/hos/3903/894686?p...</td>\n",
       "    </tr>\n",
       "    <tr>\n",
       "      <th>281052</th>\n",
       "      <td>http://www.inven.co.kr/board/hos/3903/894685?p...</td>\n",
       "    </tr>\n",
       "  </tbody>\n",
       "</table>\n",
       "</div>"
      ],
      "text/plain": [
       "                                                        0\n",
       "281048  http://www.inven.co.kr/board/hos/3903/894689?p...\n",
       "281049  http://www.inven.co.kr/board/hos/3903/894688?p...\n",
       "281050  http://www.inven.co.kr/board/hos/3903/894687?p...\n",
       "281051  http://www.inven.co.kr/board/hos/3903/894686?p...\n",
       "281052  http://www.inven.co.kr/board/hos/3903/894685?p..."
      ]
     },
     "execution_count": 3,
     "metadata": {},
     "output_type": "execute_result"
    }
   ],
   "source": [
    "df.tail()"
   ]
  },
  {
   "cell_type": "code",
   "execution_count": 4,
   "metadata": {
    "collapsed": true
   },
   "outputs": [],
   "source": [
    "# 링크를 따로 리스트화\n",
    "link_list = df.iloc[:,0].tolist()"
   ]
  },
  {
   "cell_type": "code",
   "execution_count": 5,
   "metadata": {
    "collapsed": true
   },
   "outputs": [],
   "source": [
    "# 정규표현식으로 뒤의 페이지를 제거 - 빨리 접속하기 위함\n",
    "for i in range(73,85834):\n",
    "    link_list[i] = re.sub(\"(\\?p=[\\d]+)\",\"\",link_list[i])"
   ]
  },
  {
   "cell_type": "code",
   "execution_count": 6,
   "metadata": {},
   "outputs": [
    {
     "data": {
      "text/plain": [
       "['http://www.inven.co.kr/board/hos/3903/1115328']"
      ]
     },
     "execution_count": 6,
     "metadata": {},
     "output_type": "execute_result"
    }
   ],
   "source": [
    "# 2018년의 첫글 확인\n",
    "link_list[85833:85834]"
   ]
  },
  {
   "cell_type": "code",
   "execution_count": 8,
   "metadata": {},
   "outputs": [
    {
     "data": {
      "text/plain": [
       "'1214678'"
      ]
     },
     "execution_count": 8,
     "metadata": {},
     "output_type": "execute_result"
    }
   ],
   "source": [
    "# 링크 번호 잘 갖고오는지 확인\n",
    "str(link_list[1:2])[40:47]"
   ]
  },
  {
   "cell_type": "code",
   "execution_count": 11,
   "metadata": {
    "scrolled": false
   },
   "outputs": [
    {
     "name": "stdout",
     "output_type": "stream",
     "text": [
      "10010 번째 글 2018-09-16 00:27:23.627072\n",
      "10020 번째 글 2018-09-16 00:27:38.738596\n",
      "10030 번째 글 2018-09-16 00:27:53.968454\n",
      "10040 번째 글 2018-09-16 00:28:09.234744\n",
      "10050 번째 글 2018-09-16 00:28:24.514865\n",
      "10060 번째 글 2018-09-16 00:28:39.549562\n",
      "10070 번째 글 2018-09-16 00:28:55.415475\n",
      "10080 번째 글 2018-09-16 00:29:10.750706\n",
      "10090 번째 글 2018-09-16 00:29:25.964562\n",
      "150.9947669506073\n"
     ]
    }
   ],
   "source": [
    "start = time.time()\n",
    "\n",
    "f = open('invenData_test.csv','w',encoding='utf-8',newline=\"\")\n",
    "wr = csv.writer(f)\n",
    "\n",
    "for i in range(10001, 10100):\n",
    "    # 파싱\n",
    "    html = requests.get(link_list[i]).text\n",
    "    soup = BeautifulSoup(html, 'html.parser')\n",
    "    date = soup.find(\"div\",{\"class\" : \"articleDate\"})\n",
    "    \n",
    "    # 삭제된 글 때문에 date여부로 먼저 가름\n",
    "    if date == None:\n",
    "        pass\n",
    "    else:\n",
    "        \n",
    "        # 날짜 가져오기\n",
    "        dates = date.get_text()\n",
    "        \n",
    "        # 글 번호 가져오기\n",
    "        link_ids = str(link_list[i:i+1])[40:47]\n",
    "\n",
    "        # 제목 가져오기\n",
    "        titles = soup.find(\"div\",{\"class\":\"articleTitle\"}).get_text()\n",
    "        titles = titles.replace(\"\\n\",\"\")\n",
    "\n",
    "        # 내용 가져오기\n",
    "        contents = soup.find(\"div\",{\"id\" : \"powerbbsContent\"}).get_text()\n",
    "        contents = contents.replace(\"\\n\",\"\")\n",
    "\n",
    "        # 유저 아이디 갖고오기\n",
    "    # user_ids = soup.find(\"div\",{\"class\":\"articleWriter\"}).get_text()\n",
    "    # user_ids = user_ids[1:]\n",
    "    \n",
    "        time.sleep(1)\n",
    "    \n",
    "        wr.writerow([link_ids, dates, titles, contents])\n",
    "        # 잘 긁고 있는지 주기마다 프린팅\n",
    "        if i % 10 == 0:\n",
    "            print(i,\"번째 글\", datetime.datetime.now())\n",
    "\n",
    "    \n",
    "f.close()\n",
    "\n",
    "end = time.time()\n",
    "print(end - start)"
   ]
  },
  {
   "cell_type": "code",
   "execution_count": null,
   "metadata": {},
   "outputs": [],
   "source": [
    "dates"
   ]
  },
  {
   "cell_type": "code",
   "execution_count": null,
   "metadata": {
    "collapsed": true
   },
   "outputs": [],
   "source": [
    "df1 = pd.read_csv(\"invenData.csv\",header=None, encoding='utf-8')"
   ]
  },
  {
   "cell_type": "code",
   "execution_count": null,
   "metadata": {
    "scrolled": true
   },
   "outputs": [],
   "source": [
    "df1.tail(10)"
   ]
  },
  {
   "cell_type": "code",
   "execution_count": null,
   "metadata": {},
   "outputs": [],
   "source": [
    "contents"
   ]
  }
 ],
 "metadata": {
  "kernelspec": {
   "display_name": "Python [Root]",
   "language": "python",
   "name": "Python [Root]"
  },
  "language_info": {
   "codemirror_mode": {
    "name": "ipython",
    "version": 3
   },
   "file_extension": ".py",
   "mimetype": "text/x-python",
   "name": "python",
   "nbconvert_exporter": "python",
   "pygments_lexer": "ipython3",
   "version": "3.5.3"
  }
 },
 "nbformat": 4,
 "nbformat_minor": 2
}
